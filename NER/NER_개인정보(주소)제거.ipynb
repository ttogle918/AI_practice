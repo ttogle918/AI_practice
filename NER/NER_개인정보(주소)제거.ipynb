{
  "nbformat": 4,
  "nbformat_minor": 0,
  "metadata": {
    "colab": {
      "provenance": [],
      "include_colab_link": true
    },
    "kernelspec": {
      "name": "python3",
      "display_name": "Python 3"
    },
    "language_info": {
      "name": "python"
    }
  },
  "cells": [
    {
      "cell_type": "markdown",
      "metadata": {
        "id": "view-in-github",
        "colab_type": "text"
      },
      "source": [
        "<a href=\"https://colab.research.google.com/github/ttogle918/AI_practice/blob/main/NER/NER_%EA%B0%9C%EC%9D%B8%EC%A0%95%EB%B3%B4(%EC%A3%BC%EC%86%8C)%EC%A0%9C%EA%B1%B0.ipynb\" target=\"_parent\"><img src=\"https://colab.research.google.com/assets/colab-badge.svg\" alt=\"Open In Colab\"/></a>"
      ]
    },
    {
      "cell_type": "code",
      "source": [
        "!pip install transformers"
      ],
      "metadata": {
        "colab": {
          "base_uri": "https://localhost:8080/"
        },
        "id": "vqpL6KO-g92p",
        "outputId": "87c277ad-f86e-4756-c1a2-79069966d9c9"
      },
      "execution_count": null,
      "outputs": [
        {
          "output_type": "stream",
          "name": "stdout",
          "text": [
            "Looking in indexes: https://pypi.org/simple, https://us-python.pkg.dev/colab-wheels/public/simple/\n",
            "Requirement already satisfied: transformers in /usr/local/lib/python3.8/dist-packages (4.26.0)\n",
            "Requirement already satisfied: pyyaml>=5.1 in /usr/local/lib/python3.8/dist-packages (from transformers) (6.0)\n",
            "Requirement already satisfied: tqdm>=4.27 in /usr/local/lib/python3.8/dist-packages (from transformers) (4.64.1)\n",
            "Requirement already satisfied: requests in /usr/local/lib/python3.8/dist-packages (from transformers) (2.25.1)\n",
            "Requirement already satisfied: filelock in /usr/local/lib/python3.8/dist-packages (from transformers) (3.9.0)\n",
            "Requirement already satisfied: regex!=2019.12.17 in /usr/local/lib/python3.8/dist-packages (from transformers) (2022.6.2)\n",
            "Requirement already satisfied: tokenizers!=0.11.3,<0.14,>=0.11.1 in /usr/local/lib/python3.8/dist-packages (from transformers) (0.13.2)\n",
            "Requirement already satisfied: numpy>=1.17 in /usr/local/lib/python3.8/dist-packages (from transformers) (1.21.6)\n",
            "Requirement already satisfied: packaging>=20.0 in /usr/local/lib/python3.8/dist-packages (from transformers) (23.0)\n",
            "Requirement already satisfied: huggingface-hub<1.0,>=0.11.0 in /usr/local/lib/python3.8/dist-packages (from transformers) (0.12.0)\n",
            "Requirement already satisfied: typing-extensions>=3.7.4.3 in /usr/local/lib/python3.8/dist-packages (from huggingface-hub<1.0,>=0.11.0->transformers) (4.4.0)\n",
            "Requirement already satisfied: chardet<5,>=3.0.2 in /usr/local/lib/python3.8/dist-packages (from requests->transformers) (4.0.0)\n",
            "Requirement already satisfied: certifi>=2017.4.17 in /usr/local/lib/python3.8/dist-packages (from requests->transformers) (2022.12.7)\n",
            "Requirement already satisfied: urllib3<1.27,>=1.21.1 in /usr/local/lib/python3.8/dist-packages (from requests->transformers) (1.24.3)\n",
            "Requirement already satisfied: idna<3,>=2.5 in /usr/local/lib/python3.8/dist-packages (from requests->transformers) (2.10)\n"
          ]
        }
      ]
    },
    {
      "cell_type": "markdown",
      "source": [
        "[monologg pipeline git](https://github.com/monologg/KoELECTRA-Pipeline)"
      ],
      "metadata": {
        "id": "K3ekUM_1nKky"
      }
    },
    {
      "cell_type": "markdown",
      "source": [
        "### \"monologg/koelectra-base-v3-naver-ner\""
      ],
      "metadata": {
        "id": "-S-B4GaLo1cq"
      }
    },
    {
      "cell_type": "code",
      "source": [
        "def get_entity_per_word(str_dic_list) :\n",
        "  result_li = []\n",
        "  for dic_list in str_dic_list :\n",
        "    result_li.append(get_location_index(dic_list))\n",
        "  return result_li\n",
        "\n",
        "def get_location_index(dic_list) :\n",
        "  if len(dic_list) == 0 :\n",
        "    return []\n",
        "  start_idx, end_idx = -3, -3\n",
        "  isLoc = False\n",
        "  ret_list = []   # stack ==> .pop()\n",
        "  word = ''\n",
        "\n",
        "  for dic in dic_list :\n",
        "    # 이어질 때\n",
        "    if end_idx + 2  >= dic['start'] :    # 띄어쓰기, 마침표 때문에 +2까지 허용\n",
        "      end_idx = dic['end']    # end index로 문장 길이 파악\n",
        "      word += dic['word']\n",
        "      if dic['entity'] == 'LOC-B' :\n",
        "        isLoc = True\n",
        "\n",
        "    else :    # 이어지지 않을 때\n",
        "      # 이전 개체가 loc이라면 저장\n",
        "      if isLoc == True :\n",
        "        ret_list.append([start_idx, end_idx, word])\n",
        "        isLoc = False\n",
        "\n",
        "      start_idx = dic['start']\n",
        "      end_idx = dic['end']\n",
        "      word = dic['word']\n",
        "      \n",
        "      if dic['entity'] == 'LOC-B' :\n",
        "        isLoc = True\n",
        "  if isLoc == True :\n",
        "    ret_list.append([start_idx, end_idx, word]) \n",
        "  return ret_list \n",
        "  \n",
        "def replace_location(sentences, loc_li) :\n",
        "  for i, locations in enumerate(loc_li) :\n",
        "    if len(locations) == 0 :\n",
        "      continue\n",
        "    while len(locations) > 0 :\n",
        "      start_idx, end_idx, word = locations.pop()\n",
        "      sentences[i] = sentences[i][:start_idx] + '(주소)' + sentences[i][end_idx:]\n",
        "  return sentences"
      ],
      "metadata": {
        "id": "Tkg-CKZa1CbW"
      },
      "execution_count": null,
      "outputs": []
    },
    {
      "cell_type": "code",
      "source": [
        "from transformers import ElectraTokenizer, ElectraForTokenClassification\n",
        "# from ner_pipeline import NerPipeline\n",
        "from transformers import pipeline\n",
        "from pprint import pprint\n",
        "\n",
        "model_name = \"monologg/koelectra-base-v3-naver-ner\"\n",
        "\n",
        "# tokenizer = ElectraTokenizer.from_pretrained(\"monologg/koelectra-small-finetuned-naver-ner\")\n",
        "# model = ElectraForTokenClassification.from_pretrained(\"monologg/koelectra-small-finetuned-naver-ner\")\n",
        "\n",
        "ner = pipeline(model=model_name)\n",
        "\n",
        "# pprint(ner(\"2009년 7월 FC서울을 떠나 잉글랜드 프리미어리그 볼턴 원더러스로 이적한 이청용은 크리스탈 팰리스와 독일 분데스리가2 VfL 보훔을 거쳐 지난 3월 K리그로 컴백했다. 행선지는 서울이 아닌 울산이었다\"))"
      ],
      "metadata": {
        "id": "mP3U-cDYotFR"
      },
      "execution_count": null,
      "outputs": []
    },
    {
      "cell_type": "markdown",
      "source": [
        "![image.png](data:image/png;base64,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)"
      ],
      "metadata": {
        "id": "4vTAV2XX8YtA"
      }
    },
    {
      "cell_type": "code",
      "source": [
        "# 220(숫자 지번) 인식못함, 단독 주택 인식못함\n",
        "data = \"\"\"\n",
        "서울특별시 용산구 후암로16가길 4(후암동, 그랜드행남아파트)\n",
        "희희 당첨 돼서 기분이 좋네용 ㅎㅂㅎ\n",
        "주소는! 제주특별자치도 제주시 가가읍 고고로 000 단독주택입니다! 진짜 하이 너무 이뻐여ㅠㅠㅠㅠㅠ 어떤 앱(?)으로 만드시는지 질문해도 되나여??\n",
        "010 0000 1111 오레오요!!성생님 당첨 안됐는데도 과자 감사해요!\n",
        "생일 추카 이벵트 까까 오레오로 부탁드리겠슴미다!!전번-010-7777-1111다시 한번 생신 추카드림미다!!\n",
        "저저!! 참여했어요!! 허쉬 드링크요ㅠㅠ!! 진쨔 감사합미댜!!\n",
        "헐루ㅜㅜㅜ제가 제일 많이 모았구뇨...!뽑아주셔서 감사해요ㅜㅜㅜㅜ저 내일 현장체험학습으로 동물원가는데...갑자기 뉴스에서 비온다고 하길래...애들한테 알려줬더니...다행히도 내일 오후12시에서 1시 정도에 비가 온다하더라구용(12시에 끝납니당너무나도 다행이에요...!!ㅜㅜㅜ아!그리구 면담숙제 때문에이따가 면담 질문 보낼게용~그러면 다음 질답을....\n",
        "앜ㅋㅋㅋㅋㅋㅋㅋㅋㅋㅋㅋㅋㅋㅋㅋㅋㅋㅋㅋㅋㅋㅋㅋㅋㅋㅋㅋㅋㅋㅋㅋㅋㅋㅋㅋ아 진짜 이거 캡쳐하고 5분동언 계속 웃었어요 ㅋㅋㅌㅋㅋㅋㅋㅋㅋㅋㅋㅋㅌㅋㅋㅋㅌㅋ혼자 보기 너무 아깝네요 ㅋㅋㅋㅋㅋㅋㅋㅋㅋㅋㅋㅋㅋ\n",
        "진심으로 살면서 몇안되는 당첨에 제가 이르케 되버리다니ㅠㅠ쌤이라서 하는 말인데 사실 저 오늘 개학하고 학교갔는데애들하고도 반하고도 적응 못해서 겉도느라 엄청 속상했는데오늘 이케 당첨이 되니까 ㅠㅠ 속상했던거 다 까먹은거 같애여♡암튼 ㅎㅎ 주소제주특별자치도 제주시 가가읍 기기로 111 입니다!\n",
        "상품은 이디야 마스카포네 티라미슈로 해 주시면 감사하겠습니다ㅜㅜ와ㅏㅏㅏ전번-010-7777-1111\n",
        "흑ㅜㅜ 바보같이 당첨되서 좋아하기만 하구 주소는 안썼네용.. 송파구 동남로 300-0번지 9201호 입니더..\n",
        "010 4444 5555 이에요 이벵 당첨자 입니다\n",
        "01045678910 입니다\n",
        "이벤트당첨 되서 왔습니다!!연락처: 010-3333-2828\n",
        "이벵 당첨된 온리원에영뭐가 당첨된지 기억도 안나욬ㅋㅋㅋㅋㅋㅋㅋ다시 보니까 사회적 거리두기네용010-9999-6666기대되요><\n",
        "선생님 이벵에 당첨됬어유후 전번 010 6666 3333 입니다! 오늘도 좋은 하루 되세요!\n",
        "호호호 제가 1등이라니요~!!!!넘 감동입니댜 큨ㅋㅋ큐 ㅋㅋㅋ찌니쌤 넘 감사드려용~^^주소는 서울시 광진구 광나루로 00길 99 이랍니당~아 혹시 몰라서 전번은 010-7777-9999 이옵니당!!!!이번에 국어가 2개나 나뉘어 져서 제가 열공을 했다라도 금방 따라잡힐 것 같아요 ㅋㅋㅋ이번에 1,3단원 나가는데 지금 모음자음 체계표 외우라고 해서 열공하는 중이에욤!!!히힣찌니쌤 사룽합니덩 ㅋㅋㅋ(지니쌤 고등강의도 빨리 들어보구 싶어용!! 재밌을 것 같다라구요 ㅋㅋㅋ 이번에 고등 준비하면서 찾아봤는데 지니쌤이 똬악!!!! 바로 국어는 지니쌤으로 갑니다!!ㅋㅋㅋ)\n",
        "\"\"\"\n",
        "data = data.split('\\n')\n",
        "replace_location(data, get_entity_per_word(ner(data)))"
      ],
      "metadata": {
        "colab": {
          "base_uri": "https://localhost:8080/"
        },
        "id": "WKWRPoNf3ILX",
        "outputId": "a39251a5-4657-4a1f-c461-b8209c5dcc82"
      },
      "execution_count": null,
      "outputs": [
        {
          "output_type": "stream",
          "name": "stderr",
          "text": [
            "Asking to truncate to max_length but no maximum length is provided and the model has no predefined maximum length. Default to no truncation.\n"
          ]
        },
        {
          "output_type": "execute_result",
          "data": {
            "text/plain": [
              "['',\n",
              " '(주소))',\n",
              " '희희 당첨 돼서 기분이 좋네용 ㅎㅂㅎ',\n",
              " '주소는! (주소) 220 단독주택입니다! 진짜 하이 너무 이뻐여ㅠㅠㅠㅠㅠ 어떤 앱(?)으로 만드시는지 질문해도 되나여??',\n",
              " '010 9286 6806 오레오요!!성생님 당첨 안됐는데도 과자 감사해요!',\n",
              " '생일 추카 이벵트 까까 오레오로 부탁드리겠슴미다!!전번-010-7579-1432다시 한번 생신 추카드림미다!!',\n",
              " '저저!! 참여했어요!! 허쉬 드링크요ㅠㅠ!! 진쨔 감사합미댜!!',\n",
              " '헐루ㅜㅜㅜ제가 제일 많이 모았구뇨...!뽑아주셔서 감사해요ㅜㅜㅜㅜ저 내일 현장체험학습으로 동물원가는데...갑자기 뉴스에서 비온다고 하길래...애들한테 알려줬더니...다행히도 내일 오후12시에서 1시 정도에 비가 온다하더라구용(12시에 끝납니당너무나도 다행이에요...!!ㅜㅜㅜ아!그리구 면담숙제 때문에이따가 면담 질문 보낼게용~그러면 다음 질답을....',\n",
              " '앜ㅋㅋㅋㅋㅋㅋㅋㅋㅋㅋㅋㅋㅋㅋㅋㅋㅋㅋㅋㅋㅋㅋㅋㅋㅋㅋㅋㅋㅋㅋㅋㅋㅋㅋㅋ아 진짜 이거 캡쳐하고 5분동언 계속 웃었어요 ㅋㅋㅌㅋㅋㅋㅋㅋㅋㅋㅋㅋㅌㅋㅋㅋㅌㅋ혼자 보기 너무 아깝네요 ㅋㅋㅋㅋㅋㅋㅋㅋㅋㅋㅋㅋㅋ',\n",
              " '진심으로 살면서 몇안되는 당첨에 제가 이르케 되버리다니ㅠㅠ쌤이라서 하는 말인데 사실 저 오늘 개학하고 학교갔는데애들하고도 반하고도 적응 못해서 겉도느라 엄청 속상했는데오늘 이케 당첨이 되니까 ㅠㅠ 속상했던거 다 까먹은거 같애여♡암튼 ㅎㅎ (주소) 입니다!',\n",
              " '상품은 이디야 마스카포네 티라미슈로 해 주시면 감사하겠습니다ㅜㅜ와ㅏㅏㅏ전번-010-7579-1432',\n",
              " '흑ㅜㅜ 바보같이 당첨되서 좋아하기만 하구 주소는 안썼네용.. (주소)번지 201호 입니더..',\n",
              " '010 4127 5988 이에요 이벵 당첨자 입니다',\n",
              " '01048289378 입니다',\n",
              " '이벤트당첨 되서 왔습니다!!연락처: 010-3860-2828',\n",
              " '이벵 당첨된 오민서에영뭐가 당첨된지 기억도 안나욬ㅋㅋㅋㅋㅋㅋㅋ다시 보니까 사회적 거리두기네용010-9286-6806기대되요><',\n",
              " '선생님 이벵에 당첨됬어유후 전번 010 6505 3660 입니다! 오늘도 좋은 하루 되세요!',\n",
              " '호호호 제가 1등이라니요~!!!!넘 감동입니댜 큨ㅋㅋ큐 ㅋㅋㅋ찌니쌤 넘 감사드려용~^^주소는 (주소)길 41 이랍니당~아 혹시 몰라서 전번은 010-7119-9708 이옵니당!!!!이번에 국어가 2개나 나뉘어 져서 제가 열공을 했다라도 금방 따라잡힐 것 같아요 ㅋㅋㅋ이번에 1,3단원 나가는데 지금 모음자음 체계표 외우라고 해서 열공하는 중이에욤!!!히힣찌니쌤 사룽합니덩 ㅋㅋㅋ(지니쌤 고등강의도 빨리 들어보구 싶어용!! 재밌을 것 같다라구요 ㅋㅋㅋ 이번에 고등 준비하면서 찾아봤는데 지니쌤이 똬악!!!! 바로 국어는 지니쌤으로 갑니다!!ㅋㅋㅋ)',\n",
              " '']"
            ]
          },
          "metadata": {},
          "execution_count": 6
        }
      ]
    },
    {
      "cell_type": "code",
      "source": [
        "ner = pipeline(model=model_name, )\n",
        "data = \"\"\"(주소)(후암동, 그랜드행남아파트)\n",
        "희희 당첨 돼서 기분이 좋네용 ㅎㅂㅎ\n",
        "주소는! (주소)단독주택입니다! 진짜 하이 너무 이뻐여ㅠㅠㅠㅠㅠ 어떤 앱(?)으로 만드시는지 질문해도 되나여??\n",
        "(휴대폰번호) 오레오요!!성생님 당첨 안됐는데도 과자 감사해요!\n",
        "생일 추카 이벵트 까까 오레오로 부탁드리겠슴미다!!전번-(휴대폰번호)다시 한번 생신 추카드림미다!!\n",
        "저저!! 참여했어요!! 허쉬 드링크요ㅠㅠ!! 진쨔 감사합미댜!!\n",
        "헐루ㅜㅜㅜ제가 제일 많이 모았구뇨...!뽑아주셔서 감사해요ㅜㅜㅜㅜ저 내일 현장체험학습으로 동물원가는데...갑자기 뉴스에서 비온다고 하길래...애들한테 알려줬더니...다행히도 내일 오후12시에서 1시 정도에 비가 온다하더라구용(12시에 끝납니당너무나도 다행이에요...!!ㅜㅜㅜ아!그리구 면담숙제 때문에이따가 면담 질문 보낼게용~그러면 다음 질답을....\n",
        "앜ㅋㅋㅋㅋㅋㅋㅋㅋㅋㅋㅋㅋㅋㅋㅋㅋㅋㅋㅋㅋㅋㅋㅋㅋㅋㅋㅋㅋㅋㅋㅋㅋㅋㅋㅋ아 진짜 이거 캡쳐하고 5분동언 계속 웃었어요 ㅋㅋㅌㅋㅋㅋㅋㅋㅋㅋㅋㅋㅌㅋㅋㅋㅌㅋ혼자 보기 너무 아깝네요 ㅋㅋㅋㅋㅋㅋㅋㅋㅋㅋㅋㅋㅋ\n",
        "진심으로 살면서 몇안되는 당첨에 제가 이르케 되버리다니ㅠㅠ쌤이라서 하는 말인데 사실 저 오늘 개학하고 학교갔는데애들하고도 반하고도 적응 못해서 겉도느라 엄청 속상했는데오늘 이케 당첨이 되니까 ㅠㅠ 속상했던거 다 까먹은거 같애여♡암튼 ㅎㅎ (주소)입니다!\n",
        "상품은 이디야 마스카포네 티라미슈로 해 주시면 감사하겠습니다ㅜㅜ와ㅏㅏㅏ전번-(휴대폰번호)\n",
        "흑ㅜㅜ 바보같이 당첨되서 좋아하기만 하구 주소는 안썼네용.. (주소)번지 201호 입니더..\n",
        "(휴대폰번호) 이에요 이벵 당첨자 입니다\n",
        "(휴대폰번호) 입니다\n",
        "이벤트당첨 되서 왔습니다!!연락처: (휴대폰번호)\n",
        "이벵 당첨된 오민서에영뭐가 당첨된지 기억도 안나욬ㅋㅋㅋㅋㅋㅋㅋ다시 보니까 사회적 거리두기네용(휴대폰번호)기대되요><\n",
        "선생님 이벵에 당첨됬어유후 전번 (휴대폰번호) 입니다! 오늘도 좋은 하루 되세요!\n",
        "호호호 제가 1등이라니요~!!!!넘 감동입니댜 큨ㅋㅋ큐 ㅋㅋㅋ찌니쌤 넘 감사드려용~^^주소는 (주소)길 41 이랍니당~아 혹시 몰라서 전번은 (휴대폰번호) 이옵니당!!!!이번에 국어가 2개나 나뉘어 져서 제가 열공을 했다라도 금방 따라잡힐 것 같아요 ㅋㅋㅋ이번에 1,3단원 나가는데 지금 모음자음 체계표 외우라고 해서 열공하는 중이에욤!!!히힣찌니쌤 사룽합니덩 ㅋㅋㅋ(지니쌤 고등강의도 빨리 들어보구 싶어용!! 재밌을 것 같다라구요 ㅋㅋㅋ 이번에 고등 준비하면서 찾아봤는데 지니쌤이 똬악!!!! 바로 국어는 지니쌤으로 갑니다!!ㅋㅋㅋ)\n",
        "\"\"\"\n",
        "data = data.split('\\n')\n",
        "# pprint(ner([\"서울특별시 용산구 후암로16가길 4(후암동, 그랜드행남아파트)\", \"희희 당첨 돼서 기분이 좋네용 ㅎㅂㅎ\"]))\n",
        "data"
      ],
      "metadata": {
        "colab": {
          "base_uri": "https://localhost:8080/"
        },
        "id": "0xpTHKUqyrNo",
        "outputId": "9d76659c-9c82-4f41-c5d9-0505e9ea45c8"
      },
      "execution_count": null,
      "outputs": [
        {
          "output_type": "execute_result",
          "data": {
            "text/plain": [
              "['(주소)(후암동, 그랜드행남아파트)',\n",
              " '희희 당첨 돼서 기분이 좋네용 ㅎㅂㅎ',\n",
              " '주소는! (주소)단독주택입니다! 진짜 하이 너무 이뻐여ㅠㅠㅠㅠㅠ 어떤 앱(?)으로 만드시는지 질문해도 되나여??',\n",
              " '(휴대폰번호) 오레오요!!성생님 당첨 안됐는데도 과자 감사해요!',\n",
              " '생일 추카 이벵트 까까 오레오로 부탁드리겠슴미다!!전번-(휴대폰번호)다시 한번 생신 추카드림미다!!',\n",
              " '저저!! 참여했어요!! 허쉬 드링크요ㅠㅠ!! 진쨔 감사합미댜!!',\n",
              " '헐루ㅜㅜㅜ제가 제일 많이 모았구뇨...!뽑아주셔서 감사해요ㅜㅜㅜㅜ저 내일 현장체험학습으로 동물원가는데...갑자기 뉴스에서 비온다고 하길래...애들한테 알려줬더니...다행히도 내일 오후12시에서 1시 정도에 비가 온다하더라구용(12시에 끝납니당너무나도 다행이에요...!!ㅜㅜㅜ아!그리구 면담숙제 때문에이따가 면담 질문 보낼게용~그러면 다음 질답을....',\n",
              " '앜ㅋㅋㅋㅋㅋㅋㅋㅋㅋㅋㅋㅋㅋㅋㅋㅋㅋㅋㅋㅋㅋㅋㅋㅋㅋㅋㅋㅋㅋㅋㅋㅋㅋㅋㅋ아 진짜 이거 캡쳐하고 5분동언 계속 웃었어요 ㅋㅋㅌㅋㅋㅋㅋㅋㅋㅋㅋㅋㅌㅋㅋㅋㅌㅋ혼자 보기 너무 아깝네요 ㅋㅋㅋㅋㅋㅋㅋㅋㅋㅋㅋㅋㅋ',\n",
              " '진심으로 살면서 몇안되는 당첨에 제가 이르케 되버리다니ㅠㅠ쌤이라서 하는 말인데 사실 저 오늘 개학하고 학교갔는데애들하고도 반하고도 적응 못해서 겉도느라 엄청 속상했는데오늘 이케 당첨이 되니까 ㅠㅠ 속상했던거 다 까먹은거 같애여♡암튼 ㅎㅎ (주소)입니다!',\n",
              " '상품은 이디야 마스카포네 티라미슈로 해 주시면 감사하겠습니다ㅜㅜ와ㅏㅏㅏ전번-(휴대폰번호)',\n",
              " '흑ㅜㅜ 바보같이 당첨되서 좋아하기만 하구 주소는 안썼네용.. (주소)번지 201호 입니더..',\n",
              " '(휴대폰번호) 이에요 이벵 당첨자 입니다',\n",
              " '(휴대폰번호) 입니다',\n",
              " '이벤트당첨 되서 왔습니다!!연락처: (휴대폰번호)',\n",
              " '이벵 당첨된 오민서에영뭐가 당첨된지 기억도 안나욬ㅋㅋㅋㅋㅋㅋㅋ다시 보니까 사회적 거리두기네용(휴대폰번호)기대되요><',\n",
              " '선생님 이벵에 당첨됬어유후 전번 (휴대폰번호) 입니다! 오늘도 좋은 하루 되세요!',\n",
              " '호호호 제가 1등이라니요~!!!!넘 감동입니댜 큨ㅋㅋ큐 ㅋㅋㅋ찌니쌤 넘 감사드려용~^^주소는 (주소)길 41 이랍니당~아 혹시 몰라서 전번은 (휴대폰번호) 이옵니당!!!!이번에 국어가 2개나 나뉘어 져서 제가 열공을 했다라도 금방 따라잡힐 것 같아요 ㅋㅋㅋ이번에 1,3단원 나가는데 지금 모음자음 체계표 외우라고 해서 열공하는 중이에욤!!!히힣찌니쌤 사룽합니덩 ㅋㅋㅋ(지니쌤 고등강의도 빨리 들어보구 싶어용!! 재밌을 것 같다라구요 ㅋㅋㅋ 이번에 고등 준비하면서 찾아봤는데 지니쌤이 똬악!!!! 바로 국어는 지니쌤으로 갑니다!!ㅋㅋㅋ)',\n",
              " '']"
            ]
          },
          "metadata": {},
          "execution_count": 7
        }
      ]
    },
    {
      "cell_type": "markdown",
      "source": [
        "### \"monologg/koelectra-small-finetuned-naver-ner\""
      ],
      "metadata": {
        "id": "NSO6Dti0o5TK"
      }
    },
    {
      "cell_type": "code",
      "source": [
        "from transformers import ElectraTokenizer, ElectraForTokenClassification\n",
        "from transformers import pipeline\n",
        "from pprint import pprint\n",
        "\n",
        "model_name = \"monologg/koelectra-small-finetuned-naver-ner\"\n",
        "\n",
        "ner = pipeline(model=model_name)"
      ],
      "metadata": {
        "id": "UH9XU19znC5L"
      },
      "execution_count": null,
      "outputs": []
    },
    {
      "cell_type": "code",
      "source": [
        "#  이디야 마스카포네 티라미슈 ==> 주소로 됨\n",
        "data = \"\"\"\n",
        "서울특별시 용산구 후암로16가길 4(후암동, 그랜드행남아파트)\n",
        "희희 당첨 돼서 기분이 좋네용 ㅎㅂㅎ\n",
        "주소는! 제주특별자치도 제주시 가가읍 고고로 000 단독주택입니다! 진짜 하이 너무 이뻐여ㅠㅠㅠㅠㅠ 어떤 앱(?)으로 만드시는지 질문해도 되나여??\n",
        "010 0000 1111 오레오요!!성생님 당첨 안됐는데도 과자 감사해요!\n",
        "생일 추카 이벵트 까까 오레오로 부탁드리겠슴미다!!전번-010-7777-1111다시 한번 생신 추카드림미다!!\n",
        "저저!! 참여했어요!! 허쉬 드링크요ㅠㅠ!! 진쨔 감사합미댜!!\n",
        "헐루ㅜㅜㅜ제가 제일 많이 모았구뇨...!뽑아주셔서 감사해요ㅜㅜㅜㅜ저 내일 현장체험학습으로 동물원가는데...갑자기 뉴스에서 비온다고 하길래...애들한테 알려줬더니...다행히도 내일 오후12시에서 1시 정도에 비가 온다하더라구용(12시에 끝납니당너무나도 다행이에요...!!ㅜㅜㅜ아!그리구 면담숙제 때문에이따가 면담 질문 보낼게용~그러면 다음 질답을....\n",
        "앜ㅋㅋㅋㅋㅋㅋㅋㅋㅋㅋㅋㅋㅋㅋㅋㅋㅋㅋㅋㅋㅋㅋㅋㅋㅋㅋㅋㅋㅋㅋㅋㅋㅋㅋㅋ아 진짜 이거 캡쳐하고 5분동언 계속 웃었어요 ㅋㅋㅌㅋㅋㅋㅋㅋㅋㅋㅋㅋㅌㅋㅋㅋㅌㅋ혼자 보기 너무 아깝네요 ㅋㅋㅋㅋㅋㅋㅋㅋㅋㅋㅋㅋㅋ\n",
        "진심으로 살면서 몇안되는 당첨에 제가 이르케 되버리다니ㅠㅠ쌤이라서 하는 말인데 사실 저 오늘 개학하고 학교갔는데애들하고도 반하고도 적응 못해서 겉도느라 엄청 속상했는데오늘 이케 당첨이 되니까 ㅠㅠ 속상했던거 다 까먹은거 같애여♡암튼 ㅎㅎ 주소제주특별자치도 제주시 가가읍 기기로 111 입니다!\n",
        "상품은 이디야 마스카포네 티라미슈로 해 주시면 감사하겠습니다ㅜㅜ와ㅏㅏㅏ전번-010-7777-1111\n",
        "흑ㅜㅜ 바보같이 당첨되서 좋아하기만 하구 주소는 안썼네용.. 송파구 동남로 300-0번지 9201호 입니더..\n",
        "010 4444 5555 이에요 이벵 당첨자 입니다\n",
        "01045678910 입니다\n",
        "이벤트당첨 되서 왔습니다!!연락처: 010-3333-2828\n",
        "이벵 당첨된 온리원에영뭐가 당첨된지 기억도 안나욬ㅋㅋㅋㅋㅋㅋㅋ다시 보니까 사회적 거리두기네용010-9999-6666기대되요><\n",
        "선생님 이벵에 당첨됬어유후 전번 010 6666 3333 입니다! 오늘도 좋은 하루 되세요!\n",
        "호호호 제가 1등이라니요~!!!!넘 감동입니댜 큨ㅋㅋ큐 ㅋㅋㅋ찌니쌤 넘 감사드려용~^^주소는 서울시 광진구 광나루로 00길 99 이랍니당~아 혹시 몰라서 전번은 010-7777-9999 이옵니당!!!!이번에 국어가 2개나 나뉘어 져서 제가 열공을 했다라도 금방 따라잡힐 것 같아요 ㅋㅋㅋ이번에 1,3단원 나가는데 지금 모음자음 체계표 외우라고 해서 열공하는 중이에욤!!!히힣찌니쌤 사룽합니덩 ㅋㅋㅋ(지니쌤 고등강의도 빨리 들어보구 싶어용!! 재밌을 것 같다라구요 ㅋㅋㅋ 이번에 고등 준비하면서 찾아봤는데 지니쌤이 똬악!!!! 바로 국어는 지니쌤으로 갑니다!!ㅋㅋㅋ)\n",
        "\"\"\"\n",
        "\n",
        "data = data.split('\\n')\n",
        "replace_location(data, get_entity_per_word(ner(data)))"
      ],
      "metadata": {
        "colab": {
          "base_uri": "https://localhost:8080/"
        },
        "outputId": "0d63d59c-197b-4843-afa0-771bf1293670",
        "id": "OAqAQSOmDxW_"
      },
      "execution_count": null,
      "outputs": [
        {
          "output_type": "execute_result",
          "data": {
            "text/plain": [
              "['',\n",
              " '(주소))',\n",
              " '희희 당첨 돼서 기분이 좋네용 ㅎㅂㅎ',\n",
              " '주소는! (주소)주택입니다! 진짜 하이 너무 이뻐여ㅠㅠㅠㅠㅠ 어떤 앱(?)으로 만드시는지 질문해도 되나여??',\n",
              " '010 9286 6806 오레오요!!성생님 당첨 안됐는데도 과자 감사해요!',\n",
              " '생일 추카 이벵트 까까 오레오로 부탁드리겠슴미다!!전번-010-7579-1432다시 한번 생신 추카드림미다!!',\n",
              " '저저!! 참여했어요!! 허쉬 드링크요ㅠㅠ!! 진쨔 감사합미댜!!',\n",
              " '헐루ㅜㅜㅜ제가 제일 많이 모았구뇨...!뽑아주셔서 감사해요ㅜㅜㅜㅜ저 내일 현장체험학습으로 동물원가는데...갑자기 뉴스에서 비온다고 하길래...애들한테 알려줬더니...다행히도 내일 오후12시에서 1시 정도에 비가 온다하더라구용(12시에 끝납니당너무나도 다행이에요...!!ㅜㅜㅜ아!그리구 면담숙제 때문에이따가 면담 질문 보낼게용~그러면 다음 질답을....',\n",
              " '앜ㅋㅋㅋㅋㅋㅋㅋㅋㅋㅋㅋㅋㅋㅋㅋㅋㅋㅋㅋㅋㅋㅋㅋㅋㅋㅋㅋㅋㅋㅋㅋㅋㅋㅋㅋ아 진짜 이거 캡쳐하고 5분동언 계속 웃었어요 ㅋㅋㅌㅋㅋㅋㅋㅋㅋㅋㅋㅋㅌㅋㅋㅋㅌㅋ혼자 보기 너무 아깝네요 ㅋㅋㅋㅋㅋㅋㅋㅋㅋㅋㅋㅋㅋ',\n",
              " '진심으로 살면서 몇안되는 당첨에 제가 이르케 되버리다니ㅠㅠ쌤이라서 하는 말인데 사실 저 오늘 개학하고 학교갔는데애들하고도 반하고도 적응 못해서 겉도느라 엄청 속상했는데오늘 이케 당첨이 되니까 ㅠㅠ 속상했던거 다 까먹은거 같애여♡암튼 ㅎㅎ 주소제주특별자치도 (주소) 입니다!',\n",
              " '상품은 (주소)로 해 주시면 감사하겠습니다ㅜㅜ와ㅏㅏㅏ전번-010-7579-1432',\n",
              " '흑ㅜㅜ 바보같이 당첨되서 좋아하기만 하구 주소는 안썼네용.. (주소)번지 201호 입니더..',\n",
              " '010 4127 5988 이에요 이벵 당첨자 입니다',\n",
              " '01048289378 입니다',\n",
              " '이벤트당첨 되서 왔습니다!!연락처: 010-3860-2828',\n",
              " '이벵 당첨된 오민서에영뭐가 당첨된지 기억도 안나욬ㅋㅋㅋㅋㅋㅋㅋ다시 보니까 사회적 거리두기네용010-9286-6806기대되요><',\n",
              " '선생님 이벵에 당첨됬어유후 전번 010 6505 3660 입니다! 오늘도 좋은 하루 되세요!',\n",
              " '호호호 제가 1등이라니요~!!!!넘 감동입니댜 큨ㅋㅋ큐 ㅋㅋㅋ찌니쌤 넘 감사드려용~^^주소는 (주소)랍니당~아 혹시 몰라서 전번은 010-7119-9708 이옵니당!!!!이번에 국어가 2개나 나뉘어 져서 제가 열공을 했다라도 금방 따라잡힐 것 같아요 ㅋㅋㅋ이번에 1,3단원 나가는데 지금 모음자음 체계표 외우라고 해서 열공하는 중이에욤!!!히힣찌니쌤 사룽합니덩 ㅋㅋㅋ(지니쌤 고등강의도 빨리 들어보구 싶어용!! 재밌을 것 같다라구요 ㅋㅋㅋ 이번에 고등 준비하면서 찾아봤는데 지니쌤이 똬악!!!! 바로 국어는 지니쌤으로 갑니다!!ㅋㅋㅋ)',\n",
              " '']"
            ]
          },
          "metadata": {},
          "execution_count": 9
        }
      ]
    },
    {
      "cell_type": "code",
      "source": [
        "ner = pipeline(model=model_name, )\n",
        "data = \"\"\"(주소)(후암동, 그랜드행남아파트)\n",
        "희희 당첨 돼서 기분이 좋네용 ㅎㅂㅎ\n",
        "주소는! (주소)단독주택입니다! 진짜 하이 너무 이뻐여ㅠㅠㅠㅠㅠ 어떤 앱(?)으로 만드시는지 질문해도 되나여??\n",
        "(휴대폰번호) 오레오요!!성생님 당첨 안됐는데도 과자 감사해요!\n",
        "생일 추카 이벵트 까까 오레오로 부탁드리겠슴미다!!전번-(휴대폰번호)다시 한번 생신 추카드림미다!!\n",
        "저저!! 참여했어요!! 허쉬 드링크요ㅠㅠ!! 진쨔 감사합미댜!!\n",
        "헐루ㅜㅜㅜ제가 제일 많이 모았구뇨...!뽑아주셔서 감사해요ㅜㅜㅜㅜ저 내일 현장체험학습으로 동물원가는데...갑자기 뉴스에서 비온다고 하길래...애들한테 알려줬더니...다행히도 내일 오후12시에서 1시 정도에 비가 온다하더라구용(12시에 끝납니당너무나도 다행이에요...!!ㅜㅜㅜ아!그리구 면담숙제 때문에이따가 면담 질문 보낼게용~그러면 다음 질답을....\n",
        "앜ㅋㅋㅋㅋㅋㅋㅋㅋㅋㅋㅋㅋㅋㅋㅋㅋㅋㅋㅋㅋㅋㅋㅋㅋㅋㅋㅋㅋㅋㅋㅋㅋㅋㅋㅋ아 진짜 이거 캡쳐하고 5분동언 계속 웃었어요 ㅋㅋㅌㅋㅋㅋㅋㅋㅋㅋㅋㅋㅌㅋㅋㅋㅌㅋ혼자 보기 너무 아깝네요 ㅋㅋㅋㅋㅋㅋㅋㅋㅋㅋㅋㅋㅋ\n",
        "진심으로 살면서 몇안되는 당첨에 제가 이르케 되버리다니ㅠㅠ쌤이라서 하는 말인데 사실 저 오늘 개학하고 학교갔는데애들하고도 반하고도 적응 못해서 겉도느라 엄청 속상했는데오늘 이케 당첨이 되니까 ㅠㅠ 속상했던거 다 까먹은거 같애여♡암튼 ㅎㅎ (주소)입니다!\n",
        "상품은 이디야 마스카포네 티라미슈로 해 주시면 감사하겠습니다ㅜㅜ와ㅏㅏㅏ전번-(휴대폰번호)\n",
        "흑ㅜㅜ 바보같이 당첨되서 좋아하기만 하구 주소는 안썼네용.. (주소)번지 201호 입니더..\n",
        "(휴대폰번호) 이에요 이벵 당첨자 입니다\n",
        "(휴대폰번호) 입니다\n",
        "이벤트당첨 되서 왔습니다!!연락처: (휴대폰번호)\n",
        "이벵 당첨된 오민서에영뭐가 당첨된지 기억도 안나욬ㅋㅋㅋㅋㅋㅋㅋ다시 보니까 사회적 거리두기네용(휴대폰번호)기대되요><\n",
        "선생님 이벵에 당첨됬어유후 전번 (휴대폰번호) 입니다! 오늘도 좋은 하루 되세요!\n",
        "호호호 제가 1등이라니요~!!!!넘 감동입니댜 큨ㅋㅋ큐 ㅋㅋㅋ찌니쌤 넘 감사드려용~^^주소는 (주소)길 41 이랍니당~아 혹시 몰라서 전번은 (휴대폰번호) 이옵니당!!!!이번에 국어가 2개나 나뉘어 져서 제가 열공을 했다라도 금방 따라잡힐 것 같아요 ㅋㅋㅋ이번에 1,3단원 나가는데 지금 모음자음 체계표 외우라고 해서 열공하는 중이에욤!!!히힣찌니쌤 사룽합니덩 ㅋㅋㅋ(지니쌤 고등강의도 빨리 들어보구 싶어용!! 재밌을 것 같다라구요 ㅋㅋㅋ 이번에 고등 준비하면서 찾아봤는데 지니쌤이 똬악!!!! 바로 국어는 지니쌤으로 갑니다!!ㅋㅋㅋ)\n",
        "\"\"\"\n",
        "data = data.split('\\n')\n",
        "replace_location(data, get_entity_per_word(ner(data)))\n",
        "\n",
        "# pprint(ner([\"서울특별시 용산구 후암로16가길 4(후암동, 그랜드행남아파트)\", \"희희 당첨 돼서 기분이 좋네용 ㅎㅂㅎ\"]))\n",
        "data"
      ],
      "metadata": {
        "colab": {
          "base_uri": "https://localhost:8080/"
        },
        "outputId": "eb8a7a33-331a-4164-c81e-9cfef6a751a1",
        "id": "38ZTp87oDxXE"
      },
      "execution_count": null,
      "outputs": [
        {
          "output_type": "execute_result",
          "data": {
            "text/plain": [
              "['(주소)(주소))',\n",
              " '희희 당첨 돼서 기분이 좋네용 ㅎㅂㅎ',\n",
              " '주소는! (주소)단독주택입니다! 진짜 하이 너무 이뻐여ㅠㅠㅠㅠㅠ 어떤 앱(?)으로 만드시는지 질문해도 되나여??',\n",
              " '(휴대폰번호) 오레오요!!성생님 당첨 안됐는데도 과자 감사해요!',\n",
              " '생일 추카 이벵트 까까 오레오로 부탁드리겠슴미다!!전번-(휴대폰번호)다시 한번 생신 추카드림미다!!',\n",
              " '저저!! 참여했어요!! 허쉬 드링크요ㅠㅠ!! 진쨔 감사합미댜!!',\n",
              " '헐루ㅜㅜㅜ제가 제일 많이 모았구뇨...!뽑아주셔서 감사해요ㅜㅜㅜㅜ저 내일 현장체험학습으로 동물원가는데...갑자기 뉴스에서 비온다고 하길래...애들한테 알려줬더니...다행히도 내일 오후12시에서 1시 정도에 비가 온다하더라구용(12시에 끝납니당너무나도 다행이에요...!!ㅜㅜㅜ아!그리구 면담숙제 때문에이따가 면담 질문 보낼게용~그러면 다음 질답을....',\n",
              " '앜ㅋㅋㅋㅋㅋㅋㅋㅋㅋㅋㅋㅋㅋㅋㅋㅋㅋㅋㅋㅋㅋㅋㅋㅋㅋㅋㅋㅋㅋㅋㅋㅋㅋㅋㅋ아 진짜 이거 캡쳐하고 5분동언 계속 웃었어요 ㅋㅋㅌㅋㅋㅋㅋㅋㅋㅋㅋㅋㅌㅋㅋㅋㅌㅋ혼자 보기 너무 아깝네요 ㅋㅋㅋㅋㅋㅋㅋㅋㅋㅋㅋㅋㅋ',\n",
              " '진심으로 살면서 몇안되는 당첨에 제가 이르케 되버리다니ㅠㅠ쌤이라서 하는 말인데 사실 저 오늘 개학하고 학교갔는데애들하고도 반하고도 적응 못해서 겉도느라 엄청 속상했는데오늘 이케 당첨이 되니까 ㅠㅠ 속상했던거 다 까먹은거 같애여♡암튼 ㅎㅎ (주소)입니다!',\n",
              " '상품은 (주소)로 해 주시면 감사하겠습니다ㅜㅜ와ㅏㅏㅏ전번-(휴대폰번호)',\n",
              " '흑ㅜㅜ 바보같이 당첨되서 좋아하기만 하구 주소는 안썼네용.. (주소)번지 201호 입니더..',\n",
              " '(휴대폰번호) 이에요 이벵 당첨자 입니다',\n",
              " '(휴대폰번호) 입니다',\n",
              " '이벤트당첨 되서 왔습니다!!연락처: (휴대폰번호)',\n",
              " '이벵 당첨된 오민서에영뭐가 당첨된지 기억도 안나욬ㅋㅋㅋㅋㅋㅋㅋ다시 보니까 사회적 거리두기네용(휴대폰번호)기대되요><',\n",
              " '선생님 이벵에 당첨됬어유후 전번 (휴대폰번호) 입니다! 오늘도 좋은 하루 되세요!',\n",
              " '호호호 제가 1등이라니요~!!!!넘 감동입니댜 큨ㅋㅋ큐 ㅋㅋㅋ찌니쌤 넘 감사드려용~^^주소는 (주소)길 41 이랍니당~아 혹시 몰라서 전번은 (휴대폰번호) 이옵니당!!!!이번에 국어가 2개나 나뉘어 져서 제가 열공을 했다라도 금방 따라잡힐 것 같아요 ㅋㅋㅋ이번에 1,3단원 나가는데 지금 모음자음 체계표 외우라고 해서 열공하는 중이에욤!!!히힣찌니쌤 사룽합니덩 ㅋㅋㅋ(지니쌤 고등강의도 빨리 들어보구 싶어용!! 재밌을 것 같다라구요 ㅋㅋㅋ 이번에 고등 준비하면서 찾아봤는데 지니쌤이 똬악!!!! 바로 국어는 지니쌤으로 갑니다!!ㅋㅋㅋ)',\n",
              " '']"
            ]
          },
          "metadata": {},
          "execution_count": 10
        }
      ]
    },
    {
      "cell_type": "code",
      "source": [],
      "metadata": {
        "id": "KuJsEnmoJY6T"
      },
      "execution_count": null,
      "outputs": []
    }
  ]
}