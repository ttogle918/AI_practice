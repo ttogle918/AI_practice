{
  "nbformat": 4,
  "nbformat_minor": 0,
  "metadata": {
    "colab": {
      "name": "Ego-Vision 손동작 인식 AI 경진대회.ipynb",
      "provenance": [],
      "machine_shape": "hm",
      "authorship_tag": "ABX9TyNp0qBiFu1PSRS48Ykluu1F",
      "include_colab_link": true
    },
    "kernelspec": {
      "name": "python3",
      "display_name": "Python 3"
    },
    "language_info": {
      "name": "python"
    },
    "accelerator": "GPU",
    "gpuClass": "standard"
  },
  "cells": [
    {
      "cell_type": "markdown",
      "metadata": {
        "id": "view-in-github",
        "colab_type": "text"
      },
      "source": [
        "<a href=\"https://colab.research.google.com/github/ttogle918/AI_practice/blob/main/Ego_Vision_%EC%86%90%EB%8F%99%EC%9E%91_%EC%9D%B8%EC%8B%9D_AI_%EA%B2%BD%EC%A7%84%EB%8C%80%ED%9A%8C/01_vgg16_baseline.ipynb\" target=\"_parent\"><img src=\"https://colab.research.google.com/assets/colab-badge.svg\" alt=\"Open In Colab\"/></a>"
      ]
    },
    {
      "cell_type": "markdown",
      "source": [
        "# [Baseline] VGG16을 이용한 손동작 예측\n",
        "\n",
        "[[Baseline] VGG16을 이용한 손동작 예측](https://dacon.io/competitions/official/235805/codeshare/3345?page=1&dtype=recent)\n",
        "\n",
        "\n"
      ],
      "metadata": {
        "id": "0ejp6LrnG0zs"
      }
    },
    {
      "cell_type": "code",
      "execution_count": 2,
      "metadata": {
        "colab": {
          "base_uri": "https://localhost:8080/"
        },
        "id": "iIJrx2wj-EAc",
        "outputId": "4912d971-783c-4fe7-ad05-b199c6b053f0"
      },
      "outputs": [
        {
          "output_type": "stream",
          "name": "stdout",
          "text": [
            "Drive already mounted at /content/drive; to attempt to forcibly remount, call drive.mount(\"/content/drive\", force_remount=True).\n"
          ]
        }
      ],
      "source": [
        "from google.colab import drive\n",
        "drive.mount('/content/drive')"
      ]
    },
    {
      "cell_type": "code",
      "source": [
        "zip_file_path = '/content/drive/MyDrive/Colab Notebooks/dataset/dacon/EgoVision/open.zip'"
      ],
      "metadata": {
        "id": "y6jaWLHR-hQY"
      },
      "execution_count": 3,
      "outputs": []
    },
    {
      "cell_type": "markdown",
      "source": [
        "# 패키지 선언"
      ],
      "metadata": {
        "id": "70SRIvcMHIPq"
      }
    },
    {
      "cell_type": "code",
      "source": [
        "import pandas as pd\n",
        "import numpy as np\n",
        "from glob import glob\n",
        "from io import BytesIO, StringIO\n",
        "import zipfile\n",
        "\n",
        "from PIL import Image\n",
        "import cv2\n",
        "from tqdm import tqdm\n",
        "\n",
        "import os\n",
        "import shutil\n",
        "import json\n",
        "\n",
        "from sklearn.model_selection import train_test_split\n",
        "import tensorflow as tf\n",
        "from tensorflow.keras.preprocessing import image\n",
        "from tensorflow.keras.applications import VGG16\n",
        "from tensorflow.keras.layers import *\n",
        "from tensorflow.keras.models import Model\n",
        "from tensorflow.keras.optimizers import Adam\n",
        "\n",
        "# GPU 환경 설정\n",
        "import os\n",
        "os.environ[\"CUDA_VISIBLE_DEVICES\"]=\"2\"\n",
        "\n",
        "import warnings\n",
        "warnings.filterwarnings(\"ignore\")\n",
        "warnings.simplefilter('ignore')\n",
        "import matplotlib.pyplot as plt"
      ],
      "metadata": {
        "id": "5gSjUvO9GRUx"
      },
      "execution_count": 4,
      "outputs": []
    },
    {
      "cell_type": "code",
      "source": [
        "data_path = 'content'\n",
        "\n",
        "train_path = data_path + '/train'\n",
        "test_path = data_path + '/test'"
      ],
      "metadata": {
        "id": "mu6EG-K6HKoW"
      },
      "execution_count": 5,
      "outputs": []
    },
    {
      "cell_type": "code",
      "source": [
        "def get_data(s) :\n",
        "  id, actor, data, image_id = [], [], [], []\n",
        "  with zipfile.ZipFile(zip_file_path, 'r') as obj:\n",
        "    zip_namelist = obj.namelist()    # content(작업 디렉토리)에 압축 해제\n",
        "    for name in zip_namelist :\n",
        "      if name.endswith('.png') :\n",
        "        readed = obj.open(name)\n",
        "        img = Image.open(readed)\n",
        "        img = img.resize((224, 224))\n",
        "        img_arr = np.array(img)\n",
        "        arr = np.append(arr, img_arr)\n",
        "      elif name.endswith('json') :  # json\n",
        "        readed = obj.open(name)\n",
        "        js = json.load(readed)\n",
        "        length = len(js['annotations'])\n",
        "        try :\n",
        "          action = js['action']\n",
        "        except :\n",
        "          action = None\n",
        "        \n",
        "        image_id.extend([d['image_id'] for d in js['annotations']])\n",
        "        data.extend([d['data'] for d in js['annotations']])\n",
        "        id.extend([js['id']]*length)\n",
        "        actor.extend([js['actor']]*length)\n",
        "        action.extend([js['action']]*length)\n",
        "\n",
        "\n",
        "      elif name.endswith('.csv') :   # csv파일은 2가지\n",
        "        readed = obj.read(name)\n",
        "        print(name)\n",
        "        if name[-len('hand_gesture_pose.csv'):] == 'hand_gesture_pose.csv' :\n",
        "          hand_gesture = pd.read_csv(BytesIO(readed))\n",
        "        else :\n",
        "          sample_submission = pd.read_csv(BytesIO(readed))\n",
        "  answers = pd.DataFrame({'id' : id,'image_id':image_id, 'actor':actor, 'data':data})\n",
        "  return hand_gesture, sample_submission, "
      ],
      "metadata": {
        "id": "ldnC9qcLX4os"
      },
      "execution_count": null,
      "outputs": []
    },
    {
      "cell_type": "code",
      "source": [
        "arr = np.array([])\n",
        "\n",
        "with zipfile.ZipFile(zip_file_path, 'r') as obj:\n",
        "    zip_namelist = obj.namelist()    # content(작업 디렉토리)에 압축 해제\n",
        "    id, actor, data, image_id = [], [], [], []\n",
        "    for name in zip_namelist :\n",
        "      if name.endswith('.png') :\n",
        "        # readed = obj.open(name)\n",
        "        # img = Image.open(readed)\n",
        "        # img = img.resize((224, 224))\n",
        "        # img_arr = np.array(img)\n",
        "        # arr = np.append(arr, img_arr)\n",
        "        pass\n",
        "      elif name.endswith('json') :  # json\n",
        "        readed = obj.open(name)\n",
        "        js = json.load(readed)\n",
        "        length = len(js['annotations'])\n",
        "        try :\n",
        "          action = js['action']\n",
        "        except :\n",
        "          action = None\n",
        "        \n",
        "        image_id.extend([d['image_id'] for d in js['annotations']])\n",
        "        data.extend([d['data'] for d in js['annotations']])\n",
        "        id.extend([js['id']]*length)\n",
        "        actor.extend([js['actor']]*length)\n",
        "\n",
        "      elif name.endswith('.csv') :   # csv파일은 2가지\n",
        "        readed = obj.read(name)\n",
        "        print(name)\n",
        "        if name[-len('hand_gesture_pose.csv'):] == 'hand_gesture_pose.csv' :\n",
        "          hand_gesture = pd.read_csv(BytesIO(readed))\n",
        "        else :\n",
        "          sample_submission = pd.read_csv(BytesIO(readed))"
      ],
      "metadata": {
        "colab": {
          "base_uri": "https://localhost:8080/",
          "height": 437
        },
        "id": "RWzBUyBt-qvT",
        "outputId": "c92f455f-8f0f-407b-955e-7fc5e5fd4ef0"
      },
      "execution_count": 35,
      "outputs": [
        {
          "output_type": "stream",
          "name": "stdout",
          "text": [
            "hand_gesture_pose.csv\n",
            "sample_submission.csv\n"
          ]
        },
        {
          "output_type": "error",
          "ename": "KeyboardInterrupt",
          "evalue": "ignored",
          "traceback": [
            "\u001b[0;31m---------------------------------------------------------------------------\u001b[0m",
            "\u001b[0;31mKeyboardInterrupt\u001b[0m                         Traceback (most recent call last)",
            "\u001b[0;32m<ipython-input-35-7301b1b54857>\u001b[0m in \u001b[0;36m<module>\u001b[0;34m()\u001b[0m\n\u001b[1;32m     13\u001b[0m         \u001b[0;32mpass\u001b[0m\u001b[0;34m\u001b[0m\u001b[0;34m\u001b[0m\u001b[0m\n\u001b[1;32m     14\u001b[0m       \u001b[0;32melif\u001b[0m \u001b[0mname\u001b[0m\u001b[0;34m.\u001b[0m\u001b[0mendswith\u001b[0m\u001b[0;34m(\u001b[0m\u001b[0;34m'json'\u001b[0m\u001b[0;34m)\u001b[0m \u001b[0;34m:\u001b[0m  \u001b[0;31m# json\u001b[0m\u001b[0;34m\u001b[0m\u001b[0;34m\u001b[0m\u001b[0m\n\u001b[0;32m---> 15\u001b[0;31m         \u001b[0mreaded\u001b[0m \u001b[0;34m=\u001b[0m \u001b[0mobj\u001b[0m\u001b[0;34m.\u001b[0m\u001b[0mopen\u001b[0m\u001b[0;34m(\u001b[0m\u001b[0mname\u001b[0m\u001b[0;34m)\u001b[0m\u001b[0;34m\u001b[0m\u001b[0;34m\u001b[0m\u001b[0m\n\u001b[0m\u001b[1;32m     16\u001b[0m         \u001b[0mjs\u001b[0m \u001b[0;34m=\u001b[0m \u001b[0mjson\u001b[0m\u001b[0;34m.\u001b[0m\u001b[0mload\u001b[0m\u001b[0;34m(\u001b[0m\u001b[0mreaded\u001b[0m\u001b[0;34m)\u001b[0m\u001b[0;34m\u001b[0m\u001b[0;34m\u001b[0m\u001b[0m\n\u001b[1;32m     17\u001b[0m         \u001b[0mlength\u001b[0m \u001b[0;34m=\u001b[0m \u001b[0mlen\u001b[0m\u001b[0;34m(\u001b[0m\u001b[0mjs\u001b[0m\u001b[0;34m[\u001b[0m\u001b[0;34m'annotations'\u001b[0m\u001b[0;34m]\u001b[0m\u001b[0;34m)\u001b[0m\u001b[0;34m\u001b[0m\u001b[0;34m\u001b[0m\u001b[0m\n",
            "\u001b[0;32m/usr/lib/python3.7/zipfile.py\u001b[0m in \u001b[0;36mopen\u001b[0;34m(self, name, mode, pwd, force_zip64)\u001b[0m\n\u001b[1;32m   1517\u001b[0m         \u001b[0;32mtry\u001b[0m\u001b[0;34m:\u001b[0m\u001b[0;34m\u001b[0m\u001b[0;34m\u001b[0m\u001b[0m\n\u001b[1;32m   1518\u001b[0m             \u001b[0;31m# Skip the file header:\u001b[0m\u001b[0;34m\u001b[0m\u001b[0;34m\u001b[0m\u001b[0;34m\u001b[0m\u001b[0m\n\u001b[0;32m-> 1519\u001b[0;31m             \u001b[0mfheader\u001b[0m \u001b[0;34m=\u001b[0m \u001b[0mzef_file\u001b[0m\u001b[0;34m.\u001b[0m\u001b[0mread\u001b[0m\u001b[0;34m(\u001b[0m\u001b[0msizeFileHeader\u001b[0m\u001b[0;34m)\u001b[0m\u001b[0;34m\u001b[0m\u001b[0;34m\u001b[0m\u001b[0m\n\u001b[0m\u001b[1;32m   1520\u001b[0m             \u001b[0;32mif\u001b[0m \u001b[0mlen\u001b[0m\u001b[0;34m(\u001b[0m\u001b[0mfheader\u001b[0m\u001b[0;34m)\u001b[0m \u001b[0;34m!=\u001b[0m \u001b[0msizeFileHeader\u001b[0m\u001b[0;34m:\u001b[0m\u001b[0;34m\u001b[0m\u001b[0;34m\u001b[0m\u001b[0m\n\u001b[1;32m   1521\u001b[0m                 \u001b[0;32mraise\u001b[0m \u001b[0mBadZipFile\u001b[0m\u001b[0;34m(\u001b[0m\u001b[0;34m\"Truncated file header\"\u001b[0m\u001b[0;34m)\u001b[0m\u001b[0;34m\u001b[0m\u001b[0;34m\u001b[0m\u001b[0m\n",
            "\u001b[0;32m/usr/lib/python3.7/zipfile.py\u001b[0m in \u001b[0;36mread\u001b[0;34m(self, n)\u001b[0m\n\u001b[1;32m    752\u001b[0m                         \"Close the writing handle before trying to read.\")\n\u001b[1;32m    753\u001b[0m             \u001b[0mself\u001b[0m\u001b[0;34m.\u001b[0m\u001b[0m_file\u001b[0m\u001b[0;34m.\u001b[0m\u001b[0mseek\u001b[0m\u001b[0;34m(\u001b[0m\u001b[0mself\u001b[0m\u001b[0;34m.\u001b[0m\u001b[0m_pos\u001b[0m\u001b[0;34m)\u001b[0m\u001b[0;34m\u001b[0m\u001b[0;34m\u001b[0m\u001b[0m\n\u001b[0;32m--> 754\u001b[0;31m             \u001b[0mdata\u001b[0m \u001b[0;34m=\u001b[0m \u001b[0mself\u001b[0m\u001b[0;34m.\u001b[0m\u001b[0m_file\u001b[0m\u001b[0;34m.\u001b[0m\u001b[0mread\u001b[0m\u001b[0;34m(\u001b[0m\u001b[0mn\u001b[0m\u001b[0;34m)\u001b[0m\u001b[0;34m\u001b[0m\u001b[0;34m\u001b[0m\u001b[0m\n\u001b[0m\u001b[1;32m    755\u001b[0m             \u001b[0mself\u001b[0m\u001b[0;34m.\u001b[0m\u001b[0m_pos\u001b[0m \u001b[0;34m=\u001b[0m \u001b[0mself\u001b[0m\u001b[0;34m.\u001b[0m\u001b[0m_file\u001b[0m\u001b[0;34m.\u001b[0m\u001b[0mtell\u001b[0m\u001b[0;34m(\u001b[0m\u001b[0;34m)\u001b[0m\u001b[0;34m\u001b[0m\u001b[0;34m\u001b[0m\u001b[0m\n\u001b[1;32m    756\u001b[0m             \u001b[0;32mreturn\u001b[0m \u001b[0mdata\u001b[0m\u001b[0;34m\u001b[0m\u001b[0;34m\u001b[0m\u001b[0m\n",
            "\u001b[0;31mKeyboardInterrupt\u001b[0m: "
          ]
        }
      ]
    },
    {
      "cell_type": "code",
      "source": [
        "answers = pd.DataFrame({'id' : id,'image_id':image_id, 'actor':actor, 'data':data})\n",
        "len(id), len(actor), len(data), len(image_id), len(zip_namelist)"
      ],
      "metadata": {
        "colab": {
          "base_uri": "https://localhost:8080/"
        },
        "id": "My7WcCD3Qp6v",
        "outputId": "3fd9e9a2-8416-4084-975b-c8cf1b9abcfc"
      },
      "execution_count": 14,
      "outputs": [
        {
          "output_type": "execute_result",
          "data": {
            "text/plain": [
              "(5115, 5115, 5115, 5115, 9662)"
            ]
          },
          "metadata": {},
          "execution_count": 14
        }
      ]
    },
    {
      "cell_type": "code",
      "source": [
        "js"
      ],
      "metadata": {
        "colab": {
          "base_uri": "https://localhost:8080/"
        },
        "id": "etvUKth4WKkL",
        "outputId": "54c472e9-9648-41f4-9900-f96c6951d9c8"
      },
      "execution_count": 37,
      "outputs": [
        {
          "output_type": "execute_result",
          "data": {
            "text/plain": [
              "{'action': [157, '엄지,중지 붙이기'],\n",
              " 'actor': None,\n",
              " 'annotations': [{'data': [[1109.1493606567383,\n",
              "     669.9206471443176,\n",
              "     -0.15929407440125942],\n",
              "    [1121.4447784423828, 617.0202541351318, -68.04574728012085],\n",
              "    [1092.6544189453125, 565.7941389083862, -113.17432880401611],\n",
              "    [1044.5316696166992, 561.0070395469666, -148.7891721725464],\n",
              "    [1000.9712219238281, 589.6150517463684, -167.40726470947266],\n",
              "    [986.6520309448242, 555.9746146202087, -55.94467878341675],\n",
              "    [925.3554725646973, 528.8032472133636, -81.19319915771484],\n",
              "    [892.5066947937012, 516.7876052856445, -101.29377365112305],\n",
              "    [865.4391860961914, 508.99084210395813, -114.9553656578064],\n",
              "    [970.4821014404297, 592.4842858314514, -54.687663316726685],\n",
              "    [907.8115653991699, 572.8980231285095, -136.04235649108887],\n",
              "    [948.0022430419922, 584.2800736427307, -181.6537857055664],\n",
              "    [983.3870315551758, 594.6288728713989, -182.23660469055176],\n",
              "    [962.706298828125, 631.991229057312, -60.19437789916992],\n",
              "    [898.3017539978027, 621.2646245956421, -105.98236799240112],\n",
              "    [869.0267372131348, 619.4080424308777, -132.06727981567383],\n",
              "    [839.4352912902832, 614.8800444602966, -135.91250896453857],\n",
              "    [964.3010330200195, 675.3395676612854, -70.71104049682617],\n",
              "    [919.848518371582, 683.3943700790405, -98.90547037124634],\n",
              "    [891.2564849853516, 692.3399662971497, -121.64105415344238],\n",
              "    [861.1123466491699, 702.1186780929565, -133.54013442993164]],\n",
              "   'image_id': 0},\n",
              "  {'data': [[1114.3463516235352, 675.5391240119934, -0.16859019175171852],\n",
              "    [1125.0972747802734, 623.6944484710693, -69.40220832824707],\n",
              "    [1093.6460494995117, 569.7270083427429, -115.03918647766113],\n",
              "    [1045.1046752929688, 566.2954759597778, -150.19565105438232],\n",
              "    [1002.9677581787109, 600.6170439720154, -171.21017932891846],\n",
              "    [991.080322265625, 559.6699476242065, -58.78225564956665],\n",
              "    [929.4456481933594, 534.7635769844055, -82.33996152877808],\n",
              "    [894.2513465881348, 525.2242684364319, -102.38395929336548],\n",
              "    [864.6398735046387, 519.9468398094177, -115.52487373352051],\n",
              "    [973.2527160644531, 595.2343010902405, -55.44721484184265],\n",
              "    [908.5936546325684, 572.5860071182251, -130.7627534866333],\n",
              "    [946.897087097168, 581.4152812957764, -171.7406129837036],\n",
              "    [982.1168518066406, 591.6686797142029, -170.3865623474121],\n",
              "    [965.3659057617188, 634.5525670051575, -58.47244620323181],\n",
              "    [901.6974449157715, 620.8409857749939, -105.29583692550659],\n",
              "    [871.4560317993164, 618.896791934967, -136.42938137054443],\n",
              "    [842.508659362793, 615.7592511177063, -142.73420333862305],\n",
              "    [967.1675491333008, 678.7090444564819, -66.66151285171509],\n",
              "    [922.1894645690918, 687.3699831962585, -94.92821216583252],\n",
              "    [892.4850654602051, 695.8699250221252, -119.64225769042969],\n",
              "    [862.5918388366699, 705.1529002189636, -133.43321800231934]],\n",
              "   'image_id': 1},\n",
              "  {'data': [[1117.7391815185547, 677.9709434509277, -0.1514741638675332],\n",
              "    [1127.2500228881836, 626.9518518447876, -69.5376205444336],\n",
              "    [1095.5773544311523, 574.7162389755249, -114.28711652755737],\n",
              "    [1047.8414154052734, 569.3105792999268, -150.44302940368652],\n",
              "    [1006.8736267089844, 598.2885432243347, -172.2974395751953],\n",
              "    [990.6289672851562, 561.4826273918152, -52.02156901359558],\n",
              "    [930.6154632568359, 536.2111973762512, -74.73202228546143],\n",
              "    [896.9910621643066, 525.9932363033295, -93.83804082870483],\n",
              "    [867.0663642883301, 519.3005990982056, -107.75878429412842],\n",
              "    [973.1884002685547, 597.0204591751099, -49.306297302246094],\n",
              "    [906.9756317138672, 576.0618281364441, -124.23912048339844],\n",
              "    [944.3895721435547, 585.1026964187622, -169.44388389587402],\n",
              "    [980.0529098510742, 594.1707301139832, -171.3552761077881],\n",
              "    [965.3115463256836, 635.8520650863647, -53.01652908325195],\n",
              "    [901.0018157958984, 623.5997557640076, -98.77480745315552],\n",
              "    [870.8394241333008, 620.5425524711609, -129.6967363357544],\n",
              "    [841.5915298461914, 615.475172996521, -136.17812633514404],\n",
              "    [966.9899368286133, 679.2658066749573, -62.2796630859375],\n",
              "    [921.9550895690918, 688.3093786239624, -91.15135431289673],\n",
              "    [893.0144691467285, 696.5573000907898, -114.45117473602295],\n",
              "    [864.1922378540039, 704.6082401275635, -126.85948848724365]],\n",
              "   'image_id': 2},\n",
              "  {'data': [[1120.316390991211, 680.2648115158081, -0.1813737116754055],\n",
              "    [1128.1663513183594, 628.6457633972168, -70.36876201629639],\n",
              "    [1096.0945129394531, 575.6996655464172, -116.50969505310059],\n",
              "    [1047.0019912719727, 569.4223952293396, -152.89764404296875],\n",
              "    [1004.3148422241211, 599.0744090080261, -175.87061405181885],\n",
              "    [991.6651153564453, 561.9390320777893, -59.15969967842102],\n",
              "    [929.820728302002, 537.9027915000916, -82.1107006072998],\n",
              "    [893.8378143310547, 529.0227270126343, -101.27539157867432],\n",
              "    [861.8596458435059, 522.5828182697296, -113.78812551498413],\n",
              "    [974.3976974487305, 596.6627383232117, -55.13719081878662],\n",
              "    [909.1048049926758, 575.6323957443237, -128.31042766571045],\n",
              "    [948.6782455444336, 585.2551317214966, -167.13656902313232],\n",
              "    [985.001106262207, 594.227249622345, -164.2313289642334],\n",
              "    [966.4500045776367, 635.59006690979, -57.52124547958374],\n",
              "    [901.2006568908691, 623.2544589042664, -101.35587930679321],\n",
              "    [869.4663619995117, 622.3473787307739, -129.78508472442627],\n",
              "    [838.2077407836914, 619.0782594680786, -134.96355056762695],\n",
              "    [968.4571838378906, 679.8882937431335, -65.6006669998169],\n",
              "    [922.4428367614746, 689.0631866455078, -93.51997375488281],\n",
              "    [892.2836494445801, 698.361611366272, -116.70236349105835],\n",
              "    [862.463321685791, 708.1605362892151, -130.48059940338135]],\n",
              "   'image_id': 3},\n",
              "  {'data': [[1119.272232055664, 677.6530051231384, -0.15338171739131212],\n",
              "    [1127.4374771118164, 624.807071685791, -68.73101949691772],\n",
              "    [1096.1100769042969, 572.3483419418335, -113.03233623504639],\n",
              "    [1047.8842163085938, 566.4341998100281, -149.28301334381104],\n",
              "    [1004.0452194213867, 595.0994396209717, -168.7831163406372],\n",
              "    [987.8623580932617, 561.853609085083, -48.98009419441223],\n",
              "    [926.8768501281738, 535.1118350028992, -70.23436546325684],\n",
              "    [894.0910148620605, 524.7163653373718, -87.61382818222046],\n",
              "    [865.8595275878906, 518.7671720981598, -99.33053970336914],\n",
              "    [970.5837249755859, 597.0336556434631, -46.679112911224365],\n",
              "    [905.8285331726074, 574.1417098045349, -125.61641693115234],\n",
              "    [946.0287094116211, 583.6984634399414, -172.55795001983643],\n",
              "    [981.7941284179688, 594.2699933052063, -173.08031558990479],\n",
              "    [962.9823303222656, 635.5074119567871, -50.21278381347656],\n",
              "    [898.2472229003906, 624.7277641296387, -94.80915069580078],\n",
              "    [870.4554176330566, 622.8937125205994, -122.75473594665527],\n",
              "    [842.0377922058105, 619.4214963912964, -126.46359443664551],\n",
              "    [965.6045150756836, 678.501570224762, -60.28296232223511],\n",
              "    [920.8274459838867, 688.4870481491089, -87.80606031417847],\n",
              "    [891.826057434082, 697.9337239265442, -111.64715051651001],\n",
              "    [862.4934196472168, 707.9300165176392, -123.89572620391846]],\n",
              "   'image_id': 4},\n",
              "  {'data': [[1110.2608108520508, 671.6130137443542, -0.16007864847779274],\n",
              "    [1121.2138366699219, 619.1299510002136, -67.22572088241577],\n",
              "    [1090.4960632324219, 569.589056968689, -111.65082693099976],\n",
              "    [1043.239974975586, 568.1767129898071, -146.51241302490234],\n",
              "    [1000.1140594482422, 598.3075332641602, -165.54166316986084],\n",
              "    [987.1972274780273, 560.2217531204224, -55.70032596588135],\n",
              "    [924.8748779296875, 534.6353137493134, -79.96275901794434],\n",
              "    [891.328010559082, 524.0657472610474, -99.43633317947388],\n",
              "    [863.9262199401855, 518.5783016681671, -112.90390491485596],\n",
              "    [969.638671875, 596.2457942962646, -52.290018796920776],\n",
              "    [904.1080856323242, 573.2898616790771, -129.9493932723999],\n",
              "    [945.1181602478027, 582.6955318450928, -169.65940475463867],\n",
              "    [981.9760894775391, 592.5670051574707, -167.4250888824463],\n",
              "    [962.2060775756836, 635.3997802734375, -55.83173990249634],\n",
              "    [896.4745330810547, 622.673556804657, -99.06261920928955],\n",
              "    [868.7902450561523, 622.2785639762878, -125.7859754562378],\n",
              "    [841.644344329834, 619.2852830886841, -131.01681232452393],\n",
              "    [964.9411010742188, 678.1524109840393, -64.67157125473022],\n",
              "    [919.0654563903809, 687.3306512832642, -89.29435729980469],\n",
              "    [889.4746398925781, 697.0067524909973, -113.67241144180298],\n",
              "    [859.3437767028809, 706.412615776062, -128.24403762817383]],\n",
              "   'image_id': 5},\n",
              "  {'data': [[1115.0799179077148, 675.5191040039062, -0.1599772833287716],\n",
              "    [1123.6834716796875, 622.0261573791504, -65.99380731582642],\n",
              "    [1092.6322174072266, 568.9249205589294, -110.59369325637817],\n",
              "    [1044.2189025878906, 562.1642088890076, -147.65157222747803],\n",
              "    [999.957275390625, 590.5625581741333, -168.08578491210938],\n",
              "    [986.0426330566406, 558.3445072174072, -47.95938849449158],\n",
              "    [923.7044906616211, 531.5425765514374, -71.76077842712402],\n",
              "    [890.4837226867676, 521.2928152084351, -91.0347032546997],\n",
              "    [863.6676979064941, 515.5829608440399, -103.45304489135742],\n",
              "    [968.6262130737305, 593.9714956283569, -47.23500609397888],\n",
              "    [903.3419609069824, 571.7064142227173, -127.99010753631592],\n",
              "    [942.2873497009277, 581.9401144981384, -175.35674571990967],\n",
              "    [976.8302536010742, 592.2380590438843, -176.133713722229],\n",
              "    [961.0319137573242, 632.9940962791443, -53.139488697052],\n",
              "    [896.0190010070801, 620.9467506408691, -100.0347375869751],\n",
              "    [867.7894592285156, 619.4364309310913, -128.4074306488037],\n",
              "    [838.9715766906738, 615.9565544128418, -132.35291004180908],\n",
              "    [963.7491989135742, 676.5059423446655, -64.47790145874023],\n",
              "    [918.7525177001953, 685.5933523178101, -93.2660436630249],\n",
              "    [889.2941665649414, 695.2418375015259, -117.37000465393066],\n",
              "    [859.1471099853516, 705.1642298698425, -129.56567287445068]],\n",
              "   'image_id': 6}],\n",
              " 'id': 548}"
            ]
          },
          "metadata": {},
          "execution_count": 37
        }
      ]
    },
    {
      "cell_type": "code",
      "source": [
        "print(\"json keys              : \", js.keys())\n",
        "print(\"json action info       : \",js.get('action'))\n",
        "print(\"json actor info        : \",js.get('actor'))\n",
        "print(\"json annotations keys  : \",js.get('annotations')[0].keys())\n",
        "print(js.get('annotations')[1].get('data'))"
      ],
      "metadata": {
        "colab": {
          "base_uri": "https://localhost:8080/"
        },
        "id": "8GMzL1Q6tEYF",
        "outputId": "952c2059-cf9a-4062-de9a-8d432410d314"
      },
      "execution_count": 36,
      "outputs": [
        {
          "output_type": "stream",
          "name": "stdout",
          "text": [
            "json keys              :  dict_keys(['action', 'actor', 'id', 'annotations'])\n",
            "json action info       :  [157, '엄지,중지 붙이기']\n",
            "json actor info        :  None\n",
            "json annotations keys  :  dict_keys(['image_id', 'data'])\n",
            "[[1114.3463516235352, 675.5391240119934, -0.16859019175171852], [1125.0972747802734, 623.6944484710693, -69.40220832824707], [1093.6460494995117, 569.7270083427429, -115.03918647766113], [1045.1046752929688, 566.2954759597778, -150.19565105438232], [1002.9677581787109, 600.6170439720154, -171.21017932891846], [991.080322265625, 559.6699476242065, -58.78225564956665], [929.4456481933594, 534.7635769844055, -82.33996152877808], [894.2513465881348, 525.2242684364319, -102.38395929336548], [864.6398735046387, 519.9468398094177, -115.52487373352051], [973.2527160644531, 595.2343010902405, -55.44721484184265], [908.5936546325684, 572.5860071182251, -130.7627534866333], [946.897087097168, 581.4152812957764, -171.7406129837036], [982.1168518066406, 591.6686797142029, -170.3865623474121], [965.3659057617188, 634.5525670051575, -58.47244620323181], [901.6974449157715, 620.8409857749939, -105.29583692550659], [871.4560317993164, 618.896791934967, -136.42938137054443], [842.508659362793, 615.7592511177063, -142.73420333862305], [967.1675491333008, 678.7090444564819, -66.66151285171509], [922.1894645690918, 687.3699831962585, -94.92821216583252], [892.4850654602051, 695.8699250221252, -119.64225769042969], [862.5918388366699, 705.1529002189636, -133.43321800231934]]\n"
          ]
        }
      ]
    },
    {
      "cell_type": "markdown",
      "source": [
        "# Check Sample Data"
      ],
      "metadata": {
        "id": "Jfaarmi2HWMo"
      }
    },
    {
      "cell_type": "code",
      "source": [
        "sample_submission.head()"
      ],
      "metadata": {
        "colab": {
          "base_uri": "https://localhost:8080/",
          "height": 236
        },
        "id": "V_uMtFwOcdR1",
        "outputId": "4495c0a5-11e7-4e91-a5b9-ec5472463efb"
      },
      "execution_count": 16,
      "outputs": [
        {
          "output_type": "execute_result",
          "data": {
            "text/plain": [
              "   Image_Path  Label_0  Label_1  Label_2  Label_3  Label_4  Label_5  Label_6  \\\n",
              "0  ./test\\649        0        0        0        0        0        0        0   \n",
              "1  ./test\\650        0        0        0        0        0        0        0   \n",
              "2  ./test\\651        0        0        0        0        0        0        0   \n",
              "3  ./test\\652        0        0        0        0        0        0        0   \n",
              "4  ./test\\653        0        0        0        0        0        0        0   \n",
              "\n",
              "   Label_7  Label_8  ...  Label_177  Label_186  Label_188  Label_189  \\\n",
              "0        0        0  ...          0          0          0          0   \n",
              "1        0        0  ...          0          0          0          0   \n",
              "2        0        0  ...          0          0          0          0   \n",
              "3        0        0  ...          0          0          0          0   \n",
              "4        0        0  ...          0          0          0          0   \n",
              "\n",
              "   Label_190  Label_191  Label_192  Label_193  Label_194  Label_195  \n",
              "0          0          0          0          0          0          0  \n",
              "1          0          0          0          0          0          0  \n",
              "2          0          0          0          0          0          0  \n",
              "3          0          0          0          0          0          0  \n",
              "4          0          0          0          0          0          0  \n",
              "\n",
              "[5 rows x 158 columns]"
            ],
            "text/html": [
              "\n",
              "  <div id=\"df-8c185e4d-612e-41e4-abdd-85be7d307a9c\">\n",
              "    <div class=\"colab-df-container\">\n",
              "      <div>\n",
              "<style scoped>\n",
              "    .dataframe tbody tr th:only-of-type {\n",
              "        vertical-align: middle;\n",
              "    }\n",
              "\n",
              "    .dataframe tbody tr th {\n",
              "        vertical-align: top;\n",
              "    }\n",
              "\n",
              "    .dataframe thead th {\n",
              "        text-align: right;\n",
              "    }\n",
              "</style>\n",
              "<table border=\"1\" class=\"dataframe\">\n",
              "  <thead>\n",
              "    <tr style=\"text-align: right;\">\n",
              "      <th></th>\n",
              "      <th>Image_Path</th>\n",
              "      <th>Label_0</th>\n",
              "      <th>Label_1</th>\n",
              "      <th>Label_2</th>\n",
              "      <th>Label_3</th>\n",
              "      <th>Label_4</th>\n",
              "      <th>Label_5</th>\n",
              "      <th>Label_6</th>\n",
              "      <th>Label_7</th>\n",
              "      <th>Label_8</th>\n",
              "      <th>...</th>\n",
              "      <th>Label_177</th>\n",
              "      <th>Label_186</th>\n",
              "      <th>Label_188</th>\n",
              "      <th>Label_189</th>\n",
              "      <th>Label_190</th>\n",
              "      <th>Label_191</th>\n",
              "      <th>Label_192</th>\n",
              "      <th>Label_193</th>\n",
              "      <th>Label_194</th>\n",
              "      <th>Label_195</th>\n",
              "    </tr>\n",
              "  </thead>\n",
              "  <tbody>\n",
              "    <tr>\n",
              "      <th>0</th>\n",
              "      <td>./test\\649</td>\n",
              "      <td>0</td>\n",
              "      <td>0</td>\n",
              "      <td>0</td>\n",
              "      <td>0</td>\n",
              "      <td>0</td>\n",
              "      <td>0</td>\n",
              "      <td>0</td>\n",
              "      <td>0</td>\n",
              "      <td>0</td>\n",
              "      <td>...</td>\n",
              "      <td>0</td>\n",
              "      <td>0</td>\n",
              "      <td>0</td>\n",
              "      <td>0</td>\n",
              "      <td>0</td>\n",
              "      <td>0</td>\n",
              "      <td>0</td>\n",
              "      <td>0</td>\n",
              "      <td>0</td>\n",
              "      <td>0</td>\n",
              "    </tr>\n",
              "    <tr>\n",
              "      <th>1</th>\n",
              "      <td>./test\\650</td>\n",
              "      <td>0</td>\n",
              "      <td>0</td>\n",
              "      <td>0</td>\n",
              "      <td>0</td>\n",
              "      <td>0</td>\n",
              "      <td>0</td>\n",
              "      <td>0</td>\n",
              "      <td>0</td>\n",
              "      <td>0</td>\n",
              "      <td>...</td>\n",
              "      <td>0</td>\n",
              "      <td>0</td>\n",
              "      <td>0</td>\n",
              "      <td>0</td>\n",
              "      <td>0</td>\n",
              "      <td>0</td>\n",
              "      <td>0</td>\n",
              "      <td>0</td>\n",
              "      <td>0</td>\n",
              "      <td>0</td>\n",
              "    </tr>\n",
              "    <tr>\n",
              "      <th>2</th>\n",
              "      <td>./test\\651</td>\n",
              "      <td>0</td>\n",
              "      <td>0</td>\n",
              "      <td>0</td>\n",
              "      <td>0</td>\n",
              "      <td>0</td>\n",
              "      <td>0</td>\n",
              "      <td>0</td>\n",
              "      <td>0</td>\n",
              "      <td>0</td>\n",
              "      <td>...</td>\n",
              "      <td>0</td>\n",
              "      <td>0</td>\n",
              "      <td>0</td>\n",
              "      <td>0</td>\n",
              "      <td>0</td>\n",
              "      <td>0</td>\n",
              "      <td>0</td>\n",
              "      <td>0</td>\n",
              "      <td>0</td>\n",
              "      <td>0</td>\n",
              "    </tr>\n",
              "    <tr>\n",
              "      <th>3</th>\n",
              "      <td>./test\\652</td>\n",
              "      <td>0</td>\n",
              "      <td>0</td>\n",
              "      <td>0</td>\n",
              "      <td>0</td>\n",
              "      <td>0</td>\n",
              "      <td>0</td>\n",
              "      <td>0</td>\n",
              "      <td>0</td>\n",
              "      <td>0</td>\n",
              "      <td>...</td>\n",
              "      <td>0</td>\n",
              "      <td>0</td>\n",
              "      <td>0</td>\n",
              "      <td>0</td>\n",
              "      <td>0</td>\n",
              "      <td>0</td>\n",
              "      <td>0</td>\n",
              "      <td>0</td>\n",
              "      <td>0</td>\n",
              "      <td>0</td>\n",
              "    </tr>\n",
              "    <tr>\n",
              "      <th>4</th>\n",
              "      <td>./test\\653</td>\n",
              "      <td>0</td>\n",
              "      <td>0</td>\n",
              "      <td>0</td>\n",
              "      <td>0</td>\n",
              "      <td>0</td>\n",
              "      <td>0</td>\n",
              "      <td>0</td>\n",
              "      <td>0</td>\n",
              "      <td>0</td>\n",
              "      <td>...</td>\n",
              "      <td>0</td>\n",
              "      <td>0</td>\n",
              "      <td>0</td>\n",
              "      <td>0</td>\n",
              "      <td>0</td>\n",
              "      <td>0</td>\n",
              "      <td>0</td>\n",
              "      <td>0</td>\n",
              "      <td>0</td>\n",
              "      <td>0</td>\n",
              "    </tr>\n",
              "  </tbody>\n",
              "</table>\n",
              "<p>5 rows × 158 columns</p>\n",
              "</div>\n",
              "      <button class=\"colab-df-convert\" onclick=\"convertToInteractive('df-8c185e4d-612e-41e4-abdd-85be7d307a9c')\"\n",
              "              title=\"Convert this dataframe to an interactive table.\"\n",
              "              style=\"display:none;\">\n",
              "        \n",
              "  <svg xmlns=\"http://www.w3.org/2000/svg\" height=\"24px\"viewBox=\"0 0 24 24\"\n",
              "       width=\"24px\">\n",
              "    <path d=\"M0 0h24v24H0V0z\" fill=\"none\"/>\n",
              "    <path d=\"M18.56 5.44l.94 2.06.94-2.06 2.06-.94-2.06-.94-.94-2.06-.94 2.06-2.06.94zm-11 1L8.5 8.5l.94-2.06 2.06-.94-2.06-.94L8.5 2.5l-.94 2.06-2.06.94zm10 10l.94 2.06.94-2.06 2.06-.94-2.06-.94-.94-2.06-.94 2.06-2.06.94z\"/><path d=\"M17.41 7.96l-1.37-1.37c-.4-.4-.92-.59-1.43-.59-.52 0-1.04.2-1.43.59L10.3 9.45l-7.72 7.72c-.78.78-.78 2.05 0 2.83L4 21.41c.39.39.9.59 1.41.59.51 0 1.02-.2 1.41-.59l7.78-7.78 2.81-2.81c.8-.78.8-2.07 0-2.86zM5.41 20L4 18.59l7.72-7.72 1.47 1.35L5.41 20z\"/>\n",
              "  </svg>\n",
              "      </button>\n",
              "      \n",
              "  <style>\n",
              "    .colab-df-container {\n",
              "      display:flex;\n",
              "      flex-wrap:wrap;\n",
              "      gap: 12px;\n",
              "    }\n",
              "\n",
              "    .colab-df-convert {\n",
              "      background-color: #E8F0FE;\n",
              "      border: none;\n",
              "      border-radius: 50%;\n",
              "      cursor: pointer;\n",
              "      display: none;\n",
              "      fill: #1967D2;\n",
              "      height: 32px;\n",
              "      padding: 0 0 0 0;\n",
              "      width: 32px;\n",
              "    }\n",
              "\n",
              "    .colab-df-convert:hover {\n",
              "      background-color: #E2EBFA;\n",
              "      box-shadow: 0px 1px 2px rgba(60, 64, 67, 0.3), 0px 1px 3px 1px rgba(60, 64, 67, 0.15);\n",
              "      fill: #174EA6;\n",
              "    }\n",
              "\n",
              "    [theme=dark] .colab-df-convert {\n",
              "      background-color: #3B4455;\n",
              "      fill: #D2E3FC;\n",
              "    }\n",
              "\n",
              "    [theme=dark] .colab-df-convert:hover {\n",
              "      background-color: #434B5C;\n",
              "      box-shadow: 0px 1px 3px 1px rgba(0, 0, 0, 0.15);\n",
              "      filter: drop-shadow(0px 1px 2px rgba(0, 0, 0, 0.3));\n",
              "      fill: #FFFFFF;\n",
              "    }\n",
              "  </style>\n",
              "\n",
              "      <script>\n",
              "        const buttonEl =\n",
              "          document.querySelector('#df-8c185e4d-612e-41e4-abdd-85be7d307a9c button.colab-df-convert');\n",
              "        buttonEl.style.display =\n",
              "          google.colab.kernel.accessAllowed ? 'block' : 'none';\n",
              "\n",
              "        async function convertToInteractive(key) {\n",
              "          const element = document.querySelector('#df-8c185e4d-612e-41e4-abdd-85be7d307a9c');\n",
              "          const dataTable =\n",
              "            await google.colab.kernel.invokeFunction('convertToInteractive',\n",
              "                                                     [key], {});\n",
              "          if (!dataTable) return;\n",
              "\n",
              "          const docLinkHtml = 'Like what you see? Visit the ' +\n",
              "            '<a target=\"_blank\" href=https://colab.research.google.com/notebooks/data_table.ipynb>data table notebook</a>'\n",
              "            + ' to learn more about interactive tables.';\n",
              "          element.innerHTML = '';\n",
              "          dataTable['output_type'] = 'display_data';\n",
              "          await google.colab.output.renderOutput(dataTable, element);\n",
              "          const docLink = document.createElement('div');\n",
              "          docLink.innerHTML = docLinkHtml;\n",
              "          element.appendChild(docLink);\n",
              "        }\n",
              "      </script>\n",
              "    </div>\n",
              "  </div>\n",
              "  "
            ]
          },
          "metadata": {},
          "execution_count": 16
        }
      ]
    },
    {
      "cell_type": "code",
      "source": [
        "hand_gesture.head()"
      ],
      "metadata": {
        "colab": {
          "base_uri": "https://localhost:8080/",
          "height": 206
        },
        "id": "re8LE6aUczs5",
        "outputId": "52e54ff4-b787-429e-a721-ad3cb46c400d"
      },
      "execution_count": 17,
      "outputs": [
        {
          "output_type": "execute_result",
          "data": {
            "text/plain": [
              "   pose_id pose_type pose_name gesture_type hand_type view_type\n",
              "0        0    number      숫자 1      my_hand      left       1st\n",
              "1        1    number      숫자 2      my_hand      left       1st\n",
              "2        2    number      숫자 3      my_hand      left       1st\n",
              "3        3    number      숫자 4      my_hand      left       1st\n",
              "4        4    number      숫자 5      my_hand      left       1st"
            ],
            "text/html": [
              "\n",
              "  <div id=\"df-879245aa-f8e3-45b4-bcf6-55ac5bb5f7a2\">\n",
              "    <div class=\"colab-df-container\">\n",
              "      <div>\n",
              "<style scoped>\n",
              "    .dataframe tbody tr th:only-of-type {\n",
              "        vertical-align: middle;\n",
              "    }\n",
              "\n",
              "    .dataframe tbody tr th {\n",
              "        vertical-align: top;\n",
              "    }\n",
              "\n",
              "    .dataframe thead th {\n",
              "        text-align: right;\n",
              "    }\n",
              "</style>\n",
              "<table border=\"1\" class=\"dataframe\">\n",
              "  <thead>\n",
              "    <tr style=\"text-align: right;\">\n",
              "      <th></th>\n",
              "      <th>pose_id</th>\n",
              "      <th>pose_type</th>\n",
              "      <th>pose_name</th>\n",
              "      <th>gesture_type</th>\n",
              "      <th>hand_type</th>\n",
              "      <th>view_type</th>\n",
              "    </tr>\n",
              "  </thead>\n",
              "  <tbody>\n",
              "    <tr>\n",
              "      <th>0</th>\n",
              "      <td>0</td>\n",
              "      <td>number</td>\n",
              "      <td>숫자 1</td>\n",
              "      <td>my_hand</td>\n",
              "      <td>left</td>\n",
              "      <td>1st</td>\n",
              "    </tr>\n",
              "    <tr>\n",
              "      <th>1</th>\n",
              "      <td>1</td>\n",
              "      <td>number</td>\n",
              "      <td>숫자 2</td>\n",
              "      <td>my_hand</td>\n",
              "      <td>left</td>\n",
              "      <td>1st</td>\n",
              "    </tr>\n",
              "    <tr>\n",
              "      <th>2</th>\n",
              "      <td>2</td>\n",
              "      <td>number</td>\n",
              "      <td>숫자 3</td>\n",
              "      <td>my_hand</td>\n",
              "      <td>left</td>\n",
              "      <td>1st</td>\n",
              "    </tr>\n",
              "    <tr>\n",
              "      <th>3</th>\n",
              "      <td>3</td>\n",
              "      <td>number</td>\n",
              "      <td>숫자 4</td>\n",
              "      <td>my_hand</td>\n",
              "      <td>left</td>\n",
              "      <td>1st</td>\n",
              "    </tr>\n",
              "    <tr>\n",
              "      <th>4</th>\n",
              "      <td>4</td>\n",
              "      <td>number</td>\n",
              "      <td>숫자 5</td>\n",
              "      <td>my_hand</td>\n",
              "      <td>left</td>\n",
              "      <td>1st</td>\n",
              "    </tr>\n",
              "  </tbody>\n",
              "</table>\n",
              "</div>\n",
              "      <button class=\"colab-df-convert\" onclick=\"convertToInteractive('df-879245aa-f8e3-45b4-bcf6-55ac5bb5f7a2')\"\n",
              "              title=\"Convert this dataframe to an interactive table.\"\n",
              "              style=\"display:none;\">\n",
              "        \n",
              "  <svg xmlns=\"http://www.w3.org/2000/svg\" height=\"24px\"viewBox=\"0 0 24 24\"\n",
              "       width=\"24px\">\n",
              "    <path d=\"M0 0h24v24H0V0z\" fill=\"none\"/>\n",
              "    <path d=\"M18.56 5.44l.94 2.06.94-2.06 2.06-.94-2.06-.94-.94-2.06-.94 2.06-2.06.94zm-11 1L8.5 8.5l.94-2.06 2.06-.94-2.06-.94L8.5 2.5l-.94 2.06-2.06.94zm10 10l.94 2.06.94-2.06 2.06-.94-2.06-.94-.94-2.06-.94 2.06-2.06.94z\"/><path d=\"M17.41 7.96l-1.37-1.37c-.4-.4-.92-.59-1.43-.59-.52 0-1.04.2-1.43.59L10.3 9.45l-7.72 7.72c-.78.78-.78 2.05 0 2.83L4 21.41c.39.39.9.59 1.41.59.51 0 1.02-.2 1.41-.59l7.78-7.78 2.81-2.81c.8-.78.8-2.07 0-2.86zM5.41 20L4 18.59l7.72-7.72 1.47 1.35L5.41 20z\"/>\n",
              "  </svg>\n",
              "      </button>\n",
              "      \n",
              "  <style>\n",
              "    .colab-df-container {\n",
              "      display:flex;\n",
              "      flex-wrap:wrap;\n",
              "      gap: 12px;\n",
              "    }\n",
              "\n",
              "    .colab-df-convert {\n",
              "      background-color: #E8F0FE;\n",
              "      border: none;\n",
              "      border-radius: 50%;\n",
              "      cursor: pointer;\n",
              "      display: none;\n",
              "      fill: #1967D2;\n",
              "      height: 32px;\n",
              "      padding: 0 0 0 0;\n",
              "      width: 32px;\n",
              "    }\n",
              "\n",
              "    .colab-df-convert:hover {\n",
              "      background-color: #E2EBFA;\n",
              "      box-shadow: 0px 1px 2px rgba(60, 64, 67, 0.3), 0px 1px 3px 1px rgba(60, 64, 67, 0.15);\n",
              "      fill: #174EA6;\n",
              "    }\n",
              "\n",
              "    [theme=dark] .colab-df-convert {\n",
              "      background-color: #3B4455;\n",
              "      fill: #D2E3FC;\n",
              "    }\n",
              "\n",
              "    [theme=dark] .colab-df-convert:hover {\n",
              "      background-color: #434B5C;\n",
              "      box-shadow: 0px 1px 3px 1px rgba(0, 0, 0, 0.15);\n",
              "      filter: drop-shadow(0px 1px 2px rgba(0, 0, 0, 0.3));\n",
              "      fill: #FFFFFF;\n",
              "    }\n",
              "  </style>\n",
              "\n",
              "      <script>\n",
              "        const buttonEl =\n",
              "          document.querySelector('#df-879245aa-f8e3-45b4-bcf6-55ac5bb5f7a2 button.colab-df-convert');\n",
              "        buttonEl.style.display =\n",
              "          google.colab.kernel.accessAllowed ? 'block' : 'none';\n",
              "\n",
              "        async function convertToInteractive(key) {\n",
              "          const element = document.querySelector('#df-879245aa-f8e3-45b4-bcf6-55ac5bb5f7a2');\n",
              "          const dataTable =\n",
              "            await google.colab.kernel.invokeFunction('convertToInteractive',\n",
              "                                                     [key], {});\n",
              "          if (!dataTable) return;\n",
              "\n",
              "          const docLinkHtml = 'Like what you see? Visit the ' +\n",
              "            '<a target=\"_blank\" href=https://colab.research.google.com/notebooks/data_table.ipynb>data table notebook</a>'\n",
              "            + ' to learn more about interactive tables.';\n",
              "          element.innerHTML = '';\n",
              "          dataTable['output_type'] = 'display_data';\n",
              "          await google.colab.output.renderOutput(dataTable, element);\n",
              "          const docLink = document.createElement('div');\n",
              "          docLink.innerHTML = docLinkHtml;\n",
              "          element.appendChild(docLink);\n",
              "        }\n",
              "      </script>\n",
              "    </div>\n",
              "  </div>\n",
              "  "
            ]
          },
          "metadata": {},
          "execution_count": 17
        }
      ]
    },
    {
      "cell_type": "code",
      "source": [
        "print(arr.shape)\n",
        "plt.imshow(arr[0])\n",
        "plt.axis('off')\n",
        "plt.show()"
      ],
      "metadata": {
        "id": "wF1K0GjhHc5F"
      },
      "execution_count": null,
      "outputs": []
    },
    {
      "cell_type": "markdown",
      "source": [
        "# Baseline Modeling"
      ],
      "metadata": {
        "id": "hbtxxcPvHvVR"
      }
    },
    {
      "cell_type": "markdown",
      "source": [
        "## Preprocessing"
      ],
      "metadata": {
        "id": "p53Mw9PuH3FR"
      }
    },
    {
      "cell_type": "code",
      "source": [
        "classes = pd.get_dummies(answers[['answers']], columns = ['answers']).to_numpy()"
      ],
      "metadata": {
        "colab": {
          "base_uri": "https://localhost:8080/",
          "height": 327
        },
        "id": "jyGS6lPeH4jH",
        "outputId": "42c24613-997d-40b6-bf46-191e0165ef7f"
      },
      "execution_count": 18,
      "outputs": [
        {
          "output_type": "error",
          "ename": "KeyError",
          "evalue": "ignored",
          "traceback": [
            "\u001b[0;31m---------------------------------------------------------------------------\u001b[0m",
            "\u001b[0;31mKeyError\u001b[0m                                  Traceback (most recent call last)",
            "\u001b[0;32m<ipython-input-18-195c81afe101>\u001b[0m in \u001b[0;36m<module>\u001b[0;34m()\u001b[0m\n\u001b[0;32m----> 1\u001b[0;31m \u001b[0mclasses\u001b[0m \u001b[0;34m=\u001b[0m \u001b[0mpd\u001b[0m\u001b[0;34m.\u001b[0m\u001b[0mget_dummies\u001b[0m\u001b[0;34m(\u001b[0m\u001b[0manswers\u001b[0m\u001b[0;34m[\u001b[0m\u001b[0;34m[\u001b[0m\u001b[0;34m'answer'\u001b[0m\u001b[0;34m]\u001b[0m\u001b[0;34m]\u001b[0m\u001b[0;34m,\u001b[0m \u001b[0mcolumns\u001b[0m \u001b[0;34m=\u001b[0m \u001b[0;34m[\u001b[0m\u001b[0;34m'answer'\u001b[0m\u001b[0;34m]\u001b[0m\u001b[0;34m)\u001b[0m\u001b[0;34m.\u001b[0m\u001b[0mto_numpy\u001b[0m\u001b[0;34m(\u001b[0m\u001b[0;34m)\u001b[0m\u001b[0;34m\u001b[0m\u001b[0;34m\u001b[0m\u001b[0m\n\u001b[0m",
            "\u001b[0;32m/usr/local/lib/python3.7/dist-packages/pandas/core/frame.py\u001b[0m in \u001b[0;36m__getitem__\u001b[0;34m(self, key)\u001b[0m\n\u001b[1;32m   3462\u001b[0m             \u001b[0;32mif\u001b[0m \u001b[0mis_iterator\u001b[0m\u001b[0;34m(\u001b[0m\u001b[0mkey\u001b[0m\u001b[0;34m)\u001b[0m\u001b[0;34m:\u001b[0m\u001b[0;34m\u001b[0m\u001b[0;34m\u001b[0m\u001b[0m\n\u001b[1;32m   3463\u001b[0m                 \u001b[0mkey\u001b[0m \u001b[0;34m=\u001b[0m \u001b[0mlist\u001b[0m\u001b[0;34m(\u001b[0m\u001b[0mkey\u001b[0m\u001b[0;34m)\u001b[0m\u001b[0;34m\u001b[0m\u001b[0;34m\u001b[0m\u001b[0m\n\u001b[0;32m-> 3464\u001b[0;31m             \u001b[0mindexer\u001b[0m \u001b[0;34m=\u001b[0m \u001b[0mself\u001b[0m\u001b[0;34m.\u001b[0m\u001b[0mloc\u001b[0m\u001b[0;34m.\u001b[0m\u001b[0m_get_listlike_indexer\u001b[0m\u001b[0;34m(\u001b[0m\u001b[0mkey\u001b[0m\u001b[0;34m,\u001b[0m \u001b[0maxis\u001b[0m\u001b[0;34m=\u001b[0m\u001b[0;36m1\u001b[0m\u001b[0;34m)\u001b[0m\u001b[0;34m[\u001b[0m\u001b[0;36m1\u001b[0m\u001b[0;34m]\u001b[0m\u001b[0;34m\u001b[0m\u001b[0;34m\u001b[0m\u001b[0m\n\u001b[0m\u001b[1;32m   3465\u001b[0m \u001b[0;34m\u001b[0m\u001b[0m\n\u001b[1;32m   3466\u001b[0m         \u001b[0;31m# take() does not accept boolean indexers\u001b[0m\u001b[0;34m\u001b[0m\u001b[0;34m\u001b[0m\u001b[0;34m\u001b[0m\u001b[0m\n",
            "\u001b[0;32m/usr/local/lib/python3.7/dist-packages/pandas/core/indexing.py\u001b[0m in \u001b[0;36m_get_listlike_indexer\u001b[0;34m(self, key, axis)\u001b[0m\n\u001b[1;32m   1312\u001b[0m             \u001b[0mkeyarr\u001b[0m\u001b[0;34m,\u001b[0m \u001b[0mindexer\u001b[0m\u001b[0;34m,\u001b[0m \u001b[0mnew_indexer\u001b[0m \u001b[0;34m=\u001b[0m \u001b[0max\u001b[0m\u001b[0;34m.\u001b[0m\u001b[0m_reindex_non_unique\u001b[0m\u001b[0;34m(\u001b[0m\u001b[0mkeyarr\u001b[0m\u001b[0;34m)\u001b[0m\u001b[0;34m\u001b[0m\u001b[0;34m\u001b[0m\u001b[0m\n\u001b[1;32m   1313\u001b[0m \u001b[0;34m\u001b[0m\u001b[0m\n\u001b[0;32m-> 1314\u001b[0;31m         \u001b[0mself\u001b[0m\u001b[0;34m.\u001b[0m\u001b[0m_validate_read_indexer\u001b[0m\u001b[0;34m(\u001b[0m\u001b[0mkeyarr\u001b[0m\u001b[0;34m,\u001b[0m \u001b[0mindexer\u001b[0m\u001b[0;34m,\u001b[0m \u001b[0maxis\u001b[0m\u001b[0;34m)\u001b[0m\u001b[0;34m\u001b[0m\u001b[0;34m\u001b[0m\u001b[0m\n\u001b[0m\u001b[1;32m   1315\u001b[0m \u001b[0;34m\u001b[0m\u001b[0m\n\u001b[1;32m   1316\u001b[0m         if needs_i8_conversion(ax.dtype) or isinstance(\n",
            "\u001b[0;32m/usr/local/lib/python3.7/dist-packages/pandas/core/indexing.py\u001b[0m in \u001b[0;36m_validate_read_indexer\u001b[0;34m(self, key, indexer, axis)\u001b[0m\n\u001b[1;32m   1372\u001b[0m                 \u001b[0;32mif\u001b[0m \u001b[0muse_interval_msg\u001b[0m\u001b[0;34m:\u001b[0m\u001b[0;34m\u001b[0m\u001b[0;34m\u001b[0m\u001b[0m\n\u001b[1;32m   1373\u001b[0m                     \u001b[0mkey\u001b[0m \u001b[0;34m=\u001b[0m \u001b[0mlist\u001b[0m\u001b[0;34m(\u001b[0m\u001b[0mkey\u001b[0m\u001b[0;34m)\u001b[0m\u001b[0;34m\u001b[0m\u001b[0;34m\u001b[0m\u001b[0m\n\u001b[0;32m-> 1374\u001b[0;31m                 \u001b[0;32mraise\u001b[0m \u001b[0mKeyError\u001b[0m\u001b[0;34m(\u001b[0m\u001b[0;34mf\"None of [{key}] are in the [{axis_name}]\"\u001b[0m\u001b[0;34m)\u001b[0m\u001b[0;34m\u001b[0m\u001b[0;34m\u001b[0m\u001b[0m\n\u001b[0m\u001b[1;32m   1375\u001b[0m \u001b[0;34m\u001b[0m\u001b[0m\n\u001b[1;32m   1376\u001b[0m             \u001b[0mnot_found\u001b[0m \u001b[0;34m=\u001b[0m \u001b[0mlist\u001b[0m\u001b[0;34m(\u001b[0m\u001b[0mensure_index\u001b[0m\u001b[0;34m(\u001b[0m\u001b[0mkey\u001b[0m\u001b[0;34m)\u001b[0m\u001b[0;34m[\u001b[0m\u001b[0mmissing_mask\u001b[0m\u001b[0;34m.\u001b[0m\u001b[0mnonzero\u001b[0m\u001b[0;34m(\u001b[0m\u001b[0;34m)\u001b[0m\u001b[0;34m[\u001b[0m\u001b[0;36m0\u001b[0m\u001b[0;34m]\u001b[0m\u001b[0;34m]\u001b[0m\u001b[0;34m.\u001b[0m\u001b[0munique\u001b[0m\u001b[0;34m(\u001b[0m\u001b[0;34m)\u001b[0m\u001b[0;34m)\u001b[0m\u001b[0;34m\u001b[0m\u001b[0;34m\u001b[0m\u001b[0m\n",
            "\u001b[0;31mKeyError\u001b[0m: \"None of [Index(['answer'], dtype='object')] are in the [columns]\""
          ]
        }
      ]
    },
    {
      "cell_type": "code",
      "source": [
        "np.random.shuffle(train_folders) # 일반화 가능성 높이기"
      ],
      "metadata": {
        "id": "5qA2JYikH52y"
      },
      "execution_count": null,
      "outputs": []
    },
    {
      "cell_type": "code",
      "source": [
        ""
      ],
      "metadata": {
        "id": "jD3GyqnUH6yW"
      },
      "execution_count": null,
      "outputs": []
    },
    {
      "cell_type": "code",
      "source": [
        "X = np.array(images)\n",
        "print('Train X Shape : ', X.shape)\n",
        "\n",
        "y = np.array(targets)\n",
        "print('Train y Shape : ', y.shape)\n",
        "\n",
        "X_train, X_valid, y_train, y_valid = train_test_split(X, y, \n",
        "                                                      random_state=2021, \n",
        "                                                      test_size=0.2, \n",
        "                                                      stratify = y)\n",
        "\n",
        "print('X_train shape : ', X_train.shape)\n",
        "print('X_valid shape : ', X_valid.shape)\n",
        "print('y_train shape : ', y_train.shape)\n",
        "print('y_valid shape : ', y_valid.shape)"
      ],
      "metadata": {
        "colab": {
          "base_uri": "https://localhost:8080/"
        },
        "id": "pkkIDyHLH8Pb",
        "outputId": "273fe810-c1ab-4d94-e1b7-dde09b4d6d1c"
      },
      "execution_count": 27,
      "outputs": [
        {
          "output_type": "stream",
          "name": "stdout",
          "text": [
            "Train X Shape :  (5888, 224, 224, 3)\n",
            "Train y Shape :  (5888, 157)\n",
            "X_train shape :  (4710, 224, 224, 3)\n",
            "X_valid shape :  (1178, 224, 224, 3)\n",
            "y_train shape :  (4710, 157)\n",
            "y_valid shape :  (1178, 157)\n"
          ]
        }
      ]
    },
    {
      "cell_type": "code",
      "source": [
        "test_images  = []\n",
        "for test_folder in tqdm(test_folders, total = len(test_folders)) :\n",
        "    image_paths = sorted(glob(test_folder + '/*.png'), key = lambda x : int(x.split('/')[-1].replace('.png','')))\n",
        "    query_path  = test_folder.replace(data_path,'')\n",
        "    test_image = []\n",
        "    for image_path in image_paths:\n",
        "        img = image.load_img(image_path, target_size=(224,224,3))\n",
        "        img = image.img_to_array(img)\n",
        "        img = img/255\n",
        "        test_image.append(img)\n",
        "    test_images.append(test_image)\n",
        "\n",
        "test_images = np.array(test_images)\n",
        "print(test_images.shape)"
      ],
      "metadata": {
        "colab": {
          "base_uri": "https://localhost:8080/"
        },
        "id": "_0i-sfs3H93I",
        "outputId": "a936f7d1-dea6-4712-c05e-52ff24cf86d9"
      },
      "execution_count": null,
      "outputs": [
        {
          "output_type": "stream",
          "name": "stderr",
          "text": [
            " 23%|██▎       | 50/217 [00:35<01:52,  1.49it/s]"
          ]
        }
      ]
    },
    {
      "cell_type": "markdown",
      "source": [
        "# Modeling"
      ],
      "metadata": {
        "id": "DH_za-ROH-kc"
      }
    },
    {
      "cell_type": "code",
      "source": [
        "baseModel = VGG16(weights='imagenet', include_top=False)\n",
        "baseModel.trainable = False\n",
        "\n",
        "model_in = Input(shape = (224,224,3))\n",
        "base_model = baseModel(model_in)\n",
        "head_model = AveragePooling2D(pool_size=(7, 7))(base_model)\n",
        "head_model = Flatten(name=\"flatten\")(head_model)\n",
        "head_model = Dense(512, activation=\"relu\")(head_model)\n",
        "head_model = Dropout(0.2)(head_model)\n",
        "head_model = Dense(256, activation=\"relu\")(head_model)\n",
        "head_model = Dropout(0.2)(head_model)\n",
        "model_out = Dense(classes.shape[1], activation=\"softmax\")(head_model)\n",
        "\n",
        "model = Model(inputs=model_in, outputs=model_out)\n",
        "\n",
        "model.compile(loss='categorical_crossentropy',optimizer='Adam',metrics=['accuracy'])\n",
        "\n",
        "model.fit(X_train, y_train, \n",
        "          validation_data = (X_valid, y_valid),\n",
        "          epochs=20,\n",
        "          verbose = 1,\n",
        "          batch_size=128)"
      ],
      "metadata": {
        "id": "Fz-7ii4SIAdM"
      },
      "execution_count": null,
      "outputs": []
    },
    {
      "cell_type": "code",
      "source": [
        "predictions = []\n",
        "for test_image in tqdm(test_images, total = len(test_images)) : \n",
        "    prediction = np.mean(model.predict(np.array(test_image)), axis = 0)\n",
        "    predictions.append(prediction)\n",
        "\n",
        "sample_submission.iloc[:,1:] = predictions\n",
        "display(sample_submission.head())\n",
        "sample_submission.to_csv('./BASELINE.csv', index=False)"
      ],
      "metadata": {
        "id": "hGbqgv8oIB92"
      },
      "execution_count": null,
      "outputs": []
    },
    {
      "cell_type": "code",
      "source": [
        ""
      ],
      "metadata": {
        "id": "32ugaRopX16J"
      },
      "execution_count": null,
      "outputs": []
    }
  ]
}