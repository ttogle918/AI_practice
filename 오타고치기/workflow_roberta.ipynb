{
  "nbformat": 4,
  "nbformat_minor": 0,
  "metadata": {
    "colab": {
      "provenance": [],
      "toc_visible": true,
      "authorship_tag": "ABX9TyNlLtQ4pTCxkCjabPNWav6d",
      "include_colab_link": true
    },
    "kernelspec": {
      "name": "python3",
      "display_name": "Python 3"
    },
    "language_info": {
      "name": "python"
    }
  },
  "cells": [
    {
      "cell_type": "markdown",
      "metadata": {
        "id": "view-in-github",
        "colab_type": "text"
      },
      "source": [
        "<a href=\"https://colab.research.google.com/github/ttogle918/AI_practice/blob/main/%EC%98%A4%ED%83%80%EA%B3%A0%EC%B9%98%EA%B8%B0/workflow_roberta.ipynb\" target=\"_parent\"><img src=\"https://colab.research.google.com/assets/colab-badge.svg\" alt=\"Open In Colab\"/></a>"
      ]
    },
    {
      "cell_type": "code",
      "execution_count": null,
      "metadata": {
        "id": "NGrdA35dBE-M"
      },
      "outputs": [],
      "source": [
        "!pip install pytorch-transformers transformers\n",
        "!pip install datasets\n",
        "!pip install konlpy\n",
        "!pip install jamo"
      ]
    },
    {
      "cell_type": "code",
      "source": [
        "from transformers import AutoTokenizer\n",
        "\n",
        "from transformers import pipeline\n",
        "\n",
        "import konlpy\n",
        "\n",
        "import numpy as np"
      ],
      "metadata": {
        "id": "9lzAHfgSEO1P"
      },
      "execution_count": null,
      "outputs": []
    },
    {
      "cell_type": "markdown",
      "source": [
        "# tokenizer"
      ],
      "metadata": {
        "id": "xpqfxPjc5WeY"
      }
    },
    {
      "cell_type": "code",
      "source": [
        "tokenizer = AutoTokenizer.from_pretrained('klue/roberta-base')\n",
        "model_name = 'klue/roberta-base'"
      ],
      "metadata": {
        "id": "sTLmvU3fDCL_"
      },
      "execution_count": null,
      "outputs": []
    },
    {
      "cell_type": "code",
      "source": [
        "text = '1839년 바그너는 괴테의 파우스트을 처음 읽고 그 내용에 마음이 끌려 이를 소재로 해서 하나의 교향곡을 쓰려는 뜻을 갖는다. 이 시기 바그너는 1838년에 빛 독촉으로 산전수전을 다 걲은 상황이라 좌절과 실망에 가득했으며 메피스토펠레스를 만나는 파우스트의 심경에 공감했다고 한다. 또한 파리에서 아브네크의 지휘로 파리 음악원 관현악단이 연주하는 베토벤의 교향곡 9번을 듣고 깊은 감명을 받았는데, 이것이 이듬해 1월에 파우스트의 서곡으로 쓰여진 이 작품에 조금이라도 영향을 끼쳤으리라는 것은 의심할 여지가 없다. 여기의 라단조 조성의 경우에도 그의 전기에 적혀 있는 것처럼 단순한 정신적 피로나 실의가 반영된 것이 아니라 베토벤의 합창교향곡 조성의 영향을 받은 것을 볼 수 있다. 그렇게 교향곡 작곡을 1839년부터 40년에 걸쳐 파리에서 착수했으나 1악장을 쓴 뒤에 중단했다. 또한 작품의 완성과 동시에 그는 이 서곡(1악장)을 파리 음악원의 연주회에서 연주할 파트보까지 준비하였으나, 실제로는 이루어지지는 않았다. 결국 초연은 4년 반이 지난 후에 드레스덴에서 연주되었고 재연도 이루어졌지만, 이후에 그대로 방치되고 말았다. 그 사이에 그는 리엔치와 방황하는 네덜란드인을 완성하고 탄호이저에도 착수하는 등 분주한 시간을 보냈는데, 그런 바쁜 생활이 이 곡을 잊게 한 것이 아닌가 하는 의견도 있다.'"
      ],
      "metadata": {
        "id": "53Nl080jQQNX"
      },
      "execution_count": null,
      "outputs": []
    },
    {
      "cell_type": "code",
      "source": [
        "text = text.replace('. ', '.\\n').split('\\n')"
      ],
      "metadata": {
        "id": "AV2S62qR5dXL"
      },
      "execution_count": null,
      "outputs": []
    },
    {
      "cell_type": "code",
      "source": [
        "input_tok = tokenizer(text, add_special_tokens=False).input_ids\n",
        "print(input_tok)"
      ],
      "metadata": {
        "colab": {
          "base_uri": "https://localhost:8080/"
        },
        "id": "Sbp8vBWpQf9v",
        "outputId": "fc89947a-9bda-4055-b98c-cf7ed9382631"
      },
      "execution_count": null,
      "outputs": [
        {
          "output_type": "stream",
          "name": "stdout",
          "text": [
            "[[13934, 2236, 2440, 27982, 2259, 21310, 2079, 11994, 3791, 2069, 3790, 1508, 2088, 636, 3800, 2170, 3717, 2052, 9001, 8345, 4642, 2200, 3689, 3657, 2079, 19282, 2069, 1363, 2370, 2259, 936, 2069, 554, 2259, 2062, 18], [1504, 4342, 27982, 2259, 13934, 2196, 2440, 2170, 1195, 23260, 6233, 17370, 2113, 2165, 2069, 809, 3, 3706, 2052, 2181, 8642, 2145, 7334, 2170, 4983, 2371, 4007, 1065, 5917, 2386, 2559, 4443, 2138, 4026, 2259, 11994, 3791, 2079, 15864, 2170, 5487, 2371, 4683, 3605, 18], [3819, 5986, 27135, 1376, 2645, 2203, 2292, 2079, 5872, 2200, 5986, 4152, 2252, 22835, 16706, 2052, 5485, 2205, 2259, 17087, 2079, 19282, 29, 2517, 2069, 881, 2088, 652, 2073, 23404, 2069, 1122, 2886, 13964, 16, 3982, 2052, 9944, 21, 2429, 2170, 11994, 3791, 2079, 1258, 2465, 6233, 24294, 1504, 3967, 2170, 4027, 2052, 5121, 3979, 2069, 18274, 21575, 23548, 575, 2073, 5292, 2085, 7251, 2116, 1415, 2062, 18], [3776, 2079, 942, 2286, 2446, 4196, 2079, 3640, 6509, 636, 2079, 4450, 2170, 10329, 1513, 2259, 575, 7925, 4488, 2470, 4006, 2125, 7874, 2075, 1329, 2079, 2116, 4523, 2897, 575, 2052, 3614, 2181, 17087, 2079, 10044, 2120, 2482, 2465, 4196, 2079, 3979, 2069, 1122, 2073, 575, 2069, 1164, 1295, 1513, 2062, 18], [3914, 19282, 8067, 2069, 13934, 2236, 2440, 3797, 4064, 2440, 2170, 5314, 5986, 27135, 7615, 2371, 4381, 21, 2376, 2121, 2069, 1365, 873, 2170, 4967, 2371, 2062, 18], [3819, 3967, 2079, 4976, 2145, 4213, 2170, 636, 2259, 1504, 1258, 2465, 12, 21, 2376, 2121, 13, 1498, 5986, 4152, 2252, 2079, 16385, 27135, 5485, 2085, 6237, 2178, 2299, 2118, 3864, 2205, 2507, 4381, 16, 4539, 2259, 6268, 2118, 2259, 1380, 2886, 2062, 18], [3983, 16087, 2073, 24, 2440, 1121, 2052, 3625, 1943, 2170, 9605, 2906, 27135, 5485, 2496, 2359, 2088, 17807, 2119, 4046, 6028, 3683, 16, 3719, 2170, 4311, 8095, 2496, 2088, 1041, 2886, 2062, 18], [636, 3734, 2170, 636, 2259, 1028, 2614, 2225, 2522, 14231, 2205, 2259, 8445, 2179, 2069, 4976, 19521, 1763, 2016, 2052, 2190, 6509, 7615, 2205, 2259, 886, 12100, 2470, 3641, 2069, 5755, 13964, 16, 3637, 9064, 3799, 2052, 1504, 595, 2069, 1515, 2318, 1891, 575, 2052, 5215, 1889, 2259, 4192, 2119, 1513, 2062, 18]]\n"
          ]
        }
      ]
    },
    {
      "cell_type": "markdown",
      "source": [
        "# unk된 단어 찾기"
      ],
      "metadata": {
        "id": "-dAi_fqp5hKs"
      }
    },
    {
      "cell_type": "code",
      "source": [
        "dec_str = tokenizer.decode(input_tok[1])"
      ],
      "metadata": {
        "id": "OJhMLrzjQ7ZJ"
      },
      "execution_count": null,
      "outputs": []
    },
    {
      "cell_type": "code",
      "source": [
        "print(dec_str)\n",
        "print(text[1])\n",
        "print(dec_str.replace(' ', ''))\n",
        "print(text[1].replace(' ', ''))"
      ],
      "metadata": {
        "colab": {
          "base_uri": "https://localhost:8080/"
        },
        "id": "n8kq8TvUv1qs",
        "outputId": "ed06812b-86be-4517-947a-015e6bdb7158"
      },
      "execution_count": null,
      "outputs": [
        {
          "output_type": "stream",
          "name": "stdout",
          "text": [
            "이 시기 바그너는 1838년에 빛 독촉으로 산전수전을 다 [UNK] 상황이라 좌절과 실망에 가득했으며 메피스토펠레스를 만나는 파우스트의 심경에 공감했다고 한다.\n",
            "이 시기 바그너는 1838년에 빛 독촉으로 산전수전을 다 걲은 상황이라 좌절과 실망에 가득했으며 메피스토펠레스를 만나는 파우스트의 심경에 공감했다고 한다.\n",
            "이시기바그너는1838년에빛독촉으로산전수전을다[UNK]상황이라좌절과실망에가득했으며메피스토펠레스를만나는파우스트의심경에공감했다고한다.\n",
            "이시기바그너는1838년에빛독촉으로산전수전을다걲은상황이라좌절과실망에가득했으며메피스토펠레스를만나는파우스트의심경에공감했다고한다.\n"
          ]
        }
      ]
    },
    {
      "cell_type": "code",
      "source": [
        "dec_str.count('[UNK]')"
      ],
      "metadata": {
        "colab": {
          "base_uri": "https://localhost:8080/"
        },
        "id": "nGByRn6EyfCJ",
        "outputId": "29a82b8c-6a71-44fb-b712-b9aa720939a1"
      },
      "execution_count": null,
      "outputs": [
        {
          "output_type": "execute_result",
          "data": {
            "text/plain": [
              "1"
            ]
          },
          "metadata": {},
          "execution_count": 8
        }
      ]
    },
    {
      "cell_type": "code",
      "source": [
        "# 1문장에 1개의 unk가 있을 때 사용 가능\n",
        "s_idx, e_idx, ori_len, dec_len = 0, 1, len(text[1]), len(dec_str)\n",
        "while s_idx < len(text[1]) :\n",
        "  if dec_str[s_idx] != text[1][s_idx] :\n",
        "    break\n",
        "  s_idx += 1\n",
        "\n",
        "if dec_str[s_idx:s_idx+5] == '[UNK]' :\n",
        "  unk_word = text[1][s_idx: text[1].index(dec_str[s_idx+5:]):]\n",
        "  \n",
        "unk_word"
      ],
      "metadata": {
        "colab": {
          "base_uri": "https://localhost:8080/",
          "height": 35
        },
        "id": "lyvLTEr9wYFo",
        "outputId": "0f485153-3f59-41fa-97ef-b25e523fb830"
      },
      "execution_count": null,
      "outputs": [
        {
          "output_type": "execute_result",
          "data": {
            "text/plain": [
              "'걲은'"
            ],
            "application/vnd.google.colaboratory.intrinsic+json": {
              "type": "string"
            }
          },
          "metadata": {},
          "execution_count": 9
        }
      ]
    },
    {
      "cell_type": "markdown",
      "source": [
        "# 방법 1 : 형태소 분리 ( 글자 단위 ) : 등록되지 않은 vocab를 찾기 위해 조사 제거 \n",
        "\n",
        "(조사 : 은/는/이/가, 을/를)"
      ],
      "metadata": {
        "id": "Yi50VYln5nLT"
      }
    },
    {
      "cell_type": "code",
      "source": [
        "from konlpy.tag import *\n",
        "okt = Okt()\n",
        "unk_tokens = okt.morphs(unk_word)\n",
        "unk_tokens"
      ],
      "metadata": {
        "colab": {
          "base_uri": "https://localhost:8080/"
        },
        "id": "I7ymVmJ1VjHb",
        "outputId": "133fa8ee-6387-4cee-f594-c044bd9208a0"
      },
      "execution_count": null,
      "outputs": [
        {
          "output_type": "execute_result",
          "data": {
            "text/plain": [
              "['걲', '은']"
            ]
          },
          "metadata": {},
          "execution_count": 10
        }
      ]
    },
    {
      "cell_type": "code",
      "source": [
        "unk_input_ids = tokenizer(unk_tokens, add_special_tokens=False).input_ids\n",
        "unk_input_ids"
      ],
      "metadata": {
        "colab": {
          "base_uri": "https://localhost:8080/"
        },
        "id": "RyeKTFZhs8Pl",
        "outputId": "be873a74-33d6-4f48-e114-09164cb46ead"
      },
      "execution_count": null,
      "outputs": [
        {
          "output_type": "execute_result",
          "data": {
            "text/plain": [
              "[[3], [1497]]"
            ]
          },
          "metadata": {},
          "execution_count": 11
        }
      ]
    },
    {
      "cell_type": "markdown",
      "source": [
        "## unknown => MASK, MASK 단어 찾기"
      ],
      "metadata": {
        "id": "EkhFKAWW59N6"
      }
    },
    {
      "cell_type": "code",
      "source": [
        "masked_word = tokenizer.decode(np.squeeze(np.array(unk_input_ids))).replace(' ', '').replace('[UNK]', '[MASK]')"
      ],
      "metadata": {
        "id": "pPbPOtoMrEsR"
      },
      "execution_count": null,
      "outputs": []
    },
    {
      "cell_type": "code",
      "source": [
        "unmasker = pipeline('fill-mask', model=\"klue/roberta-base\")\n",
        "result = unmasker(text[1].replace(unk_word, tokenizer.decode(np.squeeze(np.array(unk_input_ids))).replace(' ', '').replace('[UNK]', '[MASK]')))\n",
        "result"
      ],
      "metadata": {
        "colab": {
          "base_uri": "https://localhost:8080/"
        },
        "id": "UYihUfrXNShk",
        "outputId": "ef4d42ac-897b-43fe-9be0-ebf91d969a87"
      },
      "execution_count": null,
      "outputs": [
        {
          "output_type": "execute_result",
          "data": {
            "text/plain": [
              "[{'score': 0.9230109453201294,\n",
              "  'token': 585,\n",
              "  'token_str': '겪',\n",
              "  'sequence': '이 시기 바그너는 1838년에 빛 독촉으로 산전수전을 다 겪 은 상황이라 좌절과 실망에 가득했으며 메피스토펠레스를 만나는 파우스트의 심경에 공감했다고 한다.'},\n",
              " {'score': 0.03910262882709503,\n",
              "  'token': 809,\n",
              "  'token_str': '다',\n",
              "  'sequence': '이 시기 바그너는 1838년에 빛 독촉으로 산전수전을 다 다 은 상황이라 좌절과 실망에 가득했으며 메피스토펠레스를 만나는 파우스트의 심경에 공감했다고 한다.'},\n",
              " {'score': 0.006818738300353289,\n",
              "  'token': 7869,\n",
              "  'token_str': '거친',\n",
              "  'sequence': '이 시기 바그너는 1838년에 빛 독촉으로 산전수전을 다 거친 은 상황이라 좌절과 실망에 가득했으며 메피스토펠레스를 만나는 파우스트의 심경에 공감했다고 한다.'},\n",
              " {'score': 0.004047481343150139,\n",
              "  'token': 4043,\n",
              "  'token_str': '경험',\n",
              "  'sequence': '이 시기 바그너는 1838년에 빛 독촉으로 산전수전을 다 경험 은 상황이라 좌절과 실망에 가득했으며 메피스토펠레스를 만나는 파우스트의 심경에 공감했다고 한다.'},\n",
              " {'score': 0.002834779443219304,\n",
              "  'token': 4811,\n",
              "  'token_str': '거쳐',\n",
              "  'sequence': '이 시기 바그너는 1838년에 빛 독촉으로 산전수전을 다 거쳐 은 상황이라 좌절과 실망에 가득했으며 메피스토펠레스를 만나는 파우스트의 심경에 공감했다고 한다.'}]"
            ]
          },
          "metadata": {},
          "execution_count": 14
        }
      ]
    },
    {
      "cell_type": "code",
      "source": [
        "token_str = []\n",
        "token = []\n",
        "for res in result :\n",
        "  if res['score'] < 0.5 :\n",
        "    break\n",
        "  token_str.append(res['token_str'])\n",
        "  token.append(res['token'])\n",
        "\n",
        "print(token_str, token)"
      ],
      "metadata": {
        "colab": {
          "base_uri": "https://localhost:8080/"
        },
        "id": "6w8fajsRPi8m",
        "outputId": "e46a71cc-956c-4144-8121-4cd7e76822dc"
      },
      "execution_count": null,
      "outputs": [
        {
          "output_type": "stream",
          "name": "stdout",
          "text": [
            "['겪'] [585]\n"
          ]
        }
      ]
    },
    {
      "cell_type": "code",
      "source": [
        "except_masked_word = masked_word.replace('[MASK]', '')\n",
        "except_masked_word"
      ],
      "metadata": {
        "colab": {
          "base_uri": "https://localhost:8080/",
          "height": 35
        },
        "id": "ZSVOwKXR3_o6",
        "outputId": "d21fcb92-f23d-43c4-9d69-26b770ad1fe6"
      },
      "execution_count": null,
      "outputs": [
        {
          "output_type": "execute_result",
          "data": {
            "text/plain": [
              "'은'"
            ],
            "application/vnd.google.colaboratory.intrinsic+json": {
              "type": "string"
            }
          },
          "metadata": {},
          "execution_count": 16
        }
      ]
    },
    {
      "cell_type": "code",
      "source": [
        "unk_tokens.remove(except_masked_word)"
      ],
      "metadata": {
        "id": "q4cGmoud4W0O"
      },
      "execution_count": null,
      "outputs": []
    },
    {
      "cell_type": "code",
      "source": [
        "unk_tokens"
      ],
      "metadata": {
        "colab": {
          "base_uri": "https://localhost:8080/"
        },
        "id": "EoKcKqo94hZG",
        "outputId": "811ae2e5-e2f1-468c-ad36-9ea3641563ba"
      },
      "execution_count": null,
      "outputs": [
        {
          "output_type": "execute_result",
          "data": {
            "text/plain": [
              "['걲']"
            ]
          },
          "metadata": {},
          "execution_count": 18
        }
      ]
    },
    {
      "cell_type": "code",
      "source": [
        "unk_word_new = ''.join(unk_tokens)\n",
        "unk_word_new"
      ],
      "metadata": {
        "colab": {
          "base_uri": "https://localhost:8080/",
          "height": 35
        },
        "id": "oNRIWe_m4kjK",
        "outputId": "c0ebf1f8-1245-4404-cee2-a51d2f5a24d9"
      },
      "execution_count": null,
      "outputs": [
        {
          "output_type": "execute_result",
          "data": {
            "text/plain": [
              "'걲'"
            ],
            "application/vnd.google.colaboratory.intrinsic+json": {
              "type": "string"
            }
          },
          "metadata": {},
          "execution_count": 19
        }
      ]
    },
    {
      "cell_type": "markdown",
      "source": [
        "## 모음 자음 분리\n",
        "\n",
        "가정 : 오타일 때, 모음 자음이 비슷할 것이다. 1개 차이날 것이다.\n"
      ],
      "metadata": {
        "id": "fYwMOAxJ1y_z"
      }
    },
    {
      "cell_type": "code",
      "source": [
        "from jamo import h2j, j2hcj\n",
        "origin_jamo = j2hcj(h2j(unk_word_new))\n",
        "print(origin_jamo)\n",
        "\n",
        "modify_jamo = j2hcj(h2j(token_str[0]))\n",
        "print(modify_jamo)"
      ],
      "metadata": {
        "colab": {
          "base_uri": "https://localhost:8080/"
        },
        "id": "OOcC85aH1yzb",
        "outputId": "dcd90c87-ef91-4803-8fc0-5e0f6166e41e"
      },
      "execution_count": null,
      "outputs": [
        {
          "output_type": "stream",
          "name": "stdout",
          "text": [
            "ㄱㅓㄲ\n",
            "ㄱㅕㄲ\n"
          ]
        }
      ]
    },
    {
      "cell_type": "code",
      "source": [
        "diff = 0\n",
        "diff_list = []    # 다른 것 개수 넣는 list. 낮을 수록 정답(수정된 오타)일 가능성이 높다.\n",
        "# unk가 여러개라면 for문 한번 더 씌우기\n",
        "\n",
        "for ori, modi in zip(origin_jamo, modify_jamo) :\n",
        "  if ori != modi :\n",
        "    diff += 1\n",
        "diff_list.append(diff)\n",
        "diff_list"
      ],
      "metadata": {
        "colab": {
          "base_uri": "https://localhost:8080/"
        },
        "id": "DB1Sc6k51jvQ",
        "outputId": "1c8d67a7-3f88-4502-97bd-dc54fd3c8d67"
      },
      "execution_count": null,
      "outputs": [
        {
          "output_type": "execute_result",
          "data": {
            "text/plain": [
              "[1]"
            ]
          },
          "metadata": {},
          "execution_count": 21
        }
      ]
    },
    {
      "cell_type": "markdown",
      "source": [
        "# 방법 2 : UNK단어를 형태소 분리 후, 분리된 개수만큼 MASK하기"
      ],
      "metadata": {
        "id": "-2IpICjk9jJp"
      }
    },
    {
      "cell_type": "code",
      "source": [
        "from konlpy.tag import *\n",
        "okt = Okt()\n",
        "unk_tokens = okt.morphs(unk_word)\n",
        "unk_tokens"
      ],
      "metadata": {
        "colab": {
          "base_uri": "https://localhost:8080/"
        },
        "outputId": "0e96f020-7fe2-4ef3-81fa-b092a7ec2789",
        "id": "faiPlXcW9rdh"
      },
      "execution_count": null,
      "outputs": [
        {
          "output_type": "execute_result",
          "data": {
            "text/plain": [
              "['걲', '은']"
            ]
          },
          "metadata": {},
          "execution_count": 22
        }
      ]
    },
    {
      "cell_type": "code",
      "source": [
        "unk_input_ids = tokenizer(unk_tokens, add_special_tokens=False).input_ids\n",
        "unk_input_ids"
      ],
      "metadata": {
        "colab": {
          "base_uri": "https://localhost:8080/"
        },
        "outputId": "f378aea0-f0c6-4dec-fa87-58cef0107be6",
        "id": "z1IVxB7g9rdh"
      },
      "execution_count": null,
      "outputs": [
        {
          "output_type": "execute_result",
          "data": {
            "text/plain": [
              "[[3], [1497]]"
            ]
          },
          "metadata": {},
          "execution_count": 23
        }
      ]
    },
    {
      "cell_type": "code",
      "source": [
        "dec_str.replace('[UNK]', '[MASK]'*len(unk_tokens))"
      ],
      "metadata": {
        "colab": {
          "base_uri": "https://localhost:8080/",
          "height": 35
        },
        "id": "gR6yMalm_RJt",
        "outputId": "9162af0b-94a9-4eec-ac4b-1a96a25fd6ab"
      },
      "execution_count": null,
      "outputs": [
        {
          "output_type": "execute_result",
          "data": {
            "text/plain": [
              "'이 시기 바그너는 1838년에 빛 독촉으로 산전수전을 다 [MASK][MASK] 상황이라 좌절과 실망에 가득했으며 메피스토펠레스를 만나는 파우스트의 심경에 공감했다고 한다.'"
            ],
            "application/vnd.google.colaboratory.intrinsic+json": {
              "type": "string"
            }
          },
          "metadata": {},
          "execution_count": 25
        }
      ]
    },
    {
      "cell_type": "markdown",
      "source": [
        "## unknown => MASK, MASK 단어 찾기"
      ],
      "metadata": {
        "id": "udLI_DG-9rdj"
      }
    },
    {
      "cell_type": "code",
      "source": [
        "unmasker = pipeline('fill-mask', model=\"klue/roberta-base\")\n",
        "result = unmasker(dec_str.replace('[UNK]', '[MASK]'*len(unk_tokens)))\n",
        "result"
      ],
      "metadata": {
        "colab": {
          "base_uri": "https://localhost:8080/"
        },
        "outputId": "0de7b10d-1592-4ee3-a898-b9f16033dac2",
        "id": "q8B_fRI59rdj"
      },
      "execution_count": null,
      "outputs": [
        {
          "output_type": "execute_result",
          "data": {
            "text/plain": [
              "[[{'score': 0.9967097043991089,\n",
              "   'token': 585,\n",
              "   'token_str': '겪',\n",
              "   'sequence': '[CLS] 이 시기 바그너는 1838년에 빛 독촉으로 산전수전을 다 겪 [MASK] 상황이라 좌절과 실망에 가득했으며 메피스토펠레스를 만나는 파우스트의 심경에 공감했다고 한다. [SEP]'},\n",
              "  {'score': 0.0013984332326799631,\n",
              "   'token': 4043,\n",
              "   'token_str': '경험',\n",
              "   'sequence': '[CLS] 이 시기 바그너는 1838년에 빛 독촉으로 산전수전을 다 경험 [MASK] 상황이라 좌절과 실망에 가득했으며 메피스토펠레스를 만나는 파우스트의 심경에 공감했다고 한다. [SEP]'},\n",
              "  {'score': 0.0003009070351254195,\n",
              "   'token': 3536,\n",
              "   'token_str': '##겪',\n",
              "   'sequence': '[CLS] 이 시기 바그너는 1838년에 빛 독촉으로 산전수전을 다겪 [MASK] 상황이라 좌절과 실망에 가득했으며 메피스토펠레스를 만나는 파우스트의 심경에 공감했다고 한다. [SEP]'},\n",
              "  {'score': 0.0002645011409185827,\n",
              "   'token': 809,\n",
              "   'token_str': '다',\n",
              "   'sequence': '[CLS] 이 시기 바그너는 1838년에 빛 독촉으로 산전수전을 다 다 [MASK] 상황이라 좌절과 실망에 가득했으며 메피스토펠레스를 만나는 파우스트의 심경에 공감했다고 한다. [SEP]'},\n",
              "  {'score': 0.0001285983744310215,\n",
              "   'token': 6880,\n",
              "   'token_str': '거치',\n",
              "   'sequence': '[CLS] 이 시기 바그너는 1838년에 빛 독촉으로 산전수전을 다 거치 [MASK] 상황이라 좌절과 실망에 가득했으며 메피스토펠레스를 만나는 파우스트의 심경에 공감했다고 한다. [SEP]'}],\n",
              " [{'score': 0.9637967944145203,\n",
              "   'token': 2073,\n",
              "   'token_str': '##은',\n",
              "   'sequence': '[CLS] 이 시기 바그너는 1838년에 빛 독촉으로 산전수전을 다 [MASK]은 상황이라 좌절과 실망에 가득했으며 메피스토펠레스를 만나는 파우스트의 심경에 공감했다고 한다. [SEP]'},\n",
              "  {'score': 0.017790716141462326,\n",
              "   'token': 2259,\n",
              "   'token_str': '##는',\n",
              "   'sequence': '[CLS] 이 시기 바그너는 1838년에 빛 독촉으로 산전수전을 다 [MASK]는 상황이라 좌절과 실망에 가득했으며 메피스토펠레스를 만나는 파우스트의 심경에 공감했다고 한다. [SEP]'},\n",
              "  {'score': 0.0074288672767579556,\n",
              "   'token': 2414,\n",
              "   'token_str': '##던',\n",
              "   'sequence': '[CLS] 이 시기 바그너는 1838년에 빛 독촉으로 산전수전을 다 [MASK]던 상황이라 좌절과 실망에 가득했으며 메피스토펠레스를 만나는 파우스트의 심경에 공감했다고 한다. [SEP]'},\n",
              "  {'score': 0.003338176291435957,\n",
              "   'token': 2470,\n",
              "   'token_str': '##한',\n",
              "   'sequence': '[CLS] 이 시기 바그너는 1838년에 빛 독촉으로 산전수전을 다 [MASK]한 상황이라 좌절과 실망에 가득했으며 메피스토펠레스를 만나는 파우스트의 심경에 공감했다고 한다. [SEP]'},\n",
              "  {'score': 0.0019035434816032648,\n",
              "   'token': 2069,\n",
              "   'token_str': '##을',\n",
              "   'sequence': '[CLS] 이 시기 바그너는 1838년에 빛 독촉으로 산전수전을 다 [MASK]을 상황이라 좌절과 실망에 가득했으며 메피스토펠레스를 만나는 파우스트의 심경에 공감했다고 한다. [SEP]'}]]"
            ]
          },
          "metadata": {},
          "execution_count": 60
        }
      ]
    },
    {
      "cell_type": "code",
      "source": [
        "modify_tokens = []"
      ],
      "metadata": {
        "id": "YWJyJAC5GNG3"
      },
      "execution_count": null,
      "outputs": []
    },
    {
      "cell_type": "code",
      "source": [
        "token_str = []\n",
        "token = []\n",
        "for res in result[0] :\n",
        "  if res['score'] < 0.1 :\n",
        "    break\n",
        "  token_str.append(res['token_str'])\n",
        "  token.append(res['token'])\n",
        "\n",
        "print(token_str, token)"
      ],
      "metadata": {
        "colab": {
          "base_uri": "https://localhost:8080/"
        },
        "id": "RLDh3PMaCblh",
        "outputId": "92991c54-54b0-454d-9ad2-f8bd0a19c1c9"
      },
      "execution_count": null,
      "outputs": [
        {
          "output_type": "stream",
          "name": "stdout",
          "text": [
            "['겪'] [585]\n"
          ]
        }
      ]
    },
    {
      "cell_type": "code",
      "source": [
        "modify_tokens.append(token_str)\n",
        "modify_tokens"
      ],
      "metadata": {
        "colab": {
          "base_uri": "https://localhost:8080/"
        },
        "id": "urDA01ZHGSue",
        "outputId": "2acb70c9-0028-4b83-e907-ac517a4388cb"
      },
      "execution_count": null,
      "outputs": [
        {
          "output_type": "execute_result",
          "data": {
            "text/plain": [
              "[['겪']]"
            ]
          },
          "metadata": {},
          "execution_count": 63
        }
      ]
    },
    {
      "cell_type": "code",
      "source": [
        "content = dec_str.replace('[UNK]', '[MASK]'*(len(unk_tokens)))\n",
        "\n",
        "created_content = []\n",
        "\n",
        "for tok in token_str :\n",
        "  created_content.append( content[:content.index('[MASK]')] + tok + content[content.index('[MASK]')+len('[MASK]'):] ) # [MASK][MASK] => [MASK]\n",
        "  \n",
        "  # result = unmasker(dec_str.replace('[UNK]', '[MASK]'*(len(unk_tokens)-1)))\n",
        "\n",
        "created_content"
      ],
      "metadata": {
        "colab": {
          "base_uri": "https://localhost:8080/"
        },
        "id": "orEtJCGUCj0G",
        "outputId": "3aea82d9-0984-4a96-fe4e-0724a188588d"
      },
      "execution_count": null,
      "outputs": [
        {
          "output_type": "execute_result",
          "data": {
            "text/plain": [
              "['이 시기 바그너는 1838년에 빛 독촉으로 산전수전을 다 겪[MASK] 상황이라 좌절과 실망에 가득했으며 메피스토펠레스를 만나는 파우스트의 심경에 공감했다고 한다.']"
            ]
          },
          "metadata": {},
          "execution_count": 64
        }
      ]
    },
    {
      "cell_type": "code",
      "source": [
        "for con in created_content :\n",
        "  result = unmasker(con)\n",
        "  print(result)"
      ],
      "metadata": {
        "colab": {
          "base_uri": "https://localhost:8080/"
        },
        "id": "KMyiJfSAEZG8",
        "outputId": "cfa4d767-7f08-4795-c567-a8ef0ca8470e"
      },
      "execution_count": null,
      "outputs": [
        {
          "output_type": "stream",
          "name": "stdout",
          "text": [
            "[{'score': 0.44891950488090515, 'token': 1497, 'token_str': '은', 'sequence': '이 시기 바그너는 1838년에 빛 독촉으로 산전수전을 다 겪 은 상황이라 좌절과 실망에 가득했으며 메피스토펠레스를 만나는 파우스트의 심경에 공감했다고 한다.'}, {'score': 0.19303810596466064, 'token': 793, 'token_str': '는', 'sequence': '이 시기 바그너는 1838년에 빛 독촉으로 산전수전을 다 겪 는 상황이라 좌절과 실망에 가득했으며 메피스토펠레스를 만나는 파우스트의 심경에 공감했다고 한다.'}, {'score': 0.06073576211929321, 'token': 1163, 'token_str': '본', 'sequence': '이 시기 바그너는 1838년에 빛 독촉으로 산전수전을 다 겪 본 상황이라 좌절과 실망에 가득했으며 메피스토펠레스를 만나는 파우스트의 심경에 공감했다고 한다.'}, {'score': 0.03921414539217949, 'token': 2073, 'token_str': '##은', 'sequence': '이 시기 바그너는 1838년에 빛 독촉으로 산전수전을 다 겪은 상황이라 좌절과 실망에 가득했으며 메피스토펠레스를 만나는 파우스트의 심경에 공감했다고 한다.'}, {'score': 0.02403109520673752, 'token': 833, 'token_str': '던', 'sequence': '이 시기 바그너는 1838년에 빛 독촉으로 산전수전을 다 겪 던 상황이라 좌절과 실망에 가득했으며 메피스토펠레스를 만나는 파우스트의 심경에 공감했다고 한다.'}]\n"
          ]
        }
      ]
    },
    {
      "cell_type": "code",
      "source": [
        "token_str = []\n",
        "token = []\n",
        "for res in result :\n",
        "  if res['score'] < 0.1 :\n",
        "    break\n",
        "  token_str.append(res['token_str'])\n",
        "  token.append(res['token'])\n",
        "\n",
        "print(token_str, token)"
      ],
      "metadata": {
        "colab": {
          "base_uri": "https://localhost:8080/"
        },
        "id": "irN8ZayoEnau",
        "outputId": "2cead5e1-4b0b-4da7-a68a-3e30f3f77c19"
      },
      "execution_count": null,
      "outputs": [
        {
          "output_type": "stream",
          "name": "stdout",
          "text": [
            "['은', '는'] [1497, 793]\n"
          ]
        }
      ]
    },
    {
      "cell_type": "code",
      "source": [
        "modify_tokens.append(token_str)\n",
        "modify_tokens"
      ],
      "metadata": {
        "colab": {
          "base_uri": "https://localhost:8080/"
        },
        "id": "rLsi6t3sGcR6",
        "outputId": "656e887f-1ad4-4aa6-bd63-0e372cad0a47"
      },
      "execution_count": null,
      "outputs": [
        {
          "output_type": "execute_result",
          "data": {
            "text/plain": [
              "[['겪'], ['은', '는']]"
            ]
          },
          "metadata": {},
          "execution_count": 67
        }
      ]
    },
    {
      "cell_type": "code",
      "source": [
        "for con in created_content :\n",
        "  for ss in token_str :\n",
        "    print(con.replace('[MASK]', ss))"
      ],
      "metadata": {
        "colab": {
          "base_uri": "https://localhost:8080/"
        },
        "id": "f3VPEL2QFFO3",
        "outputId": "f137e0ab-66af-4a6f-b4c2-bcd985f6b73f"
      },
      "execution_count": null,
      "outputs": [
        {
          "output_type": "stream",
          "name": "stdout",
          "text": [
            "이 시기 바그너는 1838년에 빛 독촉으로 산전수전을 다 겪은 상황이라 좌절과 실망에 가득했으며 메피스토펠레스를 만나는 파우스트의 심경에 공감했다고 한다.\n",
            "이 시기 바그너는 1838년에 빛 독촉으로 산전수전을 다 겪는 상황이라 좌절과 실망에 가득했으며 메피스토펠레스를 만나는 파우스트의 심경에 공감했다고 한다.\n"
          ]
        }
      ]
    },
    {
      "cell_type": "markdown",
      "source": [
        "## 모음 자음 분리\n",
        "\n",
        "가정 : 오타일 때, 모음 자음이 비슷할 것이다. 1개 차이날 것이다.\n"
      ],
      "metadata": {
        "id": "CuC8uaCt9rdk"
      }
    },
    {
      "cell_type": "code",
      "source": [
        "unk_tokens"
      ],
      "metadata": {
        "colab": {
          "base_uri": "https://localhost:8080/"
        },
        "id": "TctfjcHgGGqX",
        "outputId": "0cf66f57-14e1-4f11-eab3-4ed7fc193593"
      },
      "execution_count": null,
      "outputs": [
        {
          "output_type": "execute_result",
          "data": {
            "text/plain": [
              "['걲', '은']"
            ]
          },
          "metadata": {},
          "execution_count": 72
        }
      ]
    },
    {
      "cell_type": "code",
      "source": [
        "from jamo import h2j, j2hcj\n",
        "origin_jamo = j2hcj(h2j(unk_tokens[0]))\n",
        "print(origin_jamo)\n",
        "\n",
        "modify_jamo = j2hcj(h2j(modify_tokens[0]))\n",
        "print(modify_jamo)"
      ],
      "metadata": {
        "colab": {
          "base_uri": "https://localhost:8080/"
        },
        "outputId": "2965b308-91be-48c9-eef6-69aa20853d56",
        "id": "GpVLSiPO9rdk"
      },
      "execution_count": null,
      "outputs": [
        {
          "output_type": "stream",
          "name": "stdout",
          "text": [
            "ㄱㅓㄲ\n",
            "ㄱㅕㄲ\n"
          ]
        }
      ]
    },
    {
      "cell_type": "code",
      "source": [
        "diff = 0\n",
        "diff_list = []    # 다른 것 개수 넣는 list. 낮을 수록 정답(수정된 오타)일 가능성이 높다.\n",
        "# unk가 여러개라면 for문 한번 더 씌우기\n",
        "\n",
        "for ori, modi in zip(origin_jamo, modify_jamo) :\n",
        "  if ori != modi :\n",
        "    diff += 1\n",
        "diff_list.append(diff)\n",
        "diff_list   # 걲과 겪의 차이는 1개"
      ],
      "metadata": {
        "colab": {
          "base_uri": "https://localhost:8080/"
        },
        "outputId": "9c41a0c3-0aa7-4289-c5e3-9ee7d93dee04",
        "id": "ChKn5cV_9rdk"
      },
      "execution_count": null,
      "outputs": [
        {
          "output_type": "execute_result",
          "data": {
            "text/plain": [
              "[1]"
            ]
          },
          "metadata": {},
          "execution_count": 74
        }
      ]
    },
    {
      "cell_type": "code",
      "source": [
        "from jamo import h2j, j2hcj\n",
        "origin_jamo = j2hcj(h2j(unk_tokens[1]))\n",
        "print(origin_jamo)\n",
        "\n",
        "diff = 0\n",
        "diff_list = [] \n",
        "\n",
        "for tok in modify_tokens[1] :\n",
        "  modify_jamo = j2hcj(h2j(tok))\n",
        "  print(modify_jamo)\n",
        "  for ori, modi in zip(origin_jamo, modify_jamo) :\n",
        "    if ori != modi :\n",
        "      diff += 1\n",
        "  diff_list.append(diff)\n",
        "diff_list   # 은과 은은 차이가 없음 ( 변경하지 않고 그대로 가도 됨 ) , 은과 는의 차이는 1개"
      ],
      "metadata": {
        "colab": {
          "base_uri": "https://localhost:8080/"
        },
        "id": "T9z55rdOG20t",
        "outputId": "80feece7-89ac-4c8b-aef3-8f9d05296486"
      },
      "execution_count": null,
      "outputs": [
        {
          "output_type": "stream",
          "name": "stdout",
          "text": [
            "ㅇㅡㄴ\n",
            "ㅇㅡㄴ\n",
            "ㄴㅡㄴ\n"
          ]
        },
        {
          "output_type": "execute_result",
          "data": {
            "text/plain": [
              "[0, 1]"
            ]
          },
          "metadata": {},
          "execution_count": 78
        }
      ]
    },
    {
      "cell_type": "code",
      "source": [],
      "metadata": {
        "id": "1kQsUQMGG5DT"
      },
      "execution_count": null,
      "outputs": []
    }
  ]
}