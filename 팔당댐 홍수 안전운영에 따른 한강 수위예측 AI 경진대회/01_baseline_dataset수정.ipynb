{
  "nbformat": 4,
  "nbformat_minor": 0,
  "metadata": {
    "colab": {
      "name": "Untitled37.ipynb",
      "provenance": [],
      "machine_shape": "hm",
      "collapsed_sections": [],
      "mount_file_id": "18jgovApv-dgqALYEJ53-vO_dmYjiMJiJ",
      "authorship_tag": "ABX9TyNq6h9t8Wx6Tqb131sDuy0e",
      "include_colab_link": true
    },
    "kernelspec": {
      "name": "python3",
      "display_name": "Python 3"
    },
    "language_info": {
      "name": "python"
    },
    "accelerator": "GPU",
    "gpuClass": "standard"
  },
  "cells": [
    {
      "cell_type": "markdown",
      "metadata": {
        "id": "view-in-github",
        "colab_type": "text"
      },
      "source": [
        "<a href=\"https://colab.research.google.com/github/ttogle918/Competition/blob/main/%ED%8C%94%EB%8B%B9%EB%8C%90%20%ED%99%8D%EC%88%98%20%EC%95%88%EC%A0%84%EC%9A%B4%EC%98%81%EC%97%90%20%EB%94%B0%EB%A5%B8%20%ED%95%9C%EA%B0%95%20%EC%88%98%EC%9C%84%EC%98%88%EC%B8%A1%20AI%20%EA%B2%BD%EC%A7%84%EB%8C%80%ED%9A%8C/01%20baseline_(dataset%EC%88%98%EC%A0%95).ipynb\" target=\"_parent\"><img src=\"https://colab.research.google.com/assets/colab-badge.svg\" alt=\"Open In Colab\"/></a>"
      ]
    },
    {
      "cell_type": "markdown",
      "source": [
        "선 본 대회의 의도는 추론하고자 하는 기간의 10분 전에, 한강의 주요 지점(다리)에 대한 수위를 예측"
      ],
      "metadata": {
        "id": "gb49D3z79tIn"
      }
    },
    {
      "cell_type": "markdown",
      "source": [
        "    Data\n",
        "    ├ Water Data\n",
        "    │ ├ data_2012.csv\n",
        "    │   ├ ymdhm : 년월일시분\n",
        "    │   ├ swl : 팔당댐 현재수위 (단위: El.m)\n",
        "    │   ├ inf : 팔당댐 유입량 (단위: m^3/s)\n",
        "    │   ├ sfw : 팔당댐 저수량 (단위: 만m^3)\n",
        "    │   ├ ecpc : 팔당댐 공용량 (단위: 백만m^3)\n",
        "    │   ├ tototf : 총 방류량 (단위: m^3/s)\n",
        "    │   ├ tide_level : 강화대교 조위 (단위: cm)\n",
        "    │   ├ wl_1018662 : 청담대교 수위 (단위: cm)\n",
        "    │   ├ fw_1018662 : 청담대교 유량 (단위: m^3/s)\n",
        "    │   ├ wl_1018680 : 잠수교 수위 (단위: cm)\n",
        "    │   ├ fw_1018680 : 잠수교 유량 (단위: m^3/s)\n",
        "    │   ├ wl_1018683 : 한강대교 수위 (단위: cm)\n",
        "    │   ├ fw_1018683 : 한강대교 유량 (단위: m^3/s)\n",
        "    │   ├ wl_1019630 : 행주대교 수위 (단위: cm)\n",
        "    │   └ fw_1019630 : 행주대교 유량 (단위: m^3/s)\n",
        "    │ ├ data_2013.csv\n",
        "    …\n",
        "    └ └ data_2022.csv\n",
        "    └ RainFall Data\n",
        "    │ ├ rf_2012.csv\n",
        "    │   ├ YMDHM : 년월일시분\n",
        "    │   ├ rf_10184100 : 대곡교 강수량\n",
        "    │   ├ rf_10184110 : 진관교 강수량\n",
        "    │   └ rf_10184140 : 송정동 강수량\n",
        "    │ ├ rf_2013.csv\n",
        "    …\n",
        "    └ └ rf_2022.csv"
      ],
      "metadata": {
        "id": "z-gdprJW88dY"
      }
    },
    {
      "cell_type": "code",
      "execution_count": 1,
      "metadata": {
        "colab": {
          "base_uri": "https://localhost:8080/",
          "height": 72
        },
        "id": "ssAQIIhe86NO",
        "outputId": "6e3f9a97-63ea-4973-f48c-0085e56a26bf"
      },
      "outputs": [
        {
          "output_type": "execute_result",
          "data": {
            "text/plain": [
              "'#GPU 자원이 부족한 경우 아래 코드를 이용하세요\\nfrom tensorflow.compat.v1 import ConfigProto\\nfrom tensorflow.compat.v1 import InteractiveSession\\n\\nconfig = ConfigProto()\\nconfig.gpu_options.allow_growth = True\\nsession = InteractiveSession(config=config)'"
            ],
            "application/vnd.google.colaboratory.intrinsic+json": {
              "type": "string"
            }
          },
          "metadata": {},
          "execution_count": 1
        }
      ],
      "source": [
        "import pandas as pd\n",
        "import numpy as np\n",
        "\n",
        "from glob import glob\n",
        "from tqdm import tqdm\n",
        "from scipy import interpolate\n",
        "\n",
        "import tensorflow as tf\n",
        "from keras.models import Sequential\n",
        "from keras.layers import Dense, LSTM, GRU, AveragePooling1D, GlobalAveragePooling1D\n",
        "\n",
        "'''#GPU 자원이 부족한 경우 아래 코드를 이용하세요\n",
        "from tensorflow.compat.v1 import ConfigProto\n",
        "from tensorflow.compat.v1 import InteractiveSession\n",
        "\n",
        "config = ConfigProto()\n",
        "config.gpu_options.allow_growth = True\n",
        "session = InteractiveSession(config=config)'''"
      ]
    },
    {
      "cell_type": "code",
      "source": [
        "path = '/content/drive/MyDrive/Colab Notebooks/dataset/dacon/competition_data.zip'\n",
        "\n",
        "import zipfile\n",
        "from zipfile import ZipFile\n",
        "\n",
        "with zipfile.ZipFile(f'{path}', 'r') as obj:\n",
        "  namelist = obj.namelist()\n",
        "  obj.extractall('/content/competition_data')\n",
        "namelist"
      ],
      "metadata": {
        "colab": {
          "base_uri": "https://localhost:8080/"
        },
        "id": "IpigBVdn93Ul",
        "outputId": "2645f624-d8f3-43de-fb9d-25eb595e0828"
      },
      "execution_count": 2,
      "outputs": [
        {
          "output_type": "execute_result",
          "data": {
            "text/plain": [
              "['rf_data/',\n",
              " 'rf_data/rf_2012.csv',\n",
              " 'rf_data/rf_2013.csv',\n",
              " 'rf_data/rf_2014.csv',\n",
              " 'rf_data/rf_2015.csv',\n",
              " 'rf_data/rf_2016.csv',\n",
              " 'rf_data/rf_2017.csv',\n",
              " 'rf_data/rf_2018.csv',\n",
              " 'rf_data/rf_2019.csv',\n",
              " 'rf_data/rf_2020.csv',\n",
              " 'rf_data/rf_2021.csv',\n",
              " 'rf_data/rf_2022.csv',\n",
              " 'sample_submission.csv',\n",
              " 'water_data/',\n",
              " 'water_data/data_2012.csv',\n",
              " 'water_data/data_2013.csv',\n",
              " 'water_data/data_2014.csv',\n",
              " 'water_data/data_2015.csv',\n",
              " 'water_data/data_2016.csv',\n",
              " 'water_data/data_2017.csv',\n",
              " 'water_data/data_2018.csv',\n",
              " 'water_data/data_2019.csv',\n",
              " 'water_data/data_2020.csv',\n",
              " 'water_data/data_2021.csv',\n",
              " 'water_data/data_2022.csv']"
            ]
          },
          "metadata": {},
          "execution_count": 2
        }
      ]
    },
    {
      "cell_type": "code",
      "source": [
        "w_list = sorted(glob(\"competition_data/water_data/*.csv\"))\n",
        "rf_list = sorted(glob(\"competition_data/rf_data/*.csv\"))\n",
        "w_list, rf_list"
      ],
      "metadata": {
        "colab": {
          "base_uri": "https://localhost:8080/"
        },
        "id": "rhYsp0_y9RIs",
        "outputId": "2003ba8f-a5fe-4237-fc26-c245693f7de0"
      },
      "execution_count": 89,
      "outputs": [
        {
          "output_type": "execute_result",
          "data": {
            "text/plain": [
              "(['competition_data/water_data/data_2012.csv',\n",
              "  'competition_data/water_data/data_2013.csv',\n",
              "  'competition_data/water_data/data_2014.csv',\n",
              "  'competition_data/water_data/data_2015.csv',\n",
              "  'competition_data/water_data/data_2016.csv',\n",
              "  'competition_data/water_data/data_2017.csv',\n",
              "  'competition_data/water_data/data_2018.csv',\n",
              "  'competition_data/water_data/data_2019.csv',\n",
              "  'competition_data/water_data/data_2020.csv',\n",
              "  'competition_data/water_data/data_2021.csv',\n",
              "  'competition_data/water_data/data_2022.csv'],\n",
              " ['competition_data/rf_data/rf_2012.csv',\n",
              "  'competition_data/rf_data/rf_2013.csv',\n",
              "  'competition_data/rf_data/rf_2014.csv',\n",
              "  'competition_data/rf_data/rf_2015.csv',\n",
              "  'competition_data/rf_data/rf_2016.csv',\n",
              "  'competition_data/rf_data/rf_2017.csv',\n",
              "  'competition_data/rf_data/rf_2018.csv',\n",
              "  'competition_data/rf_data/rf_2019.csv',\n",
              "  'competition_data/rf_data/rf_2020.csv',\n",
              "  'competition_data/rf_data/rf_2021.csv',\n",
              "  'competition_data/rf_data/rf_2022.csv'])"
            ]
          },
          "metadata": {},
          "execution_count": 89
        }
      ]
    },
    {
      "cell_type": "code",
      "source": [
        "df = pd.DataFrame(pd.merge(pd.read_csv(w_list[0]), pd.read_csv(rf_list[0])))\n",
        "for w, rf in zip(w_list[1:], rf_list[1:]) :\n",
        "  df_sample = pd.merge(pd.read_csv(w), pd.read_csv(rf))\n",
        "  df = df.append(df_sample)\n",
        "  print(df.shape)\n",
        "df = df.reset_index(drop=True)\n",
        "df = df.sort_values(by=['ymdhm'], axis=0)\n",
        "df.head(3)"
      ],
      "metadata": {
        "colab": {
          "base_uri": "https://localhost:8080/",
          "height": 495
        },
        "id": "Wb-qahhW9TE-",
        "outputId": "260722d3-9605-4f61-bad3-4efb8314adde"
      },
      "execution_count": 90,
      "outputs": [
        {
          "output_type": "stream",
          "name": "stdout",
          "text": [
            "(52992, 18)\n",
            "(79488, 18)\n",
            "(105984, 18)\n",
            "(132480, 18)\n",
            "(158976, 18)\n",
            "(185472, 18)\n",
            "(211968, 18)\n",
            "(238464, 18)\n",
            "(264960, 18)\n",
            "(276336, 18)\n"
          ]
        },
        {
          "output_type": "execute_result",
          "data": {
            "text/plain": [
              "              ymdhm     swl    inf     sfw   ecpc  tototf  tide_level  \\\n",
              "0  2012-05-01 00:00  24.800  555.0  219.07  24.93   555.0       445.0   \n",
              "1  2012-05-01 00:10  24.794  464.6  218.86  25.15   562.9       449.0   \n",
              "2  2012-05-01 00:20  24.789  478.1  218.69  25.31   576.4       451.0   \n",
              "\n",
              "   wl_1018662  fw_1018662  wl_1018680  fw_1018680  wl_1018683  fw_1018683  \\\n",
              "0       310.7      469.05       300.2         0.0       290.0      729.80   \n",
              "1       314.7      498.00       300.2         0.0       290.0      731.48   \n",
              "2       313.7      490.68       301.2         0.0       290.0      726.42   \n",
              "\n",
              "   wl_1019630  fw_1019630  rf_10184100  rf_10184110  rf_10184140  \n",
              "0       275.3      540.18          0.0          0.0          0.0  \n",
              "1       275.3      540.18          0.0          0.0          0.0  \n",
              "2       275.3      540.18          0.0          0.0          0.0  "
            ],
            "text/html": [
              "\n",
              "  <div id=\"df-be31526b-a623-488e-8de9-897e01904c85\">\n",
              "    <div class=\"colab-df-container\">\n",
              "      <div>\n",
              "<style scoped>\n",
              "    .dataframe tbody tr th:only-of-type {\n",
              "        vertical-align: middle;\n",
              "    }\n",
              "\n",
              "    .dataframe tbody tr th {\n",
              "        vertical-align: top;\n",
              "    }\n",
              "\n",
              "    .dataframe thead th {\n",
              "        text-align: right;\n",
              "    }\n",
              "</style>\n",
              "<table border=\"1\" class=\"dataframe\">\n",
              "  <thead>\n",
              "    <tr style=\"text-align: right;\">\n",
              "      <th></th>\n",
              "      <th>ymdhm</th>\n",
              "      <th>swl</th>\n",
              "      <th>inf</th>\n",
              "      <th>sfw</th>\n",
              "      <th>ecpc</th>\n",
              "      <th>tototf</th>\n",
              "      <th>tide_level</th>\n",
              "      <th>wl_1018662</th>\n",
              "      <th>fw_1018662</th>\n",
              "      <th>wl_1018680</th>\n",
              "      <th>fw_1018680</th>\n",
              "      <th>wl_1018683</th>\n",
              "      <th>fw_1018683</th>\n",
              "      <th>wl_1019630</th>\n",
              "      <th>fw_1019630</th>\n",
              "      <th>rf_10184100</th>\n",
              "      <th>rf_10184110</th>\n",
              "      <th>rf_10184140</th>\n",
              "    </tr>\n",
              "  </thead>\n",
              "  <tbody>\n",
              "    <tr>\n",
              "      <th>0</th>\n",
              "      <td>2012-05-01 00:00</td>\n",
              "      <td>24.800</td>\n",
              "      <td>555.0</td>\n",
              "      <td>219.07</td>\n",
              "      <td>24.93</td>\n",
              "      <td>555.0</td>\n",
              "      <td>445.0</td>\n",
              "      <td>310.7</td>\n",
              "      <td>469.05</td>\n",
              "      <td>300.2</td>\n",
              "      <td>0.0</td>\n",
              "      <td>290.0</td>\n",
              "      <td>729.80</td>\n",
              "      <td>275.3</td>\n",
              "      <td>540.18</td>\n",
              "      <td>0.0</td>\n",
              "      <td>0.0</td>\n",
              "      <td>0.0</td>\n",
              "    </tr>\n",
              "    <tr>\n",
              "      <th>1</th>\n",
              "      <td>2012-05-01 00:10</td>\n",
              "      <td>24.794</td>\n",
              "      <td>464.6</td>\n",
              "      <td>218.86</td>\n",
              "      <td>25.15</td>\n",
              "      <td>562.9</td>\n",
              "      <td>449.0</td>\n",
              "      <td>314.7</td>\n",
              "      <td>498.00</td>\n",
              "      <td>300.2</td>\n",
              "      <td>0.0</td>\n",
              "      <td>290.0</td>\n",
              "      <td>731.48</td>\n",
              "      <td>275.3</td>\n",
              "      <td>540.18</td>\n",
              "      <td>0.0</td>\n",
              "      <td>0.0</td>\n",
              "      <td>0.0</td>\n",
              "    </tr>\n",
              "    <tr>\n",
              "      <th>2</th>\n",
              "      <td>2012-05-01 00:20</td>\n",
              "      <td>24.789</td>\n",
              "      <td>478.1</td>\n",
              "      <td>218.69</td>\n",
              "      <td>25.31</td>\n",
              "      <td>576.4</td>\n",
              "      <td>451.0</td>\n",
              "      <td>313.7</td>\n",
              "      <td>490.68</td>\n",
              "      <td>301.2</td>\n",
              "      <td>0.0</td>\n",
              "      <td>290.0</td>\n",
              "      <td>726.42</td>\n",
              "      <td>275.3</td>\n",
              "      <td>540.18</td>\n",
              "      <td>0.0</td>\n",
              "      <td>0.0</td>\n",
              "      <td>0.0</td>\n",
              "    </tr>\n",
              "  </tbody>\n",
              "</table>\n",
              "</div>\n",
              "      <button class=\"colab-df-convert\" onclick=\"convertToInteractive('df-be31526b-a623-488e-8de9-897e01904c85')\"\n",
              "              title=\"Convert this dataframe to an interactive table.\"\n",
              "              style=\"display:none;\">\n",
              "        \n",
              "  <svg xmlns=\"http://www.w3.org/2000/svg\" height=\"24px\"viewBox=\"0 0 24 24\"\n",
              "       width=\"24px\">\n",
              "    <path d=\"M0 0h24v24H0V0z\" fill=\"none\"/>\n",
              "    <path d=\"M18.56 5.44l.94 2.06.94-2.06 2.06-.94-2.06-.94-.94-2.06-.94 2.06-2.06.94zm-11 1L8.5 8.5l.94-2.06 2.06-.94-2.06-.94L8.5 2.5l-.94 2.06-2.06.94zm10 10l.94 2.06.94-2.06 2.06-.94-2.06-.94-.94-2.06-.94 2.06-2.06.94z\"/><path d=\"M17.41 7.96l-1.37-1.37c-.4-.4-.92-.59-1.43-.59-.52 0-1.04.2-1.43.59L10.3 9.45l-7.72 7.72c-.78.78-.78 2.05 0 2.83L4 21.41c.39.39.9.59 1.41.59.51 0 1.02-.2 1.41-.59l7.78-7.78 2.81-2.81c.8-.78.8-2.07 0-2.86zM5.41 20L4 18.59l7.72-7.72 1.47 1.35L5.41 20z\"/>\n",
              "  </svg>\n",
              "      </button>\n",
              "      \n",
              "  <style>\n",
              "    .colab-df-container {\n",
              "      display:flex;\n",
              "      flex-wrap:wrap;\n",
              "      gap: 12px;\n",
              "    }\n",
              "\n",
              "    .colab-df-convert {\n",
              "      background-color: #E8F0FE;\n",
              "      border: none;\n",
              "      border-radius: 50%;\n",
              "      cursor: pointer;\n",
              "      display: none;\n",
              "      fill: #1967D2;\n",
              "      height: 32px;\n",
              "      padding: 0 0 0 0;\n",
              "      width: 32px;\n",
              "    }\n",
              "\n",
              "    .colab-df-convert:hover {\n",
              "      background-color: #E2EBFA;\n",
              "      box-shadow: 0px 1px 2px rgba(60, 64, 67, 0.3), 0px 1px 3px 1px rgba(60, 64, 67, 0.15);\n",
              "      fill: #174EA6;\n",
              "    }\n",
              "\n",
              "    [theme=dark] .colab-df-convert {\n",
              "      background-color: #3B4455;\n",
              "      fill: #D2E3FC;\n",
              "    }\n",
              "\n",
              "    [theme=dark] .colab-df-convert:hover {\n",
              "      background-color: #434B5C;\n",
              "      box-shadow: 0px 1px 3px 1px rgba(0, 0, 0, 0.15);\n",
              "      filter: drop-shadow(0px 1px 2px rgba(0, 0, 0, 0.3));\n",
              "      fill: #FFFFFF;\n",
              "    }\n",
              "  </style>\n",
              "\n",
              "      <script>\n",
              "        const buttonEl =\n",
              "          document.querySelector('#df-be31526b-a623-488e-8de9-897e01904c85 button.colab-df-convert');\n",
              "        buttonEl.style.display =\n",
              "          google.colab.kernel.accessAllowed ? 'block' : 'none';\n",
              "\n",
              "        async function convertToInteractive(key) {\n",
              "          const element = document.querySelector('#df-be31526b-a623-488e-8de9-897e01904c85');\n",
              "          const dataTable =\n",
              "            await google.colab.kernel.invokeFunction('convertToInteractive',\n",
              "                                                     [key], {});\n",
              "          if (!dataTable) return;\n",
              "\n",
              "          const docLinkHtml = 'Like what you see? Visit the ' +\n",
              "            '<a target=\"_blank\" href=https://colab.research.google.com/notebooks/data_table.ipynb>data table notebook</a>'\n",
              "            + ' to learn more about interactive tables.';\n",
              "          element.innerHTML = '';\n",
              "          dataTable['output_type'] = 'display_data';\n",
              "          await google.colab.output.renderOutput(dataTable, element);\n",
              "          const docLink = document.createElement('div');\n",
              "          docLink.innerHTML = docLinkHtml;\n",
              "          element.appendChild(docLink);\n",
              "        }\n",
              "      </script>\n",
              "    </div>\n",
              "  </div>\n",
              "  "
            ]
          },
          "metadata": {},
          "execution_count": 90
        }
      ]
    },
    {
      "cell_type": "code",
      "source": [
        "na_idxes = {}\n",
        "print(f'shape : {df.shape}')\n",
        "print(f'null : {df.isna().sum()}')\n",
        "for col in df.columns :\n",
        "  na_idxes[col] = df[df[col].isna() == True].index\n",
        "df = df.fillna(df.interpolate())\n",
        "print(f'null : {df.isna().sum()}')"
      ],
      "metadata": {
        "colab": {
          "base_uri": "https://localhost:8080/"
        },
        "id": "vLGqtE219T2V",
        "outputId": "3a53447d-a931-4406-9b96-d7f2fc09cc36"
      },
      "execution_count": 91,
      "outputs": [
        {
          "output_type": "stream",
          "name": "stdout",
          "text": [
            "shape : (276336, 18)\n",
            "null : ymdhm               0\n",
            "swl               743\n",
            "inf               743\n",
            "sfw               743\n",
            "ecpc              743\n",
            "tototf            743\n",
            "tide_level       4927\n",
            "wl_1018662         59\n",
            "fw_1018662      16380\n",
            "wl_1018680         59\n",
            "fw_1018680     196849\n",
            "wl_1018683         59\n",
            "fw_1018683       1279\n",
            "wl_1019630         59\n",
            "fw_1019630         59\n",
            "rf_10184100         0\n",
            "rf_10184110         0\n",
            "rf_10184140         0\n",
            "dtype: int64\n",
            "null : ymdhm          0\n",
            "swl            0\n",
            "inf            0\n",
            "sfw            0\n",
            "ecpc           0\n",
            "tototf         0\n",
            "tide_level     0\n",
            "wl_1018662     0\n",
            "fw_1018662     0\n",
            "wl_1018680     0\n",
            "fw_1018680     0\n",
            "wl_1018683     0\n",
            "fw_1018683     0\n",
            "wl_1019630     0\n",
            "fw_1019630     0\n",
            "rf_10184100    0\n",
            "rf_10184110    0\n",
            "rf_10184140    0\n",
            "dtype: int64\n"
          ]
        }
      ]
    },
    {
      "cell_type": "code",
      "source": [
        "# 단위 맞추기\n",
        "df['sfw'] = df['sfw']*10000\n",
        "df['ecpc'] = df['ecpc']*1000000"
      ],
      "metadata": {
        "id": "9xNZW6fM_Skr"
      },
      "execution_count": 93,
      "outputs": []
    },
    {
      "cell_type": "code",
      "source": [
        "features = ['swl', 'inf', 'sfw', 'ecpc', 'tototf', 'tide_level', 'fw_1018662', 'fw_1018680', 'fw_1018683', 'fw_1019630', 'rf_10184100', 'rf_10184110', 'rf_10184140']\n",
        "label = ['wl_1018662', 'wl_1018680', 'wl_1018683', 'wl_1019630']"
      ],
      "metadata": {
        "id": "d5CUfvx8RAnN"
      },
      "execution_count": 102,
      "outputs": []
    },
    {
      "cell_type": "code",
      "source": [
        "train_data = []\n",
        "train_label = []\n",
        "\n",
        "# data : ['팔당댐 현재수위', '팔당댐 유입량', '팔당댐 저수량', '팔당댐 공용량', '총 방류량', '강화대교 조위',\n",
        "# '청담대교 유량',  '잠수교 유량', '한강대교 유량', '행주대교 유량']\n",
        "# label : ['청담대교 수위',  '잠수교 수위', '한강대교 수위', '행주대교 수위']\n",
        "for j in tqdm(range(len(df)-512)):\n",
        "    train_data.append(np.array(df.loc[j:j + 511, features]).astype(float))\n",
        "    train_label.append(np.array(df.loc[j + 512, label]).astype(float))\n",
        "\n",
        "train_data = np.array(train_data)\n",
        "train_label = np.array(train_label)\n",
        "\n",
        "print(train_data.shape)\n",
        "print(train_label.shape)"
      ],
      "metadata": {
        "colab": {
          "base_uri": "https://localhost:8080/"
        },
        "id": "BHqmiE4a9VD4",
        "outputId": "ad0f845a-d08b-4778-db04-28a70c22e8b8"
      },
      "execution_count": null,
      "outputs": [
        {
          "output_type": "stream",
          "name": "stderr",
          "text": [
            "100%|██████████| 275824/275824 [05:05<00:00, 903.16it/s]\n"
          ]
        }
      ]
    },
    {
      "cell_type": "markdown",
      "source": [
        "## 모델링"
      ],
      "metadata": {
        "id": "1si2UquX9XME"
      }
    },
    {
      "cell_type": "code",
      "source": [
        "input_shape = (train_data[0].shape[0], train_data[0].shape[1])\n",
        "\n",
        "model = Sequential()\n",
        "model.add(GRU(256, input_shape=input_shape))\n",
        "model.add(Dense(4, activation = 'relu'))\n",
        "\n",
        "optimizer = tf.optimizers.RMSprop(0.001)\n",
        "\n",
        "model.compile(optimizer=optimizer,loss='mse', metrics=['mae'])"
      ],
      "metadata": {
        "id": "ZgIUEYob9YYR"
      },
      "execution_count": 8,
      "outputs": []
    },
    {
      "cell_type": "code",
      "source": [
        "model.fit(train_data, train_label, epochs=10, batch_size=128)"
      ],
      "metadata": {
        "colab": {
          "base_uri": "https://localhost:8080/"
        },
        "id": "CvPL50kG9aa_",
        "outputId": "5972bb73-80d3-486b-be9f-b8a534d142b4"
      },
      "execution_count": 9,
      "outputs": [
        {
          "output_type": "stream",
          "name": "stdout",
          "text": [
            "Epoch 1/10\n",
            "2037/2037 [==============================] - 91s 41ms/step - loss: 23099.7812 - mae: 105.1334\n",
            "Epoch 2/10\n",
            "2037/2037 [==============================] - 88s 43ms/step - loss: 925.5237 - mae: 11.3946\n",
            "Epoch 3/10\n",
            "2037/2037 [==============================] - 89s 44ms/step - loss: 518.0557 - mae: 8.8913\n",
            "Epoch 4/10\n",
            "2037/2037 [==============================] - 89s 44ms/step - loss: 423.4114 - mae: 8.4397\n",
            "Epoch 5/10\n",
            "2037/2037 [==============================] - 89s 44ms/step - loss: 377.7960 - mae: 8.3073\n",
            "Epoch 6/10\n",
            "2037/2037 [==============================] - 89s 44ms/step - loss: 328.2842 - mae: 7.9995\n",
            "Epoch 7/10\n",
            "2037/2037 [==============================] - 89s 44ms/step - loss: 297.0500 - mae: 7.9390\n",
            "Epoch 8/10\n",
            "2037/2037 [==============================] - 89s 44ms/step - loss: 294.8503 - mae: 8.0706\n",
            "Epoch 9/10\n",
            "2037/2037 [==============================] - 89s 44ms/step - loss: 318.0398 - mae: 8.4751\n",
            "Epoch 10/10\n",
            "2037/2037 [==============================] - 89s 44ms/step - loss: 370.0216 - mae: 9.1822\n"
          ]
        },
        {
          "output_type": "execute_result",
          "data": {
            "text/plain": [
              "<keras.callbacks.History at 0x7f2541aa3750>"
            ]
          },
          "metadata": {},
          "execution_count": 9
        }
      ]
    },
    {
      "cell_type": "code",
      "source": [
        "test_data = []\n",
        "test_label = []\n",
        "\n",
        "tmp = pd.read_csv(w_list[-1])\n",
        "tmp = tmp.replace(\" \", np.nan)\n",
        "# 이전값을 사용\n",
        "tmp = tmp.fillna(method = 'pad')\n",
        "tmp = tmp.fillna(0)\n",
        "    \n",
        "#tmp.loc[:, [\"wl_1018662\", \"wl_1018680\", \"wl_1018683\", \"wl_1019630\"]] = tmp.loc[:, [\"wl_1018662\", \"wl_1018680\", \"wl_1018683\", \"wl_1019630\"]]*100\n",
        "    \n",
        "for j in tqdm(range(4032, len(tmp)-432)):\n",
        "    test_data.append(np.array(tmp.loc[j:j + 431, [\"swl\", \"inf\", \"sfw\", \"ecpc\",\n",
        "                                                    \"tototf\", \"tide_level\",\n",
        "                                                    \"fw_1018662\", \"fw_1018680\",\n",
        "                                                    \"fw_1018683\", \"fw_1019630\"]]).astype(float))\n",
        "        \n",
        "    test_label.append(np.array(tmp.loc[j + 432, [\"wl_1018662\", \"wl_1018680\",\n",
        "                                                    \"wl_1018683\", \"wl_1019630\"]]).astype(float))"
      ],
      "metadata": {
        "colab": {
          "base_uri": "https://localhost:8080/"
        },
        "id": "p4AqXk_f9bo6",
        "outputId": "0995eff6-86a8-48cd-aabb-b3718dee113f"
      },
      "execution_count": 10,
      "outputs": [
        {
          "output_type": "stream",
          "name": "stderr",
          "text": [
            "100%|██████████| 6912/6912 [00:07<00:00, 898.91it/s]\n"
          ]
        }
      ]
    },
    {
      "cell_type": "code",
      "source": [
        "\n",
        "test_data = np.array(test_data)\n",
        "test_label = np.array(test_label)\n",
        "\n",
        "print(test_data.shape)\n",
        "print(test_label.shape)\n",
        "test_label"
      ],
      "metadata": {
        "colab": {
          "base_uri": "https://localhost:8080/"
        },
        "id": "xAtDpNfW9cpY",
        "outputId": "fe3d2831-3c07-4520-dcd2-187cbc79a3bc"
      },
      "execution_count": 11,
      "outputs": [
        {
          "output_type": "stream",
          "name": "stdout",
          "text": [
            "(6912, 432, 10)\n",
            "(6912, 4)\n"
          ]
        },
        {
          "output_type": "execute_result",
          "data": {
            "text/plain": [
              "array([[0., 0., 0., 0.],\n",
              "       [0., 0., 0., 0.],\n",
              "       [0., 0., 0., 0.],\n",
              "       ...,\n",
              "       [0., 0., 0., 0.],\n",
              "       [0., 0., 0., 0.],\n",
              "       [0., 0., 0., 0.]])"
            ]
          },
          "metadata": {},
          "execution_count": 11
        }
      ]
    },
    {
      "cell_type": "code",
      "source": [
        "pred = model.predict(test_data)"
      ],
      "metadata": {
        "id": "TPyo5g--9eHc"
      },
      "execution_count": 12,
      "outputs": []
    },
    {
      "cell_type": "code",
      "source": [
        "pred = pd.DataFrame(pred)"
      ],
      "metadata": {
        "id": "ULsTk90f9fKt"
      },
      "execution_count": 13,
      "outputs": []
    },
    {
      "cell_type": "code",
      "source": [
        "sample_submission = pd.read_csv(\"competition_data/sample_submission.csv\")\n",
        "\n",
        "sample_submission[\"wl_1018662\"] = pred[0]\n",
        "sample_submission[\"wl_1018680\"] = pred[1]\n",
        "sample_submission[\"wl_1018683\"] = pred[2]\n",
        "sample_submission[\"wl_1019630\"] = pred[3]"
      ],
      "metadata": {
        "id": "jLIBM1vM9gFG"
      },
      "execution_count": 14,
      "outputs": []
    },
    {
      "cell_type": "code",
      "source": [
        "sample_submission.to_csv(\"baseline.csv\", index = False)"
      ],
      "metadata": {
        "id": "NnL7K6c79g4J"
      },
      "execution_count": 15,
      "outputs": []
    },
    {
      "cell_type": "code",
      "source": [
        "pred.head()"
      ],
      "metadata": {
        "colab": {
          "base_uri": "https://localhost:8080/",
          "height": 206
        },
        "id": "GLWyl5KT_tKr",
        "outputId": "bbe49190-9f35-4d79-8416-824adba7532d"
      },
      "execution_count": 16,
      "outputs": [
        {
          "output_type": "execute_result",
          "data": {
            "text/plain": [
              "            0           1           2           3\n",
              "0  282.492126  272.556580  268.848572  261.440430\n",
              "1  282.494232  272.558624  268.850708  261.442474\n",
              "2  282.636902  272.694763  268.994049  261.580231\n",
              "3  285.243469  275.181915  271.612823  264.096863\n",
              "4  282.545471  272.607544  268.902222  261.491943"
            ],
            "text/html": [
              "\n",
              "  <div id=\"df-5e73f307-f306-4336-a1bb-41ee3ab0c050\">\n",
              "    <div class=\"colab-df-container\">\n",
              "      <div>\n",
              "<style scoped>\n",
              "    .dataframe tbody tr th:only-of-type {\n",
              "        vertical-align: middle;\n",
              "    }\n",
              "\n",
              "    .dataframe tbody tr th {\n",
              "        vertical-align: top;\n",
              "    }\n",
              "\n",
              "    .dataframe thead th {\n",
              "        text-align: right;\n",
              "    }\n",
              "</style>\n",
              "<table border=\"1\" class=\"dataframe\">\n",
              "  <thead>\n",
              "    <tr style=\"text-align: right;\">\n",
              "      <th></th>\n",
              "      <th>0</th>\n",
              "      <th>1</th>\n",
              "      <th>2</th>\n",
              "      <th>3</th>\n",
              "    </tr>\n",
              "  </thead>\n",
              "  <tbody>\n",
              "    <tr>\n",
              "      <th>0</th>\n",
              "      <td>282.492126</td>\n",
              "      <td>272.556580</td>\n",
              "      <td>268.848572</td>\n",
              "      <td>261.440430</td>\n",
              "    </tr>\n",
              "    <tr>\n",
              "      <th>1</th>\n",
              "      <td>282.494232</td>\n",
              "      <td>272.558624</td>\n",
              "      <td>268.850708</td>\n",
              "      <td>261.442474</td>\n",
              "    </tr>\n",
              "    <tr>\n",
              "      <th>2</th>\n",
              "      <td>282.636902</td>\n",
              "      <td>272.694763</td>\n",
              "      <td>268.994049</td>\n",
              "      <td>261.580231</td>\n",
              "    </tr>\n",
              "    <tr>\n",
              "      <th>3</th>\n",
              "      <td>285.243469</td>\n",
              "      <td>275.181915</td>\n",
              "      <td>271.612823</td>\n",
              "      <td>264.096863</td>\n",
              "    </tr>\n",
              "    <tr>\n",
              "      <th>4</th>\n",
              "      <td>282.545471</td>\n",
              "      <td>272.607544</td>\n",
              "      <td>268.902222</td>\n",
              "      <td>261.491943</td>\n",
              "    </tr>\n",
              "  </tbody>\n",
              "</table>\n",
              "</div>\n",
              "      <button class=\"colab-df-convert\" onclick=\"convertToInteractive('df-5e73f307-f306-4336-a1bb-41ee3ab0c050')\"\n",
              "              title=\"Convert this dataframe to an interactive table.\"\n",
              "              style=\"display:none;\">\n",
              "        \n",
              "  <svg xmlns=\"http://www.w3.org/2000/svg\" height=\"24px\"viewBox=\"0 0 24 24\"\n",
              "       width=\"24px\">\n",
              "    <path d=\"M0 0h24v24H0V0z\" fill=\"none\"/>\n",
              "    <path d=\"M18.56 5.44l.94 2.06.94-2.06 2.06-.94-2.06-.94-.94-2.06-.94 2.06-2.06.94zm-11 1L8.5 8.5l.94-2.06 2.06-.94-2.06-.94L8.5 2.5l-.94 2.06-2.06.94zm10 10l.94 2.06.94-2.06 2.06-.94-2.06-.94-.94-2.06-.94 2.06-2.06.94z\"/><path d=\"M17.41 7.96l-1.37-1.37c-.4-.4-.92-.59-1.43-.59-.52 0-1.04.2-1.43.59L10.3 9.45l-7.72 7.72c-.78.78-.78 2.05 0 2.83L4 21.41c.39.39.9.59 1.41.59.51 0 1.02-.2 1.41-.59l7.78-7.78 2.81-2.81c.8-.78.8-2.07 0-2.86zM5.41 20L4 18.59l7.72-7.72 1.47 1.35L5.41 20z\"/>\n",
              "  </svg>\n",
              "      </button>\n",
              "      \n",
              "  <style>\n",
              "    .colab-df-container {\n",
              "      display:flex;\n",
              "      flex-wrap:wrap;\n",
              "      gap: 12px;\n",
              "    }\n",
              "\n",
              "    .colab-df-convert {\n",
              "      background-color: #E8F0FE;\n",
              "      border: none;\n",
              "      border-radius: 50%;\n",
              "      cursor: pointer;\n",
              "      display: none;\n",
              "      fill: #1967D2;\n",
              "      height: 32px;\n",
              "      padding: 0 0 0 0;\n",
              "      width: 32px;\n",
              "    }\n",
              "\n",
              "    .colab-df-convert:hover {\n",
              "      background-color: #E2EBFA;\n",
              "      box-shadow: 0px 1px 2px rgba(60, 64, 67, 0.3), 0px 1px 3px 1px rgba(60, 64, 67, 0.15);\n",
              "      fill: #174EA6;\n",
              "    }\n",
              "\n",
              "    [theme=dark] .colab-df-convert {\n",
              "      background-color: #3B4455;\n",
              "      fill: #D2E3FC;\n",
              "    }\n",
              "\n",
              "    [theme=dark] .colab-df-convert:hover {\n",
              "      background-color: #434B5C;\n",
              "      box-shadow: 0px 1px 3px 1px rgba(0, 0, 0, 0.15);\n",
              "      filter: drop-shadow(0px 1px 2px rgba(0, 0, 0, 0.3));\n",
              "      fill: #FFFFFF;\n",
              "    }\n",
              "  </style>\n",
              "\n",
              "      <script>\n",
              "        const buttonEl =\n",
              "          document.querySelector('#df-5e73f307-f306-4336-a1bb-41ee3ab0c050 button.colab-df-convert');\n",
              "        buttonEl.style.display =\n",
              "          google.colab.kernel.accessAllowed ? 'block' : 'none';\n",
              "\n",
              "        async function convertToInteractive(key) {\n",
              "          const element = document.querySelector('#df-5e73f307-f306-4336-a1bb-41ee3ab0c050');\n",
              "          const dataTable =\n",
              "            await google.colab.kernel.invokeFunction('convertToInteractive',\n",
              "                                                     [key], {});\n",
              "          if (!dataTable) return;\n",
              "\n",
              "          const docLinkHtml = 'Like what you see? Visit the ' +\n",
              "            '<a target=\"_blank\" href=https://colab.research.google.com/notebooks/data_table.ipynb>data table notebook</a>'\n",
              "            + ' to learn more about interactive tables.';\n",
              "          element.innerHTML = '';\n",
              "          dataTable['output_type'] = 'display_data';\n",
              "          await google.colab.output.renderOutput(dataTable, element);\n",
              "          const docLink = document.createElement('div');\n",
              "          docLink.innerHTML = docLinkHtml;\n",
              "          element.appendChild(docLink);\n",
              "        }\n",
              "      </script>\n",
              "    </div>\n",
              "  </div>\n",
              "  "
            ]
          },
          "metadata": {},
          "execution_count": 16
        }
      ]
    },
    {
      "cell_type": "code",
      "source": [
        "df_test_label = pd.DataFrame({0:test_label[:, 0], 1:test_label[:, 0], 2:test_label[:, 0], 3:test_label[:, 0]})\n",
        "df_test_label"
      ],
      "metadata": {
        "colab": {
          "base_uri": "https://localhost:8080/",
          "height": 424
        },
        "id": "pLxdfmoTFcjD",
        "outputId": "468b4c84-4967-4e9d-de3c-e44137ad9abb"
      },
      "execution_count": 17,
      "outputs": [
        {
          "output_type": "execute_result",
          "data": {
            "text/plain": [
              "        0    1    2    3\n",
              "0     0.0  0.0  0.0  0.0\n",
              "1     0.0  0.0  0.0  0.0\n",
              "2     0.0  0.0  0.0  0.0\n",
              "3     0.0  0.0  0.0  0.0\n",
              "4     0.0  0.0  0.0  0.0\n",
              "...   ...  ...  ...  ...\n",
              "6907  0.0  0.0  0.0  0.0\n",
              "6908  0.0  0.0  0.0  0.0\n",
              "6909  0.0  0.0  0.0  0.0\n",
              "6910  0.0  0.0  0.0  0.0\n",
              "6911  0.0  0.0  0.0  0.0\n",
              "\n",
              "[6912 rows x 4 columns]"
            ],
            "text/html": [
              "\n",
              "  <div id=\"df-58a1da16-cd25-4250-bdcb-732aca1d3a05\">\n",
              "    <div class=\"colab-df-container\">\n",
              "      <div>\n",
              "<style scoped>\n",
              "    .dataframe tbody tr th:only-of-type {\n",
              "        vertical-align: middle;\n",
              "    }\n",
              "\n",
              "    .dataframe tbody tr th {\n",
              "        vertical-align: top;\n",
              "    }\n",
              "\n",
              "    .dataframe thead th {\n",
              "        text-align: right;\n",
              "    }\n",
              "</style>\n",
              "<table border=\"1\" class=\"dataframe\">\n",
              "  <thead>\n",
              "    <tr style=\"text-align: right;\">\n",
              "      <th></th>\n",
              "      <th>0</th>\n",
              "      <th>1</th>\n",
              "      <th>2</th>\n",
              "      <th>3</th>\n",
              "    </tr>\n",
              "  </thead>\n",
              "  <tbody>\n",
              "    <tr>\n",
              "      <th>0</th>\n",
              "      <td>0.0</td>\n",
              "      <td>0.0</td>\n",
              "      <td>0.0</td>\n",
              "      <td>0.0</td>\n",
              "    </tr>\n",
              "    <tr>\n",
              "      <th>1</th>\n",
              "      <td>0.0</td>\n",
              "      <td>0.0</td>\n",
              "      <td>0.0</td>\n",
              "      <td>0.0</td>\n",
              "    </tr>\n",
              "    <tr>\n",
              "      <th>2</th>\n",
              "      <td>0.0</td>\n",
              "      <td>0.0</td>\n",
              "      <td>0.0</td>\n",
              "      <td>0.0</td>\n",
              "    </tr>\n",
              "    <tr>\n",
              "      <th>3</th>\n",
              "      <td>0.0</td>\n",
              "      <td>0.0</td>\n",
              "      <td>0.0</td>\n",
              "      <td>0.0</td>\n",
              "    </tr>\n",
              "    <tr>\n",
              "      <th>4</th>\n",
              "      <td>0.0</td>\n",
              "      <td>0.0</td>\n",
              "      <td>0.0</td>\n",
              "      <td>0.0</td>\n",
              "    </tr>\n",
              "    <tr>\n",
              "      <th>...</th>\n",
              "      <td>...</td>\n",
              "      <td>...</td>\n",
              "      <td>...</td>\n",
              "      <td>...</td>\n",
              "    </tr>\n",
              "    <tr>\n",
              "      <th>6907</th>\n",
              "      <td>0.0</td>\n",
              "      <td>0.0</td>\n",
              "      <td>0.0</td>\n",
              "      <td>0.0</td>\n",
              "    </tr>\n",
              "    <tr>\n",
              "      <th>6908</th>\n",
              "      <td>0.0</td>\n",
              "      <td>0.0</td>\n",
              "      <td>0.0</td>\n",
              "      <td>0.0</td>\n",
              "    </tr>\n",
              "    <tr>\n",
              "      <th>6909</th>\n",
              "      <td>0.0</td>\n",
              "      <td>0.0</td>\n",
              "      <td>0.0</td>\n",
              "      <td>0.0</td>\n",
              "    </tr>\n",
              "    <tr>\n",
              "      <th>6910</th>\n",
              "      <td>0.0</td>\n",
              "      <td>0.0</td>\n",
              "      <td>0.0</td>\n",
              "      <td>0.0</td>\n",
              "    </tr>\n",
              "    <tr>\n",
              "      <th>6911</th>\n",
              "      <td>0.0</td>\n",
              "      <td>0.0</td>\n",
              "      <td>0.0</td>\n",
              "      <td>0.0</td>\n",
              "    </tr>\n",
              "  </tbody>\n",
              "</table>\n",
              "<p>6912 rows × 4 columns</p>\n",
              "</div>\n",
              "      <button class=\"colab-df-convert\" onclick=\"convertToInteractive('df-58a1da16-cd25-4250-bdcb-732aca1d3a05')\"\n",
              "              title=\"Convert this dataframe to an interactive table.\"\n",
              "              style=\"display:none;\">\n",
              "        \n",
              "  <svg xmlns=\"http://www.w3.org/2000/svg\" height=\"24px\"viewBox=\"0 0 24 24\"\n",
              "       width=\"24px\">\n",
              "    <path d=\"M0 0h24v24H0V0z\" fill=\"none\"/>\n",
              "    <path d=\"M18.56 5.44l.94 2.06.94-2.06 2.06-.94-2.06-.94-.94-2.06-.94 2.06-2.06.94zm-11 1L8.5 8.5l.94-2.06 2.06-.94-2.06-.94L8.5 2.5l-.94 2.06-2.06.94zm10 10l.94 2.06.94-2.06 2.06-.94-2.06-.94-.94-2.06-.94 2.06-2.06.94z\"/><path d=\"M17.41 7.96l-1.37-1.37c-.4-.4-.92-.59-1.43-.59-.52 0-1.04.2-1.43.59L10.3 9.45l-7.72 7.72c-.78.78-.78 2.05 0 2.83L4 21.41c.39.39.9.59 1.41.59.51 0 1.02-.2 1.41-.59l7.78-7.78 2.81-2.81c.8-.78.8-2.07 0-2.86zM5.41 20L4 18.59l7.72-7.72 1.47 1.35L5.41 20z\"/>\n",
              "  </svg>\n",
              "      </button>\n",
              "      \n",
              "  <style>\n",
              "    .colab-df-container {\n",
              "      display:flex;\n",
              "      flex-wrap:wrap;\n",
              "      gap: 12px;\n",
              "    }\n",
              "\n",
              "    .colab-df-convert {\n",
              "      background-color: #E8F0FE;\n",
              "      border: none;\n",
              "      border-radius: 50%;\n",
              "      cursor: pointer;\n",
              "      display: none;\n",
              "      fill: #1967D2;\n",
              "      height: 32px;\n",
              "      padding: 0 0 0 0;\n",
              "      width: 32px;\n",
              "    }\n",
              "\n",
              "    .colab-df-convert:hover {\n",
              "      background-color: #E2EBFA;\n",
              "      box-shadow: 0px 1px 2px rgba(60, 64, 67, 0.3), 0px 1px 3px 1px rgba(60, 64, 67, 0.15);\n",
              "      fill: #174EA6;\n",
              "    }\n",
              "\n",
              "    [theme=dark] .colab-df-convert {\n",
              "      background-color: #3B4455;\n",
              "      fill: #D2E3FC;\n",
              "    }\n",
              "\n",
              "    [theme=dark] .colab-df-convert:hover {\n",
              "      background-color: #434B5C;\n",
              "      box-shadow: 0px 1px 3px 1px rgba(0, 0, 0, 0.15);\n",
              "      filter: drop-shadow(0px 1px 2px rgba(0, 0, 0, 0.3));\n",
              "      fill: #FFFFFF;\n",
              "    }\n",
              "  </style>\n",
              "\n",
              "      <script>\n",
              "        const buttonEl =\n",
              "          document.querySelector('#df-58a1da16-cd25-4250-bdcb-732aca1d3a05 button.colab-df-convert');\n",
              "        buttonEl.style.display =\n",
              "          google.colab.kernel.accessAllowed ? 'block' : 'none';\n",
              "\n",
              "        async function convertToInteractive(key) {\n",
              "          const element = document.querySelector('#df-58a1da16-cd25-4250-bdcb-732aca1d3a05');\n",
              "          const dataTable =\n",
              "            await google.colab.kernel.invokeFunction('convertToInteractive',\n",
              "                                                     [key], {});\n",
              "          if (!dataTable) return;\n",
              "\n",
              "          const docLinkHtml = 'Like what you see? Visit the ' +\n",
              "            '<a target=\"_blank\" href=https://colab.research.google.com/notebooks/data_table.ipynb>data table notebook</a>'\n",
              "            + ' to learn more about interactive tables.';\n",
              "          element.innerHTML = '';\n",
              "          dataTable['output_type'] = 'display_data';\n",
              "          await google.colab.output.renderOutput(dataTable, element);\n",
              "          const docLink = document.createElement('div');\n",
              "          docLink.innerHTML = docLinkHtml;\n",
              "          element.appendChild(docLink);\n",
              "        }\n",
              "      </script>\n",
              "    </div>\n",
              "  </div>\n",
              "  "
            ]
          },
          "metadata": {},
          "execution_count": 17
        }
      ]
    },
    {
      "cell_type": "code",
      "source": [
        "pred.shape"
      ],
      "metadata": {
        "id": "BjKgGsWDFqlW",
        "colab": {
          "base_uri": "https://localhost:8080/"
        },
        "outputId": "ed8a3ec3-fff1-4b38-e8ff-9e029ee5e14b"
      },
      "execution_count": 18,
      "outputs": [
        {
          "output_type": "execute_result",
          "data": {
            "text/plain": [
              "(6912, 4)"
            ]
          },
          "metadata": {},
          "execution_count": 18
        }
      ]
    },
    {
      "cell_type": "code",
      "source": [
        "df_test_label.max()"
      ],
      "metadata": {
        "colab": {
          "base_uri": "https://localhost:8080/"
        },
        "id": "U24SJKDQr2kR",
        "outputId": "1d11272c-4f8e-49ec-c626-2a382ac58b00"
      },
      "execution_count": 19,
      "outputs": [
        {
          "output_type": "execute_result",
          "data": {
            "text/plain": [
              "0    0.0\n",
              "1    0.0\n",
              "2    0.0\n",
              "3    0.0\n",
              "dtype: float64"
            ]
          },
          "metadata": {},
          "execution_count": 19
        }
      ]
    },
    {
      "cell_type": "code",
      "source": [],
      "metadata": {
        "id": "fzxLgva_sbPh"
      },
      "execution_count": null,
      "outputs": []
    }
  ]
}