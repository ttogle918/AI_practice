{
  "nbformat": 4,
  "nbformat_minor": 0,
  "metadata": {
    "colab": {
      "provenance": [],
      "mount_file_id": "18AeJ2YlAWGp-ouZuoitKaHOtMKq0HtMX",
      "authorship_tag": "ABX9TyNfehowLun8ZwG4Sz0fpMSq",
      "include_colab_link": true
    },
    "kernelspec": {
      "name": "python3",
      "display_name": "Python 3"
    },
    "language_info": {
      "name": "python"
    }
  },
  "cells": [
    {
      "cell_type": "markdown",
      "metadata": {
        "id": "view-in-github",
        "colab_type": "text"
      },
      "source": [
        "<a href=\"https://colab.research.google.com/github/ttogle918/Competition/blob/main/%ED%8C%94%EB%8B%B9%EB%8C%90%20%ED%99%8D%EC%88%98%20%EC%95%88%EC%A0%84%EC%9A%B4%EC%98%81%EC%97%90%20%EB%94%B0%EB%A5%B8%20%ED%95%9C%EA%B0%95%20%EC%88%98%EC%9C%84%EC%98%88%EC%B8%A1%20AI%20%EA%B2%BD%EC%A7%84%EB%8C%80%ED%9A%8C/%EB%8D%B0%EC%9D%B4%ED%84%B0%EB%B6%84%EC%84%9D.ipynb\" target=\"_parent\"><img src=\"https://colab.research.google.com/assets/colab-badge.svg\" alt=\"Open In Colab\"/></a>"
      ]
    },
    {
      "cell_type": "markdown",
      "source": [
        "    Data\n",
        "    ├ Water Data\n",
        "    │ ├ data_2012.csv\n",
        "    │   ├ ymdhm : 년월일시분\n",
        "    │   ├ swl : 팔당댐 현재수위 (단위: El.m)\n",
        "    │   ├ inf : 팔당댐 유입량 (단위: m^3/s)\n",
        "    │   ├ sfw : 팔당댐 저수량 (단위: 만m^3)\n",
        "    │   ├ ecpc : 팔당댐 공용량 (단위: 백만m^3)\n",
        "    │   ├ tototf : 총 방류량 (단위: m^3/s)\n",
        "    │   ├ tide_level : 강화대교 조위 (단위: cm)\n",
        "    │   ├ wl_1018662 : 청담대교 수위 (단위: cm)\n",
        "    │   ├ fw_1018662 : 청담대교 유량 (단위: m^3/s)\n",
        "    │   ├ wl_1018680 : 잠수교 수위 (단위: cm)\n",
        "    │   ├ fw_1018680 : 잠수교 유량 (단위: m^3/s)\n",
        "    │   ├ wl_1018683 : 한강대교 수위 (단위: cm)\n",
        "    │   ├ fw_1018683 : 한강대교 유량 (단위: m^3/s)\n",
        "    │   ├ wl_1019630 : 행주대교 수위 (단위: cm)\n",
        "    │   └ fw_1019630 : 행주대교 유량 (단위: m^3/s)\n",
        "    │ ├ data_2013.csv\n",
        "    …\n",
        "    └ └ data_2022.csv\n",
        "    └ RainFall Data\n",
        "    │ ├ rf_2012.csv\n",
        "    │   ├ YMDHM : 년월일시분\n",
        "    │   ├ rf_10184100 : 대곡교 강수량\n",
        "    │   ├ rf_10184110 : 진관교 강수량\n",
        "    │   └ rf_10184140 : 송정동 강수량\n",
        "    │ ├ rf_2013.csv\n",
        "    …\n",
        "    └ └ rf_2022.csv\n",
        "\n",
        "    한강다리 교량간 거리\n",
        "    - 팔당댐 - 청담대교 : 4.35+3.25+4.85+2.9+3.4+0.24+1.25+0.75+0.85+2.7\n",
        "    - 청담대교 - 잠수교(반포대교) : 0.75+2.1+1.75+1.2+2.05\n",
        "    - 잠수교 - 한강대교 : 1.5+2.25\n",
        "    - 한강대교 - 행주대교 : 0.6 +1.15+1.1+1.1+1.75+0.45+1.55+1+2.45+2.35+1.5+2\n",
        "    [교량간거리 참조](https://m.blog.naver.com/en0316/30107377248)"
      ],
      "metadata": {
        "id": "U-kvMYroIVW3"
      }
    },
    {
      "cell_type": "code",
      "source": [
        "# meter로 변환. 유량과 비교할 수 있을까\n",
        "dist_팔당댐_청담대교 = (4.35+3.25+4.85+2.9+3.4+0.24+1.25+0.75+0.85+2.7)*1000\n",
        "dist_청담_잠수교 = (0.75+2.1+1.75+1.2+2.05)*1000\n",
        "dist_잠수_한강대교 = (1.5+2.25)*1000\n",
        "dist_한강_행주대교 = (0.6 +1.15+1.1+1.1+1.75+0.45+1.55+1+2.45+2.35+1.5+2)*1000\n",
        "dist_팔당댐_청담대교, dist_청담_잠수교, dist_잠수_한강대교, dist_한강_행주대교"
      ],
      "metadata": {
        "colab": {
          "base_uri": "https://localhost:8080/"
        },
        "id": "tEE-837KKuER",
        "outputId": "ad86051e-3997-4ca8-e9ed-bf7b18b86f74"
      },
      "execution_count": 14,
      "outputs": [
        {
          "output_type": "execute_result",
          "data": {
            "text/plain": [
              "(24540.0, 7850.0, 3750.0, 17000.0)"
            ]
          },
          "metadata": {},
          "execution_count": 14
        }
      ]
    },
    {
      "cell_type": "code",
      "source": [
        "import pandas as pd\n",
        "import numpy as np\n",
        "import seaborn as sns\n",
        "\n",
        "from glob import glob\n",
        "from tqdm import tqdm\n",
        "from scipy import interpolate\n",
        "\n",
        "import tensorflow as tf\n",
        "from keras.models import Sequential\n",
        "from keras.layers import Dense, LSTM, GRU, AveragePooling1D, GlobalAveragePooling1D"
      ],
      "metadata": {
        "id": "1B41uwoEIcSM"
      },
      "execution_count": 2,
      "outputs": []
    },
    {
      "cell_type": "code",
      "source": [
        "path = '/content/drive/MyDrive/Colab Notebooks/dataset/dacon/competition_data.zip'\n",
        "\n",
        "import zipfile\n",
        "from zipfile import ZipFile\n",
        "\n",
        "with zipfile.ZipFile(f'{path}', 'r') as obj:\n",
        "  namelist = obj.namelist()\n",
        "  obj.extractall('/content/competition_data')\n",
        "namelist"
      ],
      "metadata": {
        "id": "Jlb1EUn6IUA2"
      },
      "execution_count": null,
      "outputs": []
    },
    {
      "cell_type": "code",
      "source": [
        "w_list = sorted(glob(\"competition_data/water_data/*.csv\"))\n",
        "rf_list = sorted(glob(\"competition_data/rf_data/*.csv\"))\n",
        "w_list, rf_list"
      ],
      "metadata": {
        "id": "DlhnNymvIcyU"
      },
      "execution_count": null,
      "outputs": []
    },
    {
      "cell_type": "code",
      "source": [
        "df = pd.DataFrame(pd.merge(pd.read_csv(w_list[0]), pd.read_csv(rf_list[0])))\n",
        "for w, rf in zip(w_list[1:], rf_list[1:]) :\n",
        "  df_sample = pd.merge(pd.read_csv(w), pd.read_csv(rf))\n",
        "  df = df.append(df_sample)\n",
        "  # print(df.shape)\n",
        "df = df.reset_index(drop=True)\n",
        "df = df.sort_values(by=['ymdhm'], axis=0)\n",
        "df.head(5)"
      ],
      "metadata": {
        "id": "9WfU3w5cIh4M"
      },
      "execution_count": null,
      "outputs": []
    },
    {
      "cell_type": "code",
      "source": [
        "# 단위 맞추기\n",
        "df['sfw'] = df['sfw']*10000\n",
        "df['ecpc'] = df['ecpc']*1000000"
      ],
      "metadata": {
        "id": "Qx8qUvKnJea_"
      },
      "execution_count": 8,
      "outputs": []
    },
    {
      "cell_type": "code",
      "source": [
        "df.describe()"
      ],
      "metadata": {
        "colab": {
          "base_uri": "https://localhost:8080/",
          "height": 364
        },
        "id": "YRXVt32bIiQF",
        "outputId": "3ca5ceb2-605b-4fde-ba63-8746052b2fea"
      },
      "execution_count": 9,
      "outputs": [
        {
          "output_type": "execute_result",
          "data": {
            "text/plain": [
              "                 swl            inf           sfw          ecpc  \\\n",
              "count  276336.000000  276336.000000  2.763360e+05  2.763360e+05   \n",
              "mean       25.071728     548.533893  2.193567e+06  2.464391e+07   \n",
              "std         0.458487    1110.983698  1.061519e+05  1.061480e+07   \n",
              "min         0.000000    -990.000000 -1.000000e+02  2.150000e+06   \n",
              "25%        24.980000     127.410000  2.117700e+06  1.469000e+07   \n",
              "50%        25.100000     249.500000  2.176300e+06  2.638000e+07   \n",
              "75%        25.190000     530.000000  2.293100e+06  3.223000e+07   \n",
              "max        25.449000   25991.500000  2.418500e+06  2.440100e+08   \n",
              "\n",
              "              tototf     tide_level     wl_1018662     fw_1018662  \\\n",
              "count  276336.000000  276336.000000  276336.000000  276336.000000   \n",
              "mean      542.022193     345.631700     320.857472     746.826551   \n",
              "std      1104.323528     174.250734      90.977494    1077.388189   \n",
              "min      -990.000000      39.000000       0.000000     243.290000   \n",
              "25%       132.000000     192.000000     286.700000     319.840000   \n",
              "50%       174.976207     324.000000     305.700000     441.000000   \n",
              "75%       505.000000     487.000000     341.700000     725.690000   \n",
              "max     25791.500000     842.000000    1287.700000    9405.640000   \n",
              "\n",
              "          wl_1018680  fw_1018680     wl_1018683     fw_1018683     wl_1019630  \\\n",
              "count  276336.000000    276336.0  276336.000000  276336.000000  276336.000000   \n",
              "mean      307.943626         0.0     304.590401     600.970021     292.408619   \n",
              "std        82.622234         0.0      79.441943    1376.848129      68.893322   \n",
              "min         0.000000         0.0       0.000000   -3522.710000       0.000000   \n",
              "25%       276.200000         0.0     274.000000     205.082500     266.300000   \n",
              "50%       296.200000         0.0     294.000000     355.980000     285.300000   \n",
              "75%       328.200000         0.0     326.000000     709.710000     315.300000   \n",
              "max      1146.200000         0.0    1080.000000   25289.170000     843.300000   \n",
              "\n",
              "          fw_1019630    rf_10184100    rf_10184110    rf_10184140  \n",
              "count  276336.000000  276336.000000  276336.000000  276336.000000  \n",
              "mean     1056.807758       0.034074       0.038265       0.035985  \n",
              "std      1428.279212       0.338607       0.370553       0.360769  \n",
              "min       212.040000       0.000000       0.000000       0.000000  \n",
              "25%       449.120000       0.000000       0.000000       0.000000  \n",
              "50%       679.420000       0.000000       0.000000       0.000000  \n",
              "75%      1142.220000       0.000000       0.000000       0.000000  \n",
              "max     29854.120000      24.000000      21.000000      24.000000  "
            ],
            "text/html": [
              "\n",
              "  <div id=\"df-e7a0ed19-ad2f-495d-b2f0-986329b595cd\">\n",
              "    <div class=\"colab-df-container\">\n",
              "      <div>\n",
              "<style scoped>\n",
              "    .dataframe tbody tr th:only-of-type {\n",
              "        vertical-align: middle;\n",
              "    }\n",
              "\n",
              "    .dataframe tbody tr th {\n",
              "        vertical-align: top;\n",
              "    }\n",
              "\n",
              "    .dataframe thead th {\n",
              "        text-align: right;\n",
              "    }\n",
              "</style>\n",
              "<table border=\"1\" class=\"dataframe\">\n",
              "  <thead>\n",
              "    <tr style=\"text-align: right;\">\n",
              "      <th></th>\n",
              "      <th>swl</th>\n",
              "      <th>inf</th>\n",
              "      <th>sfw</th>\n",
              "      <th>ecpc</th>\n",
              "      <th>tototf</th>\n",
              "      <th>tide_level</th>\n",
              "      <th>wl_1018662</th>\n",
              "      <th>fw_1018662</th>\n",
              "      <th>wl_1018680</th>\n",
              "      <th>fw_1018680</th>\n",
              "      <th>wl_1018683</th>\n",
              "      <th>fw_1018683</th>\n",
              "      <th>wl_1019630</th>\n",
              "      <th>fw_1019630</th>\n",
              "      <th>rf_10184100</th>\n",
              "      <th>rf_10184110</th>\n",
              "      <th>rf_10184140</th>\n",
              "    </tr>\n",
              "  </thead>\n",
              "  <tbody>\n",
              "    <tr>\n",
              "      <th>count</th>\n",
              "      <td>276336.000000</td>\n",
              "      <td>276336.000000</td>\n",
              "      <td>2.763360e+05</td>\n",
              "      <td>2.763360e+05</td>\n",
              "      <td>276336.000000</td>\n",
              "      <td>276336.000000</td>\n",
              "      <td>276336.000000</td>\n",
              "      <td>276336.000000</td>\n",
              "      <td>276336.000000</td>\n",
              "      <td>276336.0</td>\n",
              "      <td>276336.000000</td>\n",
              "      <td>276336.000000</td>\n",
              "      <td>276336.000000</td>\n",
              "      <td>276336.000000</td>\n",
              "      <td>276336.000000</td>\n",
              "      <td>276336.000000</td>\n",
              "      <td>276336.000000</td>\n",
              "    </tr>\n",
              "    <tr>\n",
              "      <th>mean</th>\n",
              "      <td>25.071728</td>\n",
              "      <td>548.533893</td>\n",
              "      <td>2.193567e+06</td>\n",
              "      <td>2.464391e+07</td>\n",
              "      <td>542.022193</td>\n",
              "      <td>345.631700</td>\n",
              "      <td>320.857472</td>\n",
              "      <td>746.826551</td>\n",
              "      <td>307.943626</td>\n",
              "      <td>0.0</td>\n",
              "      <td>304.590401</td>\n",
              "      <td>600.970021</td>\n",
              "      <td>292.408619</td>\n",
              "      <td>1056.807758</td>\n",
              "      <td>0.034074</td>\n",
              "      <td>0.038265</td>\n",
              "      <td>0.035985</td>\n",
              "    </tr>\n",
              "    <tr>\n",
              "      <th>std</th>\n",
              "      <td>0.458487</td>\n",
              "      <td>1110.983698</td>\n",
              "      <td>1.061519e+05</td>\n",
              "      <td>1.061480e+07</td>\n",
              "      <td>1104.323528</td>\n",
              "      <td>174.250734</td>\n",
              "      <td>90.977494</td>\n",
              "      <td>1077.388189</td>\n",
              "      <td>82.622234</td>\n",
              "      <td>0.0</td>\n",
              "      <td>79.441943</td>\n",
              "      <td>1376.848129</td>\n",
              "      <td>68.893322</td>\n",
              "      <td>1428.279212</td>\n",
              "      <td>0.338607</td>\n",
              "      <td>0.370553</td>\n",
              "      <td>0.360769</td>\n",
              "    </tr>\n",
              "    <tr>\n",
              "      <th>min</th>\n",
              "      <td>0.000000</td>\n",
              "      <td>-990.000000</td>\n",
              "      <td>-1.000000e+02</td>\n",
              "      <td>2.150000e+06</td>\n",
              "      <td>-990.000000</td>\n",
              "      <td>39.000000</td>\n",
              "      <td>0.000000</td>\n",
              "      <td>243.290000</td>\n",
              "      <td>0.000000</td>\n",
              "      <td>0.0</td>\n",
              "      <td>0.000000</td>\n",
              "      <td>-3522.710000</td>\n",
              "      <td>0.000000</td>\n",
              "      <td>212.040000</td>\n",
              "      <td>0.000000</td>\n",
              "      <td>0.000000</td>\n",
              "      <td>0.000000</td>\n",
              "    </tr>\n",
              "    <tr>\n",
              "      <th>25%</th>\n",
              "      <td>24.980000</td>\n",
              "      <td>127.410000</td>\n",
              "      <td>2.117700e+06</td>\n",
              "      <td>1.469000e+07</td>\n",
              "      <td>132.000000</td>\n",
              "      <td>192.000000</td>\n",
              "      <td>286.700000</td>\n",
              "      <td>319.840000</td>\n",
              "      <td>276.200000</td>\n",
              "      <td>0.0</td>\n",
              "      <td>274.000000</td>\n",
              "      <td>205.082500</td>\n",
              "      <td>266.300000</td>\n",
              "      <td>449.120000</td>\n",
              "      <td>0.000000</td>\n",
              "      <td>0.000000</td>\n",
              "      <td>0.000000</td>\n",
              "    </tr>\n",
              "    <tr>\n",
              "      <th>50%</th>\n",
              "      <td>25.100000</td>\n",
              "      <td>249.500000</td>\n",
              "      <td>2.176300e+06</td>\n",
              "      <td>2.638000e+07</td>\n",
              "      <td>174.976207</td>\n",
              "      <td>324.000000</td>\n",
              "      <td>305.700000</td>\n",
              "      <td>441.000000</td>\n",
              "      <td>296.200000</td>\n",
              "      <td>0.0</td>\n",
              "      <td>294.000000</td>\n",
              "      <td>355.980000</td>\n",
              "      <td>285.300000</td>\n",
              "      <td>679.420000</td>\n",
              "      <td>0.000000</td>\n",
              "      <td>0.000000</td>\n",
              "      <td>0.000000</td>\n",
              "    </tr>\n",
              "    <tr>\n",
              "      <th>75%</th>\n",
              "      <td>25.190000</td>\n",
              "      <td>530.000000</td>\n",
              "      <td>2.293100e+06</td>\n",
              "      <td>3.223000e+07</td>\n",
              "      <td>505.000000</td>\n",
              "      <td>487.000000</td>\n",
              "      <td>341.700000</td>\n",
              "      <td>725.690000</td>\n",
              "      <td>328.200000</td>\n",
              "      <td>0.0</td>\n",
              "      <td>326.000000</td>\n",
              "      <td>709.710000</td>\n",
              "      <td>315.300000</td>\n",
              "      <td>1142.220000</td>\n",
              "      <td>0.000000</td>\n",
              "      <td>0.000000</td>\n",
              "      <td>0.000000</td>\n",
              "    </tr>\n",
              "    <tr>\n",
              "      <th>max</th>\n",
              "      <td>25.449000</td>\n",
              "      <td>25991.500000</td>\n",
              "      <td>2.418500e+06</td>\n",
              "      <td>2.440100e+08</td>\n",
              "      <td>25791.500000</td>\n",
              "      <td>842.000000</td>\n",
              "      <td>1287.700000</td>\n",
              "      <td>9405.640000</td>\n",
              "      <td>1146.200000</td>\n",
              "      <td>0.0</td>\n",
              "      <td>1080.000000</td>\n",
              "      <td>25289.170000</td>\n",
              "      <td>843.300000</td>\n",
              "      <td>29854.120000</td>\n",
              "      <td>24.000000</td>\n",
              "      <td>21.000000</td>\n",
              "      <td>24.000000</td>\n",
              "    </tr>\n",
              "  </tbody>\n",
              "</table>\n",
              "</div>\n",
              "      <button class=\"colab-df-convert\" onclick=\"convertToInteractive('df-e7a0ed19-ad2f-495d-b2f0-986329b595cd')\"\n",
              "              title=\"Convert this dataframe to an interactive table.\"\n",
              "              style=\"display:none;\">\n",
              "        \n",
              "  <svg xmlns=\"http://www.w3.org/2000/svg\" height=\"24px\"viewBox=\"0 0 24 24\"\n",
              "       width=\"24px\">\n",
              "    <path d=\"M0 0h24v24H0V0z\" fill=\"none\"/>\n",
              "    <path d=\"M18.56 5.44l.94 2.06.94-2.06 2.06-.94-2.06-.94-.94-2.06-.94 2.06-2.06.94zm-11 1L8.5 8.5l.94-2.06 2.06-.94-2.06-.94L8.5 2.5l-.94 2.06-2.06.94zm10 10l.94 2.06.94-2.06 2.06-.94-2.06-.94-.94-2.06-.94 2.06-2.06.94z\"/><path d=\"M17.41 7.96l-1.37-1.37c-.4-.4-.92-.59-1.43-.59-.52 0-1.04.2-1.43.59L10.3 9.45l-7.72 7.72c-.78.78-.78 2.05 0 2.83L4 21.41c.39.39.9.59 1.41.59.51 0 1.02-.2 1.41-.59l7.78-7.78 2.81-2.81c.8-.78.8-2.07 0-2.86zM5.41 20L4 18.59l7.72-7.72 1.47 1.35L5.41 20z\"/>\n",
              "  </svg>\n",
              "      </button>\n",
              "      \n",
              "  <style>\n",
              "    .colab-df-container {\n",
              "      display:flex;\n",
              "      flex-wrap:wrap;\n",
              "      gap: 12px;\n",
              "    }\n",
              "\n",
              "    .colab-df-convert {\n",
              "      background-color: #E8F0FE;\n",
              "      border: none;\n",
              "      border-radius: 50%;\n",
              "      cursor: pointer;\n",
              "      display: none;\n",
              "      fill: #1967D2;\n",
              "      height: 32px;\n",
              "      padding: 0 0 0 0;\n",
              "      width: 32px;\n",
              "    }\n",
              "\n",
              "    .colab-df-convert:hover {\n",
              "      background-color: #E2EBFA;\n",
              "      box-shadow: 0px 1px 2px rgba(60, 64, 67, 0.3), 0px 1px 3px 1px rgba(60, 64, 67, 0.15);\n",
              "      fill: #174EA6;\n",
              "    }\n",
              "\n",
              "    [theme=dark] .colab-df-convert {\n",
              "      background-color: #3B4455;\n",
              "      fill: #D2E3FC;\n",
              "    }\n",
              "\n",
              "    [theme=dark] .colab-df-convert:hover {\n",
              "      background-color: #434B5C;\n",
              "      box-shadow: 0px 1px 3px 1px rgba(0, 0, 0, 0.15);\n",
              "      filter: drop-shadow(0px 1px 2px rgba(0, 0, 0, 0.3));\n",
              "      fill: #FFFFFF;\n",
              "    }\n",
              "  </style>\n",
              "\n",
              "      <script>\n",
              "        const buttonEl =\n",
              "          document.querySelector('#df-e7a0ed19-ad2f-495d-b2f0-986329b595cd button.colab-df-convert');\n",
              "        buttonEl.style.display =\n",
              "          google.colab.kernel.accessAllowed ? 'block' : 'none';\n",
              "\n",
              "        async function convertToInteractive(key) {\n",
              "          const element = document.querySelector('#df-e7a0ed19-ad2f-495d-b2f0-986329b595cd');\n",
              "          const dataTable =\n",
              "            await google.colab.kernel.invokeFunction('convertToInteractive',\n",
              "                                                     [key], {});\n",
              "          if (!dataTable) return;\n",
              "\n",
              "          const docLinkHtml = 'Like what you see? Visit the ' +\n",
              "            '<a target=\"_blank\" href=https://colab.research.google.com/notebooks/data_table.ipynb>data table notebook</a>'\n",
              "            + ' to learn more about interactive tables.';\n",
              "          element.innerHTML = '';\n",
              "          dataTable['output_type'] = 'display_data';\n",
              "          await google.colab.output.renderOutput(dataTable, element);\n",
              "          const docLink = document.createElement('div');\n",
              "          docLink.innerHTML = docLinkHtml;\n",
              "          element.appendChild(docLink);\n",
              "        }\n",
              "      </script>\n",
              "    </div>\n",
              "  </div>\n",
              "  "
            ]
          },
          "metadata": {},
          "execution_count": 9
        }
      ]
    },
    {
      "cell_type": "code",
      "source": [
        "features = ['swl', 'inf', 'sfw', 'ecpc', 'tototf', 'tide_level', 'fw_1018662', 'fw_1018680', 'fw_1018683', 'fw_1019630', 'rf_10184100', 'rf_10184110', 'rf_10184140']\n",
        "label = ['wl_1018662', 'wl_1018680', 'wl_1018683', 'wl_1019630']\n",
        "\n",
        "sns.heatmap(df.drop(label, axis=1).corr(), annot=True)"
      ],
      "metadata": {
        "colab": {
          "base_uri": "https://localhost:8080/",
          "height": 341
        },
        "id": "kW2NOBZNI3o8",
        "outputId": "a879b9e6-a1ec-45aa-83a5-3b68b3165de7"
      },
      "execution_count": 10,
      "outputs": [
        {
          "output_type": "execute_result",
          "data": {
            "text/plain": [
              "<matplotlib.axes._subplots.AxesSubplot at 0x7f4faf5a4d50>"
            ]
          },
          "metadata": {},
          "execution_count": 10
        },
        {
          "output_type": "display_data",
          "data": {
            "text/plain": [
              "<Figure size 432x288 with 2 Axes>"
            ],
            "image/png": "[encoded data removed]"
          },
          "metadata": {
            "needs_background": "light"
          }
        }
      ]
    },
    {
      "cell_type": "code",
      "source": [
        "mmin = df.shape[0]\n",
        "for k in na_idxes.keys() :\n",
        "  m = na_idxes[k].min()\n",
        "  print(k, m)\n",
        "  if mmin > m :\n",
        "    mmin = m\n",
        "mmin"
      ],
      "metadata": {
        "colab": {
          "base_uri": "https://localhost:8080/"
        },
        "id": "A87FQmqdIptE",
        "outputId": "ecf210cb-fe77-437a-95bb-618a5e01bda5"
      },
      "execution_count": 12,
      "outputs": [
        {
          "output_type": "stream",
          "name": "stdout",
          "text": [
            "ymdhm nan\n",
            "swl nan\n",
            "inf nan\n",
            "sfw nan\n",
            "ecpc nan\n",
            "tototf nan\n",
            "tide_level nan\n",
            "wl_1018662 nan\n",
            "fw_1018662 nan\n",
            "wl_1018680 nan\n",
            "fw_1018680 nan\n",
            "wl_1018683 nan\n",
            "fw_1018683 nan\n",
            "wl_1019630 nan\n",
            "fw_1019630 nan\n",
            "rf_10184100 nan\n",
            "rf_10184110 nan\n",
            "rf_10184140 nan\n"
          ]
        },
        {
          "output_type": "execute_result",
          "data": {
            "text/plain": [
              "276336"
            ]
          },
          "metadata": {},
          "execution_count": 12
        }
      ]
    },
    {
      "cell_type": "code",
      "source": [
        "na_idxes = {}\n",
        "print(f'shape : {df.shape}')\n",
        "print(f'null : {df.isna().sum()}')\n",
        "for col in df.columns :\n",
        "  na_idxes[col] = df[df[col].isna() == True].index\n",
        "df = df.fillna(df.interpolate())\n",
        "print(f'null : {df.isna().sum()}')"
      ],
      "metadata": {
        "colab": {
          "base_uri": "https://localhost:8080/"
        },
        "id": "qKCL4cUUInaF",
        "outputId": "044ddad4-ac41-46d2-a502-0376a992aa97"
      },
      "execution_count": 11,
      "outputs": [
        {
          "output_type": "stream",
          "name": "stdout",
          "text": [
            "shape : (276336, 18)\n",
            "null : ymdhm          0\n",
            "swl            0\n",
            "inf            0\n",
            "sfw            0\n",
            "ecpc           0\n",
            "tototf         0\n",
            "tide_level     0\n",
            "wl_1018662     0\n",
            "fw_1018662     0\n",
            "wl_1018680     0\n",
            "fw_1018680     0\n",
            "wl_1018683     0\n",
            "fw_1018683     0\n",
            "wl_1019630     0\n",
            "fw_1019630     0\n",
            "rf_10184100    0\n",
            "rf_10184110    0\n",
            "rf_10184140    0\n",
            "dtype: int64\n",
            "null : ymdhm          0\n",
            "swl            0\n",
            "inf            0\n",
            "sfw            0\n",
            "ecpc           0\n",
            "tototf         0\n",
            "tide_level     0\n",
            "wl_1018662     0\n",
            "fw_1018662     0\n",
            "wl_1018680     0\n",
            "fw_1018680     0\n",
            "wl_1018683     0\n",
            "fw_1018683     0\n",
            "wl_1019630     0\n",
            "fw_1019630     0\n",
            "rf_10184100    0\n",
            "rf_10184110    0\n",
            "rf_10184140    0\n",
            "dtype: int64\n"
          ]
        }
      ]
    }
  ]
}