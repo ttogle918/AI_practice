{
  "nbformat": 4,
  "nbformat_minor": 0,
  "metadata": {
    "colab": {
      "provenance": [],
      "machine_shape": "hm",
      "collapsed_sections": []
    },
    "kernelspec": {
      "name": "python3",
      "display_name": "Python 3"
    },
    "language_info": {
      "name": "python"
    },
    "gpuClass": "standard"
  },
  "cells": [
    {
      "cell_type": "markdown",
      "source": [
        "선 본 대회의 의도는 추론하고자 하는 기간의 10분 전에, 한강의 주요 지점(다리)에 대한 수위를 예측\n",
        "\n",
        "[팔당댐 홍수 안전운영에 따른 한강 수위예측 AI 경진대회, DACON](https://dacon.io/competitions/official/235949/data)"
      ],
      "metadata": {
        "id": "gb49D3z79tIn"
      }
    },
    {
      "cell_type": "code",
      "execution_count": null,
      "metadata": {
        "colab": {
          "base_uri": "https://localhost:8080/",
          "height": 72
        },
        "id": "ssAQIIhe86NO",
        "outputId": "af3b09b5-8c80-47e0-d5f0-8903098d87ce"
      },
      "outputs": [
        {
          "output_type": "execute_result",
          "data": {
            "text/plain": [
              "'#GPU 자원이 부족한 경우 아래 코드를 이용하세요\\nfrom tensorflow.compat.v1 import ConfigProto\\nfrom tensorflow.compat.v1 import InteractiveSession\\n\\nconfig = ConfigProto()\\nconfig.gpu_options.allow_growth = True\\nsession = InteractiveSession(config=config)'"
            ],
            "application/vnd.google.colaboratory.intrinsic+json": {
              "type": "string"
            }
          },
          "metadata": {},
          "execution_count": 1
        }
      ],
      "source": [
        "import pandas as pd\n",
        "import numpy as np\n",
        "\n",
        "from glob import glob\n",
        "from tqdm import tqdm\n",
        "from scipy import interpolate\n",
        "\n",
        "import tensorflow as tf\n",
        "from keras.models import Sequential\n",
        "from keras.layers import Dense, LSTM, GRU, AveragePooling1D, GlobalAveragePooling1D\n",
        "\n",
        "'''#GPU 자원이 부족한 경우 아래 코드를 이용하세요\n",
        "from tensorflow.compat.v1 import ConfigProto\n",
        "from tensorflow.compat.v1 import InteractiveSession\n",
        "\n",
        "config = ConfigProto()\n",
        "config.gpu_options.allow_growth = True\n",
        "session = InteractiveSession(config=config)'''"
      ]
    },
    {
      "cell_type": "markdown",
      "source": [
        "### 파일 받아오기"
      ],
      "metadata": {
        "id": "jkXYB88xdAz9"
      }
    },
    {
      "cell_type": "code",
      "source": [
        "path = '/content/drive/MyDrive/Colab Notebooks/dataset/dacon/competition_data.zip'\n",
        "\n",
        "import zipfile\n",
        "from zipfile import ZipFile\n",
        "\n",
        "with zipfile.ZipFile(f'{path}', 'r') as obj:\n",
        "  namelist = obj.namelist()\n",
        "  obj.extractall('/content/competition_data')"
      ],
      "metadata": {
        "id": "IpigBVdn93Ul"
      },
      "execution_count": null,
      "outputs": []
    },
    {
      "cell_type": "code",
      "source": [
        "w_list = sorted(glob(\"competition_data/water_data/*.csv\"))\n",
        "rf_list = sorted(glob(\"competition_data/rf_data/*.csv\"))"
      ],
      "metadata": {
        "id": "rhYsp0_y9RIs"
      },
      "execution_count": null,
      "outputs": []
    },
    {
      "cell_type": "markdown",
      "source": [
        "### dataframe으로 합쳐서 변환(연도 순서대로)"
      ],
      "metadata": {
        "id": "m-T8ZD3vdEX1"
      }
    },
    {
      "cell_type": "code",
      "source": [
        "df = pd.DataFrame(pd.merge(pd.read_csv(w_list[0]), pd.read_csv(rf_list[0])))\n",
        "for w, rf in zip(w_list[1:], rf_list[1:]) :\n",
        "  df_sample = pd.merge(pd.read_csv(w), pd.read_csv(rf))\n",
        "  df = df.append(df_sample)\n",
        "df = df.reset_index(drop=True)\n",
        "df = df.sort_values(by=['ymdhm'], axis=0)\n",
        "df.tail(3)"
      ],
      "metadata": {
        "colab": {
          "base_uri": "https://localhost:8080/",
          "height": 312
        },
        "id": "Wb-qahhW9TE-",
        "outputId": "b0e7f4d3-ea62-482d-b52c-7fa9e3aba528"
      },
      "execution_count": null,
      "outputs": [
        {
          "output_type": "execute_result",
          "data": {
            "text/plain": [
              "                   ymdhm    swl     inf     sfw   ecpc  tototf  tide_level  \\\n",
              "276333  2022-07-18 23:30  25.04  259.37  212.86  31.14  259.37       475.0   \n",
              "276334  2022-07-18 23:40  25.04  259.13  212.86  31.14  259.13       458.0   \n",
              "276335  2022-07-18 23:50  25.04  258.16  212.86  31.14  258.16       442.0   \n",
              "\n",
              "        wl_1018662  fw_1018662  wl_1018680  fw_1018680  wl_1018683  \\\n",
              "276333         0.0      387.55         0.0         NaN         0.0   \n",
              "276334         0.0      454.91         0.0         NaN         0.0   \n",
              "276335         0.0      582.21         0.0         NaN         0.0   \n",
              "\n",
              "        fw_1018683  wl_1019630  fw_1019630  rf_10184100  rf_10184110  \\\n",
              "276333     -843.37         0.0     1039.90          0.0          0.0   \n",
              "276334    -1023.37         0.0     1073.46          0.0          0.0   \n",
              "276335    -1049.44         0.0     1090.45          0.0          0.0   \n",
              "\n",
              "        rf_10184140  \n",
              "276333          0.0  \n",
              "276334          0.0  \n",
              "276335          0.0  "
            ],
            "text/html": [
              "\n",
              "  <div id=\"df-03c108e6-afe5-43f0-8cf5-9a88b27be1c1\">\n",
              "    <div class=\"colab-df-container\">\n",
              "      <div>\n",
              "<style scoped>\n",
              "    .dataframe tbody tr th:only-of-type {\n",
              "        vertical-align: middle;\n",
              "    }\n",
              "\n",
              "    .dataframe tbody tr th {\n",
              "        vertical-align: top;\n",
              "    }\n",
              "\n",
              "    .dataframe thead th {\n",
              "        text-align: right;\n",
              "    }\n",
              "</style>\n",
              "<table border=\"1\" class=\"dataframe\">\n",
              "  <thead>\n",
              "    <tr style=\"text-align: right;\">\n",
              "      <th></th>\n",
              "      <th>ymdhm</th>\n",
              "      <th>swl</th>\n",
              "      <th>inf</th>\n",
              "      <th>sfw</th>\n",
              "      <th>ecpc</th>\n",
              "      <th>tototf</th>\n",
              "      <th>tide_level</th>\n",
              "      <th>wl_1018662</th>\n",
              "      <th>fw_1018662</th>\n",
              "      <th>wl_1018680</th>\n",
              "      <th>fw_1018680</th>\n",
              "      <th>wl_1018683</th>\n",
              "      <th>fw_1018683</th>\n",
              "      <th>wl_1019630</th>\n",
              "      <th>fw_1019630</th>\n",
              "      <th>rf_10184100</th>\n",
              "      <th>rf_10184110</th>\n",
              "      <th>rf_10184140</th>\n",
              "    </tr>\n",
              "  </thead>\n",
              "  <tbody>\n",
              "    <tr>\n",
              "      <th>276333</th>\n",
              "      <td>2022-07-18 23:30</td>\n",
              "      <td>25.04</td>\n",
              "      <td>259.37</td>\n",
              "      <td>212.86</td>\n",
              "      <td>31.14</td>\n",
              "      <td>259.37</td>\n",
              "      <td>475.0</td>\n",
              "      <td>0.0</td>\n",
              "      <td>387.55</td>\n",
              "      <td>0.0</td>\n",
              "      <td>NaN</td>\n",
              "      <td>0.0</td>\n",
              "      <td>-843.37</td>\n",
              "      <td>0.0</td>\n",
              "      <td>1039.90</td>\n",
              "      <td>0.0</td>\n",
              "      <td>0.0</td>\n",
              "      <td>0.0</td>\n",
              "    </tr>\n",
              "    <tr>\n",
              "      <th>276334</th>\n",
              "      <td>2022-07-18 23:40</td>\n",
              "      <td>25.04</td>\n",
              "      <td>259.13</td>\n",
              "      <td>212.86</td>\n",
              "      <td>31.14</td>\n",
              "      <td>259.13</td>\n",
              "      <td>458.0</td>\n",
              "      <td>0.0</td>\n",
              "      <td>454.91</td>\n",
              "      <td>0.0</td>\n",
              "      <td>NaN</td>\n",
              "      <td>0.0</td>\n",
              "      <td>-1023.37</td>\n",
              "      <td>0.0</td>\n",
              "      <td>1073.46</td>\n",
              "      <td>0.0</td>\n",
              "      <td>0.0</td>\n",
              "      <td>0.0</td>\n",
              "    </tr>\n",
              "    <tr>\n",
              "      <th>276335</th>\n",
              "      <td>2022-07-18 23:50</td>\n",
              "      <td>25.04</td>\n",
              "      <td>258.16</td>\n",
              "      <td>212.86</td>\n",
              "      <td>31.14</td>\n",
              "      <td>258.16</td>\n",
              "      <td>442.0</td>\n",
              "      <td>0.0</td>\n",
              "      <td>582.21</td>\n",
              "      <td>0.0</td>\n",
              "      <td>NaN</td>\n",
              "      <td>0.0</td>\n",
              "      <td>-1049.44</td>\n",
              "      <td>0.0</td>\n",
              "      <td>1090.45</td>\n",
              "      <td>0.0</td>\n",
              "      <td>0.0</td>\n",
              "      <td>0.0</td>\n",
              "    </tr>\n",
              "  </tbody>\n",
              "</table>\n",
              "</div>\n",
              "      <button class=\"colab-df-convert\" onclick=\"convertToInteractive('df-03c108e6-afe5-43f0-8cf5-9a88b27be1c1')\"\n",
              "              title=\"Convert this dataframe to an interactive table.\"\n",
              "              style=\"display:none;\">\n",
              "        \n",
              "  <svg xmlns=\"http://www.w3.org/2000/svg\" height=\"24px\"viewBox=\"0 0 24 24\"\n",
              "       width=\"24px\">\n",
              "    <path d=\"M0 0h24v24H0V0z\" fill=\"none\"/>\n",
              "    <path d=\"M18.56 5.44l.94 2.06.94-2.06 2.06-.94-2.06-.94-.94-2.06-.94 2.06-2.06.94zm-11 1L8.5 8.5l.94-2.06 2.06-.94-2.06-.94L8.5 2.5l-.94 2.06-2.06.94zm10 10l.94 2.06.94-2.06 2.06-.94-2.06-.94-.94-2.06-.94 2.06-2.06.94z\"/><path d=\"M17.41 7.96l-1.37-1.37c-.4-.4-.92-.59-1.43-.59-.52 0-1.04.2-1.43.59L10.3 9.45l-7.72 7.72c-.78.78-.78 2.05 0 2.83L4 21.41c.39.39.9.59 1.41.59.51 0 1.02-.2 1.41-.59l7.78-7.78 2.81-2.81c.8-.78.8-2.07 0-2.86zM5.41 20L4 18.59l7.72-7.72 1.47 1.35L5.41 20z\"/>\n",
              "  </svg>\n",
              "      </button>\n",
              "      \n",
              "  <style>\n",
              "    .colab-df-container {\n",
              "      display:flex;\n",
              "      flex-wrap:wrap;\n",
              "      gap: 12px;\n",
              "    }\n",
              "\n",
              "    .colab-df-convert {\n",
              "      background-color: #E8F0FE;\n",
              "      border: none;\n",
              "      border-radius: 50%;\n",
              "      cursor: pointer;\n",
              "      display: none;\n",
              "      fill: #1967D2;\n",
              "      height: 32px;\n",
              "      padding: 0 0 0 0;\n",
              "      width: 32px;\n",
              "    }\n",
              "\n",
              "    .colab-df-convert:hover {\n",
              "      background-color: #E2EBFA;\n",
              "      box-shadow: 0px 1px 2px rgba(60, 64, 67, 0.3), 0px 1px 3px 1px rgba(60, 64, 67, 0.15);\n",
              "      fill: #174EA6;\n",
              "    }\n",
              "\n",
              "    [theme=dark] .colab-df-convert {\n",
              "      background-color: #3B4455;\n",
              "      fill: #D2E3FC;\n",
              "    }\n",
              "\n",
              "    [theme=dark] .colab-df-convert:hover {\n",
              "      background-color: #434B5C;\n",
              "      box-shadow: 0px 1px 3px 1px rgba(0, 0, 0, 0.15);\n",
              "      filter: drop-shadow(0px 1px 2px rgba(0, 0, 0, 0.3));\n",
              "      fill: #FFFFFF;\n",
              "    }\n",
              "  </style>\n",
              "\n",
              "      <script>\n",
              "        const buttonEl =\n",
              "          document.querySelector('#df-03c108e6-afe5-43f0-8cf5-9a88b27be1c1 button.colab-df-convert');\n",
              "        buttonEl.style.display =\n",
              "          google.colab.kernel.accessAllowed ? 'block' : 'none';\n",
              "\n",
              "        async function convertToInteractive(key) {\n",
              "          const element = document.querySelector('#df-03c108e6-afe5-43f0-8cf5-9a88b27be1c1');\n",
              "          const dataTable =\n",
              "            await google.colab.kernel.invokeFunction('convertToInteractive',\n",
              "                                                     [key], {});\n",
              "          if (!dataTable) return;\n",
              "\n",
              "          const docLinkHtml = 'Like what you see? Visit the ' +\n",
              "            '<a target=\"_blank\" href=https://colab.research.google.com/notebooks/data_table.ipynb>data table notebook</a>'\n",
              "            + ' to learn more about interactive tables.';\n",
              "          element.innerHTML = '';\n",
              "          dataTable['output_type'] = 'display_data';\n",
              "          await google.colab.output.renderOutput(dataTable, element);\n",
              "          const docLink = document.createElement('div');\n",
              "          docLink.innerHTML = docLinkHtml;\n",
              "          element.appendChild(docLink);\n",
              "        }\n",
              "      </script>\n",
              "    </div>\n",
              "  </div>\n",
              "  "
            ]
          },
          "metadata": {},
          "execution_count": 103
        }
      ]
    },
    {
      "cell_type": "code",
      "source": [
        "# 단위 맞추기\n",
        "df['sfw'] = df['sfw']*10000\n",
        "df['ecpc'] = df['ecpc']*1000000"
      ],
      "metadata": {
        "id": "9xNZW6fM_Skr"
      },
      "execution_count": null,
      "outputs": []
    },
    {
      "cell_type": "code",
      "source": [
        "df.shape"
      ],
      "metadata": {
        "colab": {
          "base_uri": "https://localhost:8080/"
        },
        "id": "l_0V15X1xEFi",
        "outputId": "ccb102b6-c3a0-4898-f385-6b6301d8e0d7"
      },
      "execution_count": null,
      "outputs": [
        {
          "output_type": "execute_result",
          "data": {
            "text/plain": [
              "(276336, 18)"
            ]
          },
          "metadata": {},
          "execution_count": 105
        }
      ]
    },
    {
      "cell_type": "markdown",
      "source": [
        "### test dataset 따로 저장하기\n",
        "데이터 누수 제거"
      ],
      "metadata": {
        "id": "D_XRbfFXdMGx"
      }
    },
    {
      "cell_type": "code",
      "source": [
        "# df에 sample_submission의 날짜는 제외해야한다. => test data\n",
        "# 기존 df에서 test data를 지우기 위해 sample_submission의 시작 date 알기\n",
        "submission_df = pd.read_csv('competition_data/sample_submission.csv').sort_values(by=['ymdhm'], axis=0)\n",
        "print(submission_df.shape)\n",
        "submission_df.head(3)"
      ],
      "metadata": {
        "id": "CtO4uCWwTIIQ",
        "outputId": "f4f12752-abfa-407a-d3a6-b0e06d5ae2ba",
        "colab": {
          "base_uri": "https://localhost:8080/",
          "height": 162
        }
      },
      "execution_count": null,
      "outputs": [
        {
          "output_type": "stream",
          "name": "stdout",
          "text": [
            "(6912, 5)\n"
          ]
        },
        {
          "output_type": "execute_result",
          "data": {
            "text/plain": [
              "              ymdhm  wl_1018662  wl_1018680  wl_1018683  wl_1019630\n",
              "0  2022-06-01 00:00           0           0           0           0\n",
              "1  2022-06-01 00:10           0           0           0           0\n",
              "2  2022-06-01 00:20           0           0           0           0"
            ],
            "text/html": [
              "\n",
              "  <div id=\"df-db4d13dd-ec36-4d0a-91ad-46e161ef9bac\">\n",
              "    <div class=\"colab-df-container\">\n",
              "      <div>\n",
              "<style scoped>\n",
              "    .dataframe tbody tr th:only-of-type {\n",
              "        vertical-align: middle;\n",
              "    }\n",
              "\n",
              "    .dataframe tbody tr th {\n",
              "        vertical-align: top;\n",
              "    }\n",
              "\n",
              "    .dataframe thead th {\n",
              "        text-align: right;\n",
              "    }\n",
              "</style>\n",
              "<table border=\"1\" class=\"dataframe\">\n",
              "  <thead>\n",
              "    <tr style=\"text-align: right;\">\n",
              "      <th></th>\n",
              "      <th>ymdhm</th>\n",
              "      <th>wl_1018662</th>\n",
              "      <th>wl_1018680</th>\n",
              "      <th>wl_1018683</th>\n",
              "      <th>wl_1019630</th>\n",
              "    </tr>\n",
              "  </thead>\n",
              "  <tbody>\n",
              "    <tr>\n",
              "      <th>0</th>\n",
              "      <td>2022-06-01 00:00</td>\n",
              "      <td>0</td>\n",
              "      <td>0</td>\n",
              "      <td>0</td>\n",
              "      <td>0</td>\n",
              "    </tr>\n",
              "    <tr>\n",
              "      <th>1</th>\n",
              "      <td>2022-06-01 00:10</td>\n",
              "      <td>0</td>\n",
              "      <td>0</td>\n",
              "      <td>0</td>\n",
              "      <td>0</td>\n",
              "    </tr>\n",
              "    <tr>\n",
              "      <th>2</th>\n",
              "      <td>2022-06-01 00:20</td>\n",
              "      <td>0</td>\n",
              "      <td>0</td>\n",
              "      <td>0</td>\n",
              "      <td>0</td>\n",
              "    </tr>\n",
              "  </tbody>\n",
              "</table>\n",
              "</div>\n",
              "      <button class=\"colab-df-convert\" onclick=\"convertToInteractive('df-db4d13dd-ec36-4d0a-91ad-46e161ef9bac')\"\n",
              "              title=\"Convert this dataframe to an interactive table.\"\n",
              "              style=\"display:none;\">\n",
              "        \n",
              "  <svg xmlns=\"http://www.w3.org/2000/svg\" height=\"24px\"viewBox=\"0 0 24 24\"\n",
              "       width=\"24px\">\n",
              "    <path d=\"M0 0h24v24H0V0z\" fill=\"none\"/>\n",
              "    <path d=\"M18.56 5.44l.94 2.06.94-2.06 2.06-.94-2.06-.94-.94-2.06-.94 2.06-2.06.94zm-11 1L8.5 8.5l.94-2.06 2.06-.94-2.06-.94L8.5 2.5l-.94 2.06-2.06.94zm10 10l.94 2.06.94-2.06 2.06-.94-2.06-.94-.94-2.06-.94 2.06-2.06.94z\"/><path d=\"M17.41 7.96l-1.37-1.37c-.4-.4-.92-.59-1.43-.59-.52 0-1.04.2-1.43.59L10.3 9.45l-7.72 7.72c-.78.78-.78 2.05 0 2.83L4 21.41c.39.39.9.59 1.41.59.51 0 1.02-.2 1.41-.59l7.78-7.78 2.81-2.81c.8-.78.8-2.07 0-2.86zM5.41 20L4 18.59l7.72-7.72 1.47 1.35L5.41 20z\"/>\n",
              "  </svg>\n",
              "      </button>\n",
              "      \n",
              "  <style>\n",
              "    .colab-df-container {\n",
              "      display:flex;\n",
              "      flex-wrap:wrap;\n",
              "      gap: 12px;\n",
              "    }\n",
              "\n",
              "    .colab-df-convert {\n",
              "      background-color: #E8F0FE;\n",
              "      border: none;\n",
              "      border-radius: 50%;\n",
              "      cursor: pointer;\n",
              "      display: none;\n",
              "      fill: #1967D2;\n",
              "      height: 32px;\n",
              "      padding: 0 0 0 0;\n",
              "      width: 32px;\n",
              "    }\n",
              "\n",
              "    .colab-df-convert:hover {\n",
              "      background-color: #E2EBFA;\n",
              "      box-shadow: 0px 1px 2px rgba(60, 64, 67, 0.3), 0px 1px 3px 1px rgba(60, 64, 67, 0.15);\n",
              "      fill: #174EA6;\n",
              "    }\n",
              "\n",
              "    [theme=dark] .colab-df-convert {\n",
              "      background-color: #3B4455;\n",
              "      fill: #D2E3FC;\n",
              "    }\n",
              "\n",
              "    [theme=dark] .colab-df-convert:hover {\n",
              "      background-color: #434B5C;\n",
              "      box-shadow: 0px 1px 3px 1px rgba(0, 0, 0, 0.15);\n",
              "      filter: drop-shadow(0px 1px 2px rgba(0, 0, 0, 0.3));\n",
              "      fill: #FFFFFF;\n",
              "    }\n",
              "  </style>\n",
              "\n",
              "      <script>\n",
              "        const buttonEl =\n",
              "          document.querySelector('#df-db4d13dd-ec36-4d0a-91ad-46e161ef9bac button.colab-df-convert');\n",
              "        buttonEl.style.display =\n",
              "          google.colab.kernel.accessAllowed ? 'block' : 'none';\n",
              "\n",
              "        async function convertToInteractive(key) {\n",
              "          const element = document.querySelector('#df-db4d13dd-ec36-4d0a-91ad-46e161ef9bac');\n",
              "          const dataTable =\n",
              "            await google.colab.kernel.invokeFunction('convertToInteractive',\n",
              "                                                     [key], {});\n",
              "          if (!dataTable) return;\n",
              "\n",
              "          const docLinkHtml = 'Like what you see? Visit the ' +\n",
              "            '<a target=\"_blank\" href=https://colab.research.google.com/notebooks/data_table.ipynb>data table notebook</a>'\n",
              "            + ' to learn more about interactive tables.';\n",
              "          element.innerHTML = '';\n",
              "          dataTable['output_type'] = 'display_data';\n",
              "          await google.colab.output.renderOutput(dataTable, element);\n",
              "          const docLink = document.createElement('div');\n",
              "          docLink.innerHTML = docLinkHtml;\n",
              "          element.appendChild(docLink);\n",
              "        }\n",
              "      </script>\n",
              "    </div>\n",
              "  </div>\n",
              "  "
            ]
          },
          "metadata": {},
          "execution_count": 106
        }
      ]
    },
    {
      "cell_type": "code",
      "source": [
        "# test dataset 저장, train dataset에서 해당 data 삭제\n",
        "start_data = df[df['ymdhm'] == submission_df.ymdhm.iloc[0]].index[0]\n",
        "print(start_data)\n",
        "test_df = df[df.index >= start_data-1]  # 이전데이터포함\n",
        "test_df = test_df.reset_index(drop=True)\n",
        "df = df.iloc[:start_data]\n",
        "print(df.shape, test_df.shape)\n",
        "test_df.head(3)"
      ],
      "metadata": {
        "id": "82fiS3TjRWwt",
        "outputId": "78584ddc-46c8-42e9-8b14-b9b473405acb",
        "colab": {
          "base_uri": "https://localhost:8080/",
          "height": 348
        }
      },
      "execution_count": null,
      "outputs": [
        {
          "output_type": "stream",
          "name": "stdout",
          "text": [
            "269424\n",
            "(269424, 18) (6913, 18)\n"
          ]
        },
        {
          "output_type": "execute_result",
          "data": {
            "text/plain": [
              "              ymdhm    swl     inf        sfw        ecpc  tototf  tide_level  \\\n",
              "0  2022-05-31 23:50  25.19  140.56  2183600.0  25640000.0  140.56       173.0   \n",
              "1  2022-06-01 00:00  25.19  140.60  2183600.0  25640000.0  140.60       162.0   \n",
              "2  2022-06-01 00:10  25.19  140.78  2183600.0  25640000.0  140.78       151.0   \n",
              "\n",
              "   wl_1018662  fw_1018662  wl_1018680  fw_1018680  wl_1018683  fw_1018683  \\\n",
              "0       278.7      269.40       276.2         NaN       275.0       70.09   \n",
              "1         0.0      269.40         0.0         NaN         0.0        8.23   \n",
              "2         0.0      280.22         0.0         NaN         0.0       28.82   \n",
              "\n",
              "   wl_1019630  fw_1019630  rf_10184100  rf_10184110  rf_10184140  \n",
              "0       270.3      482.26          0.0          0.0          0.0  \n",
              "1         0.0      471.08          0.0          0.0          0.0  \n",
              "2         0.0      449.12          0.0          0.0          0.0  "
            ],
            "text/html": [
              "\n",
              "  <div id=\"df-0f1abfb2-8164-4350-8f24-da16eee8d3b9\">\n",
              "    <div class=\"colab-df-container\">\n",
              "      <div>\n",
              "<style scoped>\n",
              "    .dataframe tbody tr th:only-of-type {\n",
              "        vertical-align: middle;\n",
              "    }\n",
              "\n",
              "    .dataframe tbody tr th {\n",
              "        vertical-align: top;\n",
              "    }\n",
              "\n",
              "    .dataframe thead th {\n",
              "        text-align: right;\n",
              "    }\n",
              "</style>\n",
              "<table border=\"1\" class=\"dataframe\">\n",
              "  <thead>\n",
              "    <tr style=\"text-align: right;\">\n",
              "      <th></th>\n",
              "      <th>ymdhm</th>\n",
              "      <th>swl</th>\n",
              "      <th>inf</th>\n",
              "      <th>sfw</th>\n",
              "      <th>ecpc</th>\n",
              "      <th>tototf</th>\n",
              "      <th>tide_level</th>\n",
              "      <th>wl_1018662</th>\n",
              "      <th>fw_1018662</th>\n",
              "      <th>wl_1018680</th>\n",
              "      <th>fw_1018680</th>\n",
              "      <th>wl_1018683</th>\n",
              "      <th>fw_1018683</th>\n",
              "      <th>wl_1019630</th>\n",
              "      <th>fw_1019630</th>\n",
              "      <th>rf_10184100</th>\n",
              "      <th>rf_10184110</th>\n",
              "      <th>rf_10184140</th>\n",
              "    </tr>\n",
              "  </thead>\n",
              "  <tbody>\n",
              "    <tr>\n",
              "      <th>0</th>\n",
              "      <td>2022-05-31 23:50</td>\n",
              "      <td>25.19</td>\n",
              "      <td>140.56</td>\n",
              "      <td>2183600.0</td>\n",
              "      <td>25640000.0</td>\n",
              "      <td>140.56</td>\n",
              "      <td>173.0</td>\n",
              "      <td>278.7</td>\n",
              "      <td>269.40</td>\n",
              "      <td>276.2</td>\n",
              "      <td>NaN</td>\n",
              "      <td>275.0</td>\n",
              "      <td>70.09</td>\n",
              "      <td>270.3</td>\n",
              "      <td>482.26</td>\n",
              "      <td>0.0</td>\n",
              "      <td>0.0</td>\n",
              "      <td>0.0</td>\n",
              "    </tr>\n",
              "    <tr>\n",
              "      <th>1</th>\n",
              "      <td>2022-06-01 00:00</td>\n",
              "      <td>25.19</td>\n",
              "      <td>140.60</td>\n",
              "      <td>2183600.0</td>\n",
              "      <td>25640000.0</td>\n",
              "      <td>140.60</td>\n",
              "      <td>162.0</td>\n",
              "      <td>0.0</td>\n",
              "      <td>269.40</td>\n",
              "      <td>0.0</td>\n",
              "      <td>NaN</td>\n",
              "      <td>0.0</td>\n",
              "      <td>8.23</td>\n",
              "      <td>0.0</td>\n",
              "      <td>471.08</td>\n",
              "      <td>0.0</td>\n",
              "      <td>0.0</td>\n",
              "      <td>0.0</td>\n",
              "    </tr>\n",
              "    <tr>\n",
              "      <th>2</th>\n",
              "      <td>2022-06-01 00:10</td>\n",
              "      <td>25.19</td>\n",
              "      <td>140.78</td>\n",
              "      <td>2183600.0</td>\n",
              "      <td>25640000.0</td>\n",
              "      <td>140.78</td>\n",
              "      <td>151.0</td>\n",
              "      <td>0.0</td>\n",
              "      <td>280.22</td>\n",
              "      <td>0.0</td>\n",
              "      <td>NaN</td>\n",
              "      <td>0.0</td>\n",
              "      <td>28.82</td>\n",
              "      <td>0.0</td>\n",
              "      <td>449.12</td>\n",
              "      <td>0.0</td>\n",
              "      <td>0.0</td>\n",
              "      <td>0.0</td>\n",
              "    </tr>\n",
              "  </tbody>\n",
              "</table>\n",
              "</div>\n",
              "      <button class=\"colab-df-convert\" onclick=\"convertToInteractive('df-0f1abfb2-8164-4350-8f24-da16eee8d3b9')\"\n",
              "              title=\"Convert this dataframe to an interactive table.\"\n",
              "              style=\"display:none;\">\n",
              "        \n",
              "  <svg xmlns=\"http://www.w3.org/2000/svg\" height=\"24px\"viewBox=\"0 0 24 24\"\n",
              "       width=\"24px\">\n",
              "    <path d=\"M0 0h24v24H0V0z\" fill=\"none\"/>\n",
              "    <path d=\"M18.56 5.44l.94 2.06.94-2.06 2.06-.94-2.06-.94-.94-2.06-.94 2.06-2.06.94zm-11 1L8.5 8.5l.94-2.06 2.06-.94-2.06-.94L8.5 2.5l-.94 2.06-2.06.94zm10 10l.94 2.06.94-2.06 2.06-.94-2.06-.94-.94-2.06-.94 2.06-2.06.94z\"/><path d=\"M17.41 7.96l-1.37-1.37c-.4-.4-.92-.59-1.43-.59-.52 0-1.04.2-1.43.59L10.3 9.45l-7.72 7.72c-.78.78-.78 2.05 0 2.83L4 21.41c.39.39.9.59 1.41.59.51 0 1.02-.2 1.41-.59l7.78-7.78 2.81-2.81c.8-.78.8-2.07 0-2.86zM5.41 20L4 18.59l7.72-7.72 1.47 1.35L5.41 20z\"/>\n",
              "  </svg>\n",
              "      </button>\n",
              "      \n",
              "  <style>\n",
              "    .colab-df-container {\n",
              "      display:flex;\n",
              "      flex-wrap:wrap;\n",
              "      gap: 12px;\n",
              "    }\n",
              "\n",
              "    .colab-df-convert {\n",
              "      background-color: #E8F0FE;\n",
              "      border: none;\n",
              "      border-radius: 50%;\n",
              "      cursor: pointer;\n",
              "      display: none;\n",
              "      fill: #1967D2;\n",
              "      height: 32px;\n",
              "      padding: 0 0 0 0;\n",
              "      width: 32px;\n",
              "    }\n",
              "\n",
              "    .colab-df-convert:hover {\n",
              "      background-color: #E2EBFA;\n",
              "      box-shadow: 0px 1px 2px rgba(60, 64, 67, 0.3), 0px 1px 3px 1px rgba(60, 64, 67, 0.15);\n",
              "      fill: #174EA6;\n",
              "    }\n",
              "\n",
              "    [theme=dark] .colab-df-convert {\n",
              "      background-color: #3B4455;\n",
              "      fill: #D2E3FC;\n",
              "    }\n",
              "\n",
              "    [theme=dark] .colab-df-convert:hover {\n",
              "      background-color: #434B5C;\n",
              "      box-shadow: 0px 1px 3px 1px rgba(0, 0, 0, 0.15);\n",
              "      filter: drop-shadow(0px 1px 2px rgba(0, 0, 0, 0.3));\n",
              "      fill: #FFFFFF;\n",
              "    }\n",
              "  </style>\n",
              "\n",
              "      <script>\n",
              "        const buttonEl =\n",
              "          document.querySelector('#df-0f1abfb2-8164-4350-8f24-da16eee8d3b9 button.colab-df-convert');\n",
              "        buttonEl.style.display =\n",
              "          google.colab.kernel.accessAllowed ? 'block' : 'none';\n",
              "\n",
              "        async function convertToInteractive(key) {\n",
              "          const element = document.querySelector('#df-0f1abfb2-8164-4350-8f24-da16eee8d3b9');\n",
              "          const dataTable =\n",
              "            await google.colab.kernel.invokeFunction('convertToInteractive',\n",
              "                                                     [key], {});\n",
              "          if (!dataTable) return;\n",
              "\n",
              "          const docLinkHtml = 'Like what you see? Visit the ' +\n",
              "            '<a target=\"_blank\" href=https://colab.research.google.com/notebooks/data_table.ipynb>data table notebook</a>'\n",
              "            + ' to learn more about interactive tables.';\n",
              "          element.innerHTML = '';\n",
              "          dataTable['output_type'] = 'display_data';\n",
              "          await google.colab.output.renderOutput(dataTable, element);\n",
              "          const docLink = document.createElement('div');\n",
              "          docLink.innerHTML = docLinkHtml;\n",
              "          element.appendChild(docLink);\n",
              "        }\n",
              "      </script>\n",
              "    </div>\n",
              "  </div>\n",
              "  "
            ]
          },
          "metadata": {},
          "execution_count": 107
        }
      ]
    },
    {
      "cell_type": "code",
      "source": [
        "df.tail(3)"
      ],
      "metadata": {
        "id": "BTNlz28ARHY3",
        "outputId": "48c1b082-bb32-42cd-b4af-7e359616f474",
        "colab": {
          "base_uri": "https://localhost:8080/",
          "height": 312
        }
      },
      "execution_count": null,
      "outputs": [
        {
          "output_type": "execute_result",
          "data": {
            "text/plain": [
              "                   ymdhm    swl     inf        sfw        ecpc  tototf  \\\n",
              "269421  2022-05-31 23:30  25.18  141.01  2179900.0  26010000.0  141.01   \n",
              "269422  2022-05-31 23:40  25.19  755.75  2183600.0  25640000.0  140.75   \n",
              "269423  2022-05-31 23:50  25.19  140.56  2183600.0  25640000.0  140.56   \n",
              "\n",
              "        tide_level  wl_1018662  fw_1018662  wl_1018680  fw_1018680  \\\n",
              "269421       196.0       278.7      269.40       277.2         NaN   \n",
              "269422       184.0       277.7      264.07       276.2         NaN   \n",
              "269423       173.0       278.7      269.40       276.2         NaN   \n",
              "\n",
              "        wl_1018683  fw_1018683  wl_1019630  fw_1019630  rf_10184100  \\\n",
              "269421       277.0      425.89       272.3      505.03          0.0   \n",
              "269422       276.0      198.19       271.3      493.58          0.0   \n",
              "269423       275.0       70.09       270.3      482.26          0.0   \n",
              "\n",
              "        rf_10184110  rf_10184140  \n",
              "269421          0.0          0.0  \n",
              "269422          0.0          0.0  \n",
              "269423          0.0          0.0  "
            ],
            "text/html": [
              "\n",
              "  <div id=\"df-c2d80616-8d5e-45a0-9ccb-bbc0eb78f8f8\">\n",
              "    <div class=\"colab-df-container\">\n",
              "      <div>\n",
              "<style scoped>\n",
              "    .dataframe tbody tr th:only-of-type {\n",
              "        vertical-align: middle;\n",
              "    }\n",
              "\n",
              "    .dataframe tbody tr th {\n",
              "        vertical-align: top;\n",
              "    }\n",
              "\n",
              "    .dataframe thead th {\n",
              "        text-align: right;\n",
              "    }\n",
              "</style>\n",
              "<table border=\"1\" class=\"dataframe\">\n",
              "  <thead>\n",
              "    <tr style=\"text-align: right;\">\n",
              "      <th></th>\n",
              "      <th>ymdhm</th>\n",
              "      <th>swl</th>\n",
              "      <th>inf</th>\n",
              "      <th>sfw</th>\n",
              "      <th>ecpc</th>\n",
              "      <th>tototf</th>\n",
              "      <th>tide_level</th>\n",
              "      <th>wl_1018662</th>\n",
              "      <th>fw_1018662</th>\n",
              "      <th>wl_1018680</th>\n",
              "      <th>fw_1018680</th>\n",
              "      <th>wl_1018683</th>\n",
              "      <th>fw_1018683</th>\n",
              "      <th>wl_1019630</th>\n",
              "      <th>fw_1019630</th>\n",
              "      <th>rf_10184100</th>\n",
              "      <th>rf_10184110</th>\n",
              "      <th>rf_10184140</th>\n",
              "    </tr>\n",
              "  </thead>\n",
              "  <tbody>\n",
              "    <tr>\n",
              "      <th>269421</th>\n",
              "      <td>2022-05-31 23:30</td>\n",
              "      <td>25.18</td>\n",
              "      <td>141.01</td>\n",
              "      <td>2179900.0</td>\n",
              "      <td>26010000.0</td>\n",
              "      <td>141.01</td>\n",
              "      <td>196.0</td>\n",
              "      <td>278.7</td>\n",
              "      <td>269.40</td>\n",
              "      <td>277.2</td>\n",
              "      <td>NaN</td>\n",
              "      <td>277.0</td>\n",
              "      <td>425.89</td>\n",
              "      <td>272.3</td>\n",
              "      <td>505.03</td>\n",
              "      <td>0.0</td>\n",
              "      <td>0.0</td>\n",
              "      <td>0.0</td>\n",
              "    </tr>\n",
              "    <tr>\n",
              "      <th>269422</th>\n",
              "      <td>2022-05-31 23:40</td>\n",
              "      <td>25.19</td>\n",
              "      <td>755.75</td>\n",
              "      <td>2183600.0</td>\n",
              "      <td>25640000.0</td>\n",
              "      <td>140.75</td>\n",
              "      <td>184.0</td>\n",
              "      <td>277.7</td>\n",
              "      <td>264.07</td>\n",
              "      <td>276.2</td>\n",
              "      <td>NaN</td>\n",
              "      <td>276.0</td>\n",
              "      <td>198.19</td>\n",
              "      <td>271.3</td>\n",
              "      <td>493.58</td>\n",
              "      <td>0.0</td>\n",
              "      <td>0.0</td>\n",
              "      <td>0.0</td>\n",
              "    </tr>\n",
              "    <tr>\n",
              "      <th>269423</th>\n",
              "      <td>2022-05-31 23:50</td>\n",
              "      <td>25.19</td>\n",
              "      <td>140.56</td>\n",
              "      <td>2183600.0</td>\n",
              "      <td>25640000.0</td>\n",
              "      <td>140.56</td>\n",
              "      <td>173.0</td>\n",
              "      <td>278.7</td>\n",
              "      <td>269.40</td>\n",
              "      <td>276.2</td>\n",
              "      <td>NaN</td>\n",
              "      <td>275.0</td>\n",
              "      <td>70.09</td>\n",
              "      <td>270.3</td>\n",
              "      <td>482.26</td>\n",
              "      <td>0.0</td>\n",
              "      <td>0.0</td>\n",
              "      <td>0.0</td>\n",
              "    </tr>\n",
              "  </tbody>\n",
              "</table>\n",
              "</div>\n",
              "      <button class=\"colab-df-convert\" onclick=\"convertToInteractive('df-c2d80616-8d5e-45a0-9ccb-bbc0eb78f8f8')\"\n",
              "              title=\"Convert this dataframe to an interactive table.\"\n",
              "              style=\"display:none;\">\n",
              "        \n",
              "  <svg xmlns=\"http://www.w3.org/2000/svg\" height=\"24px\"viewBox=\"0 0 24 24\"\n",
              "       width=\"24px\">\n",
              "    <path d=\"M0 0h24v24H0V0z\" fill=\"none\"/>\n",
              "    <path d=\"M18.56 5.44l.94 2.06.94-2.06 2.06-.94-2.06-.94-.94-2.06-.94 2.06-2.06.94zm-11 1L8.5 8.5l.94-2.06 2.06-.94-2.06-.94L8.5 2.5l-.94 2.06-2.06.94zm10 10l.94 2.06.94-2.06 2.06-.94-2.06-.94-.94-2.06-.94 2.06-2.06.94z\"/><path d=\"M17.41 7.96l-1.37-1.37c-.4-.4-.92-.59-1.43-.59-.52 0-1.04.2-1.43.59L10.3 9.45l-7.72 7.72c-.78.78-.78 2.05 0 2.83L4 21.41c.39.39.9.59 1.41.59.51 0 1.02-.2 1.41-.59l7.78-7.78 2.81-2.81c.8-.78.8-2.07 0-2.86zM5.41 20L4 18.59l7.72-7.72 1.47 1.35L5.41 20z\"/>\n",
              "  </svg>\n",
              "      </button>\n",
              "      \n",
              "  <style>\n",
              "    .colab-df-container {\n",
              "      display:flex;\n",
              "      flex-wrap:wrap;\n",
              "      gap: 12px;\n",
              "    }\n",
              "\n",
              "    .colab-df-convert {\n",
              "      background-color: #E8F0FE;\n",
              "      border: none;\n",
              "      border-radius: 50%;\n",
              "      cursor: pointer;\n",
              "      display: none;\n",
              "      fill: #1967D2;\n",
              "      height: 32px;\n",
              "      padding: 0 0 0 0;\n",
              "      width: 32px;\n",
              "    }\n",
              "\n",
              "    .colab-df-convert:hover {\n",
              "      background-color: #E2EBFA;\n",
              "      box-shadow: 0px 1px 2px rgba(60, 64, 67, 0.3), 0px 1px 3px 1px rgba(60, 64, 67, 0.15);\n",
              "      fill: #174EA6;\n",
              "    }\n",
              "\n",
              "    [theme=dark] .colab-df-convert {\n",
              "      background-color: #3B4455;\n",
              "      fill: #D2E3FC;\n",
              "    }\n",
              "\n",
              "    [theme=dark] .colab-df-convert:hover {\n",
              "      background-color: #434B5C;\n",
              "      box-shadow: 0px 1px 3px 1px rgba(0, 0, 0, 0.15);\n",
              "      filter: drop-shadow(0px 1px 2px rgba(0, 0, 0, 0.3));\n",
              "      fill: #FFFFFF;\n",
              "    }\n",
              "  </style>\n",
              "\n",
              "      <script>\n",
              "        const buttonEl =\n",
              "          document.querySelector('#df-c2d80616-8d5e-45a0-9ccb-bbc0eb78f8f8 button.colab-df-convert');\n",
              "        buttonEl.style.display =\n",
              "          google.colab.kernel.accessAllowed ? 'block' : 'none';\n",
              "\n",
              "        async function convertToInteractive(key) {\n",
              "          const element = document.querySelector('#df-c2d80616-8d5e-45a0-9ccb-bbc0eb78f8f8');\n",
              "          const dataTable =\n",
              "            await google.colab.kernel.invokeFunction('convertToInteractive',\n",
              "                                                     [key], {});\n",
              "          if (!dataTable) return;\n",
              "\n",
              "          const docLinkHtml = 'Like what you see? Visit the ' +\n",
              "            '<a target=\"_blank\" href=https://colab.research.google.com/notebooks/data_table.ipynb>data table notebook</a>'\n",
              "            + ' to learn more about interactive tables.';\n",
              "          element.innerHTML = '';\n",
              "          dataTable['output_type'] = 'display_data';\n",
              "          await google.colab.output.renderOutput(dataTable, element);\n",
              "          const docLink = document.createElement('div');\n",
              "          docLink.innerHTML = docLinkHtml;\n",
              "          element.appendChild(docLink);\n",
              "        }\n",
              "      </script>\n",
              "    </div>\n",
              "  </div>\n",
              "  "
            ]
          },
          "metadata": {},
          "execution_count": 8
        }
      ]
    },
    {
      "cell_type": "markdown",
      "source": [
        "### NULL값 idx 저장 및 보강\n",
        "\n",
        "na_idxes에 null값이 있던 idx 저장. 이후에 label에 null값이 있다면 그 것은 train dataset에서 제거할 예정이다."
      ],
      "metadata": {
        "id": "Dy5g-Gh6dTnS"
      }
    },
    {
      "cell_type": "code",
      "source": [
        "na_idxes = {}\n",
        "print(f'shape : {df.shape}')\n",
        "print(f'null : {df.isna().sum()}')\n",
        "for col in df.columns :\n",
        "  na_idxes[col] = df[df[col].isna() == True].index\n",
        "df = df.fillna(df.interpolate())\n",
        "print(f'null : {df.isna().sum()}')"
      ],
      "metadata": {
        "id": "vLGqtE219T2V"
      },
      "execution_count": null,
      "outputs": []
    },
    {
      "cell_type": "code",
      "source": [
        "# 진관료 : 남양주시 rf_10184100 , 대곡교 : 송파구 rf_10184110,  송정동 : 서울 성동구 rf_10184140\n",
        "features = ['swl', 'inf', 'sfw', 'ecpc', 'tototf', 'tide_level', 'fw_1018662', 'fw_1018680', 'fw_1018683', 'fw_1019630']\n",
        "rainfall = ['rf_10184100', 'rf_10184110', 'rf_10184140']\n",
        "label = ['wl_1018662', 'wl_1018680', 'wl_1018683', 'wl_1019630']\n"
      ],
      "metadata": {
        "id": "d5CUfvx8RAnN"
      },
      "execution_count": null,
      "outputs": []
    },
    {
      "cell_type": "code",
      "source": [
        "# 교집합 구하기 ( 같은 위치에서 모두 nan이 되어서 합집합과 같아졌다.)\n",
        "unique_idx = set(list(na_idxes['wl_1018662'])) & set(list(na_idxes['wl_1018680'])) & set(list(na_idxes['wl_1018683'])) & set(list(na_idxes['wl_1019630']))\n",
        "print(len(unique_idx))\n",
        "print(sorted(unique_idx))\n",
        "mmin_idx, mmax_idx, mmmax_idx = sorted(unique_idx)[0], sorted(unique_idx)[-2], sorted(unique_idx)[-1]"
      ],
      "metadata": {
        "colab": {
          "base_uri": "https://localhost:8080/"
        },
        "id": "BtT_y727VZjA",
        "outputId": "10130ae2-e84e-4022-cff2-25a81b7d91ee"
      },
      "execution_count": null,
      "outputs": [
        {
          "output_type": "stream",
          "name": "stdout",
          "text": [
            "59\n",
            "[140613, 140614, 140615, 140616, 140617, 140618, 140619, 140620, 140621, 140622, 140623, 140624, 140625, 140626, 140627, 140628, 140629, 140630, 140631, 140632, 140633, 140634, 140635, 140636, 140637, 140638, 140639, 140640, 140641, 140642, 140643, 140644, 140645, 140646, 140647, 140648, 140649, 140650, 140651, 140652, 140653, 140654, 140655, 140656, 140657, 140658, 140659, 140660, 140661, 140662, 140663, 140664, 140665, 140666, 140667, 140668, 140669, 140670, 236080]\n"
          ]
        }
      ]
    },
    {
      "cell_type": "code",
      "source": [
        "# import seaborn as sns\n",
        "# import matplotlib.pyplot as plt\n",
        "# fig,axs = plt.subplots(2,2)\n",
        "# sns.lineplot(data=df,x='wl_1018662',y='fw_1018662',ax=axs[0,0])\n",
        "# sns.lineplot(data=df,x='wl_1018680',y='fw_1018680',ax=axs[0,1])\n",
        "# sns.lineplot(data=df,x='wl_1018683',y='fw_1018683',ax=axs[1,0])\n",
        "# sns.lineplot(data=df,x='wl_1019630',y='fw_1019630',ax=axs[1,1])"
      ],
      "metadata": {
        "id": "xsLoMuuoc_KO"
      },
      "execution_count": null,
      "outputs": []
    },
    {
      "cell_type": "code",
      "source": [
        "# test dataset 보정\n",
        "na_idxes = {}\n",
        "print(f'shape : {test_df.shape}')\n",
        "for col in test_df.columns :\n",
        "  na_idxes[col] = test_df[test_df[col].isna() == True].index\n",
        "test_df = test_df.fillna(test_df.interpolate())\n",
        "print(f'null : {test_df.isna().sum()}')"
      ],
      "metadata": {
        "colab": {
          "base_uri": "https://localhost:8080/"
        },
        "id": "LXIUltJYQayt",
        "outputId": "b4a8bef5-0617-4f1c-98c8-e806f24b7da3"
      },
      "execution_count": null,
      "outputs": [
        {
          "output_type": "stream",
          "name": "stdout",
          "text": [
            "shape : (6931, 19)\n",
            "null : 0              6913\n",
            "ecpc             18\n",
            "fw_1018662       18\n",
            "fw_1018680       18\n",
            "fw_1018683       18\n",
            "fw_1019630       18\n",
            "inf              18\n",
            "rf_10184100      18\n",
            "rf_10184110      18\n",
            "rf_10184140      18\n",
            "sfw              18\n",
            "swl              18\n",
            "tide_level       18\n",
            "tototf           18\n",
            "wl_1018662       18\n",
            "wl_1018680       18\n",
            "wl_1018683       18\n",
            "wl_1019630       18\n",
            "ymdhm            18\n",
            "dtype: int64\n"
          ]
        }
      ]
    },
    {
      "cell_type": "code",
      "source": [
        "test_df = test_df.fillna(0)\n",
        "test_df.shape"
      ],
      "metadata": {
        "colab": {
          "base_uri": "https://localhost:8080/"
        },
        "id": "oYsYp4p1QkJa",
        "outputId": "b88303fe-2cd3-4fe8-c182-25cb16010c68"
      },
      "execution_count": null,
      "outputs": [
        {
          "output_type": "execute_result",
          "data": {
            "text/plain": [
              "(6913, 18)"
            ]
          },
          "metadata": {},
          "execution_count": 110
        }
      ]
    },
    {
      "cell_type": "markdown",
      "source": [
        "## 모델링"
      ],
      "metadata": {
        "id": "1si2UquX9XME"
      }
    },
    {
      "cell_type": "code",
      "source": [
        "from sklearn.preprocessing import PolynomialFeatures\n",
        "from sklearn.pipeline import make_pipeline\n",
        "# from sklearn.multioutput import MultiOutputRegressor\n",
        "# import xgboost as xgb\n",
        "from sklearn.linear_model import ElasticNet, Lasso"
      ],
      "metadata": {
        "id": "IZX9GurJjEhH"
      },
      "execution_count": null,
      "outputs": []
    },
    {
      "cell_type": "code",
      "source": [
        "from sklearn.model_selection import train_test_split\n",
        "train, val = train_test_split(df[features[:-3]+rainfall[:-2]], train_size=0.80, test_size=0.20, random_state=2)\n",
        "label_train, label_val = train_test_split(df[label[:-3]], train_size=0.80, test_size=0.20, random_state=2)"
      ],
      "metadata": {
        "id": "qh98fFzjpKn8"
      },
      "execution_count": null,
      "outputs": []
    },
    {
      "cell_type": "code",
      "source": [
        "df.iloc[:-1].shape, df.shape"
      ],
      "metadata": {
        "colab": {
          "base_uri": "https://localhost:8080/"
        },
        "id": "WDmkGTAGyfg4",
        "outputId": "cb9b3f97-2087-4beb-be63-007e01fa4987"
      },
      "execution_count": null,
      "outputs": [
        {
          "output_type": "execute_result",
          "data": {
            "text/plain": [
              "((269423, 18), (269424, 18))"
            ]
          },
          "metadata": {},
          "execution_count": 58
        }
      ]
    },
    {
      "cell_type": "code",
      "source": [
        "from sklearn.model_selection import train_test_split\n",
        "train, val = train_test_split(df[features[:-3]+rainfall[:-2]].iloc[:-1], train_size=0.80, test_size=0.20, random_state=2)\n",
        "label_train, label_val = train_test_split(df[label[:-3]].iloc[1:], train_size=0.80, test_size=0.20, random_state=2)\n",
        "train.shape, val.shape, label_train.shape, label_val.shape"
      ],
      "metadata": {
        "colab": {
          "base_uri": "https://localhost:8080/"
        },
        "id": "Og-GV2z-yQgS",
        "outputId": "c00188da-2f07-4d3f-f972-cc3fd1b6be48"
      },
      "execution_count": null,
      "outputs": [
        {
          "output_type": "execute_result",
          "data": {
            "text/plain": [
              "((215538, 8), (53885, 8), (215538, 1), (53885, 1))"
            ]
          },
          "metadata": {},
          "execution_count": 67
        }
      ]
    },
    {
      "cell_type": "code",
      "source": [
        "from sklearn.metrics import mean_squared_error\n",
        "def poly_pipe(alphas) :\n",
        "  for i in alphas :\n",
        "    poly_pipeline = make_pipeline(\n",
        "        PolynomialFeatures(degree=2, include_bias=False),\n",
        "        ElasticNet(alpha=i, l1_ratio=0.1)\n",
        "    )\n",
        "    poly_pipeline.fit(train, label_train)\n",
        "    poly_pred = poly_pipeline.predict(val)\n",
        "    print(mean_squared_error(label_val, poly_pred, squared=False))\n",
        "print([0.25, 0.1, 0.01, 0.05])\n",
        "poly_pipe([0.25, 0.1, 0.01, 0.05])  # rmse : 11\n",
        "\n",
        "# 10분 미루기(1 row 미루기)\n",
        "# poly_pipe([0.25, 0.1, 0.01, 0.05])  # rmse : 11\n",
        "# poly_pipe([0.25, 0.1, 0.01, 0.05])  # poly 없을 때 rmse : 20\n",
        "poly_pipe([0.25, 0.1, 0.01, 0.05])  # poly 있을 때, 4가지 label 모두 rmse : 8.19, 8.19, "
      ],
      "metadata": {
        "id": "IJQaTCcCG9V1"
      },
      "execution_count": null,
      "outputs": []
    },
    {
      "cell_type": "code",
      "source": [
        "def poly_lasso_pipe(alphas) :\n",
        "  for i in alphas :\n",
        "    lasso_pipeline = make_pipeline(\n",
        "        PolynomialFeatures(degree=2, include_bias=False),\n",
        "        Lasso(alpha=i)\n",
        "    )\n",
        "    lasso_pipeline.fit(train, label_train)\n",
        "    poly_pred = lasso_pipeline.predict(val)\n",
        "    print(mean_squared_error(label_val, poly_pred, squared=False))\n",
        "print([0.25, 0.1, 0.01, 0.05])\n",
        "# poly_lasso_pipe([0.25, 0.1, 0.01, 0.05])  # rmse : 11\n",
        "# 10분 미뤘을 때\n",
        "# poly_lasso_pipe([0.25, 0.1, 0.01, 0.05])  # rmse : 11.55\n",
        "poly_lasso_pipe([0.25, 0.1, 0.01, 0.05])  # 4 변수 모두 rmse : 8.19, "
      ],
      "metadata": {
        "colab": {
          "base_uri": "https://localhost:8080/"
        },
        "id": "g0qrUXkrsld6",
        "outputId": "996d6347-450a-413f-b6be-83c665b04be6"
      },
      "execution_count": null,
      "outputs": [
        {
          "output_type": "stream",
          "name": "stdout",
          "text": [
            "[0.25, 0.1, 0.01, 0.05]\n"
          ]
        },
        {
          "output_type": "stream",
          "name": "stderr",
          "text": [
            "/usr/local/lib/python3.7/dist-packages/sklearn/linear_model/_coordinate_descent.py:648: ConvergenceWarning: Objective did not converge. You might want to increase the number of iterations, check the scale of the features or consider increasing regularisation. Duality gap: 7.558e+06, tolerance: 1.248e+05\n",
            "  coef_, l1_reg, l2_reg, X, y, max_iter, tol, rng, random, positive\n",
            "/usr/local/lib/python3.7/dist-packages/sklearn/linear_model/_coordinate_descent.py:648: ConvergenceWarning: Objective did not converge. You might want to increase the number of iterations, check the scale of the features or consider increasing regularisation. Duality gap: 1.087e+07, tolerance: 9.723e+04\n",
            "  coef_, l1_reg, l2_reg, X, y, max_iter, tol, rng, random, positive\n",
            "/usr/local/lib/python3.7/dist-packages/sklearn/linear_model/_coordinate_descent.py:648: ConvergenceWarning: Objective did not converge. You might want to increase the number of iterations, check the scale of the features or consider increasing regularisation. Duality gap: 7.240e+06, tolerance: 8.698e+04\n",
            "  coef_, l1_reg, l2_reg, X, y, max_iter, tol, rng, random, positive\n",
            "/usr/local/lib/python3.7/dist-packages/sklearn/linear_model/_coordinate_descent.py:648: ConvergenceWarning: Objective did not converge. You might want to increase the number of iterations, check the scale of the features or consider increasing regularisation. Duality gap: 4.118e+06, tolerance: 5.648e+04\n",
            "  coef_, l1_reg, l2_reg, X, y, max_iter, tol, rng, random, positive\n"
          ]
        },
        {
          "output_type": "stream",
          "name": "stdout",
          "text": [
            "8.193855229398045\n"
          ]
        },
        {
          "output_type": "stream",
          "name": "stderr",
          "text": [
            "/usr/local/lib/python3.7/dist-packages/sklearn/linear_model/_coordinate_descent.py:648: ConvergenceWarning: Objective did not converge. You might want to increase the number of iterations, check the scale of the features or consider increasing regularisation. Duality gap: 7.550e+06, tolerance: 1.248e+05\n",
            "  coef_, l1_reg, l2_reg, X, y, max_iter, tol, rng, random, positive\n",
            "/usr/local/lib/python3.7/dist-packages/sklearn/linear_model/_coordinate_descent.py:648: ConvergenceWarning: Objective did not converge. You might want to increase the number of iterations, check the scale of the features or consider increasing regularisation. Duality gap: 1.085e+07, tolerance: 9.723e+04\n",
            "  coef_, l1_reg, l2_reg, X, y, max_iter, tol, rng, random, positive\n",
            "/usr/local/lib/python3.7/dist-packages/sklearn/linear_model/_coordinate_descent.py:648: ConvergenceWarning: Objective did not converge. You might want to increase the number of iterations, check the scale of the features or consider increasing regularisation. Duality gap: 7.232e+06, tolerance: 8.698e+04\n",
            "  coef_, l1_reg, l2_reg, X, y, max_iter, tol, rng, random, positive\n",
            "/usr/local/lib/python3.7/dist-packages/sklearn/linear_model/_coordinate_descent.py:648: ConvergenceWarning: Objective did not converge. You might want to increase the number of iterations, check the scale of the features or consider increasing regularisation. Duality gap: 4.115e+06, tolerance: 5.648e+04\n",
            "  coef_, l1_reg, l2_reg, X, y, max_iter, tol, rng, random, positive\n"
          ]
        },
        {
          "output_type": "stream",
          "name": "stdout",
          "text": [
            "8.192389289555589\n"
          ]
        },
        {
          "output_type": "stream",
          "name": "stderr",
          "text": [
            "/usr/local/lib/python3.7/dist-packages/sklearn/linear_model/_coordinate_descent.py:648: ConvergenceWarning: Objective did not converge. You might want to increase the number of iterations, check the scale of the features or consider increasing regularisation. Duality gap: 7.541e+06, tolerance: 1.248e+05\n",
            "  coef_, l1_reg, l2_reg, X, y, max_iter, tol, rng, random, positive\n",
            "/usr/local/lib/python3.7/dist-packages/sklearn/linear_model/_coordinate_descent.py:648: ConvergenceWarning: Objective did not converge. You might want to increase the number of iterations, check the scale of the features or consider increasing regularisation. Duality gap: 1.087e+07, tolerance: 9.723e+04\n",
            "  coef_, l1_reg, l2_reg, X, y, max_iter, tol, rng, random, positive\n",
            "/usr/local/lib/python3.7/dist-packages/sklearn/linear_model/_coordinate_descent.py:648: ConvergenceWarning: Objective did not converge. You might want to increase the number of iterations, check the scale of the features or consider increasing regularisation. Duality gap: 7.251e+06, tolerance: 8.698e+04\n",
            "  coef_, l1_reg, l2_reg, X, y, max_iter, tol, rng, random, positive\n",
            "/usr/local/lib/python3.7/dist-packages/sklearn/linear_model/_coordinate_descent.py:648: ConvergenceWarning: Objective did not converge. You might want to increase the number of iterations, check the scale of the features or consider increasing regularisation. Duality gap: 4.112e+06, tolerance: 5.648e+04\n",
            "  coef_, l1_reg, l2_reg, X, y, max_iter, tol, rng, random, positive\n"
          ]
        },
        {
          "output_type": "stream",
          "name": "stdout",
          "text": [
            "8.183479345195003\n"
          ]
        },
        {
          "output_type": "stream",
          "name": "stderr",
          "text": [
            "/usr/local/lib/python3.7/dist-packages/sklearn/linear_model/_coordinate_descent.py:648: ConvergenceWarning: Objective did not converge. You might want to increase the number of iterations, check the scale of the features or consider increasing regularisation. Duality gap: 7.546e+06, tolerance: 1.248e+05\n",
            "  coef_, l1_reg, l2_reg, X, y, max_iter, tol, rng, random, positive\n",
            "/usr/local/lib/python3.7/dist-packages/sklearn/linear_model/_coordinate_descent.py:648: ConvergenceWarning: Objective did not converge. You might want to increase the number of iterations, check the scale of the features or consider increasing regularisation. Duality gap: 1.084e+07, tolerance: 9.723e+04\n",
            "  coef_, l1_reg, l2_reg, X, y, max_iter, tol, rng, random, positive\n",
            "/usr/local/lib/python3.7/dist-packages/sklearn/linear_model/_coordinate_descent.py:648: ConvergenceWarning: Objective did not converge. You might want to increase the number of iterations, check the scale of the features or consider increasing regularisation. Duality gap: 7.228e+06, tolerance: 8.698e+04\n",
            "  coef_, l1_reg, l2_reg, X, y, max_iter, tol, rng, random, positive\n"
          ]
        },
        {
          "output_type": "stream",
          "name": "stdout",
          "text": [
            "8.191665468591738\n"
          ]
        },
        {
          "output_type": "stream",
          "name": "stderr",
          "text": [
            "/usr/local/lib/python3.7/dist-packages/sklearn/linear_model/_coordinate_descent.py:648: ConvergenceWarning: Objective did not converge. You might want to increase the number of iterations, check the scale of the features or consider increasing regularisation. Duality gap: 4.114e+06, tolerance: 5.648e+04\n",
            "  coef_, l1_reg, l2_reg, X, y, max_iter, tol, rng, random, positive\n"
          ]
        }
      ]
    },
    {
      "cell_type": "code",
      "source": [
        "import xgboost\n",
        "def poly_xgboost_pipe(lr) :\n",
        "  for lrr in lr :\n",
        "    xgboost_pipeline = make_pipeline(\n",
        "        # PolynomialFeatures(degree=2, include_bias=False),\n",
        "        xgboost.XGBRegressor(n_estimators=500, learning_rate=lrr, gamma=0, subsample=0.75,\n",
        "                           colsample_bytree=1, max_depth=7)\n",
        "    )\n",
        "    xgboost_pipeline.fit(train, label_train)\n",
        "    poly_pred = xgboost_pipeline.predict(val)\n",
        "    print(mean_squared_error(label_val, poly_pred, squared=False))\n",
        "# poly_xgboost_pipe([0.25, 0.1, 0.01, 0.05])  # rmse : 1.28, 1.40, 123.55, 2.68\n",
        "# poly_xgboost_pipe([0.25, 0.3, 0.5])  # rmse : 1.28, 1.32, 1.48\n",
        "# poly_xgboost_pipe([0.25, 0.2, 0.15])  # rmse : 1.2838, 1.2861, 1.2763\n",
        "# poly_xgboost_pipe([0.25, 0.2, 0.15, 0.125, 0.1])  # poly rmse : 1.6456, 1.5485, 1.4009, 1.3963\n",
        "# 10문 미뤘을 때 1 변수\n",
        "poly_xgboost_pipe([0.25, 0.2, 0.15, 0.125, 0.1])  # xgboost rmse : 2.9467, 2.9468, 2.9380, 2.8844, 2.90"
      ],
      "metadata": {
        "colab": {
          "base_uri": "https://localhost:8080/"
        },
        "id": "ACZUyOubi1OU",
        "outputId": "704143f3-a830-448b-c6b3-b11675fbada1"
      },
      "execution_count": null,
      "outputs": [
        {
          "output_type": "stream",
          "name": "stdout",
          "text": [
            "[06:09:22] WARNING: /workspace/src/objective/regression_obj.cu:152: reg:linear is now deprecated in favor of reg:squarederror.\n",
            "2.946770384408707\n",
            "[06:11:44] WARNING: /workspace/src/objective/regression_obj.cu:152: reg:linear is now deprecated in favor of reg:squarederror.\n",
            "2.9468224047046694\n",
            "[06:14:05] WARNING: /workspace/src/objective/regression_obj.cu:152: reg:linear is now deprecated in favor of reg:squarederror.\n",
            "2.9380591053730174\n",
            "[06:16:25] WARNING: /workspace/src/objective/regression_obj.cu:152: reg:linear is now deprecated in favor of reg:squarederror.\n",
            "2.8844266962435507\n",
            "[06:18:47] WARNING: /workspace/src/objective/regression_obj.cu:152: reg:linear is now deprecated in favor of reg:squarederror.\n",
            "2.903197742275271\n"
          ]
        }
      ]
    },
    {
      "cell_type": "code",
      "source": [
        "from sklearn.model_selection import train_test_split\n",
        "train, val = train_test_split(df[features+rainfall].iloc[:-1], train_size=0.80, test_size=0.20, random_state=2)\n",
        "label_train, label_val = train_test_split(df[label].iloc[1:], train_size=0.80, test_size=0.20, random_state=2)"
      ],
      "metadata": {
        "id": "ToQ3Z-Y_u9Fr"
      },
      "execution_count": null,
      "outputs": []
    },
    {
      "cell_type": "code",
      "source": [
        "from sklearn.ensemble import RandomForestRegressor\n",
        "def ramdomforest_pipe(depth) :\n",
        "  for dp in depth :\n",
        "    rdf_pipeline = make_pipeline(\n",
        "       RandomForestRegressor(max_depth=dp, random_state=0)\n",
        "    )\n",
        "    rdf_pipeline.fit(df[features+rainfall].iloc[:-1], df[label].iloc[1:])\n",
        "    rdf_pred = rdf_pipeline.predict(val)\n",
        "    print(mean_squared_error(label_val, rdf_pred, squared=False))\n",
        "ramdomforest_pipe([2, 8, 16, 32, 64])  # rdf rms 4 label, 10분 : 24.25 , 4.76, 2.95, \n",
        "ramdomforest_pipe([2, 8, 16, 32, 64])  # rdf rms 4 label : 24.25  "
      ],
      "metadata": {
        "id": "TYVsb7oQ9_2R"
      },
      "execution_count": null,
      "outputs": []
    },
    {
      "cell_type": "code",
      "source": [
        "rdf_pipeline = make_pipeline(\n",
        "       RandomForestRegressor(max_depth=16, random_state=0)\n",
        "    )\n",
        "rdf_pipeline.fit(df[features+rainfall].iloc[:-1], df[label].iloc[1:])\n",
        "rdf_pred = rdf_pipeline.predict(val)"
      ],
      "metadata": {
        "id": "du3SovKJCqcy"
      },
      "execution_count": null,
      "outputs": []
    },
    {
      "cell_type": "code",
      "source": [
        "test_df.shape"
      ],
      "metadata": {
        "colab": {
          "base_uri": "https://localhost:8080/"
        },
        "id": "fDzXY1h9FOT8",
        "outputId": "fae26d98-45d9-4f8d-9a45-99e865359eee"
      },
      "execution_count": null,
      "outputs": [
        {
          "output_type": "execute_result",
          "data": {
            "text/plain": [
              "(6913, 18)"
            ]
          },
          "metadata": {},
          "execution_count": 108
        }
      ]
    },
    {
      "cell_type": "code",
      "source": [
        "rdf_pred = rdf_pipeline.predict(test_df[features+rainfall].iloc[:-1])\n",
        "rdf_pred.shape"
      ],
      "metadata": {
        "colab": {
          "base_uri": "https://localhost:8080/"
        },
        "id": "NzSWcZGEEkbJ",
        "outputId": "db1d4d4c-95c4-40ac-9dcb-591ce6567906"
      },
      "execution_count": null,
      "outputs": [
        {
          "output_type": "execute_result",
          "data": {
            "text/plain": [
              "(6912, 4)"
            ]
          },
          "metadata": {},
          "execution_count": 111
        }
      ]
    },
    {
      "cell_type": "markdown",
      "source": [
        "### 저장"
      ],
      "metadata": {
        "id": "hgHAemCAkvai"
      }
    },
    {
      "cell_type": "code",
      "source": [
        "poly_pred = pd.DataFrame(poly_pred)\n",
        "lasso_pred = pd.DataFrame(lasso_pred)"
      ],
      "metadata": {
        "id": "ULsTk90f9fKt"
      },
      "execution_count": null,
      "outputs": []
    },
    {
      "cell_type": "code",
      "source": [
        "sample_submission = pd.read_csv(\"competition_data/sample_submission.csv\")\n",
        "\n",
        "sample_submission[\"wl_1018662\"] = rdf_pred[:, 0]\n",
        "sample_submission[\"wl_1018680\"] = rdf_pred[:, 1]\n",
        "sample_submission[\"wl_1018683\"] = rdf_pred[:, 2]\n",
        "sample_submission[\"wl_1019630\"] = rdf_pred[:, 3]"
      ],
      "metadata": {
        "id": "jLIBM1vM9gFG"
      },
      "execution_count": null,
      "outputs": []
    },
    {
      "cell_type": "code",
      "source": [
        "sample_submission.to_csv(\"rdf.csv\", index = False)"
      ],
      "metadata": {
        "id": "NnL7K6c79g4J"
      },
      "execution_count": null,
      "outputs": []
    },
    {
      "cell_type": "code",
      "source": [
        "rdf_pred[0]"
      ],
      "metadata": {
        "colab": {
          "base_uri": "https://localhost:8080/"
        },
        "id": "GLWyl5KT_tKr",
        "outputId": "b5d727dd-566b-4912-9e23-ff8b796512dd"
      },
      "execution_count": null,
      "outputs": [
        {
          "output_type": "execute_result",
          "data": {
            "text/plain": [
              "array([279.17592982, 272.22739921, 272.42953892, 270.00281624])"
            ]
          },
          "metadata": {},
          "execution_count": 117
        }
      ]
    },
    {
      "cell_type": "code",
      "source": [],
      "metadata": {
        "id": "3xb7o6drcRO0"
      },
      "execution_count": null,
      "outputs": []
    }
  ]
}