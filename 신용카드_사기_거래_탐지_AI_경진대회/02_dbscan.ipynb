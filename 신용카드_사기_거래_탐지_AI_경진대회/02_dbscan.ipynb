{
  "nbformat": 4,
  "nbformat_minor": 0,
  "metadata": {
    "colab": {
      "name": "신용카드_사기_거래_탐지_AI_경진대회.ipynb",
      "provenance": [],
      "machine_shape": "hm",
      "include_colab_link": true
    },
    "kernelspec": {
      "name": "python3",
      "display_name": "Python 3"
    },
    "language_info": {
      "name": "python"
    },
    "accelerator": "GPU",
    "gpuClass": "standard"
  },
  "cells": [
    {
      "cell_type": "markdown",
      "metadata": {
        "id": "view-in-github",
        "colab_type": "text"
      },
      "source": [
        "<a href=\"https://colab.research.google.com/github/ttogle918/AI_practice/blob/main/%EC%8B%A0%EC%9A%A9%EC%B9%B4%EB%93%9C_%EC%82%AC%EA%B8%B0_%EA%B1%B0%EB%9E%98_%ED%83%90%EC%A7%80_AI_%EA%B2%BD%EC%A7%84%EB%8C%80%ED%9A%8C/02_dbscan.ipynb\" target=\"_parent\"><img src=\"https://colab.research.google.com/assets/colab-badge.svg\" alt=\"Open In Colab\"/></a>"
      ]
    },
    {
      "cell_type": "markdown",
      "source": [
        "## Import"
      ],
      "metadata": {
        "id": "OaM57l21xws5"
      }
    },
    {
      "cell_type": "code",
      "source": [
        "!pip install wandb\n",
        "!wandb login"
      ],
      "metadata": {
        "id": "T5FpKLjJZIkV"
      },
      "execution_count": null,
      "outputs": []
    },
    {
      "cell_type": "code",
      "execution_count": null,
      "metadata": {
        "id": "l8svpkJExpGJ"
      },
      "outputs": [],
      "source": [
        "import pandas as pd\n",
        "import numpy as np\n",
        "from sklearn.cluster import DBSCAN\n",
        "from sklearn.metrics import f1_score\n",
        "from sklearn.metrics import classification_report\n",
        "from sklearn.decomposition import PCA, LatentDirichletAllocation, TruncatedSVD\n",
        "from sklearn.discriminant_analysis import LinearDiscriminantAnalysis\n",
        "from sklearn.manifold import TSNE\n",
        "import matplotlib.pyplot as plt\n",
        "\n",
        "import warnings\n",
        "warnings.filterwarnings(action='ignore')\n",
        "\n",
        "import requests\n",
        "import os \n",
        "import zipfile\n",
        "from zipfile import ZipFile"
      ]
    },
    {
      "cell_type": "markdown",
      "source": [
        "## Data Load\n",
        "\n",
        "분석하기 위한 데이터를 항상 압축된 형태로 보관하기 위해 **압축을 풀지 않고 zip 파일 내의 파일들을 읽어 데이터로 로딩**\n",
        "\n",
        "압축풀기 : https://gmnam.tistory.com/256"
      ],
      "metadata": {
        "id": "yHXsHhYWxwNe"
      }
    },
    {
      "cell_type": "code",
      "source": [
        "zipfile = '/content/drive/MyDrive/Colab Notebooks/dataset/dacon/open.zip'"
      ],
      "metadata": {
        "id": "kfOxKn4ryId_"
      },
      "execution_count": null,
      "outputs": []
    },
    {
      "cell_type": "code",
      "source": [
        "from io import BytesIO\n",
        "\n",
        "data_filename = []\n",
        "with ZipFile(zipfile, 'r') as zipObj:\n",
        "    listOfFileNames = zipObj.namelist()\n",
        "    for fileName in listOfFileNames:\n",
        "        if fileName.endswith('csv'): \n",
        "            print(fileName)\n",
        "            zipRead = zipObj.read(fileName)\n",
        "            if fileName == 'train.csv' :\n",
        "              train_df = pd.read_csv(BytesIO(zipRead))\n",
        "            elif fileName == 'val.csv' :\n",
        "              val_df = pd.read_csv(BytesIO(zipRead))\n",
        "            elif fileName == 'test.csv' :\n",
        "              test_df = pd.read_csv(BytesIO(zipRead))\n",
        "            elif fileName == 'sample_submission.csv' :\n",
        "              submission_df = pd.read_csv(BytesIO(zipRead))\n",
        "            \n",
        "            data_filename.append(fileName)"
      ],
      "metadata": {
        "colab": {
          "base_uri": "https://localhost:8080/"
        },
        "id": "DLX9tX351YBi",
        "outputId": "20fa387f-1d07-41ba-9af1-fd3270be6c5e"
      },
      "execution_count": null,
      "outputs": [
        {
          "output_type": "stream",
          "name": "stdout",
          "text": [
            "sample_submission.csv\n",
            "test.csv\n",
            "train.csv\n",
            "val.csv\n"
          ]
        }
      ]
    },
    {
      "cell_type": "code",
      "source": [
        "train_df.head(3)"
      ],
      "metadata": {
        "id": "yu6nXCZr3DEg"
      },
      "execution_count": null,
      "outputs": []
    },
    {
      "cell_type": "code",
      "source": [
        "print(val_df.Class.unique())\n",
        "val_df.head(3)"
      ],
      "metadata": {
        "id": "n1V7OiGGyx6t"
      },
      "execution_count": null,
      "outputs": []
    },
    {
      "cell_type": "code",
      "source": [
        "test_df.head(3)"
      ],
      "metadata": {
        "id": "JbdsNSwA3GDE"
      },
      "execution_count": null,
      "outputs": []
    },
    {
      "cell_type": "markdown",
      "source": [
        "## Train/Validation Feature 분포 확인"
      ],
      "metadata": {
        "id": "aG5O6uqIy0Ng"
      }
    },
    {
      "cell_type": "code",
      "source": [
        "train_df.drop(columns=['ID']).hist(bins = 50, figsize = (20,20))\n",
        "plt.show()"
      ],
      "metadata": {
        "id": "20kT34o9yzjM"
      },
      "execution_count": null,
      "outputs": []
    },
    {
      "cell_type": "code",
      "source": [
        "val_df.drop(columns=['ID', 'Class']).hist(bins = 50, figsize = (20,20))\n",
        "plt.show()"
      ],
      "metadata": {
        "id": "jGQGbIw-y3KH"
      },
      "execution_count": null,
      "outputs": []
    },
    {
      "cell_type": "markdown",
      "source": [
        "## Validation set 사기 거래 비율\n",
        "\n",
        "Validation set의 사기 거래 비율이 다른 데이터집합에서도 비슷하게 발생할 것이라고 가정"
      ],
      "metadata": {
        "id": "xSSLWJjry4jE"
      }
    },
    {
      "cell_type": "code",
      "source": [
        "val_normal, val_fraud = val_df['Class'].value_counts()\n",
        "val_contamination = val_fraud / val_normal\n",
        "print(f'Validation contamination : [{val_contamination}]')"
      ],
      "metadata": {
        "colab": {
          "base_uri": "https://localhost:8080/"
        },
        "id": "VFqMFDoby65B",
        "outputId": "98814b89-68ad-45f3-8e19-e7a69fac94b6"
      },
      "execution_count": null,
      "outputs": [
        {
          "output_type": "stream",
          "name": "stdout",
          "text": [
            "Validation contamination : [0.0010551491277433877]\n"
          ]
        }
      ]
    },
    {
      "cell_type": "code",
      "source": [
        "# Train dataset은 Label이 존재하지 않음\n",
        "train_x = train_df.drop(columns=['ID']) # Input Data\n",
        "val_x = val_df.drop(columns=['ID', 'Class'])\n",
        "test_x = test_df.drop(columns=['ID'])"
      ],
      "metadata": {
        "id": "YWrjLBRLy_qe"
      },
      "execution_count": null,
      "outputs": []
    },
    {
      "cell_type": "markdown",
      "source": [
        "## 차원 축소"
      ],
      "metadata": {
        "id": "rEWCIh2tg7pK"
      }
    },
    {
      "cell_type": "markdown",
      "source": [
        "### pca"
      ],
      "metadata": {
        "id": "cZE1FLqasyv8"
      }
    },
    {
      "cell_type": "code",
      "source": [
        "def pca(data, length=1) :\n",
        "  if length == 1 :\n",
        "    pca = PCA(n_components=len(data.columns)-1)\n",
        "    pca.fit(data)\n",
        "    print(pca.explained_variance_ratio_)\n",
        "  else :\n",
        "    pca = PCA(n_components=length)\n",
        "  \n",
        "  plt.title('Scree Plot')\n",
        "  plt.xlabel('Number of components')\n",
        "  plt.ylabel('explained_variance_')\n",
        "  scree = np.cumsum(pca.explained_variance_ratio_)\n",
        "  plt.plot(scree, 'o-')\n",
        "  return pca.fit_transform(data)"
      ],
      "metadata": {
        "id": "r215TMyih6Si"
      },
      "execution_count": null,
      "outputs": []
    },
    {
      "cell_type": "code",
      "source": [
        "pca(val_x)"
      ],
      "metadata": {
        "id": "hv0bOPakiuV7"
      },
      "execution_count": null,
      "outputs": []
    },
    {
      "cell_type": "markdown",
      "source": [
        "### LDA"
      ],
      "metadata": {
        "id": "oBwOLVd2i_VS"
      }
    },
    {
      "cell_type": "code",
      "source": [
        "!pip install pyLDAvis"
      ],
      "metadata": {
        "id": "Q7jJki5TmZc_"
      },
      "execution_count": null,
      "outputs": []
    },
    {
      "cell_type": "code",
      "source": [
        "import pyLDAvis.gensim_models\n",
        "\n",
        "pyLDAvis.enable_notebook()\n",
        "vis = pyLDAvis.gensim_models.prepare(ldamodel, corpus, dictionary)\n",
        "pyLDAvis.display(vis)"
      ],
      "metadata": {
        "id": "d5fS2oLwmdYz"
      },
      "execution_count": null,
      "outputs": []
    },
    {
      "cell_type": "code",
      "source": [
        "# class가 있어야 판단 가능\n",
        "def lda(data_x, data_y, test_x) :\n",
        "  # 선형 판별 분석\n",
        "  lda = LinearDiscriminantAnalysis(n_components=1)    # 2 이상 불가, data_y의 class가 2라서 2-1이하만 가능\n",
        "  lda.fit(data_x, data_y)\n",
        "  transformed = lda.transform(data_x)\n",
        "  transformed_test_x = lda.transform(test_x)\n",
        "  print(data_x.shape, transformed.shape)\n",
        "  print(test_x.shape, transformed_test_x.shape)\n",
        "  return transformed, transformed_test_x"
      ],
      "metadata": {
        "id": "qutvksm9i7dj"
      },
      "execution_count": null,
      "outputs": []
    },
    {
      "cell_type": "markdown",
      "source": [
        "### t-SNE"
      ],
      "metadata": {
        "id": "nmw6bY1vqV3x"
      }
    },
    {
      "cell_type": "code",
      "source": [
        "def t_sne(data_x) :\n",
        "  # 선형 판별 분석\n",
        "  lda = TSNE(n_components=1)\n",
        "  lda.fit(data_x)\n",
        "  transformed = lda.transform(data_x)\n",
        "  print(data_x.shape, transformed.shape)\n",
        "  return transformed"
      ],
      "metadata": {
        "id": "GmVDkNSuqYEE"
      },
      "execution_count": null,
      "outputs": []
    },
    {
      "cell_type": "markdown",
      "source": [
        "### svd"
      ],
      "metadata": {
        "id": "vGmbznWss0o7"
      }
    },
    {
      "cell_type": "code",
      "source": [
        "def svd(data) :\n",
        "  svd = TruncatedSVD(n_components=len(data.columns)-1)\n",
        "  svd.fit(data)\n",
        "  plt.title('Scree Plot')\n",
        "  plt.xlabel('Number of components')\n",
        "  plt.ylabel('explained_variance_')\n",
        "  print(f'explained_variance_ratio_ : {svd.explained_variance_ratio_}')\n",
        "  print(sum(svd.explained_variance_ratio_))\n",
        "  print(f'singular_values_ : {svd.singular_values_}')\n",
        "  plt.plot(svd.explained_variance_, 'o-')"
      ],
      "metadata": {
        "id": "zYu4AB_bs2f3"
      },
      "execution_count": null,
      "outputs": []
    },
    {
      "cell_type": "markdown",
      "source": [
        "# Model Define & Fit"
      ],
      "metadata": {
        "id": "EiBymdJ8y-gf"
      }
    },
    {
      "cell_type": "code",
      "source": [
        "# Train dataset은 Label이 존재하지 않음\n",
        "val_x = val_df.drop(columns=['ID', 'Class']) # Input Data\n",
        "val_y = val_df['Class']"
      ],
      "metadata": {
        "id": "iqa5TY6ia9mJ"
      },
      "execution_count": null,
      "outputs": []
    },
    {
      "cell_type": "code",
      "source": [
        "acc = 0.0"
      ],
      "metadata": {
        "id": "weRPrZ3iBcTo"
      },
      "execution_count": null,
      "outputs": []
    },
    {
      "cell_type": "code",
      "source": [
        "def get_dbscan_valid(eps, min_samples, data=val_x, data_y = val_y, acc=acc) :\n",
        "  y_pred = DBSCAN(eps=eps, min_samples = min_samples, metric='euclidean').fit_predict(data)\n",
        "  anomaly, accuracy = 0, 0\n",
        "  for i, n in enumerate(y_pred) :\n",
        "    if n == -1 :\n",
        "      if data_y[i] == 1 :\n",
        "        accuracy += 1\n",
        "    else :\n",
        "      if data_y[i] == 0 :\n",
        "        accuracy += 1\n",
        "\n",
        "  accuracy /= len(y_pred)\n",
        "\n",
        "  if accuracy > acc :\n",
        "    acc = accuracy\n",
        "    print(eps, min_samples, acc)\n",
        "  return acc\n",
        "\n",
        "def get_dbscan_percent(eps, min_samples, data=train_x) :\n",
        "  y_pred = DBSCAN(eps=eps, min_samples = min_samples, metric='euclidean').fit_predict(data)\n",
        "  anomaly = 0\n",
        "  for n in y_pred :\n",
        "    if n == -1 :\n",
        "      anomaly += 1\n",
        "  print(anomaly / len(y_pred))\n",
        "  return y_pred"
      ],
      "metadata": {
        "id": "64wQbI0l3gdn"
      },
      "execution_count": null,
      "outputs": []
    },
    {
      "cell_type": "markdown",
      "source": [
        "## 차원 감소 적용 후 dbscan"
      ],
      "metadata": {
        "id": "wAEb0q1F2zMu"
      }
    },
    {
      "cell_type": "code",
      "source": [
        "transformed_lda_x, transformed_test_x = lda(val_x, val_y, test_x)"
      ],
      "metadata": {
        "colab": {
          "base_uri": "https://localhost:8080/"
        },
        "id": "ykQ_M9_fLnyz",
        "outputId": "7b47a5d4-3df9-45ca-fb16-5c5812f40b84"
      },
      "execution_count": null,
      "outputs": [
        {
          "output_type": "stream",
          "name": "stdout",
          "text": [
            "(28462, 30) (28462, 1)\n",
            "(142503, 30) (142503, 1)\n"
          ]
        }
      ]
    },
    {
      "cell_type": "code",
      "source": [
        "acc = get_dbscan_valid(0.5, 2, transformed_lda_x, acc=acc)\n",
        "acc = get_dbscan_valid(1.5, 2, transformed_lda_x, acc=acc)"
      ],
      "metadata": {
        "colab": {
          "base_uri": "https://localhost:8080/"
        },
        "id": "YtQakbZN53ww",
        "outputId": "777f7f6d-0940-444b-adea-238f348878a6"
      },
      "execution_count": null,
      "outputs": [
        {
          "output_type": "stream",
          "name": "stdout",
          "text": [
            "(28462, 30) (28462, 1)\n",
            "0.5 2 0.9992270395615206\n"
          ]
        }
      ]
    },
    {
      "cell_type": "code",
      "source": [
        "acc, get_dbscan_valid(0.2, 2, transformed_lda_x, acc=acc)\n",
        "acc = get_dbscan_valid(0.2, 12, transformed_lda_x, acc=acc)\n",
        "acc = get_dbscan_valid(1.0, 12, transformed_lda_x, acc=acc)\n",
        "acc = get_dbscan_valid(1.0, 8, transformed_lda_x, acc=acc)"
      ],
      "metadata": {
        "colab": {
          "base_uri": "https://localhost:8080/"
        },
        "id": "Np4NTrgp_iGT",
        "outputId": "e40887b3-f5f8-4bda-bdf1-023281116d65"
      },
      "execution_count": null,
      "outputs": [
        {
          "output_type": "stream",
          "name": "stdout",
          "text": [
            "0.2 2 0.9994027123884478\n",
            "0.2 12 0.9994027123884478\n",
            "1.0 12 0.9996486543461457\n"
          ]
        }
      ]
    },
    {
      "cell_type": "code",
      "source": [
        "acc = get_dbscan_valid(0.5, 12, transformed_lda_x, acc=acc)\n",
        "acc = get_dbscan_valid(0.8, 12, transformed_lda_x, acc=acc)\n",
        "acc = get_dbscan_valid(0.8, 8, transformed_lda_x, acc=acc)\n",
        "acc = get_dbscan_valid(0.8, 10, transformed_lda_x, acc=acc)"
      ],
      "metadata": {
        "id": "7mpbwq86TBAY"
      },
      "execution_count": null,
      "outputs": []
    },
    {
      "cell_type": "code",
      "source": [
        "acc = get_dbscan_valid(0.5, 6, transformed_lda_x, acc=acc)\n"
      ],
      "metadata": {
        "id": "H_CxW9mNHvfK"
      },
      "execution_count": null,
      "outputs": []
    },
    {
      "cell_type": "code",
      "source": [
        "del transformed_lda_x"
      ],
      "metadata": {
        "id": "Z4lucHGhMKdv"
      },
      "execution_count": null,
      "outputs": []
    },
    {
      "cell_type": "code",
      "source": [
        "y_pred = get_dbscan_percent(0.2, 2, transformed_test_x)"
      ],
      "metadata": {
        "id": "EfkJttjJIxFt"
      },
      "execution_count": null,
      "outputs": []
    },
    {
      "cell_type": "markdown",
      "source": [
        "# Evaluation : Validation set"
      ],
      "metadata": {
        "id": "rlXAeej5zEdS"
      }
    },
    {
      "cell_type": "code",
      "source": [
        "def get_pred_label(model_pred):\n",
        "    # IsolationForest 모델 출력 (1:정상, -1:불량(사기)) 이므로 (0:정상, 1:불량(사기))로 Label 변환\n",
        "    model_pred = np.where(model_pred == 1, 0, model_pred)\n",
        "    model_pred = np.where(model_pred == -1, 1, model_pred)\n",
        "    return model_pred"
      ],
      "metadata": {
        "id": "Lv0ZK02KzC1S"
      },
      "execution_count": null,
      "outputs": []
    },
    {
      "cell_type": "code",
      "source": [
        "val_x = val_df.drop(columns=['ID', 'Class']) # Input Data\n",
        "val_y = val_df['Class'] # Label\n",
        "\n",
        "val_pred = model.fit_predict(val_x) # model prediction\n",
        "val_pred = get_pred_label(val_pred)\n",
        "val_score = f1_score(val_y, val_pred, average='macro')\n",
        "print(f'Validation F1 Score : [{val_score}]')\n",
        "print(classification_report(val_y, val_pred))"
      ],
      "metadata": {
        "id": "9V7gl-CIzD_Y"
      },
      "execution_count": null,
      "outputs": []
    },
    {
      "cell_type": "markdown",
      "source": [
        "## Inference : Test set"
      ],
      "metadata": {
        "id": "rj2qVlE2zG_X"
      }
    },
    {
      "cell_type": "code",
      "source": [
        "test_x = test_df.drop(columns=['ID'])"
      ],
      "metadata": {
        "id": "0hcMx9gzzKNh"
      },
      "execution_count": null,
      "outputs": []
    },
    {
      "cell_type": "code",
      "source": [
        "test_pred = model.predict(test_x) # model prediction\n",
        "test_pred = get_pred_label(test_pred)"
      ],
      "metadata": {
        "id": "c2ucdew8zK6H"
      },
      "execution_count": null,
      "outputs": []
    },
    {
      "cell_type": "markdown",
      "source": [
        "# Submission"
      ],
      "metadata": {
        "id": "R1Ypq79vzLvK"
      }
    },
    {
      "cell_type": "code",
      "source": [
        "submission_df['Class'] = test_pred\n",
        "submission_df['Class'].value_counts()"
      ],
      "metadata": {
        "colab": {
          "base_uri": "https://localhost:8080/"
        },
        "id": "q367bOhmzOyT",
        "outputId": "4c1aedf9-b89e-4b6c-becb-4cfbc6825479"
      },
      "execution_count": null,
      "outputs": [
        {
          "output_type": "execute_result",
          "data": {
            "text/plain": [
              "0    142305\n",
              "1       198\n",
              "Name: Class, dtype: int64"
            ]
          },
          "metadata": {},
          "execution_count": 37
        }
      ]
    },
    {
      "cell_type": "code",
      "source": [
        "submission_df.to_csv('./submit.csv', index=False)"
      ],
      "metadata": {
        "id": "9Ghqr-ev4MT7"
      },
      "execution_count": null,
      "outputs": []
    },
    {
      "cell_type": "code",
      "source": [
        ""
      ],
      "metadata": {
        "id": "drVftwRY4UwB"
      },
      "execution_count": null,
      "outputs": []
    }
  ]
}