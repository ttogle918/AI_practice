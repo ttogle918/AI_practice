{
  "nbformat": 4,
  "nbformat_minor": 0,
  "metadata": {
    "colab": {
      "provenance": [],
      "toc_visible": true,
      "include_colab_link": true
    },
    "kernelspec": {
      "name": "python3",
      "display_name": "Python 3"
    },
    "language_info": {
      "name": "python"
    },
    "widgets": {
      "application/vnd.jupyter.widget-state+json": {
        "4f532776015842e8bdfbe1f076f232e8": {
          "model_module": "@jupyter-widgets/controls",
          "model_name": "HBoxModel",
          "model_module_version": "1.5.0",
          "state": {
            "_dom_classes": [],
            "_model_module": "@jupyter-widgets/controls",
            "_model_module_version": "1.5.0",
            "_model_name": "HBoxModel",
            "_view_count": null,
            "_view_module": "@jupyter-widgets/controls",
            "_view_module_version": "1.5.0",
            "_view_name": "HBoxView",
            "box_style": "",
            "children": [
              "IPY_MODEL_32ae881c7e264c1cad0de12b30fd56f3",
              "IPY_MODEL_fb0f88f1d1f843df983f0626e739cea0",
              "IPY_MODEL_b601328ac3254cd99734941443667bb4"
            ],
            "layout": "IPY_MODEL_17fb0809625945a2b5dd144ed2d9e1d0"
          }
        },
        "32ae881c7e264c1cad0de12b30fd56f3": {
          "model_module": "@jupyter-widgets/controls",
          "model_name": "HTMLModel",
          "model_module_version": "1.5.0",
          "state": {
            "_dom_classes": [],
            "_model_module": "@jupyter-widgets/controls",
            "_model_module_version": "1.5.0",
            "_model_name": "HTMLModel",
            "_view_count": null,
            "_view_module": "@jupyter-widgets/controls",
            "_view_module_version": "1.5.0",
            "_view_name": "HTMLView",
            "description": "",
            "description_tooltip": null,
            "layout": "IPY_MODEL_7e7cbc7b50694d829344a778e14c3915",
            "placeholder": "​",
            "style": "IPY_MODEL_42702f3f45dc4780b7ade53c2280dd16",
            "value": "Downloading builder script: 100%"
          }
        },
        "fb0f88f1d1f843df983f0626e739cea0": {
          "model_module": "@jupyter-widgets/controls",
          "model_name": "FloatProgressModel",
          "model_module_version": "1.5.0",
          "state": {
            "_dom_classes": [],
            "_model_module": "@jupyter-widgets/controls",
            "_model_module_version": "1.5.0",
            "_model_name": "FloatProgressModel",
            "_view_count": null,
            "_view_module": "@jupyter-widgets/controls",
            "_view_module_version": "1.5.0",
            "_view_name": "ProgressView",
            "bar_style": "success",
            "description": "",
            "description_tooltip": null,
            "layout": "IPY_MODEL_40a4ea8acc6a41c0ae97010721b415b1",
            "max": 23266,
            "min": 0,
            "orientation": "horizontal",
            "style": "IPY_MODEL_ab36e87395404890a129f64a3e67b5eb",
            "value": 23266
          }
        },
        "b601328ac3254cd99734941443667bb4": {
          "model_module": "@jupyter-widgets/controls",
          "model_name": "HTMLModel",
          "model_module_version": "1.5.0",
          "state": {
            "_dom_classes": [],
            "_model_module": "@jupyter-widgets/controls",
            "_model_module_version": "1.5.0",
            "_model_name": "HTMLModel",
            "_view_count": null,
            "_view_module": "@jupyter-widgets/controls",
            "_view_module_version": "1.5.0",
            "_view_name": "HTMLView",
            "description": "",
            "description_tooltip": null,
            "layout": "IPY_MODEL_4d98e7a90b6348d7bad944995d9768a1",
            "placeholder": "​",
            "style": "IPY_MODEL_6a79d6ea11534dd2837b3cf83dc40b1b",
            "value": " 23.3k/23.3k [00:00&lt;00:00, 19.5kB/s]"
          }
        },
        "17fb0809625945a2b5dd144ed2d9e1d0": {
          "model_module": "@jupyter-widgets/base",
          "model_name": "LayoutModel",
          "model_module_version": "1.2.0",
          "state": {
            "_model_module": "@jupyter-widgets/base",
            "_model_module_version": "1.2.0",
            "_model_name": "LayoutModel",
            "_view_count": null,
            "_view_module": "@jupyter-widgets/base",
            "_view_module_version": "1.2.0",
            "_view_name": "LayoutView",
            "align_content": null,
            "align_items": null,
            "align_self": null,
            "border": null,
            "bottom": null,
            "display": null,
            "flex": null,
            "flex_flow": null,
            "grid_area": null,
            "grid_auto_columns": null,
            "grid_auto_flow": null,
            "grid_auto_rows": null,
            "grid_column": null,
            "grid_gap": null,
            "grid_row": null,
            "grid_template_areas": null,
            "grid_template_columns": null,
            "grid_template_rows": null,
            "height": null,
            "justify_content": null,
            "justify_items": null,
            "left": null,
            "margin": null,
            "max_height": null,
            "max_width": null,
            "min_height": null,
            "min_width": null,
            "object_fit": null,
            "object_position": null,
            "order": null,
            "overflow": null,
            "overflow_x": null,
            "overflow_y": null,
            "padding": null,
            "right": null,
            "top": null,
            "visibility": null,
            "width": null
          }
        },
        "7e7cbc7b50694d829344a778e14c3915": {
          "model_module": "@jupyter-widgets/base",
          "model_name": "LayoutModel",
          "model_module_version": "1.2.0",
          "state": {
            "_model_module": "@jupyter-widgets/base",
            "_model_module_version": "1.2.0",
            "_model_name": "LayoutModel",
            "_view_count": null,
            "_view_module": "@jupyter-widgets/base",
            "_view_module_version": "1.2.0",
            "_view_name": "LayoutView",
            "align_content": null,
            "align_items": null,
            "align_self": null,
            "border": null,
            "bottom": null,
            "display": null,
            "flex": null,
            "flex_flow": null,
            "grid_area": null,
            "grid_auto_columns": null,
            "grid_auto_flow": null,
            "grid_auto_rows": null,
            "grid_column": null,
            "grid_gap": null,
            "grid_row": null,
            "grid_template_areas": null,
            "grid_template_columns": null,
            "grid_template_rows": null,
            "height": null,
            "justify_content": null,
            "justify_items": null,
            "left": null,
            "margin": null,
            "max_height": null,
            "max_width": null,
            "min_height": null,
            "min_width": null,
            "object_fit": null,
            "object_position": null,
            "order": null,
            "overflow": null,
            "overflow_x": null,
            "overflow_y": null,
            "padding": null,
            "right": null,
            "top": null,
            "visibility": null,
            "width": null
          }
        },
        "42702f3f45dc4780b7ade53c2280dd16": {
          "model_module": "@jupyter-widgets/controls",
          "model_name": "DescriptionStyleModel",
          "model_module_version": "1.5.0",
          "state": {
            "_model_module": "@jupyter-widgets/controls",
            "_model_module_version": "1.5.0",
            "_model_name": "DescriptionStyleModel",
            "_view_count": null,
            "_view_module": "@jupyter-widgets/base",
            "_view_module_version": "1.2.0",
            "_view_name": "StyleView",
            "description_width": ""
          }
        },
        "40a4ea8acc6a41c0ae97010721b415b1": {
          "model_module": "@jupyter-widgets/base",
          "model_name": "LayoutModel",
          "model_module_version": "1.2.0",
          "state": {
            "_model_module": "@jupyter-widgets/base",
            "_model_module_version": "1.2.0",
            "_model_name": "LayoutModel",
            "_view_count": null,
            "_view_module": "@jupyter-widgets/base",
            "_view_module_version": "1.2.0",
            "_view_name": "LayoutView",
            "align_content": null,
            "align_items": null,
            "align_self": null,
            "border": null,
            "bottom": null,
            "display": null,
            "flex": null,
            "flex_flow": null,
            "grid_area": null,
            "grid_auto_columns": null,
            "grid_auto_flow": null,
            "grid_auto_rows": null,
            "grid_column": null,
            "grid_gap": null,
            "grid_row": null,
            "grid_template_areas": null,
            "grid_template_columns": null,
            "grid_template_rows": null,
            "height": null,
            "justify_content": null,
            "justify_items": null,
            "left": null,
            "margin": null,
            "max_height": null,
            "max_width": null,
            "min_height": null,
            "min_width": null,
            "object_fit": null,
            "object_position": null,
            "order": null,
            "overflow": null,
            "overflow_x": null,
            "overflow_y": null,
            "padding": null,
            "right": null,
            "top": null,
            "visibility": null,
            "width": null
          }
        },
        "ab36e87395404890a129f64a3e67b5eb": {
          "model_module": "@jupyter-widgets/controls",
          "model_name": "ProgressStyleModel",
          "model_module_version": "1.5.0",
          "state": {
            "_model_module": "@jupyter-widgets/controls",
            "_model_module_version": "1.5.0",
            "_model_name": "ProgressStyleModel",
            "_view_count": null,
            "_view_module": "@jupyter-widgets/base",
            "_view_module_version": "1.2.0",
            "_view_name": "StyleView",
            "bar_color": null,
            "description_width": ""
          }
        },
        "4d98e7a90b6348d7bad944995d9768a1": {
          "model_module": "@jupyter-widgets/base",
          "model_name": "LayoutModel",
          "model_module_version": "1.2.0",
          "state": {
            "_model_module": "@jupyter-widgets/base",
            "_model_module_version": "1.2.0",
            "_model_name": "LayoutModel",
            "_view_count": null,
            "_view_module": "@jupyter-widgets/base",
            "_view_module_version": "1.2.0",
            "_view_name": "LayoutView",
            "align_content": null,
            "align_items": null,
            "align_self": null,
            "border": null,
            "bottom": null,
            "display": null,
            "flex": null,
            "flex_flow": null,
            "grid_area": null,
            "grid_auto_columns": null,
            "grid_auto_flow": null,
            "grid_auto_rows": null,
            "grid_column": null,
            "grid_gap": null,
            "grid_row": null,
            "grid_template_areas": null,
            "grid_template_columns": null,
            "grid_template_rows": null,
            "height": null,
            "justify_content": null,
            "justify_items": null,
            "left": null,
            "margin": null,
            "max_height": null,
            "max_width": null,
            "min_height": null,
            "min_width": null,
            "object_fit": null,
            "object_position": null,
            "order": null,
            "overflow": null,
            "overflow_x": null,
            "overflow_y": null,
            "padding": null,
            "right": null,
            "top": null,
            "visibility": null,
            "width": null
          }
        },
        "6a79d6ea11534dd2837b3cf83dc40b1b": {
          "model_module": "@jupyter-widgets/controls",
          "model_name": "DescriptionStyleModel",
          "model_module_version": "1.5.0",
          "state": {
            "_model_module": "@jupyter-widgets/controls",
            "_model_module_version": "1.5.0",
            "_model_name": "DescriptionStyleModel",
            "_view_count": null,
            "_view_module": "@jupyter-widgets/base",
            "_view_module_version": "1.2.0",
            "_view_name": "StyleView",
            "description_width": ""
          }
        },
        "7797c64d518a429286cd85e6c87aa326": {
          "model_module": "@jupyter-widgets/controls",
          "model_name": "HBoxModel",
          "model_module_version": "1.5.0",
          "state": {
            "_dom_classes": [],
            "_model_module": "@jupyter-widgets/controls",
            "_model_module_version": "1.5.0",
            "_model_name": "HBoxModel",
            "_view_count": null,
            "_view_module": "@jupyter-widgets/controls",
            "_view_module_version": "1.5.0",
            "_view_name": "HBoxView",
            "box_style": "",
            "children": [
              "IPY_MODEL_7d65880a36c24421abb18705b4edeb4a",
              "IPY_MODEL_f3b11543a1114befa548e401df6855f7",
              "IPY_MODEL_4e48587849ed474ca49ac9c04e4f4e9e"
            ],
            "layout": "IPY_MODEL_27ad3e3d769b44c9873ff3dcc9d67433"
          }
        },
        "7d65880a36c24421abb18705b4edeb4a": {
          "model_module": "@jupyter-widgets/controls",
          "model_name": "HTMLModel",
          "model_module_version": "1.5.0",
          "state": {
            "_dom_classes": [],
            "_model_module": "@jupyter-widgets/controls",
            "_model_module_version": "1.5.0",
            "_model_name": "HTMLModel",
            "_view_count": null,
            "_view_module": "@jupyter-widgets/controls",
            "_view_module_version": "1.5.0",
            "_view_name": "HTMLView",
            "description": "",
            "description_tooltip": null,
            "layout": "IPY_MODEL_185e9f9328c340efaabfa4a1a56c6f31",
            "placeholder": "​",
            "style": "IPY_MODEL_8d2caaceb7084c648921caa2d8b15835",
            "value": "Downloading metadata: 100%"
          }
        },
        "f3b11543a1114befa548e401df6855f7": {
          "model_module": "@jupyter-widgets/controls",
          "model_name": "FloatProgressModel",
          "model_module_version": "1.5.0",
          "state": {
            "_dom_classes": [],
            "_model_module": "@jupyter-widgets/controls",
            "_model_module_version": "1.5.0",
            "_model_name": "FloatProgressModel",
            "_view_count": null,
            "_view_module": "@jupyter-widgets/controls",
            "_view_module_version": "1.5.0",
            "_view_name": "ProgressView",
            "bar_style": "success",
            "description": "",
            "description_tooltip": null,
            "layout": "IPY_MODEL_7c4414d9833d4296999cde076c55d61d",
            "max": 22660,
            "min": 0,
            "orientation": "horizontal",
            "style": "IPY_MODEL_0f5b16d08ee14b92ba1072df327f638b",
            "value": 22660
          }
        },
        "4e48587849ed474ca49ac9c04e4f4e9e": {
          "model_module": "@jupyter-widgets/controls",
          "model_name": "HTMLModel",
          "model_module_version": "1.5.0",
          "state": {
            "_dom_classes": [],
            "_model_module": "@jupyter-widgets/controls",
            "_model_module_version": "1.5.0",
            "_model_name": "HTMLModel",
            "_view_count": null,
            "_view_module": "@jupyter-widgets/controls",
            "_view_module_version": "1.5.0",
            "_view_name": "HTMLView",
            "description": "",
            "description_tooltip": null,
            "layout": "IPY_MODEL_d14f48ed2cca4526a59840c9053d6ea6",
            "placeholder": "​",
            "style": "IPY_MODEL_794427f47ec747268d0b8d6d9eb876f6",
            "value": " 22.7k/22.7k [00:00&lt;00:00, 6.38kB/s]"
          }
        },
        "27ad3e3d769b44c9873ff3dcc9d67433": {
          "model_module": "@jupyter-widgets/base",
          "model_name": "LayoutModel",
          "model_module_version": "1.2.0",
          "state": {
            "_model_module": "@jupyter-widgets/base",
            "_model_module_version": "1.2.0",
            "_model_name": "LayoutModel",
            "_view_count": null,
            "_view_module": "@jupyter-widgets/base",
            "_view_module_version": "1.2.0",
            "_view_name": "LayoutView",
            "align_content": null,
            "align_items": null,
            "align_self": null,
            "border": null,
            "bottom": null,
            "display": null,
            "flex": null,
            "flex_flow": null,
            "grid_area": null,
            "grid_auto_columns": null,
            "grid_auto_flow": null,
            "grid_auto_rows": null,
            "grid_column": null,
            "grid_gap": null,
            "grid_row": null,
            "grid_template_areas": null,
            "grid_template_columns": null,
            "grid_template_rows": null,
            "height": null,
            "justify_content": null,
            "justify_items": null,
            "left": null,
            "margin": null,
            "max_height": null,
            "max_width": null,
            "min_height": null,
            "min_width": null,
            "object_fit": null,
            "object_position": null,
            "order": null,
            "overflow": null,
            "overflow_x": null,
            "overflow_y": null,
            "padding": null,
            "right": null,
            "top": null,
            "visibility": null,
            "width": null
          }
        },
        "185e9f9328c340efaabfa4a1a56c6f31": {
          "model_module": "@jupyter-widgets/base",
          "model_name": "LayoutModel",
          "model_module_version": "1.2.0",
          "state": {
            "_model_module": "@jupyter-widgets/base",
            "_model_module_version": "1.2.0",
            "_model_name": "LayoutModel",
            "_view_count": null,
            "_view_module": "@jupyter-widgets/base",
            "_view_module_version": "1.2.0",
            "_view_name": "LayoutView",
            "align_content": null,
            "align_items": null,
            "align_self": null,
            "border": null,
            "bottom": null,
            "display": null,
            "flex": null,
            "flex_flow": null,
            "grid_area": null,
            "grid_auto_columns": null,
            "grid_auto_flow": null,
            "grid_auto_rows": null,
            "grid_column": null,
            "grid_gap": null,
            "grid_row": null,
            "grid_template_areas": null,
            "grid_template_columns": null,
            "grid_template_rows": null,
            "height": null,
            "justify_content": null,
            "justify_items": null,
            "left": null,
            "margin": null,
            "max_height": null,
            "max_width": null,
            "min_height": null,
            "min_width": null,
            "object_fit": null,
            "object_position": null,
            "order": null,
            "overflow": null,
            "overflow_x": null,
            "overflow_y": null,
            "padding": null,
            "right": null,
            "top": null,
            "visibility": null,
            "width": null
          }
        },
        "8d2caaceb7084c648921caa2d8b15835": {
          "model_module": "@jupyter-widgets/controls",
          "model_name": "DescriptionStyleModel",
          "model_module_version": "1.5.0",
          "state": {
            "_model_module": "@jupyter-widgets/controls",
            "_model_module_version": "1.5.0",
            "_model_name": "DescriptionStyleModel",
            "_view_count": null,
            "_view_module": "@jupyter-widgets/base",
            "_view_module_version": "1.2.0",
            "_view_name": "StyleView",
            "description_width": ""
          }
        },
        "7c4414d9833d4296999cde076c55d61d": {
          "model_module": "@jupyter-widgets/base",
          "model_name": "LayoutModel",
          "model_module_version": "1.2.0",
          "state": {
            "_model_module": "@jupyter-widgets/base",
            "_model_module_version": "1.2.0",
            "_model_name": "LayoutModel",
            "_view_count": null,
            "_view_module": "@jupyter-widgets/base",
            "_view_module_version": "1.2.0",
            "_view_name": "LayoutView",
            "align_content": null,
            "align_items": null,
            "align_self": null,
            "border": null,
            "bottom": null,
            "display": null,
            "flex": null,
            "flex_flow": null,
            "grid_area": null,
            "grid_auto_columns": null,
            "grid_auto_flow": null,
            "grid_auto_rows": null,
            "grid_column": null,
            "grid_gap": null,
            "grid_row": null,
            "grid_template_areas": null,
            "grid_template_columns": null,
            "grid_template_rows": null,
            "height": null,
            "justify_content": null,
            "justify_items": null,
            "left": null,
            "margin": null,
            "max_height": null,
            "max_width": null,
            "min_height": null,
            "min_width": null,
            "object_fit": null,
            "object_position": null,
            "order": null,
            "overflow": null,
            "overflow_x": null,
            "overflow_y": null,
            "padding": null,
            "right": null,
            "top": null,
            "visibility": null,
            "width": null
          }
        },
        "0f5b16d08ee14b92ba1072df327f638b": {
          "model_module": "@jupyter-widgets/controls",
          "model_name": "ProgressStyleModel",
          "model_module_version": "1.5.0",
          "state": {
            "_model_module": "@jupyter-widgets/controls",
            "_model_module_version": "1.5.0",
            "_model_name": "ProgressStyleModel",
            "_view_count": null,
            "_view_module": "@jupyter-widgets/base",
            "_view_module_version": "1.2.0",
            "_view_name": "StyleView",
            "bar_color": null,
            "description_width": ""
          }
        },
        "d14f48ed2cca4526a59840c9053d6ea6": {
          "model_module": "@jupyter-widgets/base",
          "model_name": "LayoutModel",
          "model_module_version": "1.2.0",
          "state": {
            "_model_module": "@jupyter-widgets/base",
            "_model_module_version": "1.2.0",
            "_model_name": "LayoutModel",
            "_view_count": null,
            "_view_module": "@jupyter-widgets/base",
            "_view_module_version": "1.2.0",
            "_view_name": "LayoutView",
            "align_content": null,
            "align_items": null,
            "align_self": null,
            "border": null,
            "bottom": null,
            "display": null,
            "flex": null,
            "flex_flow": null,
            "grid_area": null,
            "grid_auto_columns": null,
            "grid_auto_flow": null,
            "grid_auto_rows": null,
            "grid_column": null,
            "grid_gap": null,
            "grid_row": null,
            "grid_template_areas": null,
            "grid_template_columns": null,
            "grid_template_rows": null,
            "height": null,
            "justify_content": null,
            "justify_items": null,
            "left": null,
            "margin": null,
            "max_height": null,
            "max_width": null,
            "min_height": null,
            "min_width": null,
            "object_fit": null,
            "object_position": null,
            "order": null,
            "overflow": null,
            "overflow_x": null,
            "overflow_y": null,
            "padding": null,
            "right": null,
            "top": null,
            "visibility": null,
            "width": null
          }
        },
        "794427f47ec747268d0b8d6d9eb876f6": {
          "model_module": "@jupyter-widgets/controls",
          "model_name": "DescriptionStyleModel",
          "model_module_version": "1.5.0",
          "state": {
            "_model_module": "@jupyter-widgets/controls",
            "_model_module_version": "1.5.0",
            "_model_name": "DescriptionStyleModel",
            "_view_count": null,
            "_view_module": "@jupyter-widgets/base",
            "_view_module_version": "1.2.0",
            "_view_name": "StyleView",
            "description_width": ""
          }
        },
        "05dc8a2b3b244043ae3424437cb45e7e": {
          "model_module": "@jupyter-widgets/controls",
          "model_name": "HBoxModel",
          "model_module_version": "1.5.0",
          "state": {
            "_dom_classes": [],
            "_model_module": "@jupyter-widgets/controls",
            "_model_module_version": "1.5.0",
            "_model_name": "HBoxModel",
            "_view_count": null,
            "_view_module": "@jupyter-widgets/controls",
            "_view_module_version": "1.5.0",
            "_view_name": "HBoxView",
            "box_style": "",
            "children": [
              "IPY_MODEL_ebf4acf7ffc9461bb23cb743061a495d",
              "IPY_MODEL_5e2e811ff5b94e2a8efe88251b244669",
              "IPY_MODEL_67586b929c774ab0b78586fb8b49b187"
            ],
            "layout": "IPY_MODEL_33be4c776d014b5caaf0066d91b611ab"
          }
        },
        "ebf4acf7ffc9461bb23cb743061a495d": {
          "model_module": "@jupyter-widgets/controls",
          "model_name": "HTMLModel",
          "model_module_version": "1.5.0",
          "state": {
            "_dom_classes": [],
            "_model_module": "@jupyter-widgets/controls",
            "_model_module_version": "1.5.0",
            "_model_name": "HTMLModel",
            "_view_count": null,
            "_view_module": "@jupyter-widgets/controls",
            "_view_module_version": "1.5.0",
            "_view_name": "HTMLView",
            "description": "",
            "description_tooltip": null,
            "layout": "IPY_MODEL_16fef74ab68a44acad0dc0acd7246651",
            "placeholder": "​",
            "style": "IPY_MODEL_36b48bc3ce864f0ba63883de09e4e2d0",
            "value": "Downloading readme: 100%"
          }
        },
        "5e2e811ff5b94e2a8efe88251b244669": {
          "model_module": "@jupyter-widgets/controls",
          "model_name": "FloatProgressModel",
          "model_module_version": "1.5.0",
          "state": {
            "_dom_classes": [],
            "_model_module": "@jupyter-widgets/controls",
            "_model_module_version": "1.5.0",
            "_model_name": "FloatProgressModel",
            "_view_count": null,
            "_view_module": "@jupyter-widgets/controls",
            "_view_module_version": "1.5.0",
            "_view_name": "ProgressView",
            "bar_style": "success",
            "description": "",
            "description_tooltip": null,
            "layout": "IPY_MODEL_665f3a12745e4154804ddc0eb909e039",
            "max": 21369,
            "min": 0,
            "orientation": "horizontal",
            "style": "IPY_MODEL_cabfdd9cebdf4a41a71a6a4b2685994c",
            "value": 21369
          }
        },
        "67586b929c774ab0b78586fb8b49b187": {
          "model_module": "@jupyter-widgets/controls",
          "model_name": "HTMLModel",
          "model_module_version": "1.5.0",
          "state": {
            "_dom_classes": [],
            "_model_module": "@jupyter-widgets/controls",
            "_model_module_version": "1.5.0",
            "_model_name": "HTMLModel",
            "_view_count": null,
            "_view_module": "@jupyter-widgets/controls",
            "_view_module_version": "1.5.0",
            "_view_name": "HTMLView",
            "description": "",
            "description_tooltip": null,
            "layout": "IPY_MODEL_a260198ede684db6b527aa0bd214b8c1",
            "placeholder": "​",
            "style": "IPY_MODEL_f7c4ad01c8704affb03645d6e40add72",
            "value": " 21.4k/21.4k [00:00&lt;00:00, 18.6kB/s]"
          }
        },
        "33be4c776d014b5caaf0066d91b611ab": {
          "model_module": "@jupyter-widgets/base",
          "model_name": "LayoutModel",
          "model_module_version": "1.2.0",
          "state": {
            "_model_module": "@jupyter-widgets/base",
            "_model_module_version": "1.2.0",
            "_model_name": "LayoutModel",
            "_view_count": null,
            "_view_module": "@jupyter-widgets/base",
            "_view_module_version": "1.2.0",
            "_view_name": "LayoutView",
            "align_content": null,
            "align_items": null,
            "align_self": null,
            "border": null,
            "bottom": null,
            "display": null,
            "flex": null,
            "flex_flow": null,
            "grid_area": null,
            "grid_auto_columns": null,
            "grid_auto_flow": null,
            "grid_auto_rows": null,
            "grid_column": null,
            "grid_gap": null,
            "grid_row": null,
            "grid_template_areas": null,
            "grid_template_columns": null,
            "grid_template_rows": null,
            "height": null,
            "justify_content": null,
            "justify_items": null,
            "left": null,
            "margin": null,
            "max_height": null,
            "max_width": null,
            "min_height": null,
            "min_width": null,
            "object_fit": null,
            "object_position": null,
            "order": null,
            "overflow": null,
            "overflow_x": null,
            "overflow_y": null,
            "padding": null,
            "right": null,
            "top": null,
            "visibility": null,
            "width": null
          }
        },
        "16fef74ab68a44acad0dc0acd7246651": {
          "model_module": "@jupyter-widgets/base",
          "model_name": "LayoutModel",
          "model_module_version": "1.2.0",
          "state": {
            "_model_module": "@jupyter-widgets/base",
            "_model_module_version": "1.2.0",
            "_model_name": "LayoutModel",
            "_view_count": null,
            "_view_module": "@jupyter-widgets/base",
            "_view_module_version": "1.2.0",
            "_view_name": "LayoutView",
            "align_content": null,
            "align_items": null,
            "align_self": null,
            "border": null,
            "bottom": null,
            "display": null,
            "flex": null,
            "flex_flow": null,
            "grid_area": null,
            "grid_auto_columns": null,
            "grid_auto_flow": null,
            "grid_auto_rows": null,
            "grid_column": null,
            "grid_gap": null,
            "grid_row": null,
            "grid_template_areas": null,
            "grid_template_columns": null,
            "grid_template_rows": null,
            "height": null,
            "justify_content": null,
            "justify_items": null,
            "left": null,
            "margin": null,
            "max_height": null,
            "max_width": null,
            "min_height": null,
            "min_width": null,
            "object_fit": null,
            "object_position": null,
            "order": null,
            "overflow": null,
            "overflow_x": null,
            "overflow_y": null,
            "padding": null,
            "right": null,
            "top": null,
            "visibility": null,
            "width": null
          }
        },
        "36b48bc3ce864f0ba63883de09e4e2d0": {
          "model_module": "@jupyter-widgets/controls",
          "model_name": "DescriptionStyleModel",
          "model_module_version": "1.5.0",
          "state": {
            "_model_module": "@jupyter-widgets/controls",
            "_model_module_version": "1.5.0",
            "_model_name": "DescriptionStyleModel",
            "_view_count": null,
            "_view_module": "@jupyter-widgets/base",
            "_view_module_version": "1.2.0",
            "_view_name": "StyleView",
            "description_width": ""
          }
        },
        "665f3a12745e4154804ddc0eb909e039": {
          "model_module": "@jupyter-widgets/base",
          "model_name": "LayoutModel",
          "model_module_version": "1.2.0",
          "state": {
            "_model_module": "@jupyter-widgets/base",
            "_model_module_version": "1.2.0",
            "_model_name": "LayoutModel",
            "_view_count": null,
            "_view_module": "@jupyter-widgets/base",
            "_view_module_version": "1.2.0",
            "_view_name": "LayoutView",
            "align_content": null,
            "align_items": null,
            "align_self": null,
            "border": null,
            "bottom": null,
            "display": null,
            "flex": null,
            "flex_flow": null,
            "grid_area": null,
            "grid_auto_columns": null,
            "grid_auto_flow": null,
            "grid_auto_rows": null,
            "grid_column": null,
            "grid_gap": null,
            "grid_row": null,
            "grid_template_areas": null,
            "grid_template_columns": null,
            "grid_template_rows": null,
            "height": null,
            "justify_content": null,
            "justify_items": null,
            "left": null,
            "margin": null,
            "max_height": null,
            "max_width": null,
            "min_height": null,
            "min_width": null,
            "object_fit": null,
            "object_position": null,
            "order": null,
            "overflow": null,
            "overflow_x": null,
            "overflow_y": null,
            "padding": null,
            "right": null,
            "top": null,
            "visibility": null,
            "width": null
          }
        },
        "cabfdd9cebdf4a41a71a6a4b2685994c": {
          "model_module": "@jupyter-widgets/controls",
          "model_name": "ProgressStyleModel",
          "model_module_version": "1.5.0",
          "state": {
            "_model_module": "@jupyter-widgets/controls",
            "_model_module_version": "1.5.0",
            "_model_name": "ProgressStyleModel",
            "_view_count": null,
            "_view_module": "@jupyter-widgets/base",
            "_view_module_version": "1.2.0",
            "_view_name": "StyleView",
            "bar_color": null,
            "description_width": ""
          }
        },
        "a260198ede684db6b527aa0bd214b8c1": {
          "model_module": "@jupyter-widgets/base",
          "model_name": "LayoutModel",
          "model_module_version": "1.2.0",
          "state": {
            "_model_module": "@jupyter-widgets/base",
            "_model_module_version": "1.2.0",
            "_model_name": "LayoutModel",
            "_view_count": null,
            "_view_module": "@jupyter-widgets/base",
            "_view_module_version": "1.2.0",
            "_view_name": "LayoutView",
            "align_content": null,
            "align_items": null,
            "align_self": null,
            "border": null,
            "bottom": null,
            "display": null,
            "flex": null,
            "flex_flow": null,
            "grid_area": null,
            "grid_auto_columns": null,
            "grid_auto_flow": null,
            "grid_auto_rows": null,
            "grid_column": null,
            "grid_gap": null,
            "grid_row": null,
            "grid_template_areas": null,
            "grid_template_columns": null,
            "grid_template_rows": null,
            "height": null,
            "justify_content": null,
            "justify_items": null,
            "left": null,
            "margin": null,
            "max_height": null,
            "max_width": null,
            "min_height": null,
            "min_width": null,
            "object_fit": null,
            "object_position": null,
            "order": null,
            "overflow": null,
            "overflow_x": null,
            "overflow_y": null,
            "padding": null,
            "right": null,
            "top": null,
            "visibility": null,
            "width": null
          }
        },
        "f7c4ad01c8704affb03645d6e40add72": {
          "model_module": "@jupyter-widgets/controls",
          "model_name": "DescriptionStyleModel",
          "model_module_version": "1.5.0",
          "state": {
            "_model_module": "@jupyter-widgets/controls",
            "_model_module_version": "1.5.0",
            "_model_name": "DescriptionStyleModel",
            "_view_count": null,
            "_view_module": "@jupyter-widgets/base",
            "_view_module_version": "1.2.0",
            "_view_name": "StyleView",
            "description_width": ""
          }
        },
        "d1c31e6dcff042dd8b8541e998291d34": {
          "model_module": "@jupyter-widgets/controls",
          "model_name": "HBoxModel",
          "model_module_version": "1.5.0",
          "state": {
            "_dom_classes": [],
            "_model_module": "@jupyter-widgets/controls",
            "_model_module_version": "1.5.0",
            "_model_name": "HBoxModel",
            "_view_count": null,
            "_view_module": "@jupyter-widgets/controls",
            "_view_module_version": "1.5.0",
            "_view_name": "HBoxView",
            "box_style": "",
            "children": [
              "IPY_MODEL_4676bdae9eaf4b46854fcdbbcedf3cf3",
              "IPY_MODEL_ea4098b24b87401bb2eb5e220c87bbcf",
              "IPY_MODEL_24e4cf02a47a42d7944ad2d486e25784"
            ],
            "layout": "IPY_MODEL_68b76525a4b8451fb869f129996aa8f4"
          }
        },
        "4676bdae9eaf4b46854fcdbbcedf3cf3": {
          "model_module": "@jupyter-widgets/controls",
          "model_name": "HTMLModel",
          "model_module_version": "1.5.0",
          "state": {
            "_dom_classes": [],
            "_model_module": "@jupyter-widgets/controls",
            "_model_module_version": "1.5.0",
            "_model_name": "HTMLModel",
            "_view_count": null,
            "_view_module": "@jupyter-widgets/controls",
            "_view_module_version": "1.5.0",
            "_view_name": "HTMLView",
            "description": "",
            "description_tooltip": null,
            "layout": "IPY_MODEL_d14871758f0f4c789cda8ed8baec1780",
            "placeholder": "​",
            "style": "IPY_MODEL_d66b1aee225d44f89e6742999334edd8",
            "value": "Downloading data: 100%"
          }
        },
        "ea4098b24b87401bb2eb5e220c87bbcf": {
          "model_module": "@jupyter-widgets/controls",
          "model_name": "FloatProgressModel",
          "model_module_version": "1.5.0",
          "state": {
            "_dom_classes": [],
            "_model_module": "@jupyter-widgets/controls",
            "_model_module_version": "1.5.0",
            "_model_name": "FloatProgressModel",
            "_view_count": null,
            "_view_module": "@jupyter-widgets/controls",
            "_view_module_version": "1.5.0",
            "_view_name": "ProgressView",
            "bar_style": "success",
            "description": "",
            "description_tooltip": null,
            "layout": "IPY_MODEL_61dab662742d4c0db091f2d5330d4e47",
            "max": 1349875,
            "min": 0,
            "orientation": "horizontal",
            "style": "IPY_MODEL_50836a472d4a4089b645c1e52b48789e",
            "value": 1349875
          }
        },
        "24e4cf02a47a42d7944ad2d486e25784": {
          "model_module": "@jupyter-widgets/controls",
          "model_name": "HTMLModel",
          "model_module_version": "1.5.0",
          "state": {
            "_dom_classes": [],
            "_model_module": "@jupyter-widgets/controls",
            "_model_module_version": "1.5.0",
            "_model_name": "HTMLModel",
            "_view_count": null,
            "_view_module": "@jupyter-widgets/controls",
            "_view_module_version": "1.5.0",
            "_view_name": "HTMLView",
            "description": "",
            "description_tooltip": null,
            "layout": "IPY_MODEL_4bbbef695e964b628c31ff2b08853d2a",
            "placeholder": "​",
            "style": "IPY_MODEL_00e2071509c34b91af81bd4ca88d7f25",
            "value": " 1.35M/1.35M [00:00&lt;00:00, 2.78MB/s]"
          }
        },
        "68b76525a4b8451fb869f129996aa8f4": {
          "model_module": "@jupyter-widgets/base",
          "model_name": "LayoutModel",
          "model_module_version": "1.2.0",
          "state": {
            "_model_module": "@jupyter-widgets/base",
            "_model_module_version": "1.2.0",
            "_model_name": "LayoutModel",
            "_view_count": null,
            "_view_module": "@jupyter-widgets/base",
            "_view_module_version": "1.2.0",
            "_view_name": "LayoutView",
            "align_content": null,
            "align_items": null,
            "align_self": null,
            "border": null,
            "bottom": null,
            "display": null,
            "flex": null,
            "flex_flow": null,
            "grid_area": null,
            "grid_auto_columns": null,
            "grid_auto_flow": null,
            "grid_auto_rows": null,
            "grid_column": null,
            "grid_gap": null,
            "grid_row": null,
            "grid_template_areas": null,
            "grid_template_columns": null,
            "grid_template_rows": null,
            "height": null,
            "justify_content": null,
            "justify_items": null,
            "left": null,
            "margin": null,
            "max_height": null,
            "max_width": null,
            "min_height": null,
            "min_width": null,
            "object_fit": null,
            "object_position": null,
            "order": null,
            "overflow": null,
            "overflow_x": null,
            "overflow_y": null,
            "padding": null,
            "right": null,
            "top": null,
            "visibility": null,
            "width": null
          }
        },
        "d14871758f0f4c789cda8ed8baec1780": {
          "model_module": "@jupyter-widgets/base",
          "model_name": "LayoutModel",
          "model_module_version": "1.2.0",
          "state": {
            "_model_module": "@jupyter-widgets/base",
            "_model_module_version": "1.2.0",
            "_model_name": "LayoutModel",
            "_view_count": null,
            "_view_module": "@jupyter-widgets/base",
            "_view_module_version": "1.2.0",
            "_view_name": "LayoutView",
            "align_content": null,
            "align_items": null,
            "align_self": null,
            "border": null,
            "bottom": null,
            "display": null,
            "flex": null,
            "flex_flow": null,
            "grid_area": null,
            "grid_auto_columns": null,
            "grid_auto_flow": null,
            "grid_auto_rows": null,
            "grid_column": null,
            "grid_gap": null,
            "grid_row": null,
            "grid_template_areas": null,
            "grid_template_columns": null,
            "grid_template_rows": null,
            "height": null,
            "justify_content": null,
            "justify_items": null,
            "left": null,
            "margin": null,
            "max_height": null,
            "max_width": null,
            "min_height": null,
            "min_width": null,
            "object_fit": null,
            "object_position": null,
            "order": null,
            "overflow": null,
            "overflow_x": null,
            "overflow_y": null,
            "padding": null,
            "right": null,
            "top": null,
            "visibility": null,
            "width": null
          }
        },
        "d66b1aee225d44f89e6742999334edd8": {
          "model_module": "@jupyter-widgets/controls",
          "model_name": "DescriptionStyleModel",
          "model_module_version": "1.5.0",
          "state": {
            "_model_module": "@jupyter-widgets/controls",
            "_model_module_version": "1.5.0",
            "_model_name": "DescriptionStyleModel",
            "_view_count": null,
            "_view_module": "@jupyter-widgets/base",
            "_view_module_version": "1.2.0",
            "_view_name": "StyleView",
            "description_width": ""
          }
        },
        "61dab662742d4c0db091f2d5330d4e47": {
          "model_module": "@jupyter-widgets/base",
          "model_name": "LayoutModel",
          "model_module_version": "1.2.0",
          "state": {
            "_model_module": "@jupyter-widgets/base",
            "_model_module_version": "1.2.0",
            "_model_name": "LayoutModel",
            "_view_count": null,
            "_view_module": "@jupyter-widgets/base",
            "_view_module_version": "1.2.0",
            "_view_name": "LayoutView",
            "align_content": null,
            "align_items": null,
            "align_self": null,
            "border": null,
            "bottom": null,
            "display": null,
            "flex": null,
            "flex_flow": null,
            "grid_area": null,
            "grid_auto_columns": null,
            "grid_auto_flow": null,
            "grid_auto_rows": null,
            "grid_column": null,
            "grid_gap": null,
            "grid_row": null,
            "grid_template_areas": null,
            "grid_template_columns": null,
            "grid_template_rows": null,
            "height": null,
            "justify_content": null,
            "justify_items": null,
            "left": null,
            "margin": null,
            "max_height": null,
            "max_width": null,
            "min_height": null,
            "min_width": null,
            "object_fit": null,
            "object_position": null,
            "order": null,
            "overflow": null,
            "overflow_x": null,
            "overflow_y": null,
            "padding": null,
            "right": null,
            "top": null,
            "visibility": null,
            "width": null
          }
        },
        "50836a472d4a4089b645c1e52b48789e": {
          "model_module": "@jupyter-widgets/controls",
          "model_name": "ProgressStyleModel",
          "model_module_version": "1.5.0",
          "state": {
            "_model_module": "@jupyter-widgets/controls",
            "_model_module_version": "1.5.0",
            "_model_name": "ProgressStyleModel",
            "_view_count": null,
            "_view_module": "@jupyter-widgets/base",
            "_view_module_version": "1.2.0",
            "_view_name": "StyleView",
            "bar_color": null,
            "description_width": ""
          }
        },
        "4bbbef695e964b628c31ff2b08853d2a": {
          "model_module": "@jupyter-widgets/base",
          "model_name": "LayoutModel",
          "model_module_version": "1.2.0",
          "state": {
            "_model_module": "@jupyter-widgets/base",
            "_model_module_version": "1.2.0",
            "_model_name": "LayoutModel",
            "_view_count": null,
            "_view_module": "@jupyter-widgets/base",
            "_view_module_version": "1.2.0",
            "_view_name": "LayoutView",
            "align_content": null,
            "align_items": null,
            "align_self": null,
            "border": null,
            "bottom": null,
            "display": null,
            "flex": null,
            "flex_flow": null,
            "grid_area": null,
            "grid_auto_columns": null,
            "grid_auto_flow": null,
            "grid_auto_rows": null,
            "grid_column": null,
            "grid_gap": null,
            "grid_row": null,
            "grid_template_areas": null,
            "grid_template_columns": null,
            "grid_template_rows": null,
            "height": null,
            "justify_content": null,
            "justify_items": null,
            "left": null,
            "margin": null,
            "max_height": null,
            "max_width": null,
            "min_height": null,
            "min_width": null,
            "object_fit": null,
            "object_position": null,
            "order": null,
            "overflow": null,
            "overflow_x": null,
            "overflow_y": null,
            "padding": null,
            "right": null,
            "top": null,
            "visibility": null,
            "width": null
          }
        },
        "00e2071509c34b91af81bd4ca88d7f25": {
          "model_module": "@jupyter-widgets/controls",
          "model_name": "DescriptionStyleModel",
          "model_module_version": "1.5.0",
          "state": {
            "_model_module": "@jupyter-widgets/controls",
            "_model_module_version": "1.5.0",
            "_model_name": "DescriptionStyleModel",
            "_view_count": null,
            "_view_module": "@jupyter-widgets/base",
            "_view_module_version": "1.2.0",
            "_view_name": "StyleView",
            "description_width": ""
          }
        },
        "3044ddf40fda4537be02b5bb59308700": {
          "model_module": "@jupyter-widgets/controls",
          "model_name": "HBoxModel",
          "model_module_version": "1.5.0",
          "state": {
            "_dom_classes": [],
            "_model_module": "@jupyter-widgets/controls",
            "_model_module_version": "1.5.0",
            "_model_name": "HBoxModel",
            "_view_count": null,
            "_view_module": "@jupyter-widgets/controls",
            "_view_module_version": "1.5.0",
            "_view_name": "HBoxView",
            "box_style": "",
            "children": [
              "IPY_MODEL_f369eddcb8d3492587f7d65c82e1ca1e",
              "IPY_MODEL_4b7d4e319f354ab48708ebff0b6f678c",
              "IPY_MODEL_8ed55b01c96c429db8dd6e7dcb041295"
            ],
            "layout": "IPY_MODEL_03b4610b667d47bb92200f58da0bba79"
          }
        },
        "f369eddcb8d3492587f7d65c82e1ca1e": {
          "model_module": "@jupyter-widgets/controls",
          "model_name": "HTMLModel",
          "model_module_version": "1.5.0",
          "state": {
            "_dom_classes": [],
            "_model_module": "@jupyter-widgets/controls",
            "_model_module_version": "1.5.0",
            "_model_name": "HTMLModel",
            "_view_count": null,
            "_view_module": "@jupyter-widgets/controls",
            "_view_module_version": "1.5.0",
            "_view_name": "HTMLView",
            "description": "",
            "description_tooltip": null,
            "layout": "IPY_MODEL_0421e68061714af7b963ea23b347efc1",
            "placeholder": "​",
            "style": "IPY_MODEL_88b19de99a884525bf7d2588b0075cb2",
            "value": "Generating train split: 100%"
          }
        },
        "4b7d4e319f354ab48708ebff0b6f678c": {
          "model_module": "@jupyter-widgets/controls",
          "model_name": "FloatProgressModel",
          "model_module_version": "1.5.0",
          "state": {
            "_dom_classes": [],
            "_model_module": "@jupyter-widgets/controls",
            "_model_module_version": "1.5.0",
            "_model_name": "FloatProgressModel",
            "_view_count": null,
            "_view_module": "@jupyter-widgets/controls",
            "_view_module_version": "1.5.0",
            "_view_name": "ProgressView",
            "bar_style": "",
            "description": "",
            "description_tooltip": null,
            "layout": "IPY_MODEL_3bdf38cfef2440d2a0c6acaa579a4474",
            "max": 11668,
            "min": 0,
            "orientation": "horizontal",
            "style": "IPY_MODEL_24b12ee36b40496fbc9104251d26971a",
            "value": 11668
          }
        },
        "8ed55b01c96c429db8dd6e7dcb041295": {
          "model_module": "@jupyter-widgets/controls",
          "model_name": "HTMLModel",
          "model_module_version": "1.5.0",
          "state": {
            "_dom_classes": [],
            "_model_module": "@jupyter-widgets/controls",
            "_model_module_version": "1.5.0",
            "_model_name": "HTMLModel",
            "_view_count": null,
            "_view_module": "@jupyter-widgets/controls",
            "_view_module_version": "1.5.0",
            "_view_name": "HTMLView",
            "description": "",
            "description_tooltip": null,
            "layout": "IPY_MODEL_27529b815f4e40219f8bab31b0a0ce76",
            "placeholder": "​",
            "style": "IPY_MODEL_c72356660cde492f8bf054ba3daa85b3",
            "value": " 11668/11668 [00:12&lt;00:00, 4810.46 examples/s]"
          }
        },
        "03b4610b667d47bb92200f58da0bba79": {
          "model_module": "@jupyter-widgets/base",
          "model_name": "LayoutModel",
          "model_module_version": "1.2.0",
          "state": {
            "_model_module": "@jupyter-widgets/base",
            "_model_module_version": "1.2.0",
            "_model_name": "LayoutModel",
            "_view_count": null,
            "_view_module": "@jupyter-widgets/base",
            "_view_module_version": "1.2.0",
            "_view_name": "LayoutView",
            "align_content": null,
            "align_items": null,
            "align_self": null,
            "border": null,
            "bottom": null,
            "display": null,
            "flex": null,
            "flex_flow": null,
            "grid_area": null,
            "grid_auto_columns": null,
            "grid_auto_flow": null,
            "grid_auto_rows": null,
            "grid_column": null,
            "grid_gap": null,
            "grid_row": null,
            "grid_template_areas": null,
            "grid_template_columns": null,
            "grid_template_rows": null,
            "height": null,
            "justify_content": null,
            "justify_items": null,
            "left": null,
            "margin": null,
            "max_height": null,
            "max_width": null,
            "min_height": null,
            "min_width": null,
            "object_fit": null,
            "object_position": null,
            "order": null,
            "overflow": null,
            "overflow_x": null,
            "overflow_y": null,
            "padding": null,
            "right": null,
            "top": null,
            "visibility": "hidden",
            "width": null
          }
        },
        "0421e68061714af7b963ea23b347efc1": {
          "model_module": "@jupyter-widgets/base",
          "model_name": "LayoutModel",
          "model_module_version": "1.2.0",
          "state": {
            "_model_module": "@jupyter-widgets/base",
            "_model_module_version": "1.2.0",
            "_model_name": "LayoutModel",
            "_view_count": null,
            "_view_module": "@jupyter-widgets/base",
            "_view_module_version": "1.2.0",
            "_view_name": "LayoutView",
            "align_content": null,
            "align_items": null,
            "align_self": null,
            "border": null,
            "bottom": null,
            "display": null,
            "flex": null,
            "flex_flow": null,
            "grid_area": null,
            "grid_auto_columns": null,
            "grid_auto_flow": null,
            "grid_auto_rows": null,
            "grid_column": null,
            "grid_gap": null,
            "grid_row": null,
            "grid_template_areas": null,
            "grid_template_columns": null,
            "grid_template_rows": null,
            "height": null,
            "justify_content": null,
            "justify_items": null,
            "left": null,
            "margin": null,
            "max_height": null,
            "max_width": null,
            "min_height": null,
            "min_width": null,
            "object_fit": null,
            "object_position": null,
            "order": null,
            "overflow": null,
            "overflow_x": null,
            "overflow_y": null,
            "padding": null,
            "right": null,
            "top": null,
            "visibility": null,
            "width": null
          }
        },
        "88b19de99a884525bf7d2588b0075cb2": {
          "model_module": "@jupyter-widgets/controls",
          "model_name": "DescriptionStyleModel",
          "model_module_version": "1.5.0",
          "state": {
            "_model_module": "@jupyter-widgets/controls",
            "_model_module_version": "1.5.0",
            "_model_name": "DescriptionStyleModel",
            "_view_count": null,
            "_view_module": "@jupyter-widgets/base",
            "_view_module_version": "1.2.0",
            "_view_name": "StyleView",
            "description_width": ""
          }
        },
        "3bdf38cfef2440d2a0c6acaa579a4474": {
          "model_module": "@jupyter-widgets/base",
          "model_name": "LayoutModel",
          "model_module_version": "1.2.0",
          "state": {
            "_model_module": "@jupyter-widgets/base",
            "_model_module_version": "1.2.0",
            "_model_name": "LayoutModel",
            "_view_count": null,
            "_view_module": "@jupyter-widgets/base",
            "_view_module_version": "1.2.0",
            "_view_name": "LayoutView",
            "align_content": null,
            "align_items": null,
            "align_self": null,
            "border": null,
            "bottom": null,
            "display": null,
            "flex": null,
            "flex_flow": null,
            "grid_area": null,
            "grid_auto_columns": null,
            "grid_auto_flow": null,
            "grid_auto_rows": null,
            "grid_column": null,
            "grid_gap": null,
            "grid_row": null,
            "grid_template_areas": null,
            "grid_template_columns": null,
            "grid_template_rows": null,
            "height": null,
            "justify_content": null,
            "justify_items": null,
            "left": null,
            "margin": null,
            "max_height": null,
            "max_width": null,
            "min_height": null,
            "min_width": null,
            "object_fit": null,
            "object_position": null,
            "order": null,
            "overflow": null,
            "overflow_x": null,
            "overflow_y": null,
            "padding": null,
            "right": null,
            "top": null,
            "visibility": null,
            "width": null
          }
        },
        "24b12ee36b40496fbc9104251d26971a": {
          "model_module": "@jupyter-widgets/controls",
          "model_name": "ProgressStyleModel",
          "model_module_version": "1.5.0",
          "state": {
            "_model_module": "@jupyter-widgets/controls",
            "_model_module_version": "1.5.0",
            "_model_name": "ProgressStyleModel",
            "_view_count": null,
            "_view_module": "@jupyter-widgets/base",
            "_view_module_version": "1.2.0",
            "_view_name": "StyleView",
            "bar_color": null,
            "description_width": ""
          }
        },
        "27529b815f4e40219f8bab31b0a0ce76": {
          "model_module": "@jupyter-widgets/base",
          "model_name": "LayoutModel",
          "model_module_version": "1.2.0",
          "state": {
            "_model_module": "@jupyter-widgets/base",
            "_model_module_version": "1.2.0",
            "_model_name": "LayoutModel",
            "_view_count": null,
            "_view_module": "@jupyter-widgets/base",
            "_view_module_version": "1.2.0",
            "_view_name": "LayoutView",
            "align_content": null,
            "align_items": null,
            "align_self": null,
            "border": null,
            "bottom": null,
            "display": null,
            "flex": null,
            "flex_flow": null,
            "grid_area": null,
            "grid_auto_columns": null,
            "grid_auto_flow": null,
            "grid_auto_rows": null,
            "grid_column": null,
            "grid_gap": null,
            "grid_row": null,
            "grid_template_areas": null,
            "grid_template_columns": null,
            "grid_template_rows": null,
            "height": null,
            "justify_content": null,
            "justify_items": null,
            "left": null,
            "margin": null,
            "max_height": null,
            "max_width": null,
            "min_height": null,
            "min_width": null,
            "object_fit": null,
            "object_position": null,
            "order": null,
            "overflow": null,
            "overflow_x": null,
            "overflow_y": null,
            "padding": null,
            "right": null,
            "top": null,
            "visibility": null,
            "width": null
          }
        },
        "c72356660cde492f8bf054ba3daa85b3": {
          "model_module": "@jupyter-widgets/controls",
          "model_name": "DescriptionStyleModel",
          "model_module_version": "1.5.0",
          "state": {
            "_model_module": "@jupyter-widgets/controls",
            "_model_module_version": "1.5.0",
            "_model_name": "DescriptionStyleModel",
            "_view_count": null,
            "_view_module": "@jupyter-widgets/base",
            "_view_module_version": "1.2.0",
            "_view_name": "StyleView",
            "description_width": ""
          }
        },
        "cc274f3acaed455a8f33919bb3a83987": {
          "model_module": "@jupyter-widgets/controls",
          "model_name": "HBoxModel",
          "model_module_version": "1.5.0",
          "state": {
            "_dom_classes": [],
            "_model_module": "@jupyter-widgets/controls",
            "_model_module_version": "1.5.0",
            "_model_name": "HBoxModel",
            "_view_count": null,
            "_view_module": "@jupyter-widgets/controls",
            "_view_module_version": "1.5.0",
            "_view_name": "HBoxView",
            "box_style": "",
            "children": [
              "IPY_MODEL_61653e47aa134f4a80d38ed738a25eef",
              "IPY_MODEL_f822a796bda04efda67b6cd96d1903f8",
              "IPY_MODEL_922ba31e29294044a519de405e72283f"
            ],
            "layout": "IPY_MODEL_42a1d8aa09f34dc2bcad8438d784d54b"
          }
        },
        "61653e47aa134f4a80d38ed738a25eef": {
          "model_module": "@jupyter-widgets/controls",
          "model_name": "HTMLModel",
          "model_module_version": "1.5.0",
          "state": {
            "_dom_classes": [],
            "_model_module": "@jupyter-widgets/controls",
            "_model_module_version": "1.5.0",
            "_model_name": "HTMLModel",
            "_view_count": null,
            "_view_module": "@jupyter-widgets/controls",
            "_view_module_version": "1.5.0",
            "_view_name": "HTMLView",
            "description": "",
            "description_tooltip": null,
            "layout": "IPY_MODEL_59924ac16c584ce6bf49e920ed86414c",
            "placeholder": "​",
            "style": "IPY_MODEL_654f0dc9f684479ab068be1e9929dd48",
            "value": "Generating validation split: 100%"
          }
        },
        "f822a796bda04efda67b6cd96d1903f8": {
          "model_module": "@jupyter-widgets/controls",
          "model_name": "FloatProgressModel",
          "model_module_version": "1.5.0",
          "state": {
            "_dom_classes": [],
            "_model_module": "@jupyter-widgets/controls",
            "_model_module_version": "1.5.0",
            "_model_name": "FloatProgressModel",
            "_view_count": null,
            "_view_module": "@jupyter-widgets/controls",
            "_view_module_version": "1.5.0",
            "_view_name": "ProgressView",
            "bar_style": "",
            "description": "",
            "description_tooltip": null,
            "layout": "IPY_MODEL_d2b6753050514d80b234062c30e051fa",
            "max": 519,
            "min": 0,
            "orientation": "horizontal",
            "style": "IPY_MODEL_a7f64275f3964d97b9775a8b8b65bac6",
            "value": 519
          }
        },
        "922ba31e29294044a519de405e72283f": {
          "model_module": "@jupyter-widgets/controls",
          "model_name": "HTMLModel",
          "model_module_version": "1.5.0",
          "state": {
            "_dom_classes": [],
            "_model_module": "@jupyter-widgets/controls",
            "_model_module_version": "1.5.0",
            "_model_name": "HTMLModel",
            "_view_count": null,
            "_view_module": "@jupyter-widgets/controls",
            "_view_module_version": "1.5.0",
            "_view_name": "HTMLView",
            "description": "",
            "description_tooltip": null,
            "layout": "IPY_MODEL_8d8bf5eef3f6468da6f788c922602671",
            "placeholder": "​",
            "style": "IPY_MODEL_2489a13eb7604fbfb357c8ae0593b2b9",
            "value": " 519/519 [00:20&lt;00:00, 2567.56 examples/s]"
          }
        },
        "42a1d8aa09f34dc2bcad8438d784d54b": {
          "model_module": "@jupyter-widgets/base",
          "model_name": "LayoutModel",
          "model_module_version": "1.2.0",
          "state": {
            "_model_module": "@jupyter-widgets/base",
            "_model_module_version": "1.2.0",
            "_model_name": "LayoutModel",
            "_view_count": null,
            "_view_module": "@jupyter-widgets/base",
            "_view_module_version": "1.2.0",
            "_view_name": "LayoutView",
            "align_content": null,
            "align_items": null,
            "align_self": null,
            "border": null,
            "bottom": null,
            "display": null,
            "flex": null,
            "flex_flow": null,
            "grid_area": null,
            "grid_auto_columns": null,
            "grid_auto_flow": null,
            "grid_auto_rows": null,
            "grid_column": null,
            "grid_gap": null,
            "grid_row": null,
            "grid_template_areas": null,
            "grid_template_columns": null,
            "grid_template_rows": null,
            "height": null,
            "justify_content": null,
            "justify_items": null,
            "left": null,
            "margin": null,
            "max_height": null,
            "max_width": null,
            "min_height": null,
            "min_width": null,
            "object_fit": null,
            "object_position": null,
            "order": null,
            "overflow": null,
            "overflow_x": null,
            "overflow_y": null,
            "padding": null,
            "right": null,
            "top": null,
            "visibility": "hidden",
            "width": null
          }
        },
        "59924ac16c584ce6bf49e920ed86414c": {
          "model_module": "@jupyter-widgets/base",
          "model_name": "LayoutModel",
          "model_module_version": "1.2.0",
          "state": {
            "_model_module": "@jupyter-widgets/base",
            "_model_module_version": "1.2.0",
            "_model_name": "LayoutModel",
            "_view_count": null,
            "_view_module": "@jupyter-widgets/base",
            "_view_module_version": "1.2.0",
            "_view_name": "LayoutView",
            "align_content": null,
            "align_items": null,
            "align_self": null,
            "border": null,
            "bottom": null,
            "display": null,
            "flex": null,
            "flex_flow": null,
            "grid_area": null,
            "grid_auto_columns": null,
            "grid_auto_flow": null,
            "grid_auto_rows": null,
            "grid_column": null,
            "grid_gap": null,
            "grid_row": null,
            "grid_template_areas": null,
            "grid_template_columns": null,
            "grid_template_rows": null,
            "height": null,
            "justify_content": null,
            "justify_items": null,
            "left": null,
            "margin": null,
            "max_height": null,
            "max_width": null,
            "min_height": null,
            "min_width": null,
            "object_fit": null,
            "object_position": null,
            "order": null,
            "overflow": null,
            "overflow_x": null,
            "overflow_y": null,
            "padding": null,
            "right": null,
            "top": null,
            "visibility": null,
            "width": null
          }
        },
        "654f0dc9f684479ab068be1e9929dd48": {
          "model_module": "@jupyter-widgets/controls",
          "model_name": "DescriptionStyleModel",
          "model_module_version": "1.5.0",
          "state": {
            "_model_module": "@jupyter-widgets/controls",
            "_model_module_version": "1.5.0",
            "_model_name": "DescriptionStyleModel",
            "_view_count": null,
            "_view_module": "@jupyter-widgets/base",
            "_view_module_version": "1.2.0",
            "_view_name": "StyleView",
            "description_width": ""
          }
        },
        "d2b6753050514d80b234062c30e051fa": {
          "model_module": "@jupyter-widgets/base",
          "model_name": "LayoutModel",
          "model_module_version": "1.2.0",
          "state": {
            "_model_module": "@jupyter-widgets/base",
            "_model_module_version": "1.2.0",
            "_model_name": "LayoutModel",
            "_view_count": null,
            "_view_module": "@jupyter-widgets/base",
            "_view_module_version": "1.2.0",
            "_view_name": "LayoutView",
            "align_content": null,
            "align_items": null,
            "align_self": null,
            "border": null,
            "bottom": null,
            "display": null,
            "flex": null,
            "flex_flow": null,
            "grid_area": null,
            "grid_auto_columns": null,
            "grid_auto_flow": null,
            "grid_auto_rows": null,
            "grid_column": null,
            "grid_gap": null,
            "grid_row": null,
            "grid_template_areas": null,
            "grid_template_columns": null,
            "grid_template_rows": null,
            "height": null,
            "justify_content": null,
            "justify_items": null,
            "left": null,
            "margin": null,
            "max_height": null,
            "max_width": null,
            "min_height": null,
            "min_width": null,
            "object_fit": null,
            "object_position": null,
            "order": null,
            "overflow": null,
            "overflow_x": null,
            "overflow_y": null,
            "padding": null,
            "right": null,
            "top": null,
            "visibility": null,
            "width": null
          }
        },
        "a7f64275f3964d97b9775a8b8b65bac6": {
          "model_module": "@jupyter-widgets/controls",
          "model_name": "ProgressStyleModel",
          "model_module_version": "1.5.0",
          "state": {
            "_model_module": "@jupyter-widgets/controls",
            "_model_module_version": "1.5.0",
            "_model_name": "ProgressStyleModel",
            "_view_count": null,
            "_view_module": "@jupyter-widgets/base",
            "_view_module_version": "1.2.0",
            "_view_name": "StyleView",
            "bar_color": null,
            "description_width": ""
          }
        },
        "8d8bf5eef3f6468da6f788c922602671": {
          "model_module": "@jupyter-widgets/base",
          "model_name": "LayoutModel",
          "model_module_version": "1.2.0",
          "state": {
            "_model_module": "@jupyter-widgets/base",
            "_model_module_version": "1.2.0",
            "_model_name": "LayoutModel",
            "_view_count": null,
            "_view_module": "@jupyter-widgets/base",
            "_view_module_version": "1.2.0",
            "_view_name": "LayoutView",
            "align_content": null,
            "align_items": null,
            "align_self": null,
            "border": null,
            "bottom": null,
            "display": null,
            "flex": null,
            "flex_flow": null,
            "grid_area": null,
            "grid_auto_columns": null,
            "grid_auto_flow": null,
            "grid_auto_rows": null,
            "grid_column": null,
            "grid_gap": null,
            "grid_row": null,
            "grid_template_areas": null,
            "grid_template_columns": null,
            "grid_template_rows": null,
            "height": null,
            "justify_content": null,
            "justify_items": null,
            "left": null,
            "margin": null,
            "max_height": null,
            "max_width": null,
            "min_height": null,
            "min_width": null,
            "object_fit": null,
            "object_position": null,
            "order": null,
            "overflow": null,
            "overflow_x": null,
            "overflow_y": null,
            "padding": null,
            "right": null,
            "top": null,
            "visibility": null,
            "width": null
          }
        },
        "2489a13eb7604fbfb357c8ae0593b2b9": {
          "model_module": "@jupyter-widgets/controls",
          "model_name": "DescriptionStyleModel",
          "model_module_version": "1.5.0",
          "state": {
            "_model_module": "@jupyter-widgets/controls",
            "_model_module_version": "1.5.0",
            "_model_name": "DescriptionStyleModel",
            "_view_count": null,
            "_view_module": "@jupyter-widgets/base",
            "_view_module_version": "1.2.0",
            "_view_name": "StyleView",
            "description_width": ""
          }
        },
        "d938012207cd4c7c98bef1f874aa0c8e": {
          "model_module": "@jupyter-widgets/controls",
          "model_name": "HBoxModel",
          "model_module_version": "1.5.0",
          "state": {
            "_dom_classes": [],
            "_model_module": "@jupyter-widgets/controls",
            "_model_module_version": "1.5.0",
            "_model_name": "HBoxModel",
            "_view_count": null,
            "_view_module": "@jupyter-widgets/controls",
            "_view_module_version": "1.5.0",
            "_view_name": "HBoxView",
            "box_style": "",
            "children": [
              "IPY_MODEL_2a332d09e40541ceabd106f40e4d515f",
              "IPY_MODEL_e423e9e1943943a5b3f9fabe433bbcbc",
              "IPY_MODEL_ca52bbb25ce54a37864c58a72e4cd73a"
            ],
            "layout": "IPY_MODEL_3e60ad7dc85142e69e58fd337a4b4a6d"
          }
        },
        "2a332d09e40541ceabd106f40e4d515f": {
          "model_module": "@jupyter-widgets/controls",
          "model_name": "HTMLModel",
          "model_module_version": "1.5.0",
          "state": {
            "_dom_classes": [],
            "_model_module": "@jupyter-widgets/controls",
            "_model_module_version": "1.5.0",
            "_model_name": "HTMLModel",
            "_view_count": null,
            "_view_module": "@jupyter-widgets/controls",
            "_view_module_version": "1.5.0",
            "_view_name": "HTMLView",
            "description": "",
            "description_tooltip": null,
            "layout": "IPY_MODEL_809dc473ced040f8ada01ee52d2be02f",
            "placeholder": "​",
            "style": "IPY_MODEL_7f21d2a5111f46b782029ede2faaedbe",
            "value": "100%"
          }
        },
        "e423e9e1943943a5b3f9fabe433bbcbc": {
          "model_module": "@jupyter-widgets/controls",
          "model_name": "FloatProgressModel",
          "model_module_version": "1.5.0",
          "state": {
            "_dom_classes": [],
            "_model_module": "@jupyter-widgets/controls",
            "_model_module_version": "1.5.0",
            "_model_name": "FloatProgressModel",
            "_view_count": null,
            "_view_module": "@jupyter-widgets/controls",
            "_view_module_version": "1.5.0",
            "_view_name": "ProgressView",
            "bar_style": "success",
            "description": "",
            "description_tooltip": null,
            "layout": "IPY_MODEL_f0d3967268a345ad8053f72914c6828a",
            "max": 2,
            "min": 0,
            "orientation": "horizontal",
            "style": "IPY_MODEL_ba1b8a83a7c1425594b511ba3aaebfc8",
            "value": 2
          }
        },
        "ca52bbb25ce54a37864c58a72e4cd73a": {
          "model_module": "@jupyter-widgets/controls",
          "model_name": "HTMLModel",
          "model_module_version": "1.5.0",
          "state": {
            "_dom_classes": [],
            "_model_module": "@jupyter-widgets/controls",
            "_model_module_version": "1.5.0",
            "_model_name": "HTMLModel",
            "_view_count": null,
            "_view_module": "@jupyter-widgets/controls",
            "_view_module_version": "1.5.0",
            "_view_name": "HTMLView",
            "description": "",
            "description_tooltip": null,
            "layout": "IPY_MODEL_001392fe50e647438a102684a71893bc",
            "placeholder": "​",
            "style": "IPY_MODEL_8b4615b9560c4cb29a1d3a29b6acac4a",
            "value": " 2/2 [00:00&lt;00:00, 23.81it/s]"
          }
        },
        "3e60ad7dc85142e69e58fd337a4b4a6d": {
          "model_module": "@jupyter-widgets/base",
          "model_name": "LayoutModel",
          "model_module_version": "1.2.0",
          "state": {
            "_model_module": "@jupyter-widgets/base",
            "_model_module_version": "1.2.0",
            "_model_name": "LayoutModel",
            "_view_count": null,
            "_view_module": "@jupyter-widgets/base",
            "_view_module_version": "1.2.0",
            "_view_name": "LayoutView",
            "align_content": null,
            "align_items": null,
            "align_self": null,
            "border": null,
            "bottom": null,
            "display": null,
            "flex": null,
            "flex_flow": null,
            "grid_area": null,
            "grid_auto_columns": null,
            "grid_auto_flow": null,
            "grid_auto_rows": null,
            "grid_column": null,
            "grid_gap": null,
            "grid_row": null,
            "grid_template_areas": null,
            "grid_template_columns": null,
            "grid_template_rows": null,
            "height": null,
            "justify_content": null,
            "justify_items": null,
            "left": null,
            "margin": null,
            "max_height": null,
            "max_width": null,
            "min_height": null,
            "min_width": null,
            "object_fit": null,
            "object_position": null,
            "order": null,
            "overflow": null,
            "overflow_x": null,
            "overflow_y": null,
            "padding": null,
            "right": null,
            "top": null,
            "visibility": null,
            "width": null
          }
        },
        "809dc473ced040f8ada01ee52d2be02f": {
          "model_module": "@jupyter-widgets/base",
          "model_name": "LayoutModel",
          "model_module_version": "1.2.0",
          "state": {
            "_model_module": "@jupyter-widgets/base",
            "_model_module_version": "1.2.0",
            "_model_name": "LayoutModel",
            "_view_count": null,
            "_view_module": "@jupyter-widgets/base",
            "_view_module_version": "1.2.0",
            "_view_name": "LayoutView",
            "align_content": null,
            "align_items": null,
            "align_self": null,
            "border": null,
            "bottom": null,
            "display": null,
            "flex": null,
            "flex_flow": null,
            "grid_area": null,
            "grid_auto_columns": null,
            "grid_auto_flow": null,
            "grid_auto_rows": null,
            "grid_column": null,
            "grid_gap": null,
            "grid_row": null,
            "grid_template_areas": null,
            "grid_template_columns": null,
            "grid_template_rows": null,
            "height": null,
            "justify_content": null,
            "justify_items": null,
            "left": null,
            "margin": null,
            "max_height": null,
            "max_width": null,
            "min_height": null,
            "min_width": null,
            "object_fit": null,
            "object_position": null,
            "order": null,
            "overflow": null,
            "overflow_x": null,
            "overflow_y": null,
            "padding": null,
            "right": null,
            "top": null,
            "visibility": null,
            "width": null
          }
        },
        "7f21d2a5111f46b782029ede2faaedbe": {
          "model_module": "@jupyter-widgets/controls",
          "model_name": "DescriptionStyleModel",
          "model_module_version": "1.5.0",
          "state": {
            "_model_module": "@jupyter-widgets/controls",
            "_model_module_version": "1.5.0",
            "_model_name": "DescriptionStyleModel",
            "_view_count": null,
            "_view_module": "@jupyter-widgets/base",
            "_view_module_version": "1.2.0",
            "_view_name": "StyleView",
            "description_width": ""
          }
        },
        "f0d3967268a345ad8053f72914c6828a": {
          "model_module": "@jupyter-widgets/base",
          "model_name": "LayoutModel",
          "model_module_version": "1.2.0",
          "state": {
            "_model_module": "@jupyter-widgets/base",
            "_model_module_version": "1.2.0",
            "_model_name": "LayoutModel",
            "_view_count": null,
            "_view_module": "@jupyter-widgets/base",
            "_view_module_version": "1.2.0",
            "_view_name": "LayoutView",
            "align_content": null,
            "align_items": null,
            "align_self": null,
            "border": null,
            "bottom": null,
            "display": null,
            "flex": null,
            "flex_flow": null,
            "grid_area": null,
            "grid_auto_columns": null,
            "grid_auto_flow": null,
            "grid_auto_rows": null,
            "grid_column": null,
            "grid_gap": null,
            "grid_row": null,
            "grid_template_areas": null,
            "grid_template_columns": null,
            "grid_template_rows": null,
            "height": null,
            "justify_content": null,
            "justify_items": null,
            "left": null,
            "margin": null,
            "max_height": null,
            "max_width": null,
            "min_height": null,
            "min_width": null,
            "object_fit": null,
            "object_position": null,
            "order": null,
            "overflow": null,
            "overflow_x": null,
            "overflow_y": null,
            "padding": null,
            "right": null,
            "top": null,
            "visibility": null,
            "width": null
          }
        },
        "ba1b8a83a7c1425594b511ba3aaebfc8": {
          "model_module": "@jupyter-widgets/controls",
          "model_name": "ProgressStyleModel",
          "model_module_version": "1.5.0",
          "state": {
            "_model_module": "@jupyter-widgets/controls",
            "_model_module_version": "1.5.0",
            "_model_name": "ProgressStyleModel",
            "_view_count": null,
            "_view_module": "@jupyter-widgets/base",
            "_view_module_version": "1.2.0",
            "_view_name": "StyleView",
            "bar_color": null,
            "description_width": ""
          }
        },
        "001392fe50e647438a102684a71893bc": {
          "model_module": "@jupyter-widgets/base",
          "model_name": "LayoutModel",
          "model_module_version": "1.2.0",
          "state": {
            "_model_module": "@jupyter-widgets/base",
            "_model_module_version": "1.2.0",
            "_model_name": "LayoutModel",
            "_view_count": null,
            "_view_module": "@jupyter-widgets/base",
            "_view_module_version": "1.2.0",
            "_view_name": "LayoutView",
            "align_content": null,
            "align_items": null,
            "align_self": null,
            "border": null,
            "bottom": null,
            "display": null,
            "flex": null,
            "flex_flow": null,
            "grid_area": null,
            "grid_auto_columns": null,
            "grid_auto_flow": null,
            "grid_auto_rows": null,
            "grid_column": null,
            "grid_gap": null,
            "grid_row": null,
            "grid_template_areas": null,
            "grid_template_columns": null,
            "grid_template_rows": null,
            "height": null,
            "justify_content": null,
            "justify_items": null,
            "left": null,
            "margin": null,
            "max_height": null,
            "max_width": null,
            "min_height": null,
            "min_width": null,
            "object_fit": null,
            "object_position": null,
            "order": null,
            "overflow": null,
            "overflow_x": null,
            "overflow_y": null,
            "padding": null,
            "right": null,
            "top": null,
            "visibility": null,
            "width": null
          }
        },
        "8b4615b9560c4cb29a1d3a29b6acac4a": {
          "model_module": "@jupyter-widgets/controls",
          "model_name": "DescriptionStyleModel",
          "model_module_version": "1.5.0",
          "state": {
            "_model_module": "@jupyter-widgets/controls",
            "_model_module_version": "1.5.0",
            "_model_name": "DescriptionStyleModel",
            "_view_count": null,
            "_view_module": "@jupyter-widgets/base",
            "_view_module_version": "1.2.0",
            "_view_name": "StyleView",
            "description_width": ""
          }
        },
        "0f472224b7c74546ad4fd508108abded": {
          "model_module": "@jupyter-widgets/controls",
          "model_name": "HBoxModel",
          "model_module_version": "1.5.0",
          "state": {
            "_dom_classes": [],
            "_model_module": "@jupyter-widgets/controls",
            "_model_module_version": "1.5.0",
            "_model_name": "HBoxModel",
            "_view_count": null,
            "_view_module": "@jupyter-widgets/controls",
            "_view_module_version": "1.5.0",
            "_view_name": "HBoxView",
            "box_style": "",
            "children": [
              "IPY_MODEL_694c51337ff64f32be49f793120ebc9f",
              "IPY_MODEL_297c2828ea6242e7acbf27b61cef9285",
              "IPY_MODEL_7ad94e0ec5f442668b910a72a45f884e"
            ],
            "layout": "IPY_MODEL_32487724a3e24dfa861405e02dc84263"
          }
        },
        "694c51337ff64f32be49f793120ebc9f": {
          "model_module": "@jupyter-widgets/controls",
          "model_name": "HTMLModel",
          "model_module_version": "1.5.0",
          "state": {
            "_dom_classes": [],
            "_model_module": "@jupyter-widgets/controls",
            "_model_module_version": "1.5.0",
            "_model_name": "HTMLModel",
            "_view_count": null,
            "_view_module": "@jupyter-widgets/controls",
            "_view_module_version": "1.5.0",
            "_view_name": "HTMLView",
            "description": "",
            "description_tooltip": null,
            "layout": "IPY_MODEL_35de9b10123445009497071a5bd9698f",
            "placeholder": "​",
            "style": "IPY_MODEL_fd737892ea8a4a5faf9d356cbe5e2a01",
            "value": "Downloading: 100%"
          }
        },
        "297c2828ea6242e7acbf27b61cef9285": {
          "model_module": "@jupyter-widgets/controls",
          "model_name": "FloatProgressModel",
          "model_module_version": "1.5.0",
          "state": {
            "_dom_classes": [],
            "_model_module": "@jupyter-widgets/controls",
            "_model_module_version": "1.5.0",
            "_model_name": "FloatProgressModel",
            "_view_count": null,
            "_view_module": "@jupyter-widgets/controls",
            "_view_module_version": "1.5.0",
            "_view_name": "ProgressView",
            "bar_style": "success",
            "description": "",
            "description_tooltip": null,
            "layout": "IPY_MODEL_736fc11439bc45fcbdda4fb15a9c0d68",
            "max": 375,
            "min": 0,
            "orientation": "horizontal",
            "style": "IPY_MODEL_b5bed9bc8b1b43ff9b4a48196feebc9a",
            "value": 375
          }
        },
        "7ad94e0ec5f442668b910a72a45f884e": {
          "model_module": "@jupyter-widgets/controls",
          "model_name": "HTMLModel",
          "model_module_version": "1.5.0",
          "state": {
            "_dom_classes": [],
            "_model_module": "@jupyter-widgets/controls",
            "_model_module_version": "1.5.0",
            "_model_name": "HTMLModel",
            "_view_count": null,
            "_view_module": "@jupyter-widgets/controls",
            "_view_module_version": "1.5.0",
            "_view_name": "HTMLView",
            "description": "",
            "description_tooltip": null,
            "layout": "IPY_MODEL_d3e36d1fb75846a5af855b6989b5502b",
            "placeholder": "​",
            "style": "IPY_MODEL_531fd5070b1b4690b3b6eb1773c65b40",
            "value": " 375/375 [00:00&lt;00:00, 4.89kB/s]"
          }
        },
        "32487724a3e24dfa861405e02dc84263": {
          "model_module": "@jupyter-widgets/base",
          "model_name": "LayoutModel",
          "model_module_version": "1.2.0",
          "state": {
            "_model_module": "@jupyter-widgets/base",
            "_model_module_version": "1.2.0",
            "_model_name": "LayoutModel",
            "_view_count": null,
            "_view_module": "@jupyter-widgets/base",
            "_view_module_version": "1.2.0",
            "_view_name": "LayoutView",
            "align_content": null,
            "align_items": null,
            "align_self": null,
            "border": null,
            "bottom": null,
            "display": null,
            "flex": null,
            "flex_flow": null,
            "grid_area": null,
            "grid_auto_columns": null,
            "grid_auto_flow": null,
            "grid_auto_rows": null,
            "grid_column": null,
            "grid_gap": null,
            "grid_row": null,
            "grid_template_areas": null,
            "grid_template_columns": null,
            "grid_template_rows": null,
            "height": null,
            "justify_content": null,
            "justify_items": null,
            "left": null,
            "margin": null,
            "max_height": null,
            "max_width": null,
            "min_height": null,
            "min_width": null,
            "object_fit": null,
            "object_position": null,
            "order": null,
            "overflow": null,
            "overflow_x": null,
            "overflow_y": null,
            "padding": null,
            "right": null,
            "top": null,
            "visibility": null,
            "width": null
          }
        },
        "35de9b10123445009497071a5bd9698f": {
          "model_module": "@jupyter-widgets/base",
          "model_name": "LayoutModel",
          "model_module_version": "1.2.0",
          "state": {
            "_model_module": "@jupyter-widgets/base",
            "_model_module_version": "1.2.0",
            "_model_name": "LayoutModel",
            "_view_count": null,
            "_view_module": "@jupyter-widgets/base",
            "_view_module_version": "1.2.0",
            "_view_name": "LayoutView",
            "align_content": null,
            "align_items": null,
            "align_self": null,
            "border": null,
            "bottom": null,
            "display": null,
            "flex": null,
            "flex_flow": null,
            "grid_area": null,
            "grid_auto_columns": null,
            "grid_auto_flow": null,
            "grid_auto_rows": null,
            "grid_column": null,
            "grid_gap": null,
            "grid_row": null,
            "grid_template_areas": null,
            "grid_template_columns": null,
            "grid_template_rows": null,
            "height": null,
            "justify_content": null,
            "justify_items": null,
            "left": null,
            "margin": null,
            "max_height": null,
            "max_width": null,
            "min_height": null,
            "min_width": null,
            "object_fit": null,
            "object_position": null,
            "order": null,
            "overflow": null,
            "overflow_x": null,
            "overflow_y": null,
            "padding": null,
            "right": null,
            "top": null,
            "visibility": null,
            "width": null
          }
        },
        "fd737892ea8a4a5faf9d356cbe5e2a01": {
          "model_module": "@jupyter-widgets/controls",
          "model_name": "DescriptionStyleModel",
          "model_module_version": "1.5.0",
          "state": {
            "_model_module": "@jupyter-widgets/controls",
            "_model_module_version": "1.5.0",
            "_model_name": "DescriptionStyleModel",
            "_view_count": null,
            "_view_module": "@jupyter-widgets/base",
            "_view_module_version": "1.2.0",
            "_view_name": "StyleView",
            "description_width": ""
          }
        },
        "736fc11439bc45fcbdda4fb15a9c0d68": {
          "model_module": "@jupyter-widgets/base",
          "model_name": "LayoutModel",
          "model_module_version": "1.2.0",
          "state": {
            "_model_module": "@jupyter-widgets/base",
            "_model_module_version": "1.2.0",
            "_model_name": "LayoutModel",
            "_view_count": null,
            "_view_module": "@jupyter-widgets/base",
            "_view_module_version": "1.2.0",
            "_view_name": "LayoutView",
            "align_content": null,
            "align_items": null,
            "align_self": null,
            "border": null,
            "bottom": null,
            "display": null,
            "flex": null,
            "flex_flow": null,
            "grid_area": null,
            "grid_auto_columns": null,
            "grid_auto_flow": null,
            "grid_auto_rows": null,
            "grid_column": null,
            "grid_gap": null,
            "grid_row": null,
            "grid_template_areas": null,
            "grid_template_columns": null,
            "grid_template_rows": null,
            "height": null,
            "justify_content": null,
            "justify_items": null,
            "left": null,
            "margin": null,
            "max_height": null,
            "max_width": null,
            "min_height": null,
            "min_width": null,
            "object_fit": null,
            "object_position": null,
            "order": null,
            "overflow": null,
            "overflow_x": null,
            "overflow_y": null,
            "padding": null,
            "right": null,
            "top": null,
            "visibility": null,
            "width": null
          }
        },
        "b5bed9bc8b1b43ff9b4a48196feebc9a": {
          "model_module": "@jupyter-widgets/controls",
          "model_name": "ProgressStyleModel",
          "model_module_version": "1.5.0",
          "state": {
            "_model_module": "@jupyter-widgets/controls",
            "_model_module_version": "1.5.0",
            "_model_name": "ProgressStyleModel",
            "_view_count": null,
            "_view_module": "@jupyter-widgets/base",
            "_view_module_version": "1.2.0",
            "_view_name": "StyleView",
            "bar_color": null,
            "description_width": ""
          }
        },
        "d3e36d1fb75846a5af855b6989b5502b": {
          "model_module": "@jupyter-widgets/base",
          "model_name": "LayoutModel",
          "model_module_version": "1.2.0",
          "state": {
            "_model_module": "@jupyter-widgets/base",
            "_model_module_version": "1.2.0",
            "_model_name": "LayoutModel",
            "_view_count": null,
            "_view_module": "@jupyter-widgets/base",
            "_view_module_version": "1.2.0",
            "_view_name": "LayoutView",
            "align_content": null,
            "align_items": null,
            "align_self": null,
            "border": null,
            "bottom": null,
            "display": null,
            "flex": null,
            "flex_flow": null,
            "grid_area": null,
            "grid_auto_columns": null,
            "grid_auto_flow": null,
            "grid_auto_rows": null,
            "grid_column": null,
            "grid_gap": null,
            "grid_row": null,
            "grid_template_areas": null,
            "grid_template_columns": null,
            "grid_template_rows": null,
            "height": null,
            "justify_content": null,
            "justify_items": null,
            "left": null,
            "margin": null,
            "max_height": null,
            "max_width": null,
            "min_height": null,
            "min_width": null,
            "object_fit": null,
            "object_position": null,
            "order": null,
            "overflow": null,
            "overflow_x": null,
            "overflow_y": null,
            "padding": null,
            "right": null,
            "top": null,
            "visibility": null,
            "width": null
          }
        },
        "531fd5070b1b4690b3b6eb1773c65b40": {
          "model_module": "@jupyter-widgets/controls",
          "model_name": "DescriptionStyleModel",
          "model_module_version": "1.5.0",
          "state": {
            "_model_module": "@jupyter-widgets/controls",
            "_model_module_version": "1.5.0",
            "_model_name": "DescriptionStyleModel",
            "_view_count": null,
            "_view_module": "@jupyter-widgets/base",
            "_view_module_version": "1.2.0",
            "_view_name": "StyleView",
            "description_width": ""
          }
        },
        "749ec2bab6704a858f5de29636db4222": {
          "model_module": "@jupyter-widgets/controls",
          "model_name": "HBoxModel",
          "model_module_version": "1.5.0",
          "state": {
            "_dom_classes": [],
            "_model_module": "@jupyter-widgets/controls",
            "_model_module_version": "1.5.0",
            "_model_name": "HBoxModel",
            "_view_count": null,
            "_view_module": "@jupyter-widgets/controls",
            "_view_module_version": "1.5.0",
            "_view_name": "HBoxView",
            "box_style": "",
            "children": [
              "IPY_MODEL_5b29beec58e7416ab7025f4dbe6c5f55",
              "IPY_MODEL_cc6d3ffd3d1a483d94d2505dfff3d6e3",
              "IPY_MODEL_dbc6b76439bc4ef1a86f6ca62629e3ad"
            ],
            "layout": "IPY_MODEL_9b04c3d65d224b5086014ccc565e8b3b"
          }
        },
        "5b29beec58e7416ab7025f4dbe6c5f55": {
          "model_module": "@jupyter-widgets/controls",
          "model_name": "HTMLModel",
          "model_module_version": "1.5.0",
          "state": {
            "_dom_classes": [],
            "_model_module": "@jupyter-widgets/controls",
            "_model_module_version": "1.5.0",
            "_model_name": "HTMLModel",
            "_view_count": null,
            "_view_module": "@jupyter-widgets/controls",
            "_view_module_version": "1.5.0",
            "_view_name": "HTMLView",
            "description": "",
            "description_tooltip": null,
            "layout": "IPY_MODEL_7301bdba6a064ac7af3f03bc1a02d3e0",
            "placeholder": "​",
            "style": "IPY_MODEL_05cda8cdddc941ff9c5c6cfdad024511",
            "value": "Downloading: 100%"
          }
        },
        "cc6d3ffd3d1a483d94d2505dfff3d6e3": {
          "model_module": "@jupyter-widgets/controls",
          "model_name": "FloatProgressModel",
          "model_module_version": "1.5.0",
          "state": {
            "_dom_classes": [],
            "_model_module": "@jupyter-widgets/controls",
            "_model_module_version": "1.5.0",
            "_model_name": "FloatProgressModel",
            "_view_count": null,
            "_view_module": "@jupyter-widgets/controls",
            "_view_module_version": "1.5.0",
            "_view_name": "ProgressView",
            "bar_style": "success",
            "description": "",
            "description_tooltip": null,
            "layout": "IPY_MODEL_6b4b6d06a7384c48a1d8a05516920049",
            "max": 248477,
            "min": 0,
            "orientation": "horizontal",
            "style": "IPY_MODEL_0d8211f6de484d33bbc97f7bac2c3278",
            "value": 248477
          }
        },
        "dbc6b76439bc4ef1a86f6ca62629e3ad": {
          "model_module": "@jupyter-widgets/controls",
          "model_name": "HTMLModel",
          "model_module_version": "1.5.0",
          "state": {
            "_dom_classes": [],
            "_model_module": "@jupyter-widgets/controls",
            "_model_module_version": "1.5.0",
            "_model_name": "HTMLModel",
            "_view_count": null,
            "_view_module": "@jupyter-widgets/controls",
            "_view_module_version": "1.5.0",
            "_view_name": "HTMLView",
            "description": "",
            "description_tooltip": null,
            "layout": "IPY_MODEL_0fd76a649dfd44a4905ad22d5fecc341",
            "placeholder": "​",
            "style": "IPY_MODEL_7a2b797b68b544e6bff40f8ed0d97ef7",
            "value": " 248k/248k [00:00&lt;00:00, 288kB/s]"
          }
        },
        "9b04c3d65d224b5086014ccc565e8b3b": {
          "model_module": "@jupyter-widgets/base",
          "model_name": "LayoutModel",
          "model_module_version": "1.2.0",
          "state": {
            "_model_module": "@jupyter-widgets/base",
            "_model_module_version": "1.2.0",
            "_model_name": "LayoutModel",
            "_view_count": null,
            "_view_module": "@jupyter-widgets/base",
            "_view_module_version": "1.2.0",
            "_view_name": "LayoutView",
            "align_content": null,
            "align_items": null,
            "align_self": null,
            "border": null,
            "bottom": null,
            "display": null,
            "flex": null,
            "flex_flow": null,
            "grid_area": null,
            "grid_auto_columns": null,
            "grid_auto_flow": null,
            "grid_auto_rows": null,
            "grid_column": null,
            "grid_gap": null,
            "grid_row": null,
            "grid_template_areas": null,
            "grid_template_columns": null,
            "grid_template_rows": null,
            "height": null,
            "justify_content": null,
            "justify_items": null,
            "left": null,
            "margin": null,
            "max_height": null,
            "max_width": null,
            "min_height": null,
            "min_width": null,
            "object_fit": null,
            "object_position": null,
            "order": null,
            "overflow": null,
            "overflow_x": null,
            "overflow_y": null,
            "padding": null,
            "right": null,
            "top": null,
            "visibility": null,
            "width": null
          }
        },
        "7301bdba6a064ac7af3f03bc1a02d3e0": {
          "model_module": "@jupyter-widgets/base",
          "model_name": "LayoutModel",
          "model_module_version": "1.2.0",
          "state": {
            "_model_module": "@jupyter-widgets/base",
            "_model_module_version": "1.2.0",
            "_model_name": "LayoutModel",
            "_view_count": null,
            "_view_module": "@jupyter-widgets/base",
            "_view_module_version": "1.2.0",
            "_view_name": "LayoutView",
            "align_content": null,
            "align_items": null,
            "align_self": null,
            "border": null,
            "bottom": null,
            "display": null,
            "flex": null,
            "flex_flow": null,
            "grid_area": null,
            "grid_auto_columns": null,
            "grid_auto_flow": null,
            "grid_auto_rows": null,
            "grid_column": null,
            "grid_gap": null,
            "grid_row": null,
            "grid_template_areas": null,
            "grid_template_columns": null,
            "grid_template_rows": null,
            "height": null,
            "justify_content": null,
            "justify_items": null,
            "left": null,
            "margin": null,
            "max_height": null,
            "max_width": null,
            "min_height": null,
            "min_width": null,
            "object_fit": null,
            "object_position": null,
            "order": null,
            "overflow": null,
            "overflow_x": null,
            "overflow_y": null,
            "padding": null,
            "right": null,
            "top": null,
            "visibility": null,
            "width": null
          }
        },
        "05cda8cdddc941ff9c5c6cfdad024511": {
          "model_module": "@jupyter-widgets/controls",
          "model_name": "DescriptionStyleModel",
          "model_module_version": "1.5.0",
          "state": {
            "_model_module": "@jupyter-widgets/controls",
            "_model_module_version": "1.5.0",
            "_model_name": "DescriptionStyleModel",
            "_view_count": null,
            "_view_module": "@jupyter-widgets/base",
            "_view_module_version": "1.2.0",
            "_view_name": "StyleView",
            "description_width": ""
          }
        },
        "6b4b6d06a7384c48a1d8a05516920049": {
          "model_module": "@jupyter-widgets/base",
          "model_name": "LayoutModel",
          "model_module_version": "1.2.0",
          "state": {
            "_model_module": "@jupyter-widgets/base",
            "_model_module_version": "1.2.0",
            "_model_name": "LayoutModel",
            "_view_count": null,
            "_view_module": "@jupyter-widgets/base",
            "_view_module_version": "1.2.0",
            "_view_name": "LayoutView",
            "align_content": null,
            "align_items": null,
            "align_self": null,
            "border": null,
            "bottom": null,
            "display": null,
            "flex": null,
            "flex_flow": null,
            "grid_area": null,
            "grid_auto_columns": null,
            "grid_auto_flow": null,
            "grid_auto_rows": null,
            "grid_column": null,
            "grid_gap": null,
            "grid_row": null,
            "grid_template_areas": null,
            "grid_template_columns": null,
            "grid_template_rows": null,
            "height": null,
            "justify_content": null,
            "justify_items": null,
            "left": null,
            "margin": null,
            "max_height": null,
            "max_width": null,
            "min_height": null,
            "min_width": null,
            "object_fit": null,
            "object_position": null,
            "order": null,
            "overflow": null,
            "overflow_x": null,
            "overflow_y": null,
            "padding": null,
            "right": null,
            "top": null,
            "visibility": null,
            "width": null
          }
        },
        "0d8211f6de484d33bbc97f7bac2c3278": {
          "model_module": "@jupyter-widgets/controls",
          "model_name": "ProgressStyleModel",
          "model_module_version": "1.5.0",
          "state": {
            "_model_module": "@jupyter-widgets/controls",
            "_model_module_version": "1.5.0",
            "_model_name": "ProgressStyleModel",
            "_view_count": null,
            "_view_module": "@jupyter-widgets/base",
            "_view_module_version": "1.2.0",
            "_view_name": "StyleView",
            "bar_color": null,
            "description_width": ""
          }
        },
        "0fd76a649dfd44a4905ad22d5fecc341": {
          "model_module": "@jupyter-widgets/base",
          "model_name": "LayoutModel",
          "model_module_version": "1.2.0",
          "state": {
            "_model_module": "@jupyter-widgets/base",
            "_model_module_version": "1.2.0",
            "_model_name": "LayoutModel",
            "_view_count": null,
            "_view_module": "@jupyter-widgets/base",
            "_view_module_version": "1.2.0",
            "_view_name": "LayoutView",
            "align_content": null,
            "align_items": null,
            "align_self": null,
            "border": null,
            "bottom": null,
            "display": null,
            "flex": null,
            "flex_flow": null,
            "grid_area": null,
            "grid_auto_columns": null,
            "grid_auto_flow": null,
            "grid_auto_rows": null,
            "grid_column": null,
            "grid_gap": null,
            "grid_row": null,
            "grid_template_areas": null,
            "grid_template_columns": null,
            "grid_template_rows": null,
            "height": null,
            "justify_content": null,
            "justify_items": null,
            "left": null,
            "margin": null,
            "max_height": null,
            "max_width": null,
            "min_height": null,
            "min_width": null,
            "object_fit": null,
            "object_position": null,
            "order": null,
            "overflow": null,
            "overflow_x": null,
            "overflow_y": null,
            "padding": null,
            "right": null,
            "top": null,
            "visibility": null,
            "width": null
          }
        },
        "7a2b797b68b544e6bff40f8ed0d97ef7": {
          "model_module": "@jupyter-widgets/controls",
          "model_name": "DescriptionStyleModel",
          "model_module_version": "1.5.0",
          "state": {
            "_model_module": "@jupyter-widgets/controls",
            "_model_module_version": "1.5.0",
            "_model_name": "DescriptionStyleModel",
            "_view_count": null,
            "_view_module": "@jupyter-widgets/base",
            "_view_module_version": "1.2.0",
            "_view_name": "StyleView",
            "description_width": ""
          }
        },
        "ed071b26777a4bf3a23636f7654f2dfe": {
          "model_module": "@jupyter-widgets/controls",
          "model_name": "HBoxModel",
          "model_module_version": "1.5.0",
          "state": {
            "_dom_classes": [],
            "_model_module": "@jupyter-widgets/controls",
            "_model_module_version": "1.5.0",
            "_model_name": "HBoxModel",
            "_view_count": null,
            "_view_module": "@jupyter-widgets/controls",
            "_view_module_version": "1.5.0",
            "_view_name": "HBoxView",
            "box_style": "",
            "children": [
              "IPY_MODEL_4ec82997fa6e48a1bb79c64c20e3e76b",
              "IPY_MODEL_7b2f6a1103ee41fe8dbbfa7d99eaf8b1",
              "IPY_MODEL_e1303929e1be407ba7d27aec573a90f0"
            ],
            "layout": "IPY_MODEL_8dea1602624f4803b8babff7254a371b"
          }
        },
        "4ec82997fa6e48a1bb79c64c20e3e76b": {
          "model_module": "@jupyter-widgets/controls",
          "model_name": "HTMLModel",
          "model_module_version": "1.5.0",
          "state": {
            "_dom_classes": [],
            "_model_module": "@jupyter-widgets/controls",
            "_model_module_version": "1.5.0",
            "_model_name": "HTMLModel",
            "_view_count": null,
            "_view_module": "@jupyter-widgets/controls",
            "_view_module_version": "1.5.0",
            "_view_name": "HTMLView",
            "description": "",
            "description_tooltip": null,
            "layout": "IPY_MODEL_194ade1f74454d1fb40f763bcdcbacb1",
            "placeholder": "​",
            "style": "IPY_MODEL_f83018fcf88543508ac3f05ff5e822fd",
            "value": "Downloading: 100%"
          }
        },
        "7b2f6a1103ee41fe8dbbfa7d99eaf8b1": {
          "model_module": "@jupyter-widgets/controls",
          "model_name": "FloatProgressModel",
          "model_module_version": "1.5.0",
          "state": {
            "_dom_classes": [],
            "_model_module": "@jupyter-widgets/controls",
            "_model_module_version": "1.5.0",
            "_model_name": "FloatProgressModel",
            "_view_count": null,
            "_view_module": "@jupyter-widgets/controls",
            "_view_module_version": "1.5.0",
            "_view_name": "ProgressView",
            "bar_style": "success",
            "description": "",
            "description_tooltip": null,
            "layout": "IPY_MODEL_ba7fd8e08bf147a1affda6aeccd770c8",
            "max": 751504,
            "min": 0,
            "orientation": "horizontal",
            "style": "IPY_MODEL_f382854943964ca1ac393db2d23e1845",
            "value": 751504
          }
        },
        "e1303929e1be407ba7d27aec573a90f0": {
          "model_module": "@jupyter-widgets/controls",
          "model_name": "HTMLModel",
          "model_module_version": "1.5.0",
          "state": {
            "_dom_classes": [],
            "_model_module": "@jupyter-widgets/controls",
            "_model_module_version": "1.5.0",
            "_model_name": "HTMLModel",
            "_view_count": null,
            "_view_module": "@jupyter-widgets/controls",
            "_view_module_version": "1.5.0",
            "_view_name": "HTMLView",
            "description": "",
            "description_tooltip": null,
            "layout": "IPY_MODEL_fca833610210407fa1af2aea9028582b",
            "placeholder": "​",
            "style": "IPY_MODEL_5d3426b6aa33476583ab613a7f7b9832",
            "value": " 752k/752k [00:01&lt;00:00, 497kB/s]"
          }
        },
        "8dea1602624f4803b8babff7254a371b": {
          "model_module": "@jupyter-widgets/base",
          "model_name": "LayoutModel",
          "model_module_version": "1.2.0",
          "state": {
            "_model_module": "@jupyter-widgets/base",
            "_model_module_version": "1.2.0",
            "_model_name": "LayoutModel",
            "_view_count": null,
            "_view_module": "@jupyter-widgets/base",
            "_view_module_version": "1.2.0",
            "_view_name": "LayoutView",
            "align_content": null,
            "align_items": null,
            "align_self": null,
            "border": null,
            "bottom": null,
            "display": null,
            "flex": null,
            "flex_flow": null,
            "grid_area": null,
            "grid_auto_columns": null,
            "grid_auto_flow": null,
            "grid_auto_rows": null,
            "grid_column": null,
            "grid_gap": null,
            "grid_row": null,
            "grid_template_areas": null,
            "grid_template_columns": null,
            "grid_template_rows": null,
            "height": null,
            "justify_content": null,
            "justify_items": null,
            "left": null,
            "margin": null,
            "max_height": null,
            "max_width": null,
            "min_height": null,
            "min_width": null,
            "object_fit": null,
            "object_position": null,
            "order": null,
            "overflow": null,
            "overflow_x": null,
            "overflow_y": null,
            "padding": null,
            "right": null,
            "top": null,
            "visibility": null,
            "width": null
          }
        },
        "194ade1f74454d1fb40f763bcdcbacb1": {
          "model_module": "@jupyter-widgets/base",
          "model_name": "LayoutModel",
          "model_module_version": "1.2.0",
          "state": {
            "_model_module": "@jupyter-widgets/base",
            "_model_module_version": "1.2.0",
            "_model_name": "LayoutModel",
            "_view_count": null,
            "_view_module": "@jupyter-widgets/base",
            "_view_module_version": "1.2.0",
            "_view_name": "LayoutView",
            "align_content": null,
            "align_items": null,
            "align_self": null,
            "border": null,
            "bottom": null,
            "display": null,
            "flex": null,
            "flex_flow": null,
            "grid_area": null,
            "grid_auto_columns": null,
            "grid_auto_flow": null,
            "grid_auto_rows": null,
            "grid_column": null,
            "grid_gap": null,
            "grid_row": null,
            "grid_template_areas": null,
            "grid_template_columns": null,
            "grid_template_rows": null,
            "height": null,
            "justify_content": null,
            "justify_items": null,
            "left": null,
            "margin": null,
            "max_height": null,
            "max_width": null,
            "min_height": null,
            "min_width": null,
            "object_fit": null,
            "object_position": null,
            "order": null,
            "overflow": null,
            "overflow_x": null,
            "overflow_y": null,
            "padding": null,
            "right": null,
            "top": null,
            "visibility": null,
            "width": null
          }
        },
        "f83018fcf88543508ac3f05ff5e822fd": {
          "model_module": "@jupyter-widgets/controls",
          "model_name": "DescriptionStyleModel",
          "model_module_version": "1.5.0",
          "state": {
            "_model_module": "@jupyter-widgets/controls",
            "_model_module_version": "1.5.0",
            "_model_name": "DescriptionStyleModel",
            "_view_count": null,
            "_view_module": "@jupyter-widgets/base",
            "_view_module_version": "1.2.0",
            "_view_name": "StyleView",
            "description_width": ""
          }
        },
        "ba7fd8e08bf147a1affda6aeccd770c8": {
          "model_module": "@jupyter-widgets/base",
          "model_name": "LayoutModel",
          "model_module_version": "1.2.0",
          "state": {
            "_model_module": "@jupyter-widgets/base",
            "_model_module_version": "1.2.0",
            "_model_name": "LayoutModel",
            "_view_count": null,
            "_view_module": "@jupyter-widgets/base",
            "_view_module_version": "1.2.0",
            "_view_name": "LayoutView",
            "align_content": null,
            "align_items": null,
            "align_self": null,
            "border": null,
            "bottom": null,
            "display": null,
            "flex": null,
            "flex_flow": null,
            "grid_area": null,
            "grid_auto_columns": null,
            "grid_auto_flow": null,
            "grid_auto_rows": null,
            "grid_column": null,
            "grid_gap": null,
            "grid_row": null,
            "grid_template_areas": null,
            "grid_template_columns": null,
            "grid_template_rows": null,
            "height": null,
            "justify_content": null,
            "justify_items": null,
            "left": null,
            "margin": null,
            "max_height": null,
            "max_width": null,
            "min_height": null,
            "min_width": null,
            "object_fit": null,
            "object_position": null,
            "order": null,
            "overflow": null,
            "overflow_x": null,
            "overflow_y": null,
            "padding": null,
            "right": null,
            "top": null,
            "visibility": null,
            "width": null
          }
        },
        "f382854943964ca1ac393db2d23e1845": {
          "model_module": "@jupyter-widgets/controls",
          "model_name": "ProgressStyleModel",
          "model_module_version": "1.5.0",
          "state": {
            "_model_module": "@jupyter-widgets/controls",
            "_model_module_version": "1.5.0",
            "_model_name": "ProgressStyleModel",
            "_view_count": null,
            "_view_module": "@jupyter-widgets/base",
            "_view_module_version": "1.2.0",
            "_view_name": "StyleView",
            "bar_color": null,
            "description_width": ""
          }
        },
        "fca833610210407fa1af2aea9028582b": {
          "model_module": "@jupyter-widgets/base",
          "model_name": "LayoutModel",
          "model_module_version": "1.2.0",
          "state": {
            "_model_module": "@jupyter-widgets/base",
            "_model_module_version": "1.2.0",
            "_model_name": "LayoutModel",
            "_view_count": null,
            "_view_module": "@jupyter-widgets/base",
            "_view_module_version": "1.2.0",
            "_view_name": "LayoutView",
            "align_content": null,
            "align_items": null,
            "align_self": null,
            "border": null,
            "bottom": null,
            "display": null,
            "flex": null,
            "flex_flow": null,
            "grid_area": null,
            "grid_auto_columns": null,
            "grid_auto_flow": null,
            "grid_auto_rows": null,
            "grid_column": null,
            "grid_gap": null,
            "grid_row": null,
            "grid_template_areas": null,
            "grid_template_columns": null,
            "grid_template_rows": null,
            "height": null,
            "justify_content": null,
            "justify_items": null,
            "left": null,
            "margin": null,
            "max_height": null,
            "max_width": null,
            "min_height": null,
            "min_width": null,
            "object_fit": null,
            "object_position": null,
            "order": null,
            "overflow": null,
            "overflow_x": null,
            "overflow_y": null,
            "padding": null,
            "right": null,
            "top": null,
            "visibility": null,
            "width": null
          }
        },
        "5d3426b6aa33476583ab613a7f7b9832": {
          "model_module": "@jupyter-widgets/controls",
          "model_name": "DescriptionStyleModel",
          "model_module_version": "1.5.0",
          "state": {
            "_model_module": "@jupyter-widgets/controls",
            "_model_module_version": "1.5.0",
            "_model_name": "DescriptionStyleModel",
            "_view_count": null,
            "_view_module": "@jupyter-widgets/base",
            "_view_module_version": "1.2.0",
            "_view_name": "StyleView",
            "description_width": ""
          }
        },
        "bf61948902824faba98515645d734e6f": {
          "model_module": "@jupyter-widgets/controls",
          "model_name": "HBoxModel",
          "model_module_version": "1.5.0",
          "state": {
            "_dom_classes": [],
            "_model_module": "@jupyter-widgets/controls",
            "_model_module_version": "1.5.0",
            "_model_name": "HBoxModel",
            "_view_count": null,
            "_view_module": "@jupyter-widgets/controls",
            "_view_module_version": "1.5.0",
            "_view_name": "HBoxView",
            "box_style": "",
            "children": [
              "IPY_MODEL_1644e977be7746009d22e4e563299209",
              "IPY_MODEL_3eaf318eba7b4df2916d18773ac127dd",
              "IPY_MODEL_c00dd23190b143e48c3bdfe3eec2ae30"
            ],
            "layout": "IPY_MODEL_55aa5257ee904d1393c88cfbc81eeac4"
          }
        },
        "1644e977be7746009d22e4e563299209": {
          "model_module": "@jupyter-widgets/controls",
          "model_name": "HTMLModel",
          "model_module_version": "1.5.0",
          "state": {
            "_dom_classes": [],
            "_model_module": "@jupyter-widgets/controls",
            "_model_module_version": "1.5.0",
            "_model_name": "HTMLModel",
            "_view_count": null,
            "_view_module": "@jupyter-widgets/controls",
            "_view_module_version": "1.5.0",
            "_view_name": "HTMLView",
            "description": "",
            "description_tooltip": null,
            "layout": "IPY_MODEL_b524c87b8b5b4d359b5ecee5173072aa",
            "placeholder": "​",
            "style": "IPY_MODEL_703a74e85c5141d1a635a479a5803837",
            "value": "Downloading: 100%"
          }
        },
        "3eaf318eba7b4df2916d18773ac127dd": {
          "model_module": "@jupyter-widgets/controls",
          "model_name": "FloatProgressModel",
          "model_module_version": "1.5.0",
          "state": {
            "_dom_classes": [],
            "_model_module": "@jupyter-widgets/controls",
            "_model_module_version": "1.5.0",
            "_model_name": "FloatProgressModel",
            "_view_count": null,
            "_view_module": "@jupyter-widgets/controls",
            "_view_module_version": "1.5.0",
            "_view_name": "ProgressView",
            "bar_style": "success",
            "description": "",
            "description_tooltip": null,
            "layout": "IPY_MODEL_5b4bab64d3454e358b2208cd4830bbf3",
            "max": 173,
            "min": 0,
            "orientation": "horizontal",
            "style": "IPY_MODEL_25a752c842df476c99907d4468e41bb3",
            "value": 173
          }
        },
        "c00dd23190b143e48c3bdfe3eec2ae30": {
          "model_module": "@jupyter-widgets/controls",
          "model_name": "HTMLModel",
          "model_module_version": "1.5.0",
          "state": {
            "_dom_classes": [],
            "_model_module": "@jupyter-widgets/controls",
            "_model_module_version": "1.5.0",
            "_model_name": "HTMLModel",
            "_view_count": null,
            "_view_module": "@jupyter-widgets/controls",
            "_view_module_version": "1.5.0",
            "_view_name": "HTMLView",
            "description": "",
            "description_tooltip": null,
            "layout": "IPY_MODEL_bbdd75451a0940ed9eca55bd84d7da63",
            "placeholder": "​",
            "style": "IPY_MODEL_42fb0e27edc7401e9700fb36185051af",
            "value": " 173/173 [00:00&lt;00:00, 6.01kB/s]"
          }
        },
        "55aa5257ee904d1393c88cfbc81eeac4": {
          "model_module": "@jupyter-widgets/base",
          "model_name": "LayoutModel",
          "model_module_version": "1.2.0",
          "state": {
            "_model_module": "@jupyter-widgets/base",
            "_model_module_version": "1.2.0",
            "_model_name": "LayoutModel",
            "_view_count": null,
            "_view_module": "@jupyter-widgets/base",
            "_view_module_version": "1.2.0",
            "_view_name": "LayoutView",
            "align_content": null,
            "align_items": null,
            "align_self": null,
            "border": null,
            "bottom": null,
            "display": null,
            "flex": null,
            "flex_flow": null,
            "grid_area": null,
            "grid_auto_columns": null,
            "grid_auto_flow": null,
            "grid_auto_rows": null,
            "grid_column": null,
            "grid_gap": null,
            "grid_row": null,
            "grid_template_areas": null,
            "grid_template_columns": null,
            "grid_template_rows": null,
            "height": null,
            "justify_content": null,
            "justify_items": null,
            "left": null,
            "margin": null,
            "max_height": null,
            "max_width": null,
            "min_height": null,
            "min_width": null,
            "object_fit": null,
            "object_position": null,
            "order": null,
            "overflow": null,
            "overflow_x": null,
            "overflow_y": null,
            "padding": null,
            "right": null,
            "top": null,
            "visibility": null,
            "width": null
          }
        },
        "b524c87b8b5b4d359b5ecee5173072aa": {
          "model_module": "@jupyter-widgets/base",
          "model_name": "LayoutModel",
          "model_module_version": "1.2.0",
          "state": {
            "_model_module": "@jupyter-widgets/base",
            "_model_module_version": "1.2.0",
            "_model_name": "LayoutModel",
            "_view_count": null,
            "_view_module": "@jupyter-widgets/base",
            "_view_module_version": "1.2.0",
            "_view_name": "LayoutView",
            "align_content": null,
            "align_items": null,
            "align_self": null,
            "border": null,
            "bottom": null,
            "display": null,
            "flex": null,
            "flex_flow": null,
            "grid_area": null,
            "grid_auto_columns": null,
            "grid_auto_flow": null,
            "grid_auto_rows": null,
            "grid_column": null,
            "grid_gap": null,
            "grid_row": null,
            "grid_template_areas": null,
            "grid_template_columns": null,
            "grid_template_rows": null,
            "height": null,
            "justify_content": null,
            "justify_items": null,
            "left": null,
            "margin": null,
            "max_height": null,
            "max_width": null,
            "min_height": null,
            "min_width": null,
            "object_fit": null,
            "object_position": null,
            "order": null,
            "overflow": null,
            "overflow_x": null,
            "overflow_y": null,
            "padding": null,
            "right": null,
            "top": null,
            "visibility": null,
            "width": null
          }
        },
        "703a74e85c5141d1a635a479a5803837": {
          "model_module": "@jupyter-widgets/controls",
          "model_name": "DescriptionStyleModel",
          "model_module_version": "1.5.0",
          "state": {
            "_model_module": "@jupyter-widgets/controls",
            "_model_module_version": "1.5.0",
            "_model_name": "DescriptionStyleModel",
            "_view_count": null,
            "_view_module": "@jupyter-widgets/base",
            "_view_module_version": "1.2.0",
            "_view_name": "StyleView",
            "description_width": ""
          }
        },
        "5b4bab64d3454e358b2208cd4830bbf3": {
          "model_module": "@jupyter-widgets/base",
          "model_name": "LayoutModel",
          "model_module_version": "1.2.0",
          "state": {
            "_model_module": "@jupyter-widgets/base",
            "_model_module_version": "1.2.0",
            "_model_name": "LayoutModel",
            "_view_count": null,
            "_view_module": "@jupyter-widgets/base",
            "_view_module_version": "1.2.0",
            "_view_name": "LayoutView",
            "align_content": null,
            "align_items": null,
            "align_self": null,
            "border": null,
            "bottom": null,
            "display": null,
            "flex": null,
            "flex_flow": null,
            "grid_area": null,
            "grid_auto_columns": null,
            "grid_auto_flow": null,
            "grid_auto_rows": null,
            "grid_column": null,
            "grid_gap": null,
            "grid_row": null,
            "grid_template_areas": null,
            "grid_template_columns": null,
            "grid_template_rows": null,
            "height": null,
            "justify_content": null,
            "justify_items": null,
            "left": null,
            "margin": null,
            "max_height": null,
            "max_width": null,
            "min_height": null,
            "min_width": null,
            "object_fit": null,
            "object_position": null,
            "order": null,
            "overflow": null,
            "overflow_x": null,
            "overflow_y": null,
            "padding": null,
            "right": null,
            "top": null,
            "visibility": null,
            "width": null
          }
        },
        "25a752c842df476c99907d4468e41bb3": {
          "model_module": "@jupyter-widgets/controls",
          "model_name": "ProgressStyleModel",
          "model_module_version": "1.5.0",
          "state": {
            "_model_module": "@jupyter-widgets/controls",
            "_model_module_version": "1.5.0",
            "_model_name": "ProgressStyleModel",
            "_view_count": null,
            "_view_module": "@jupyter-widgets/base",
            "_view_module_version": "1.2.0",
            "_view_name": "StyleView",
            "bar_color": null,
            "description_width": ""
          }
        },
        "bbdd75451a0940ed9eca55bd84d7da63": {
          "model_module": "@jupyter-widgets/base",
          "model_name": "LayoutModel",
          "model_module_version": "1.2.0",
          "state": {
            "_model_module": "@jupyter-widgets/base",
            "_model_module_version": "1.2.0",
            "_model_name": "LayoutModel",
            "_view_count": null,
            "_view_module": "@jupyter-widgets/base",
            "_view_module_version": "1.2.0",
            "_view_name": "LayoutView",
            "align_content": null,
            "align_items": null,
            "align_self": null,
            "border": null,
            "bottom": null,
            "display": null,
            "flex": null,
            "flex_flow": null,
            "grid_area": null,
            "grid_auto_columns": null,
            "grid_auto_flow": null,
            "grid_auto_rows": null,
            "grid_column": null,
            "grid_gap": null,
            "grid_row": null,
            "grid_template_areas": null,
            "grid_template_columns": null,
            "grid_template_rows": null,
            "height": null,
            "justify_content": null,
            "justify_items": null,
            "left": null,
            "margin": null,
            "max_height": null,
            "max_width": null,
            "min_height": null,
            "min_width": null,
            "object_fit": null,
            "object_position": null,
            "order": null,
            "overflow": null,
            "overflow_x": null,
            "overflow_y": null,
            "padding": null,
            "right": null,
            "top": null,
            "visibility": null,
            "width": null
          }
        },
        "42fb0e27edc7401e9700fb36185051af": {
          "model_module": "@jupyter-widgets/controls",
          "model_name": "DescriptionStyleModel",
          "model_module_version": "1.5.0",
          "state": {
            "_model_module": "@jupyter-widgets/controls",
            "_model_module_version": "1.5.0",
            "_model_name": "DescriptionStyleModel",
            "_view_count": null,
            "_view_module": "@jupyter-widgets/base",
            "_view_module_version": "1.2.0",
            "_view_name": "StyleView",
            "description_width": ""
          }
        }
      }
    },
    "accelerator": "GPU",
    "gpuClass": "standard"
  },
  "cells": [
    {
      "cell_type": "markdown",
      "metadata": {
        "id": "view-in-github",
        "colab_type": "text"
      },
      "source": [
        "<a href=\"https://colab.research.google.com/github/ttogle918/AI_practice/blob/main/NSP_STS/klue_roberta_base_activation_function_relu_selu_gelu.ipynb\" target=\"_parent\"><img src=\"https://colab.research.google.com/assets/colab-badge.svg\" alt=\"Open In Colab\"/></a>"
      ]
    },
    {
      "cell_type": "markdown",
      "source": [
        "test : 활성화함수 relu, selu, gelu"
      ],
      "metadata": {
        "id": "rAPDzKo3kBym"
      }
    },
    {
      "cell_type": "markdown",
      "source": [
        "# 패키지 선언"
      ],
      "metadata": {
        "id": "mZuA2bEVvi2J"
      }
    },
    {
      "cell_type": "code",
      "execution_count": null,
      "metadata": {
        "id": "xGTXPNFKr6uO"
      },
      "outputs": [],
      "source": [
        "!pip install pytorch-transformers transformers\n",
        "!pip install sentence-transformers datasets"
      ]
    },
    {
      "cell_type": "code",
      "source": [
        "from google.colab import drive\n",
        "drive.mount('/content/drive')"
      ],
      "metadata": {
        "colab": {
          "base_uri": "https://localhost:8080/"
        },
        "id": "EG7dMjA2vdu-",
        "outputId": "3e7b0dd0-4a6e-462e-edd6-24bb5dc2280f"
      },
      "execution_count": null,
      "outputs": [
        {
          "output_type": "stream",
          "name": "stdout",
          "text": [
            "Mounted at /content/drive\n"
          ]
        }
      ]
    },
    {
      "cell_type": "code",
      "source": [
        "import numpy as np\n",
        "from sklearn.metrics import f1_score\n",
        "from scipy import stats\n",
        "import matplotlib.pyplot as plt\n",
        "from datetime import datetime\n",
        "import time\n",
        "from tqdm import tqdm, tqdm_notebook\n",
        "import re\n",
        "\n",
        "import torch\n",
        "from torch import nn\n",
        "import torch.nn.functional as F\n",
        "import torch.optim as optim\n",
        "from torch.optim import AdamW\n",
        "from torch.nn.utils import clip_grad_norm_\n",
        "from torch.utils.data import Dataset, DataLoader, RandomSampler, SequentialSampler\n",
        "\n",
        "\n",
        "from transformers import AutoTokenizer, AutoModel, RobertaConfig\n",
        "from transformers.optimization import get_cosine_schedule_with_warmup\n",
        "from transformers import get_linear_schedule_with_warmup\n",
        "\n",
        "from sentence_transformers import SentenceTransformer,  LoggingHandler, losses, models, util\n",
        "from sentence_transformers.evaluation import EmbeddingSimilarityEvaluator\n",
        "from sentence_transformers.readers import InputExample"
      ],
      "metadata": {
        "id": "HLpygUqdvb1u"
      },
      "execution_count": null,
      "outputs": []
    },
    {
      "cell_type": "code",
      "source": [
        "# gpu 연산이 가능하면 'cuda:0', 아니면 'cpu' 출력\n",
        "device = torch.device(\"cuda:0\" if torch.cuda.is_available() else \"cpu\")\n",
        "device, torch.cuda.device_count()"
      ],
      "metadata": {
        "colab": {
          "base_uri": "https://localhost:8080/"
        },
        "id": "xg3-VZgUvbs-",
        "outputId": "de345432-e839-43fd-b836-924ae4ad1272"
      },
      "execution_count": null,
      "outputs": [
        {
          "output_type": "execute_result",
          "data": {
            "text/plain": [
              "(device(type='cuda', index=0), 1)"
            ]
          },
          "metadata": {},
          "execution_count": 4
        }
      ]
    },
    {
      "cell_type": "markdown",
      "source": [
        "# Load Dataset : KLUE-STS"
      ],
      "metadata": {
        "id": "F-hrpzuxvlY3"
      }
    },
    {
      "cell_type": "markdown",
      "source": [
        "- 두 문장 사이의 의미론적 유사성 측정\n",
        "  - Label : 0 이상 5 이하 값\n",
        "    - 0 : 의미 중첩 없음\n",
        "    - 5 : 동등\n",
        "    - 성능 : Pearson 상관 계수\n",
        "  - binary Label : label의 값 중 3.0을 임계값으로 하여 0, 1로 나타낸 값\n",
        "    - 0 : Label이 3.0 미만\n",
        "    - 1 : Label이 3.0 이상\n",
        "    - 성능 : F1\n",
        "\n",
        "- 데이터 출처 \n",
        "  - Airbnb ( 구어체 리뷰 )\n",
        "  - 정책 ( 공식 뉴스 )\n",
        "  - paraKQC ( 스마트 홈 쿼리 )\n",
        "  "
      ],
      "metadata": {
        "id": "PYhyPJJ32DWD"
      }
    },
    {
      "cell_type": "code",
      "source": [
        "from datasets import load_dataset\n",
        "dataset = load_dataset('klue', 'sts')\n",
        "dataset, dataset['train'][0]"
      ],
      "metadata": {
        "colab": {
          "base_uri": "https://localhost:8080/",
          "height": 558,
          "referenced_widgets": [
            "4f532776015842e8bdfbe1f076f232e8",
            "32ae881c7e264c1cad0de12b30fd56f3",
            "fb0f88f1d1f843df983f0626e739cea0",
            "b601328ac3254cd99734941443667bb4",
            "17fb0809625945a2b5dd144ed2d9e1d0",
            "7e7cbc7b50694d829344a778e14c3915",
            "42702f3f45dc4780b7ade53c2280dd16",
            "40a4ea8acc6a41c0ae97010721b415b1",
            "ab36e87395404890a129f64a3e67b5eb",
            "4d98e7a90b6348d7bad944995d9768a1",
            "6a79d6ea11534dd2837b3cf83dc40b1b",
            "7797c64d518a429286cd85e6c87aa326",
            "7d65880a36c24421abb18705b4edeb4a",
            "f3b11543a1114befa548e401df6855f7",
            "4e48587849ed474ca49ac9c04e4f4e9e",
            "27ad3e3d769b44c9873ff3dcc9d67433",
            "185e9f9328c340efaabfa4a1a56c6f31",
            "8d2caaceb7084c648921caa2d8b15835",
            "7c4414d9833d4296999cde076c55d61d",
            "0f5b16d08ee14b92ba1072df327f638b",
            "d14f48ed2cca4526a59840c9053d6ea6",
            "794427f47ec747268d0b8d6d9eb876f6",
            "05dc8a2b3b244043ae3424437cb45e7e",
            "ebf4acf7ffc9461bb23cb743061a495d",
            "5e2e811ff5b94e2a8efe88251b244669",
            "67586b929c774ab0b78586fb8b49b187",
            "33be4c776d014b5caaf0066d91b611ab",
            "16fef74ab68a44acad0dc0acd7246651",
            "36b48bc3ce864f0ba63883de09e4e2d0",
            "665f3a12745e4154804ddc0eb909e039",
            "cabfdd9cebdf4a41a71a6a4b2685994c",
            "a260198ede684db6b527aa0bd214b8c1",
            "f7c4ad01c8704affb03645d6e40add72",
            "d1c31e6dcff042dd8b8541e998291d34",
            "4676bdae9eaf4b46854fcdbbcedf3cf3",
            "ea4098b24b87401bb2eb5e220c87bbcf",
            "24e4cf02a47a42d7944ad2d486e25784",
            "68b76525a4b8451fb869f129996aa8f4",
            "d14871758f0f4c789cda8ed8baec1780",
            "d66b1aee225d44f89e6742999334edd8",
            "61dab662742d4c0db091f2d5330d4e47",
            "50836a472d4a4089b645c1e52b48789e",
            "4bbbef695e964b628c31ff2b08853d2a",
            "00e2071509c34b91af81bd4ca88d7f25",
            "3044ddf40fda4537be02b5bb59308700",
            "f369eddcb8d3492587f7d65c82e1ca1e",
            "4b7d4e319f354ab48708ebff0b6f678c",
            "8ed55b01c96c429db8dd6e7dcb041295",
            "03b4610b667d47bb92200f58da0bba79",
            "0421e68061714af7b963ea23b347efc1",
            "88b19de99a884525bf7d2588b0075cb2",
            "3bdf38cfef2440d2a0c6acaa579a4474",
            "24b12ee36b40496fbc9104251d26971a",
            "27529b815f4e40219f8bab31b0a0ce76",
            "c72356660cde492f8bf054ba3daa85b3",
            "cc274f3acaed455a8f33919bb3a83987",
            "61653e47aa134f4a80d38ed738a25eef",
            "f822a796bda04efda67b6cd96d1903f8",
            "922ba31e29294044a519de405e72283f",
            "42a1d8aa09f34dc2bcad8438d784d54b",
            "59924ac16c584ce6bf49e920ed86414c",
            "654f0dc9f684479ab068be1e9929dd48",
            "d2b6753050514d80b234062c30e051fa",
            "a7f64275f3964d97b9775a8b8b65bac6",
            "8d8bf5eef3f6468da6f788c922602671",
            "2489a13eb7604fbfb357c8ae0593b2b9",
            "d938012207cd4c7c98bef1f874aa0c8e",
            "2a332d09e40541ceabd106f40e4d515f",
            "e423e9e1943943a5b3f9fabe433bbcbc",
            "ca52bbb25ce54a37864c58a72e4cd73a",
            "3e60ad7dc85142e69e58fd337a4b4a6d",
            "809dc473ced040f8ada01ee52d2be02f",
            "7f21d2a5111f46b782029ede2faaedbe",
            "f0d3967268a345ad8053f72914c6828a",
            "ba1b8a83a7c1425594b511ba3aaebfc8",
            "001392fe50e647438a102684a71893bc",
            "8b4615b9560c4cb29a1d3a29b6acac4a"
          ]
        },
        "id": "-d4owwfMr7WA",
        "outputId": "47e3d4c3-2718-4244-cf74-593f001623ec"
      },
      "execution_count": null,
      "outputs": [
        {
          "output_type": "display_data",
          "data": {
            "text/plain": [
              "Downloading builder script:   0%|          | 0.00/23.3k [00:00<?, ?B/s]"
            ],
            "application/vnd.jupyter.widget-view+json": {
              "version_major": 2,
              "version_minor": 0,
              "model_id": "4f532776015842e8bdfbe1f076f232e8"
            }
          },
          "metadata": {}
        },
        {
          "output_type": "display_data",
          "data": {
            "text/plain": [
              "Downloading metadata:   0%|          | 0.00/22.7k [00:00<?, ?B/s]"
            ],
            "application/vnd.jupyter.widget-view+json": {
              "version_major": 2,
              "version_minor": 0,
              "model_id": "7797c64d518a429286cd85e6c87aa326"
            }
          },
          "metadata": {}
        },
        {
          "output_type": "display_data",
          "data": {
            "text/plain": [
              "Downloading readme:   0%|          | 0.00/21.4k [00:00<?, ?B/s]"
            ],
            "application/vnd.jupyter.widget-view+json": {
              "version_major": 2,
              "version_minor": 0,
              "model_id": "05dc8a2b3b244043ae3424437cb45e7e"
            }
          },
          "metadata": {}
        },
        {
          "output_type": "stream",
          "name": "stdout",
          "text": [
            "Downloading and preparing dataset klue/sts to /root/.cache/huggingface/datasets/klue/sts/1.0.0/e0fc3bc3de3eb03be2c92d72fd04a60ecc71903f821619cb28ca0e1e29e4233e...\n"
          ]
        },
        {
          "output_type": "display_data",
          "data": {
            "text/plain": [
              "Downloading data:   0%|          | 0.00/1.35M [00:00<?, ?B/s]"
            ],
            "application/vnd.jupyter.widget-view+json": {
              "version_major": 2,
              "version_minor": 0,
              "model_id": "d1c31e6dcff042dd8b8541e998291d34"
            }
          },
          "metadata": {}
        },
        {
          "output_type": "display_data",
          "data": {
            "text/plain": [
              "Generating train split:   0%|          | 0/11668 [00:00<?, ? examples/s]"
            ],
            "application/vnd.jupyter.widget-view+json": {
              "version_major": 2,
              "version_minor": 0,
              "model_id": "3044ddf40fda4537be02b5bb59308700"
            }
          },
          "metadata": {}
        },
        {
          "output_type": "display_data",
          "data": {
            "text/plain": [
              "Generating validation split:   0%|          | 0/519 [00:00<?, ? examples/s]"
            ],
            "application/vnd.jupyter.widget-view+json": {
              "version_major": 2,
              "version_minor": 0,
              "model_id": "cc274f3acaed455a8f33919bb3a83987"
            }
          },
          "metadata": {}
        },
        {
          "output_type": "stream",
          "name": "stdout",
          "text": [
            "Dataset klue downloaded and prepared to /root/.cache/huggingface/datasets/klue/sts/1.0.0/e0fc3bc3de3eb03be2c92d72fd04a60ecc71903f821619cb28ca0e1e29e4233e. Subsequent calls will reuse this data.\n"
          ]
        },
        {
          "output_type": "display_data",
          "data": {
            "text/plain": [
              "  0%|          | 0/2 [00:00<?, ?it/s]"
            ],
            "application/vnd.jupyter.widget-view+json": {
              "version_major": 2,
              "version_minor": 0,
              "model_id": "d938012207cd4c7c98bef1f874aa0c8e"
            }
          },
          "metadata": {}
        },
        {
          "output_type": "execute_result",
          "data": {
            "text/plain": [
              "(DatasetDict({\n",
              "     train: Dataset({\n",
              "         features: ['guid', 'source', 'sentence1', 'sentence2', 'labels'],\n",
              "         num_rows: 11668\n",
              "     })\n",
              "     validation: Dataset({\n",
              "         features: ['guid', 'source', 'sentence1', 'sentence2', 'labels'],\n",
              "         num_rows: 519\n",
              "     })\n",
              " }),\n",
              " {'guid': 'klue-sts-v1_train_00000',\n",
              "  'source': 'airbnb-rtt',\n",
              "  'sentence1': '숙소 위치는 찾기 쉽고 일반적인 한국의 반지하 숙소입니다.',\n",
              "  'sentence2': '숙박시설의 위치는 쉽게 찾을 수 있고 한국의 대표적인 반지하 숙박시설입니다.',\n",
              "  'labels': {'label': 3.7,\n",
              "   'real-label': 3.714285714285714,\n",
              "   'binary-label': 1}})"
            ]
          },
          "metadata": {},
          "execution_count": 5
        }
      ]
    },
    {
      "cell_type": "markdown",
      "source": [
        "확인한 부분\n",
        "1. 가장 긴 문장 길이 확인\n",
        "2. 문장으로 볼 수 없는 문장이 있는지 확인\n",
        "3. 3.0은 이진 label의 1에 속함\n",
        "\n",
        "데이터 전처리할 부분\n",
        "1. link 문장 삭제 : (http:// ~ ), (www.~), (~.go.kr)\n",
        "2. 2.으로 시작하는 문장 존재함.\n",
        "3. 3만 1459개와 31,439개는 동일함. 다르게 표현되어있음.\n",
        "4. `, 띄어쓰기+!에서 띄어쓰기 삭제\n",
        "5. 마지막 구두점 + 띄어쓰기 삭제해도 될 듯하다.\n",
        "6. UnKnown 값 사전 만들건지? 정해야함.  => 나중에 시도.\n",
        "7. 문자표 (세모 문자) 문자 UnKnown인지 확인 후, 제거 혹은 대체\n",
        "\n"
      ],
      "metadata": {
        "id": "DEPz7wEMwZMO"
      }
    },
    {
      "cell_type": "markdown",
      "source": [
        "## 계획\n",
        "1. label 0 ~ 5 => 0 ~ 1로 변환\n",
        "2. 데이터 전처리하지 않은 채, 그대로 fine-tuning  \n",
        "  1) RoBERTa  2) SentenceBERT \n",
        "3. 데이터 전처리 후 fine-tuning  \n",
        "  1) RoBERTa  2) SentenceBERT\n",
        "4. 성능 비교\n",
        "5. data 추가\n",
        "  - 현재 : klue-sts\n",
        "  - 추가할 데이터 : kakaobrain의 sts 데이터"
      ],
      "metadata": {
        "id": "WQnoFO3bDdf3"
      }
    },
    {
      "cell_type": "markdown",
      "source": [
        "# DataLoader"
      ],
      "metadata": {
        "id": "1LnkeAE511FK"
      }
    },
    {
      "cell_type": "code",
      "source": [
        "class CustomDataset(Dataset):\n",
        "    def __init__(self, dataset, appended_data=None):\n",
        "        self.sentence1, self.sentence2, self.labels = self.make_dataset(dataset, appended_data)\n",
        "\n",
        "    def make_dataset(self, dataset, appended_data=None):\n",
        "        sentence1, sentence2, rlabels = [], [], []\n",
        "\n",
        "        for data in dataset :\n",
        "          rlabels.append(data['labels']['real-label'] / 5)\n",
        "          sentence1.append(self.cleaning(data['sentence1']))\n",
        "          sentence2.append(self.cleaning(data['sentence2']))\n",
        "\n",
        "        return sentence1, sentence2, rlabels\n",
        "        \n",
        "    def __len__(self):\n",
        "        return len(self.labels)\n",
        "\n",
        "    def __getitem__(self, idx):\n",
        "        return self.sentence1[idx], self.sentence2[idx], self.labels[idx]\n",
        "\n",
        "    def cleaning(self, sentence) :    # 전처리 작업 수행한다면 여기에 추가\n",
        "        return sentence"
      ],
      "metadata": {
        "id": "QI-p4PMX1yIU"
      },
      "execution_count": null,
      "outputs": []
    },
    {
      "cell_type": "code",
      "source": [
        "def custom_collate_fn(batch):\n",
        "    input1_list, input2_list, target_list = [], [], []\n",
        "\n",
        "    for _input1, _input2, _target in batch:\n",
        "        input1_list.append(_input1)\n",
        "        input2_list.append(_input2)\n",
        "        target_list.append(_target)\n",
        "    \n",
        "    tensorized_input = tokenizer(\n",
        "        input1_list, input2_list,\n",
        "        add_special_tokens=True,\n",
        "        padding=\"longest\",\n",
        "        truncation=True,\n",
        "        max_length=512,\n",
        "        return_tensors='pt'\n",
        "    )\n",
        "    tensorized_label = torch.tensor(target_list)\n",
        "\n",
        "    return tensorized_input, tensorized_label"
      ],
      "metadata": {
        "id": "ltMHcwog1yFc"
      },
      "execution_count": null,
      "outputs": []
    },
    {
      "cell_type": "code",
      "source": [
        "def make_dataloader(dataset, tok_model, batch_size, s='train') :\n",
        "  global tokenizer    # custom_collate_fn에서 tokenizer 사용하기 위해 global로 선언\n",
        "  tokenizer = AutoTokenizer.from_pretrained(tok_model)\n",
        "  if s == 'train' :\n",
        "    dataloader = DataLoader(\n",
        "        dataset,\n",
        "        batch_size = batch_size,\n",
        "        sampler = RandomSampler(dataset),\n",
        "        collate_fn = custom_collate_fn\n",
        "    )\n",
        "  else :\n",
        "    dataloader = DataLoader(\n",
        "        dataset,\n",
        "        batch_size =batch_size,\n",
        "        sampler = SequentialSampler(dataset),\n",
        "        collate_fn = custom_collate_fn\n",
        "    )\n",
        "  print(f'batch_size : {batch_size}')\n",
        "  return dataloader"
      ],
      "metadata": {
        "id": "RXU2vxSU057M"
      },
      "execution_count": null,
      "outputs": []
    },
    {
      "cell_type": "markdown",
      "source": [
        "# Model"
      ],
      "metadata": {
        "id": "FH-taLsYI37M"
      }
    },
    {
      "cell_type": "markdown",
      "source": [
        "## parameter 정의 및 dataset 생성"
      ],
      "metadata": {
        "id": "jcSDevlkI5YM"
      }
    },
    {
      "cell_type": "code",
      "source": [
        "model_name = \"klue/roberta-base\""
      ],
      "metadata": {
        "id": "7xMnUN0dImNU"
      },
      "execution_count": null,
      "outputs": []
    },
    {
      "cell_type": "code",
      "source": [
        "train_batch_size = 32\n",
        "num_epochs = 4\n",
        "\n",
        "train_dataset = CustomDataset(dataset['train'])\n",
        "valid_dataset = CustomDataset(dataset['validation'])\n",
        "\n",
        "train_dataloader = make_dataloader(train_dataset, model_name, train_batch_size, 'train')\n",
        "valid_dataloader = make_dataloader(valid_dataset, model_name, 32, 'valid')"
      ],
      "metadata": {
        "colab": {
          "base_uri": "https://localhost:8080/",
          "height": 182,
          "referenced_widgets": [
            "0f472224b7c74546ad4fd508108abded",
            "694c51337ff64f32be49f793120ebc9f",
            "297c2828ea6242e7acbf27b61cef9285",
            "7ad94e0ec5f442668b910a72a45f884e",
            "32487724a3e24dfa861405e02dc84263",
            "35de9b10123445009497071a5bd9698f",
            "fd737892ea8a4a5faf9d356cbe5e2a01",
            "736fc11439bc45fcbdda4fb15a9c0d68",
            "b5bed9bc8b1b43ff9b4a48196feebc9a",
            "d3e36d1fb75846a5af855b6989b5502b",
            "531fd5070b1b4690b3b6eb1773c65b40",
            "749ec2bab6704a858f5de29636db4222",
            "5b29beec58e7416ab7025f4dbe6c5f55",
            "cc6d3ffd3d1a483d94d2505dfff3d6e3",
            "dbc6b76439bc4ef1a86f6ca62629e3ad",
            "9b04c3d65d224b5086014ccc565e8b3b",
            "7301bdba6a064ac7af3f03bc1a02d3e0",
            "05cda8cdddc941ff9c5c6cfdad024511",
            "6b4b6d06a7384c48a1d8a05516920049",
            "0d8211f6de484d33bbc97f7bac2c3278",
            "0fd76a649dfd44a4905ad22d5fecc341",
            "7a2b797b68b544e6bff40f8ed0d97ef7",
            "ed071b26777a4bf3a23636f7654f2dfe",
            "4ec82997fa6e48a1bb79c64c20e3e76b",
            "7b2f6a1103ee41fe8dbbfa7d99eaf8b1",
            "e1303929e1be407ba7d27aec573a90f0",
            "8dea1602624f4803b8babff7254a371b",
            "194ade1f74454d1fb40f763bcdcbacb1",
            "f83018fcf88543508ac3f05ff5e822fd",
            "ba7fd8e08bf147a1affda6aeccd770c8",
            "f382854943964ca1ac393db2d23e1845",
            "fca833610210407fa1af2aea9028582b",
            "5d3426b6aa33476583ab613a7f7b9832",
            "bf61948902824faba98515645d734e6f",
            "1644e977be7746009d22e4e563299209",
            "3eaf318eba7b4df2916d18773ac127dd",
            "c00dd23190b143e48c3bdfe3eec2ae30",
            "55aa5257ee904d1393c88cfbc81eeac4",
            "b524c87b8b5b4d359b5ecee5173072aa",
            "703a74e85c5141d1a635a479a5803837",
            "5b4bab64d3454e358b2208cd4830bbf3",
            "25a752c842df476c99907d4468e41bb3",
            "bbdd75451a0940ed9eca55bd84d7da63",
            "42fb0e27edc7401e9700fb36185051af"
          ]
        },
        "id": "dWSG4CaSMUGc",
        "outputId": "1d740686-624b-402c-f49d-7435e8507a5b"
      },
      "execution_count": null,
      "outputs": [
        {
          "output_type": "display_data",
          "data": {
            "text/plain": [
              "Downloading:   0%|          | 0.00/375 [00:00<?, ?B/s]"
            ],
            "application/vnd.jupyter.widget-view+json": {
              "version_major": 2,
              "version_minor": 0,
              "model_id": "0f472224b7c74546ad4fd508108abded"
            }
          },
          "metadata": {}
        },
        {
          "output_type": "display_data",
          "data": {
            "text/plain": [
              "Downloading:   0%|          | 0.00/248k [00:00<?, ?B/s]"
            ],
            "application/vnd.jupyter.widget-view+json": {
              "version_major": 2,
              "version_minor": 0,
              "model_id": "749ec2bab6704a858f5de29636db4222"
            }
          },
          "metadata": {}
        },
        {
          "output_type": "display_data",
          "data": {
            "text/plain": [
              "Downloading:   0%|          | 0.00/752k [00:00<?, ?B/s]"
            ],
            "application/vnd.jupyter.widget-view+json": {
              "version_major": 2,
              "version_minor": 0,
              "model_id": "ed071b26777a4bf3a23636f7654f2dfe"
            }
          },
          "metadata": {}
        },
        {
          "output_type": "display_data",
          "data": {
            "text/plain": [
              "Downloading:   0%|          | 0.00/173 [00:00<?, ?B/s]"
            ],
            "application/vnd.jupyter.widget-view+json": {
              "version_major": 2,
              "version_minor": 0,
              "model_id": "bf61948902824faba98515645d734e6f"
            }
          },
          "metadata": {}
        },
        {
          "output_type": "stream",
          "name": "stdout",
          "text": [
            "batch_size : 32\n",
            "batch_size : 32\n"
          ]
        }
      ]
    },
    {
      "cell_type": "markdown",
      "source": [
        "## Roberta Model\n",
        "\n",
        "``` \n",
        "tokenizer = AutoTokenizer.from_pretrained(model_name)\n",
        "model = AutoModel.from_pretrained(model_name)\n",
        "\n",
        "dataset['train']['sentence1']\n",
        "\n",
        "result = tokenizer(dataset['train']['sentence1'][0], dataset['train']['sentence2'][0])\n",
        "\n",
        "print('input_ids', result.input_ids)\n",
        "print('token_type_ids', result.token_type_ids)\n",
        "print('attention_mask', result.attention_mask)\n",
        "print(tokenizer.decode(result['input_ids']))\n",
        "\n",
        "result = tokenizer(dataset['train']['sentence1'][3], dataset['train']['sentence2'][3], return_tensors='pt', padding=True)\n",
        "outputs = model(**result)\n",
        "\n",
        "\n",
        "dataset['train']['labels'][3]['real-label']\n",
        "\n",
        "\n",
        "print(outputs.keys())\n",
        "outputs['pooler_output'].shape, outputs['last_hidden_state'].shape\n",
        "\n",
        "\n",
        "```"
      ],
      "metadata": {
        "id": "c-v0n89V0Dq9"
      }
    },
    {
      "cell_type": "markdown",
      "source": [
        "# Model Class"
      ],
      "metadata": {
        "id": "qXw0_nmeKOGT"
      }
    },
    {
      "cell_type": "code",
      "source": [
        "class CustomSTS(nn.Module):\n",
        "    def __init__(self, model_name, activation_f):\n",
        "        super(CustomSTS, self).__init__()\n",
        "        self.config = RobertaConfig.from_pretrained(model_name)\n",
        "        self.model = AutoModel.from_pretrained(model_name)\n",
        "        self.softmax = nn.Softmax(dim=1)\n",
        "        self.activation = nn.SELU() if activation_f == 'selu' else nn.GELU() if activation_f == 'gelu' else nn.RELU()\n",
        "        self.classifier = nn.Sequential(\n",
        "          nn.Linear(768, 32),\n",
        "          self.activation,\n",
        "          nn.Dropout(0.1),\n",
        "          nn.Linear(32, 1)\n",
        "        )\n",
        "\n",
        "    def forward(self, input_ids, attention_mask=None, token_type_ids=None, labels=None):\n",
        "        outputs = self.model(\n",
        "            input_ids,\n",
        "            attention_mask=attention_mask,\n",
        "            token_type_ids=token_type_ids,\n",
        "        )['last_hidden_state']\n",
        "        \n",
        "        logits = self.classifier(outputs)[:, 0, 0]\n",
        "        return logits"
      ],
      "metadata": {
        "id": "u8J1FWUz7VuS"
      },
      "execution_count": null,
      "outputs": []
    },
    {
      "cell_type": "code",
      "source": [
        "def initializer(train_dataloader, epochs=2, model_name='snunlp/KR-Medium', lr=4e-5, wd=4e-5, activation_f='relu'):\n",
        "    model = CustomSTS(model_name=model_name, activation_f)\n",
        "\n",
        "    optimizer = AdamW(\n",
        "        model.parameters(),\n",
        "        lr=lr,\n",
        "        eps=1e-8,\n",
        "        weight_decay=wd\n",
        "    )\n",
        "    \n",
        "    total_steps = len(train_dataloader) * epochs\n",
        "    print(f\"Total train steps with {epochs} epochs: {total_steps}\")\n",
        "\n",
        "    scheduler = get_linear_schedule_with_warmup(\n",
        "        optimizer, \n",
        "        num_warmup_steps = 0,\n",
        "        num_training_steps = total_steps\n",
        "    )\n",
        "    print(f'model_name : {model_name}, lr : {lr}, weight_decay : {wd}, epochs : {epochs}')\n",
        "    return model, optimizer, scheduler"
      ],
      "metadata": {
        "id": "G7pfOa0B7Vp7"
      },
      "execution_count": null,
      "outputs": []
    },
    {
      "cell_type": "markdown",
      "source": [
        "# Train"
      ],
      "metadata": {
        "id": "eMNpeejXKXWT"
      }
    },
    {
      "cell_type": "code",
      "source": [
        "before_loss, before_pearson = 0.4, 0.7"
      ],
      "metadata": {
        "id": "Z6IdgPUB73aZ"
      },
      "execution_count": null,
      "outputs": []
    },
    {
      "cell_type": "code",
      "source": [
        "def train(model, optimizer, scheduler, train_dataloader, valid_dataloader=None, epochs=1, model_name=''):\n",
        "  loss_fct = nn.MSELoss()\n",
        "  train_dict = {'loss' : [], 'pearson' : []}\n",
        "  valid_dict = {'loss' : [], 'pearson' : []}\n",
        "  global before_loss, before_pearson\n",
        "  for epoch in range(epochs) :\n",
        "\n",
        "    print(f\"*****Epoch {epoch} Train Start*****\")\n",
        "    total_loss, total_pearson, batch_pearson, batch_loss, batch_count = 0,0,0,0,0\n",
        "    \n",
        "    model.train()\n",
        "    model.to(device)\n",
        "    \n",
        "    for step, batch in enumerate(train_dataloader):\n",
        "      batch_count+=1\n",
        "      \n",
        "      batch = tuple(item.to(device) for item in batch)\n",
        "      \n",
        "      batch_input, batch_label = batch\n",
        "\n",
        "      model.zero_grad()\n",
        "      \n",
        "      probs = model(**batch_input)\n",
        "\n",
        "      loss = loss_fct(batch_label, probs)\n",
        "      batch_loss += loss.item()\n",
        "      total_loss += loss.item()\n",
        "\n",
        "      # pearson\n",
        "      pearson = torch.corrcoef(torch.stack( (batch_label, probs), 0))[0, 1]\n",
        "      batch_pearson += pearson.item()\n",
        "      total_pearson += pearson.item()\n",
        "\n",
        "      loss.backward()\n",
        "\n",
        "      clip_grad_norm_(model.parameters(), 1.0)\n",
        "      \n",
        "      optimizer.step()\n",
        "      scheduler.step()\n",
        "\n",
        "      model.zero_grad()\n",
        "\n",
        "      if (step % 128 == 0 and step != 0):\n",
        "          learning_rate = optimizer.param_groups[0]['lr']\n",
        "          print(f\"Epoch: {epoch}, Step : {step}, LR : {learning_rate:.10f}, Avg Loss : {batch_loss / batch_count:.4f}, Pearson : {batch_pearson / batch_count:.4f}\")\n",
        "          \n",
        "          if (round(batch_pearson / batch_count, 5) == 0) and (round(learning_rate, 10) == 0) :\n",
        "              print(\"Train Finished, learning_rate is 0 and train_Pearson is 0\")\n",
        "              return train_dict, valid_dict\n",
        "\n",
        "          batch_loss, batch_pearson, batch_count = 0,0,0\n",
        "\n",
        "\n",
        "    print(f\"Epoch {epoch} Total Mean Loss : {total_loss/(step+1):.4f}\")\n",
        "    print(f\"Epoch {epoch} Total Mean Pearson : {total_pearson/(step+1):.4f}\")\n",
        "    print(f\"*****Epoch {epoch} Train Finish*****\\n\")\n",
        "\n",
        "    train_dict['pearson'].append(total_pearson/(step+1))\n",
        "    train_dict['loss'].append(total_loss/(step+1))\n",
        "    \n",
        "    if valid_dataloader is not None:\n",
        "        print(f\"*****Epoch {epoch} Valid Start*****\")\n",
        "        valid_loss, valid_pearson = validate(model, valid_dataloader)\n",
        "        print(f\"Epoch {epoch} Valid Loss : {valid_loss:.4f} Valid Pearson : {valid_pearson:.4f}\")\n",
        "        print(f\"*****Epoch {epoch} Valid Finish*****\\n\")\n",
        "\n",
        "    valid_dict['pearson'].append(valid_pearson)\n",
        "    valid_dict['loss'].append(valid_loss)\n",
        "    if round(valid_pearson, 4) == 0 :\n",
        "        break\n",
        "    if before_loss > valid_loss :\n",
        "        before_loss = valid_loss\n",
        "        # save_checkpoint(\"/content/drive/MyDrive/Colab Notebooks/nlp\", model, optimizer, scheduler, epoch, valid_loss, valid_pearson, model_name)\n",
        "\n",
        "    elif before_pearson < valid_pearson  :\n",
        "        before_pearson = valid_pearson\n",
        "        # save_checkpoint(\"/content/drive/MyDrive/Colab Notebooks/nlp\", model, optimizer, scheduler, epoch, valid_loss, valid_pearson, model_name)\n",
        "\n",
        "  print(\"Train Finished\")\n",
        "  return train_dict, valid_dict"
      ],
      "metadata": {
        "id": "yLTg90mH74-B"
      },
      "execution_count": null,
      "outputs": []
    },
    {
      "cell_type": "code",
      "source": [
        "def validate(model, valid_dataloader):\n",
        "    loss_fct = nn.MSELoss()\n",
        "\n",
        "    model.eval()\n",
        "    model.to(device)\n",
        "    \n",
        "    total_loss, total_pearson, = 0, 0\n",
        "        \n",
        "    for step, batch in enumerate(valid_dataloader):\n",
        "        \n",
        "        batch = tuple(item.to(device) for item in batch)\n",
        "            \n",
        "        batch_input, batch_label = batch\n",
        "            \n",
        "        with torch.no_grad():\n",
        "            probs = model(**batch_input)\n",
        "            \n",
        "        loss = loss_fct(batch_label, probs)\n",
        "        total_loss += loss.item()\n",
        "      \n",
        "        # pearson\n",
        "        pearson = torch.corrcoef(torch.stack( (batch_label, probs), 0))[0, 1]\n",
        "        total_pearson += pearson.item()\n",
        "\n",
        "    total_loss = total_loss/(step+1)\n",
        "    total_pearson = total_pearson/(step+1)\n",
        "    return total_loss, total_pearson"
      ],
      "metadata": {
        "id": "uYYYcJft77DK"
      },
      "execution_count": null,
      "outputs": []
    },
    {
      "cell_type": "code",
      "source": [
        "def save_checkpoint(path, model, optimizer, scheduler, epoch, loss, pearson, model_name=''):\n",
        "    file_name = f'{path}/epoch:{epoch}_loss:{loss:.4f}_Pearson:{pearson:.4f}.ckpt'\n",
        "    \n",
        "    torch.save({\n",
        "            'epoch': epoch,\n",
        "            'model_state_dict': model.state_dict(),\n",
        "            'optimizer_state_dict': optimizer.state_dict(),\n",
        "            'scheduler_state_dict': scheduler.state_dict(),\n",
        "            'loss' : loss,\n",
        "            'pearson' : pearson\n",
        "        }, \n",
        "        file_name\n",
        "    )\n",
        "    \n",
        "    print(f\"Saving epoch {epoch} checkpoint at {file_name}\")"
      ],
      "metadata": {
        "id": "wuWbpsBn7z_6"
      },
      "execution_count": null,
      "outputs": []
    },
    {
      "cell_type": "code",
      "source": [
        "# loss와 f1-score의 변화를 epoch마다 보기 위한 plot\n",
        "def draw_plot(train_dict, valid_dict, i) :\n",
        "  print('green is train, gray is validation')\n",
        "\n",
        "  plt.figure(figsize=(16, 4))\n",
        "  plt.subplot(1, 4, 1)\n",
        "  plt.xlabel('Epochs')\n",
        "  plt.title('Loss of Train data, validation data')\n",
        "  x_values= [n for n in range(len(train_dict['loss']))]\n",
        "  plt.plot(x_values, train_dict['loss'], color='green', marker='o')\n",
        "  plt.plot(x_values, valid_dict['loss'], color='#AAAAAA', marker='*')\n",
        "\n",
        "\n",
        "  plt.subplot(1, 4, 2)\n",
        "  plt.xlabel('Epochs')\n",
        "  plt.title('Pearson of Train data, validation data')\n",
        "  x_values= [n for n in range(len(valid_dict['loss']))]\n",
        "  plt.plot(x_values, train_dict['pearson'], color='green', marker='o')\n",
        "  plt.plot(x_values, valid_dict['pearson'], color='#AAAAAA', marker='*')\n",
        "\n",
        "  plt.subplot(1, 4, 3)\n",
        "  plt.xlabel('Epochs')\n",
        "  plt.title('Train data')\n",
        "  x_values= [n for n in range(len(valid_dict['loss']))]\n",
        "  plt.plot(x_values, train_dict['pearson'], color='green', marker='o')\n",
        "  plt.plot(x_values, train_dict['loss'], color='#AAAAAA', marker='*')\n",
        "\n",
        "  plt.subplot(1, 4, 4)\n",
        "  plt.xlabel('Epochs')\n",
        "  plt.title('validation data')\n",
        "  x_values= [n for n in range(len(valid_dict['loss']))]\n",
        "  plt.plot(x_values, valid_dict['pearson'], color='green', marker='o')\n",
        "  plt.plot(x_values, valid_dict['loss'], color='#AAAAAA', marker='*')\n",
        "  plt.show()\n",
        "  plt.savefig(f'figure_{i}.png')"
      ],
      "metadata": {
        "id": "SvrUDjxg79IS"
      },
      "execution_count": null,
      "outputs": []
    },
    {
      "cell_type": "markdown",
      "source": [
        "## train"
      ],
      "metadata": {
        "id": "Hc_07_1oKaoE"
      }
    },
    {
      "cell_type": "markdown",
      "source": [
        "# RELU"
      ],
      "metadata": {
        "id": "rFQyhHTpj3MT"
      }
    },
    {
      "cell_type": "code",
      "source": [],
      "metadata": {
        "id": "E90MAupJj4G9"
      },
      "execution_count": null,
      "outputs": []
    },
    {
      "cell_type": "code",
      "execution_count": null,
      "metadata": {
        "colab": {
          "base_uri": "https://localhost:8080/",
          "height": 256,
          "referenced_widgets": [
            "d1838459466443fcb2ae86e0ecc7d30c",
            "18139d672f334b5481a9afc5b9f26798",
            "d575afec56384cc7894c219f8f3d20a8",
            "b27870a1a6b849cfa81053194f03e95a",
            "9334e248ef40486290450767316c1416",
            "227fdf4b68164649a5a963fe71a8f52c",
            "e5b3cfbb0dc24b83bd4ac816eaa53dca",
            "6ec035f155d44cef960ff3dda5a5b877",
            "16aded2c185f420bbdab41095cd7b28e",
            "dc4f3d6427c5434c9ef8fb04e1475f23",
            "b1872069aa984288bfe1a50d8b0a1bf2",
            "812c9f434cd0429fb40330e9233ffc93",
            "f1e390f968a047b38bd89598efb1c06b",
            "b6ff5d5ed9274ff5b7e0dee56efe45cf",
            "80c38a8cfab046cf8e62ef008968c6b8",
            "8d0a2d9bee2d4d368e19dcaff3631308",
            "b8415641fac146c4beeaa6bf0ea2a202",
            "40c32a2dfe54442ea41b9ed0c93ba05c",
            "89190d04f84b41cfb0b3945137a664a9",
            "d6290dd37a9b49bc82fec38857f91eba",
            "551f81fd0eec4d27835f76a4f93d33c4",
            "fae14e241a3042bdb4de8f4b8b7f6a09"
          ]
        },
        "outputId": "e4e58a60-a7a9-4ce2-abe7-80ba0178fce9",
        "id": "W5h_auAdj4N_"
      },
      "outputs": [
        {
          "data": {
            "application/vnd.jupyter.widget-view+json": {
              "model_id": "d1838459466443fcb2ae86e0ecc7d30c",
              "version_major": 2,
              "version_minor": 0
            },
            "text/plain": [
              "Downloading:   0%|          | 0.00/546 [00:00<?, ?B/s]"
            ]
          },
          "metadata": {},
          "output_type": "display_data"
        },
        {
          "data": {
            "application/vnd.jupyter.widget-view+json": {
              "model_id": "812c9f434cd0429fb40330e9233ffc93",
              "version_major": 2,
              "version_minor": 0
            },
            "text/plain": [
              "Downloading:   0%|          | 0.00/443M [00:00<?, ?B/s]"
            ]
          },
          "metadata": {},
          "output_type": "display_data"
        },
        {
          "name": "stderr",
          "output_type": "stream",
          "text": [
            "Some weights of the model checkpoint at klue/roberta-base were not used when initializing RobertaModel: ['lm_head.dense.weight', 'lm_head.dense.bias', 'lm_head.layer_norm.weight', 'lm_head.decoder.weight', 'lm_head.layer_norm.bias', 'lm_head.decoder.bias', 'lm_head.bias']\n",
            "- This IS expected if you are initializing RobertaModel from the checkpoint of a model trained on another task or with another architecture (e.g. initializing a BertForSequenceClassification model from a BertForPreTraining model).\n",
            "- This IS NOT expected if you are initializing RobertaModel from the checkpoint of a model that you expect to be exactly identical (initializing a BertForSequenceClassification model from a BertForSequenceClassification model).\n",
            "Some weights of RobertaModel were not initialized from the model checkpoint at klue/roberta-base and are newly initialized: ['roberta.pooler.dense.bias', 'roberta.pooler.dense.weight']\n",
            "You should probably TRAIN this model on a down-stream task to be able to use it for predictions and inference.\n"
          ]
        },
        {
          "name": "stdout",
          "output_type": "stream",
          "text": [
            "Total train steps with 200 epochs: 73000\n",
            "model_name : klue/roberta-base, lr : 5e-05, weight_decay : 0.01, epochs : 200\n"
          ]
        }
      ],
      "source": [
        "learning_rate = 5e-05\n",
        "weight_decay = 0.01\n",
        "\n",
        "model, optimizer, scheduler = initializer(train_dataloader, 200, model_name, learning_rate, weight_decay)\n"
      ]
    },
    {
      "cell_type": "code",
      "execution_count": null,
      "metadata": {
        "colab": {
          "background_save": true,
          "base_uri": "https://localhost:8080/"
        },
        "outputId": "8391e29d-a991-4873-f42a-815773b35f36",
        "id": "6CU9ccRcj4N_"
      },
      "outputs": [
        {
          "name": "stdout",
          "output_type": "stream",
          "text": [
            "*****Epoch 0 Train Start*****\n",
            "Epoch: 0, Step : 128, LR : 0.0000499116, Avg Loss : 0.0357, Pearson : 0.8530\n",
            "Epoch: 0, Step : 256, LR : 0.0000498240, Avg Loss : 0.0136, Pearson : 0.9486\n",
            "Epoch 0 Total Mean Loss : 0.0213\n",
            "Epoch 0 Total Mean Pearson : 0.9153\n",
            "*****Epoch 0 Train Finish*****\n",
            "\n",
            "*****Epoch 0 Valid Start*****\n",
            "Epoch 0 Valid Loss : 0.0354 Valid Pearson : 0.8279\n",
            "*****Epoch 0 Valid Finish*****\n",
            "\n",
            "*****Epoch 1 Train Start*****\n",
            "Epoch: 1, Step : 128, LR : 0.0000496616, Avg Loss : 0.0106, Pearson : 0.9593\n",
            "Epoch: 1, Step : 256, LR : 0.0000495740, Avg Loss : 0.0101, Pearson : 0.9617\n",
            "Epoch 1 Total Mean Loss : 0.0101\n",
            "Epoch 1 Total Mean Pearson : 0.9614\n",
            "*****Epoch 1 Train Finish*****\n",
            "\n",
            "*****Epoch 1 Valid Start*****\n",
            "Epoch 1 Valid Loss : 0.0206 Valid Pearson : 0.8932\n",
            "*****Epoch 1 Valid Finish*****\n",
            "\n",
            "*****Epoch 2 Train Start*****\n",
            "Epoch: 2, Step : 128, LR : 0.0000494116, Avg Loss : 0.0081, Pearson : 0.9674\n",
            "Epoch: 2, Step : 256, LR : 0.0000493240, Avg Loss : 0.0079, Pearson : 0.9694\n",
            "Epoch 2 Total Mean Loss : 0.0079\n",
            "Epoch 2 Total Mean Pearson : 0.9691\n",
            "*****Epoch 2 Train Finish*****\n",
            "\n",
            "*****Epoch 2 Valid Start*****\n",
            "Epoch 2 Valid Loss : 0.0154 Valid Pearson : 0.9120\n",
            "*****Epoch 2 Valid Finish*****\n",
            "\n",
            "*****Epoch 3 Train Start*****\n",
            "Epoch: 3, Step : 128, LR : 0.0000491616, Avg Loss : 0.0078, Pearson : 0.9724\n",
            "Epoch: 3, Step : 256, LR : 0.0000490740, Avg Loss : 0.0079, Pearson : 0.9699\n",
            "Epoch 3 Total Mean Loss : 0.0078\n",
            "Epoch 3 Total Mean Pearson : 0.9709\n",
            "*****Epoch 3 Train Finish*****\n",
            "\n",
            "*****Epoch 3 Valid Start*****\n",
            "Epoch 3 Valid Loss : 0.0232 Valid Pearson : 0.9025\n",
            "*****Epoch 3 Valid Finish*****\n",
            "\n",
            "*****Epoch 4 Train Start*****\n",
            "Epoch: 4, Step : 128, LR : 0.0000489116, Avg Loss : 0.0068, Pearson : 0.9732\n",
            "Epoch: 4, Step : 256, LR : 0.0000488240, Avg Loss : 0.0073, Pearson : 0.9727\n",
            "Epoch 4 Total Mean Loss : 0.0071\n",
            "Epoch 4 Total Mean Pearson : 0.9728\n",
            "*****Epoch 4 Train Finish*****\n",
            "\n",
            "*****Epoch 4 Valid Start*****\n",
            "Epoch 4 Valid Loss : 0.0150 Valid Pearson : 0.9115\n",
            "*****Epoch 4 Valid Finish*****\n",
            "\n",
            "*****Epoch 5 Train Start*****\n",
            "Epoch: 5, Step : 128, LR : 0.0000486616, Avg Loss : 0.0069, Pearson : 0.9737\n",
            "Epoch: 5, Step : 256, LR : 0.0000485740, Avg Loss : 0.0072, Pearson : 0.9719\n",
            "Epoch 5 Total Mean Loss : 0.0070\n",
            "Epoch 5 Total Mean Pearson : 0.9727\n",
            "*****Epoch 5 Train Finish*****\n",
            "\n",
            "*****Epoch 5 Valid Start*****\n",
            "Epoch 5 Valid Loss : 0.0187 Valid Pearson : 0.9013\n",
            "*****Epoch 5 Valid Finish*****\n",
            "\n",
            "*****Epoch 6 Train Start*****\n",
            "Epoch: 6, Step : 128, LR : 0.0000484116, Avg Loss : 0.0070, Pearson : 0.9730\n",
            "Epoch: 6, Step : 256, LR : 0.0000483240, Avg Loss : 0.0069, Pearson : 0.9730\n",
            "Epoch 6 Total Mean Loss : 0.0070\n",
            "Epoch 6 Total Mean Pearson : 0.9731\n",
            "*****Epoch 6 Train Finish*****\n",
            "\n",
            "*****Epoch 6 Valid Start*****\n",
            "Epoch 6 Valid Loss : 0.0194 Valid Pearson : 0.9019\n",
            "*****Epoch 6 Valid Finish*****\n",
            "\n",
            "*****Epoch 7 Train Start*****\n",
            "Epoch: 7, Step : 128, LR : 0.0000481616, Avg Loss : 0.0062, Pearson : 0.9754\n",
            "Epoch: 7, Step : 256, LR : 0.0000480740, Avg Loss : 0.0063, Pearson : 0.9753\n",
            "Epoch 7 Total Mean Loss : 0.0062\n",
            "Epoch 7 Total Mean Pearson : 0.9753\n",
            "*****Epoch 7 Train Finish*****\n",
            "\n",
            "*****Epoch 7 Valid Start*****\n",
            "Epoch 7 Valid Loss : 0.0151 Valid Pearson : 0.9231\n",
            "*****Epoch 7 Valid Finish*****\n",
            "\n",
            "*****Epoch 8 Train Start*****\n",
            "Epoch: 8, Step : 128, LR : 0.0000479116, Avg Loss : 0.0062, Pearson : 0.9765\n",
            "Epoch: 8, Step : 256, LR : 0.0000478240, Avg Loss : 0.0057, Pearson : 0.9777\n",
            "Epoch 8 Total Mean Loss : 0.0059\n",
            "Epoch 8 Total Mean Pearson : 0.9773\n",
            "*****Epoch 8 Train Finish*****\n",
            "\n",
            "*****Epoch 8 Valid Start*****\n",
            "Epoch 8 Valid Loss : 0.0151 Valid Pearson : 0.9171\n",
            "*****Epoch 8 Valid Finish*****\n",
            "\n",
            "*****Epoch 9 Train Start*****\n",
            "Epoch: 9, Step : 128, LR : 0.0000476616, Avg Loss : 0.0057, Pearson : 0.9779\n",
            "Epoch: 9, Step : 256, LR : 0.0000475740, Avg Loss : 0.0055, Pearson : 0.9789\n",
            "Epoch 9 Total Mean Loss : 0.0056\n",
            "Epoch 9 Total Mean Pearson : 0.9784\n",
            "*****Epoch 9 Train Finish*****\n",
            "\n",
            "*****Epoch 9 Valid Start*****\n",
            "Epoch 9 Valid Loss : 0.0168 Valid Pearson : 0.9146\n",
            "*****Epoch 9 Valid Finish*****\n",
            "\n",
            "*****Epoch 10 Train Start*****\n",
            "Epoch: 10, Step : 128, LR : 0.0000474116, Avg Loss : 0.0054, Pearson : 0.9788\n",
            "Epoch: 10, Step : 256, LR : 0.0000473240, Avg Loss : 0.0053, Pearson : 0.9798\n",
            "Epoch 10 Total Mean Loss : 0.0053\n",
            "Epoch 10 Total Mean Pearson : 0.9791\n",
            "*****Epoch 10 Train Finish*****\n",
            "\n",
            "*****Epoch 10 Valid Start*****\n",
            "Epoch 10 Valid Loss : 0.0150 Valid Pearson : 0.9122\n",
            "*****Epoch 10 Valid Finish*****\n",
            "\n",
            "*****Epoch 11 Train Start*****\n",
            "Epoch: 11, Step : 128, LR : 0.0000471616, Avg Loss : 0.0061, Pearson : 0.9767\n",
            "Epoch: 11, Step : 256, LR : 0.0000470740, Avg Loss : 0.0054, Pearson : 0.9787\n",
            "Epoch 11 Total Mean Loss : 0.0057\n",
            "Epoch 11 Total Mean Pearson : 0.9779\n",
            "*****Epoch 11 Train Finish*****\n",
            "\n",
            "*****Epoch 11 Valid Start*****\n",
            "Epoch 11 Valid Loss : 0.0162 Valid Pearson : 0.9135\n",
            "*****Epoch 11 Valid Finish*****\n",
            "\n",
            "*****Epoch 12 Train Start*****\n",
            "Epoch: 12, Step : 128, LR : 0.0000469116, Avg Loss : 0.0054, Pearson : 0.9793\n",
            "Epoch: 12, Step : 256, LR : 0.0000468240, Avg Loss : 0.0052, Pearson : 0.9799\n",
            "Epoch 12 Total Mean Loss : 0.0054\n",
            "Epoch 12 Total Mean Pearson : 0.9792\n",
            "*****Epoch 12 Train Finish*****\n",
            "\n",
            "*****Epoch 12 Valid Start*****\n",
            "Epoch 12 Valid Loss : 0.0142 Valid Pearson : 0.9150\n",
            "*****Epoch 12 Valid Finish*****\n",
            "\n",
            "*****Epoch 13 Train Start*****\n",
            "Epoch: 13, Step : 128, LR : 0.0000466616, Avg Loss : 0.0053, Pearson : 0.9793\n",
            "Epoch: 13, Step : 256, LR : 0.0000465740, Avg Loss : 0.0055, Pearson : 0.9794\n",
            "Epoch 13 Total Mean Loss : 0.0053\n",
            "Epoch 13 Total Mean Pearson : 0.9796\n",
            "*****Epoch 13 Train Finish*****\n",
            "\n",
            "*****Epoch 13 Valid Start*****\n",
            "Epoch 13 Valid Loss : 0.0145 Valid Pearson : 0.9144\n",
            "*****Epoch 13 Valid Finish*****\n",
            "\n",
            "*****Epoch 14 Train Start*****\n",
            "Epoch: 14, Step : 128, LR : 0.0000464116, Avg Loss : 0.0050, Pearson : 0.9805\n",
            "Epoch: 14, Step : 256, LR : 0.0000463240, Avg Loss : 0.0050, Pearson : 0.9808\n",
            "Epoch 14 Total Mean Loss : 0.0051\n",
            "Epoch 14 Total Mean Pearson : 0.9800\n",
            "*****Epoch 14 Train Finish*****\n",
            "\n",
            "*****Epoch 14 Valid Start*****\n",
            "Epoch 14 Valid Loss : 0.0162 Valid Pearson : 0.9083\n",
            "*****Epoch 14 Valid Finish*****\n",
            "\n",
            "*****Epoch 15 Train Start*****\n",
            "Epoch: 15, Step : 128, LR : 0.0000461616, Avg Loss : 0.0052, Pearson : 0.9802\n",
            "Epoch: 15, Step : 256, LR : 0.0000460740, Avg Loss : 0.0053, Pearson : 0.9795\n",
            "Epoch 15 Total Mean Loss : 0.0051\n",
            "Epoch 15 Total Mean Pearson : 0.9802\n",
            "*****Epoch 15 Train Finish*****\n",
            "\n",
            "*****Epoch 15 Valid Start*****\n",
            "Epoch 15 Valid Loss : 0.0175 Valid Pearson : 0.9081\n",
            "*****Epoch 15 Valid Finish*****\n",
            "\n",
            "*****Epoch 16 Train Start*****\n",
            "Epoch: 16, Step : 128, LR : 0.0000459116, Avg Loss : 0.0049, Pearson : 0.9807\n",
            "Epoch: 16, Step : 256, LR : 0.0000458240, Avg Loss : 0.0047, Pearson : 0.9815\n",
            "Epoch 16 Total Mean Loss : 0.0048\n",
            "Epoch 16 Total Mean Pearson : 0.9809\n",
            "*****Epoch 16 Train Finish*****\n",
            "\n",
            "*****Epoch 16 Valid Start*****\n",
            "Epoch 16 Valid Loss : 0.0160 Valid Pearson : 0.9136\n",
            "*****Epoch 16 Valid Finish*****\n",
            "\n",
            "*****Epoch 17 Train Start*****\n",
            "Epoch: 17, Step : 128, LR : 0.0000456616, Avg Loss : 0.0050, Pearson : 0.9802\n",
            "Epoch: 17, Step : 256, LR : 0.0000455740, Avg Loss : 0.0047, Pearson : 0.9816\n",
            "Epoch 17 Total Mean Loss : 0.0049\n",
            "Epoch 17 Total Mean Pearson : 0.9810\n",
            "*****Epoch 17 Train Finish*****\n",
            "\n",
            "*****Epoch 17 Valid Start*****\n",
            "Epoch 17 Valid Loss : 0.0183 Valid Pearson : 0.9147\n",
            "*****Epoch 17 Valid Finish*****\n",
            "\n",
            "*****Epoch 18 Train Start*****\n",
            "Epoch: 18, Step : 128, LR : 0.0000454116, Avg Loss : 0.0047, Pearson : 0.9812\n",
            "Epoch: 18, Step : 256, LR : 0.0000453240, Avg Loss : 0.0044, Pearson : 0.9828\n",
            "Epoch 18 Total Mean Loss : 0.0046\n",
            "Epoch 18 Total Mean Pearson : 0.9820\n",
            "*****Epoch 18 Train Finish*****\n",
            "\n",
            "*****Epoch 18 Valid Start*****\n",
            "Epoch 18 Valid Loss : 0.0161 Valid Pearson : 0.9071\n",
            "*****Epoch 18 Valid Finish*****\n",
            "\n",
            "*****Epoch 19 Train Start*****\n",
            "Epoch: 19, Step : 128, LR : 0.0000451616, Avg Loss : 0.0045, Pearson : 0.9824\n",
            "Epoch: 19, Step : 256, LR : 0.0000450740, Avg Loss : 0.0045, Pearson : 0.9826\n",
            "Epoch 19 Total Mean Loss : 0.0045\n",
            "Epoch 19 Total Mean Pearson : 0.9826\n",
            "*****Epoch 19 Train Finish*****\n",
            "\n",
            "*****Epoch 19 Valid Start*****\n",
            "Epoch 19 Valid Loss : 0.0164 Valid Pearson : 0.9067\n",
            "*****Epoch 19 Valid Finish*****\n",
            "\n",
            "*****Epoch 20 Train Start*****\n",
            "Epoch: 20, Step : 128, LR : 0.0000449116, Avg Loss : 0.0046, Pearson : 0.9819\n",
            "Epoch: 20, Step : 256, LR : 0.0000448240, Avg Loss : 0.0043, Pearson : 0.9834\n",
            "Epoch 20 Total Mean Loss : 0.0044\n",
            "Epoch 20 Total Mean Pearson : 0.9828\n",
            "*****Epoch 20 Train Finish*****\n",
            "\n",
            "*****Epoch 20 Valid Start*****\n",
            "Epoch 20 Valid Loss : 0.0205 Valid Pearson : 0.8964\n",
            "*****Epoch 20 Valid Finish*****\n",
            "\n",
            "*****Epoch 21 Train Start*****\n",
            "Epoch: 21, Step : 128, LR : 0.0000446616, Avg Loss : 0.0043, Pearson : 0.9833\n",
            "Epoch: 21, Step : 256, LR : 0.0000445740, Avg Loss : 0.0044, Pearson : 0.9825\n",
            "Epoch 21 Total Mean Loss : 0.0044\n",
            "Epoch 21 Total Mean Pearson : 0.9828\n",
            "*****Epoch 21 Train Finish*****\n",
            "\n",
            "*****Epoch 21 Valid Start*****\n",
            "Epoch 21 Valid Loss : 0.0155 Valid Pearson : 0.9111\n",
            "*****Epoch 21 Valid Finish*****\n",
            "\n",
            "*****Epoch 22 Train Start*****\n",
            "Epoch: 22, Step : 128, LR : 0.0000444116, Avg Loss : 0.0045, Pearson : 0.9827\n",
            "Epoch: 22, Step : 256, LR : 0.0000443240, Avg Loss : 0.0046, Pearson : 0.9824\n",
            "Epoch 22 Total Mean Loss : 0.0044\n",
            "Epoch 22 Total Mean Pearson : 0.9828\n",
            "*****Epoch 22 Train Finish*****\n",
            "\n",
            "*****Epoch 22 Valid Start*****\n",
            "Epoch 22 Valid Loss : 0.0157 Valid Pearson : 0.9127\n",
            "*****Epoch 22 Valid Finish*****\n",
            "\n",
            "*****Epoch 23 Train Start*****\n",
            "Epoch: 23, Step : 128, LR : 0.0000441616, Avg Loss : 0.0040, Pearson : 0.9845\n",
            "Epoch: 23, Step : 256, LR : 0.0000440740, Avg Loss : 0.0040, Pearson : 0.9846\n",
            "Epoch 23 Total Mean Loss : 0.0041\n",
            "Epoch 23 Total Mean Pearson : 0.9842\n",
            "*****Epoch 23 Train Finish*****\n",
            "\n",
            "*****Epoch 23 Valid Start*****\n",
            "Epoch 23 Valid Loss : 0.0156 Valid Pearson : 0.9144\n",
            "*****Epoch 23 Valid Finish*****\n",
            "\n",
            "*****Epoch 24 Train Start*****\n",
            "Epoch: 24, Step : 128, LR : 0.0000439116, Avg Loss : 0.0044, Pearson : 0.9829\n",
            "Epoch: 24, Step : 256, LR : 0.0000438240, Avg Loss : 0.0040, Pearson : 0.9840\n",
            "Epoch 24 Total Mean Loss : 0.0042\n",
            "Epoch 24 Total Mean Pearson : 0.9837\n",
            "*****Epoch 24 Train Finish*****\n",
            "\n",
            "*****Epoch 24 Valid Start*****\n",
            "Epoch 24 Valid Loss : 0.0150 Valid Pearson : 0.9115\n",
            "*****Epoch 24 Valid Finish*****\n",
            "\n",
            "*****Epoch 25 Train Start*****\n",
            "Epoch: 25, Step : 128, LR : 0.0000436616, Avg Loss : 0.0038, Pearson : 0.9855\n",
            "Epoch: 25, Step : 256, LR : 0.0000435740, Avg Loss : 0.0041, Pearson : 0.9837\n",
            "Epoch 25 Total Mean Loss : 0.0041\n",
            "Epoch 25 Total Mean Pearson : 0.9839\n",
            "*****Epoch 25 Train Finish*****\n",
            "\n",
            "*****Epoch 25 Valid Start*****\n",
            "Epoch 25 Valid Loss : 0.0171 Valid Pearson : 0.9022\n",
            "*****Epoch 25 Valid Finish*****\n",
            "\n",
            "*****Epoch 26 Train Start*****\n",
            "Epoch: 26, Step : 128, LR : 0.0000434116, Avg Loss : 0.0042, Pearson : 0.9837\n",
            "Epoch: 26, Step : 256, LR : 0.0000433240, Avg Loss : 0.0041, Pearson : 0.9841\n",
            "Epoch 26 Total Mean Loss : 0.0041\n",
            "Epoch 26 Total Mean Pearson : 0.9842\n",
            "*****Epoch 26 Train Finish*****\n",
            "\n",
            "*****Epoch 26 Valid Start*****\n",
            "Epoch 26 Valid Loss : 0.0149 Valid Pearson : 0.9190\n",
            "*****Epoch 26 Valid Finish*****\n",
            "\n",
            "*****Epoch 27 Train Start*****\n",
            "Epoch: 27, Step : 128, LR : 0.0000431616, Avg Loss : 0.0036, Pearson : 0.9860\n",
            "Epoch: 27, Step : 256, LR : 0.0000430740, Avg Loss : 0.0043, Pearson : 0.9831\n",
            "Epoch 27 Total Mean Loss : 0.0039\n",
            "Epoch 27 Total Mean Pearson : 0.9847\n",
            "*****Epoch 27 Train Finish*****\n",
            "\n",
            "*****Epoch 27 Valid Start*****\n",
            "Epoch 27 Valid Loss : 0.0150 Valid Pearson : 0.9108\n",
            "*****Epoch 27 Valid Finish*****\n",
            "\n",
            "*****Epoch 28 Train Start*****\n",
            "Epoch: 28, Step : 128, LR : 0.0000429116, Avg Loss : 0.0040, Pearson : 0.9845\n",
            "Epoch: 28, Step : 256, LR : 0.0000428240, Avg Loss : 0.0044, Pearson : 0.9823\n",
            "Epoch 28 Total Mean Loss : 0.0041\n",
            "Epoch 28 Total Mean Pearson : 0.9839\n",
            "*****Epoch 28 Train Finish*****\n",
            "\n",
            "*****Epoch 28 Valid Start*****\n",
            "Epoch 28 Valid Loss : 0.0172 Valid Pearson : 0.9103\n",
            "*****Epoch 28 Valid Finish*****\n",
            "\n",
            "*****Epoch 29 Train Start*****\n",
            "Epoch: 29, Step : 128, LR : 0.0000426616, Avg Loss : 0.0040, Pearson : 0.9843\n",
            "Epoch: 29, Step : 256, LR : 0.0000425740, Avg Loss : 0.0037, Pearson : 0.9856\n",
            "Epoch 29 Total Mean Loss : 0.0038\n",
            "Epoch 29 Total Mean Pearson : 0.9849\n",
            "*****Epoch 29 Train Finish*****\n",
            "\n",
            "*****Epoch 29 Valid Start*****\n",
            "Epoch 29 Valid Loss : 0.0133 Valid Pearson : 0.9243\n",
            "*****Epoch 29 Valid Finish*****\n",
            "\n",
            "*****Epoch 30 Train Start*****\n",
            "Epoch: 30, Step : 128, LR : 0.0000424116, Avg Loss : 0.0037, Pearson : 0.9854\n",
            "Epoch: 30, Step : 256, LR : 0.0000423240, Avg Loss : 0.0037, Pearson : 0.9851\n",
            "Epoch 30 Total Mean Loss : 0.0037\n",
            "Epoch 30 Total Mean Pearson : 0.9853\n",
            "*****Epoch 30 Train Finish*****\n",
            "\n",
            "*****Epoch 30 Valid Start*****\n",
            "Epoch 30 Valid Loss : 0.0128 Valid Pearson : 0.9234\n",
            "*****Epoch 30 Valid Finish*****\n",
            "\n",
            "*****Epoch 31 Train Start*****\n",
            "Epoch: 31, Step : 128, LR : 0.0000421616, Avg Loss : 0.0038, Pearson : 0.9853\n",
            "Epoch: 31, Step : 256, LR : 0.0000420740, Avg Loss : 0.0039, Pearson : 0.9855\n",
            "Epoch 31 Total Mean Loss : 0.0038\n",
            "Epoch 31 Total Mean Pearson : 0.9855\n",
            "*****Epoch 31 Train Finish*****\n",
            "\n",
            "*****Epoch 31 Valid Start*****\n",
            "Epoch 31 Valid Loss : 0.0159 Valid Pearson : 0.9131\n",
            "*****Epoch 31 Valid Finish*****\n",
            "\n",
            "*****Epoch 32 Train Start*****\n",
            "Epoch: 32, Step : 128, LR : 0.0000419116, Avg Loss : 0.0037, Pearson : 0.9856\n",
            "Epoch: 32, Step : 256, LR : 0.0000418240, Avg Loss : 0.0035, Pearson : 0.9860\n",
            "Epoch 32 Total Mean Loss : 0.0036\n",
            "Epoch 32 Total Mean Pearson : 0.9859\n",
            "*****Epoch 32 Train Finish*****\n",
            "\n",
            "*****Epoch 32 Valid Start*****\n",
            "Epoch 32 Valid Loss : 0.0166 Valid Pearson : 0.9048\n",
            "*****Epoch 32 Valid Finish*****\n",
            "\n",
            "*****Epoch 33 Train Start*****\n",
            "Epoch: 33, Step : 128, LR : 0.0000416616, Avg Loss : 0.0036, Pearson : 0.9858\n",
            "Epoch: 33, Step : 256, LR : 0.0000415740, Avg Loss : 0.0037, Pearson : 0.9853\n",
            "Epoch 33 Total Mean Loss : 0.0036\n",
            "Epoch 33 Total Mean Pearson : 0.9860\n",
            "*****Epoch 33 Train Finish*****\n",
            "\n",
            "*****Epoch 33 Valid Start*****\n",
            "Epoch 33 Valid Loss : 0.0149 Valid Pearson : 0.9110\n",
            "*****Epoch 33 Valid Finish*****\n",
            "\n",
            "*****Epoch 34 Train Start*****\n",
            "Epoch: 34, Step : 128, LR : 0.0000414116, Avg Loss : 0.0035, Pearson : 0.9866\n",
            "Epoch: 34, Step : 256, LR : 0.0000413240, Avg Loss : 0.0034, Pearson : 0.9870\n",
            "Epoch 34 Total Mean Loss : 0.0034\n",
            "Epoch 34 Total Mean Pearson : 0.9867\n",
            "*****Epoch 34 Train Finish*****\n",
            "\n",
            "*****Epoch 34 Valid Start*****\n",
            "Epoch 34 Valid Loss : 0.0152 Valid Pearson : 0.9193\n",
            "*****Epoch 34 Valid Finish*****\n",
            "\n",
            "*****Epoch 35 Train Start*****\n",
            "Epoch: 35, Step : 128, LR : 0.0000411616, Avg Loss : 0.0033, Pearson : 0.9868\n",
            "Epoch: 35, Step : 256, LR : 0.0000410740, Avg Loss : 0.0035, Pearson : 0.9861\n",
            "Epoch 35 Total Mean Loss : 0.0033\n",
            "Epoch 35 Total Mean Pearson : 0.9868\n",
            "*****Epoch 35 Train Finish*****\n",
            "\n",
            "*****Epoch 35 Valid Start*****\n",
            "Epoch 35 Valid Loss : 0.0150 Valid Pearson : 0.9141\n",
            "*****Epoch 35 Valid Finish*****\n",
            "\n",
            "*****Epoch 36 Train Start*****\n",
            "Epoch: 36, Step : 128, LR : 0.0000409116, Avg Loss : 0.0037, Pearson : 0.9855\n",
            "Epoch: 36, Step : 256, LR : 0.0000408240, Avg Loss : 0.0035, Pearson : 0.9866\n",
            "Epoch 36 Total Mean Loss : 0.0035\n",
            "Epoch 36 Total Mean Pearson : 0.9861\n",
            "*****Epoch 36 Train Finish*****\n",
            "\n",
            "*****Epoch 36 Valid Start*****\n",
            "Epoch 36 Valid Loss : 0.0159 Valid Pearson : 0.9169\n",
            "*****Epoch 36 Valid Finish*****\n",
            "\n",
            "*****Epoch 37 Train Start*****\n",
            "Epoch: 37, Step : 128, LR : 0.0000406616, Avg Loss : 0.0034, Pearson : 0.9866\n",
            "Epoch: 37, Step : 256, LR : 0.0000405740, Avg Loss : 0.0035, Pearson : 0.9864\n",
            "Epoch 37 Total Mean Loss : 0.0034\n",
            "Epoch 37 Total Mean Pearson : 0.9869\n",
            "*****Epoch 37 Train Finish*****\n",
            "\n",
            "*****Epoch 37 Valid Start*****\n",
            "Epoch 37 Valid Loss : 0.0141 Valid Pearson : 0.9220\n",
            "*****Epoch 37 Valid Finish*****\n",
            "\n",
            "*****Epoch 38 Train Start*****\n",
            "Epoch: 38, Step : 128, LR : 0.0000404116, Avg Loss : 0.0034, Pearson : 0.9867\n",
            "Epoch: 38, Step : 256, LR : 0.0000403240, Avg Loss : 0.0034, Pearson : 0.9869\n",
            "Epoch 38 Total Mean Loss : 0.0033\n",
            "Epoch 38 Total Mean Pearson : 0.9870\n",
            "*****Epoch 38 Train Finish*****\n",
            "\n",
            "*****Epoch 38 Valid Start*****\n",
            "Epoch 38 Valid Loss : 0.0134 Valid Pearson : 0.9192\n",
            "*****Epoch 38 Valid Finish*****\n",
            "\n",
            "*****Epoch 39 Train Start*****\n",
            "Epoch: 39, Step : 128, LR : 0.0000401616, Avg Loss : 0.0040, Pearson : 0.9850\n",
            "Epoch: 39, Step : 256, LR : 0.0000400740, Avg Loss : 0.0036, Pearson : 0.9860\n",
            "Epoch 39 Total Mean Loss : 0.0037\n",
            "Epoch 39 Total Mean Pearson : 0.9858\n",
            "*****Epoch 39 Train Finish*****\n",
            "\n",
            "*****Epoch 39 Valid Start*****\n",
            "Epoch 39 Valid Loss : 0.0202 Valid Pearson : 0.8914\n",
            "*****Epoch 39 Valid Finish*****\n",
            "\n",
            "*****Epoch 40 Train Start*****\n",
            "Epoch: 40, Step : 128, LR : 0.0000399116, Avg Loss : 0.0034, Pearson : 0.9866\n",
            "Epoch: 40, Step : 256, LR : 0.0000398240, Avg Loss : 0.0033, Pearson : 0.9872\n",
            "Epoch 40 Total Mean Loss : 0.0033\n",
            "Epoch 40 Total Mean Pearson : 0.9871\n",
            "*****Epoch 40 Train Finish*****\n",
            "\n",
            "*****Epoch 40 Valid Start*****\n",
            "Epoch 40 Valid Loss : 0.0142 Valid Pearson : 0.9151\n",
            "*****Epoch 40 Valid Finish*****\n",
            "\n",
            "*****Epoch 41 Train Start*****\n",
            "Epoch: 41, Step : 128, LR : 0.0000396616, Avg Loss : 0.0033, Pearson : 0.9871\n",
            "Epoch: 41, Step : 256, LR : 0.0000395740, Avg Loss : 0.0030, Pearson : 0.9879\n",
            "Epoch 41 Total Mean Loss : 0.0032\n",
            "Epoch 41 Total Mean Pearson : 0.9873\n",
            "*****Epoch 41 Train Finish*****\n",
            "\n",
            "*****Epoch 41 Valid Start*****\n",
            "Epoch 41 Valid Loss : 0.0175 Valid Pearson : 0.8968\n",
            "*****Epoch 41 Valid Finish*****\n",
            "\n",
            "*****Epoch 42 Train Start*****\n",
            "Epoch: 42, Step : 128, LR : 0.0000394116, Avg Loss : 0.0033, Pearson : 0.9873\n",
            "Epoch: 42, Step : 256, LR : 0.0000393240, Avg Loss : 0.0030, Pearson : 0.9881\n",
            "Epoch 42 Total Mean Loss : 0.0032\n",
            "Epoch 42 Total Mean Pearson : 0.9875\n",
            "*****Epoch 42 Train Finish*****\n",
            "\n",
            "*****Epoch 42 Valid Start*****\n",
            "Epoch 42 Valid Loss : 0.0151 Valid Pearson : 0.9089\n",
            "*****Epoch 42 Valid Finish*****\n",
            "\n",
            "*****Epoch 43 Train Start*****\n",
            "Epoch: 43, Step : 128, LR : 0.0000391616, Avg Loss : 0.0034, Pearson : 0.9869\n",
            "Epoch: 43, Step : 256, LR : 0.0000390740, Avg Loss : 0.0033, Pearson : 0.9870\n",
            "Epoch 43 Total Mean Loss : 0.0032\n",
            "Epoch 43 Total Mean Pearson : 0.9873\n",
            "*****Epoch 43 Train Finish*****\n",
            "\n",
            "*****Epoch 43 Valid Start*****\n",
            "Epoch 43 Valid Loss : 0.0157 Valid Pearson : 0.9067\n",
            "*****Epoch 43 Valid Finish*****\n",
            "\n",
            "*****Epoch 44 Train Start*****\n",
            "Epoch: 44, Step : 128, LR : 0.0000389116, Avg Loss : 0.0031, Pearson : 0.9881\n",
            "Epoch: 44, Step : 256, LR : 0.0000388240, Avg Loss : 0.0030, Pearson : 0.9881\n",
            "Epoch 44 Total Mean Loss : 0.0030\n",
            "Epoch 44 Total Mean Pearson : 0.9884\n",
            "*****Epoch 44 Train Finish*****\n",
            "\n",
            "*****Epoch 44 Valid Start*****\n",
            "Epoch 44 Valid Loss : 0.0152 Valid Pearson : 0.9143\n",
            "*****Epoch 44 Valid Finish*****\n",
            "\n",
            "*****Epoch 45 Train Start*****\n",
            "Epoch: 45, Step : 128, LR : 0.0000386616, Avg Loss : 0.0031, Pearson : 0.9880\n",
            "Epoch: 45, Step : 256, LR : 0.0000385740, Avg Loss : 0.0031, Pearson : 0.9882\n",
            "Epoch 45 Total Mean Loss : 0.0031\n",
            "Epoch 45 Total Mean Pearson : 0.9880\n",
            "*****Epoch 45 Train Finish*****\n",
            "\n",
            "*****Epoch 45 Valid Start*****\n",
            "Epoch 45 Valid Loss : 0.0170 Valid Pearson : 0.9086\n",
            "*****Epoch 45 Valid Finish*****\n",
            "\n",
            "*****Epoch 46 Train Start*****\n",
            "Epoch: 46, Step : 128, LR : 0.0000384116, Avg Loss : 0.0029, Pearson : 0.9886\n",
            "Epoch: 46, Step : 256, LR : 0.0000383240, Avg Loss : 0.0030, Pearson : 0.9882\n",
            "Epoch 46 Total Mean Loss : 0.0029\n",
            "Epoch 46 Total Mean Pearson : 0.9886\n",
            "*****Epoch 46 Train Finish*****\n",
            "\n",
            "*****Epoch 46 Valid Start*****\n",
            "Epoch 46 Valid Loss : 0.0159 Valid Pearson : 0.9144\n",
            "*****Epoch 46 Valid Finish*****\n",
            "\n",
            "*****Epoch 47 Train Start*****\n",
            "Epoch: 47, Step : 128, LR : 0.0000381616, Avg Loss : 0.0028, Pearson : 0.9889\n",
            "Epoch: 47, Step : 256, LR : 0.0000380740, Avg Loss : 0.0029, Pearson : 0.9883\n",
            "Epoch 47 Total Mean Loss : 0.0029\n",
            "Epoch 47 Total Mean Pearson : 0.9887\n",
            "*****Epoch 47 Train Finish*****\n",
            "\n",
            "*****Epoch 47 Valid Start*****\n",
            "Epoch 47 Valid Loss : 0.0142 Valid Pearson : 0.9149\n",
            "*****Epoch 47 Valid Finish*****\n",
            "\n",
            "*****Epoch 48 Train Start*****\n",
            "Epoch: 48, Step : 128, LR : 0.0000379116, Avg Loss : 0.0028, Pearson : 0.9892\n",
            "Epoch: 48, Step : 256, LR : 0.0000378240, Avg Loss : 0.0029, Pearson : 0.9886\n",
            "Epoch 48 Total Mean Loss : 0.0028\n",
            "Epoch 48 Total Mean Pearson : 0.9890\n",
            "*****Epoch 48 Train Finish*****\n",
            "\n",
            "*****Epoch 48 Valid Start*****\n",
            "Epoch 48 Valid Loss : 0.0146 Valid Pearson : 0.9123\n",
            "*****Epoch 48 Valid Finish*****\n",
            "\n",
            "*****Epoch 49 Train Start*****\n",
            "Epoch: 49, Step : 128, LR : 0.0000376616, Avg Loss : 0.0029, Pearson : 0.9889\n",
            "Epoch: 49, Step : 256, LR : 0.0000375740, Avg Loss : 0.0028, Pearson : 0.9893\n",
            "Epoch 49 Total Mean Loss : 0.0028\n",
            "Epoch 49 Total Mean Pearson : 0.9892\n",
            "*****Epoch 49 Train Finish*****\n",
            "\n",
            "*****Epoch 49 Valid Start*****\n",
            "Epoch 49 Valid Loss : 0.0147 Valid Pearson : 0.9112\n",
            "*****Epoch 49 Valid Finish*****\n",
            "\n",
            "*****Epoch 50 Train Start*****\n",
            "Epoch: 50, Step : 128, LR : 0.0000374116, Avg Loss : 0.0027, Pearson : 0.9893\n",
            "Epoch: 50, Step : 256, LR : 0.0000373240, Avg Loss : 0.0028, Pearson : 0.9893\n",
            "Epoch 50 Total Mean Loss : 0.0028\n",
            "Epoch 50 Total Mean Pearson : 0.9893\n",
            "*****Epoch 50 Train Finish*****\n",
            "\n",
            "*****Epoch 50 Valid Start*****\n",
            "Epoch 50 Valid Loss : 0.0151 Valid Pearson : 0.9138\n",
            "*****Epoch 50 Valid Finish*****\n",
            "\n",
            "*****Epoch 51 Train Start*****\n",
            "Epoch: 51, Step : 128, LR : 0.0000371616, Avg Loss : 0.0027, Pearson : 0.9891\n",
            "Epoch: 51, Step : 256, LR : 0.0000370740, Avg Loss : 0.0027, Pearson : 0.9893\n",
            "Epoch 51 Total Mean Loss : 0.0028\n",
            "Epoch 51 Total Mean Pearson : 0.9891\n",
            "*****Epoch 51 Train Finish*****\n",
            "\n",
            "*****Epoch 51 Valid Start*****\n",
            "Epoch 51 Valid Loss : 0.0145 Valid Pearson : 0.9125\n",
            "*****Epoch 51 Valid Finish*****\n",
            "\n",
            "*****Epoch 52 Train Start*****\n",
            "Epoch: 52, Step : 128, LR : 0.0000369116, Avg Loss : 0.0027, Pearson : 0.9895\n"
          ]
        }
      ],
      "source": [
        "start = time.time()\n",
        "train_dict, valid_dict = train(model, optimizer, scheduler, train_dataloader, valid_dataloader, 200, model_name)\n",
        "end = time.time()\n",
        "print(f\"time : {(end - start)//60}분 {(end - start)%60}초\")\n"
      ]
    },
    {
      "cell_type": "code",
      "execution_count": null,
      "metadata": {
        "id": "7O4xB3dgj4OA"
      },
      "outputs": [],
      "source": [
        "draw_plot(train_dict, valid_dict, 0)"
      ]
    },
    {
      "cell_type": "code",
      "execution_count": null,
      "metadata": {
        "id": "lxIapfxuj4OA"
      },
      "outputs": [],
      "source": [
        "train_dict"
      ]
    },
    {
      "cell_type": "code",
      "execution_count": null,
      "metadata": {
        "id": "62Fg-oM0j4OA"
      },
      "outputs": [],
      "source": [
        "valid_dict"
      ]
    },
    {
      "cell_type": "markdown",
      "metadata": {
        "id": "21ErN1LIj4OA"
      },
      "source": [
        "# Freeze"
      ]
    },
    {
      "cell_type": "code",
      "execution_count": null,
      "metadata": {
        "id": "wxPdCPZ0j4OA"
      },
      "outputs": [],
      "source": [
        "model.state_dict().keys()"
      ]
    },
    {
      "cell_type": "code",
      "execution_count": null,
      "metadata": {
        "id": "31hOKZ2tj4OA"
      },
      "outputs": [],
      "source": [
        "true_sum, false_sum = 0, 0\n",
        "for para in model.parameters() :\n",
        "  if para.requires_grad == True :\n",
        "    true_sum += 1\n",
        "  else :\n",
        "    false_sum += 1\n",
        "print(true_sum, false_sum)"
      ]
    },
    {
      "cell_type": "markdown",
      "metadata": {
        "id": "yvw6Bnzij4OA"
      },
      "source": [
        "## pre-trained 부분 freezing "
      ]
    },
    {
      "cell_type": "code",
      "execution_count": null,
      "metadata": {
        "id": "jwhUqu0_j4OA"
      },
      "outputs": [],
      "source": [
        "learning_rate = 5e-05\n",
        "weight_decay = 0.01\n",
        "\n",
        "model, optimizer, scheduler = initializer(train_dataloader, 200, model_name, learning_rate, weight_decay)"
      ]
    },
    {
      "cell_type": "code",
      "execution_count": null,
      "metadata": {
        "id": "rY6-gzUvj4OA"
      },
      "outputs": [],
      "source": [
        "for para in model.parameters() :\n",
        "  para.requires_grad = False\n",
        "\n",
        "true_sum, false_sum = 0, 0\n",
        "for para in model.parameters() :\n",
        "  if para.requires_grad == True :\n",
        "    true_sum += 1\n",
        "  else :\n",
        "    false_sum += 1\n",
        "print(true_sum, false_sum)"
      ]
    },
    {
      "cell_type": "code",
      "execution_count": null,
      "metadata": {
        "colab": {
          "base_uri": "https://localhost:8080/"
        },
        "outputId": "246d4f17-4a87-4951-e8d3-b7d1df82969d",
        "id": "FvAiDdD1j4OA"
      },
      "outputs": [
        {
          "name": "stdout",
          "output_type": "stream",
          "text": [
            "4 199\n"
          ]
        }
      ],
      "source": [
        "for name, para in model.named_parameters() :\n",
        "  if name.startswith('classifier.0') or name.startswith('classifier.1') or name.startswith('classifier.2') or name.startswith('classifier.3') :\n",
        "    para.requires_grad = True\n",
        "\n",
        "true_sum, false_sum = 0, 0\n",
        "for para in model.parameters() :\n",
        "  if para.requires_grad == True :\n",
        "    true_sum += 1\n",
        "  else :\n",
        "    false_sum += 1\n",
        "print(true_sum, false_sum)"
      ]
    },
    {
      "cell_type": "code",
      "execution_count": null,
      "metadata": {
        "colab": {
          "base_uri": "https://localhost:8080/"
        },
        "outputId": "a2a1d143-2e32-4789-f637-be29daf764ce",
        "id": "Egc8-onrj4OA"
      },
      "outputs": [
        {
          "name": "stdout",
          "output_type": "stream",
          "text": [
            "*****Epoch 0 Train Start*****\n",
            "Epoch: 0, Step : 128, LR : 0.0000485274, Avg Loss : 0.1375, Pearson : 0.0289\n",
            "Epoch: 0, Step : 256, LR : 0.0000470662, Avg Loss : 0.1185, Pearson : 0.1776\n",
            "Epoch 0 Total Mean Loss : 0.1249\n",
            "Epoch 0 Total Mean Pearson : 0.1349\n",
            "*****Epoch 0 Train Finish*****\n",
            "\n",
            "*****Epoch 0 Valid Start*****\n",
            "Epoch 0 Valid Loss : 0.0886 Valid Pearson : 0.1320\n",
            "*****Epoch 0 Valid Finish*****\n",
            "\n",
            "*****Epoch 1 Train Start*****\n",
            "Epoch: 1, Step : 128, LR : 0.0000443607, Avg Loss : 0.1157, Pearson : 0.2627\n",
            "Epoch: 1, Step : 256, LR : 0.0000428995, Avg Loss : 0.1118, Pearson : 0.3133\n",
            "Epoch 1 Total Mean Loss : 0.1128\n",
            "Epoch 1 Total Mean Pearson : 0.2976\n",
            "*****Epoch 1 Train Finish*****\n",
            "\n",
            "*****Epoch 1 Valid Start*****\n",
            "Epoch 1 Valid Loss : 0.0850 Valid Pearson : 0.1584\n",
            "*****Epoch 1 Valid Finish*****\n",
            "\n",
            "*****Epoch 2 Train Start*****\n",
            "Epoch: 2, Step : 128, LR : 0.0000401941, Avg Loss : 0.1089, Pearson : 0.3372\n",
            "Epoch: 2, Step : 256, LR : 0.0000387329, Avg Loss : 0.1088, Pearson : 0.3636\n",
            "Epoch 2 Total Mean Loss : 0.1084\n",
            "Epoch 2 Total Mean Pearson : 0.3560\n",
            "*****Epoch 2 Train Finish*****\n",
            "\n",
            "*****Epoch 2 Valid Start*****\n",
            "Epoch 2 Valid Loss : 0.0845 Valid Pearson : 0.1875\n",
            "*****Epoch 2 Valid Finish*****\n",
            "\n",
            "*****Epoch 3 Train Start*****\n",
            "Epoch: 3, Step : 128, LR : 0.0000360274, Avg Loss : 0.1076, Pearson : 0.3810\n",
            "Epoch: 3, Step : 256, LR : 0.0000345662, Avg Loss : 0.1049, Pearson : 0.3920\n",
            "Epoch 3 Total Mean Loss : 0.1058\n",
            "Epoch 3 Total Mean Pearson : 0.3899\n",
            "*****Epoch 3 Train Finish*****\n",
            "\n",
            "*****Epoch 3 Valid Start*****\n",
            "Epoch 3 Valid Loss : 0.0823 Valid Pearson : 0.2136\n",
            "*****Epoch 3 Valid Finish*****\n",
            "\n",
            "*****Epoch 4 Train Start*****\n",
            "Epoch: 4, Step : 128, LR : 0.0000318607, Avg Loss : 0.1032, Pearson : 0.4016\n",
            "Epoch: 4, Step : 256, LR : 0.0000303995, Avg Loss : 0.1034, Pearson : 0.4217\n",
            "Epoch 4 Total Mean Loss : 0.1032\n",
            "Epoch 4 Total Mean Pearson : 0.4159\n",
            "*****Epoch 4 Train Finish*****\n",
            "\n",
            "*****Epoch 4 Valid Start*****\n",
            "Epoch 4 Valid Loss : 0.0815 Valid Pearson : 0.2344\n",
            "*****Epoch 4 Valid Finish*****\n",
            "\n",
            "*****Epoch 5 Train Start*****\n",
            "Epoch: 5, Step : 128, LR : 0.0000276941, Avg Loss : 0.1011, Pearson : 0.4422\n",
            "Epoch: 5, Step : 256, LR : 0.0000262329, Avg Loss : 0.1005, Pearson : 0.4361\n",
            "Epoch 5 Total Mean Loss : 0.1004\n",
            "Epoch 5 Total Mean Pearson : 0.4394\n",
            "*****Epoch 5 Train Finish*****\n",
            "\n",
            "*****Epoch 5 Valid Start*****\n",
            "Epoch 5 Valid Loss : 0.0806 Valid Pearson : 0.2563\n",
            "*****Epoch 5 Valid Finish*****\n",
            "\n",
            "*****Epoch 6 Train Start*****\n",
            "Epoch: 6, Step : 128, LR : 0.0000235274, Avg Loss : 0.0993, Pearson : 0.4500\n",
            "Epoch: 6, Step : 256, LR : 0.0000220662, Avg Loss : 0.0992, Pearson : 0.4468\n",
            "Epoch 6 Total Mean Loss : 0.0986\n",
            "Epoch 6 Total Mean Pearson : 0.4576\n",
            "*****Epoch 6 Train Finish*****\n",
            "\n",
            "*****Epoch 6 Valid Start*****\n",
            "Epoch 6 Valid Loss : 0.0802 Valid Pearson : 0.2669\n",
            "*****Epoch 6 Valid Finish*****\n",
            "\n",
            "*****Epoch 7 Train Start*****\n",
            "Epoch: 7, Step : 128, LR : 0.0000193607, Avg Loss : 0.0984, Pearson : 0.4658\n",
            "Epoch: 7, Step : 256, LR : 0.0000178995, Avg Loss : 0.0990, Pearson : 0.4562\n",
            "Epoch 7 Total Mean Loss : 0.0983\n",
            "Epoch 7 Total Mean Pearson : 0.4578\n",
            "*****Epoch 7 Train Finish*****\n",
            "\n",
            "*****Epoch 7 Valid Start*****\n",
            "Epoch 7 Valid Loss : 0.0794 Valid Pearson : 0.2772\n",
            "*****Epoch 7 Valid Finish*****\n",
            "\n",
            "*****Epoch 8 Train Start*****\n",
            "Epoch: 8, Step : 128, LR : 0.0000151941, Avg Loss : 0.0976, Pearson : 0.4603\n",
            "Epoch: 8, Step : 256, LR : 0.0000137329, Avg Loss : 0.0981, Pearson : 0.4668\n",
            "Epoch 8 Total Mean Loss : 0.0972\n",
            "Epoch 8 Total Mean Pearson : 0.4673\n",
            "*****Epoch 8 Train Finish*****\n",
            "\n",
            "*****Epoch 8 Valid Start*****\n",
            "Epoch 8 Valid Loss : 0.0794 Valid Pearson : 0.2833\n",
            "*****Epoch 8 Valid Finish*****\n",
            "\n",
            "*****Epoch 9 Train Start*****\n",
            "Epoch: 9, Step : 128, LR : 0.0000110274, Avg Loss : 0.0972, Pearson : 0.4668\n",
            "Epoch: 9, Step : 256, LR : 0.0000095662, Avg Loss : 0.0946, Pearson : 0.4957\n",
            "Epoch 9 Total Mean Loss : 0.0954\n",
            "Epoch 9 Total Mean Pearson : 0.4838\n",
            "*****Epoch 9 Train Finish*****\n",
            "\n",
            "*****Epoch 9 Valid Start*****\n",
            "Epoch 9 Valid Loss : 0.0789 Valid Pearson : 0.2870\n",
            "*****Epoch 9 Valid Finish*****\n",
            "\n",
            "*****Epoch 10 Train Start*****\n",
            "Epoch: 10, Step : 128, LR : 0.0000068607, Avg Loss : 0.0958, Pearson : 0.4777\n",
            "Epoch: 10, Step : 256, LR : 0.0000053995, Avg Loss : 0.0963, Pearson : 0.4717\n",
            "Epoch 10 Total Mean Loss : 0.0955\n",
            "Epoch 10 Total Mean Pearson : 0.4811\n",
            "*****Epoch 10 Train Finish*****\n",
            "\n",
            "*****Epoch 10 Valid Start*****\n",
            "Epoch 10 Valid Loss : 0.0788 Valid Pearson : 0.2900\n",
            "*****Epoch 10 Valid Finish*****\n",
            "\n",
            "*****Epoch 11 Train Start*****\n",
            "Epoch: 11, Step : 128, LR : 0.0000026941, Avg Loss : 0.0972, Pearson : 0.4607\n",
            "Epoch: 11, Step : 256, LR : 0.0000012329, Avg Loss : 0.0930, Pearson : 0.5005\n",
            "Epoch 11 Total Mean Loss : 0.0960\n",
            "Epoch 11 Total Mean Pearson : 0.4735\n",
            "*****Epoch 11 Train Finish*****\n",
            "\n",
            "*****Epoch 11 Valid Start*****\n",
            "Epoch 11 Valid Loss : 0.0787 Valid Pearson : 0.2907\n",
            "*****Epoch 11 Valid Finish*****\n",
            "\n",
            "Train Finished\n",
            "time : 12.0분 29.236189365386963초\n"
          ]
        }
      ],
      "source": [
        "start = time.time()\n",
        "train_dict, valid_dict = train(model, optimizer, scheduler, train_dataloader, valid_dataloader, 200, model_name)\n",
        "end = time.time()\n",
        "print(f\"time : {(end - start)//60}분 {(end - start)%60}초\")"
      ]
    },
    {
      "cell_type": "code",
      "execution_count": null,
      "metadata": {
        "colab": {
          "base_uri": "https://localhost:8080/",
          "height": 332
        },
        "outputId": "d06a5c74-3ae2-4e4d-b385-5fa6b8d683b8",
        "id": "klAO6Sjfj4OB"
      },
      "outputs": [
        {
          "name": "stdout",
          "output_type": "stream",
          "text": [
            "green is train, gray is validation\n"
          ]
        },
        {
          "data": {
            "image/png": "[encoded data removed]",
            "text/plain": [
              "<Figure size 1152x288 with 4 Axes>"
            ]
          },
          "metadata": {},
          "output_type": "display_data"
        },
        {
          "data": {
            "text/plain": [
              "<Figure size 432x288 with 0 Axes>"
            ]
          },
          "metadata": {},
          "output_type": "display_data"
        }
      ],
      "source": [
        "draw_plot(train_dict, valid_dict, 0)"
      ]
    },
    {
      "cell_type": "markdown",
      "metadata": {
        "id": "6ZsD3KJIj4OB"
      },
      "source": [
        "## pre-trained 모델 중 일부 freezing ( 11 layer + classifier )"
      ]
    },
    {
      "cell_type": "code",
      "execution_count": null,
      "metadata": {
        "colab": {
          "base_uri": "https://localhost:8080/"
        },
        "outputId": "a6f9764e-2814-4e66-9b9b-11dcf8bc5832",
        "id": "7swNcaN7j4OB"
      },
      "outputs": [
        {
          "name": "stderr",
          "output_type": "stream",
          "text": [
            "Some weights of the model checkpoint at klue/roberta-base were not used when initializing RobertaModel: ['lm_head.dense.bias', 'lm_head.layer_norm.weight', 'lm_head.decoder.weight', 'lm_head.bias', 'lm_head.dense.weight', 'lm_head.decoder.bias', 'lm_head.layer_norm.bias']\n",
            "- This IS expected if you are initializing RobertaModel from the checkpoint of a model trained on another task or with another architecture (e.g. initializing a BertForSequenceClassification model from a BertForPreTraining model).\n",
            "- This IS NOT expected if you are initializing RobertaModel from the checkpoint of a model that you expect to be exactly identical (initializing a BertForSequenceClassification model from a BertForSequenceClassification model).\n",
            "Some weights of RobertaModel were not initialized from the model checkpoint at klue/roberta-base and are newly initialized: ['roberta.pooler.dense.weight', 'roberta.pooler.dense.bias']\n",
            "You should probably TRAIN this model on a down-stream task to be able to use it for predictions and inference.\n"
          ]
        },
        {
          "name": "stdout",
          "output_type": "stream",
          "text": [
            "Total train steps with 12 epochs: 4380\n",
            "model_name : klue/roberta-base, lr : 5e-05, weight_decay : 0.01, epochs : 12\n"
          ]
        }
      ],
      "source": [
        "learning_rate = 5e-05\n",
        "weight_decay = 0.01\n",
        "\n",
        "model, optimizer, scheduler = initializer(train_dataloader, 12, model_name, learning_rate, weight_decay)"
      ]
    },
    {
      "cell_type": "code",
      "execution_count": null,
      "metadata": {
        "colab": {
          "base_uri": "https://localhost:8080/"
        },
        "outputId": "e17679e2-2caa-4806-cfd0-9cc408bc79e6",
        "id": "Elow0Guij4OB"
      },
      "outputs": [
        {
          "name": "stdout",
          "output_type": "stream",
          "text": [
            "203 0\n"
          ]
        }
      ],
      "source": [
        "true_sum, false_sum = 0, 0\n",
        "for para in model.parameters() :\n",
        "  if para.requires_grad == True :\n",
        "    true_sum += 1\n",
        "  else :\n",
        "    false_sum += 1\n",
        "print(true_sum, false_sum)"
      ]
    },
    {
      "cell_type": "code",
      "execution_count": null,
      "metadata": {
        "colab": {
          "base_uri": "https://localhost:8080/"
        },
        "outputId": "2f558f66-5e6f-4a1b-a3f9-e155696194d4",
        "id": "ykJ-LiYqj4OB"
      },
      "outputs": [
        {
          "name": "stdout",
          "output_type": "stream",
          "text": [
            "model.embeddings.word_embeddings.weight\n",
            "model.embeddings.position_embeddings.weight\n",
            "model.embeddings.token_type_embeddings.weight\n",
            "model.embeddings.LayerNorm.weight\n",
            "model.embeddings.LayerNorm.bias\n",
            "model.encoder.layer.0.attention.self.query.weight\n",
            "model.encoder.layer.0.attention.self.query.bias\n",
            "model.encoder.layer.0.attention.self.key.weight\n",
            "model.encoder.layer.0.attention.self.key.bias\n",
            "model.encoder.layer.0.attention.self.value.weight\n",
            "model.encoder.layer.0.attention.self.value.bias\n",
            "model.encoder.layer.0.attention.output.dense.weight\n",
            "model.encoder.layer.0.attention.output.dense.bias\n",
            "model.encoder.layer.0.attention.output.LayerNorm.weight\n",
            "model.encoder.layer.0.attention.output.LayerNorm.bias\n",
            "model.encoder.layer.0.intermediate.dense.weight\n",
            "model.encoder.layer.0.intermediate.dense.bias\n",
            "model.encoder.layer.0.output.dense.weight\n",
            "model.encoder.layer.0.output.dense.bias\n",
            "model.encoder.layer.0.output.LayerNorm.weight\n",
            "model.encoder.layer.0.output.LayerNorm.bias\n",
            "model.encoder.layer.1.attention.self.query.weight\n",
            "model.encoder.layer.1.attention.self.query.bias\n",
            "model.encoder.layer.1.attention.self.key.weight\n",
            "model.encoder.layer.1.attention.self.key.bias\n",
            "model.encoder.layer.1.attention.self.value.weight\n",
            "model.encoder.layer.1.attention.self.value.bias\n",
            "model.encoder.layer.1.attention.output.dense.weight\n",
            "model.encoder.layer.1.attention.output.dense.bias\n",
            "model.encoder.layer.1.attention.output.LayerNorm.weight\n",
            "model.encoder.layer.1.attention.output.LayerNorm.bias\n",
            "model.encoder.layer.1.intermediate.dense.weight\n",
            "model.encoder.layer.1.intermediate.dense.bias\n",
            "model.encoder.layer.1.output.dense.weight\n",
            "model.encoder.layer.1.output.dense.bias\n",
            "model.encoder.layer.1.output.LayerNorm.weight\n",
            "model.encoder.layer.1.output.LayerNorm.bias\n",
            "model.encoder.layer.2.attention.self.query.weight\n",
            "model.encoder.layer.2.attention.self.query.bias\n",
            "model.encoder.layer.2.attention.self.key.weight\n",
            "model.encoder.layer.2.attention.self.key.bias\n",
            "model.encoder.layer.2.attention.self.value.weight\n",
            "model.encoder.layer.2.attention.self.value.bias\n",
            "model.encoder.layer.2.attention.output.dense.weight\n",
            "model.encoder.layer.2.attention.output.dense.bias\n",
            "model.encoder.layer.2.attention.output.LayerNorm.weight\n",
            "model.encoder.layer.2.attention.output.LayerNorm.bias\n",
            "model.encoder.layer.2.intermediate.dense.weight\n",
            "model.encoder.layer.2.intermediate.dense.bias\n",
            "model.encoder.layer.2.output.dense.weight\n",
            "model.encoder.layer.2.output.dense.bias\n",
            "model.encoder.layer.2.output.LayerNorm.weight\n",
            "model.encoder.layer.2.output.LayerNorm.bias\n",
            "model.encoder.layer.3.attention.self.query.weight\n",
            "model.encoder.layer.3.attention.self.query.bias\n",
            "model.encoder.layer.3.attention.self.key.weight\n",
            "model.encoder.layer.3.attention.self.key.bias\n",
            "model.encoder.layer.3.attention.self.value.weight\n",
            "model.encoder.layer.3.attention.self.value.bias\n",
            "model.encoder.layer.3.attention.output.dense.weight\n",
            "model.encoder.layer.3.attention.output.dense.bias\n",
            "model.encoder.layer.3.attention.output.LayerNorm.weight\n",
            "model.encoder.layer.3.attention.output.LayerNorm.bias\n",
            "model.encoder.layer.3.intermediate.dense.weight\n",
            "model.encoder.layer.3.intermediate.dense.bias\n",
            "model.encoder.layer.3.output.dense.weight\n",
            "model.encoder.layer.3.output.dense.bias\n",
            "model.encoder.layer.3.output.LayerNorm.weight\n",
            "model.encoder.layer.3.output.LayerNorm.bias\n",
            "model.encoder.layer.4.attention.self.query.weight\n",
            "model.encoder.layer.4.attention.self.query.bias\n",
            "model.encoder.layer.4.attention.self.key.weight\n",
            "model.encoder.layer.4.attention.self.key.bias\n",
            "model.encoder.layer.4.attention.self.value.weight\n",
            "model.encoder.layer.4.attention.self.value.bias\n",
            "model.encoder.layer.4.attention.output.dense.weight\n",
            "model.encoder.layer.4.attention.output.dense.bias\n",
            "model.encoder.layer.4.attention.output.LayerNorm.weight\n",
            "model.encoder.layer.4.attention.output.LayerNorm.bias\n",
            "model.encoder.layer.4.intermediate.dense.weight\n",
            "model.encoder.layer.4.intermediate.dense.bias\n",
            "model.encoder.layer.4.output.dense.weight\n",
            "model.encoder.layer.4.output.dense.bias\n",
            "model.encoder.layer.4.output.LayerNorm.weight\n",
            "model.encoder.layer.4.output.LayerNorm.bias\n",
            "model.encoder.layer.5.attention.self.query.weight\n",
            "model.encoder.layer.5.attention.self.query.bias\n",
            "model.encoder.layer.5.attention.self.key.weight\n",
            "model.encoder.layer.5.attention.self.key.bias\n",
            "model.encoder.layer.5.attention.self.value.weight\n",
            "model.encoder.layer.5.attention.self.value.bias\n",
            "model.encoder.layer.5.attention.output.dense.weight\n",
            "model.encoder.layer.5.attention.output.dense.bias\n",
            "model.encoder.layer.5.attention.output.LayerNorm.weight\n",
            "model.encoder.layer.5.attention.output.LayerNorm.bias\n",
            "model.encoder.layer.5.intermediate.dense.weight\n",
            "model.encoder.layer.5.intermediate.dense.bias\n",
            "model.encoder.layer.5.output.dense.weight\n",
            "model.encoder.layer.5.output.dense.bias\n",
            "model.encoder.layer.5.output.LayerNorm.weight\n",
            "model.encoder.layer.5.output.LayerNorm.bias\n",
            "model.encoder.layer.6.attention.self.query.weight\n",
            "model.encoder.layer.6.attention.self.query.bias\n",
            "model.encoder.layer.6.attention.self.key.weight\n",
            "model.encoder.layer.6.attention.self.key.bias\n",
            "model.encoder.layer.6.attention.self.value.weight\n",
            "model.encoder.layer.6.attention.self.value.bias\n",
            "model.encoder.layer.6.attention.output.dense.weight\n",
            "model.encoder.layer.6.attention.output.dense.bias\n",
            "model.encoder.layer.6.attention.output.LayerNorm.weight\n",
            "model.encoder.layer.6.attention.output.LayerNorm.bias\n",
            "model.encoder.layer.6.intermediate.dense.weight\n",
            "model.encoder.layer.6.intermediate.dense.bias\n",
            "model.encoder.layer.6.output.dense.weight\n",
            "model.encoder.layer.6.output.dense.bias\n",
            "model.encoder.layer.6.output.LayerNorm.weight\n",
            "model.encoder.layer.6.output.LayerNorm.bias\n",
            "model.encoder.layer.7.attention.self.query.weight\n",
            "model.encoder.layer.7.attention.self.query.bias\n",
            "model.encoder.layer.7.attention.self.key.weight\n",
            "model.encoder.layer.7.attention.self.key.bias\n",
            "model.encoder.layer.7.attention.self.value.weight\n",
            "model.encoder.layer.7.attention.self.value.bias\n",
            "model.encoder.layer.7.attention.output.dense.weight\n",
            "model.encoder.layer.7.attention.output.dense.bias\n",
            "model.encoder.layer.7.attention.output.LayerNorm.weight\n",
            "model.encoder.layer.7.attention.output.LayerNorm.bias\n",
            "model.encoder.layer.7.intermediate.dense.weight\n",
            "model.encoder.layer.7.intermediate.dense.bias\n",
            "model.encoder.layer.7.output.dense.weight\n",
            "model.encoder.layer.7.output.dense.bias\n",
            "model.encoder.layer.7.output.LayerNorm.weight\n",
            "model.encoder.layer.7.output.LayerNorm.bias\n",
            "model.encoder.layer.8.attention.self.query.weight\n",
            "model.encoder.layer.8.attention.self.query.bias\n",
            "model.encoder.layer.8.attention.self.key.weight\n",
            "model.encoder.layer.8.attention.self.key.bias\n",
            "model.encoder.layer.8.attention.self.value.weight\n",
            "model.encoder.layer.8.attention.self.value.bias\n",
            "model.encoder.layer.8.attention.output.dense.weight\n",
            "model.encoder.layer.8.attention.output.dense.bias\n",
            "model.encoder.layer.8.attention.output.LayerNorm.weight\n",
            "model.encoder.layer.8.attention.output.LayerNorm.bias\n",
            "model.encoder.layer.8.intermediate.dense.weight\n",
            "model.encoder.layer.8.intermediate.dense.bias\n",
            "model.encoder.layer.8.output.dense.weight\n",
            "model.encoder.layer.8.output.dense.bias\n",
            "model.encoder.layer.8.output.LayerNorm.weight\n",
            "model.encoder.layer.8.output.LayerNorm.bias\n",
            "model.encoder.layer.9.attention.self.query.weight\n",
            "model.encoder.layer.9.attention.self.query.bias\n",
            "model.encoder.layer.9.attention.self.key.weight\n",
            "model.encoder.layer.9.attention.self.key.bias\n",
            "model.encoder.layer.9.attention.self.value.weight\n",
            "model.encoder.layer.9.attention.self.value.bias\n",
            "model.encoder.layer.9.attention.output.dense.weight\n",
            "model.encoder.layer.9.attention.output.dense.bias\n",
            "model.encoder.layer.9.attention.output.LayerNorm.weight\n",
            "model.encoder.layer.9.attention.output.LayerNorm.bias\n",
            "model.encoder.layer.9.intermediate.dense.weight\n",
            "model.encoder.layer.9.intermediate.dense.bias\n",
            "model.encoder.layer.9.output.dense.weight\n",
            "model.encoder.layer.9.output.dense.bias\n",
            "model.encoder.layer.9.output.LayerNorm.weight\n",
            "model.encoder.layer.9.output.LayerNorm.bias\n",
            "model.encoder.layer.10.attention.self.query.weight\n",
            "model.encoder.layer.10.attention.self.query.bias\n",
            "model.encoder.layer.10.attention.self.key.weight\n",
            "model.encoder.layer.10.attention.self.key.bias\n",
            "model.encoder.layer.10.attention.self.value.weight\n",
            "model.encoder.layer.10.attention.self.value.bias\n",
            "model.encoder.layer.10.attention.output.dense.weight\n",
            "model.encoder.layer.10.attention.output.dense.bias\n",
            "model.encoder.layer.10.attention.output.LayerNorm.weight\n",
            "model.encoder.layer.10.attention.output.LayerNorm.bias\n",
            "model.encoder.layer.10.intermediate.dense.weight\n",
            "model.encoder.layer.10.intermediate.dense.bias\n",
            "model.encoder.layer.10.output.dense.weight\n",
            "model.encoder.layer.10.output.dense.bias\n",
            "model.encoder.layer.10.output.LayerNorm.weight\n",
            "model.encoder.layer.10.output.LayerNorm.bias\n",
            "model.encoder.layer.11.attention.self.query.weight\n",
            "model.encoder.layer.11.attention.self.query.bias\n",
            "model.encoder.layer.11.attention.self.key.weight\n",
            "model.encoder.layer.11.attention.self.key.bias\n",
            "model.encoder.layer.11.attention.self.value.weight\n",
            "model.encoder.layer.11.attention.self.value.bias\n",
            "model.encoder.layer.11.attention.output.dense.weight\n",
            "model.encoder.layer.11.attention.output.dense.bias\n",
            "model.encoder.layer.11.attention.output.LayerNorm.weight\n",
            "model.encoder.layer.11.attention.output.LayerNorm.bias\n",
            "model.encoder.layer.11.intermediate.dense.weight\n",
            "model.encoder.layer.11.intermediate.dense.bias\n",
            "model.encoder.layer.11.output.dense.weight\n",
            "model.encoder.layer.11.output.dense.bias\n",
            "model.encoder.layer.11.output.LayerNorm.weight\n",
            "model.encoder.layer.11.output.LayerNorm.bias\n",
            "model.pooler.dense.weight\n",
            "model.pooler.dense.bias\n",
            "classifier.0.weight\n",
            "classifier.0.bias\n",
            "classifier.3.weight\n",
            "classifier.3.bias\n"
          ]
        }
      ],
      "source": [
        "for name, para in model.named_parameters() :\n",
        "  print(name)"
      ]
    },
    {
      "cell_type": "code",
      "execution_count": null,
      "metadata": {
        "colab": {
          "base_uri": "https://localhost:8080/"
        },
        "outputId": "32717f5e-298c-4391-8516-e3ab55110ff0",
        "id": "73uZoIaLj4OB"
      },
      "outputs": [
        {
          "name": "stdout",
          "output_type": "stream",
          "text": [
            "22 181\n"
          ]
        }
      ],
      "source": [
        "for para in model.parameters() :\n",
        "  para.requires_grad = False\n",
        "\n",
        "for name, para in model.named_parameters() :\n",
        "  if name.startswith('model.encoder.layer.11') or name.startswith('model.pooler.dense') or name.startswith('classifier.') : \n",
        "    para.requires_grad = True\n",
        "\n",
        "true_sum, false_sum = 0, 0\n",
        "for para in model.parameters() :\n",
        "  if para.requires_grad == True :\n",
        "    true_sum += 1\n",
        "  else :\n",
        "    false_sum += 1\n",
        "print(true_sum, false_sum)"
      ]
    },
    {
      "cell_type": "code",
      "execution_count": null,
      "metadata": {
        "colab": {
          "base_uri": "https://localhost:8080/",
          "height": 1000
        },
        "outputId": "09d4257b-307e-4028-dd14-47e68c962261",
        "id": "a7hboB2Tj4OB"
      },
      "outputs": [
        {
          "name": "stdout",
          "output_type": "stream",
          "text": [
            "*****Epoch 0 Train Start*****\n",
            "Epoch: 0, Step : 128, LR : 0.0000485274, Avg Loss : 0.1187, Pearson : 0.3243\n",
            "Epoch: 0, Step : 256, LR : 0.0000470662, Avg Loss : 0.0446, Pearson : 0.8087\n",
            "Epoch 0 Total Mean Loss : 0.0683\n",
            "Epoch 0 Total Mean Pearson : 0.6482\n",
            "*****Epoch 0 Train Finish*****\n",
            "\n",
            "*****Epoch 0 Valid Start*****\n",
            "Epoch 0 Valid Loss : 0.0452 Valid Pearson : 0.7458\n",
            "*****Epoch 0 Valid Finish*****\n",
            "\n",
            "*****Epoch 1 Train Start*****\n",
            "Epoch: 1, Step : 128, LR : 0.0000443607, Avg Loss : 0.0314, Pearson : 0.8691\n",
            "Epoch: 1, Step : 256, LR : 0.0000428995, Avg Loss : 0.0285, Pearson : 0.8822\n",
            "Epoch 1 Total Mean Loss : 0.0294\n",
            "Epoch 1 Total Mean Pearson : 0.8781\n",
            "*****Epoch 1 Train Finish*****\n",
            "\n",
            "*****Epoch 1 Valid Start*****\n",
            "Epoch 1 Valid Loss : 0.0501 Valid Pearson : 0.7776\n",
            "*****Epoch 1 Valid Finish*****\n",
            "\n",
            "*****Epoch 2 Train Start*****\n",
            "Epoch: 2, Step : 128, LR : 0.0000401941, Avg Loss : 0.0253, Pearson : 0.8954\n",
            "Epoch: 2, Step : 256, LR : 0.0000387329, Avg Loss : 0.0247, Pearson : 0.8996\n",
            "Epoch 2 Total Mean Loss : 0.0250\n",
            "Epoch 2 Total Mean Pearson : 0.8981\n",
            "*****Epoch 2 Train Finish*****\n",
            "\n",
            "*****Epoch 2 Valid Start*****\n",
            "Epoch 2 Valid Loss : 0.0326 Valid Pearson : 0.8079\n",
            "*****Epoch 2 Valid Finish*****\n",
            "\n",
            "*****Epoch 3 Train Start*****\n",
            "Epoch: 3, Step : 128, LR : 0.0000360274, Avg Loss : 0.0229, Pearson : 0.9060\n",
            "Epoch: 3, Step : 256, LR : 0.0000345662, Avg Loss : 0.0222, Pearson : 0.9072\n",
            "Epoch 3 Total Mean Loss : 0.0224\n",
            "Epoch 3 Total Mean Pearson : 0.9078\n",
            "*****Epoch 3 Train Finish*****\n",
            "\n",
            "*****Epoch 3 Valid Start*****\n",
            "Epoch 3 Valid Loss : 0.0438 Valid Pearson : 0.7926\n",
            "*****Epoch 3 Valid Finish*****\n",
            "\n",
            "*****Epoch 4 Train Start*****\n",
            "Epoch: 4, Step : 128, LR : 0.0000318607, Avg Loss : 0.0222, Pearson : 0.9101\n",
            "Epoch: 4, Step : 256, LR : 0.0000303995, Avg Loss : 0.0207, Pearson : 0.9133\n",
            "Epoch 4 Total Mean Loss : 0.0216\n",
            "Epoch 4 Total Mean Pearson : 0.9116\n",
            "*****Epoch 4 Train Finish*****\n",
            "\n",
            "*****Epoch 4 Valid Start*****\n",
            "Epoch 4 Valid Loss : 0.0347 Valid Pearson : 0.8102\n",
            "*****Epoch 4 Valid Finish*****\n",
            "\n",
            "*****Epoch 5 Train Start*****\n",
            "Epoch: 5, Step : 128, LR : 0.0000276941, Avg Loss : 0.0208, Pearson : 0.9143\n",
            "Epoch: 5, Step : 256, LR : 0.0000262329, Avg Loss : 0.0200, Pearson : 0.9180\n",
            "Epoch 5 Total Mean Loss : 0.0203\n",
            "Epoch 5 Total Mean Pearson : 0.9170\n",
            "*****Epoch 5 Train Finish*****\n",
            "\n",
            "*****Epoch 5 Valid Start*****\n",
            "Epoch 5 Valid Loss : 0.0423 Valid Pearson : 0.7900\n",
            "*****Epoch 5 Valid Finish*****\n",
            "\n",
            "*****Epoch 6 Train Start*****\n",
            "Epoch: 6, Step : 128, LR : 0.0000235274, Avg Loss : 0.0197, Pearson : 0.9173\n",
            "Epoch: 6, Step : 256, LR : 0.0000220662, Avg Loss : 0.0185, Pearson : 0.9240\n",
            "Epoch 6 Total Mean Loss : 0.0192\n",
            "Epoch 6 Total Mean Pearson : 0.9206\n",
            "*****Epoch 6 Train Finish*****\n",
            "\n",
            "*****Epoch 6 Valid Start*****\n",
            "Epoch 6 Valid Loss : 0.0340 Valid Pearson : 0.8225\n",
            "*****Epoch 6 Valid Finish*****\n",
            "\n",
            "*****Epoch 7 Train Start*****\n",
            "Epoch: 7, Step : 128, LR : 0.0000193607, Avg Loss : 0.0179, Pearson : 0.9274\n",
            "Epoch: 7, Step : 256, LR : 0.0000178995, Avg Loss : 0.0196, Pearson : 0.9193\n",
            "Epoch 7 Total Mean Loss : 0.0190\n",
            "Epoch 7 Total Mean Pearson : 0.9222\n",
            "*****Epoch 7 Train Finish*****\n",
            "\n",
            "*****Epoch 7 Valid Start*****\n",
            "Epoch 7 Valid Loss : 0.0356 Valid Pearson : 0.8082\n",
            "*****Epoch 7 Valid Finish*****\n",
            "\n",
            "*****Epoch 8 Train Start*****\n",
            "Epoch: 8, Step : 128, LR : 0.0000151941, Avg Loss : 0.0179, Pearson : 0.9260\n",
            "Epoch: 8, Step : 256, LR : 0.0000137329, Avg Loss : 0.0183, Pearson : 0.9253\n",
            "Epoch 8 Total Mean Loss : 0.0182\n",
            "Epoch 8 Total Mean Pearson : 0.9250\n",
            "*****Epoch 8 Train Finish*****\n",
            "\n",
            "*****Epoch 8 Valid Start*****\n",
            "Epoch 8 Valid Loss : 0.0393 Valid Pearson : 0.8101\n",
            "*****Epoch 8 Valid Finish*****\n",
            "\n",
            "*****Epoch 9 Train Start*****\n",
            "Epoch: 9, Step : 128, LR : 0.0000110274, Avg Loss : 0.0173, Pearson : 0.9277\n",
            "Epoch: 9, Step : 256, LR : 0.0000095662, Avg Loss : 0.0162, Pearson : 0.9328\n",
            "Epoch 9 Total Mean Loss : 0.0168\n",
            "Epoch 9 Total Mean Pearson : 0.9305\n",
            "*****Epoch 9 Train Finish*****\n",
            "\n",
            "*****Epoch 9 Valid Start*****\n",
            "Epoch 9 Valid Loss : 0.0353 Valid Pearson : 0.8121\n",
            "*****Epoch 9 Valid Finish*****\n",
            "\n",
            "*****Epoch 10 Train Start*****\n",
            "Epoch: 10, Step : 128, LR : 0.0000068607, Avg Loss : 0.0173, Pearson : 0.9296\n",
            "Epoch: 10, Step : 256, LR : 0.0000053995, Avg Loss : 0.0174, Pearson : 0.9279\n",
            "Epoch 10 Total Mean Loss : 0.0171\n",
            "Epoch 10 Total Mean Pearson : 0.9294\n",
            "*****Epoch 10 Train Finish*****\n",
            "\n",
            "*****Epoch 10 Valid Start*****\n",
            "Epoch 10 Valid Loss : 0.0417 Valid Pearson : 0.8041\n",
            "*****Epoch 10 Valid Finish*****\n",
            "\n",
            "*****Epoch 11 Train Start*****\n",
            "Epoch: 11, Step : 128, LR : 0.0000026941, Avg Loss : 0.0171, Pearson : 0.9289\n",
            "Epoch: 11, Step : 256, LR : 0.0000012329, Avg Loss : 0.0165, Pearson : 0.9311\n",
            "Epoch 11 Total Mean Loss : 0.0168\n",
            "Epoch 11 Total Mean Pearson : 0.9307\n",
            "*****Epoch 11 Train Finish*****\n",
            "\n",
            "*****Epoch 11 Valid Start*****\n",
            "Epoch 11 Valid Loss : 0.0385 Valid Pearson : 0.8135\n",
            "*****Epoch 11 Valid Finish*****\n",
            "\n",
            "Train Finished\n",
            "time : 13.0분 56.60221719741821초\n"
          ]
        }
      ],
      "source": [
        "start = time.time()\n",
        "train_dict, valid_dict = train(model, optimizer, scheduler, train_dataloader, valid_dataloader, 12, model_name)\n",
        "end = time.time()\n",
        "print(f\"time : {(end - start)//60}분 {(end - start)%60}초\")"
      ]
    },
    {
      "cell_type": "code",
      "execution_count": null,
      "metadata": {
        "colab": {
          "base_uri": "https://localhost:8080/",
          "height": 332
        },
        "outputId": "efb91451-d072-4475-e4e7-8c2f07e22bd8",
        "id": "qCPipJGKj4OB"
      },
      "outputs": [
        {
          "name": "stdout",
          "output_type": "stream",
          "text": [
            "green is train, gray is validation\n"
          ]
        },
        {
          "data": {
            "image/png": "[encoded data removed]",
            "text/plain": [
              "<Figure size 1152x288 with 4 Axes>"
            ]
          },
          "metadata": {},
          "output_type": "display_data"
        },
        {
          "data": {
            "text/plain": [
              "<Figure size 432x288 with 0 Axes>"
            ]
          },
          "metadata": {},
          "output_type": "display_data"
        }
      ],
      "source": [
        "draw_plot(train_dict, valid_dict, 0)"
      ]
    },
    {
      "cell_type": "code",
      "execution_count": null,
      "metadata": {
        "id": "xE0yyVsZj4OC"
      },
      "outputs": [],
      "source": []
    },
    {
      "cell_type": "markdown",
      "metadata": {
        "id": "vFN9nFZuj4OC"
      },
      "source": [
        "## pre-trained 모델 중 일부 freezing ( 6, 7, ... , 11 layer + classifier )"
      ]
    },
    {
      "cell_type": "code",
      "execution_count": null,
      "metadata": {
        "colab": {
          "base_uri": "https://localhost:8080/"
        },
        "outputId": "4bcc76c9-2374-4a9e-dd8c-c0381e7bffa3",
        "id": "c_MDgRCqj4OC"
      },
      "outputs": [
        {
          "name": "stderr",
          "output_type": "stream",
          "text": [
            "Some weights of the model checkpoint at klue/roberta-base were not used when initializing RobertaModel: ['lm_head.dense.bias', 'lm_head.layer_norm.weight', 'lm_head.decoder.weight', 'lm_head.bias', 'lm_head.dense.weight', 'lm_head.decoder.bias', 'lm_head.layer_norm.bias']\n",
            "- This IS expected if you are initializing RobertaModel from the checkpoint of a model trained on another task or with another architecture (e.g. initializing a BertForSequenceClassification model from a BertForPreTraining model).\n",
            "- This IS NOT expected if you are initializing RobertaModel from the checkpoint of a model that you expect to be exactly identical (initializing a BertForSequenceClassification model from a BertForSequenceClassification model).\n",
            "Some weights of RobertaModel were not initialized from the model checkpoint at klue/roberta-base and are newly initialized: ['roberta.pooler.dense.weight', 'roberta.pooler.dense.bias']\n",
            "You should probably TRAIN this model on a down-stream task to be able to use it for predictions and inference.\n"
          ]
        },
        {
          "name": "stdout",
          "output_type": "stream",
          "text": [
            "Total train steps with 12 epochs: 4380\n",
            "model_name : klue/roberta-base, lr : 5e-05, weight_decay : 0.01, epochs : 12\n"
          ]
        }
      ],
      "source": [
        "learning_rate = 5e-05\n",
        "weight_decay = 0.01\n",
        "\n",
        "model, optimizer, scheduler = initializer(train_dataloader, 12, model_name, learning_rate, weight_decay)"
      ]
    },
    {
      "cell_type": "code",
      "execution_count": null,
      "metadata": {
        "colab": {
          "base_uri": "https://localhost:8080/"
        },
        "outputId": "63ff08fa-34ba-464d-a5b5-5d925649cd07",
        "id": "aC-cAw8Xj4OC"
      },
      "outputs": [
        {
          "name": "stdout",
          "output_type": "stream",
          "text": [
            "203 0\n"
          ]
        }
      ],
      "source": [
        "true_sum, false_sum = 0, 0\n",
        "for para in model.parameters() :\n",
        "  if para.requires_grad == True :\n",
        "    true_sum += 1\n",
        "  else :\n",
        "    false_sum += 1\n",
        "print(true_sum, false_sum)"
      ]
    },
    {
      "cell_type": "code",
      "execution_count": null,
      "metadata": {
        "colab": {
          "base_uri": "https://localhost:8080/"
        },
        "outputId": "9d042af5-98de-4e59-e4b7-ce4e8be3064b",
        "id": "TPHq0to2j4OC"
      },
      "outputs": [
        {
          "name": "stdout",
          "output_type": "stream",
          "text": [
            "model.embeddings.word_embeddings.weight\n",
            "model.embeddings.position_embeddings.weight\n",
            "model.embeddings.token_type_embeddings.weight\n",
            "model.embeddings.LayerNorm.weight\n",
            "model.embeddings.LayerNorm.bias\n",
            "model.encoder.layer.0.attention.self.query.weight\n",
            "model.encoder.layer.0.attention.self.query.bias\n",
            "model.encoder.layer.0.attention.self.key.weight\n",
            "model.encoder.layer.0.attention.self.key.bias\n",
            "model.encoder.layer.0.attention.self.value.weight\n",
            "model.encoder.layer.0.attention.self.value.bias\n",
            "model.encoder.layer.0.attention.output.dense.weight\n",
            "model.encoder.layer.0.attention.output.dense.bias\n",
            "model.encoder.layer.0.attention.output.LayerNorm.weight\n",
            "model.encoder.layer.0.attention.output.LayerNorm.bias\n",
            "model.encoder.layer.0.intermediate.dense.weight\n",
            "model.encoder.layer.0.intermediate.dense.bias\n",
            "model.encoder.layer.0.output.dense.weight\n",
            "model.encoder.layer.0.output.dense.bias\n",
            "model.encoder.layer.0.output.LayerNorm.weight\n",
            "model.encoder.layer.0.output.LayerNorm.bias\n",
            "model.encoder.layer.1.attention.self.query.weight\n",
            "model.encoder.layer.1.attention.self.query.bias\n",
            "model.encoder.layer.1.attention.self.key.weight\n",
            "model.encoder.layer.1.attention.self.key.bias\n",
            "model.encoder.layer.1.attention.self.value.weight\n",
            "model.encoder.layer.1.attention.self.value.bias\n",
            "model.encoder.layer.1.attention.output.dense.weight\n",
            "model.encoder.layer.1.attention.output.dense.bias\n",
            "model.encoder.layer.1.attention.output.LayerNorm.weight\n",
            "model.encoder.layer.1.attention.output.LayerNorm.bias\n",
            "model.encoder.layer.1.intermediate.dense.weight\n",
            "model.encoder.layer.1.intermediate.dense.bias\n",
            "model.encoder.layer.1.output.dense.weight\n",
            "model.encoder.layer.1.output.dense.bias\n",
            "model.encoder.layer.1.output.LayerNorm.weight\n",
            "model.encoder.layer.1.output.LayerNorm.bias\n",
            "model.encoder.layer.2.attention.self.query.weight\n",
            "model.encoder.layer.2.attention.self.query.bias\n",
            "model.encoder.layer.2.attention.self.key.weight\n",
            "model.encoder.layer.2.attention.self.key.bias\n",
            "model.encoder.layer.2.attention.self.value.weight\n",
            "model.encoder.layer.2.attention.self.value.bias\n",
            "model.encoder.layer.2.attention.output.dense.weight\n",
            "model.encoder.layer.2.attention.output.dense.bias\n",
            "model.encoder.layer.2.attention.output.LayerNorm.weight\n",
            "model.encoder.layer.2.attention.output.LayerNorm.bias\n",
            "model.encoder.layer.2.intermediate.dense.weight\n",
            "model.encoder.layer.2.intermediate.dense.bias\n",
            "model.encoder.layer.2.output.dense.weight\n",
            "model.encoder.layer.2.output.dense.bias\n",
            "model.encoder.layer.2.output.LayerNorm.weight\n",
            "model.encoder.layer.2.output.LayerNorm.bias\n",
            "model.encoder.layer.3.attention.self.query.weight\n",
            "model.encoder.layer.3.attention.self.query.bias\n",
            "model.encoder.layer.3.attention.self.key.weight\n",
            "model.encoder.layer.3.attention.self.key.bias\n",
            "model.encoder.layer.3.attention.self.value.weight\n",
            "model.encoder.layer.3.attention.self.value.bias\n",
            "model.encoder.layer.3.attention.output.dense.weight\n",
            "model.encoder.layer.3.attention.output.dense.bias\n",
            "model.encoder.layer.3.attention.output.LayerNorm.weight\n",
            "model.encoder.layer.3.attention.output.LayerNorm.bias\n",
            "model.encoder.layer.3.intermediate.dense.weight\n",
            "model.encoder.layer.3.intermediate.dense.bias\n",
            "model.encoder.layer.3.output.dense.weight\n",
            "model.encoder.layer.3.output.dense.bias\n",
            "model.encoder.layer.3.output.LayerNorm.weight\n",
            "model.encoder.layer.3.output.LayerNorm.bias\n",
            "model.encoder.layer.4.attention.self.query.weight\n",
            "model.encoder.layer.4.attention.self.query.bias\n",
            "model.encoder.layer.4.attention.self.key.weight\n",
            "model.encoder.layer.4.attention.self.key.bias\n",
            "model.encoder.layer.4.attention.self.value.weight\n",
            "model.encoder.layer.4.attention.self.value.bias\n",
            "model.encoder.layer.4.attention.output.dense.weight\n",
            "model.encoder.layer.4.attention.output.dense.bias\n",
            "model.encoder.layer.4.attention.output.LayerNorm.weight\n",
            "model.encoder.layer.4.attention.output.LayerNorm.bias\n",
            "model.encoder.layer.4.intermediate.dense.weight\n",
            "model.encoder.layer.4.intermediate.dense.bias\n",
            "model.encoder.layer.4.output.dense.weight\n",
            "model.encoder.layer.4.output.dense.bias\n",
            "model.encoder.layer.4.output.LayerNorm.weight\n",
            "model.encoder.layer.4.output.LayerNorm.bias\n",
            "model.encoder.layer.5.attention.self.query.weight\n",
            "model.encoder.layer.5.attention.self.query.bias\n",
            "model.encoder.layer.5.attention.self.key.weight\n",
            "model.encoder.layer.5.attention.self.key.bias\n",
            "model.encoder.layer.5.attention.self.value.weight\n",
            "model.encoder.layer.5.attention.self.value.bias\n",
            "model.encoder.layer.5.attention.output.dense.weight\n",
            "model.encoder.layer.5.attention.output.dense.bias\n",
            "model.encoder.layer.5.attention.output.LayerNorm.weight\n",
            "model.encoder.layer.5.attention.output.LayerNorm.bias\n",
            "model.encoder.layer.5.intermediate.dense.weight\n",
            "model.encoder.layer.5.intermediate.dense.bias\n",
            "model.encoder.layer.5.output.dense.weight\n",
            "model.encoder.layer.5.output.dense.bias\n",
            "model.encoder.layer.5.output.LayerNorm.weight\n",
            "model.encoder.layer.5.output.LayerNorm.bias\n",
            "model.encoder.layer.6.attention.self.query.weight\n",
            "model.encoder.layer.6.attention.self.query.bias\n",
            "model.encoder.layer.6.attention.self.key.weight\n",
            "model.encoder.layer.6.attention.self.key.bias\n",
            "model.encoder.layer.6.attention.self.value.weight\n",
            "model.encoder.layer.6.attention.self.value.bias\n",
            "model.encoder.layer.6.attention.output.dense.weight\n",
            "model.encoder.layer.6.attention.output.dense.bias\n",
            "model.encoder.layer.6.attention.output.LayerNorm.weight\n",
            "model.encoder.layer.6.attention.output.LayerNorm.bias\n",
            "model.encoder.layer.6.intermediate.dense.weight\n",
            "model.encoder.layer.6.intermediate.dense.bias\n",
            "model.encoder.layer.6.output.dense.weight\n",
            "model.encoder.layer.6.output.dense.bias\n",
            "model.encoder.layer.6.output.LayerNorm.weight\n",
            "model.encoder.layer.6.output.LayerNorm.bias\n",
            "model.encoder.layer.7.attention.self.query.weight\n",
            "model.encoder.layer.7.attention.self.query.bias\n",
            "model.encoder.layer.7.attention.self.key.weight\n",
            "model.encoder.layer.7.attention.self.key.bias\n",
            "model.encoder.layer.7.attention.self.value.weight\n",
            "model.encoder.layer.7.attention.self.value.bias\n",
            "model.encoder.layer.7.attention.output.dense.weight\n",
            "model.encoder.layer.7.attention.output.dense.bias\n",
            "model.encoder.layer.7.attention.output.LayerNorm.weight\n",
            "model.encoder.layer.7.attention.output.LayerNorm.bias\n",
            "model.encoder.layer.7.intermediate.dense.weight\n",
            "model.encoder.layer.7.intermediate.dense.bias\n",
            "model.encoder.layer.7.output.dense.weight\n",
            "model.encoder.layer.7.output.dense.bias\n",
            "model.encoder.layer.7.output.LayerNorm.weight\n",
            "model.encoder.layer.7.output.LayerNorm.bias\n",
            "model.encoder.layer.8.attention.self.query.weight\n",
            "model.encoder.layer.8.attention.self.query.bias\n",
            "model.encoder.layer.8.attention.self.key.weight\n",
            "model.encoder.layer.8.attention.self.key.bias\n",
            "model.encoder.layer.8.attention.self.value.weight\n",
            "model.encoder.layer.8.attention.self.value.bias\n",
            "model.encoder.layer.8.attention.output.dense.weight\n",
            "model.encoder.layer.8.attention.output.dense.bias\n",
            "model.encoder.layer.8.attention.output.LayerNorm.weight\n",
            "model.encoder.layer.8.attention.output.LayerNorm.bias\n",
            "model.encoder.layer.8.intermediate.dense.weight\n",
            "model.encoder.layer.8.intermediate.dense.bias\n",
            "model.encoder.layer.8.output.dense.weight\n",
            "model.encoder.layer.8.output.dense.bias\n",
            "model.encoder.layer.8.output.LayerNorm.weight\n",
            "model.encoder.layer.8.output.LayerNorm.bias\n",
            "model.encoder.layer.9.attention.self.query.weight\n",
            "model.encoder.layer.9.attention.self.query.bias\n",
            "model.encoder.layer.9.attention.self.key.weight\n",
            "model.encoder.layer.9.attention.self.key.bias\n",
            "model.encoder.layer.9.attention.self.value.weight\n",
            "model.encoder.layer.9.attention.self.value.bias\n",
            "model.encoder.layer.9.attention.output.dense.weight\n",
            "model.encoder.layer.9.attention.output.dense.bias\n",
            "model.encoder.layer.9.attention.output.LayerNorm.weight\n",
            "model.encoder.layer.9.attention.output.LayerNorm.bias\n",
            "model.encoder.layer.9.intermediate.dense.weight\n",
            "model.encoder.layer.9.intermediate.dense.bias\n",
            "model.encoder.layer.9.output.dense.weight\n",
            "model.encoder.layer.9.output.dense.bias\n",
            "model.encoder.layer.9.output.LayerNorm.weight\n",
            "model.encoder.layer.9.output.LayerNorm.bias\n",
            "model.encoder.layer.10.attention.self.query.weight\n",
            "model.encoder.layer.10.attention.self.query.bias\n",
            "model.encoder.layer.10.attention.self.key.weight\n",
            "model.encoder.layer.10.attention.self.key.bias\n",
            "model.encoder.layer.10.attention.self.value.weight\n",
            "model.encoder.layer.10.attention.self.value.bias\n",
            "model.encoder.layer.10.attention.output.dense.weight\n",
            "model.encoder.layer.10.attention.output.dense.bias\n",
            "model.encoder.layer.10.attention.output.LayerNorm.weight\n",
            "model.encoder.layer.10.attention.output.LayerNorm.bias\n",
            "model.encoder.layer.10.intermediate.dense.weight\n",
            "model.encoder.layer.10.intermediate.dense.bias\n",
            "model.encoder.layer.10.output.dense.weight\n",
            "model.encoder.layer.10.output.dense.bias\n",
            "model.encoder.layer.10.output.LayerNorm.weight\n",
            "model.encoder.layer.10.output.LayerNorm.bias\n",
            "model.encoder.layer.11.attention.self.query.weight\n",
            "model.encoder.layer.11.attention.self.query.bias\n",
            "model.encoder.layer.11.attention.self.key.weight\n",
            "model.encoder.layer.11.attention.self.key.bias\n",
            "model.encoder.layer.11.attention.self.value.weight\n",
            "model.encoder.layer.11.attention.self.value.bias\n",
            "model.encoder.layer.11.attention.output.dense.weight\n",
            "model.encoder.layer.11.attention.output.dense.bias\n",
            "model.encoder.layer.11.attention.output.LayerNorm.weight\n",
            "model.encoder.layer.11.attention.output.LayerNorm.bias\n",
            "model.encoder.layer.11.intermediate.dense.weight\n",
            "model.encoder.layer.11.intermediate.dense.bias\n",
            "model.encoder.layer.11.output.dense.weight\n",
            "model.encoder.layer.11.output.dense.bias\n",
            "model.encoder.layer.11.output.LayerNorm.weight\n",
            "model.encoder.layer.11.output.LayerNorm.bias\n",
            "model.pooler.dense.weight\n",
            "model.pooler.dense.bias\n",
            "classifier.0.weight\n",
            "classifier.0.bias\n",
            "classifier.3.weight\n",
            "classifier.3.bias\n"
          ]
        }
      ],
      "source": [
        "for name, para in model.named_parameters() :\n",
        "  print(name)"
      ]
    },
    {
      "cell_type": "code",
      "execution_count": null,
      "metadata": {
        "colab": {
          "base_uri": "https://localhost:8080/"
        },
        "outputId": "b32164b0-b5bd-4893-d4ee-73f35d068b5e",
        "id": "ulDHNag1j4OC"
      },
      "outputs": [
        {
          "name": "stdout",
          "output_type": "stream",
          "text": [
            "102 101\n"
          ]
        }
      ],
      "source": [
        "for para in model.parameters() :\n",
        "  para.requires_grad = False\n",
        "\n",
        "for name, para in model.named_parameters() :\n",
        "  if name.startswith('model.encoder.layer.11') or name.startswith('model.encoder.layer.10') or name.startswith('model.encoder.layer.9') or name.startswith('model.encoder.layer.8') or name.startswith('model.encoder.layer.7') or name.startswith('model.encoder.layer.6') or name.startswith('model.pooler.dense.') or name.startswith('classifier.') :\n",
        "    para.requires_grad = True\n",
        "\n",
        "true_sum, false_sum = 0, 0\n",
        "for para in model.parameters() :\n",
        "  if para.requires_grad == True :\n",
        "    true_sum += 1\n",
        "  else :\n",
        "    false_sum += 1\n",
        "print(true_sum, false_sum)"
      ]
    },
    {
      "cell_type": "code",
      "execution_count": null,
      "metadata": {
        "colab": {
          "base_uri": "https://localhost:8080/"
        },
        "outputId": "aead306c-4256-4478-9353-680a7a0392e6",
        "id": "M7cw4PZhj4OC"
      },
      "outputs": [
        {
          "name": "stdout",
          "output_type": "stream",
          "text": [
            "*****Epoch 0 Train Start*****\n",
            "Epoch: 0, Step : 128, LR : 0.0000485274, Avg Loss : 0.0406, Pearson : 0.8034\n",
            "Epoch: 0, Step : 256, LR : 0.0000470662, Avg Loss : 0.0160, Pearson : 0.9382\n",
            "Epoch 0 Total Mean Loss : 0.0237\n",
            "Epoch 0 Total Mean Pearson : 0.8939\n",
            "*****Epoch 0 Train Finish*****\n",
            "\n",
            "*****Epoch 0 Valid Start*****\n",
            "Epoch 0 Valid Loss : 0.0212 Valid Pearson : 0.8647\n",
            "*****Epoch 0 Valid Finish*****\n",
            "\n",
            "*****Epoch 1 Train Start*****\n",
            "Epoch: 1, Step : 128, LR : 0.0000443607, Avg Loss : 0.0114, Pearson : 0.9554\n",
            "Epoch: 1, Step : 256, LR : 0.0000428995, Avg Loss : 0.0114, Pearson : 0.9569\n",
            "Epoch 1 Total Mean Loss : 0.0113\n",
            "Epoch 1 Total Mean Pearson : 0.9567\n",
            "*****Epoch 1 Train Finish*****\n",
            "\n",
            "*****Epoch 1 Valid Start*****\n",
            "Epoch 1 Valid Loss : 0.0234 Valid Pearson : 0.8790\n",
            "*****Epoch 1 Valid Finish*****\n",
            "\n",
            "*****Epoch 2 Train Start*****\n",
            "Epoch: 2, Step : 128, LR : 0.0000401941, Avg Loss : 0.0092, Pearson : 0.9644\n",
            "Epoch: 2, Step : 256, LR : 0.0000387329, Avg Loss : 0.0091, Pearson : 0.9638\n",
            "Epoch 2 Total Mean Loss : 0.0090\n",
            "Epoch 2 Total Mean Pearson : 0.9649\n",
            "*****Epoch 2 Train Finish*****\n",
            "\n",
            "*****Epoch 2 Valid Start*****\n",
            "Epoch 2 Valid Loss : 0.0168 Valid Pearson : 0.9040\n",
            "*****Epoch 2 Valid Finish*****\n",
            "\n",
            "*****Epoch 3 Train Start*****\n",
            "Epoch: 3, Step : 128, LR : 0.0000360274, Avg Loss : 0.0084, Pearson : 0.9677\n",
            "Epoch: 3, Step : 256, LR : 0.0000345662, Avg Loss : 0.0078, Pearson : 0.9696\n",
            "Epoch 3 Total Mean Loss : 0.0080\n",
            "Epoch 3 Total Mean Pearson : 0.9689\n",
            "*****Epoch 3 Train Finish*****\n",
            "\n",
            "*****Epoch 3 Valid Start*****\n",
            "Epoch 3 Valid Loss : 0.0201 Valid Pearson : 0.9076\n",
            "*****Epoch 3 Valid Finish*****\n",
            "\n",
            "*****Epoch 4 Train Start*****\n",
            "Epoch: 4, Step : 128, LR : 0.0000318607, Avg Loss : 0.0064, Pearson : 0.9749\n",
            "Epoch: 4, Step : 256, LR : 0.0000303995, Avg Loss : 0.0073, Pearson : 0.9720\n",
            "Epoch 4 Total Mean Loss : 0.0069\n",
            "Epoch 4 Total Mean Pearson : 0.9731\n",
            "*****Epoch 4 Train Finish*****\n",
            "\n",
            "*****Epoch 4 Valid Start*****\n",
            "Epoch 4 Valid Loss : 0.0174 Valid Pearson : 0.9103\n",
            "*****Epoch 4 Valid Finish*****\n",
            "\n",
            "*****Epoch 5 Train Start*****\n",
            "Epoch: 5, Step : 128, LR : 0.0000276941, Avg Loss : 0.0060, Pearson : 0.9763\n",
            "Epoch: 5, Step : 256, LR : 0.0000262329, Avg Loss : 0.0065, Pearson : 0.9744\n",
            "Epoch 5 Total Mean Loss : 0.0063\n",
            "Epoch 5 Total Mean Pearson : 0.9752\n",
            "*****Epoch 5 Train Finish*****\n",
            "\n",
            "*****Epoch 5 Valid Start*****\n",
            "Epoch 5 Valid Loss : 0.0214 Valid Pearson : 0.8947\n",
            "*****Epoch 5 Valid Finish*****\n",
            "\n",
            "*****Epoch 6 Train Start*****\n",
            "Epoch: 6, Step : 128, LR : 0.0000235274, Avg Loss : 0.0058, Pearson : 0.9774\n",
            "Epoch: 6, Step : 256, LR : 0.0000220662, Avg Loss : 0.0059, Pearson : 0.9770\n",
            "Epoch 6 Total Mean Loss : 0.0058\n",
            "Epoch 6 Total Mean Pearson : 0.9772\n",
            "*****Epoch 6 Train Finish*****\n",
            "\n",
            "*****Epoch 6 Valid Start*****\n",
            "Epoch 6 Valid Loss : 0.0196 Valid Pearson : 0.9004\n",
            "*****Epoch 6 Valid Finish*****\n",
            "\n",
            "*****Epoch 7 Train Start*****\n",
            "Epoch: 7, Step : 128, LR : 0.0000193607, Avg Loss : 0.0052, Pearson : 0.9796\n",
            "Epoch: 7, Step : 256, LR : 0.0000178995, Avg Loss : 0.0053, Pearson : 0.9794\n",
            "Epoch 7 Total Mean Loss : 0.0053\n",
            "Epoch 7 Total Mean Pearson : 0.9790\n",
            "*****Epoch 7 Train Finish*****\n",
            "\n",
            "*****Epoch 7 Valid Start*****\n",
            "Epoch 7 Valid Loss : 0.0190 Valid Pearson : 0.9104\n",
            "*****Epoch 7 Valid Finish*****\n",
            "\n",
            "*****Epoch 8 Train Start*****\n",
            "Epoch: 8, Step : 128, LR : 0.0000151941, Avg Loss : 0.0050, Pearson : 0.9800\n",
            "Epoch: 8, Step : 256, LR : 0.0000137329, Avg Loss : 0.0049, Pearson : 0.9806\n",
            "Epoch 8 Total Mean Loss : 0.0049\n",
            "Epoch 8 Total Mean Pearson : 0.9806\n",
            "*****Epoch 8 Train Finish*****\n",
            "\n",
            "*****Epoch 8 Valid Start*****\n",
            "Epoch 8 Valid Loss : 0.0166 Valid Pearson : 0.9121\n",
            "*****Epoch 8 Valid Finish*****\n",
            "\n",
            "*****Epoch 9 Train Start*****\n",
            "Epoch: 9, Step : 128, LR : 0.0000110274, Avg Loss : 0.0045, Pearson : 0.9818\n",
            "Epoch: 9, Step : 256, LR : 0.0000095662, Avg Loss : 0.0047, Pearson : 0.9810\n",
            "Epoch 9 Total Mean Loss : 0.0046\n",
            "Epoch 9 Total Mean Pearson : 0.9816\n",
            "*****Epoch 9 Train Finish*****\n",
            "\n",
            "*****Epoch 9 Valid Start*****\n",
            "Epoch 9 Valid Loss : 0.0160 Valid Pearson : 0.9127\n",
            "*****Epoch 9 Valid Finish*****\n",
            "\n",
            "*****Epoch 10 Train Start*****\n",
            "Epoch: 10, Step : 128, LR : 0.0000068607, Avg Loss : 0.0043, Pearson : 0.9830\n",
            "Epoch: 10, Step : 256, LR : 0.0000053995, Avg Loss : 0.0045, Pearson : 0.9819\n",
            "Epoch 10 Total Mean Loss : 0.0044\n",
            "Epoch 10 Total Mean Pearson : 0.9825\n",
            "*****Epoch 10 Train Finish*****\n",
            "\n",
            "*****Epoch 10 Valid Start*****\n",
            "Epoch 10 Valid Loss : 0.0162 Valid Pearson : 0.9121\n",
            "*****Epoch 10 Valid Finish*****\n",
            "\n",
            "*****Epoch 11 Train Start*****\n",
            "Epoch: 11, Step : 128, LR : 0.0000026941, Avg Loss : 0.0041, Pearson : 0.9835\n",
            "Epoch: 11, Step : 256, LR : 0.0000012329, Avg Loss : 0.0042, Pearson : 0.9828\n",
            "Epoch 11 Total Mean Loss : 0.0041\n",
            "Epoch 11 Total Mean Pearson : 0.9834\n",
            "*****Epoch 11 Train Finish*****\n",
            "\n",
            "*****Epoch 11 Valid Start*****\n",
            "Epoch 11 Valid Loss : 0.0170 Valid Pearson : 0.9132\n",
            "*****Epoch 11 Valid Finish*****\n",
            "\n",
            "Train Finished\n",
            "time : 23.0분 1.0789380073547363초\n"
          ]
        }
      ],
      "source": [
        "start = time.time()\n",
        "train_dict, valid_dict = train(model, optimizer, scheduler, train_dataloader, valid_dataloader, 12, model_name)\n",
        "end = time.time()\n",
        "print(f\"time : {(end - start)//60}분 {(end - start)%60}초\")"
      ]
    },
    {
      "cell_type": "code",
      "execution_count": null,
      "metadata": {
        "colab": {
          "base_uri": "https://localhost:8080/",
          "height": 332
        },
        "outputId": "01f60b7e-3932-47c7-9b00-a20862dbb26f",
        "id": "gfO-Mbr_j4OC"
      },
      "outputs": [
        {
          "name": "stdout",
          "output_type": "stream",
          "text": [
            "green is train, gray is validation\n"
          ]
        },
        {
          "data": {
            "image/png": "[encoded data removed]",
            "text/plain": [
              "<Figure size 1152x288 with 4 Axes>"
            ]
          },
          "metadata": {},
          "output_type": "display_data"
        },
        {
          "data": {
            "text/plain": [
              "<Figure size 432x288 with 0 Axes>"
            ]
          },
          "metadata": {},
          "output_type": "display_data"
        }
      ],
      "source": [
        "draw_plot(train_dict, valid_dict, 0)"
      ]
    },
    {
      "cell_type": "code",
      "execution_count": null,
      "metadata": {
        "id": "_y1femnLj4OC"
      },
      "outputs": [],
      "source": []
    },
    {
      "cell_type": "markdown",
      "source": [
        "# SELU"
      ],
      "metadata": {
        "id": "_ORIT4kejE8-"
      }
    },
    {
      "cell_type": "code",
      "source": [
        "learning_rate = 5e-05\n",
        "weight_decay = 0.01\n",
        "\n",
        "model, optimizer, scheduler = initializer(train_dataloader, 12, model_name, learning_rate, weight_decay, 'selu')"
      ],
      "metadata": {
        "colab": {
          "base_uri": "https://localhost:8080/"
        },
        "id": "vIGM5Umu1S_7",
        "outputId": "e9a10111-1ced-4b89-95f4-6aa8354d7be1"
      },
      "execution_count": null,
      "outputs": [
        {
          "output_type": "stream",
          "name": "stderr",
          "text": [
            "Some weights of the model checkpoint at klue/roberta-base were not used when initializing RobertaModel: ['lm_head.bias', 'lm_head.decoder.weight', 'lm_head.layer_norm.bias', 'lm_head.dense.weight', 'lm_head.decoder.bias', 'lm_head.dense.bias', 'lm_head.layer_norm.weight']\n",
            "- This IS expected if you are initializing RobertaModel from the checkpoint of a model trained on another task or with another architecture (e.g. initializing a BertForSequenceClassification model from a BertForPreTraining model).\n",
            "- This IS NOT expected if you are initializing RobertaModel from the checkpoint of a model that you expect to be exactly identical (initializing a BertForSequenceClassification model from a BertForSequenceClassification model).\n",
            "Some weights of RobertaModel were not initialized from the model checkpoint at klue/roberta-base and are newly initialized: ['roberta.pooler.dense.weight', 'roberta.pooler.dense.bias']\n",
            "You should probably TRAIN this model on a down-stream task to be able to use it for predictions and inference.\n"
          ]
        },
        {
          "output_type": "stream",
          "name": "stdout",
          "text": [
            "Total train steps with 12 epochs: 4380\n",
            "model_name : klue/roberta-base, lr : 5e-05, weight_decay : 0.01, epochs : 12\n"
          ]
        }
      ]
    },
    {
      "cell_type": "code",
      "source": [
        "start = time.time()\n",
        "train_dict, valid_dict = train(model, optimizer, scheduler, train_dataloader, valid_dataloader, 12, model_name)\n",
        "end = time.time()\n",
        "print(f\"time : {(end - start)//60}분 {(end - start)%60}초\")\n"
      ],
      "metadata": {
        "id": "-kAm4HVB8AxK",
        "colab": {
          "base_uri": "https://localhost:8080/"
        },
        "outputId": "91a116f3-d99c-4dd7-e86a-121a1f9bb989"
      },
      "execution_count": null,
      "outputs": [
        {
          "output_type": "stream",
          "name": "stdout",
          "text": [
            "*****Epoch 0 Train Start*****\n",
            "Epoch: 0, Step : 128, LR : 0.0000485274, Avg Loss : 0.0356, Pearson : 0.8509\n",
            "Epoch: 0, Step : 256, LR : 0.0000470662, Avg Loss : 0.0135, Pearson : 0.9533\n",
            "Epoch 0 Total Mean Loss : 0.0212\n",
            "Epoch 0 Total Mean Pearson : 0.9178\n",
            "*****Epoch 0 Train Finish*****\n",
            "\n",
            "*****Epoch 0 Valid Start*****\n",
            "Epoch 0 Valid Loss : 0.0375 Valid Pearson : 0.8715\n",
            "*****Epoch 0 Valid Finish*****\n",
            "\n",
            "*****Epoch 1 Train Start*****\n",
            "Epoch: 1, Step : 128, LR : 0.0000443607, Avg Loss : 0.0092, Pearson : 0.9694\n",
            "Epoch: 1, Step : 256, LR : 0.0000428995, Avg Loss : 0.0083, Pearson : 0.9711\n",
            "Epoch 1 Total Mean Loss : 0.0086\n",
            "Epoch 1 Total Mean Pearson : 0.9701\n",
            "*****Epoch 1 Train Finish*****\n",
            "\n",
            "*****Epoch 1 Valid Start*****\n",
            "Epoch 1 Valid Loss : 0.0200 Valid Pearson : 0.8972\n",
            "*****Epoch 1 Valid Finish*****\n",
            "\n",
            "*****Epoch 2 Train Start*****\n",
            "Epoch: 2, Step : 128, LR : 0.0000401941, Avg Loss : 0.0071, Pearson : 0.9746\n",
            "Epoch: 2, Step : 256, LR : 0.0000387329, Avg Loss : 0.0063, Pearson : 0.9774\n",
            "Epoch 2 Total Mean Loss : 0.0065\n",
            "Epoch 2 Total Mean Pearson : 0.9768\n",
            "*****Epoch 2 Train Finish*****\n",
            "\n",
            "*****Epoch 2 Valid Start*****\n",
            "Epoch 2 Valid Loss : 0.0176 Valid Pearson : 0.9021\n",
            "*****Epoch 2 Valid Finish*****\n",
            "\n",
            "*****Epoch 3 Train Start*****\n",
            "Epoch: 3, Step : 128, LR : 0.0000360274, Avg Loss : 0.0049, Pearson : 0.9826\n",
            "Epoch: 3, Step : 256, LR : 0.0000345662, Avg Loss : 0.0049, Pearson : 0.9815\n",
            "Epoch 3 Total Mean Loss : 0.0049\n",
            "Epoch 3 Total Mean Pearson : 0.9820\n",
            "*****Epoch 3 Train Finish*****\n",
            "\n",
            "*****Epoch 3 Valid Start*****\n",
            "Epoch 3 Valid Loss : 0.0159 Valid Pearson : 0.9160\n",
            "*****Epoch 3 Valid Finish*****\n",
            "\n",
            "*****Epoch 4 Train Start*****\n",
            "Epoch: 4, Step : 128, LR : 0.0000318607, Avg Loss : 0.0040, Pearson : 0.9850\n",
            "Epoch: 4, Step : 256, LR : 0.0000303995, Avg Loss : 0.0043, Pearson : 0.9854\n",
            "Epoch 4 Total Mean Loss : 0.0041\n",
            "Epoch 4 Total Mean Pearson : 0.9854\n",
            "*****Epoch 4 Train Finish*****\n",
            "\n",
            "*****Epoch 4 Valid Start*****\n",
            "Epoch 4 Valid Loss : 0.0179 Valid Pearson : 0.9068\n",
            "*****Epoch 4 Valid Finish*****\n",
            "\n",
            "*****Epoch 5 Train Start*****\n",
            "Epoch: 5, Step : 128, LR : 0.0000276941, Avg Loss : 0.0036, Pearson : 0.9871\n",
            "Epoch: 5, Step : 256, LR : 0.0000262329, Avg Loss : 0.0032, Pearson : 0.9880\n",
            "Epoch 5 Total Mean Loss : 0.0034\n",
            "Epoch 5 Total Mean Pearson : 0.9874\n",
            "*****Epoch 5 Train Finish*****\n",
            "\n",
            "*****Epoch 5 Valid Start*****\n",
            "Epoch 5 Valid Loss : 0.0161 Valid Pearson : 0.9135\n",
            "*****Epoch 5 Valid Finish*****\n",
            "\n",
            "*****Epoch 6 Train Start*****\n",
            "Epoch: 6, Step : 128, LR : 0.0000235274, Avg Loss : 0.0029, Pearson : 0.9889\n",
            "Epoch: 6, Step : 256, LR : 0.0000220662, Avg Loss : 0.0028, Pearson : 0.9896\n",
            "Epoch 6 Total Mean Loss : 0.0028\n",
            "Epoch 6 Total Mean Pearson : 0.9894\n",
            "*****Epoch 6 Train Finish*****\n",
            "\n",
            "*****Epoch 6 Valid Start*****\n",
            "Epoch 6 Valid Loss : 0.0141 Valid Pearson : 0.9184\n",
            "*****Epoch 6 Valid Finish*****\n",
            "\n",
            "*****Epoch 7 Train Start*****\n",
            "Epoch: 7, Step : 128, LR : 0.0000193607, Avg Loss : 0.0027, Pearson : 0.9902\n",
            "Epoch: 7, Step : 256, LR : 0.0000178995, Avg Loss : 0.0025, Pearson : 0.9903\n",
            "Epoch 7 Total Mean Loss : 0.0026\n",
            "Epoch 7 Total Mean Pearson : 0.9904\n",
            "*****Epoch 7 Train Finish*****\n",
            "\n",
            "*****Epoch 7 Valid Start*****\n",
            "Epoch 7 Valid Loss : 0.0137 Valid Pearson : 0.9214\n",
            "*****Epoch 7 Valid Finish*****\n",
            "\n",
            "*****Epoch 8 Train Start*****\n",
            "Epoch: 8, Step : 128, LR : 0.0000151941, Avg Loss : 0.0022, Pearson : 0.9915\n",
            "Epoch: 8, Step : 256, LR : 0.0000137329, Avg Loss : 0.0022, Pearson : 0.9917\n",
            "Epoch 8 Total Mean Loss : 0.0022\n",
            "Epoch 8 Total Mean Pearson : 0.9916\n",
            "*****Epoch 8 Train Finish*****\n",
            "\n",
            "*****Epoch 8 Valid Start*****\n",
            "Epoch 8 Valid Loss : 0.0134 Valid Pearson : 0.9230\n",
            "*****Epoch 8 Valid Finish*****\n",
            "\n",
            "*****Epoch 9 Train Start*****\n",
            "Epoch: 9, Step : 128, LR : 0.0000110274, Avg Loss : 0.0020, Pearson : 0.9921\n",
            "Epoch: 9, Step : 256, LR : 0.0000095662, Avg Loss : 0.0020, Pearson : 0.9921\n",
            "Epoch 9 Total Mean Loss : 0.0020\n",
            "Epoch 9 Total Mean Pearson : 0.9921\n",
            "*****Epoch 9 Train Finish*****\n",
            "\n",
            "*****Epoch 9 Valid Start*****\n",
            "Epoch 9 Valid Loss : 0.0131 Valid Pearson : 0.9258\n",
            "*****Epoch 9 Valid Finish*****\n",
            "\n",
            "*****Epoch 10 Train Start*****\n",
            "Epoch: 10, Step : 128, LR : 0.0000068607, Avg Loss : 0.0019, Pearson : 0.9927\n",
            "Epoch: 10, Step : 256, LR : 0.0000053995, Avg Loss : 0.0018, Pearson : 0.9929\n",
            "Epoch 10 Total Mean Loss : 0.0018\n",
            "Epoch 10 Total Mean Pearson : 0.9929\n",
            "*****Epoch 10 Train Finish*****\n",
            "\n",
            "*****Epoch 10 Valid Start*****\n",
            "Epoch 10 Valid Loss : 0.0127 Valid Pearson : 0.9271\n",
            "*****Epoch 10 Valid Finish*****\n",
            "\n",
            "*****Epoch 11 Train Start*****\n",
            "Epoch: 11, Step : 128, LR : 0.0000026941, Avg Loss : 0.0017, Pearson : 0.9933\n",
            "Epoch: 11, Step : 256, LR : 0.0000012329, Avg Loss : 0.0017, Pearson : 0.9934\n",
            "Epoch 11 Total Mean Loss : 0.0017\n",
            "Epoch 11 Total Mean Pearson : 0.9934\n",
            "*****Epoch 11 Train Finish*****\n",
            "\n",
            "*****Epoch 11 Valid Start*****\n",
            "Epoch 11 Valid Loss : 0.0135 Valid Pearson : 0.9246\n",
            "*****Epoch 11 Valid Finish*****\n",
            "\n",
            "Train Finished\n",
            "time : 37.0분 15.957972526550293초\n"
          ]
        }
      ]
    },
    {
      "cell_type": "code",
      "source": [
        "draw_plot(train_dict, valid_dict, 0)"
      ],
      "metadata": {
        "colab": {
          "base_uri": "https://localhost:8080/",
          "height": 332
        },
        "id": "XXbZwB2YE5WL",
        "outputId": "a7562dab-5063-4289-d6fa-58012d60ceef"
      },
      "execution_count": null,
      "outputs": [
        {
          "output_type": "stream",
          "name": "stdout",
          "text": [
            "green is train, gray is validation\n"
          ]
        },
        {
          "output_type": "display_data",
          "data": {
            "text/plain": [
              "<Figure size 1152x288 with 4 Axes>"
            ],
            "image/png": "[encoded data removed]"
          },
          "metadata": {
            "needs_background": "light"
          }
        },
        {
          "output_type": "display_data",
          "data": {
            "text/plain": [
              "<Figure size 432x288 with 0 Axes>"
            ]
          },
          "metadata": {}
        }
      ]
    },
    {
      "cell_type": "code",
      "source": [
        "train_dict"
      ],
      "metadata": {
        "colab": {
          "base_uri": "https://localhost:8080/"
        },
        "id": "vYJDxbWyG8qQ",
        "outputId": "e975902a-8ea9-4fe9-a718-09d737796b83"
      },
      "execution_count": null,
      "outputs": [
        {
          "output_type": "execute_result",
          "data": {
            "text/plain": [
              "{'loss': [0.02116852682339002,\n",
              "  0.008600307535380125,\n",
              "  0.0065019465089864925,\n",
              "  0.004869206837850483,\n",
              "  0.004075958229575867,\n",
              "  0.0033755355916458042,\n",
              "  0.0028386748204492543,\n",
              "  0.002561294126215914,\n",
              "  0.002216957252128177,\n",
              "  0.002010127010895577,\n",
              "  0.0018367233238029868,\n",
              "  0.0016556731221100238],\n",
              " 'pearson': [0.9177888954236899,\n",
              "  0.9700970741167461,\n",
              "  0.9768276253791704,\n",
              "  0.9819878932547896,\n",
              "  0.9854138111414975,\n",
              "  0.9874126112624391,\n",
              "  0.9894042790752567,\n",
              "  0.9903841048070829,\n",
              "  0.9915809063062276,\n",
              "  0.9921054293031561,\n",
              "  0.9929376510724629,\n",
              "  0.9933770207509602]}"
            ]
          },
          "metadata": {},
          "execution_count": 47
        }
      ]
    },
    {
      "cell_type": "code",
      "source": [
        "valid_dict"
      ],
      "metadata": {
        "colab": {
          "base_uri": "https://localhost:8080/"
        },
        "id": "zyTMGfNiG-QI",
        "outputId": "d17e4ee6-e561-4c38-ef80-0307ad1e3286"
      },
      "execution_count": null,
      "outputs": [
        {
          "output_type": "execute_result",
          "data": {
            "text/plain": [
              "{'loss': [0.03745429152074982,\n",
              "  0.019987377009409314,\n",
              "  0.017599749762345764,\n",
              "  0.01589575201711234,\n",
              "  0.017896557281560758,\n",
              "  0.016135245123330283,\n",
              "  0.01413862144245821,\n",
              "  0.01374361664056778,\n",
              "  0.013430953710613883,\n",
              "  0.013052832170882645,\n",
              "  0.012712713385767797,\n",
              "  0.013540899490608889],\n",
              " 'pearson': [0.8715040648684782,\n",
              "  0.8971545485889211,\n",
              "  0.9020621671396143,\n",
              "  0.9159665072665495,\n",
              "  0.9068001929451438,\n",
              "  0.9135315838982078,\n",
              "  0.9183857686379376,\n",
              "  0.9213658115443062,\n",
              "  0.9229911951457753,\n",
              "  0.9258028829798979,\n",
              "  0.92707658515257,\n",
              "  0.9246182792326983]}"
            ]
          },
          "metadata": {},
          "execution_count": 48
        }
      ]
    },
    {
      "cell_type": "markdown",
      "source": [
        "# Freeze"
      ],
      "metadata": {
        "id": "x-tBBYyUIBiB"
      }
    },
    {
      "cell_type": "code",
      "source": [
        "model.state_dict().keys()"
      ],
      "metadata": {
        "colab": {
          "base_uri": "https://localhost:8080/"
        },
        "id": "JV747P_0ICiR",
        "outputId": "40ff8237-8224-48cc-ec43-e2687e829987"
      },
      "execution_count": null,
      "outputs": [
        {
          "output_type": "execute_result",
          "data": {
            "text/plain": [
              "odict_keys(['model.embeddings.position_ids', 'model.embeddings.word_embeddings.weight', 'model.embeddings.position_embeddings.weight', 'model.embeddings.token_type_embeddings.weight', 'model.embeddings.LayerNorm.weight', 'model.embeddings.LayerNorm.bias', 'model.encoder.layer.0.attention.self.query.weight', 'model.encoder.layer.0.attention.self.query.bias', 'model.encoder.layer.0.attention.self.key.weight', 'model.encoder.layer.0.attention.self.key.bias', 'model.encoder.layer.0.attention.self.value.weight', 'model.encoder.layer.0.attention.self.value.bias', 'model.encoder.layer.0.attention.output.dense.weight', 'model.encoder.layer.0.attention.output.dense.bias', 'model.encoder.layer.0.attention.output.LayerNorm.weight', 'model.encoder.layer.0.attention.output.LayerNorm.bias', 'model.encoder.layer.0.intermediate.dense.weight', 'model.encoder.layer.0.intermediate.dense.bias', 'model.encoder.layer.0.output.dense.weight', 'model.encoder.layer.0.output.dense.bias', 'model.encoder.layer.0.output.LayerNorm.weight', 'model.encoder.layer.0.output.LayerNorm.bias', 'model.encoder.layer.1.attention.self.query.weight', 'model.encoder.layer.1.attention.self.query.bias', 'model.encoder.layer.1.attention.self.key.weight', 'model.encoder.layer.1.attention.self.key.bias', 'model.encoder.layer.1.attention.self.value.weight', 'model.encoder.layer.1.attention.self.value.bias', 'model.encoder.layer.1.attention.output.dense.weight', 'model.encoder.layer.1.attention.output.dense.bias', 'model.encoder.layer.1.attention.output.LayerNorm.weight', 'model.encoder.layer.1.attention.output.LayerNorm.bias', 'model.encoder.layer.1.intermediate.dense.weight', 'model.encoder.layer.1.intermediate.dense.bias', 'model.encoder.layer.1.output.dense.weight', 'model.encoder.layer.1.output.dense.bias', 'model.encoder.layer.1.output.LayerNorm.weight', 'model.encoder.layer.1.output.LayerNorm.bias', 'model.encoder.layer.2.attention.self.query.weight', 'model.encoder.layer.2.attention.self.query.bias', 'model.encoder.layer.2.attention.self.key.weight', 'model.encoder.layer.2.attention.self.key.bias', 'model.encoder.layer.2.attention.self.value.weight', 'model.encoder.layer.2.attention.self.value.bias', 'model.encoder.layer.2.attention.output.dense.weight', 'model.encoder.layer.2.attention.output.dense.bias', 'model.encoder.layer.2.attention.output.LayerNorm.weight', 'model.encoder.layer.2.attention.output.LayerNorm.bias', 'model.encoder.layer.2.intermediate.dense.weight', 'model.encoder.layer.2.intermediate.dense.bias', 'model.encoder.layer.2.output.dense.weight', 'model.encoder.layer.2.output.dense.bias', 'model.encoder.layer.2.output.LayerNorm.weight', 'model.encoder.layer.2.output.LayerNorm.bias', 'model.encoder.layer.3.attention.self.query.weight', 'model.encoder.layer.3.attention.self.query.bias', 'model.encoder.layer.3.attention.self.key.weight', 'model.encoder.layer.3.attention.self.key.bias', 'model.encoder.layer.3.attention.self.value.weight', 'model.encoder.layer.3.attention.self.value.bias', 'model.encoder.layer.3.attention.output.dense.weight', 'model.encoder.layer.3.attention.output.dense.bias', 'model.encoder.layer.3.attention.output.LayerNorm.weight', 'model.encoder.layer.3.attention.output.LayerNorm.bias', 'model.encoder.layer.3.intermediate.dense.weight', 'model.encoder.layer.3.intermediate.dense.bias', 'model.encoder.layer.3.output.dense.weight', 'model.encoder.layer.3.output.dense.bias', 'model.encoder.layer.3.output.LayerNorm.weight', 'model.encoder.layer.3.output.LayerNorm.bias', 'model.encoder.layer.4.attention.self.query.weight', 'model.encoder.layer.4.attention.self.query.bias', 'model.encoder.layer.4.attention.self.key.weight', 'model.encoder.layer.4.attention.self.key.bias', 'model.encoder.layer.4.attention.self.value.weight', 'model.encoder.layer.4.attention.self.value.bias', 'model.encoder.layer.4.attention.output.dense.weight', 'model.encoder.layer.4.attention.output.dense.bias', 'model.encoder.layer.4.attention.output.LayerNorm.weight', 'model.encoder.layer.4.attention.output.LayerNorm.bias', 'model.encoder.layer.4.intermediate.dense.weight', 'model.encoder.layer.4.intermediate.dense.bias', 'model.encoder.layer.4.output.dense.weight', 'model.encoder.layer.4.output.dense.bias', 'model.encoder.layer.4.output.LayerNorm.weight', 'model.encoder.layer.4.output.LayerNorm.bias', 'model.encoder.layer.5.attention.self.query.weight', 'model.encoder.layer.5.attention.self.query.bias', 'model.encoder.layer.5.attention.self.key.weight', 'model.encoder.layer.5.attention.self.key.bias', 'model.encoder.layer.5.attention.self.value.weight', 'model.encoder.layer.5.attention.self.value.bias', 'model.encoder.layer.5.attention.output.dense.weight', 'model.encoder.layer.5.attention.output.dense.bias', 'model.encoder.layer.5.attention.output.LayerNorm.weight', 'model.encoder.layer.5.attention.output.LayerNorm.bias', 'model.encoder.layer.5.intermediate.dense.weight', 'model.encoder.layer.5.intermediate.dense.bias', 'model.encoder.layer.5.output.dense.weight', 'model.encoder.layer.5.output.dense.bias', 'model.encoder.layer.5.output.LayerNorm.weight', 'model.encoder.layer.5.output.LayerNorm.bias', 'model.encoder.layer.6.attention.self.query.weight', 'model.encoder.layer.6.attention.self.query.bias', 'model.encoder.layer.6.attention.self.key.weight', 'model.encoder.layer.6.attention.self.key.bias', 'model.encoder.layer.6.attention.self.value.weight', 'model.encoder.layer.6.attention.self.value.bias', 'model.encoder.layer.6.attention.output.dense.weight', 'model.encoder.layer.6.attention.output.dense.bias', 'model.encoder.layer.6.attention.output.LayerNorm.weight', 'model.encoder.layer.6.attention.output.LayerNorm.bias', 'model.encoder.layer.6.intermediate.dense.weight', 'model.encoder.layer.6.intermediate.dense.bias', 'model.encoder.layer.6.output.dense.weight', 'model.encoder.layer.6.output.dense.bias', 'model.encoder.layer.6.output.LayerNorm.weight', 'model.encoder.layer.6.output.LayerNorm.bias', 'model.encoder.layer.7.attention.self.query.weight', 'model.encoder.layer.7.attention.self.query.bias', 'model.encoder.layer.7.attention.self.key.weight', 'model.encoder.layer.7.attention.self.key.bias', 'model.encoder.layer.7.attention.self.value.weight', 'model.encoder.layer.7.attention.self.value.bias', 'model.encoder.layer.7.attention.output.dense.weight', 'model.encoder.layer.7.attention.output.dense.bias', 'model.encoder.layer.7.attention.output.LayerNorm.weight', 'model.encoder.layer.7.attention.output.LayerNorm.bias', 'model.encoder.layer.7.intermediate.dense.weight', 'model.encoder.layer.7.intermediate.dense.bias', 'model.encoder.layer.7.output.dense.weight', 'model.encoder.layer.7.output.dense.bias', 'model.encoder.layer.7.output.LayerNorm.weight', 'model.encoder.layer.7.output.LayerNorm.bias', 'model.encoder.layer.8.attention.self.query.weight', 'model.encoder.layer.8.attention.self.query.bias', 'model.encoder.layer.8.attention.self.key.weight', 'model.encoder.layer.8.attention.self.key.bias', 'model.encoder.layer.8.attention.self.value.weight', 'model.encoder.layer.8.attention.self.value.bias', 'model.encoder.layer.8.attention.output.dense.weight', 'model.encoder.layer.8.attention.output.dense.bias', 'model.encoder.layer.8.attention.output.LayerNorm.weight', 'model.encoder.layer.8.attention.output.LayerNorm.bias', 'model.encoder.layer.8.intermediate.dense.weight', 'model.encoder.layer.8.intermediate.dense.bias', 'model.encoder.layer.8.output.dense.weight', 'model.encoder.layer.8.output.dense.bias', 'model.encoder.layer.8.output.LayerNorm.weight', 'model.encoder.layer.8.output.LayerNorm.bias', 'model.encoder.layer.9.attention.self.query.weight', 'model.encoder.layer.9.attention.self.query.bias', 'model.encoder.layer.9.attention.self.key.weight', 'model.encoder.layer.9.attention.self.key.bias', 'model.encoder.layer.9.attention.self.value.weight', 'model.encoder.layer.9.attention.self.value.bias', 'model.encoder.layer.9.attention.output.dense.weight', 'model.encoder.layer.9.attention.output.dense.bias', 'model.encoder.layer.9.attention.output.LayerNorm.weight', 'model.encoder.layer.9.attention.output.LayerNorm.bias', 'model.encoder.layer.9.intermediate.dense.weight', 'model.encoder.layer.9.intermediate.dense.bias', 'model.encoder.layer.9.output.dense.weight', 'model.encoder.layer.9.output.dense.bias', 'model.encoder.layer.9.output.LayerNorm.weight', 'model.encoder.layer.9.output.LayerNorm.bias', 'model.encoder.layer.10.attention.self.query.weight', 'model.encoder.layer.10.attention.self.query.bias', 'model.encoder.layer.10.attention.self.key.weight', 'model.encoder.layer.10.attention.self.key.bias', 'model.encoder.layer.10.attention.self.value.weight', 'model.encoder.layer.10.attention.self.value.bias', 'model.encoder.layer.10.attention.output.dense.weight', 'model.encoder.layer.10.attention.output.dense.bias', 'model.encoder.layer.10.attention.output.LayerNorm.weight', 'model.encoder.layer.10.attention.output.LayerNorm.bias', 'model.encoder.layer.10.intermediate.dense.weight', 'model.encoder.layer.10.intermediate.dense.bias', 'model.encoder.layer.10.output.dense.weight', 'model.encoder.layer.10.output.dense.bias', 'model.encoder.layer.10.output.LayerNorm.weight', 'model.encoder.layer.10.output.LayerNorm.bias', 'model.encoder.layer.11.attention.self.query.weight', 'model.encoder.layer.11.attention.self.query.bias', 'model.encoder.layer.11.attention.self.key.weight', 'model.encoder.layer.11.attention.self.key.bias', 'model.encoder.layer.11.attention.self.value.weight', 'model.encoder.layer.11.attention.self.value.bias', 'model.encoder.layer.11.attention.output.dense.weight', 'model.encoder.layer.11.attention.output.dense.bias', 'model.encoder.layer.11.attention.output.LayerNorm.weight', 'model.encoder.layer.11.attention.output.LayerNorm.bias', 'model.encoder.layer.11.intermediate.dense.weight', 'model.encoder.layer.11.intermediate.dense.bias', 'model.encoder.layer.11.output.dense.weight', 'model.encoder.layer.11.output.dense.bias', 'model.encoder.layer.11.output.LayerNorm.weight', 'model.encoder.layer.11.output.LayerNorm.bias', 'model.pooler.dense.weight', 'model.pooler.dense.bias', 'classifier.0.weight', 'classifier.0.bias', 'classifier.3.weight', 'classifier.3.bias'])"
            ]
          },
          "metadata": {},
          "execution_count": 23
        }
      ]
    },
    {
      "cell_type": "code",
      "source": [
        "true_sum, false_sum = 0, 0\n",
        "for para in model.parameters() :\n",
        "  if para.requires_grad == True :\n",
        "    true_sum += 1\n",
        "  else :\n",
        "    false_sum += 1\n",
        "print(true_sum, false_sum)"
      ],
      "metadata": {
        "colab": {
          "base_uri": "https://localhost:8080/"
        },
        "id": "K0cP6mx3ISKJ",
        "outputId": "c5bce115-73ea-4d8e-e271-f1da8bf5c70a"
      },
      "execution_count": null,
      "outputs": [
        {
          "output_type": "stream",
          "name": "stdout",
          "text": [
            "203 0\n"
          ]
        }
      ]
    },
    {
      "cell_type": "markdown",
      "source": [
        "## pre-trained 부분 freezing : 12 epoch까지"
      ],
      "metadata": {
        "id": "ZAtcUuWRJ5UQ"
      }
    },
    {
      "cell_type": "code",
      "source": [
        "learning_rate = 5e-05\n",
        "weight_decay = 0.01\n",
        "\n",
        "model, optimizer, scheduler = initializer(train_dataloader, 12, model_name, learning_rate, weight_decay, 'selu')"
      ],
      "metadata": {
        "colab": {
          "base_uri": "https://localhost:8080/"
        },
        "outputId": "094deb4f-2cc4-4c43-853b-ff163cacb9af",
        "id": "BQ5YpJmkJqZR"
      },
      "execution_count": null,
      "outputs": [
        {
          "output_type": "stream",
          "name": "stderr",
          "text": [
            "Some weights of the model checkpoint at klue/roberta-base were not used when initializing RobertaModel: ['lm_head.bias', 'lm_head.decoder.weight', 'lm_head.layer_norm.bias', 'lm_head.dense.weight', 'lm_head.decoder.bias', 'lm_head.dense.bias', 'lm_head.layer_norm.weight']\n",
            "- This IS expected if you are initializing RobertaModel from the checkpoint of a model trained on another task or with another architecture (e.g. initializing a BertForSequenceClassification model from a BertForPreTraining model).\n",
            "- This IS NOT expected if you are initializing RobertaModel from the checkpoint of a model that you expect to be exactly identical (initializing a BertForSequenceClassification model from a BertForSequenceClassification model).\n",
            "Some weights of RobertaModel were not initialized from the model checkpoint at klue/roberta-base and are newly initialized: ['roberta.pooler.dense.weight', 'roberta.pooler.dense.bias']\n",
            "You should probably TRAIN this model on a down-stream task to be able to use it for predictions and inference.\n"
          ]
        },
        {
          "output_type": "stream",
          "name": "stdout",
          "text": [
            "Total train steps with 12 epochs: 4380\n",
            "model_name : klue/roberta-base, lr : 5e-05, weight_decay : 0.01, epochs : 12\n"
          ]
        }
      ]
    },
    {
      "cell_type": "code",
      "source": [
        "for para in model.parameters() :\n",
        "  para.requires_grad = False\n",
        "\n",
        "true_sum, false_sum = 0, 0\n",
        "for para in model.parameters() :\n",
        "  if para.requires_grad == True :\n",
        "    true_sum += 1\n",
        "  else :\n",
        "    false_sum += 1\n",
        "print(true_sum, false_sum)"
      ],
      "metadata": {
        "colab": {
          "base_uri": "https://localhost:8080/"
        },
        "id": "XdCD5jJgJ-5Y",
        "outputId": "47671658-7e67-4970-9fba-ac1618508d02"
      },
      "execution_count": null,
      "outputs": [
        {
          "output_type": "stream",
          "name": "stdout",
          "text": [
            "0 203\n"
          ]
        }
      ]
    },
    {
      "cell_type": "code",
      "source": [
        "for name, para in model.named_parameters() :\n",
        "  if name in ['classifier.0.weight', 'classifier.0.bias', 'classifier.3.weight', 'classifier.3.bias'] :\n",
        "    para.requires_grad = True\n",
        "\n",
        "true_sum, false_sum = 0, 0\n",
        "\n",
        "for para in model.parameters() :\n",
        "  if para.requires_grad == True :\n",
        "    true_sum += 1\n",
        "  else :\n",
        "    false_sum += 1\n",
        "print(true_sum, false_sum)"
      ],
      "metadata": {
        "colab": {
          "base_uri": "https://localhost:8080/"
        },
        "id": "Acj64n_5KIXI",
        "outputId": "660cc5c5-b675-4dd1-ddab-25d2eab7bf91"
      },
      "execution_count": null,
      "outputs": [
        {
          "output_type": "stream",
          "name": "stdout",
          "text": [
            "4 199\n"
          ]
        }
      ]
    },
    {
      "cell_type": "code",
      "source": [
        "start = time.time()\n",
        "train_dict, valid_dict = train(model, optimizer, scheduler, train_dataloader, valid_dataloader, 12, model_name)\n",
        "end = time.time()\n",
        "print(f\"time : {(end - start)//60}분 {(end - start)%60}초\")"
      ],
      "metadata": {
        "colab": {
          "base_uri": "https://localhost:8080/"
        },
        "outputId": "d30c8380-f967-440c-f758-3b8a63b46d5c",
        "id": "aBTXLCdKJqZR"
      },
      "execution_count": null,
      "outputs": [
        {
          "output_type": "stream",
          "name": "stdout",
          "text": [
            "*****Epoch 0 Train Start*****\n",
            "Epoch: 0, Step : 128, LR : 0.0000485274, Avg Loss : 0.1526, Pearson : 0.0602\n",
            "Epoch: 0, Step : 256, LR : 0.0000470662, Avg Loss : 0.1226, Pearson : 0.1461\n",
            "Epoch 0 Total Mean Loss : 0.1323\n",
            "Epoch 0 Total Mean Pearson : 0.1322\n",
            "*****Epoch 0 Train Finish*****\n",
            "\n",
            "*****Epoch 0 Valid Start*****\n",
            "Epoch 0 Valid Loss : 0.0861 Valid Pearson : 0.1338\n",
            "*****Epoch 0 Valid Finish*****\n",
            "\n",
            "*****Epoch 1 Train Start*****\n",
            "Epoch: 1, Step : 128, LR : 0.0000443607, Avg Loss : 0.1114, Pearson : 0.3120\n",
            "Epoch: 1, Step : 256, LR : 0.0000428995, Avg Loss : 0.1086, Pearson : 0.3238\n",
            "Epoch 1 Total Mean Loss : 0.1099\n",
            "Epoch 1 Total Mean Pearson : 0.3278\n",
            "*****Epoch 1 Train Finish*****\n",
            "\n",
            "*****Epoch 1 Valid Start*****\n",
            "Epoch 1 Valid Loss : 0.0836 Valid Pearson : 0.1924\n",
            "*****Epoch 1 Valid Finish*****\n",
            "\n",
            "*****Epoch 2 Train Start*****\n",
            "Epoch: 2, Step : 128, LR : 0.0000401941, Avg Loss : 0.1060, Pearson : 0.3626\n",
            "Epoch: 2, Step : 256, LR : 0.0000387329, Avg Loss : 0.1040, Pearson : 0.3962\n",
            "Epoch 2 Total Mean Loss : 0.1048\n",
            "Epoch 2 Total Mean Pearson : 0.3841\n",
            "*****Epoch 2 Train Finish*****\n",
            "\n",
            "*****Epoch 2 Valid Start*****\n",
            "Epoch 2 Valid Loss : 0.0813 Valid Pearson : 0.2413\n",
            "*****Epoch 2 Valid Finish*****\n",
            "\n",
            "*****Epoch 3 Train Start*****\n",
            "Epoch: 3, Step : 128, LR : 0.0000360274, Avg Loss : 0.1023, Pearson : 0.3987\n",
            "Epoch: 3, Step : 256, LR : 0.0000345662, Avg Loss : 0.1021, Pearson : 0.4217\n",
            "Epoch 3 Total Mean Loss : 0.1008\n",
            "Epoch 3 Total Mean Pearson : 0.4287\n",
            "*****Epoch 3 Train Finish*****\n",
            "\n",
            "*****Epoch 3 Valid Start*****\n",
            "Epoch 3 Valid Loss : 0.0805 Valid Pearson : 0.2662\n",
            "*****Epoch 3 Valid Finish*****\n",
            "\n",
            "*****Epoch 4 Train Start*****\n",
            "Epoch: 4, Step : 128, LR : 0.0000318607, Avg Loss : 0.0981, Pearson : 0.4512\n",
            "Epoch: 4, Step : 256, LR : 0.0000303995, Avg Loss : 0.0965, Pearson : 0.4785\n",
            "Epoch 4 Total Mean Loss : 0.0969\n",
            "Epoch 4 Total Mean Pearson : 0.4711\n",
            "*****Epoch 4 Train Finish*****\n",
            "\n",
            "*****Epoch 4 Valid Start*****\n",
            "Epoch 4 Valid Loss : 0.0790 Valid Pearson : 0.2936\n",
            "*****Epoch 4 Valid Finish*****\n",
            "\n",
            "*****Epoch 5 Train Start*****\n",
            "Epoch: 5, Step : 128, LR : 0.0000276941, Avg Loss : 0.0949, Pearson : 0.4680\n",
            "Epoch: 5, Step : 256, LR : 0.0000262329, Avg Loss : 0.0959, Pearson : 0.4999\n",
            "Epoch 5 Total Mean Loss : 0.0951\n",
            "Epoch 5 Total Mean Pearson : 0.4839\n",
            "*****Epoch 5 Train Finish*****\n",
            "\n",
            "*****Epoch 5 Valid Start*****\n",
            "Epoch 5 Valid Loss : 0.0776 Valid Pearson : 0.3117\n",
            "*****Epoch 5 Valid Finish*****\n",
            "\n",
            "*****Epoch 6 Train Start*****\n",
            "Epoch: 6, Step : 128, LR : 0.0000235274, Avg Loss : 0.0961, Pearson : 0.4718\n",
            "Epoch: 6, Step : 256, LR : 0.0000220662, Avg Loss : 0.0926, Pearson : 0.5092\n",
            "Epoch 6 Total Mean Loss : 0.0930\n",
            "Epoch 6 Total Mean Pearson : 0.4990\n",
            "*****Epoch 6 Train Finish*****\n",
            "\n",
            "*****Epoch 6 Valid Start*****\n",
            "Epoch 6 Valid Loss : 0.0768 Valid Pearson : 0.3234\n",
            "*****Epoch 6 Valid Finish*****\n",
            "\n",
            "*****Epoch 7 Train Start*****\n",
            "Epoch: 7, Step : 128, LR : 0.0000193607, Avg Loss : 0.0952, Pearson : 0.4887\n",
            "Epoch: 7, Step : 256, LR : 0.0000178995, Avg Loss : 0.0892, Pearson : 0.5136\n",
            "Epoch 7 Total Mean Loss : 0.0917\n",
            "Epoch 7 Total Mean Pearson : 0.5072\n",
            "*****Epoch 7 Train Finish*****\n",
            "\n",
            "*****Epoch 7 Valid Start*****\n",
            "Epoch 7 Valid Loss : 0.0771 Valid Pearson : 0.3310\n",
            "*****Epoch 7 Valid Finish*****\n",
            "\n",
            "*****Epoch 8 Train Start*****\n",
            "Epoch: 8, Step : 128, LR : 0.0000151941, Avg Loss : 0.0917, Pearson : 0.5060\n",
            "Epoch: 8, Step : 256, LR : 0.0000137329, Avg Loss : 0.0928, Pearson : 0.4958\n",
            "Epoch 8 Total Mean Loss : 0.0915\n",
            "Epoch 8 Total Mean Pearson : 0.5072\n",
            "*****Epoch 8 Train Finish*****\n",
            "\n",
            "*****Epoch 8 Valid Start*****\n",
            "Epoch 8 Valid Loss : 0.0763 Valid Pearson : 0.3387\n",
            "*****Epoch 8 Valid Finish*****\n",
            "\n",
            "*****Epoch 9 Train Start*****\n",
            "Epoch: 9, Step : 128, LR : 0.0000110274, Avg Loss : 0.0917, Pearson : 0.5069\n",
            "Epoch: 9, Step : 256, LR : 0.0000095662, Avg Loss : 0.0895, Pearson : 0.5212\n",
            "Epoch 9 Total Mean Loss : 0.0904\n",
            "Epoch 9 Total Mean Pearson : 0.5169\n",
            "*****Epoch 9 Train Finish*****\n",
            "\n",
            "*****Epoch 9 Valid Start*****\n",
            "Epoch 9 Valid Loss : 0.0766 Valid Pearson : 0.3429\n",
            "*****Epoch 9 Valid Finish*****\n",
            "\n",
            "*****Epoch 10 Train Start*****\n",
            "Epoch: 10, Step : 128, LR : 0.0000068607, Avg Loss : 0.0896, Pearson : 0.5125\n",
            "Epoch: 10, Step : 256, LR : 0.0000053995, Avg Loss : 0.0897, Pearson : 0.5255\n",
            "Epoch 10 Total Mean Loss : 0.0897\n",
            "Epoch 10 Total Mean Pearson : 0.5212\n",
            "*****Epoch 10 Train Finish*****\n",
            "\n",
            "*****Epoch 10 Valid Start*****\n",
            "Epoch 10 Valid Loss : 0.0759 Valid Pearson : 0.3463\n",
            "*****Epoch 10 Valid Finish*****\n",
            "\n",
            "*****Epoch 11 Train Start*****\n",
            "Epoch: 11, Step : 128, LR : 0.0000026941, Avg Loss : 0.0904, Pearson : 0.5191\n",
            "Epoch: 11, Step : 256, LR : 0.0000012329, Avg Loss : 0.0883, Pearson : 0.5326\n",
            "Epoch 11 Total Mean Loss : 0.0889\n",
            "Epoch 11 Total Mean Pearson : 0.5280\n",
            "*****Epoch 11 Train Finish*****\n",
            "\n",
            "*****Epoch 11 Valid Start*****\n",
            "Epoch 11 Valid Loss : 0.0762 Valid Pearson : 0.3469\n",
            "*****Epoch 11 Valid Finish*****\n",
            "\n",
            "Train Finished\n",
            "time : 13.0분 29.357486724853516초\n"
          ]
        }
      ]
    },
    {
      "cell_type": "code",
      "source": [
        "draw_plot(train_dict, valid_dict, 0)"
      ],
      "metadata": {
        "colab": {
          "base_uri": "https://localhost:8080/",
          "height": 332
        },
        "id": "bbsL724SLBEH",
        "outputId": "d7c3f958-5dd4-4db5-c30c-d52976f77406"
      },
      "execution_count": null,
      "outputs": [
        {
          "output_type": "stream",
          "name": "stdout",
          "text": [
            "green is train, gray is validation\n"
          ]
        },
        {
          "output_type": "display_data",
          "data": {
            "text/plain": [
              "<Figure size 1152x288 with 4 Axes>"
            ],
            "image/png": "[encoded data removed]"
          },
          "metadata": {
            "needs_background": "light"
          }
        },
        {
          "output_type": "display_data",
          "data": {
            "text/plain": [
              "<Figure size 432x288 with 0 Axes>"
            ]
          },
          "metadata": {}
        }
      ]
    },
    {
      "cell_type": "markdown",
      "source": [
        "## pre-trained 모델 중 일부 freezing ( 11 layer + classifier )"
      ],
      "metadata": {
        "id": "9VzWb5sgN4-m"
      }
    },
    {
      "cell_type": "code",
      "source": [
        "learning_rate = 5e-05\n",
        "weight_decay = 0.01\n",
        "\n",
        "model, optimizer, scheduler = initializer(train_dataloader, 12, model_name, learning_rate, weight_decay, 'selu')"
      ],
      "metadata": {
        "colab": {
          "base_uri": "https://localhost:8080/"
        },
        "outputId": "1b9af739-8d37-41d7-f85e-01387626994c",
        "id": "ooIr-YJcN8BG"
      },
      "execution_count": null,
      "outputs": [
        {
          "output_type": "stream",
          "name": "stderr",
          "text": [
            "Some weights of the model checkpoint at klue/roberta-base were not used when initializing RobertaModel: ['lm_head.bias', 'lm_head.decoder.weight', 'lm_head.layer_norm.bias', 'lm_head.dense.weight', 'lm_head.decoder.bias', 'lm_head.dense.bias', 'lm_head.layer_norm.weight']\n",
            "- This IS expected if you are initializing RobertaModel from the checkpoint of a model trained on another task or with another architecture (e.g. initializing a BertForSequenceClassification model from a BertForPreTraining model).\n",
            "- This IS NOT expected if you are initializing RobertaModel from the checkpoint of a model that you expect to be exactly identical (initializing a BertForSequenceClassification model from a BertForSequenceClassification model).\n",
            "Some weights of RobertaModel were not initialized from the model checkpoint at klue/roberta-base and are newly initialized: ['roberta.pooler.dense.weight', 'roberta.pooler.dense.bias']\n",
            "You should probably TRAIN this model on a down-stream task to be able to use it for predictions and inference.\n"
          ]
        },
        {
          "output_type": "stream",
          "name": "stdout",
          "text": [
            "Total train steps with 12 epochs: 4380\n",
            "model_name : klue/roberta-base, lr : 5e-05, weight_decay : 0.01, epochs : 12\n"
          ]
        }
      ]
    },
    {
      "cell_type": "code",
      "source": [
        "true_sum, false_sum = 0, 0\n",
        "for para in model.parameters() :\n",
        "  if para.requires_grad == True :\n",
        "    true_sum += 1\n",
        "  else :\n",
        "    false_sum += 1\n",
        "print(true_sum, false_sum)"
      ],
      "metadata": {
        "colab": {
          "base_uri": "https://localhost:8080/"
        },
        "id": "YeCWRVdEOEj8",
        "outputId": "6bba4139-ed3d-4b5a-b483-45642bd73b6b"
      },
      "execution_count": null,
      "outputs": [
        {
          "output_type": "stream",
          "name": "stdout",
          "text": [
            "203 0\n"
          ]
        }
      ]
    },
    {
      "cell_type": "code",
      "source": [
        "for name, para in model.named_parameters() :\n",
        "  print(name)"
      ],
      "metadata": {
        "colab": {
          "base_uri": "https://localhost:8080/"
        },
        "outputId": "35452c48-73c7-4e8f-8150-f149d7c63f51",
        "id": "ncdwzr4iN8BG"
      },
      "execution_count": null,
      "outputs": [
        {
          "output_type": "stream",
          "name": "stdout",
          "text": [
            "model.embeddings.word_embeddings.weight\n",
            "model.embeddings.position_embeddings.weight\n",
            "model.embeddings.token_type_embeddings.weight\n",
            "model.embeddings.LayerNorm.weight\n",
            "model.embeddings.LayerNorm.bias\n",
            "model.encoder.layer.0.attention.self.query.weight\n",
            "model.encoder.layer.0.attention.self.query.bias\n",
            "model.encoder.layer.0.attention.self.key.weight\n",
            "model.encoder.layer.0.attention.self.key.bias\n",
            "model.encoder.layer.0.attention.self.value.weight\n",
            "model.encoder.layer.0.attention.self.value.bias\n",
            "model.encoder.layer.0.attention.output.dense.weight\n",
            "model.encoder.layer.0.attention.output.dense.bias\n",
            "model.encoder.layer.0.attention.output.LayerNorm.weight\n",
            "model.encoder.layer.0.attention.output.LayerNorm.bias\n",
            "model.encoder.layer.0.intermediate.dense.weight\n",
            "model.encoder.layer.0.intermediate.dense.bias\n",
            "model.encoder.layer.0.output.dense.weight\n",
            "model.encoder.layer.0.output.dense.bias\n",
            "model.encoder.layer.0.output.LayerNorm.weight\n",
            "model.encoder.layer.0.output.LayerNorm.bias\n",
            "model.encoder.layer.1.attention.self.query.weight\n",
            "model.encoder.layer.1.attention.self.query.bias\n",
            "model.encoder.layer.1.attention.self.key.weight\n",
            "model.encoder.layer.1.attention.self.key.bias\n",
            "model.encoder.layer.1.attention.self.value.weight\n",
            "model.encoder.layer.1.attention.self.value.bias\n",
            "model.encoder.layer.1.attention.output.dense.weight\n",
            "model.encoder.layer.1.attention.output.dense.bias\n",
            "model.encoder.layer.1.attention.output.LayerNorm.weight\n",
            "model.encoder.layer.1.attention.output.LayerNorm.bias\n",
            "model.encoder.layer.1.intermediate.dense.weight\n",
            "model.encoder.layer.1.intermediate.dense.bias\n",
            "model.encoder.layer.1.output.dense.weight\n",
            "model.encoder.layer.1.output.dense.bias\n",
            "model.encoder.layer.1.output.LayerNorm.weight\n",
            "model.encoder.layer.1.output.LayerNorm.bias\n",
            "model.encoder.layer.2.attention.self.query.weight\n",
            "model.encoder.layer.2.attention.self.query.bias\n",
            "model.encoder.layer.2.attention.self.key.weight\n",
            "model.encoder.layer.2.attention.self.key.bias\n",
            "model.encoder.layer.2.attention.self.value.weight\n",
            "model.encoder.layer.2.attention.self.value.bias\n",
            "model.encoder.layer.2.attention.output.dense.weight\n",
            "model.encoder.layer.2.attention.output.dense.bias\n",
            "model.encoder.layer.2.attention.output.LayerNorm.weight\n",
            "model.encoder.layer.2.attention.output.LayerNorm.bias\n",
            "model.encoder.layer.2.intermediate.dense.weight\n",
            "model.encoder.layer.2.intermediate.dense.bias\n",
            "model.encoder.layer.2.output.dense.weight\n",
            "model.encoder.layer.2.output.dense.bias\n",
            "model.encoder.layer.2.output.LayerNorm.weight\n",
            "model.encoder.layer.2.output.LayerNorm.bias\n",
            "model.encoder.layer.3.attention.self.query.weight\n",
            "model.encoder.layer.3.attention.self.query.bias\n",
            "model.encoder.layer.3.attention.self.key.weight\n",
            "model.encoder.layer.3.attention.self.key.bias\n",
            "model.encoder.layer.3.attention.self.value.weight\n",
            "model.encoder.layer.3.attention.self.value.bias\n",
            "model.encoder.layer.3.attention.output.dense.weight\n",
            "model.encoder.layer.3.attention.output.dense.bias\n",
            "model.encoder.layer.3.attention.output.LayerNorm.weight\n",
            "model.encoder.layer.3.attention.output.LayerNorm.bias\n",
            "model.encoder.layer.3.intermediate.dense.weight\n",
            "model.encoder.layer.3.intermediate.dense.bias\n",
            "model.encoder.layer.3.output.dense.weight\n",
            "model.encoder.layer.3.output.dense.bias\n",
            "model.encoder.layer.3.output.LayerNorm.weight\n",
            "model.encoder.layer.3.output.LayerNorm.bias\n",
            "model.encoder.layer.4.attention.self.query.weight\n",
            "model.encoder.layer.4.attention.self.query.bias\n",
            "model.encoder.layer.4.attention.self.key.weight\n",
            "model.encoder.layer.4.attention.self.key.bias\n",
            "model.encoder.layer.4.attention.self.value.weight\n",
            "model.encoder.layer.4.attention.self.value.bias\n",
            "model.encoder.layer.4.attention.output.dense.weight\n",
            "model.encoder.layer.4.attention.output.dense.bias\n",
            "model.encoder.layer.4.attention.output.LayerNorm.weight\n",
            "model.encoder.layer.4.attention.output.LayerNorm.bias\n",
            "model.encoder.layer.4.intermediate.dense.weight\n",
            "model.encoder.layer.4.intermediate.dense.bias\n",
            "model.encoder.layer.4.output.dense.weight\n",
            "model.encoder.layer.4.output.dense.bias\n",
            "model.encoder.layer.4.output.LayerNorm.weight\n",
            "model.encoder.layer.4.output.LayerNorm.bias\n",
            "model.encoder.layer.5.attention.self.query.weight\n",
            "model.encoder.layer.5.attention.self.query.bias\n",
            "model.encoder.layer.5.attention.self.key.weight\n",
            "model.encoder.layer.5.attention.self.key.bias\n",
            "model.encoder.layer.5.attention.self.value.weight\n",
            "model.encoder.layer.5.attention.self.value.bias\n",
            "model.encoder.layer.5.attention.output.dense.weight\n",
            "model.encoder.layer.5.attention.output.dense.bias\n",
            "model.encoder.layer.5.attention.output.LayerNorm.weight\n",
            "model.encoder.layer.5.attention.output.LayerNorm.bias\n",
            "model.encoder.layer.5.intermediate.dense.weight\n",
            "model.encoder.layer.5.intermediate.dense.bias\n",
            "model.encoder.layer.5.output.dense.weight\n",
            "model.encoder.layer.5.output.dense.bias\n",
            "model.encoder.layer.5.output.LayerNorm.weight\n",
            "model.encoder.layer.5.output.LayerNorm.bias\n",
            "model.encoder.layer.6.attention.self.query.weight\n",
            "model.encoder.layer.6.attention.self.query.bias\n",
            "model.encoder.layer.6.attention.self.key.weight\n",
            "model.encoder.layer.6.attention.self.key.bias\n",
            "model.encoder.layer.6.attention.self.value.weight\n",
            "model.encoder.layer.6.attention.self.value.bias\n",
            "model.encoder.layer.6.attention.output.dense.weight\n",
            "model.encoder.layer.6.attention.output.dense.bias\n",
            "model.encoder.layer.6.attention.output.LayerNorm.weight\n",
            "model.encoder.layer.6.attention.output.LayerNorm.bias\n",
            "model.encoder.layer.6.intermediate.dense.weight\n",
            "model.encoder.layer.6.intermediate.dense.bias\n",
            "model.encoder.layer.6.output.dense.weight\n",
            "model.encoder.layer.6.output.dense.bias\n",
            "model.encoder.layer.6.output.LayerNorm.weight\n",
            "model.encoder.layer.6.output.LayerNorm.bias\n",
            "model.encoder.layer.7.attention.self.query.weight\n",
            "model.encoder.layer.7.attention.self.query.bias\n",
            "model.encoder.layer.7.attention.self.key.weight\n",
            "model.encoder.layer.7.attention.self.key.bias\n",
            "model.encoder.layer.7.attention.self.value.weight\n",
            "model.encoder.layer.7.attention.self.value.bias\n",
            "model.encoder.layer.7.attention.output.dense.weight\n",
            "model.encoder.layer.7.attention.output.dense.bias\n",
            "model.encoder.layer.7.attention.output.LayerNorm.weight\n",
            "model.encoder.layer.7.attention.output.LayerNorm.bias\n",
            "model.encoder.layer.7.intermediate.dense.weight\n",
            "model.encoder.layer.7.intermediate.dense.bias\n",
            "model.encoder.layer.7.output.dense.weight\n",
            "model.encoder.layer.7.output.dense.bias\n",
            "model.encoder.layer.7.output.LayerNorm.weight\n",
            "model.encoder.layer.7.output.LayerNorm.bias\n",
            "model.encoder.layer.8.attention.self.query.weight\n",
            "model.encoder.layer.8.attention.self.query.bias\n",
            "model.encoder.layer.8.attention.self.key.weight\n",
            "model.encoder.layer.8.attention.self.key.bias\n",
            "model.encoder.layer.8.attention.self.value.weight\n",
            "model.encoder.layer.8.attention.self.value.bias\n",
            "model.encoder.layer.8.attention.output.dense.weight\n",
            "model.encoder.layer.8.attention.output.dense.bias\n",
            "model.encoder.layer.8.attention.output.LayerNorm.weight\n",
            "model.encoder.layer.8.attention.output.LayerNorm.bias\n",
            "model.encoder.layer.8.intermediate.dense.weight\n",
            "model.encoder.layer.8.intermediate.dense.bias\n",
            "model.encoder.layer.8.output.dense.weight\n",
            "model.encoder.layer.8.output.dense.bias\n",
            "model.encoder.layer.8.output.LayerNorm.weight\n",
            "model.encoder.layer.8.output.LayerNorm.bias\n",
            "model.encoder.layer.9.attention.self.query.weight\n",
            "model.encoder.layer.9.attention.self.query.bias\n",
            "model.encoder.layer.9.attention.self.key.weight\n",
            "model.encoder.layer.9.attention.self.key.bias\n",
            "model.encoder.layer.9.attention.self.value.weight\n",
            "model.encoder.layer.9.attention.self.value.bias\n",
            "model.encoder.layer.9.attention.output.dense.weight\n",
            "model.encoder.layer.9.attention.output.dense.bias\n",
            "model.encoder.layer.9.attention.output.LayerNorm.weight\n",
            "model.encoder.layer.9.attention.output.LayerNorm.bias\n",
            "model.encoder.layer.9.intermediate.dense.weight\n",
            "model.encoder.layer.9.intermediate.dense.bias\n",
            "model.encoder.layer.9.output.dense.weight\n",
            "model.encoder.layer.9.output.dense.bias\n",
            "model.encoder.layer.9.output.LayerNorm.weight\n",
            "model.encoder.layer.9.output.LayerNorm.bias\n",
            "model.encoder.layer.10.attention.self.query.weight\n",
            "model.encoder.layer.10.attention.self.query.bias\n",
            "model.encoder.layer.10.attention.self.key.weight\n",
            "model.encoder.layer.10.attention.self.key.bias\n",
            "model.encoder.layer.10.attention.self.value.weight\n",
            "model.encoder.layer.10.attention.self.value.bias\n",
            "model.encoder.layer.10.attention.output.dense.weight\n",
            "model.encoder.layer.10.attention.output.dense.bias\n",
            "model.encoder.layer.10.attention.output.LayerNorm.weight\n",
            "model.encoder.layer.10.attention.output.LayerNorm.bias\n",
            "model.encoder.layer.10.intermediate.dense.weight\n",
            "model.encoder.layer.10.intermediate.dense.bias\n",
            "model.encoder.layer.10.output.dense.weight\n",
            "model.encoder.layer.10.output.dense.bias\n",
            "model.encoder.layer.10.output.LayerNorm.weight\n",
            "model.encoder.layer.10.output.LayerNorm.bias\n",
            "model.encoder.layer.11.attention.self.query.weight\n",
            "model.encoder.layer.11.attention.self.query.bias\n",
            "model.encoder.layer.11.attention.self.key.weight\n",
            "model.encoder.layer.11.attention.self.key.bias\n",
            "model.encoder.layer.11.attention.self.value.weight\n",
            "model.encoder.layer.11.attention.self.value.bias\n",
            "model.encoder.layer.11.attention.output.dense.weight\n",
            "model.encoder.layer.11.attention.output.dense.bias\n",
            "model.encoder.layer.11.attention.output.LayerNorm.weight\n",
            "model.encoder.layer.11.attention.output.LayerNorm.bias\n",
            "model.encoder.layer.11.intermediate.dense.weight\n",
            "model.encoder.layer.11.intermediate.dense.bias\n",
            "model.encoder.layer.11.output.dense.weight\n",
            "model.encoder.layer.11.output.dense.bias\n",
            "model.encoder.layer.11.output.LayerNorm.weight\n",
            "model.encoder.layer.11.output.LayerNorm.bias\n",
            "model.pooler.dense.weight\n",
            "model.pooler.dense.bias\n",
            "classifier.0.weight\n",
            "classifier.0.bias\n",
            "classifier.3.weight\n",
            "classifier.3.bias\n"
          ]
        }
      ]
    },
    {
      "cell_type": "code",
      "source": [
        "for para in model.parameters() :\n",
        "  para.requires_grad = False\n",
        "\n",
        "for name, para in model.named_parameters() :\n",
        "  if name in ['model.encoder.layer.11.attention.self.query.weight', 'model.encoder.layer.11.attention.self.query.bias', 'model.encoder.layer.11.attention.self.key.weight', 'model.encoder.layer.11.attention.self.key.bias', 'model.encoder.layer.11.attention.self.value.weight', 'model.encoder.layer.11.attention.self.value.bias', 'model.encoder.layer.11.attention.output.dense.weight', 'model.encoder.layer.11.attention.output.dense.bias', 'model.encoder.layer.11.attention.output.LayerNorm.weight', 'model.encoder.layer.11.attention.output.LayerNorm.bias', 'model.encoder.layer.11.intermediate.dense.weight', 'model.encoder.layer.11.intermediate.dense.bias', 'model.encoder.layer.11.output.dense.weight', 'model.encoder.layer.11.output.dense.bias', 'model.encoder.layer.11.output.LayerNorm.weight', 'model.encoder.layer.11.output.LayerNorm.bias', 'model.pooler.dense.weight', 'model.pooler.dense.bias', 'classifier.0.weight', 'classifier.0.bias', 'classifier.3.weight', 'classifier.3.bias'] :\n",
        "    para.requires_grad = True\n",
        "\n",
        "true_sum, false_sum = 0, 0\n",
        "for para in model.parameters() :\n",
        "  if para.requires_grad == True :\n",
        "    true_sum += 1\n",
        "  else :\n",
        "    false_sum += 1\n",
        "print(true_sum, false_sum)"
      ],
      "metadata": {
        "colab": {
          "base_uri": "https://localhost:8080/"
        },
        "outputId": "191a08f7-f1ed-4fd7-b71c-9fa4373b8566",
        "id": "aMm2njfHN8BG"
      },
      "execution_count": null,
      "outputs": [
        {
          "output_type": "stream",
          "name": "stdout",
          "text": [
            "22 181\n"
          ]
        }
      ]
    },
    {
      "cell_type": "code",
      "source": [
        "start = time.time()\n",
        "train_dict, valid_dict = train(model, optimizer, scheduler, train_dataloader, valid_dataloader, 12, model_name)\n",
        "end = time.time()\n",
        "print(f\"time : {(end - start)//60}분 {(end - start)%60}초\")"
      ],
      "metadata": {
        "colab": {
          "base_uri": "https://localhost:8080/",
          "height": 1000
        },
        "outputId": "739dee35-e80c-441f-b35f-6a3172c18dc6",
        "id": "WN3TaPyhN8BG"
      },
      "execution_count": null,
      "outputs": [
        {
          "output_type": "stream",
          "name": "stdout",
          "text": [
            "*****Epoch 0 Train Start*****\n",
            "Epoch: 0, Step : 128, LR : 0.0000485274, Avg Loss : 0.1062, Pearson : 0.4605\n",
            "Epoch: 0, Step : 256, LR : 0.0000470662, Avg Loss : 0.0448, Pearson : 0.8145\n",
            "Epoch 0 Total Mean Loss : 0.0640\n",
            "Epoch 0 Total Mean Pearson : 0.7000\n",
            "*****Epoch 0 Train Finish*****\n",
            "\n",
            "*****Epoch 0 Valid Start*****\n",
            "Epoch 0 Valid Loss : 0.0420 Valid Pearson : 0.7520\n",
            "*****Epoch 0 Valid Finish*****\n",
            "\n",
            "*****Epoch 1 Train Start*****\n",
            "Epoch: 1, Step : 128, LR : 0.0000443607, Avg Loss : 0.0311, Pearson : 0.8751\n",
            "Epoch: 1, Step : 256, LR : 0.0000428995, Avg Loss : 0.0273, Pearson : 0.8870\n",
            "Epoch 1 Total Mean Loss : 0.0285\n",
            "Epoch 1 Total Mean Pearson : 0.8839\n",
            "*****Epoch 1 Train Finish*****\n",
            "\n",
            "*****Epoch 1 Valid Start*****\n",
            "Epoch 1 Valid Loss : 0.0670 Valid Pearson : 0.7785\n",
            "*****Epoch 1 Valid Finish*****\n",
            "\n",
            "*****Epoch 2 Train Start*****\n",
            "Epoch: 2, Step : 128, LR : 0.0000401941, Avg Loss : 0.0266, Pearson : 0.8980\n",
            "Epoch: 2, Step : 256, LR : 0.0000387329, Avg Loss : 0.0244, Pearson : 0.9021\n",
            "Epoch 2 Total Mean Loss : 0.0251\n",
            "Epoch 2 Total Mean Pearson : 0.8996\n",
            "*****Epoch 2 Train Finish*****\n",
            "\n",
            "*****Epoch 2 Valid Start*****\n",
            "Epoch 2 Valid Loss : 0.0375 Valid Pearson : 0.8035\n",
            "*****Epoch 2 Valid Finish*****\n",
            "\n",
            "*****Epoch 3 Train Start*****\n",
            "Epoch: 3, Step : 128, LR : 0.0000360274, Avg Loss : 0.0226, Pearson : 0.9066\n",
            "Epoch: 3, Step : 256, LR : 0.0000345662, Avg Loss : 0.0216, Pearson : 0.9099\n",
            "Epoch 3 Total Mean Loss : 0.0220\n",
            "Epoch 3 Total Mean Pearson : 0.9105\n",
            "*****Epoch 3 Train Finish*****\n",
            "\n",
            "*****Epoch 3 Valid Start*****\n",
            "Epoch 3 Valid Loss : 0.0345 Valid Pearson : 0.8197\n",
            "*****Epoch 3 Valid Finish*****\n",
            "\n",
            "*****Epoch 4 Train Start*****\n",
            "Epoch: 4, Step : 128, LR : 0.0000318607, Avg Loss : 0.0209, Pearson : 0.9137\n",
            "Epoch: 4, Step : 256, LR : 0.0000303995, Avg Loss : 0.0203, Pearson : 0.9179\n",
            "Epoch 4 Total Mean Loss : 0.0201\n",
            "Epoch 4 Total Mean Pearson : 0.9178\n",
            "*****Epoch 4 Train Finish*****\n",
            "\n",
            "*****Epoch 4 Valid Start*****\n",
            "Epoch 4 Valid Loss : 0.0379 Valid Pearson : 0.8203\n",
            "*****Epoch 4 Valid Finish*****\n",
            "\n",
            "*****Epoch 5 Train Start*****\n",
            "Epoch: 5, Step : 128, LR : 0.0000276941, Avg Loss : 0.0178, Pearson : 0.9267\n",
            "Epoch: 5, Step : 256, LR : 0.0000262329, Avg Loss : 0.0184, Pearson : 0.9249\n",
            "Epoch 5 Total Mean Loss : 0.0181\n",
            "Epoch 5 Total Mean Pearson : 0.9255\n",
            "*****Epoch 5 Train Finish*****\n",
            "\n",
            "*****Epoch 5 Valid Start*****\n",
            "Epoch 5 Valid Loss : 0.0333 Valid Pearson : 0.8110\n",
            "*****Epoch 5 Valid Finish*****\n",
            "\n",
            "*****Epoch 6 Train Start*****\n",
            "Epoch: 6, Step : 128, LR : 0.0000235274, Avg Loss : 0.0171, Pearson : 0.9309\n",
            "Epoch: 6, Step : 256, LR : 0.0000220662, Avg Loss : 0.0169, Pearson : 0.9304\n",
            "Epoch 6 Total Mean Loss : 0.0169\n",
            "Epoch 6 Total Mean Pearson : 0.9317\n",
            "*****Epoch 6 Train Finish*****\n",
            "\n",
            "*****Epoch 6 Valid Start*****\n",
            "Epoch 6 Valid Loss : 0.0375 Valid Pearson : 0.8174\n",
            "*****Epoch 6 Valid Finish*****\n",
            "\n",
            "*****Epoch 7 Train Start*****\n",
            "Epoch: 7, Step : 128, LR : 0.0000193607, Avg Loss : 0.0156, Pearson : 0.9375\n",
            "Epoch: 7, Step : 256, LR : 0.0000178995, Avg Loss : 0.0155, Pearson : 0.9358\n",
            "Epoch 7 Total Mean Loss : 0.0156\n",
            "Epoch 7 Total Mean Pearson : 0.9358\n",
            "*****Epoch 7 Train Finish*****\n",
            "\n",
            "*****Epoch 7 Valid Start*****\n",
            "Epoch 7 Valid Loss : 0.0448 Valid Pearson : 0.7974\n",
            "*****Epoch 7 Valid Finish*****\n",
            "\n",
            "*****Epoch 8 Train Start*****\n",
            "Epoch: 8, Step : 128, LR : 0.0000151941, Avg Loss : 0.0153, Pearson : 0.9379\n",
            "Epoch: 8, Step : 256, LR : 0.0000137329, Avg Loss : 0.0139, Pearson : 0.9426\n",
            "Epoch 8 Total Mean Loss : 0.0145\n",
            "Epoch 8 Total Mean Pearson : 0.9403\n",
            "*****Epoch 8 Train Finish*****\n",
            "\n",
            "*****Epoch 8 Valid Start*****\n",
            "Epoch 8 Valid Loss : 0.0366 Valid Pearson : 0.8149\n",
            "*****Epoch 8 Valid Finish*****\n",
            "\n",
            "*****Epoch 9 Train Start*****\n",
            "Epoch: 9, Step : 128, LR : 0.0000110274, Avg Loss : 0.0143, Pearson : 0.9404\n",
            "Epoch: 9, Step : 256, LR : 0.0000095662, Avg Loss : 0.0144, Pearson : 0.9396\n",
            "Epoch 9 Total Mean Loss : 0.0142\n",
            "Epoch 9 Total Mean Pearson : 0.9412\n",
            "*****Epoch 9 Train Finish*****\n",
            "\n",
            "*****Epoch 9 Valid Start*****\n",
            "Epoch 9 Valid Loss : 0.0363 Valid Pearson : 0.8165\n",
            "*****Epoch 9 Valid Finish*****\n",
            "\n",
            "*****Epoch 10 Train Start*****\n",
            "Epoch: 10, Step : 128, LR : 0.0000068607, Avg Loss : 0.0131, Pearson : 0.9450\n",
            "Epoch: 10, Step : 256, LR : 0.0000053995, Avg Loss : 0.0140, Pearson : 0.9423\n",
            "Epoch 10 Total Mean Loss : 0.0137\n",
            "Epoch 10 Total Mean Pearson : 0.9432\n",
            "*****Epoch 10 Train Finish*****\n",
            "\n",
            "*****Epoch 10 Valid Start*****\n",
            "Epoch 10 Valid Loss : 0.0380 Valid Pearson : 0.8121\n",
            "*****Epoch 10 Valid Finish*****\n",
            "\n",
            "*****Epoch 11 Train Start*****\n",
            "Epoch: 11, Step : 128, LR : 0.0000026941, Avg Loss : 0.0137, Pearson : 0.9427\n",
            "Epoch: 11, Step : 256, LR : 0.0000012329, Avg Loss : 0.0128, Pearson : 0.9469\n",
            "Epoch 11 Total Mean Loss : 0.0133\n",
            "Epoch 11 Total Mean Pearson : 0.9446\n",
            "*****Epoch 11 Train Finish*****\n",
            "\n",
            "*****Epoch 11 Valid Start*****\n",
            "Epoch 11 Valid Loss : 0.0361 Valid Pearson : 0.8153\n",
            "*****Epoch 11 Valid Finish*****\n",
            "\n",
            "Train Finished\n",
            "time : 14.0분 55.652729749679565초\n"
          ]
        }
      ]
    },
    {
      "cell_type": "code",
      "source": [
        "draw_plot(train_dict, valid_dict, 0)"
      ],
      "metadata": {
        "colab": {
          "base_uri": "https://localhost:8080/",
          "height": 332
        },
        "outputId": "342ec8c8-2ee6-4057-b47d-7c93fd79c9b6",
        "id": "q-MKzEEYN8BG"
      },
      "execution_count": null,
      "outputs": [
        {
          "output_type": "stream",
          "name": "stdout",
          "text": [
            "green is train, gray is validation\n"
          ]
        },
        {
          "output_type": "display_data",
          "data": {
            "text/plain": [
              "<Figure size 1152x288 with 4 Axes>"
            ],
            "image/png": "[encoded data removed]"
          },
          "metadata": {
            "needs_background": "light"
          }
        },
        {
          "output_type": "display_data",
          "data": {
            "text/plain": [
              "<Figure size 432x288 with 0 Axes>"
            ]
          },
          "metadata": {}
        }
      ]
    },
    {
      "cell_type": "code",
      "source": [],
      "metadata": {
        "id": "8YpOh-ixPvv1"
      },
      "execution_count": null,
      "outputs": []
    },
    {
      "cell_type": "markdown",
      "source": [
        "## pre-trained 모델 중 일부 freezing ( 6, 7, ... , 11 layer + classifier )"
      ],
      "metadata": {
        "id": "JM0hO8sEYDvh"
      }
    },
    {
      "cell_type": "code",
      "source": [
        "learning_rate = 5e-05\n",
        "weight_decay = 0.01\n",
        "\n",
        "model, optimizer, scheduler = initializer(train_dataloader, 12, model_name, learning_rate, weight_decay, 'selu')"
      ],
      "metadata": {
        "colab": {
          "base_uri": "https://localhost:8080/"
        },
        "outputId": "6a86a666-e7df-40da-c896-73f14683da50",
        "id": "BY9nJF-bYDvh"
      },
      "execution_count": null,
      "outputs": [
        {
          "output_type": "stream",
          "name": "stderr",
          "text": [
            "Some weights of the model checkpoint at klue/roberta-base were not used when initializing RobertaModel: ['lm_head.bias', 'lm_head.decoder.weight', 'lm_head.layer_norm.bias', 'lm_head.dense.weight', 'lm_head.decoder.bias', 'lm_head.dense.bias', 'lm_head.layer_norm.weight']\n",
            "- This IS expected if you are initializing RobertaModel from the checkpoint of a model trained on another task or with another architecture (e.g. initializing a BertForSequenceClassification model from a BertForPreTraining model).\n",
            "- This IS NOT expected if you are initializing RobertaModel from the checkpoint of a model that you expect to be exactly identical (initializing a BertForSequenceClassification model from a BertForSequenceClassification model).\n",
            "Some weights of RobertaModel were not initialized from the model checkpoint at klue/roberta-base and are newly initialized: ['roberta.pooler.dense.weight', 'roberta.pooler.dense.bias']\n",
            "You should probably TRAIN this model on a down-stream task to be able to use it for predictions and inference.\n"
          ]
        },
        {
          "output_type": "stream",
          "name": "stdout",
          "text": [
            "Total train steps with 12 epochs: 4380\n",
            "model_name : klue/roberta-base, lr : 5e-05, weight_decay : 0.01, epochs : 12\n"
          ]
        }
      ]
    },
    {
      "cell_type": "code",
      "source": [
        "true_sum, false_sum = 0, 0\n",
        "for para in model.parameters() :\n",
        "  if para.requires_grad == True :\n",
        "    true_sum += 1\n",
        "  else :\n",
        "    false_sum += 1\n",
        "print(true_sum, false_sum)"
      ],
      "metadata": {
        "colab": {
          "base_uri": "https://localhost:8080/"
        },
        "outputId": "67b6ff3a-3e5d-4ae5-dc4f-3e38a924bcd1",
        "id": "af3SLvmwYDvh"
      },
      "execution_count": null,
      "outputs": [
        {
          "output_type": "stream",
          "name": "stdout",
          "text": [
            "203 0\n"
          ]
        }
      ]
    },
    {
      "cell_type": "code",
      "source": [
        "for name, para in model.named_parameters() :\n",
        "  print(name)"
      ],
      "metadata": {
        "colab": {
          "base_uri": "https://localhost:8080/"
        },
        "outputId": "9d56d41e-3e0f-4791-9203-fd13691ea65c",
        "id": "HAt-luUXYDvh"
      },
      "execution_count": null,
      "outputs": [
        {
          "output_type": "stream",
          "name": "stdout",
          "text": [
            "model.embeddings.word_embeddings.weight\n",
            "model.embeddings.position_embeddings.weight\n",
            "model.embeddings.token_type_embeddings.weight\n",
            "model.embeddings.LayerNorm.weight\n",
            "model.embeddings.LayerNorm.bias\n",
            "model.encoder.layer.0.attention.self.query.weight\n",
            "model.encoder.layer.0.attention.self.query.bias\n",
            "model.encoder.layer.0.attention.self.key.weight\n",
            "model.encoder.layer.0.attention.self.key.bias\n",
            "model.encoder.layer.0.attention.self.value.weight\n",
            "model.encoder.layer.0.attention.self.value.bias\n",
            "model.encoder.layer.0.attention.output.dense.weight\n",
            "model.encoder.layer.0.attention.output.dense.bias\n",
            "model.encoder.layer.0.attention.output.LayerNorm.weight\n",
            "model.encoder.layer.0.attention.output.LayerNorm.bias\n",
            "model.encoder.layer.0.intermediate.dense.weight\n",
            "model.encoder.layer.0.intermediate.dense.bias\n",
            "model.encoder.layer.0.output.dense.weight\n",
            "model.encoder.layer.0.output.dense.bias\n",
            "model.encoder.layer.0.output.LayerNorm.weight\n",
            "model.encoder.layer.0.output.LayerNorm.bias\n",
            "model.encoder.layer.1.attention.self.query.weight\n",
            "model.encoder.layer.1.attention.self.query.bias\n",
            "model.encoder.layer.1.attention.self.key.weight\n",
            "model.encoder.layer.1.attention.self.key.bias\n",
            "model.encoder.layer.1.attention.self.value.weight\n",
            "model.encoder.layer.1.attention.self.value.bias\n",
            "model.encoder.layer.1.attention.output.dense.weight\n",
            "model.encoder.layer.1.attention.output.dense.bias\n",
            "model.encoder.layer.1.attention.output.LayerNorm.weight\n",
            "model.encoder.layer.1.attention.output.LayerNorm.bias\n",
            "model.encoder.layer.1.intermediate.dense.weight\n",
            "model.encoder.layer.1.intermediate.dense.bias\n",
            "model.encoder.layer.1.output.dense.weight\n",
            "model.encoder.layer.1.output.dense.bias\n",
            "model.encoder.layer.1.output.LayerNorm.weight\n",
            "model.encoder.layer.1.output.LayerNorm.bias\n",
            "model.encoder.layer.2.attention.self.query.weight\n",
            "model.encoder.layer.2.attention.self.query.bias\n",
            "model.encoder.layer.2.attention.self.key.weight\n",
            "model.encoder.layer.2.attention.self.key.bias\n",
            "model.encoder.layer.2.attention.self.value.weight\n",
            "model.encoder.layer.2.attention.self.value.bias\n",
            "model.encoder.layer.2.attention.output.dense.weight\n",
            "model.encoder.layer.2.attention.output.dense.bias\n",
            "model.encoder.layer.2.attention.output.LayerNorm.weight\n",
            "model.encoder.layer.2.attention.output.LayerNorm.bias\n",
            "model.encoder.layer.2.intermediate.dense.weight\n",
            "model.encoder.layer.2.intermediate.dense.bias\n",
            "model.encoder.layer.2.output.dense.weight\n",
            "model.encoder.layer.2.output.dense.bias\n",
            "model.encoder.layer.2.output.LayerNorm.weight\n",
            "model.encoder.layer.2.output.LayerNorm.bias\n",
            "model.encoder.layer.3.attention.self.query.weight\n",
            "model.encoder.layer.3.attention.self.query.bias\n",
            "model.encoder.layer.3.attention.self.key.weight\n",
            "model.encoder.layer.3.attention.self.key.bias\n",
            "model.encoder.layer.3.attention.self.value.weight\n",
            "model.encoder.layer.3.attention.self.value.bias\n",
            "model.encoder.layer.3.attention.output.dense.weight\n",
            "model.encoder.layer.3.attention.output.dense.bias\n",
            "model.encoder.layer.3.attention.output.LayerNorm.weight\n",
            "model.encoder.layer.3.attention.output.LayerNorm.bias\n",
            "model.encoder.layer.3.intermediate.dense.weight\n",
            "model.encoder.layer.3.intermediate.dense.bias\n",
            "model.encoder.layer.3.output.dense.weight\n",
            "model.encoder.layer.3.output.dense.bias\n",
            "model.encoder.layer.3.output.LayerNorm.weight\n",
            "model.encoder.layer.3.output.LayerNorm.bias\n",
            "model.encoder.layer.4.attention.self.query.weight\n",
            "model.encoder.layer.4.attention.self.query.bias\n",
            "model.encoder.layer.4.attention.self.key.weight\n",
            "model.encoder.layer.4.attention.self.key.bias\n",
            "model.encoder.layer.4.attention.self.value.weight\n",
            "model.encoder.layer.4.attention.self.value.bias\n",
            "model.encoder.layer.4.attention.output.dense.weight\n",
            "model.encoder.layer.4.attention.output.dense.bias\n",
            "model.encoder.layer.4.attention.output.LayerNorm.weight\n",
            "model.encoder.layer.4.attention.output.LayerNorm.bias\n",
            "model.encoder.layer.4.intermediate.dense.weight\n",
            "model.encoder.layer.4.intermediate.dense.bias\n",
            "model.encoder.layer.4.output.dense.weight\n",
            "model.encoder.layer.4.output.dense.bias\n",
            "model.encoder.layer.4.output.LayerNorm.weight\n",
            "model.encoder.layer.4.output.LayerNorm.bias\n",
            "model.encoder.layer.5.attention.self.query.weight\n",
            "model.encoder.layer.5.attention.self.query.bias\n",
            "model.encoder.layer.5.attention.self.key.weight\n",
            "model.encoder.layer.5.attention.self.key.bias\n",
            "model.encoder.layer.5.attention.self.value.weight\n",
            "model.encoder.layer.5.attention.self.value.bias\n",
            "model.encoder.layer.5.attention.output.dense.weight\n",
            "model.encoder.layer.5.attention.output.dense.bias\n",
            "model.encoder.layer.5.attention.output.LayerNorm.weight\n",
            "model.encoder.layer.5.attention.output.LayerNorm.bias\n",
            "model.encoder.layer.5.intermediate.dense.weight\n",
            "model.encoder.layer.5.intermediate.dense.bias\n",
            "model.encoder.layer.5.output.dense.weight\n",
            "model.encoder.layer.5.output.dense.bias\n",
            "model.encoder.layer.5.output.LayerNorm.weight\n",
            "model.encoder.layer.5.output.LayerNorm.bias\n",
            "model.encoder.layer.6.attention.self.query.weight\n",
            "model.encoder.layer.6.attention.self.query.bias\n",
            "model.encoder.layer.6.attention.self.key.weight\n",
            "model.encoder.layer.6.attention.self.key.bias\n",
            "model.encoder.layer.6.attention.self.value.weight\n",
            "model.encoder.layer.6.attention.self.value.bias\n",
            "model.encoder.layer.6.attention.output.dense.weight\n",
            "model.encoder.layer.6.attention.output.dense.bias\n",
            "model.encoder.layer.6.attention.output.LayerNorm.weight\n",
            "model.encoder.layer.6.attention.output.LayerNorm.bias\n",
            "model.encoder.layer.6.intermediate.dense.weight\n",
            "model.encoder.layer.6.intermediate.dense.bias\n",
            "model.encoder.layer.6.output.dense.weight\n",
            "model.encoder.layer.6.output.dense.bias\n",
            "model.encoder.layer.6.output.LayerNorm.weight\n",
            "model.encoder.layer.6.output.LayerNorm.bias\n",
            "model.encoder.layer.7.attention.self.query.weight\n",
            "model.encoder.layer.7.attention.self.query.bias\n",
            "model.encoder.layer.7.attention.self.key.weight\n",
            "model.encoder.layer.7.attention.self.key.bias\n",
            "model.encoder.layer.7.attention.self.value.weight\n",
            "model.encoder.layer.7.attention.self.value.bias\n",
            "model.encoder.layer.7.attention.output.dense.weight\n",
            "model.encoder.layer.7.attention.output.dense.bias\n",
            "model.encoder.layer.7.attention.output.LayerNorm.weight\n",
            "model.encoder.layer.7.attention.output.LayerNorm.bias\n",
            "model.encoder.layer.7.intermediate.dense.weight\n",
            "model.encoder.layer.7.intermediate.dense.bias\n",
            "model.encoder.layer.7.output.dense.weight\n",
            "model.encoder.layer.7.output.dense.bias\n",
            "model.encoder.layer.7.output.LayerNorm.weight\n",
            "model.encoder.layer.7.output.LayerNorm.bias\n",
            "model.encoder.layer.8.attention.self.query.weight\n",
            "model.encoder.layer.8.attention.self.query.bias\n",
            "model.encoder.layer.8.attention.self.key.weight\n",
            "model.encoder.layer.8.attention.self.key.bias\n",
            "model.encoder.layer.8.attention.self.value.weight\n",
            "model.encoder.layer.8.attention.self.value.bias\n",
            "model.encoder.layer.8.attention.output.dense.weight\n",
            "model.encoder.layer.8.attention.output.dense.bias\n",
            "model.encoder.layer.8.attention.output.LayerNorm.weight\n",
            "model.encoder.layer.8.attention.output.LayerNorm.bias\n",
            "model.encoder.layer.8.intermediate.dense.weight\n",
            "model.encoder.layer.8.intermediate.dense.bias\n",
            "model.encoder.layer.8.output.dense.weight\n",
            "model.encoder.layer.8.output.dense.bias\n",
            "model.encoder.layer.8.output.LayerNorm.weight\n",
            "model.encoder.layer.8.output.LayerNorm.bias\n",
            "model.encoder.layer.9.attention.self.query.weight\n",
            "model.encoder.layer.9.attention.self.query.bias\n",
            "model.encoder.layer.9.attention.self.key.weight\n",
            "model.encoder.layer.9.attention.self.key.bias\n",
            "model.encoder.layer.9.attention.self.value.weight\n",
            "model.encoder.layer.9.attention.self.value.bias\n",
            "model.encoder.layer.9.attention.output.dense.weight\n",
            "model.encoder.layer.9.attention.output.dense.bias\n",
            "model.encoder.layer.9.attention.output.LayerNorm.weight\n",
            "model.encoder.layer.9.attention.output.LayerNorm.bias\n",
            "model.encoder.layer.9.intermediate.dense.weight\n",
            "model.encoder.layer.9.intermediate.dense.bias\n",
            "model.encoder.layer.9.output.dense.weight\n",
            "model.encoder.layer.9.output.dense.bias\n",
            "model.encoder.layer.9.output.LayerNorm.weight\n",
            "model.encoder.layer.9.output.LayerNorm.bias\n",
            "model.encoder.layer.10.attention.self.query.weight\n",
            "model.encoder.layer.10.attention.self.query.bias\n",
            "model.encoder.layer.10.attention.self.key.weight\n",
            "model.encoder.layer.10.attention.self.key.bias\n",
            "model.encoder.layer.10.attention.self.value.weight\n",
            "model.encoder.layer.10.attention.self.value.bias\n",
            "model.encoder.layer.10.attention.output.dense.weight\n",
            "model.encoder.layer.10.attention.output.dense.bias\n",
            "model.encoder.layer.10.attention.output.LayerNorm.weight\n",
            "model.encoder.layer.10.attention.output.LayerNorm.bias\n",
            "model.encoder.layer.10.intermediate.dense.weight\n",
            "model.encoder.layer.10.intermediate.dense.bias\n",
            "model.encoder.layer.10.output.dense.weight\n",
            "model.encoder.layer.10.output.dense.bias\n",
            "model.encoder.layer.10.output.LayerNorm.weight\n",
            "model.encoder.layer.10.output.LayerNorm.bias\n",
            "model.encoder.layer.11.attention.self.query.weight\n",
            "model.encoder.layer.11.attention.self.query.bias\n",
            "model.encoder.layer.11.attention.self.key.weight\n",
            "model.encoder.layer.11.attention.self.key.bias\n",
            "model.encoder.layer.11.attention.self.value.weight\n",
            "model.encoder.layer.11.attention.self.value.bias\n",
            "model.encoder.layer.11.attention.output.dense.weight\n",
            "model.encoder.layer.11.attention.output.dense.bias\n",
            "model.encoder.layer.11.attention.output.LayerNorm.weight\n",
            "model.encoder.layer.11.attention.output.LayerNorm.bias\n",
            "model.encoder.layer.11.intermediate.dense.weight\n",
            "model.encoder.layer.11.intermediate.dense.bias\n",
            "model.encoder.layer.11.output.dense.weight\n",
            "model.encoder.layer.11.output.dense.bias\n",
            "model.encoder.layer.11.output.LayerNorm.weight\n",
            "model.encoder.layer.11.output.LayerNorm.bias\n",
            "model.pooler.dense.weight\n",
            "model.pooler.dense.bias\n",
            "classifier.0.weight\n",
            "classifier.0.bias\n",
            "classifier.3.weight\n",
            "classifier.3.bias\n"
          ]
        }
      ]
    },
    {
      "cell_type": "code",
      "source": [
        "for para in model.parameters() :\n",
        "  para.requires_grad = False\n",
        "\n",
        "for name, para in model.named_parameters() :\n",
        "  if name.startswith('model.encoder.layer.11') or name.startswith('model.encoder.layer.10') or name.startswith('model.encoder.layer.9') or name.startswith('model.encoder.layer.8') or name.startswith('model.encoder.layer.7') or name.startswith('model.encoder.layer.6') or name.startswith('model.pooler.dense.') or name.startswith('classifier.') :\n",
        "    para.requires_grad = True\n",
        "\n",
        "true_sum, false_sum = 0, 0\n",
        "for para in model.parameters() :\n",
        "  if para.requires_grad == True :\n",
        "    true_sum += 1\n",
        "  else :\n",
        "    false_sum += 1\n",
        "print(true_sum, false_sum)"
      ],
      "metadata": {
        "colab": {
          "base_uri": "https://localhost:8080/"
        },
        "outputId": "a4ac5a13-b6b2-49ed-dac4-c034d059f6a6",
        "id": "dvcrj1GCYDvi"
      },
      "execution_count": null,
      "outputs": [
        {
          "output_type": "stream",
          "name": "stdout",
          "text": [
            "102 101\n"
          ]
        }
      ]
    },
    {
      "cell_type": "code",
      "source": [
        "start = time.time()\n",
        "train_dict, valid_dict = train(model, optimizer, scheduler, train_dataloader, valid_dataloader, 12, model_name)\n",
        "end = time.time()\n",
        "print(f\"time : {(end - start)//60}분 {(end - start)%60}초\")"
      ],
      "metadata": {
        "colab": {
          "base_uri": "https://localhost:8080/"
        },
        "outputId": "8b7d6df9-5aee-4fc8-d11e-4969d89a0bf9",
        "id": "uQVuvlmoYDvi"
      },
      "execution_count": null,
      "outputs": [
        {
          "output_type": "stream",
          "name": "stdout",
          "text": [
            "*****Epoch 0 Train Start*****\n",
            "Epoch: 0, Step : 128, LR : 0.0000485274, Avg Loss : 0.0499, Pearson : 0.7962\n",
            "Epoch: 0, Step : 256, LR : 0.0000470662, Avg Loss : 0.0166, Pearson : 0.9388\n",
            "Epoch 0 Total Mean Loss : 0.0272\n",
            "Epoch 0 Total Mean Pearson : 0.8915\n",
            "*****Epoch 0 Train Finish*****\n",
            "\n",
            "*****Epoch 0 Valid Start*****\n",
            "Epoch 0 Valid Loss : 0.0298 Valid Pearson : 0.8750\n",
            "*****Epoch 0 Valid Finish*****\n",
            "\n",
            "*****Epoch 1 Train Start*****\n",
            "Epoch: 1, Step : 128, LR : 0.0000443607, Avg Loss : 0.0117, Pearson : 0.9570\n",
            "Epoch: 1, Step : 256, LR : 0.0000428995, Avg Loss : 0.0113, Pearson : 0.9580\n",
            "Epoch 1 Total Mean Loss : 0.0114\n",
            "Epoch 1 Total Mean Pearson : 0.9578\n",
            "*****Epoch 1 Train Finish*****\n",
            "\n",
            "*****Epoch 1 Valid Start*****\n",
            "Epoch 1 Valid Loss : 0.0197 Valid Pearson : 0.8867\n",
            "*****Epoch 1 Valid Finish*****\n",
            "\n",
            "*****Epoch 2 Train Start*****\n",
            "Epoch: 2, Step : 128, LR : 0.0000401941, Avg Loss : 0.0086, Pearson : 0.9671\n",
            "Epoch: 2, Step : 256, LR : 0.0000387329, Avg Loss : 0.0083, Pearson : 0.9684\n",
            "Epoch 2 Total Mean Loss : 0.0086\n",
            "Epoch 2 Total Mean Pearson : 0.9676\n",
            "*****Epoch 2 Train Finish*****\n",
            "\n",
            "*****Epoch 2 Valid Start*****\n",
            "Epoch 2 Valid Loss : 0.0284 Valid Pearson : 0.8680\n",
            "*****Epoch 2 Valid Finish*****\n",
            "\n",
            "*****Epoch 3 Train Start*****\n",
            "Epoch: 3, Step : 128, LR : 0.0000360274, Avg Loss : 0.0077, Pearson : 0.9709\n",
            "Epoch: 3, Step : 256, LR : 0.0000345662, Avg Loss : 0.0072, Pearson : 0.9717\n",
            "Epoch 3 Total Mean Loss : 0.0075\n",
            "Epoch 3 Total Mean Pearson : 0.9712\n",
            "*****Epoch 3 Train Finish*****\n",
            "\n",
            "*****Epoch 3 Valid Start*****\n",
            "Epoch 3 Valid Loss : 0.0207 Valid Pearson : 0.8862\n",
            "*****Epoch 3 Valid Finish*****\n",
            "\n",
            "*****Epoch 4 Train Start*****\n",
            "Epoch: 4, Step : 128, LR : 0.0000318607, Avg Loss : 0.0072, Pearson : 0.9734\n",
            "Epoch: 4, Step : 256, LR : 0.0000303995, Avg Loss : 0.0067, Pearson : 0.9751\n",
            "Epoch 4 Total Mean Loss : 0.0069\n",
            "Epoch 4 Total Mean Pearson : 0.9740\n",
            "*****Epoch 4 Train Finish*****\n",
            "\n",
            "*****Epoch 4 Valid Start*****\n",
            "Epoch 4 Valid Loss : 0.0221 Valid Pearson : 0.8948\n",
            "*****Epoch 4 Valid Finish*****\n",
            "\n",
            "*****Epoch 5 Train Start*****\n",
            "Epoch: 5, Step : 128, LR : 0.0000276941, Avg Loss : 0.0059, Pearson : 0.9773\n",
            "Epoch: 5, Step : 256, LR : 0.0000262329, Avg Loss : 0.0060, Pearson : 0.9780\n",
            "Epoch 5 Total Mean Loss : 0.0060\n",
            "Epoch 5 Total Mean Pearson : 0.9772\n",
            "*****Epoch 5 Train Finish*****\n",
            "\n",
            "*****Epoch 5 Valid Start*****\n",
            "Epoch 5 Valid Loss : 0.0158 Valid Pearson : 0.9059\n",
            "*****Epoch 5 Valid Finish*****\n",
            "\n",
            "*****Epoch 6 Train Start*****\n",
            "Epoch: 6, Step : 128, LR : 0.0000235274, Avg Loss : 0.0056, Pearson : 0.9784\n",
            "Epoch: 6, Step : 256, LR : 0.0000220662, Avg Loss : 0.0057, Pearson : 0.9788\n",
            "Epoch 6 Total Mean Loss : 0.0055\n",
            "Epoch 6 Total Mean Pearson : 0.9789\n",
            "*****Epoch 6 Train Finish*****\n",
            "\n",
            "*****Epoch 6 Valid Start*****\n",
            "Epoch 6 Valid Loss : 0.0253 Valid Pearson : 0.9049\n",
            "*****Epoch 6 Valid Finish*****\n",
            "\n",
            "*****Epoch 7 Train Start*****\n",
            "Epoch: 7, Step : 128, LR : 0.0000193607, Avg Loss : 0.0049, Pearson : 0.9815\n",
            "Epoch: 7, Step : 256, LR : 0.0000178995, Avg Loss : 0.0051, Pearson : 0.9802\n",
            "Epoch 7 Total Mean Loss : 0.0050\n",
            "Epoch 7 Total Mean Pearson : 0.9809\n",
            "*****Epoch 7 Train Finish*****\n",
            "\n",
            "*****Epoch 7 Valid Start*****\n",
            "Epoch 7 Valid Loss : 0.0170 Valid Pearson : 0.9104\n",
            "*****Epoch 7 Valid Finish*****\n",
            "\n",
            "*****Epoch 8 Train Start*****\n",
            "Epoch: 8, Step : 128, LR : 0.0000151941, Avg Loss : 0.0045, Pearson : 0.9824\n",
            "Epoch: 8, Step : 256, LR : 0.0000137329, Avg Loss : 0.0045, Pearson : 0.9825\n",
            "Epoch 8 Total Mean Loss : 0.0044\n",
            "Epoch 8 Total Mean Pearson : 0.9826\n",
            "*****Epoch 8 Train Finish*****\n",
            "\n",
            "*****Epoch 8 Valid Start*****\n",
            "Epoch 8 Valid Loss : 0.0187 Valid Pearson : 0.9095\n",
            "*****Epoch 8 Valid Finish*****\n",
            "\n",
            "*****Epoch 9 Train Start*****\n",
            "Epoch: 9, Step : 128, LR : 0.0000110274, Avg Loss : 0.0044, Pearson : 0.9830\n",
            "Epoch: 9, Step : 256, LR : 0.0000095662, Avg Loss : 0.0043, Pearson : 0.9831\n",
            "Epoch 9 Total Mean Loss : 0.0043\n",
            "Epoch 9 Total Mean Pearson : 0.9831\n",
            "*****Epoch 9 Train Finish*****\n",
            "\n",
            "*****Epoch 9 Valid Start*****\n",
            "Epoch 9 Valid Loss : 0.0197 Valid Pearson : 0.9020\n",
            "*****Epoch 9 Valid Finish*****\n",
            "\n",
            "*****Epoch 10 Train Start*****\n",
            "Epoch: 10, Step : 128, LR : 0.0000068607, Avg Loss : 0.0039, Pearson : 0.9845\n",
            "Epoch: 10, Step : 256, LR : 0.0000053995, Avg Loss : 0.0039, Pearson : 0.9845\n",
            "Epoch 10 Total Mean Loss : 0.0039\n",
            "Epoch 10 Total Mean Pearson : 0.9845\n",
            "*****Epoch 10 Train Finish*****\n",
            "\n",
            "*****Epoch 10 Valid Start*****\n",
            "Epoch 10 Valid Loss : 0.0168 Valid Pearson : 0.9106\n",
            "*****Epoch 10 Valid Finish*****\n",
            "\n",
            "*****Epoch 11 Train Start*****\n",
            "Epoch: 11, Step : 128, LR : 0.0000026941, Avg Loss : 0.0036, Pearson : 0.9856\n",
            "Epoch: 11, Step : 256, LR : 0.0000012329, Avg Loss : 0.0036, Pearson : 0.9856\n",
            "Epoch 11 Total Mean Loss : 0.0036\n",
            "Epoch 11 Total Mean Pearson : 0.9856\n",
            "*****Epoch 11 Train Finish*****\n",
            "\n",
            "*****Epoch 11 Valid Start*****\n",
            "Epoch 11 Valid Loss : 0.0184 Valid Pearson : 0.9087\n",
            "*****Epoch 11 Valid Finish*****\n",
            "\n",
            "Train Finished\n",
            "time : 24.0분 33.12998557090759초\n"
          ]
        }
      ]
    },
    {
      "cell_type": "code",
      "source": [
        "draw_plot(train_dict, valid_dict, 0)"
      ],
      "metadata": {
        "colab": {
          "base_uri": "https://localhost:8080/",
          "height": 332
        },
        "outputId": "044654f2-8e91-48aa-cbf6-7bd59b614c99",
        "id": "QYXjGxsBYDvi"
      },
      "execution_count": null,
      "outputs": [
        {
          "output_type": "stream",
          "name": "stdout",
          "text": [
            "green is train, gray is validation\n"
          ]
        },
        {
          "output_type": "display_data",
          "data": {
            "text/plain": [
              "<Figure size 1152x288 with 4 Axes>"
            ],
            "image/png": "[encoded data removed]"
          },
          "metadata": {
            "needs_background": "light"
          }
        },
        {
          "output_type": "display_data",
          "data": {
            "text/plain": [
              "<Figure size 432x288 with 0 Axes>"
            ]
          },
          "metadata": {}
        }
      ]
    },
    {
      "cell_type": "code",
      "source": [],
      "metadata": {
        "id": "Il6KYy-pZXeO"
      },
      "execution_count": null,
      "outputs": []
    },
    {
      "cell_type": "markdown",
      "source": [
        "# GELU"
      ],
      "metadata": {
        "id": "H557anzkjBcm"
      }
    },
    {
      "cell_type": "code",
      "source": [],
      "metadata": {
        "id": "V4mv-HlvjCJn"
      },
      "execution_count": null,
      "outputs": []
    },
    {
      "cell_type": "code",
      "source": [
        "learning_rate = 5e-05\n",
        "weight_decay = 0.01\n",
        "\n",
        "model, optimizer, scheduler = initializer(train_dataloader, 10, model_name, learning_rate, weight_decay, 'gelu')\n"
      ],
      "metadata": {
        "colab": {
          "base_uri": "https://localhost:8080/",
          "height": 230,
          "referenced_widgets": [
            "cf7109eb46db486a873dc68322862e0c",
            "0bc1af55809042088dbeddb48e654ee3",
            "f471ebb20ff640b2bf0ac024f51eed60",
            "b33f5b1f8698424c84c47a5fe9234c7f",
            "6c2814f3e3a04559acc75c9af405be7c",
            "fe02f3d5d5b64438a5a2a076dcdfd361",
            "2ff25dee6e44488687129bb0ca3651f7",
            "00209bf854714131af8e2a45bce4e119",
            "a651ad68c3c34d1c978ef239f71da541",
            "2b2425d11d7e479aa0d2eb3026ac30f2",
            "bda509814c0044bdac30195e4b697993",
            "271994e301e546d68b34254ede61772f",
            "7895d90322a645d6b02187e8bdb553d6",
            "7d277eb2f0504b8e9ca6074ebb45d99e",
            "1b82ba14f56441eeb4135fa1b4db0d3f",
            "82c359f725d746088ed0d3435e0d3565",
            "60837e4a0a914fb78e23d93a4f64f314",
            "c826c43112c24fe38916b4afa7960891",
            "c901dbca7c7a4c8a978ca07173c013ba",
            "59144065be9f47a0a142079f3ca6d87a",
            "8d6862169b134f1da6231ce1ba358fe3",
            "cd7515ac7f244ed49f90e4d7abbc620c"
          ]
        },
        "outputId": "56c62994-2f42-4eea-a89f-eba19782b158",
        "id": "UiMIUpnojaug"
      },
      "execution_count": null,
      "outputs": [
        {
          "output_type": "display_data",
          "data": {
            "text/plain": [
              "Downloading:   0%|          | 0.00/546 [00:00<?, ?B/s]"
            ],
            "application/vnd.jupyter.widget-view+json": {
              "version_major": 2,
              "version_minor": 0,
              "model_id": "cf7109eb46db486a873dc68322862e0c"
            }
          },
          "metadata": {}
        },
        {
          "output_type": "display_data",
          "data": {
            "text/plain": [
              "Downloading:   0%|          | 0.00/443M [00:00<?, ?B/s]"
            ],
            "application/vnd.jupyter.widget-view+json": {
              "version_major": 2,
              "version_minor": 0,
              "model_id": "271994e301e546d68b34254ede61772f"
            }
          },
          "metadata": {}
        },
        {
          "output_type": "stream",
          "name": "stderr",
          "text": [
            "Some weights of the model checkpoint at klue/roberta-base were not used when initializing RobertaModel: ['lm_head.bias', 'lm_head.decoder.bias', 'lm_head.layer_norm.bias', 'lm_head.decoder.weight', 'lm_head.dense.weight', 'lm_head.dense.bias', 'lm_head.layer_norm.weight']\n",
            "- This IS expected if you are initializing RobertaModel from the checkpoint of a model trained on another task or with another architecture (e.g. initializing a BertForSequenceClassification model from a BertForPreTraining model).\n",
            "- This IS NOT expected if you are initializing RobertaModel from the checkpoint of a model that you expect to be exactly identical (initializing a BertForSequenceClassification model from a BertForSequenceClassification model).\n",
            "Some weights of RobertaModel were not initialized from the model checkpoint at klue/roberta-base and are newly initialized: ['roberta.pooler.dense.weight', 'roberta.pooler.dense.bias']\n",
            "You should probably TRAIN this model on a down-stream task to be able to use it for predictions and inference.\n"
          ]
        },
        {
          "output_type": "stream",
          "name": "stdout",
          "text": [
            "Total train steps with 10 epochs: 3650\n",
            "model_name : klue/roberta-base, lr : 5e-05, weight_decay : 0.01, epochs : 10\n"
          ]
        }
      ]
    },
    {
      "cell_type": "code",
      "source": [
        "start = time.time()\n",
        "train_dict, valid_dict = train(model, optimizer, scheduler, train_dataloader, valid_dataloader, 10, model_name)\n",
        "end = time.time()\n",
        "print(f\"time : {(end - start)//60}분 {(end - start)%60}초\")\n"
      ],
      "metadata": {
        "colab": {
          "base_uri": "https://localhost:8080/"
        },
        "outputId": "4fead7fb-767f-47bf-80dc-98f63969a0af",
        "id": "gy12b-f-jaug"
      },
      "execution_count": null,
      "outputs": [
        {
          "output_type": "stream",
          "name": "stdout",
          "text": [
            "*****Epoch 0 Train Start*****\n",
            "Epoch: 0, Step : 128, LR : 0.0000482329, Avg Loss : 0.0330, Pearson : 0.8453\n",
            "Epoch: 0, Step : 256, LR : 0.0000464795, Avg Loss : 0.0110, Pearson : 0.9584\n",
            "Epoch 0 Total Mean Loss : 0.0186\n",
            "Epoch 0 Total Mean Pearson : 0.9198\n",
            "*****Epoch 0 Train Finish*****\n",
            "\n",
            "*****Epoch 0 Valid Start*****\n",
            "Epoch 0 Valid Loss : 0.0167 Valid Pearson : 0.9042\n",
            "*****Epoch 0 Valid Finish*****\n",
            "\n",
            "*****Epoch 1 Train Start*****\n",
            "Epoch: 1, Step : 128, LR : 0.0000432329, Avg Loss : 0.0074, Pearson : 0.9717\n",
            "Epoch: 1, Step : 256, LR : 0.0000414795, Avg Loss : 0.0074, Pearson : 0.9714\n",
            "Epoch 1 Total Mean Loss : 0.0074\n",
            "Epoch 1 Total Mean Pearson : 0.9716\n",
            "*****Epoch 1 Train Finish*****\n",
            "\n",
            "*****Epoch 1 Valid Start*****\n",
            "Epoch 1 Valid Loss : 0.0179 Valid Pearson : 0.9088\n",
            "*****Epoch 1 Valid Finish*****\n",
            "\n",
            "*****Epoch 2 Train Start*****\n",
            "Epoch: 2, Step : 128, LR : 0.0000382329, Avg Loss : 0.0059, Pearson : 0.9783\n",
            "Epoch: 2, Step : 256, LR : 0.0000364795, Avg Loss : 0.0055, Pearson : 0.9793\n",
            "Epoch 2 Total Mean Loss : 0.0057\n",
            "Epoch 2 Total Mean Pearson : 0.9791\n",
            "*****Epoch 2 Train Finish*****\n",
            "\n",
            "*****Epoch 2 Valid Start*****\n",
            "Epoch 2 Valid Loss : 0.0187 Valid Pearson : 0.9168\n",
            "*****Epoch 2 Valid Finish*****\n",
            "\n",
            "*****Epoch 3 Train Start*****\n",
            "Epoch: 3, Step : 128, LR : 0.0000332329, Avg Loss : 0.0046, Pearson : 0.9824\n",
            "Epoch: 3, Step : 256, LR : 0.0000314795, Avg Loss : 0.0044, Pearson : 0.9826\n",
            "Epoch 3 Total Mean Loss : 0.0044\n",
            "Epoch 3 Total Mean Pearson : 0.9830\n",
            "*****Epoch 3 Train Finish*****\n",
            "\n",
            "*****Epoch 3 Valid Start*****\n",
            "Epoch 3 Valid Loss : 0.0145 Valid Pearson : 0.9243\n",
            "*****Epoch 3 Valid Finish*****\n",
            "\n",
            "*****Epoch 4 Train Start*****\n",
            "Epoch: 4, Step : 128, LR : 0.0000282329, Avg Loss : 0.0037, Pearson : 0.9861\n",
            "Epoch: 4, Step : 256, LR : 0.0000264795, Avg Loss : 0.0036, Pearson : 0.9860\n",
            "Epoch 4 Total Mean Loss : 0.0037\n",
            "Epoch 4 Total Mean Pearson : 0.9858\n",
            "*****Epoch 4 Train Finish*****\n",
            "\n",
            "*****Epoch 4 Valid Start*****\n",
            "Epoch 4 Valid Loss : 0.0161 Valid Pearson : 0.9215\n",
            "*****Epoch 4 Valid Finish*****\n",
            "\n",
            "*****Epoch 5 Train Start*****\n",
            "Epoch: 5, Step : 128, LR : 0.0000232329, Avg Loss : 0.0034, Pearson : 0.9876\n",
            "Epoch: 5, Step : 256, LR : 0.0000214795, Avg Loss : 0.0034, Pearson : 0.9873\n",
            "Epoch 5 Total Mean Loss : 0.0033\n",
            "Epoch 5 Total Mean Pearson : 0.9875\n",
            "*****Epoch 5 Train Finish*****\n",
            "\n",
            "*****Epoch 5 Valid Start*****\n",
            "Epoch 5 Valid Loss : 0.0156 Valid Pearson : 0.9200\n",
            "*****Epoch 5 Valid Finish*****\n",
            "\n",
            "*****Epoch 6 Train Start*****\n",
            "Epoch: 6, Step : 128, LR : 0.0000182329, Avg Loss : 0.0028, Pearson : 0.9891\n",
            "Epoch: 6, Step : 256, LR : 0.0000164795, Avg Loss : 0.0028, Pearson : 0.9894\n",
            "Epoch 6 Total Mean Loss : 0.0028\n",
            "Epoch 6 Total Mean Pearson : 0.9891\n",
            "*****Epoch 6 Train Finish*****\n",
            "\n",
            "*****Epoch 6 Valid Start*****\n",
            "Epoch 6 Valid Loss : 0.0143 Valid Pearson : 0.9267\n",
            "*****Epoch 6 Valid Finish*****\n",
            "\n",
            "*****Epoch 7 Train Start*****\n",
            "Epoch: 7, Step : 128, LR : 0.0000132329, Avg Loss : 0.0025, Pearson : 0.9901\n",
            "Epoch: 7, Step : 256, LR : 0.0000114795, Avg Loss : 0.0026, Pearson : 0.9898\n",
            "Epoch 7 Total Mean Loss : 0.0025\n",
            "Epoch 7 Total Mean Pearson : 0.9900\n",
            "*****Epoch 7 Train Finish*****\n",
            "\n",
            "*****Epoch 7 Valid Start*****\n",
            "Epoch 7 Valid Loss : 0.0132 Valid Pearson : 0.9281\n",
            "*****Epoch 7 Valid Finish*****\n",
            "\n",
            "*****Epoch 8 Train Start*****\n",
            "Epoch: 8, Step : 128, LR : 0.0000082329, Avg Loss : 0.0024, Pearson : 0.9906\n",
            "Epoch: 8, Step : 256, LR : 0.0000064795, Avg Loss : 0.0024, Pearson : 0.9904\n",
            "Epoch 8 Total Mean Loss : 0.0024\n",
            "Epoch 8 Total Mean Pearson : 0.9906\n",
            "*****Epoch 8 Train Finish*****\n",
            "\n",
            "*****Epoch 8 Valid Start*****\n",
            "Epoch 8 Valid Loss : 0.0123 Valid Pearson : 0.9302\n",
            "*****Epoch 8 Valid Finish*****\n",
            "\n",
            "*****Epoch 9 Train Start*****\n",
            "Epoch: 9, Step : 128, LR : 0.0000032329, Avg Loss : 0.0022, Pearson : 0.9912\n",
            "Epoch: 9, Step : 256, LR : 0.0000014795, Avg Loss : 0.0020, Pearson : 0.9921\n",
            "Epoch 9 Total Mean Loss : 0.0021\n",
            "Epoch 9 Total Mean Pearson : 0.9915\n",
            "*****Epoch 9 Train Finish*****\n",
            "\n",
            "*****Epoch 9 Valid Start*****\n",
            "Epoch 9 Valid Loss : 0.0133 Valid Pearson : 0.9296\n",
            "*****Epoch 9 Valid Finish*****\n",
            "\n",
            "Train Finished\n",
            "time : 31.0분 15.7011079788208초\n"
          ]
        }
      ]
    },
    {
      "cell_type": "code",
      "source": [
        "draw_plot(train_dict, valid_dict, 0)"
      ],
      "metadata": {
        "colab": {
          "base_uri": "https://localhost:8080/",
          "height": 332
        },
        "outputId": "9275950f-9d96-4bc7-f170-bb52231d4fb1",
        "id": "xjTBayM0jaug"
      },
      "execution_count": null,
      "outputs": [
        {
          "output_type": "stream",
          "name": "stdout",
          "text": [
            "green is train, gray is validation\n"
          ]
        },
        {
          "output_type": "display_data",
          "data": {
            "text/plain": [
              "<Figure size 1152x288 with 4 Axes>"
            ],
            "image/png": "[encoded data removed]"
          },
          "metadata": {
            "needs_background": "light"
          }
        },
        {
          "output_type": "display_data",
          "data": {
            "text/plain": [
              "<Figure size 432x288 with 0 Axes>"
            ]
          },
          "metadata": {}
        }
      ]
    },
    {
      "cell_type": "code",
      "source": [
        "train_dict"
      ],
      "metadata": {
        "colab": {
          "base_uri": "https://localhost:8080/"
        },
        "outputId": "50dfc530-f666-4e14-d2b6-c1c45c639f2d",
        "id": "5ARR7UH8jaug"
      },
      "execution_count": null,
      "outputs": [
        {
          "output_type": "execute_result",
          "data": {
            "text/plain": [
              "{'loss': [0.018604387989752506,\n",
              "  0.007398228336457317,\n",
              "  0.005700614290592605,\n",
              "  0.00439762175115055,\n",
              "  0.00372405605668151,\n",
              "  0.0033234433652131424,\n",
              "  0.002808354194084667,\n",
              "  0.002544075326215833,\n",
              "  0.0023528696447674643,\n",
              "  0.0021344585819425034],\n",
              " 'pearson': [0.9197567723181149,\n",
              "  0.9715744988559044,\n",
              "  0.9791057393975454,\n",
              "  0.9830087377600474,\n",
              "  0.9857669911972464,\n",
              "  0.9875318189189859,\n",
              "  0.9891152808111008,\n",
              "  0.9900413392341301,\n",
              "  0.9906015054820335,\n",
              "  0.9914753210054685]}"
            ]
          },
          "metadata": {},
          "execution_count": 21
        }
      ]
    },
    {
      "cell_type": "code",
      "source": [
        "valid_dict"
      ],
      "metadata": {
        "colab": {
          "base_uri": "https://localhost:8080/"
        },
        "outputId": "d603952b-94e5-4f8d-873a-35eae52caa19",
        "id": "D4NdxcVcjauh"
      },
      "execution_count": null,
      "outputs": [
        {
          "output_type": "execute_result",
          "data": {
            "text/plain": [
              "{'loss': [0.016743490116342026,\n",
              "  0.017876727725653088,\n",
              "  0.018694412511061218,\n",
              "  0.014465646270443411,\n",
              "  0.016084325006779504,\n",
              "  0.015597002361627185,\n",
              "  0.014261968926910092,\n",
              "  0.013186866198392475,\n",
              "  0.012347449658109862,\n",
              "  0.013291402281645466],\n",
              " 'pearson': [0.9042371616644018,\n",
              "  0.9088432613541099,\n",
              "  0.9168309569358826,\n",
              "  0.9242604024270001,\n",
              "  0.9214523539823645,\n",
              "  0.9199743025443133,\n",
              "  0.9267118643311893,\n",
              "  0.9280917574377621,\n",
              "  0.9301657992250779,\n",
              "  0.9295505986494177]}"
            ]
          },
          "metadata": {},
          "execution_count": 22
        }
      ]
    },
    {
      "cell_type": "markdown",
      "source": [
        "# Freeze"
      ],
      "metadata": {
        "id": "-P_2MQwOjauh"
      }
    },
    {
      "cell_type": "code",
      "source": [
        "model.state_dict().keys()"
      ],
      "metadata": {
        "colab": {
          "base_uri": "https://localhost:8080/"
        },
        "outputId": "85e50944-a670-4caf-813d-ffc815f169b6",
        "id": "KmGhxgrzjauh"
      },
      "execution_count": null,
      "outputs": [
        {
          "output_type": "execute_result",
          "data": {
            "text/plain": [
              "odict_keys(['model.embeddings.position_ids', 'model.embeddings.word_embeddings.weight', 'model.embeddings.position_embeddings.weight', 'model.embeddings.token_type_embeddings.weight', 'model.embeddings.LayerNorm.weight', 'model.embeddings.LayerNorm.bias', 'model.encoder.layer.0.attention.self.query.weight', 'model.encoder.layer.0.attention.self.query.bias', 'model.encoder.layer.0.attention.self.key.weight', 'model.encoder.layer.0.attention.self.key.bias', 'model.encoder.layer.0.attention.self.value.weight', 'model.encoder.layer.0.attention.self.value.bias', 'model.encoder.layer.0.attention.output.dense.weight', 'model.encoder.layer.0.attention.output.dense.bias', 'model.encoder.layer.0.attention.output.LayerNorm.weight', 'model.encoder.layer.0.attention.output.LayerNorm.bias', 'model.encoder.layer.0.intermediate.dense.weight', 'model.encoder.layer.0.intermediate.dense.bias', 'model.encoder.layer.0.output.dense.weight', 'model.encoder.layer.0.output.dense.bias', 'model.encoder.layer.0.output.LayerNorm.weight', 'model.encoder.layer.0.output.LayerNorm.bias', 'model.encoder.layer.1.attention.self.query.weight', 'model.encoder.layer.1.attention.self.query.bias', 'model.encoder.layer.1.attention.self.key.weight', 'model.encoder.layer.1.attention.self.key.bias', 'model.encoder.layer.1.attention.self.value.weight', 'model.encoder.layer.1.attention.self.value.bias', 'model.encoder.layer.1.attention.output.dense.weight', 'model.encoder.layer.1.attention.output.dense.bias', 'model.encoder.layer.1.attention.output.LayerNorm.weight', 'model.encoder.layer.1.attention.output.LayerNorm.bias', 'model.encoder.layer.1.intermediate.dense.weight', 'model.encoder.layer.1.intermediate.dense.bias', 'model.encoder.layer.1.output.dense.weight', 'model.encoder.layer.1.output.dense.bias', 'model.encoder.layer.1.output.LayerNorm.weight', 'model.encoder.layer.1.output.LayerNorm.bias', 'model.encoder.layer.2.attention.self.query.weight', 'model.encoder.layer.2.attention.self.query.bias', 'model.encoder.layer.2.attention.self.key.weight', 'model.encoder.layer.2.attention.self.key.bias', 'model.encoder.layer.2.attention.self.value.weight', 'model.encoder.layer.2.attention.self.value.bias', 'model.encoder.layer.2.attention.output.dense.weight', 'model.encoder.layer.2.attention.output.dense.bias', 'model.encoder.layer.2.attention.output.LayerNorm.weight', 'model.encoder.layer.2.attention.output.LayerNorm.bias', 'model.encoder.layer.2.intermediate.dense.weight', 'model.encoder.layer.2.intermediate.dense.bias', 'model.encoder.layer.2.output.dense.weight', 'model.encoder.layer.2.output.dense.bias', 'model.encoder.layer.2.output.LayerNorm.weight', 'model.encoder.layer.2.output.LayerNorm.bias', 'model.encoder.layer.3.attention.self.query.weight', 'model.encoder.layer.3.attention.self.query.bias', 'model.encoder.layer.3.attention.self.key.weight', 'model.encoder.layer.3.attention.self.key.bias', 'model.encoder.layer.3.attention.self.value.weight', 'model.encoder.layer.3.attention.self.value.bias', 'model.encoder.layer.3.attention.output.dense.weight', 'model.encoder.layer.3.attention.output.dense.bias', 'model.encoder.layer.3.attention.output.LayerNorm.weight', 'model.encoder.layer.3.attention.output.LayerNorm.bias', 'model.encoder.layer.3.intermediate.dense.weight', 'model.encoder.layer.3.intermediate.dense.bias', 'model.encoder.layer.3.output.dense.weight', 'model.encoder.layer.3.output.dense.bias', 'model.encoder.layer.3.output.LayerNorm.weight', 'model.encoder.layer.3.output.LayerNorm.bias', 'model.encoder.layer.4.attention.self.query.weight', 'model.encoder.layer.4.attention.self.query.bias', 'model.encoder.layer.4.attention.self.key.weight', 'model.encoder.layer.4.attention.self.key.bias', 'model.encoder.layer.4.attention.self.value.weight', 'model.encoder.layer.4.attention.self.value.bias', 'model.encoder.layer.4.attention.output.dense.weight', 'model.encoder.layer.4.attention.output.dense.bias', 'model.encoder.layer.4.attention.output.LayerNorm.weight', 'model.encoder.layer.4.attention.output.LayerNorm.bias', 'model.encoder.layer.4.intermediate.dense.weight', 'model.encoder.layer.4.intermediate.dense.bias', 'model.encoder.layer.4.output.dense.weight', 'model.encoder.layer.4.output.dense.bias', 'model.encoder.layer.4.output.LayerNorm.weight', 'model.encoder.layer.4.output.LayerNorm.bias', 'model.encoder.layer.5.attention.self.query.weight', 'model.encoder.layer.5.attention.self.query.bias', 'model.encoder.layer.5.attention.self.key.weight', 'model.encoder.layer.5.attention.self.key.bias', 'model.encoder.layer.5.attention.self.value.weight', 'model.encoder.layer.5.attention.self.value.bias', 'model.encoder.layer.5.attention.output.dense.weight', 'model.encoder.layer.5.attention.output.dense.bias', 'model.encoder.layer.5.attention.output.LayerNorm.weight', 'model.encoder.layer.5.attention.output.LayerNorm.bias', 'model.encoder.layer.5.intermediate.dense.weight', 'model.encoder.layer.5.intermediate.dense.bias', 'model.encoder.layer.5.output.dense.weight', 'model.encoder.layer.5.output.dense.bias', 'model.encoder.layer.5.output.LayerNorm.weight', 'model.encoder.layer.5.output.LayerNorm.bias', 'model.encoder.layer.6.attention.self.query.weight', 'model.encoder.layer.6.attention.self.query.bias', 'model.encoder.layer.6.attention.self.key.weight', 'model.encoder.layer.6.attention.self.key.bias', 'model.encoder.layer.6.attention.self.value.weight', 'model.encoder.layer.6.attention.self.value.bias', 'model.encoder.layer.6.attention.output.dense.weight', 'model.encoder.layer.6.attention.output.dense.bias', 'model.encoder.layer.6.attention.output.LayerNorm.weight', 'model.encoder.layer.6.attention.output.LayerNorm.bias', 'model.encoder.layer.6.intermediate.dense.weight', 'model.encoder.layer.6.intermediate.dense.bias', 'model.encoder.layer.6.output.dense.weight', 'model.encoder.layer.6.output.dense.bias', 'model.encoder.layer.6.output.LayerNorm.weight', 'model.encoder.layer.6.output.LayerNorm.bias', 'model.encoder.layer.7.attention.self.query.weight', 'model.encoder.layer.7.attention.self.query.bias', 'model.encoder.layer.7.attention.self.key.weight', 'model.encoder.layer.7.attention.self.key.bias', 'model.encoder.layer.7.attention.self.value.weight', 'model.encoder.layer.7.attention.self.value.bias', 'model.encoder.layer.7.attention.output.dense.weight', 'model.encoder.layer.7.attention.output.dense.bias', 'model.encoder.layer.7.attention.output.LayerNorm.weight', 'model.encoder.layer.7.attention.output.LayerNorm.bias', 'model.encoder.layer.7.intermediate.dense.weight', 'model.encoder.layer.7.intermediate.dense.bias', 'model.encoder.layer.7.output.dense.weight', 'model.encoder.layer.7.output.dense.bias', 'model.encoder.layer.7.output.LayerNorm.weight', 'model.encoder.layer.7.output.LayerNorm.bias', 'model.encoder.layer.8.attention.self.query.weight', 'model.encoder.layer.8.attention.self.query.bias', 'model.encoder.layer.8.attention.self.key.weight', 'model.encoder.layer.8.attention.self.key.bias', 'model.encoder.layer.8.attention.self.value.weight', 'model.encoder.layer.8.attention.self.value.bias', 'model.encoder.layer.8.attention.output.dense.weight', 'model.encoder.layer.8.attention.output.dense.bias', 'model.encoder.layer.8.attention.output.LayerNorm.weight', 'model.encoder.layer.8.attention.output.LayerNorm.bias', 'model.encoder.layer.8.intermediate.dense.weight', 'model.encoder.layer.8.intermediate.dense.bias', 'model.encoder.layer.8.output.dense.weight', 'model.encoder.layer.8.output.dense.bias', 'model.encoder.layer.8.output.LayerNorm.weight', 'model.encoder.layer.8.output.LayerNorm.bias', 'model.encoder.layer.9.attention.self.query.weight', 'model.encoder.layer.9.attention.self.query.bias', 'model.encoder.layer.9.attention.self.key.weight', 'model.encoder.layer.9.attention.self.key.bias', 'model.encoder.layer.9.attention.self.value.weight', 'model.encoder.layer.9.attention.self.value.bias', 'model.encoder.layer.9.attention.output.dense.weight', 'model.encoder.layer.9.attention.output.dense.bias', 'model.encoder.layer.9.attention.output.LayerNorm.weight', 'model.encoder.layer.9.attention.output.LayerNorm.bias', 'model.encoder.layer.9.intermediate.dense.weight', 'model.encoder.layer.9.intermediate.dense.bias', 'model.encoder.layer.9.output.dense.weight', 'model.encoder.layer.9.output.dense.bias', 'model.encoder.layer.9.output.LayerNorm.weight', 'model.encoder.layer.9.output.LayerNorm.bias', 'model.encoder.layer.10.attention.self.query.weight', 'model.encoder.layer.10.attention.self.query.bias', 'model.encoder.layer.10.attention.self.key.weight', 'model.encoder.layer.10.attention.self.key.bias', 'model.encoder.layer.10.attention.self.value.weight', 'model.encoder.layer.10.attention.self.value.bias', 'model.encoder.layer.10.attention.output.dense.weight', 'model.encoder.layer.10.attention.output.dense.bias', 'model.encoder.layer.10.attention.output.LayerNorm.weight', 'model.encoder.layer.10.attention.output.LayerNorm.bias', 'model.encoder.layer.10.intermediate.dense.weight', 'model.encoder.layer.10.intermediate.dense.bias', 'model.encoder.layer.10.output.dense.weight', 'model.encoder.layer.10.output.dense.bias', 'model.encoder.layer.10.output.LayerNorm.weight', 'model.encoder.layer.10.output.LayerNorm.bias', 'model.encoder.layer.11.attention.self.query.weight', 'model.encoder.layer.11.attention.self.query.bias', 'model.encoder.layer.11.attention.self.key.weight', 'model.encoder.layer.11.attention.self.key.bias', 'model.encoder.layer.11.attention.self.value.weight', 'model.encoder.layer.11.attention.self.value.bias', 'model.encoder.layer.11.attention.output.dense.weight', 'model.encoder.layer.11.attention.output.dense.bias', 'model.encoder.layer.11.attention.output.LayerNorm.weight', 'model.encoder.layer.11.attention.output.LayerNorm.bias', 'model.encoder.layer.11.intermediate.dense.weight', 'model.encoder.layer.11.intermediate.dense.bias', 'model.encoder.layer.11.output.dense.weight', 'model.encoder.layer.11.output.dense.bias', 'model.encoder.layer.11.output.LayerNorm.weight', 'model.encoder.layer.11.output.LayerNorm.bias', 'model.pooler.dense.weight', 'model.pooler.dense.bias', 'classifier.0.weight', 'classifier.0.bias', 'classifier.3.weight', 'classifier.3.bias'])"
            ]
          },
          "metadata": {},
          "execution_count": 23
        }
      ]
    },
    {
      "cell_type": "code",
      "source": [
        "true_sum, false_sum = 0, 0\n",
        "for para in model.parameters() :\n",
        "  if para.requires_grad == True :\n",
        "    true_sum += 1\n",
        "  else :\n",
        "    false_sum += 1\n",
        "print(true_sum, false_sum)"
      ],
      "metadata": {
        "colab": {
          "base_uri": "https://localhost:8080/"
        },
        "outputId": "034316db-7c71-4fbf-d554-510dce9c69cd",
        "id": "bSprQfSxjauh"
      },
      "execution_count": null,
      "outputs": [
        {
          "output_type": "stream",
          "name": "stdout",
          "text": [
            "203 0\n"
          ]
        }
      ]
    },
    {
      "cell_type": "markdown",
      "source": [
        "## pre-trained 부분 freezing : 12 epoch까지"
      ],
      "metadata": {
        "id": "wEFMKWjzjauh"
      }
    },
    {
      "cell_type": "code",
      "source": [
        "learning_rate = 5e-05\n",
        "weight_decay = 0.01\n",
        "\n",
        "model, optimizer, scheduler = initializer(train_dataloader, 12, model_name, learning_rate, weight_decay, 'gelu')"
      ],
      "metadata": {
        "colab": {
          "base_uri": "https://localhost:8080/"
        },
        "outputId": "3eb5db08-112c-4655-86f2-8d7e5be694ef",
        "id": "RVcDiK9tjauh"
      },
      "execution_count": null,
      "outputs": [
        {
          "output_type": "stream",
          "name": "stderr",
          "text": [
            "Some weights of the model checkpoint at klue/roberta-base were not used when initializing RobertaModel: ['lm_head.bias', 'lm_head.decoder.bias', 'lm_head.layer_norm.bias', 'lm_head.decoder.weight', 'lm_head.dense.weight', 'lm_head.dense.bias', 'lm_head.layer_norm.weight']\n",
            "- This IS expected if you are initializing RobertaModel from the checkpoint of a model trained on another task or with another architecture (e.g. initializing a BertForSequenceClassification model from a BertForPreTraining model).\n",
            "- This IS NOT expected if you are initializing RobertaModel from the checkpoint of a model that you expect to be exactly identical (initializing a BertForSequenceClassification model from a BertForSequenceClassification model).\n",
            "Some weights of RobertaModel were not initialized from the model checkpoint at klue/roberta-base and are newly initialized: ['roberta.pooler.dense.weight', 'roberta.pooler.dense.bias']\n",
            "You should probably TRAIN this model on a down-stream task to be able to use it for predictions and inference.\n"
          ]
        },
        {
          "output_type": "stream",
          "name": "stdout",
          "text": [
            "Total train steps with 12 epochs: 4380\n",
            "model_name : klue/roberta-base, lr : 5e-05, weight_decay : 0.01, epochs : 12\n"
          ]
        }
      ]
    },
    {
      "cell_type": "code",
      "source": [
        "for para in model.parameters() :\n",
        "  para.requires_grad = False\n",
        "\n",
        "true_sum, false_sum = 0, 0\n",
        "for para in model.parameters() :\n",
        "  if para.requires_grad == True :\n",
        "    true_sum += 1\n",
        "  else :\n",
        "    false_sum += 1\n",
        "print(true_sum, false_sum)"
      ],
      "metadata": {
        "colab": {
          "base_uri": "https://localhost:8080/"
        },
        "outputId": "44bf1f0e-acd5-49b7-ca05-02f29f215cc9",
        "id": "lUqgX8N4jauh"
      },
      "execution_count": null,
      "outputs": [
        {
          "output_type": "stream",
          "name": "stdout",
          "text": [
            "0 203\n"
          ]
        }
      ]
    },
    {
      "cell_type": "code",
      "source": [
        "for name, para in model.named_parameters() :\n",
        "  if name in ['classifier.0.weight', 'classifier.0.bias', 'classifier.3.weight', 'classifier.3.bias'] :\n",
        "    para.requires_grad = True\n",
        "\n",
        "true_sum, false_sum = 0, 0\n",
        "for para in model.parameters() :\n",
        "  if para.requires_grad == True :\n",
        "    true_sum += 1\n",
        "  else :\n",
        "    false_sum += 1\n",
        "print(true_sum, false_sum)"
      ],
      "metadata": {
        "colab": {
          "base_uri": "https://localhost:8080/"
        },
        "outputId": "31faec8e-1ab7-4d5e-e79f-f0c2dfe07ffb",
        "id": "YRwSaV1rjauh"
      },
      "execution_count": null,
      "outputs": [
        {
          "output_type": "stream",
          "name": "stdout",
          "text": [
            "4 199\n"
          ]
        }
      ]
    },
    {
      "cell_type": "code",
      "source": [
        "start = time.time()\n",
        "train_dict, valid_dict = train(model, optimizer, scheduler, train_dataloader, valid_dataloader, 12, model_name)\n",
        "end = time.time()\n",
        "print(f\"time : {(end - start)//60}분 {(end - start)%60}초\")"
      ],
      "metadata": {
        "colab": {
          "base_uri": "https://localhost:8080/"
        },
        "outputId": "580f76bc-4cae-448b-88ed-0fe2d469e5b1",
        "id": "37iJoZTqjauh"
      },
      "execution_count": null,
      "outputs": [
        {
          "output_type": "stream",
          "name": "stdout",
          "text": [
            "*****Epoch 0 Train Start*****\n",
            "Epoch: 0, Step : 128, LR : 0.0000485274, Avg Loss : 0.1497, Pearson : -0.0323\n",
            "Epoch: 0, Step : 256, LR : 0.0000470662, Avg Loss : 0.1224, Pearson : 0.0737\n",
            "Epoch 0 Total Mean Loss : 0.1317\n",
            "Epoch 0 Total Mean Pearson : 0.0527\n",
            "*****Epoch 0 Train Finish*****\n",
            "\n",
            "*****Epoch 0 Valid Start*****\n",
            "Epoch 0 Valid Loss : 0.0897 Valid Pearson : 0.0991\n",
            "*****Epoch 0 Valid Finish*****\n",
            "\n",
            "*****Epoch 1 Train Start*****\n",
            "Epoch: 1, Step : 128, LR : 0.0000443607, Avg Loss : 0.1182, Pearson : 0.1836\n",
            "Epoch: 1, Step : 256, LR : 0.0000428995, Avg Loss : 0.1170, Pearson : 0.2398\n",
            "Epoch 1 Total Mean Loss : 0.1164\n",
            "Epoch 1 Total Mean Pearson : 0.2319\n",
            "*****Epoch 1 Train Finish*****\n",
            "\n",
            "*****Epoch 1 Valid Start*****\n",
            "Epoch 1 Valid Loss : 0.0867 Valid Pearson : 0.1321\n",
            "*****Epoch 1 Valid Finish*****\n",
            "\n",
            "*****Epoch 2 Train Start*****\n",
            "Epoch: 2, Step : 128, LR : 0.0000401941, Avg Loss : 0.1119, Pearson : 0.3066\n",
            "Epoch: 2, Step : 256, LR : 0.0000387329, Avg Loss : 0.1115, Pearson : 0.3202\n",
            "Epoch 2 Total Mean Loss : 0.1110\n",
            "Epoch 2 Total Mean Pearson : 0.3164\n",
            "*****Epoch 2 Train Finish*****\n",
            "\n",
            "*****Epoch 2 Valid Start*****\n",
            "Epoch 2 Valid Loss : 0.0844 Valid Pearson : 0.1653\n",
            "*****Epoch 2 Valid Finish*****\n",
            "\n",
            "*****Epoch 3 Train Start*****\n",
            "Epoch: 3, Step : 128, LR : 0.0000360274, Avg Loss : 0.1077, Pearson : 0.3702\n",
            "Epoch: 3, Step : 256, LR : 0.0000345662, Avg Loss : 0.1076, Pearson : 0.3704\n",
            "Epoch 3 Total Mean Loss : 0.1071\n",
            "Epoch 3 Total Mean Pearson : 0.3671\n",
            "*****Epoch 3 Train Finish*****\n",
            "\n",
            "*****Epoch 3 Valid Start*****\n",
            "Epoch 3 Valid Loss : 0.0843 Valid Pearson : 0.2001\n",
            "*****Epoch 3 Valid Finish*****\n",
            "\n",
            "*****Epoch 4 Train Start*****\n",
            "Epoch: 4, Step : 128, LR : 0.0000318607, Avg Loss : 0.1041, Pearson : 0.3947\n",
            "Epoch: 4, Step : 256, LR : 0.0000303995, Avg Loss : 0.1039, Pearson : 0.4040\n",
            "Epoch 4 Total Mean Loss : 0.1035\n",
            "Epoch 4 Total Mean Pearson : 0.4063\n",
            "*****Epoch 4 Train Finish*****\n",
            "\n",
            "*****Epoch 4 Valid Start*****\n",
            "Epoch 4 Valid Loss : 0.0824 Valid Pearson : 0.2209\n",
            "*****Epoch 4 Valid Finish*****\n",
            "\n",
            "*****Epoch 5 Train Start*****\n",
            "Epoch: 5, Step : 128, LR : 0.0000276941, Avg Loss : 0.1036, Pearson : 0.4091\n",
            "Epoch: 5, Step : 256, LR : 0.0000262329, Avg Loss : 0.1003, Pearson : 0.4280\n",
            "Epoch 5 Total Mean Loss : 0.1019\n",
            "Epoch 5 Total Mean Pearson : 0.4137\n",
            "*****Epoch 5 Train Finish*****\n",
            "\n",
            "*****Epoch 5 Valid Start*****\n",
            "Epoch 5 Valid Loss : 0.0812 Valid Pearson : 0.2477\n",
            "*****Epoch 5 Valid Finish*****\n",
            "\n",
            "*****Epoch 6 Train Start*****\n",
            "Epoch: 6, Step : 128, LR : 0.0000235274, Avg Loss : 0.1010, Pearson : 0.4278\n",
            "Epoch: 6, Step : 256, LR : 0.0000220662, Avg Loss : 0.1007, Pearson : 0.4222\n",
            "Epoch 6 Total Mean Loss : 0.0995\n",
            "Epoch 6 Total Mean Pearson : 0.4391\n",
            "*****Epoch 6 Train Finish*****\n",
            "\n",
            "*****Epoch 6 Valid Start*****\n",
            "Epoch 6 Valid Loss : 0.0806 Valid Pearson : 0.2622\n",
            "*****Epoch 6 Valid Finish*****\n",
            "\n",
            "*****Epoch 7 Train Start*****\n",
            "Epoch: 7, Step : 128, LR : 0.0000193607, Avg Loss : 0.0999, Pearson : 0.4336\n",
            "Epoch: 7, Step : 256, LR : 0.0000178995, Avg Loss : 0.0975, Pearson : 0.4598\n",
            "Epoch 7 Total Mean Loss : 0.0987\n",
            "Epoch 7 Total Mean Pearson : 0.4467\n",
            "*****Epoch 7 Train Finish*****\n",
            "\n",
            "*****Epoch 7 Valid Start*****\n",
            "Epoch 7 Valid Loss : 0.0798 Valid Pearson : 0.2726\n",
            "*****Epoch 7 Valid Finish*****\n",
            "\n",
            "*****Epoch 8 Train Start*****\n",
            "Epoch: 8, Step : 128, LR : 0.0000151941, Avg Loss : 0.0967, Pearson : 0.4615\n",
            "Epoch: 8, Step : 256, LR : 0.0000137329, Avg Loss : 0.0974, Pearson : 0.4688\n",
            "Epoch 8 Total Mean Loss : 0.0971\n",
            "Epoch 8 Total Mean Pearson : 0.4612\n",
            "*****Epoch 8 Train Finish*****\n",
            "\n",
            "*****Epoch 8 Valid Start*****\n",
            "Epoch 8 Valid Loss : 0.0792 Valid Pearson : 0.2809\n",
            "*****Epoch 8 Valid Finish*****\n",
            "\n",
            "*****Epoch 9 Train Start*****\n",
            "Epoch: 9, Step : 128, LR : 0.0000110274, Avg Loss : 0.0992, Pearson : 0.4633\n",
            "Epoch: 9, Step : 256, LR : 0.0000095662, Avg Loss : 0.0917, Pearson : 0.4911\n",
            "Epoch 9 Total Mean Loss : 0.0960\n",
            "Epoch 9 Total Mean Pearson : 0.4702\n",
            "*****Epoch 9 Train Finish*****\n",
            "\n",
            "*****Epoch 9 Valid Start*****\n",
            "Epoch 9 Valid Loss : 0.0789 Valid Pearson : 0.2877\n",
            "*****Epoch 9 Valid Finish*****\n",
            "\n",
            "*****Epoch 10 Train Start*****\n",
            "Epoch: 10, Step : 128, LR : 0.0000068607, Avg Loss : 0.0969, Pearson : 0.4608\n",
            "Epoch: 10, Step : 256, LR : 0.0000053995, Avg Loss : 0.0945, Pearson : 0.4861\n",
            "Epoch 10 Total Mean Loss : 0.0958\n",
            "Epoch 10 Total Mean Pearson : 0.4757\n",
            "*****Epoch 10 Train Finish*****\n",
            "\n",
            "*****Epoch 10 Valid Start*****\n",
            "Epoch 10 Valid Loss : 0.0786 Valid Pearson : 0.2910\n",
            "*****Epoch 10 Valid Finish*****\n",
            "\n",
            "*****Epoch 11 Train Start*****\n",
            "Epoch: 11, Step : 128, LR : 0.0000026941, Avg Loss : 0.0965, Pearson : 0.4634\n",
            "Epoch: 11, Step : 256, LR : 0.0000012329, Avg Loss : 0.0947, Pearson : 0.4848\n",
            "Epoch 11 Total Mean Loss : 0.0965\n",
            "Epoch 11 Total Mean Pearson : 0.4673\n",
            "*****Epoch 11 Train Finish*****\n",
            "\n",
            "*****Epoch 11 Valid Start*****\n",
            "Epoch 11 Valid Loss : 0.0787 Valid Pearson : 0.2920\n",
            "*****Epoch 11 Valid Finish*****\n",
            "\n",
            "Train Finished\n",
            "time : 13.0분 30.01694083213806초\n"
          ]
        }
      ]
    },
    {
      "cell_type": "code",
      "source": [
        "draw_plot(train_dict, valid_dict, 0)"
      ],
      "metadata": {
        "colab": {
          "base_uri": "https://localhost:8080/",
          "height": 332
        },
        "outputId": "9337d707-0861-4d98-bdde-2b21209bf77f",
        "id": "4USB0Hdyjaui"
      },
      "execution_count": null,
      "outputs": [
        {
          "output_type": "stream",
          "name": "stdout",
          "text": [
            "green is train, gray is validation\n"
          ]
        },
        {
          "output_type": "display_data",
          "data": {
            "text/plain": [
              "<Figure size 1152x288 with 4 Axes>"
            ],
            "image/png": "[encoded data removed]"
          },
          "metadata": {
            "needs_background": "light"
          }
        },
        {
          "output_type": "display_data",
          "data": {
            "text/plain": [
              "<Figure size 432x288 with 0 Axes>"
            ]
          },
          "metadata": {}
        }
      ]
    },
    {
      "cell_type": "markdown",
      "source": [
        "## pre-trained 모델 중 일부 freezing ( 11 layer + classifier )"
      ],
      "metadata": {
        "id": "GJFblDnVjaui"
      }
    },
    {
      "cell_type": "code",
      "source": [
        "learning_rate = 5e-05\n",
        "weight_decay = 0.01\n",
        "\n",
        "model, optimizer, scheduler = initializer(train_dataloader, 12, model_name, learning_rate, weight_decay, 'gelu')"
      ],
      "metadata": {
        "colab": {
          "base_uri": "https://localhost:8080/"
        },
        "outputId": "212add72-6218-4a08-b8b5-37808a2e2411",
        "id": "XqjZ1xIMjaui"
      },
      "execution_count": null,
      "outputs": [
        {
          "output_type": "stream",
          "name": "stderr",
          "text": [
            "Some weights of the model checkpoint at klue/roberta-base were not used when initializing RobertaModel: ['lm_head.bias', 'lm_head.decoder.bias', 'lm_head.layer_norm.bias', 'lm_head.decoder.weight', 'lm_head.dense.weight', 'lm_head.dense.bias', 'lm_head.layer_norm.weight']\n",
            "- This IS expected if you are initializing RobertaModel from the checkpoint of a model trained on another task or with another architecture (e.g. initializing a BertForSequenceClassification model from a BertForPreTraining model).\n",
            "- This IS NOT expected if you are initializing RobertaModel from the checkpoint of a model that you expect to be exactly identical (initializing a BertForSequenceClassification model from a BertForSequenceClassification model).\n",
            "Some weights of RobertaModel were not initialized from the model checkpoint at klue/roberta-base and are newly initialized: ['roberta.pooler.dense.weight', 'roberta.pooler.dense.bias']\n",
            "You should probably TRAIN this model on a down-stream task to be able to use it for predictions and inference.\n"
          ]
        },
        {
          "output_type": "stream",
          "name": "stdout",
          "text": [
            "Total train steps with 12 epochs: 4380\n",
            "model_name : klue/roberta-base, lr : 5e-05, weight_decay : 0.01, epochs : 12\n"
          ]
        }
      ]
    },
    {
      "cell_type": "code",
      "source": [
        "true_sum, false_sum = 0, 0\n",
        "for para in model.parameters() :\n",
        "  if para.requires_grad == True :\n",
        "    true_sum += 1\n",
        "  else :\n",
        "    false_sum += 1\n",
        "print(true_sum, false_sum)"
      ],
      "metadata": {
        "colab": {
          "base_uri": "https://localhost:8080/"
        },
        "outputId": "b56c9a71-83e8-46fc-d0d0-4f9dd4b8cdfb",
        "id": "D--ZFcAPjaui"
      },
      "execution_count": null,
      "outputs": [
        {
          "output_type": "stream",
          "name": "stdout",
          "text": [
            "203 0\n"
          ]
        }
      ]
    },
    {
      "cell_type": "code",
      "source": [
        "for name, para in model.named_parameters() :\n",
        "  print(name)"
      ],
      "metadata": {
        "colab": {
          "base_uri": "https://localhost:8080/"
        },
        "outputId": "71cf52f0-4c65-4e28-8e5e-d42706744816",
        "id": "3FtqVENqjaui"
      },
      "execution_count": null,
      "outputs": [
        {
          "output_type": "stream",
          "name": "stdout",
          "text": [
            "model.embeddings.word_embeddings.weight\n",
            "model.embeddings.position_embeddings.weight\n",
            "model.embeddings.token_type_embeddings.weight\n",
            "model.embeddings.LayerNorm.weight\n",
            "model.embeddings.LayerNorm.bias\n",
            "model.encoder.layer.0.attention.self.query.weight\n",
            "model.encoder.layer.0.attention.self.query.bias\n",
            "model.encoder.layer.0.attention.self.key.weight\n",
            "model.encoder.layer.0.attention.self.key.bias\n",
            "model.encoder.layer.0.attention.self.value.weight\n",
            "model.encoder.layer.0.attention.self.value.bias\n",
            "model.encoder.layer.0.attention.output.dense.weight\n",
            "model.encoder.layer.0.attention.output.dense.bias\n",
            "model.encoder.layer.0.attention.output.LayerNorm.weight\n",
            "model.encoder.layer.0.attention.output.LayerNorm.bias\n",
            "model.encoder.layer.0.intermediate.dense.weight\n",
            "model.encoder.layer.0.intermediate.dense.bias\n",
            "model.encoder.layer.0.output.dense.weight\n",
            "model.encoder.layer.0.output.dense.bias\n",
            "model.encoder.layer.0.output.LayerNorm.weight\n",
            "model.encoder.layer.0.output.LayerNorm.bias\n",
            "model.encoder.layer.1.attention.self.query.weight\n",
            "model.encoder.layer.1.attention.self.query.bias\n",
            "model.encoder.layer.1.attention.self.key.weight\n",
            "model.encoder.layer.1.attention.self.key.bias\n",
            "model.encoder.layer.1.attention.self.value.weight\n",
            "model.encoder.layer.1.attention.self.value.bias\n",
            "model.encoder.layer.1.attention.output.dense.weight\n",
            "model.encoder.layer.1.attention.output.dense.bias\n",
            "model.encoder.layer.1.attention.output.LayerNorm.weight\n",
            "model.encoder.layer.1.attention.output.LayerNorm.bias\n",
            "model.encoder.layer.1.intermediate.dense.weight\n",
            "model.encoder.layer.1.intermediate.dense.bias\n",
            "model.encoder.layer.1.output.dense.weight\n",
            "model.encoder.layer.1.output.dense.bias\n",
            "model.encoder.layer.1.output.LayerNorm.weight\n",
            "model.encoder.layer.1.output.LayerNorm.bias\n",
            "model.encoder.layer.2.attention.self.query.weight\n",
            "model.encoder.layer.2.attention.self.query.bias\n",
            "model.encoder.layer.2.attention.self.key.weight\n",
            "model.encoder.layer.2.attention.self.key.bias\n",
            "model.encoder.layer.2.attention.self.value.weight\n",
            "model.encoder.layer.2.attention.self.value.bias\n",
            "model.encoder.layer.2.attention.output.dense.weight\n",
            "model.encoder.layer.2.attention.output.dense.bias\n",
            "model.encoder.layer.2.attention.output.LayerNorm.weight\n",
            "model.encoder.layer.2.attention.output.LayerNorm.bias\n",
            "model.encoder.layer.2.intermediate.dense.weight\n",
            "model.encoder.layer.2.intermediate.dense.bias\n",
            "model.encoder.layer.2.output.dense.weight\n",
            "model.encoder.layer.2.output.dense.bias\n",
            "model.encoder.layer.2.output.LayerNorm.weight\n",
            "model.encoder.layer.2.output.LayerNorm.bias\n",
            "model.encoder.layer.3.attention.self.query.weight\n",
            "model.encoder.layer.3.attention.self.query.bias\n",
            "model.encoder.layer.3.attention.self.key.weight\n",
            "model.encoder.layer.3.attention.self.key.bias\n",
            "model.encoder.layer.3.attention.self.value.weight\n",
            "model.encoder.layer.3.attention.self.value.bias\n",
            "model.encoder.layer.3.attention.output.dense.weight\n",
            "model.encoder.layer.3.attention.output.dense.bias\n",
            "model.encoder.layer.3.attention.output.LayerNorm.weight\n",
            "model.encoder.layer.3.attention.output.LayerNorm.bias\n",
            "model.encoder.layer.3.intermediate.dense.weight\n",
            "model.encoder.layer.3.intermediate.dense.bias\n",
            "model.encoder.layer.3.output.dense.weight\n",
            "model.encoder.layer.3.output.dense.bias\n",
            "model.encoder.layer.3.output.LayerNorm.weight\n",
            "model.encoder.layer.3.output.LayerNorm.bias\n",
            "model.encoder.layer.4.attention.self.query.weight\n",
            "model.encoder.layer.4.attention.self.query.bias\n",
            "model.encoder.layer.4.attention.self.key.weight\n",
            "model.encoder.layer.4.attention.self.key.bias\n",
            "model.encoder.layer.4.attention.self.value.weight\n",
            "model.encoder.layer.4.attention.self.value.bias\n",
            "model.encoder.layer.4.attention.output.dense.weight\n",
            "model.encoder.layer.4.attention.output.dense.bias\n",
            "model.encoder.layer.4.attention.output.LayerNorm.weight\n",
            "model.encoder.layer.4.attention.output.LayerNorm.bias\n",
            "model.encoder.layer.4.intermediate.dense.weight\n",
            "model.encoder.layer.4.intermediate.dense.bias\n",
            "model.encoder.layer.4.output.dense.weight\n",
            "model.encoder.layer.4.output.dense.bias\n",
            "model.encoder.layer.4.output.LayerNorm.weight\n",
            "model.encoder.layer.4.output.LayerNorm.bias\n",
            "model.encoder.layer.5.attention.self.query.weight\n",
            "model.encoder.layer.5.attention.self.query.bias\n",
            "model.encoder.layer.5.attention.self.key.weight\n",
            "model.encoder.layer.5.attention.self.key.bias\n",
            "model.encoder.layer.5.attention.self.value.weight\n",
            "model.encoder.layer.5.attention.self.value.bias\n",
            "model.encoder.layer.5.attention.output.dense.weight\n",
            "model.encoder.layer.5.attention.output.dense.bias\n",
            "model.encoder.layer.5.attention.output.LayerNorm.weight\n",
            "model.encoder.layer.5.attention.output.LayerNorm.bias\n",
            "model.encoder.layer.5.intermediate.dense.weight\n",
            "model.encoder.layer.5.intermediate.dense.bias\n",
            "model.encoder.layer.5.output.dense.weight\n",
            "model.encoder.layer.5.output.dense.bias\n",
            "model.encoder.layer.5.output.LayerNorm.weight\n",
            "model.encoder.layer.5.output.LayerNorm.bias\n",
            "model.encoder.layer.6.attention.self.query.weight\n",
            "model.encoder.layer.6.attention.self.query.bias\n",
            "model.encoder.layer.6.attention.self.key.weight\n",
            "model.encoder.layer.6.attention.self.key.bias\n",
            "model.encoder.layer.6.attention.self.value.weight\n",
            "model.encoder.layer.6.attention.self.value.bias\n",
            "model.encoder.layer.6.attention.output.dense.weight\n",
            "model.encoder.layer.6.attention.output.dense.bias\n",
            "model.encoder.layer.6.attention.output.LayerNorm.weight\n",
            "model.encoder.layer.6.attention.output.LayerNorm.bias\n",
            "model.encoder.layer.6.intermediate.dense.weight\n",
            "model.encoder.layer.6.intermediate.dense.bias\n",
            "model.encoder.layer.6.output.dense.weight\n",
            "model.encoder.layer.6.output.dense.bias\n",
            "model.encoder.layer.6.output.LayerNorm.weight\n",
            "model.encoder.layer.6.output.LayerNorm.bias\n",
            "model.encoder.layer.7.attention.self.query.weight\n",
            "model.encoder.layer.7.attention.self.query.bias\n",
            "model.encoder.layer.7.attention.self.key.weight\n",
            "model.encoder.layer.7.attention.self.key.bias\n",
            "model.encoder.layer.7.attention.self.value.weight\n",
            "model.encoder.layer.7.attention.self.value.bias\n",
            "model.encoder.layer.7.attention.output.dense.weight\n",
            "model.encoder.layer.7.attention.output.dense.bias\n",
            "model.encoder.layer.7.attention.output.LayerNorm.weight\n",
            "model.encoder.layer.7.attention.output.LayerNorm.bias\n",
            "model.encoder.layer.7.intermediate.dense.weight\n",
            "model.encoder.layer.7.intermediate.dense.bias\n",
            "model.encoder.layer.7.output.dense.weight\n",
            "model.encoder.layer.7.output.dense.bias\n",
            "model.encoder.layer.7.output.LayerNorm.weight\n",
            "model.encoder.layer.7.output.LayerNorm.bias\n",
            "model.encoder.layer.8.attention.self.query.weight\n",
            "model.encoder.layer.8.attention.self.query.bias\n",
            "model.encoder.layer.8.attention.self.key.weight\n",
            "model.encoder.layer.8.attention.self.key.bias\n",
            "model.encoder.layer.8.attention.self.value.weight\n",
            "model.encoder.layer.8.attention.self.value.bias\n",
            "model.encoder.layer.8.attention.output.dense.weight\n",
            "model.encoder.layer.8.attention.output.dense.bias\n",
            "model.encoder.layer.8.attention.output.LayerNorm.weight\n",
            "model.encoder.layer.8.attention.output.LayerNorm.bias\n",
            "model.encoder.layer.8.intermediate.dense.weight\n",
            "model.encoder.layer.8.intermediate.dense.bias\n",
            "model.encoder.layer.8.output.dense.weight\n",
            "model.encoder.layer.8.output.dense.bias\n",
            "model.encoder.layer.8.output.LayerNorm.weight\n",
            "model.encoder.layer.8.output.LayerNorm.bias\n",
            "model.encoder.layer.9.attention.self.query.weight\n",
            "model.encoder.layer.9.attention.self.query.bias\n",
            "model.encoder.layer.9.attention.self.key.weight\n",
            "model.encoder.layer.9.attention.self.key.bias\n",
            "model.encoder.layer.9.attention.self.value.weight\n",
            "model.encoder.layer.9.attention.self.value.bias\n",
            "model.encoder.layer.9.attention.output.dense.weight\n",
            "model.encoder.layer.9.attention.output.dense.bias\n",
            "model.encoder.layer.9.attention.output.LayerNorm.weight\n",
            "model.encoder.layer.9.attention.output.LayerNorm.bias\n",
            "model.encoder.layer.9.intermediate.dense.weight\n",
            "model.encoder.layer.9.intermediate.dense.bias\n",
            "model.encoder.layer.9.output.dense.weight\n",
            "model.encoder.layer.9.output.dense.bias\n",
            "model.encoder.layer.9.output.LayerNorm.weight\n",
            "model.encoder.layer.9.output.LayerNorm.bias\n",
            "model.encoder.layer.10.attention.self.query.weight\n",
            "model.encoder.layer.10.attention.self.query.bias\n",
            "model.encoder.layer.10.attention.self.key.weight\n",
            "model.encoder.layer.10.attention.self.key.bias\n",
            "model.encoder.layer.10.attention.self.value.weight\n",
            "model.encoder.layer.10.attention.self.value.bias\n",
            "model.encoder.layer.10.attention.output.dense.weight\n",
            "model.encoder.layer.10.attention.output.dense.bias\n",
            "model.encoder.layer.10.attention.output.LayerNorm.weight\n",
            "model.encoder.layer.10.attention.output.LayerNorm.bias\n",
            "model.encoder.layer.10.intermediate.dense.weight\n",
            "model.encoder.layer.10.intermediate.dense.bias\n",
            "model.encoder.layer.10.output.dense.weight\n",
            "model.encoder.layer.10.output.dense.bias\n",
            "model.encoder.layer.10.output.LayerNorm.weight\n",
            "model.encoder.layer.10.output.LayerNorm.bias\n",
            "model.encoder.layer.11.attention.self.query.weight\n",
            "model.encoder.layer.11.attention.self.query.bias\n",
            "model.encoder.layer.11.attention.self.key.weight\n",
            "model.encoder.layer.11.attention.self.key.bias\n",
            "model.encoder.layer.11.attention.self.value.weight\n",
            "model.encoder.layer.11.attention.self.value.bias\n",
            "model.encoder.layer.11.attention.output.dense.weight\n",
            "model.encoder.layer.11.attention.output.dense.bias\n",
            "model.encoder.layer.11.attention.output.LayerNorm.weight\n",
            "model.encoder.layer.11.attention.output.LayerNorm.bias\n",
            "model.encoder.layer.11.intermediate.dense.weight\n",
            "model.encoder.layer.11.intermediate.dense.bias\n",
            "model.encoder.layer.11.output.dense.weight\n",
            "model.encoder.layer.11.output.dense.bias\n",
            "model.encoder.layer.11.output.LayerNorm.weight\n",
            "model.encoder.layer.11.output.LayerNorm.bias\n",
            "model.pooler.dense.weight\n",
            "model.pooler.dense.bias\n",
            "classifier.0.weight\n",
            "classifier.0.bias\n",
            "classifier.3.weight\n",
            "classifier.3.bias\n"
          ]
        }
      ]
    },
    {
      "cell_type": "code",
      "source": [
        "for para in model.parameters() :\n",
        "  para.requires_grad = False\n",
        "\n",
        "for name, para in model.named_parameters() :\n",
        "  if name in ['model.encoder.layer.11.attention.self.query.weight', 'model.encoder.layer.11.attention.self.query.bias', 'model.encoder.layer.11.attention.self.key.weight', 'model.encoder.layer.11.attention.self.key.bias', 'model.encoder.layer.11.attention.self.value.weight', 'model.encoder.layer.11.attention.self.value.bias', 'model.encoder.layer.11.attention.output.dense.weight', 'model.encoder.layer.11.attention.output.dense.bias', 'model.encoder.layer.11.attention.output.LayerNorm.weight', 'model.encoder.layer.11.attention.output.LayerNorm.bias', 'model.encoder.layer.11.intermediate.dense.weight', 'model.encoder.layer.11.intermediate.dense.bias', 'model.encoder.layer.11.output.dense.weight', 'model.encoder.layer.11.output.dense.bias', 'model.encoder.layer.11.output.LayerNorm.weight', 'model.encoder.layer.11.output.LayerNorm.bias', 'model.pooler.dense.weight', 'model.pooler.dense.bias', 'classifier.0.weight', 'classifier.0.bias', 'classifier.3.weight', 'classifier.3.bias'] :\n",
        "    para.requires_grad = True\n",
        "\n",
        "true_sum, false_sum = 0, 0\n",
        "for para in model.parameters() :\n",
        "  if para.requires_grad == True :\n",
        "    true_sum += 1\n",
        "  else :\n",
        "    false_sum += 1\n",
        "print(true_sum, false_sum)"
      ],
      "metadata": {
        "colab": {
          "base_uri": "https://localhost:8080/"
        },
        "outputId": "bd90b753-09fd-4eb9-fd54-c25e0b9a20a7",
        "id": "iCv5ztqMjaui"
      },
      "execution_count": null,
      "outputs": [
        {
          "output_type": "stream",
          "name": "stdout",
          "text": [
            "22 181\n"
          ]
        }
      ]
    },
    {
      "cell_type": "code",
      "source": [
        "start = time.time()\n",
        "train_dict, valid_dict = train(model, optimizer, scheduler, train_dataloader, valid_dataloader, 12, model_name)\n",
        "end = time.time()\n",
        "print(f\"time : {(end - start)//60}분 {(end - start)%60}초\")"
      ],
      "metadata": {
        "colab": {
          "base_uri": "https://localhost:8080/"
        },
        "outputId": "0fcb5fe2-40c2-4380-f2e4-25207bf61f7d",
        "id": "4lIacUrZjaui"
      },
      "execution_count": null,
      "outputs": [
        {
          "output_type": "stream",
          "name": "stdout",
          "text": [
            "*****Epoch 0 Train Start*****\n",
            "Epoch: 0, Step : 128, LR : 0.0000485274, Avg Loss : 0.0986, Pearson : 0.4506\n",
            "Epoch: 0, Step : 256, LR : 0.0000470662, Avg Loss : 0.0414, Pearson : 0.8251\n",
            "Epoch 0 Total Mean Loss : 0.0592\n",
            "Epoch 0 Total Mean Pearson : 0.7033\n",
            "*****Epoch 0 Train Finish*****\n",
            "\n",
            "*****Epoch 0 Valid Start*****\n",
            "Epoch 0 Valid Loss : 0.0447 Valid Pearson : 0.7591\n",
            "*****Epoch 0 Valid Finish*****\n",
            "\n",
            "*****Epoch 1 Train Start*****\n",
            "Epoch: 1, Step : 128, LR : 0.0000443607, Avg Loss : 0.0285, Pearson : 0.8825\n",
            "Epoch: 1, Step : 256, LR : 0.0000428995, Avg Loss : 0.0243, Pearson : 0.9001\n",
            "Epoch 1 Total Mean Loss : 0.0253\n",
            "Epoch 1 Total Mean Pearson : 0.8954\n",
            "*****Epoch 1 Train Finish*****\n",
            "\n",
            "*****Epoch 1 Valid Start*****\n",
            "Epoch 1 Valid Loss : 0.0476 Valid Pearson : 0.7930\n",
            "*****Epoch 1 Valid Finish*****\n",
            "\n",
            "*****Epoch 2 Train Start*****\n",
            "Epoch: 2, Step : 128, LR : 0.0000401941, Avg Loss : 0.0200, Pearson : 0.9188\n",
            "Epoch: 2, Step : 256, LR : 0.0000387329, Avg Loss : 0.0204, Pearson : 0.9177\n",
            "Epoch 2 Total Mean Loss : 0.0197\n",
            "Epoch 2 Total Mean Pearson : 0.9198\n",
            "*****Epoch 2 Train Finish*****\n",
            "\n",
            "*****Epoch 2 Valid Start*****\n",
            "Epoch 2 Valid Loss : 0.0462 Valid Pearson : 0.7764\n",
            "*****Epoch 2 Valid Finish*****\n",
            "\n",
            "*****Epoch 3 Train Start*****\n",
            "Epoch: 3, Step : 128, LR : 0.0000360274, Avg Loss : 0.0174, Pearson : 0.9297\n",
            "Epoch: 3, Step : 256, LR : 0.0000345662, Avg Loss : 0.0176, Pearson : 0.9265\n",
            "Epoch 3 Total Mean Loss : 0.0173\n",
            "Epoch 3 Total Mean Pearson : 0.9285\n",
            "*****Epoch 3 Train Finish*****\n",
            "\n",
            "*****Epoch 3 Valid Start*****\n",
            "Epoch 3 Valid Loss : 0.0459 Valid Pearson : 0.7976\n",
            "*****Epoch 3 Valid Finish*****\n",
            "\n",
            "*****Epoch 4 Train Start*****\n",
            "Epoch: 4, Step : 128, LR : 0.0000318607, Avg Loss : 0.0158, Pearson : 0.9346\n",
            "Epoch: 4, Step : 256, LR : 0.0000303995, Avg Loss : 0.0158, Pearson : 0.9343\n",
            "Epoch 4 Total Mean Loss : 0.0159\n",
            "Epoch 4 Total Mean Pearson : 0.9346\n",
            "*****Epoch 4 Train Finish*****\n",
            "\n",
            "*****Epoch 4 Valid Start*****\n",
            "Epoch 4 Valid Loss : 0.0475 Valid Pearson : 0.7914\n",
            "*****Epoch 4 Valid Finish*****\n",
            "\n",
            "*****Epoch 5 Train Start*****\n",
            "Epoch: 5, Step : 128, LR : 0.0000276941, Avg Loss : 0.0154, Pearson : 0.9381\n",
            "Epoch: 5, Step : 256, LR : 0.0000262329, Avg Loss : 0.0148, Pearson : 0.9392\n",
            "Epoch 5 Total Mean Loss : 0.0151\n",
            "Epoch 5 Total Mean Pearson : 0.9385\n",
            "*****Epoch 5 Train Finish*****\n",
            "\n",
            "*****Epoch 5 Valid Start*****\n",
            "Epoch 5 Valid Loss : 0.0353 Valid Pearson : 0.8129\n",
            "*****Epoch 5 Valid Finish*****\n",
            "\n",
            "*****Epoch 6 Train Start*****\n",
            "Epoch: 6, Step : 128, LR : 0.0000235274, Avg Loss : 0.0148, Pearson : 0.9397\n",
            "Epoch: 6, Step : 256, LR : 0.0000220662, Avg Loss : 0.0149, Pearson : 0.9382\n",
            "Epoch 6 Total Mean Loss : 0.0147\n",
            "Epoch 6 Total Mean Pearson : 0.9397\n",
            "*****Epoch 6 Train Finish*****\n",
            "\n",
            "*****Epoch 6 Valid Start*****\n",
            "Epoch 6 Valid Loss : 0.0358 Valid Pearson : 0.8093\n",
            "*****Epoch 6 Valid Finish*****\n",
            "\n",
            "*****Epoch 7 Train Start*****\n",
            "Epoch: 7, Step : 128, LR : 0.0000193607, Avg Loss : 0.0136, Pearson : 0.9451\n",
            "Epoch: 7, Step : 256, LR : 0.0000178995, Avg Loss : 0.0141, Pearson : 0.9413\n",
            "Epoch 7 Total Mean Loss : 0.0138\n",
            "Epoch 7 Total Mean Pearson : 0.9433\n",
            "*****Epoch 7 Train Finish*****\n",
            "\n",
            "*****Epoch 7 Valid Start*****\n",
            "Epoch 7 Valid Loss : 0.0343 Valid Pearson : 0.8149\n",
            "*****Epoch 7 Valid Finish*****\n",
            "\n",
            "*****Epoch 8 Train Start*****\n",
            "Epoch: 8, Step : 128, LR : 0.0000151941, Avg Loss : 0.0135, Pearson : 0.9440\n",
            "Epoch: 8, Step : 256, LR : 0.0000137329, Avg Loss : 0.0132, Pearson : 0.9441\n",
            "Epoch 8 Total Mean Loss : 0.0132\n",
            "Epoch 8 Total Mean Pearson : 0.9448\n",
            "*****Epoch 8 Train Finish*****\n",
            "\n",
            "*****Epoch 8 Valid Start*****\n",
            "Epoch 8 Valid Loss : 0.0357 Valid Pearson : 0.8121\n",
            "*****Epoch 8 Valid Finish*****\n",
            "\n",
            "*****Epoch 9 Train Start*****\n",
            "Epoch: 9, Step : 128, LR : 0.0000110274, Avg Loss : 0.0125, Pearson : 0.9483\n",
            "Epoch: 9, Step : 256, LR : 0.0000095662, Avg Loss : 0.0124, Pearson : 0.9488\n",
            "Epoch 9 Total Mean Loss : 0.0126\n",
            "Epoch 9 Total Mean Pearson : 0.9478\n",
            "*****Epoch 9 Train Finish*****\n",
            "\n",
            "*****Epoch 9 Valid Start*****\n",
            "Epoch 9 Valid Loss : 0.0374 Valid Pearson : 0.8059\n",
            "*****Epoch 9 Valid Finish*****\n",
            "\n",
            "*****Epoch 10 Train Start*****\n",
            "Epoch: 10, Step : 128, LR : 0.0000068607, Avg Loss : 0.0122, Pearson : 0.9500\n",
            "Epoch: 10, Step : 256, LR : 0.0000053995, Avg Loss : 0.0130, Pearson : 0.9460\n",
            "Epoch 10 Total Mean Loss : 0.0125\n",
            "Epoch 10 Total Mean Pearson : 0.9479\n",
            "*****Epoch 10 Train Finish*****\n",
            "\n",
            "*****Epoch 10 Valid Start*****\n",
            "Epoch 10 Valid Loss : 0.0354 Valid Pearson : 0.8147\n",
            "*****Epoch 10 Valid Finish*****\n",
            "\n",
            "*****Epoch 11 Train Start*****\n",
            "Epoch: 11, Step : 128, LR : 0.0000026941, Avg Loss : 0.0121, Pearson : 0.9501\n",
            "Epoch: 11, Step : 256, LR : 0.0000012329, Avg Loss : 0.0119, Pearson : 0.9497\n",
            "Epoch 11 Total Mean Loss : 0.0119\n",
            "Epoch 11 Total Mean Pearson : 0.9502\n",
            "*****Epoch 11 Train Finish*****\n",
            "\n",
            "*****Epoch 11 Valid Start*****\n",
            "Epoch 11 Valid Loss : 0.0384 Valid Pearson : 0.8092\n",
            "*****Epoch 11 Valid Finish*****\n",
            "\n",
            "Train Finished\n",
            "time : 15.0분 1.778266429901123초\n"
          ]
        }
      ]
    },
    {
      "cell_type": "code",
      "source": [
        "draw_plot(train_dict, valid_dict, 0)"
      ],
      "metadata": {
        "colab": {
          "base_uri": "https://localhost:8080/",
          "height": 332
        },
        "outputId": "d5a33049-d486-4f15-9fd3-9bdb67b49887",
        "id": "BhtcyWBejaui"
      },
      "execution_count": null,
      "outputs": [
        {
          "output_type": "stream",
          "name": "stdout",
          "text": [
            "green is train, gray is validation\n"
          ]
        },
        {
          "output_type": "display_data",
          "data": {
            "text/plain": [
              "<Figure size 1152x288 with 4 Axes>"
            ],
            "image/png": "[encoded data removed]"
          },
          "metadata": {
            "needs_background": "light"
          }
        },
        {
          "output_type": "display_data",
          "data": {
            "text/plain": [
              "<Figure size 432x288 with 0 Axes>"
            ]
          },
          "metadata": {}
        }
      ]
    },
    {
      "cell_type": "code",
      "source": [],
      "metadata": {
        "id": "xlbCN1ofjaui"
      },
      "execution_count": null,
      "outputs": []
    },
    {
      "cell_type": "markdown",
      "source": [
        "## pre-trained 모델 중 일부 freezing ( 6, 7, ... , 11 layer + classifier )"
      ],
      "metadata": {
        "id": "zsUU-uQnjaui"
      }
    },
    {
      "cell_type": "code",
      "source": [
        "learning_rate = 5e-05\n",
        "weight_decay = 0.01\n",
        "\n",
        "model, optimizer, scheduler = initializer(train_dataloader, 12, model_name, learning_rate, weight_decay, 'gelu')"
      ],
      "metadata": {
        "colab": {
          "base_uri": "https://localhost:8080/"
        },
        "outputId": "b40197cf-c330-4cf8-9f40-3db1b0353363",
        "id": "6t6EFIYljauj"
      },
      "execution_count": null,
      "outputs": [
        {
          "output_type": "stream",
          "name": "stderr",
          "text": [
            "Some weights of the model checkpoint at klue/roberta-base were not used when initializing RobertaModel: ['lm_head.bias', 'lm_head.decoder.bias', 'lm_head.layer_norm.bias', 'lm_head.decoder.weight', 'lm_head.dense.weight', 'lm_head.dense.bias', 'lm_head.layer_norm.weight']\n",
            "- This IS expected if you are initializing RobertaModel from the checkpoint of a model trained on another task or with another architecture (e.g. initializing a BertForSequenceClassification model from a BertForPreTraining model).\n",
            "- This IS NOT expected if you are initializing RobertaModel from the checkpoint of a model that you expect to be exactly identical (initializing a BertForSequenceClassification model from a BertForSequenceClassification model).\n",
            "Some weights of RobertaModel were not initialized from the model checkpoint at klue/roberta-base and are newly initialized: ['roberta.pooler.dense.weight', 'roberta.pooler.dense.bias']\n",
            "You should probably TRAIN this model on a down-stream task to be able to use it for predictions and inference.\n"
          ]
        },
        {
          "output_type": "stream",
          "name": "stdout",
          "text": [
            "Total train steps with 12 epochs: 4380\n",
            "model_name : klue/roberta-base, lr : 5e-05, weight_decay : 0.01, epochs : 12\n"
          ]
        }
      ]
    },
    {
      "cell_type": "code",
      "source": [
        "true_sum, false_sum = 0, 0\n",
        "for para in model.parameters() :\n",
        "  if para.requires_grad == True :\n",
        "    true_sum += 1\n",
        "  else :\n",
        "    false_sum += 1\n",
        "print(true_sum, false_sum)"
      ],
      "metadata": {
        "colab": {
          "base_uri": "https://localhost:8080/"
        },
        "outputId": "7bb148e9-08c4-48c5-f038-8aa3817425eb",
        "id": "wbtvsqBpjauj"
      },
      "execution_count": null,
      "outputs": [
        {
          "output_type": "stream",
          "name": "stdout",
          "text": [
            "203 0\n"
          ]
        }
      ]
    },
    {
      "cell_type": "code",
      "source": [
        "for name, para in model.named_parameters() :\n",
        "  print(name)"
      ],
      "metadata": {
        "colab": {
          "base_uri": "https://localhost:8080/"
        },
        "outputId": "1735d818-323b-4275-b098-6889723813fe",
        "id": "0G4UQj0Ijauj"
      },
      "execution_count": null,
      "outputs": [
        {
          "output_type": "stream",
          "name": "stdout",
          "text": [
            "model.embeddings.word_embeddings.weight\n",
            "model.embeddings.position_embeddings.weight\n",
            "model.embeddings.token_type_embeddings.weight\n",
            "model.embeddings.LayerNorm.weight\n",
            "model.embeddings.LayerNorm.bias\n",
            "model.encoder.layer.0.attention.self.query.weight\n",
            "model.encoder.layer.0.attention.self.query.bias\n",
            "model.encoder.layer.0.attention.self.key.weight\n",
            "model.encoder.layer.0.attention.self.key.bias\n",
            "model.encoder.layer.0.attention.self.value.weight\n",
            "model.encoder.layer.0.attention.self.value.bias\n",
            "model.encoder.layer.0.attention.output.dense.weight\n",
            "model.encoder.layer.0.attention.output.dense.bias\n",
            "model.encoder.layer.0.attention.output.LayerNorm.weight\n",
            "model.encoder.layer.0.attention.output.LayerNorm.bias\n",
            "model.encoder.layer.0.intermediate.dense.weight\n",
            "model.encoder.layer.0.intermediate.dense.bias\n",
            "model.encoder.layer.0.output.dense.weight\n",
            "model.encoder.layer.0.output.dense.bias\n",
            "model.encoder.layer.0.output.LayerNorm.weight\n",
            "model.encoder.layer.0.output.LayerNorm.bias\n",
            "model.encoder.layer.1.attention.self.query.weight\n",
            "model.encoder.layer.1.attention.self.query.bias\n",
            "model.encoder.layer.1.attention.self.key.weight\n",
            "model.encoder.layer.1.attention.self.key.bias\n",
            "model.encoder.layer.1.attention.self.value.weight\n",
            "model.encoder.layer.1.attention.self.value.bias\n",
            "model.encoder.layer.1.attention.output.dense.weight\n",
            "model.encoder.layer.1.attention.output.dense.bias\n",
            "model.encoder.layer.1.attention.output.LayerNorm.weight\n",
            "model.encoder.layer.1.attention.output.LayerNorm.bias\n",
            "model.encoder.layer.1.intermediate.dense.weight\n",
            "model.encoder.layer.1.intermediate.dense.bias\n",
            "model.encoder.layer.1.output.dense.weight\n",
            "model.encoder.layer.1.output.dense.bias\n",
            "model.encoder.layer.1.output.LayerNorm.weight\n",
            "model.encoder.layer.1.output.LayerNorm.bias\n",
            "model.encoder.layer.2.attention.self.query.weight\n",
            "model.encoder.layer.2.attention.self.query.bias\n",
            "model.encoder.layer.2.attention.self.key.weight\n",
            "model.encoder.layer.2.attention.self.key.bias\n",
            "model.encoder.layer.2.attention.self.value.weight\n",
            "model.encoder.layer.2.attention.self.value.bias\n",
            "model.encoder.layer.2.attention.output.dense.weight\n",
            "model.encoder.layer.2.attention.output.dense.bias\n",
            "model.encoder.layer.2.attention.output.LayerNorm.weight\n",
            "model.encoder.layer.2.attention.output.LayerNorm.bias\n",
            "model.encoder.layer.2.intermediate.dense.weight\n",
            "model.encoder.layer.2.intermediate.dense.bias\n",
            "model.encoder.layer.2.output.dense.weight\n",
            "model.encoder.layer.2.output.dense.bias\n",
            "model.encoder.layer.2.output.LayerNorm.weight\n",
            "model.encoder.layer.2.output.LayerNorm.bias\n",
            "model.encoder.layer.3.attention.self.query.weight\n",
            "model.encoder.layer.3.attention.self.query.bias\n",
            "model.encoder.layer.3.attention.self.key.weight\n",
            "model.encoder.layer.3.attention.self.key.bias\n",
            "model.encoder.layer.3.attention.self.value.weight\n",
            "model.encoder.layer.3.attention.self.value.bias\n",
            "model.encoder.layer.3.attention.output.dense.weight\n",
            "model.encoder.layer.3.attention.output.dense.bias\n",
            "model.encoder.layer.3.attention.output.LayerNorm.weight\n",
            "model.encoder.layer.3.attention.output.LayerNorm.bias\n",
            "model.encoder.layer.3.intermediate.dense.weight\n",
            "model.encoder.layer.3.intermediate.dense.bias\n",
            "model.encoder.layer.3.output.dense.weight\n",
            "model.encoder.layer.3.output.dense.bias\n",
            "model.encoder.layer.3.output.LayerNorm.weight\n",
            "model.encoder.layer.3.output.LayerNorm.bias\n",
            "model.encoder.layer.4.attention.self.query.weight\n",
            "model.encoder.layer.4.attention.self.query.bias\n",
            "model.encoder.layer.4.attention.self.key.weight\n",
            "model.encoder.layer.4.attention.self.key.bias\n",
            "model.encoder.layer.4.attention.self.value.weight\n",
            "model.encoder.layer.4.attention.self.value.bias\n",
            "model.encoder.layer.4.attention.output.dense.weight\n",
            "model.encoder.layer.4.attention.output.dense.bias\n",
            "model.encoder.layer.4.attention.output.LayerNorm.weight\n",
            "model.encoder.layer.4.attention.output.LayerNorm.bias\n",
            "model.encoder.layer.4.intermediate.dense.weight\n",
            "model.encoder.layer.4.intermediate.dense.bias\n",
            "model.encoder.layer.4.output.dense.weight\n",
            "model.encoder.layer.4.output.dense.bias\n",
            "model.encoder.layer.4.output.LayerNorm.weight\n",
            "model.encoder.layer.4.output.LayerNorm.bias\n",
            "model.encoder.layer.5.attention.self.query.weight\n",
            "model.encoder.layer.5.attention.self.query.bias\n",
            "model.encoder.layer.5.attention.self.key.weight\n",
            "model.encoder.layer.5.attention.self.key.bias\n",
            "model.encoder.layer.5.attention.self.value.weight\n",
            "model.encoder.layer.5.attention.self.value.bias\n",
            "model.encoder.layer.5.attention.output.dense.weight\n",
            "model.encoder.layer.5.attention.output.dense.bias\n",
            "model.encoder.layer.5.attention.output.LayerNorm.weight\n",
            "model.encoder.layer.5.attention.output.LayerNorm.bias\n",
            "model.encoder.layer.5.intermediate.dense.weight\n",
            "model.encoder.layer.5.intermediate.dense.bias\n",
            "model.encoder.layer.5.output.dense.weight\n",
            "model.encoder.layer.5.output.dense.bias\n",
            "model.encoder.layer.5.output.LayerNorm.weight\n",
            "model.encoder.layer.5.output.LayerNorm.bias\n",
            "model.encoder.layer.6.attention.self.query.weight\n",
            "model.encoder.layer.6.attention.self.query.bias\n",
            "model.encoder.layer.6.attention.self.key.weight\n",
            "model.encoder.layer.6.attention.self.key.bias\n",
            "model.encoder.layer.6.attention.self.value.weight\n",
            "model.encoder.layer.6.attention.self.value.bias\n",
            "model.encoder.layer.6.attention.output.dense.weight\n",
            "model.encoder.layer.6.attention.output.dense.bias\n",
            "model.encoder.layer.6.attention.output.LayerNorm.weight\n",
            "model.encoder.layer.6.attention.output.LayerNorm.bias\n",
            "model.encoder.layer.6.intermediate.dense.weight\n",
            "model.encoder.layer.6.intermediate.dense.bias\n",
            "model.encoder.layer.6.output.dense.weight\n",
            "model.encoder.layer.6.output.dense.bias\n",
            "model.encoder.layer.6.output.LayerNorm.weight\n",
            "model.encoder.layer.6.output.LayerNorm.bias\n",
            "model.encoder.layer.7.attention.self.query.weight\n",
            "model.encoder.layer.7.attention.self.query.bias\n",
            "model.encoder.layer.7.attention.self.key.weight\n",
            "model.encoder.layer.7.attention.self.key.bias\n",
            "model.encoder.layer.7.attention.self.value.weight\n",
            "model.encoder.layer.7.attention.self.value.bias\n",
            "model.encoder.layer.7.attention.output.dense.weight\n",
            "model.encoder.layer.7.attention.output.dense.bias\n",
            "model.encoder.layer.7.attention.output.LayerNorm.weight\n",
            "model.encoder.layer.7.attention.output.LayerNorm.bias\n",
            "model.encoder.layer.7.intermediate.dense.weight\n",
            "model.encoder.layer.7.intermediate.dense.bias\n",
            "model.encoder.layer.7.output.dense.weight\n",
            "model.encoder.layer.7.output.dense.bias\n",
            "model.encoder.layer.7.output.LayerNorm.weight\n",
            "model.encoder.layer.7.output.LayerNorm.bias\n",
            "model.encoder.layer.8.attention.self.query.weight\n",
            "model.encoder.layer.8.attention.self.query.bias\n",
            "model.encoder.layer.8.attention.self.key.weight\n",
            "model.encoder.layer.8.attention.self.key.bias\n",
            "model.encoder.layer.8.attention.self.value.weight\n",
            "model.encoder.layer.8.attention.self.value.bias\n",
            "model.encoder.layer.8.attention.output.dense.weight\n",
            "model.encoder.layer.8.attention.output.dense.bias\n",
            "model.encoder.layer.8.attention.output.LayerNorm.weight\n",
            "model.encoder.layer.8.attention.output.LayerNorm.bias\n",
            "model.encoder.layer.8.intermediate.dense.weight\n",
            "model.encoder.layer.8.intermediate.dense.bias\n",
            "model.encoder.layer.8.output.dense.weight\n",
            "model.encoder.layer.8.output.dense.bias\n",
            "model.encoder.layer.8.output.LayerNorm.weight\n",
            "model.encoder.layer.8.output.LayerNorm.bias\n",
            "model.encoder.layer.9.attention.self.query.weight\n",
            "model.encoder.layer.9.attention.self.query.bias\n",
            "model.encoder.layer.9.attention.self.key.weight\n",
            "model.encoder.layer.9.attention.self.key.bias\n",
            "model.encoder.layer.9.attention.self.value.weight\n",
            "model.encoder.layer.9.attention.self.value.bias\n",
            "model.encoder.layer.9.attention.output.dense.weight\n",
            "model.encoder.layer.9.attention.output.dense.bias\n",
            "model.encoder.layer.9.attention.output.LayerNorm.weight\n",
            "model.encoder.layer.9.attention.output.LayerNorm.bias\n",
            "model.encoder.layer.9.intermediate.dense.weight\n",
            "model.encoder.layer.9.intermediate.dense.bias\n",
            "model.encoder.layer.9.output.dense.weight\n",
            "model.encoder.layer.9.output.dense.bias\n",
            "model.encoder.layer.9.output.LayerNorm.weight\n",
            "model.encoder.layer.9.output.LayerNorm.bias\n",
            "model.encoder.layer.10.attention.self.query.weight\n",
            "model.encoder.layer.10.attention.self.query.bias\n",
            "model.encoder.layer.10.attention.self.key.weight\n",
            "model.encoder.layer.10.attention.self.key.bias\n",
            "model.encoder.layer.10.attention.self.value.weight\n",
            "model.encoder.layer.10.attention.self.value.bias\n",
            "model.encoder.layer.10.attention.output.dense.weight\n",
            "model.encoder.layer.10.attention.output.dense.bias\n",
            "model.encoder.layer.10.attention.output.LayerNorm.weight\n",
            "model.encoder.layer.10.attention.output.LayerNorm.bias\n",
            "model.encoder.layer.10.intermediate.dense.weight\n",
            "model.encoder.layer.10.intermediate.dense.bias\n",
            "model.encoder.layer.10.output.dense.weight\n",
            "model.encoder.layer.10.output.dense.bias\n",
            "model.encoder.layer.10.output.LayerNorm.weight\n",
            "model.encoder.layer.10.output.LayerNorm.bias\n",
            "model.encoder.layer.11.attention.self.query.weight\n",
            "model.encoder.layer.11.attention.self.query.bias\n",
            "model.encoder.layer.11.attention.self.key.weight\n",
            "model.encoder.layer.11.attention.self.key.bias\n",
            "model.encoder.layer.11.attention.self.value.weight\n",
            "model.encoder.layer.11.attention.self.value.bias\n",
            "model.encoder.layer.11.attention.output.dense.weight\n",
            "model.encoder.layer.11.attention.output.dense.bias\n",
            "model.encoder.layer.11.attention.output.LayerNorm.weight\n",
            "model.encoder.layer.11.attention.output.LayerNorm.bias\n",
            "model.encoder.layer.11.intermediate.dense.weight\n",
            "model.encoder.layer.11.intermediate.dense.bias\n",
            "model.encoder.layer.11.output.dense.weight\n",
            "model.encoder.layer.11.output.dense.bias\n",
            "model.encoder.layer.11.output.LayerNorm.weight\n",
            "model.encoder.layer.11.output.LayerNorm.bias\n",
            "model.pooler.dense.weight\n",
            "model.pooler.dense.bias\n",
            "classifier.0.weight\n",
            "classifier.0.bias\n",
            "classifier.3.weight\n",
            "classifier.3.bias\n"
          ]
        }
      ]
    },
    {
      "cell_type": "code",
      "source": [
        "for para in model.parameters() :\n",
        "  para.requires_grad = False\n",
        "\n",
        "for name, para in model.named_parameters() :\n",
        "  if name.startswith('model.encoder.layer.11') or name.startswith('model.encoder.layer.10') or name.startswith('model.encoder.layer.9') or name.startswith('model.encoder.layer.8') or name.startswith('model.encoder.layer.7') or name.startswith('model.encoder.layer.6') or name.startswith('model.pooler.dense.') or name.startswith('classifier.') :\n",
        "    para.requires_grad = True\n",
        "\n",
        "true_sum, false_sum = 0, 0\n",
        "for para in model.parameters() :\n",
        "  if para.requires_grad == True :\n",
        "    true_sum += 1\n",
        "  else :\n",
        "    false_sum += 1\n",
        "print(true_sum, false_sum)"
      ],
      "metadata": {
        "colab": {
          "base_uri": "https://localhost:8080/"
        },
        "outputId": "90ef2761-5815-434d-d01e-e73f885ff760",
        "id": "2Y67En3mjauj"
      },
      "execution_count": null,
      "outputs": [
        {
          "output_type": "stream",
          "name": "stdout",
          "text": [
            "102 101\n"
          ]
        }
      ]
    },
    {
      "cell_type": "code",
      "source": [
        "start = time.time()\n",
        "train_dict, valid_dict = train(model, optimizer, scheduler, train_dataloader, valid_dataloader, 12, model_name)\n",
        "end = time.time()\n",
        "print(f\"time : {(end - start)//60}분 {(end - start)%60}초\")"
      ],
      "metadata": {
        "colab": {
          "base_uri": "https://localhost:8080/"
        },
        "outputId": "fc431e6d-3398-41b1-ecfe-147ecca4c8ab",
        "id": "j8Vb2Z_Ijauj"
      },
      "execution_count": null,
      "outputs": [
        {
          "output_type": "stream",
          "name": "stdout",
          "text": [
            "*****Epoch 0 Train Start*****\n",
            "Epoch: 0, Step : 128, LR : 0.0000485274, Avg Loss : 0.0406, Pearson : 0.8158\n",
            "Epoch: 0, Step : 256, LR : 0.0000470662, Avg Loss : 0.0141, Pearson : 0.9476\n",
            "Epoch 0 Total Mean Loss : 0.0232\n",
            "Epoch 0 Total Mean Pearson : 0.9017\n",
            "*****Epoch 0 Train Finish*****\n",
            "\n",
            "*****Epoch 0 Valid Start*****\n",
            "Epoch 0 Valid Loss : 0.0354 Valid Pearson : 0.8488\n",
            "*****Epoch 0 Valid Finish*****\n",
            "\n",
            "*****Epoch 1 Train Start*****\n",
            "Epoch: 1, Step : 128, LR : 0.0000443607, Avg Loss : 0.0113, Pearson : 0.9585\n",
            "Epoch: 1, Step : 256, LR : 0.0000428995, Avg Loss : 0.0100, Pearson : 0.9617\n",
            "Epoch 1 Total Mean Loss : 0.0104\n",
            "Epoch 1 Total Mean Pearson : 0.9604\n",
            "*****Epoch 1 Train Finish*****\n",
            "\n",
            "*****Epoch 1 Valid Start*****\n",
            "Epoch 1 Valid Loss : 0.0292 Valid Pearson : 0.8809\n",
            "*****Epoch 1 Valid Finish*****\n",
            "\n",
            "*****Epoch 2 Train Start*****\n",
            "Epoch: 2, Step : 128, LR : 0.0000401941, Avg Loss : 0.0088, Pearson : 0.9669\n",
            "Epoch: 2, Step : 256, LR : 0.0000387329, Avg Loss : 0.0091, Pearson : 0.9651\n",
            "Epoch 2 Total Mean Loss : 0.0088\n",
            "Epoch 2 Total Mean Pearson : 0.9663\n",
            "*****Epoch 2 Train Finish*****\n",
            "\n",
            "*****Epoch 2 Valid Start*****\n",
            "Epoch 2 Valid Loss : 0.0194 Valid Pearson : 0.8773\n",
            "*****Epoch 2 Valid Finish*****\n",
            "\n",
            "*****Epoch 3 Train Start*****\n",
            "Epoch: 3, Step : 128, LR : 0.0000360274, Avg Loss : 0.0073, Pearson : 0.9713\n",
            "Epoch: 3, Step : 256, LR : 0.0000345662, Avg Loss : 0.0073, Pearson : 0.9728\n",
            "Epoch 3 Total Mean Loss : 0.0076\n",
            "Epoch 3 Total Mean Pearson : 0.9716\n",
            "*****Epoch 3 Train Finish*****\n",
            "\n",
            "*****Epoch 3 Valid Start*****\n",
            "Epoch 3 Valid Loss : 0.0190 Valid Pearson : 0.8847\n",
            "*****Epoch 3 Valid Finish*****\n",
            "\n",
            "*****Epoch 4 Train Start*****\n",
            "Epoch: 4, Step : 128, LR : 0.0000318607, Avg Loss : 0.0070, Pearson : 0.9733\n",
            "Epoch: 4, Step : 256, LR : 0.0000303995, Avg Loss : 0.0060, Pearson : 0.9767\n",
            "Epoch 4 Total Mean Loss : 0.0064\n",
            "Epoch 4 Total Mean Pearson : 0.9754\n",
            "*****Epoch 4 Train Finish*****\n",
            "\n",
            "*****Epoch 4 Valid Start*****\n",
            "Epoch 4 Valid Loss : 0.0189 Valid Pearson : 0.8929\n",
            "*****Epoch 4 Valid Finish*****\n",
            "\n",
            "*****Epoch 5 Train Start*****\n",
            "Epoch: 5, Step : 128, LR : 0.0000276941, Avg Loss : 0.0059, Pearson : 0.9774\n",
            "Epoch: 5, Step : 256, LR : 0.0000262329, Avg Loss : 0.0059, Pearson : 0.9768\n",
            "Epoch 5 Total Mean Loss : 0.0058\n",
            "Epoch 5 Total Mean Pearson : 0.9772\n",
            "*****Epoch 5 Train Finish*****\n",
            "\n",
            "*****Epoch 5 Valid Start*****\n",
            "Epoch 5 Valid Loss : 0.0186 Valid Pearson : 0.8986\n",
            "*****Epoch 5 Valid Finish*****\n",
            "\n",
            "*****Epoch 6 Train Start*****\n",
            "Epoch: 6, Step : 128, LR : 0.0000235274, Avg Loss : 0.0055, Pearson : 0.9785\n",
            "Epoch: 6, Step : 256, LR : 0.0000220662, Avg Loss : 0.0053, Pearson : 0.9792\n",
            "Epoch 6 Total Mean Loss : 0.0054\n",
            "Epoch 6 Total Mean Pearson : 0.9793\n",
            "*****Epoch 6 Train Finish*****\n",
            "\n",
            "*****Epoch 6 Valid Start*****\n",
            "Epoch 6 Valid Loss : 0.0168 Valid Pearson : 0.9031\n",
            "*****Epoch 6 Valid Finish*****\n",
            "\n",
            "*****Epoch 7 Train Start*****\n",
            "Epoch: 7, Step : 128, LR : 0.0000193607, Avg Loss : 0.0051, Pearson : 0.9799\n",
            "Epoch: 7, Step : 256, LR : 0.0000178995, Avg Loss : 0.0049, Pearson : 0.9807\n",
            "Epoch 7 Total Mean Loss : 0.0050\n",
            "Epoch 7 Total Mean Pearson : 0.9804\n",
            "*****Epoch 7 Train Finish*****\n",
            "\n",
            "*****Epoch 7 Valid Start*****\n",
            "Epoch 7 Valid Loss : 0.0181 Valid Pearson : 0.9093\n",
            "*****Epoch 7 Valid Finish*****\n",
            "\n",
            "*****Epoch 8 Train Start*****\n",
            "Epoch: 8, Step : 128, LR : 0.0000151941, Avg Loss : 0.0045, Pearson : 0.9825\n",
            "Epoch: 8, Step : 256, LR : 0.0000137329, Avg Loss : 0.0045, Pearson : 0.9823\n",
            "Epoch 8 Total Mean Loss : 0.0044\n",
            "Epoch 8 Total Mean Pearson : 0.9827\n",
            "*****Epoch 8 Train Finish*****\n",
            "\n",
            "*****Epoch 8 Valid Start*****\n",
            "Epoch 8 Valid Loss : 0.0186 Valid Pearson : 0.9002\n",
            "*****Epoch 8 Valid Finish*****\n",
            "\n",
            "*****Epoch 9 Train Start*****\n",
            "Epoch: 9, Step : 128, LR : 0.0000110274, Avg Loss : 0.0040, Pearson : 0.9840\n",
            "Epoch: 9, Step : 256, LR : 0.0000095662, Avg Loss : 0.0042, Pearson : 0.9834\n",
            "Epoch 9 Total Mean Loss : 0.0041\n",
            "Epoch 9 Total Mean Pearson : 0.9839\n",
            "*****Epoch 9 Train Finish*****\n",
            "\n",
            "*****Epoch 9 Valid Start*****\n",
            "Epoch 9 Valid Loss : 0.0175 Valid Pearson : 0.9011\n",
            "*****Epoch 9 Valid Finish*****\n",
            "\n",
            "*****Epoch 10 Train Start*****\n",
            "Epoch: 10, Step : 128, LR : 0.0000068607, Avg Loss : 0.0038, Pearson : 0.9847\n",
            "Epoch: 10, Step : 256, LR : 0.0000053995, Avg Loss : 0.0038, Pearson : 0.9850\n",
            "Epoch 10 Total Mean Loss : 0.0038\n",
            "Epoch 10 Total Mean Pearson : 0.9849\n",
            "*****Epoch 10 Train Finish*****\n",
            "\n",
            "*****Epoch 10 Valid Start*****\n",
            "Epoch 10 Valid Loss : 0.0186 Valid Pearson : 0.8998\n",
            "*****Epoch 10 Valid Finish*****\n",
            "\n",
            "*****Epoch 11 Train Start*****\n",
            "Epoch: 11, Step : 128, LR : 0.0000026941, Avg Loss : 0.0037, Pearson : 0.9851\n",
            "Epoch: 11, Step : 256, LR : 0.0000012329, Avg Loss : 0.0036, Pearson : 0.9860\n",
            "Epoch 11 Total Mean Loss : 0.0037\n",
            "Epoch 11 Total Mean Pearson : 0.9853\n",
            "*****Epoch 11 Train Finish*****\n",
            "\n",
            "*****Epoch 11 Valid Start*****\n",
            "Epoch 11 Valid Loss : 0.0181 Valid Pearson : 0.9041\n",
            "*****Epoch 11 Valid Finish*****\n",
            "\n",
            "Train Finished\n",
            "time : 24.0분 42.29325199127197초\n"
          ]
        }
      ]
    },
    {
      "cell_type": "code",
      "source": [
        "draw_plot(train_dict, valid_dict, 0)"
      ],
      "metadata": {
        "colab": {
          "base_uri": "https://localhost:8080/",
          "height": 332
        },
        "outputId": "5e0a1984-8ef5-4c8b-ad37-8f0b7d0bff3c",
        "id": "65DQKIZhjauj"
      },
      "execution_count": null,
      "outputs": [
        {
          "output_type": "stream",
          "name": "stdout",
          "text": [
            "green is train, gray is validation\n"
          ]
        },
        {
          "output_type": "display_data",
          "data": {
            "text/plain": [
              "<Figure size 1152x288 with 4 Axes>"
            ],
            "image/png": "[encoded data removed]"
          },
          "metadata": {
            "needs_background": "light"
          }
        },
        {
          "output_type": "display_data",
          "data": {
            "text/plain": [
              "<Figure size 432x288 with 0 Axes>"
            ]
          },
          "metadata": {}
        }
      ]
    },
    {
      "cell_type": "code",
      "source": [],
      "metadata": {
        "id": "HCbEH85Rjauj"
      },
      "execution_count": null,
      "outputs": []
    }
  ]
}