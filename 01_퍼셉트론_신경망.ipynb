{
  "nbformat": 4,
  "nbformat_minor": 0,
  "metadata": {
    "colab": {
      "name": "01_퍼셉트론.ipynb",
      "provenance": [],
      "collapsed_sections": [],
      "authorship_tag": "ABX9TyMNv9HEpgWhetL+9kHIncv0",
      "include_colab_link": true
    },
    "kernelspec": {
      "name": "python3",
      "display_name": "Python 3"
    },
    "language_info": {
      "name": "python"
    }
  },
  "cells": [
    {
      "cell_type": "markdown",
      "metadata": {
        "id": "view-in-github",
        "colab_type": "text"
      },
      "source": [
        "<a href=\"https://colab.research.google.com/github/ttogle918/AI_practice/blob/main/01_%ED%8D%BC%EC%85%89%ED%8A%B8%EB%A1%A0_%EC%8B%A0%EA%B2%BD%EB%A7%9D.ipynb\" target=\"_parent\"><img src=\"https://colab.research.google.com/assets/colab-badge.svg\" alt=\"Open In Colab\"/></a>"
      ]
    },
    {
      "cell_type": "code",
      "execution_count": null,
      "metadata": {
        "colab": {
          "base_uri": "https://localhost:8080/"
        },
        "id": "VT2D2MpftEiX",
        "outputId": "95f4ac74-8904-4129-d301-c49a54434dec"
      },
      "outputs": [
        {
          "output_type": "stream",
          "name": "stdout",
          "text": [
            "0\n",
            "0\n",
            "0\n",
            "1\n"
          ]
        }
      ],
      "source": [
        "import numpy as np\n",
        "\n",
        "def AND(x1, x2) :\n",
        "  x = np.array([x1, x2])\n",
        "  w = np.array([0.5, 0.5])\n",
        "  b = -0.7   # -theta\n",
        "  tmp = np.sum(w*x) + b\n",
        "  if tmp <= 0 :\n",
        "    return 0\n",
        "  else :\n",
        "    return 1\n",
        "\n",
        "print(AND(0, 0))    # 0\n",
        "print(AND(0, 1))    # 0\n",
        "print(AND(1, 0))    # 0\n",
        "print(AND(1, 1))    # 1"
      ]
    },
    {
      "cell_type": "code",
      "source": [
        "def NAND(x1, x2) :\n",
        "  x = np.array([x1, x2])\n",
        "  w = -np.array([0.5, 0.5])   # w와 b의 부호만 다르다.\n",
        "  b = 0.7   # theta\n",
        "  tmp = np.sum(w*x) + b\n",
        "  if tmp <= 0 :\n",
        "    return 0\n",
        "  else :\n",
        "    return 1\n",
        "\n",
        "print(NAND(0, 0))    # 1\n",
        "print(NAND(0, 1))    # 1\n",
        "print(NAND(1, 0))    # 1\n",
        "print(NAND(1, 1))    # 0"
      ],
      "metadata": {
        "colab": {
          "base_uri": "https://localhost:8080/"
        },
        "id": "IwV_9mUGuOnk",
        "outputId": "daf12ba2-0e6e-49a6-f8ad-53e3ea27f936"
      },
      "execution_count": null,
      "outputs": [
        {
          "output_type": "stream",
          "name": "stdout",
          "text": [
            "1\n",
            "1\n",
            "1\n",
            "0\n"
          ]
        }
      ]
    },
    {
      "cell_type": "code",
      "source": [
        "def OR(x1, x2) :\n",
        "  x = np.array([x1, x2])\n",
        "  w = np.array([0.5, 0.5])   # w와 b의 부호만 다르다.\n",
        "  b = -0.2   # theta\n",
        "  tmp = np.sum(w*x) + b\n",
        "  if tmp <= 0 :\n",
        "    return 0\n",
        "  else :\n",
        "    return 1\n",
        "\n",
        "print(OR(0, 0))    # 0\n",
        "print(OR(0, 1))    # 1\n",
        "print(OR(1, 0))    # 1\n",
        "print(OR(1, 1))    # 1"
      ],
      "metadata": {
        "colab": {
          "base_uri": "https://localhost:8080/"
        },
        "id": "v-aPwaZEvtg5",
        "outputId": "c7c1ef34-8c23-4695-eb02-5602c495c727"
      },
      "execution_count": null,
      "outputs": [
        {
          "output_type": "stream",
          "name": "stdout",
          "text": [
            "0\n",
            "1\n",
            "1\n",
            "1\n"
          ]
        }
      ]
    },
    {
      "cell_type": "code",
      "source": [
        "# 서로 다른 것만 1, 같으면 0\n",
        "def XOR(x1, x2) :\n",
        "  s1 = NAND(x1, x2)\n",
        "  s2 = OR(x1, x2)\n",
        "  y = AND(s1, s2)\n",
        "  return y\n",
        "print(XOR(0, 0))    # 0\n",
        "print(XOR(0, 1))    # 1\n",
        "print(XOR(1, 0))    # 1\n",
        "print(XOR(1, 1))    # 0"
      ],
      "metadata": {
        "colab": {
          "base_uri": "https://localhost:8080/"
        },
        "id": "WebgiG8dwQWF",
        "outputId": "dffe2afc-51c8-44ed-b98c-8ef46767f73d"
      },
      "execution_count": null,
      "outputs": [
        {
          "output_type": "stream",
          "name": "stdout",
          "text": [
            "0\n",
            "1\n",
            "1\n",
            "0\n"
          ]
        }
      ]
    },
    {
      "cell_type": "markdown",
      "source": [
        "# 퍼셉트론\n",
        "\n",
        "- input\n",
        "- weight : 신호(input)의 영향력 제어 \n",
        "- theta(b, 편향) : 뉴런이 얼마나 쉽게 활성화되느냐를 제어\n",
        "- output : 결과값\n",
        "1. input을 알고리즘에 따라 계산하여 output을 출력\n",
        "2. weight(가중치)와 theta(-b, 편향)을 매개변수로 설정\n",
        "3. 층을 깊게 쌓아 다양한 것을 표현할 수 있다.\n",
        "4. 단층(1층) 퍼셉트론 : AND, OR, NAND과 같이 선형으로 표현(분류)할 수 있는 문제(계단 함수, 임계값이 경계인 함수)\n",
        "5. 다층(2층 이상) 퍼셉트론으로 XOR gate같은 문제를 비선형(곡선)으로 표현(분류)할 수 있다.\n",
        "\n",
        "  - x1, x2 -> y1\n",
        "  - => y1, y2 -> result\n",
        "\n",
        "# 신경망\n",
        "\n",
        "weight(가중치)를 설정하는 작업을 사람 대신 데이터로부터 자동으로 학습하는 능력을 지닌 것\n",
        "- 입력층\n",
        "- 은닉층\n",
        "- 출력층\n",
        "- 활성화 함수(activation function) : input 신호의 총합을 output 신호로 변환하는 함수\n",
        "  - 총합이 활성화를 일으키는지 정하는 역할\n",
        "  - y = h(a), a= b + x1\\*w1 + x2\\*w2   에서 h\n",
        "\n",
        "node = 뉴런"
      ],
      "metadata": {
        "id": "UaEuJ56yxcTq"
      }
    },
    {
      "cell_type": "markdown",
      "source": [
        "# 활성화 함수"
      ],
      "metadata": {
        "id": "LbEwad952KIa"
      }
    },
    {
      "cell_type": "code",
      "source": [
        "import numpy as np\n",
        "import matplotlib.pylab as plt\n",
        "def sigmoid(x) :  # 시그모이드 함수\n",
        "  return 1 / (1 + np.exp(-x))  # exp : e^x, e : 2.7182...\n",
        "\n",
        "def step_function(x) :  # 계단 함수\n",
        "  return np.array(x > 0, dtype=np.int32)\n",
        "\n",
        "def relu(x) :\n",
        "  return np.maximum(0, x)"
      ],
      "metadata": {
        "id": "YYfaaEg8xFBK"
      },
      "execution_count": 17,
      "outputs": []
    },
    {
      "cell_type": "markdown",
      "source": [
        "## 계단 함수"
      ],
      "metadata": {
        "id": "baMb_GNmpwoD"
      }
    },
    {
      "cell_type": "code",
      "source": [
        "x = np.arange(-5.0, 5.0, 0.1)\n",
        "y = step_function(x)\n",
        "plt.plot(x, y)\n",
        "plt.ylim(-0.1, 1.1) # y축에 범위 지정\n",
        "plt.show()"
      ],
      "metadata": {
        "colab": {
          "base_uri": "https://localhost:8080/",
          "height": 265
        },
        "id": "S7g6A2-FoRLn",
        "outputId": "74a87d8f-6a6c-4502-c277-8c4fa085ba1a"
      },
      "execution_count": 11,
      "outputs": [
        {
          "output_type": "display_data",
          "data": {
            "text/plain": [
              "<Figure size 432x288 with 1 Axes>"
            ],
            "image/png": "[encoded data removed]"
          },
          "metadata": {
            "needs_background": "light"
          }
        }
      ]
    },
    {
      "cell_type": "markdown",
      "source": [
        "## 시그모이드 함수(sigmoid function)\n",
        "\n",
        "- s자 모양\n",
        "- 계단함수는 경계에 따라서 출력이 바뀌는 것에 반해 시그모이드 함수는 부드러운 곡선 형태이며, 출력이 **연속적**으로 변한다.\n",
        "- 이 매끈함이 신경망 학습에서 아주 중요한 역할을 하게 된다. \n",
        "- 공통점\n",
        "  - 입력이 작을 때, 0에 가깝고, 입력이 커지면 출력이 1에 가까워진다.\n",
        "  - 비선형 함수 : 선형이 아닌 함수\n",
        "    - 선형 함수 : 출력이 입력의 상수배만큼 변하는 함수 ( y = ax + b, a,b는 상수 )\n",
        "    - 신경망에서는 활성화 함수로 비선형을 사용해아한다. => 선형 함수 사용 시, 층을 깊게 하는 의미가 없기 때문에 ( a(ax) == cx )"
      ],
      "metadata": {
        "id": "gyeK99GKptZW"
      }
    },
    {
      "cell_type": "code",
      "source": [
        "x = np.arange(-5.0, 5.0, 0.1)\n",
        "y = sigmoid(x)\n",
        "plt.plot(x, y)\n",
        "plt.ylim(-0.1, 1.1) # y축에 범위 지정\n",
        "plt.show()"
      ],
      "metadata": {
        "colab": {
          "base_uri": "https://localhost:8080/",
          "height": 265
        },
        "id": "LPzsMoAfogTp",
        "outputId": "747b9e91-ff8f-4221-91e5-457a6e80b721"
      },
      "execution_count": 14,
      "outputs": [
        {
          "output_type": "display_data",
          "data": {
            "text/plain": [
              "<Figure size 432x288 with 1 Axes>"
            ],
            "image/png": "[encoded data removed]"
          },
          "metadata": {
            "needs_background": "light"
          }
        }
      ]
    },
    {
      "cell_type": "markdown",
      "source": [
        "## ReLU 함수\n",
        "\n",
        "- 입력이 0을 넘으면 그 입력을 그대로 출력, 0 이하이면 0을 출력\n"
      ],
      "metadata": {
        "id": "YnRQ_M8dqTAT"
      }
    },
    {
      "cell_type": "code",
      "source": [
        "\n",
        "\n",
        "x = np.arange(-5.0, 5.0, 0.1)\n",
        "y = relu(x)\n",
        "plt.plot(x, y)\n",
        "plt.show()"
      ],
      "metadata": {
        "colab": {
          "base_uri": "https://localhost:8080/",
          "height": 265
        },
        "id": "AL0w2NrbphkZ",
        "outputId": "161968f1-f5f0-4749-993a-77b86193c80a"
      },
      "execution_count": 16,
      "outputs": [
        {
          "output_type": "display_data",
          "data": {
            "text/plain": [
              "<Figure size 432x288 with 1 Axes>"
            ],
            "image/png": "[encoded data removed]"
          },
          "metadata": {
            "needs_background": "light"
          }
        }
      ]
    },
    {
      "cell_type": "markdown",
      "source": [
        "## 다차원 배열 계산 numpy"
      ],
      "metadata": {
        "id": "X3PJUAFursYY"
      }
    },
    {
      "cell_type": "code",
      "source": [
        "a = np.array([1, 2, 3, 4])\n",
        "print(a)\n",
        "print(f'a.shape : {a.shape}, np.ndim : {np.ndim(a)}\\n')\n",
        "\n",
        "a = np.array([[1, 2],[3, 4],[5, 6]])\n",
        "print(a)\n",
        "print(f'a.shape : {a.shape}, np.ndim : {np.ndim(a)}\\n')\n",
        "\n",
        "a = np.array([[1, 1],[1, 1],[1, 1]])\n",
        "b = np.array([[2, 2, 2],[3, 3, 3]])\n",
        "print(f'a.shape : {a.shape}')\n",
        "print(f'b.shape : {b.shape}')\n",
        "print(f'np.dot(a,b) : {np.dot(a,b)}\\n')\n",
        "print('**scalar값이나 1차원 배열을 dot product한다면?**')\n",
        "print(f'np.dot(1, 2) : {np.dot(1, 2)}')\n",
        "print(f'np.dot(np.array([1]), np.array([2])) : {np.dot(np.array([1]), np.array([2]))}')\n",
        "print(f'np.dot(np.array([1, 2, 3]), np.array([2, 2, 2])) :  1*2 + 2*2 + 3*2 = {np.dot(np.array([1,2,3]), np.array([2,2,2]))}')"
      ],
      "metadata": {
        "colab": {
          "base_uri": "https://localhost:8080/"
        },
        "id": "PRX2Qqr5rYdd",
        "outputId": "d8edc816-eae6-49db-9506-9c12a13688ae"
      },
      "execution_count": 68,
      "outputs": [
        {
          "output_type": "stream",
          "name": "stdout",
          "text": [
            "[1 2 3 4]\n",
            "a.shape : (4,), np.ndim : 1\n",
            "\n",
            "[[1 2]\n",
            " [3 4]\n",
            " [5 6]]\n",
            "a.shape : (3, 2), np.ndim : 2\n",
            "\n",
            "a.shape : (3, 2)\n",
            "b.shape : (2, 3)\n",
            "np.dot(a,b) : [[5 5 5]\n",
            " [5 5 5]\n",
            " [5 5 5]]\n",
            "\n",
            "**scalar값이나 1차원 배열을 dot product한다면?**\n",
            "np.dot(1, 2) : 2\n",
            "np.dot(np.array([1]), np.array([2])) : 2\n",
            "np.dot(np.array([1, 2, 3]), np.array([2, 2, 2])) :  1*2 + 2*2 + 3*2 = 12\n"
          ]
        }
      ]
    },
    {
      "cell_type": "markdown",
      "source": [
        "# 신경망 훈련 예시"
      ],
      "metadata": {
        "id": "7lruN7FN1elU"
      }
    },
    {
      "cell_type": "code",
      "source": [
        "# 신경망 훈련 예시\n",
        "print('신경망 훈련 과정 예시 ( 3-layers ) ')\n",
        "X = np.array([1.0, 0.5])\n",
        "W1 = np.array([[0.1, 0.3, 0.5], [0.2, 0.4, 0.6]])\n",
        "B1 = np.array([0.1, 0.2, 0.3])\n",
        "print(f'****input X : {X}****')\n",
        "print(W1)\n",
        "print(B1)\n",
        "print(f'\\nX.shape : {X.shape}')\n",
        "print(f'W1.shape : {W1.shape}')\n",
        "print(f'B1.shape : {B1.shape}\\n')\n",
        "A1 = np.dot(X,W1) + B1\n",
        "print(f'A1 = X(input) * W1(weight) + B1(bias) = {A1}\\n')\n",
        "Z1 = sigmoid(A1)\n",
        "print(f'****Z1 (input->1층) = sigmoid(A1)= {Z1}****')\n",
        "\n",
        "W2 = np.array([[0.1, 0.4], [0.2, 0.5], [0.3, 0.6]])\n",
        "B2 = np.array([0.1, 0.2])\n",
        "print(f'\\nZ1.shape : {Z1.shape}')\n",
        "print(f'W2.shape : {W2.shape}')\n",
        "print(f'B2.shape : {B2.shape}\\n')\n",
        "A2 = np.dot(Z1,W2) + B2\n",
        "print(f'A2 = Z1(layer1 input) * W2(weight) + B2(bias) = {A2}\\n')\n",
        "Z2 = sigmoid(A2)\n",
        "print(f'****Z2 (1층->2층) = sigmoid(A2)= {Z2}****')\n",
        "\n",
        "def classify_function(x) :  # 출력층의 활성화 함수 : 항등 함수(회귀), 시그모이드 함수(2 분류), 소프트맥스 함수(다중 분류)\n",
        "  ret = 0.5 > x\n",
        "  return ret\n",
        "W3 = np.array([[0.1, 0.3], [0.2, 0.4]])\n",
        "B3 = np.array([0.1, 0.2])\n",
        "A3 = np.dot(Z2,W3) + B3\n",
        "Y = classify_function(A3)\n",
        "print(f'\\n****Y ( 분류 결과, 2층 -> 3층(output) ) : {Y}****')"
      ],
      "metadata": {
        "colab": {
          "base_uri": "https://localhost:8080/"
        },
        "id": "0tIeQdfQs3e1",
        "outputId": "00b6b694-d0ef-4880-f5b9-d3f8550c5ec5"
      },
      "execution_count": 71,
      "outputs": [
        {
          "output_type": "stream",
          "name": "stdout",
          "text": [
            "신경망 훈련 과정 예시 ( 3-layers ) \n",
            "****input X : [1.  0.5]****\n",
            "[[0.1 0.3 0.5]\n",
            " [0.2 0.4 0.6]]\n",
            "[0.1 0.2 0.3]\n",
            "\n",
            "X.shape : (2,)\n",
            "W1.shape : (2, 3)\n",
            "B1.shape : (3,)\n",
            "\n",
            "A1 = X(input) * W1(weight) + B1(bias) = [0.3 0.7 1.1]\n",
            "\n",
            "****Z1 (input->1층) = sigmoid(A1)= [0.57444252 0.66818777 0.75026011]****\n",
            "\n",
            "Z1.shape : (3,)\n",
            "W2.shape : (3, 2)\n",
            "B2.shape : (2,)\n",
            "\n",
            "A2 = Z1(layer1 input) * W2(weight) + B2(bias) = [0.51615984 1.21402696]\n",
            "\n",
            "****Z2 (1층->2층) = sigmoid(A2)= [0.62624937 0.7710107 ]****\n",
            "\n",
            "****Y ( 분류 결과, 2층 -> 3층(output) ) : [ True False]****\n"
          ]
        }
      ]
    },
    {
      "cell_type": "code",
      "source": [
        "# 위와 동일\n",
        "def init_network() : \n",
        "  network = {}\n",
        "  network['W1'] = np.array([[0.1, 0.3, 0.5], [0.2, 0.4, 0.6]])\n",
        "  network['B1'] = np.array([0.1, 0.2, 0.3])\n",
        "  network['W2'] = np.array([[0.1, 0.4], [0.2, 0.5], [0.3, 0.6]])\n",
        "  network['B2'] = np.array([0.1, 0.2])\n",
        "  network['W3'] = np.array([[0.1, 0.3], [0.2, 0.4]])\n",
        "  network['B3'] = np.array([0.1, 0.2])\n",
        "  \n",
        "  return network\n",
        "\n",
        "def forward(network, x) :   # 신호가 input -> output으로 전달(순전파, 순방향)\n",
        "  W1, W2, W3 = network['W1'], network['W2'], network['W3']\n",
        "  B1, B2, B3 = network['B1'], network['B2'], network['B3']\n",
        "\n",
        "  A1 = np.dot(X,W1) + B1\n",
        "  Z1 = sigmoid(A1)\n",
        "  A2 = np.dot(Z1,W2) + B2\n",
        "  Z2 = sigmoid(A2)\n",
        "  A3 = np.dot(Z2,W3) + B3\n",
        "  Y = classify_function(A3)\n",
        "  return Y\n",
        "\n",
        "network = init_network()\n",
        "x = np.array([1.0, 0.5])\n",
        "y = forward(network, x)\n",
        "print(y)"
      ],
      "metadata": {
        "colab": {
          "base_uri": "https://localhost:8080/"
        },
        "id": "XEaBSPLztsxX",
        "outputId": "573fed21-dbcc-4741-dca6-078026ec3b35"
      },
      "execution_count": 72,
      "outputs": [
        {
          "output_type": "stream",
          "name": "stdout",
          "text": [
            "[ True False]\n"
          ]
        }
      ]
    },
    {
      "cell_type": "markdown",
      "source": [
        "## 출력층\n",
        "\n",
        "1. 회귀 : 항등 함수 ( identity function ), 소프트맥스 함수 ( softmax function )\n",
        "2. 분류\n",
        "  - 소프트맥스 : 출력 총합이 1이된다. ( 출력값을 확률로 계산할 수 있다. )\n",
        "    - 지수 함수를 계산할 때 어떤 정수를 더하거나 빼더라도 결과는 바뀌지 않는다.\n",
        "    - verflow를 막기 위해 입력 신호 중 최댓값을 이용하는 것이 일반적이다.\n",
        "    - input 값에 input의 최댓값을 빼서 0에 근사하게 만들어 overflow 방지\n",
        "\n"
      ],
      "metadata": {
        "id": "TaDnP_5S1ype"
      }
    },
    {
      "cell_type": "code",
      "source": [
        "def identity_function(x) :\n",
        "  return x\n",
        "\n",
        "def softmax(x) :  # overflow 문제를 고려하여 계산해야한다.\n",
        "  m = np.max(x)\n",
        "  exp_a = np.exp(x - m)\n",
        "  return exp_a / np.sum(exp_a)"
      ],
      "metadata": {
        "id": "MVG5nfbG1W8q"
      },
      "execution_count": 73,
      "outputs": []
    },
    {
      "cell_type": "code",
      "source": [
        ""
      ],
      "metadata": {
        "id": "fdYa45sr2dmK"
      },
      "execution_count": null,
      "outputs": []
    }
  ]
}