{
  "nbformat": 4,
  "nbformat_minor": 0,
  "metadata": {
    "colab": {
      "name": "Ego-Vision 손동작 인식 AI 경진대회.ipynb",
      "provenance": [],
      "machine_shape": "hm",
      "authorship_tag": "ABX9TyMp/7IaaoxZvlTXjjBsAjIM",
      "include_colab_link": true
    },
    "kernelspec": {
      "name": "python3",
      "display_name": "Python 3"
    },
    "language_info": {
      "name": "python"
    },
    "accelerator": "GPU",
    "gpuClass": "standard"
  },
  "cells": [
    {
      "cell_type": "markdown",
      "metadata": {
        "id": "view-in-github",
        "colab_type": "text"
      },
      "source": [
        "<a href=\"https://colab.research.google.com/github/ttogle918/AI_practice/blob/main/Ego_Vision_%EC%86%90%EB%8F%99%EC%9E%91_%EC%9D%B8%EC%8B%9D_AI_%EA%B2%BD%EC%A7%84%EB%8C%80%ED%9A%8C/01_vgg16_baseline.ipynb\" target=\"_parent\"><img src=\"https://colab.research.google.com/assets/colab-badge.svg\" alt=\"Open In Colab\"/></a>"
      ]
    },
    {
      "cell_type": "markdown",
      "source": [
        "# [Baseline] VGG16을 이용한 손동작 예측\n",
        "\n",
        "[[Baseline] VGG16을 이용한 손동작 예측](https://dacon.io/competitions/official/235805/codeshare/3345?page=1&dtype=recent)\n",
        "\n",
        "\n"
      ],
      "metadata": {
        "id": "0ejp6LrnG0zs"
      }
    },
    {
      "cell_type": "code",
      "execution_count": 1,
      "metadata": {
        "colab": {
          "base_uri": "https://localhost:8080/"
        },
        "id": "iIJrx2wj-EAc",
        "outputId": "2199bac9-9ed5-46cd-9c4e-55553be35d96"
      },
      "outputs": [
        {
          "output_type": "stream",
          "name": "stdout",
          "text": [
            "Drive already mounted at /content/drive; to attempt to forcibly remount, call drive.mount(\"/content/drive\", force_remount=True).\n"
          ]
        }
      ],
      "source": [
        "from google.colab import drive\n",
        "drive.mount('/content/drive')"
      ]
    },
    {
      "cell_type": "code",
      "source": [
        "zip_file_path = '/content/drive/MyDrive/Colab Notebooks/dataset/dacon/EgoVision/open.zip'"
      ],
      "metadata": {
        "id": "y6jaWLHR-hQY"
      },
      "execution_count": 2,
      "outputs": []
    },
    {
      "cell_type": "markdown",
      "source": [
        "# 패키지 선언"
      ],
      "metadata": {
        "id": "70SRIvcMHIPq"
      }
    },
    {
      "cell_type": "code",
      "source": [
        "import pandas as pd\n",
        "import numpy as np\n",
        "from glob import glob\n",
        "from io import BytesIO, StringIO\n",
        "import zipfile\n",
        "\n",
        "from PIL import Image\n",
        "import cv2\n",
        "from tqdm import tqdm\n",
        "\n",
        "import os\n",
        "import shutil\n",
        "import json\n",
        "\n",
        "from sklearn.model_selection import train_test_split\n",
        "import tensorflow as tf\n",
        "from tensorflow.keras.preprocessing import image\n",
        "from tensorflow.keras.applications import VGG16\n",
        "from tensorflow.keras.layers import *\n",
        "from tensorflow.keras.models import Model\n",
        "from tensorflow.keras.optimizers import Adam\n",
        "\n",
        "# GPU 환경 설정\n",
        "import os\n",
        "os.environ[\"CUDA_VISIBLE_DEVICES\"]=\"2\"\n",
        "\n",
        "import warnings\n",
        "warnings.filterwarnings(\"ignore\")\n",
        "warnings.simplefilter('ignore')\n",
        "import matplotlib.pyplot as plt"
      ],
      "metadata": {
        "id": "5gSjUvO9GRUx"
      },
      "execution_count": 3,
      "outputs": []
    },
    {
      "cell_type": "code",
      "source": [
        "data_path = 'content'\n",
        "\n",
        "train_path = data_path + '/train'\n",
        "test_path = data_path + '/test'"
      ],
      "metadata": {
        "id": "mu6EG-K6HKoW"
      },
      "execution_count": 4,
      "outputs": []
    },
    {
      "cell_type": "code",
      "source": [
        "def save_img_data(img_list, zip_file_path) :\n",
        "  with zipfile.ZipFile(zip_file_path, 'r') as obj:\n",
        "    for name in img_list :\n",
        "      obj.extract(name)\n",
        "\n",
        "def get_data() :\n",
        "  csv_list, json_list, train_img_list, test_img_list = [], [], [], []\n",
        "  with zipfile.ZipFile(zip_file_path, 'r') as obj:\n",
        "    zip_namelist = obj.namelist()    # name 받아오기\n",
        "    for name in zip_namelist :\n",
        "      if name.endswith('.csv') :\n",
        "        csv_list.append(name)\n",
        "      elif name.endswith('.json') :\n",
        "        json_list.append(name)\n",
        "      elif name.endswith('.png') :\n",
        "        if name.startswith('train/') :\n",
        "          train_img_list.append(name)\n",
        "        elif name.startswith('test/') :\n",
        "          test_img_list.append(name)\n",
        "\n",
        "  id, actor, actions, action_description, image_id, path = [], [], [], [], [], []\n",
        "  with zipfile.ZipFile(zip_file_path, 'r') as obj:\n",
        "    for name in json_list :\n",
        "        readed = obj.open(name)\n",
        "        js = json.load(readed)\n",
        "        length = len(js['annotations'])\n",
        "        try :\n",
        "          action = js['action']\n",
        "          actions.append(action[0])\n",
        "          action_description.append(action[1])\n",
        "\n",
        "        except :\n",
        "          actions.append('')\n",
        "          action_description.append('')\n",
        "\n",
        "        id.append(js['id'])\n",
        "        actor.append(js['actor'])\n",
        "        path.append(name[:name.rindex('/')])\n",
        "    answers = pd.DataFrame({'id' : id, 'path':path, 'action':actions, 'action_description':action_description})\n",
        "  \n",
        "  with zipfile.ZipFile(zip_file_path, 'r') as obj:\n",
        "    for name in csv_list :\n",
        "        readed = obj.read(name)\n",
        "        print(name)\n",
        "        if name[-len('hand_gesture_pose.csv'):] == 'hand_gesture_pose.csv' :\n",
        "          hand_gesture = pd.read_csv(BytesIO(readed))\n",
        "        else :\n",
        "          sample_submission = pd.read_csv(BytesIO(readed))\n",
        "  return train_img_list, test_img_list, answers, hand_gesture, sample_submission"
      ],
      "metadata": {
        "id": "ldnC9qcLX4os"
      },
      "execution_count": 5,
      "outputs": []
    },
    {
      "cell_type": "code",
      "source": [
        "train_img_list, test_img_list, answers, hand_gesture, sample_submission = get_data()"
      ],
      "metadata": {
        "colab": {
          "base_uri": "https://localhost:8080/"
        },
        "id": "RWzBUyBt-qvT",
        "outputId": "633a70ab-7feb-4b52-9b0e-d73da3c65a63"
      },
      "execution_count": 6,
      "outputs": [
        {
          "output_type": "stream",
          "name": "stdout",
          "text": [
            "hand_gesture_pose.csv\n",
            "sample_submission.csv\n"
          ]
        }
      ]
    },
    {
      "cell_type": "code",
      "source": [
        "len(answers.action.unique())"
      ],
      "metadata": {
        "colab": {
          "base_uri": "https://localhost:8080/"
        },
        "id": "wUW-sPHK7ja4",
        "outputId": "20766714-cf93-47cb-fee1-e302c68db46a"
      },
      "execution_count": 7,
      "outputs": [
        {
          "output_type": "execute_result",
          "data": {
            "text/plain": [
              "158"
            ]
          },
          "metadata": {},
          "execution_count": 7
        }
      ]
    },
    {
      "cell_type": "code",
      "source": [
        "hand_gesture.pose_name.unique()"
      ],
      "metadata": {
        "colab": {
          "base_uri": "https://localhost:8080/"
        },
        "id": "s46KUY6PhTEQ",
        "outputId": "d6552303-6828-43ca-bb77-661bc6dcfee7"
      },
      "execution_count": 8,
      "outputs": [
        {
          "output_type": "execute_result",
          "data": {
            "text/plain": [
              "array(['숫자 1', '숫자 2', '숫자 3', '숫자 4', '숫자 5', '숫자 6', '숫자 7', '숫자 8',\n",
              "       '숫자 9', '숫자 0', '손가락 오므리기', '전화모양', '손 안경', '손가락 접기', '손 토끼', '최고',\n",
              "       '약속', '검지,중지 교차', '엄지,중지 붙이기', '엄지,소지 붙이기', '파이팅', '총', '동그라미',\n",
              "       'OK', '빅토리', '부정(엄지손 아래로)', '부정(검지 흔들기)', '손바닥', '약지,소지 가위', '꼬집기',\n",
              "       '엄지,약지 붙이기', '손하트', '네모', '세모', 'X', '숫자1', '숫자2', '숫자6', '숫자7',\n",
              "       '숫자8', '숫자0', '숫자3', '숫자4', '숫자5', '숫자9', '경고(주먹 내밀기)', '주먹쥐기',\n",
              "       '큰하트'], dtype=object)"
            ]
          },
          "metadata": {},
          "execution_count": 8
        }
      ]
    },
    {
      "cell_type": "code",
      "source": [
        "save_img_data(train_img_list, zip_file_path)"
      ],
      "metadata": {
        "id": "oXhjxdA-6BZC"
      },
      "execution_count": 9,
      "outputs": []
    },
    {
      "cell_type": "code",
      "source": [
        "from keras.preprocessing import image\n",
        "# shuffle을 했더니, validation 에 클래스가 전부 들어가지 않았다. label이 없어서 starify하지못함\n",
        "# def get_tfdataset() :\n",
        "#   train_ds = tf.keras.preprocessing.image_dataset_from_directory(\n",
        "#     'train',\n",
        "#     labels=None,\n",
        "#     validation_split=0.2,\n",
        "#     subset=\"training\",\n",
        "#     seed=123,\n",
        "#     image_size=(224, 224))\n",
        "#   val_ds  = tf.keras.preprocessing.image_dataset_from_directory(\n",
        "#     'train',\n",
        "#     labels=None,\n",
        "#     validation_split=0.2,\n",
        "#     subset=\"validation\",\n",
        "#     seed=123,\n",
        "#     image_size=(224, 224))\n",
        "#   return train_ds, val_ds\n",
        "\n",
        "# 메모리 부족 -> generator로 하자!(dataset_from_directory는 fit할 때 label값을 넣으니 y 형태가 맞지 않는다는 에러가 떴다.\n",
        "# dataset을 해제하고 하려 했으나 잘 되지 않았다...)\n",
        "def get_tfdataset() :\n",
        "  arr_train, train_labels = tf.constant([]), []\n",
        "  for name in train_img_list :\n",
        "    img = image.load_img(name, target_size=(224, 224))\n",
        "    img_tensor = image.img_to_array(img)\n",
        "    arr_train = tf.stack([arr_train, img_tensor], axis=0) \n",
        "  \n",
        "    value = answers.action.loc[answers[answers['path'] == name[:name.rindex('/')]].index]\n",
        "    train_labels.extend(value)\n",
        "  print('len label classes : ', len(set(train_labels)))\n",
        "  print(set(train_labels))\n",
        "  print('all labels : ',len(train_labels))\n",
        "  \n",
        "  return arr_train, train_labels"
      ],
      "metadata": {
        "id": "BXK3V6_ClgK_"
      },
      "execution_count": 10,
      "outputs": []
    },
    {
      "cell_type": "code",
      "source": [
        "x_train, y_train = get_tfdataset()"
      ],
      "metadata": {
        "id": "r3DEnXormCVS"
      },
      "execution_count": null,
      "outputs": []
    },
    {
      "cell_type": "code",
      "source": [
        "x_train, y_train = train_ds"
      ],
      "metadata": {
        "id": "gN9gEcaNNEyS"
      },
      "execution_count": null,
      "outputs": []
    },
    {
      "cell_type": "code",
      "source": [
        "import matplotlib.pyplot as plt\n",
        "\n",
        "plt.figure(figsize=(10, 10))\n",
        "for images in x_train[:10]:\n",
        "  for i in range(9):\n",
        "    ax = plt.subplot(3, 3, i + 1)\n",
        "    plt.imshow(images[i].numpy().astype(\"uint8\"))\n",
        "    plt.axis(\"off\")"
      ],
      "metadata": {
        "id": "vdXTYAntNWg8"
      },
      "execution_count": null,
      "outputs": []
    },
    {
      "cell_type": "code",
      "source": [
        "normalization_layer = tf.keras.layers.experimental.preprocessing.Rescaling(1./255)\n",
        "train_ds = train_ds.map(lambda x, y : (normalization_layer(x), y))\n",
        "val_ds = val_ds.map(lambda x, y : (normalization_layer(x), y))\n",
        "\n",
        "image_batch = next(iter(train_ds))\n",
        "first_image = image_batch[0]\n",
        "print(np.min(first_image), np.max(first_image))"
      ],
      "metadata": {
        "colab": {
          "base_uri": "https://localhost:8080/"
        },
        "id": "gCazdktRoZes",
        "outputId": "5579a0ac-39e6-481b-8bbd-bb0830b3c494"
      },
      "execution_count": 275,
      "outputs": [
        {
          "output_type": "stream",
          "name": "stdout",
          "text": [
            "0.0 1.0\n"
          ]
        }
      ]
    },
    {
      "cell_type": "markdown",
      "source": [
        "# Baseline Modeling"
      ],
      "metadata": {
        "id": "hbtxxcPvHvVR"
      }
    },
    {
      "cell_type": "markdown",
      "source": [
        "## Preprocessing"
      ],
      "metadata": {
        "id": "p53Mw9PuH3FR"
      }
    },
    {
      "cell_type": "markdown",
      "source": [
        "# Modeling"
      ],
      "metadata": {
        "id": "DH_za-ROH-kc"
      }
    },
    {
      "cell_type": "code",
      "source": [
        "# len(answers.action.unique())-1 : test의 None값도 포함되어있기 때문에 -1\n",
        "baseModel = VGG16(weights='imagenet', include_top=False)\n",
        "baseModel.trainable = False\n",
        "\n",
        "model_in = Input(shape = (224,224,3))\n",
        "base_model = baseModel(model_in)\n",
        "head_model = AveragePooling2D(pool_size=(7, 7))(base_model)\n",
        "head_model = Flatten(name=\"flatten\")(head_model)\n",
        "head_model = Dense(512, activation=\"relu\")(head_model)\n",
        "head_model = Dropout(0.2)(head_model)\n",
        "head_model = Dense(256, activation=\"relu\")(head_model)\n",
        "head_model = Dropout(0.2)(head_model)\n",
        "model_out = Dense(len(answers.action.unique())-1, activation=\"softmax\")(head_model)\n",
        "\n",
        "model = Model(inputs=model_in, outputs=model_out)\n",
        "\n",
        "model.compile(loss='categorical_crossentropy',optimizer='Adam',metrics=['accuracy'])\n",
        "\n",
        "model.fit(train_ds, validation_data=val_ds, epochs=20)"
      ],
      "metadata": {
        "colab": {
          "base_uri": "https://localhost:8080/",
          "height": 933
        },
        "id": "Fz-7ii4SIAdM",
        "outputId": "da007f37-4f93-4b55-f7ff-5c869c1ed18a"
      },
      "execution_count": 277,
      "outputs": [
        {
          "output_type": "stream",
          "name": "stdout",
          "text": [
            "Epoch 1/20\n"
          ]
        },
        {
          "output_type": "error",
          "ename": "ValueError",
          "evalue": "ignored",
          "traceback": [
            "\u001b[0;31m---------------------------------------------------------------------------\u001b[0m",
            "\u001b[0;31mValueError\u001b[0m                                Traceback (most recent call last)",
            "\u001b[0;32m<ipython-input-277-df8e24b4a453>\u001b[0m in \u001b[0;36m<module>\u001b[0;34m()\u001b[0m\n\u001b[1;32m     17\u001b[0m \u001b[0mmodel\u001b[0m\u001b[0;34m.\u001b[0m\u001b[0mcompile\u001b[0m\u001b[0;34m(\u001b[0m\u001b[0mloss\u001b[0m\u001b[0;34m=\u001b[0m\u001b[0;34m'categorical_crossentropy'\u001b[0m\u001b[0;34m,\u001b[0m\u001b[0moptimizer\u001b[0m\u001b[0;34m=\u001b[0m\u001b[0;34m'Adam'\u001b[0m\u001b[0;34m,\u001b[0m\u001b[0mmetrics\u001b[0m\u001b[0;34m=\u001b[0m\u001b[0;34m[\u001b[0m\u001b[0;34m'accuracy'\u001b[0m\u001b[0;34m]\u001b[0m\u001b[0;34m)\u001b[0m\u001b[0;34m\u001b[0m\u001b[0;34m\u001b[0m\u001b[0m\n\u001b[1;32m     18\u001b[0m \u001b[0;34m\u001b[0m\u001b[0m\n\u001b[0;32m---> 19\u001b[0;31m \u001b[0mmodel\u001b[0m\u001b[0;34m.\u001b[0m\u001b[0mfit\u001b[0m\u001b[0;34m(\u001b[0m\u001b[0mtrain_ds\u001b[0m\u001b[0;34m,\u001b[0m \u001b[0mvalidation_data\u001b[0m\u001b[0;34m=\u001b[0m\u001b[0mval_ds\u001b[0m\u001b[0;34m,\u001b[0m \u001b[0mepochs\u001b[0m\u001b[0;34m=\u001b[0m\u001b[0;36m20\u001b[0m\u001b[0;34m)\u001b[0m\u001b[0;34m\u001b[0m\u001b[0;34m\u001b[0m\u001b[0m\n\u001b[0m",
            "\u001b[0;32m/usr/local/lib/python3.7/dist-packages/keras/utils/traceback_utils.py\u001b[0m in \u001b[0;36merror_handler\u001b[0;34m(*args, **kwargs)\u001b[0m\n\u001b[1;32m     65\u001b[0m     \u001b[0;32mexcept\u001b[0m \u001b[0mException\u001b[0m \u001b[0;32mas\u001b[0m \u001b[0me\u001b[0m\u001b[0;34m:\u001b[0m  \u001b[0;31m# pylint: disable=broad-except\u001b[0m\u001b[0;34m\u001b[0m\u001b[0;34m\u001b[0m\u001b[0m\n\u001b[1;32m     66\u001b[0m       \u001b[0mfiltered_tb\u001b[0m \u001b[0;34m=\u001b[0m \u001b[0m_process_traceback_frames\u001b[0m\u001b[0;34m(\u001b[0m\u001b[0me\u001b[0m\u001b[0;34m.\u001b[0m\u001b[0m__traceback__\u001b[0m\u001b[0;34m)\u001b[0m\u001b[0;34m\u001b[0m\u001b[0;34m\u001b[0m\u001b[0m\n\u001b[0;32m---> 67\u001b[0;31m       \u001b[0;32mraise\u001b[0m \u001b[0me\u001b[0m\u001b[0;34m.\u001b[0m\u001b[0mwith_traceback\u001b[0m\u001b[0;34m(\u001b[0m\u001b[0mfiltered_tb\u001b[0m\u001b[0;34m)\u001b[0m \u001b[0;32mfrom\u001b[0m \u001b[0;32mNone\u001b[0m\u001b[0;34m\u001b[0m\u001b[0;34m\u001b[0m\u001b[0m\n\u001b[0m\u001b[1;32m     68\u001b[0m     \u001b[0;32mfinally\u001b[0m\u001b[0;34m:\u001b[0m\u001b[0;34m\u001b[0m\u001b[0;34m\u001b[0m\u001b[0m\n\u001b[1;32m     69\u001b[0m       \u001b[0;32mdel\u001b[0m \u001b[0mfiltered_tb\u001b[0m\u001b[0;34m\u001b[0m\u001b[0;34m\u001b[0m\u001b[0m\n",
            "\u001b[0;32m/usr/local/lib/python3.7/dist-packages/tensorflow/python/framework/func_graph.py\u001b[0m in \u001b[0;36mautograph_handler\u001b[0;34m(*args, **kwargs)\u001b[0m\n\u001b[1;32m   1145\u001b[0m           \u001b[0;32mexcept\u001b[0m \u001b[0mException\u001b[0m \u001b[0;32mas\u001b[0m \u001b[0me\u001b[0m\u001b[0;34m:\u001b[0m  \u001b[0;31m# pylint:disable=broad-except\u001b[0m\u001b[0;34m\u001b[0m\u001b[0;34m\u001b[0m\u001b[0m\n\u001b[1;32m   1146\u001b[0m             \u001b[0;32mif\u001b[0m \u001b[0mhasattr\u001b[0m\u001b[0;34m(\u001b[0m\u001b[0me\u001b[0m\u001b[0;34m,\u001b[0m \u001b[0;34m\"ag_error_metadata\"\u001b[0m\u001b[0;34m)\u001b[0m\u001b[0;34m:\u001b[0m\u001b[0;34m\u001b[0m\u001b[0;34m\u001b[0m\u001b[0m\n\u001b[0;32m-> 1147\u001b[0;31m               \u001b[0;32mraise\u001b[0m \u001b[0me\u001b[0m\u001b[0;34m.\u001b[0m\u001b[0mag_error_metadata\u001b[0m\u001b[0;34m.\u001b[0m\u001b[0mto_exception\u001b[0m\u001b[0;34m(\u001b[0m\u001b[0me\u001b[0m\u001b[0;34m)\u001b[0m\u001b[0;34m\u001b[0m\u001b[0;34m\u001b[0m\u001b[0m\n\u001b[0m\u001b[1;32m   1148\u001b[0m             \u001b[0;32melse\u001b[0m\u001b[0;34m:\u001b[0m\u001b[0;34m\u001b[0m\u001b[0;34m\u001b[0m\u001b[0m\n\u001b[1;32m   1149\u001b[0m               \u001b[0;32mraise\u001b[0m\u001b[0;34m\u001b[0m\u001b[0;34m\u001b[0m\u001b[0m\n",
            "\u001b[0;31mValueError\u001b[0m: in user code:\n\n    File \"/usr/local/lib/python3.7/dist-packages/keras/engine/training.py\", line 1021, in train_function  *\n        return step_function(self, iterator)\n    File \"/usr/local/lib/python3.7/dist-packages/keras/engine/training.py\", line 1010, in step_function  **\n        outputs = model.distribute_strategy.run(run_step, args=(data,))\n    File \"/usr/local/lib/python3.7/dist-packages/keras/engine/training.py\", line 1000, in run_step  **\n        outputs = model.train_step(data)\n    File \"/usr/local/lib/python3.7/dist-packages/keras/engine/training.py\", line 860, in train_step\n        loss = self.compute_loss(x, y, y_pred, sample_weight)\n    File \"/usr/local/lib/python3.7/dist-packages/keras/engine/training.py\", line 919, in compute_loss\n        y, y_pred, sample_weight, regularization_losses=self.losses)\n    File \"/usr/local/lib/python3.7/dist-packages/keras/engine/compile_utils.py\", line 201, in __call__\n        loss_value = loss_obj(y_t, y_p, sample_weight=sw)\n    File \"/usr/local/lib/python3.7/dist-packages/keras/losses.py\", line 141, in __call__\n        losses = call_fn(y_true, y_pred)\n    File \"/usr/local/lib/python3.7/dist-packages/keras/losses.py\", line 245, in call  **\n        return ag_fn(y_true, y_pred, **self._fn_kwargs)\n    File \"/usr/local/lib/python3.7/dist-packages/keras/losses.py\", line 1790, in categorical_crossentropy\n        y_true, y_pred, from_logits=from_logits, axis=axis)\n    File \"/usr/local/lib/python3.7/dist-packages/keras/backend.py\", line 5083, in categorical_crossentropy\n        target.shape.assert_is_compatible_with(output.shape)\n\n    ValueError: Shapes () and (None, 157) are incompatible\n"
          ]
        }
      ]
    },
    {
      "cell_type": "code",
      "source": [
        "predictions = []\n",
        "for test_image in tqdm(test_images, total = len(test_images)) : \n",
        "    prediction = np.mean(model.predict(np.array(test_image)), axis = 0)\n",
        "    predictions.append(prediction)\n",
        "\n",
        "sample_submission.iloc[:,1:] = predictions\n",
        "display(sample_submission.head())\n",
        "sample_submission.to_csv('./BASELINE.csv', index=False)"
      ],
      "metadata": {
        "id": "hGbqgv8oIB92"
      },
      "execution_count": null,
      "outputs": []
    },
    {
      "cell_type": "code",
      "source": [
        ""
      ],
      "metadata": {
        "id": "32ugaRopX16J"
      },
      "execution_count": null,
      "outputs": []
    }
  ]
}