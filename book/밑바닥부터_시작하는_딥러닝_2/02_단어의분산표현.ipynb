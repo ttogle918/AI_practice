{
  "nbformat": 4,
  "nbformat_minor": 0,
  "metadata": {
    "colab": {
      "name": "02_단어의분산표현.ipynb",
      "provenance": [],
      "authorship_tag": "ABX9TyOWc5u8vRH/mAaBfpztScDw",
      "include_colab_link": true
    },
    "kernelspec": {
      "name": "python3",
      "display_name": "Python 3"
    },
    "language_info": {
      "name": "python"
    }
  },
  "cells": [
    {
      "cell_type": "markdown",
      "metadata": {
        "id": "view-in-github",
        "colab_type": "text"
      },
      "source": [
        "<a href=\"https://colab.research.google.com/github/ttogle918/AI_practice/blob/main/book/%EB%B0%91%EB%B0%94%EB%8B%A5%EB%B6%80%ED%84%B0_%EC%8B%9C%EC%9E%91%ED%95%98%EB%8A%94_%EB%94%A5%EB%9F%AC%EB%8B%9D_2/02_%EB%8B%A8%EC%96%B4%EC%9D%98%EB%B6%84%EC%82%B0%ED%91%9C%ED%98%84.ipynb\" target=\"_parent\"><img src=\"https://colab.research.google.com/assets/colab-badge.svg\" alt=\"Open In Colab\"/></a>"
      ]
    },
    {
      "cell_type": "code",
      "execution_count": 2,
      "metadata": {
        "colab": {
          "base_uri": "https://localhost:8080/"
        },
        "id": "uLVyHgXxUJtw",
        "outputId": "d5852470-5e74-41c6-c7d5-da00cef65667"
      },
      "outputs": [
        {
          "output_type": "stream",
          "name": "stdout",
          "text": [
            "corpus : [0 1 2 3 4 1 5 6]\n",
            "word_to_id : {'you': 0, 'say': 1, 'goodbye': 2, 'and': 3, 'i': 4, 'hello': 5, '.': 6}\n",
            "id_to_word : {0: 'you', 1: 'say', 2: 'goodbye', 3: 'and', 4: 'i', 5: 'hello', 6: '.'} \n"
          ]
        }
      ],
      "source": [
        "import numpy as np\n",
        "def preprocess(text) :\n",
        "  text = text.lower()\n",
        "  text = text.replace('.', ' .')\n",
        "  words = text.split(' ')\n",
        "\n",
        "  word_to_id, id_to_word = {}, {}\n",
        "  for word in words :\n",
        "    if word not in word_to_id :\n",
        "      new_id = len(word_to_id)\n",
        "      word_to_id[word] = new_id\n",
        "      id_to_word[new_id] = word\n",
        "  corpus = np.array([word_to_id[w] for w in words])\n",
        "  return corpus, word_to_id, id_to_word\n",
        "text = 'You say goodbye and I say hello.'\n",
        "corpus, word_to_id, id_to_word = preprocess(text)\n",
        "print(f'corpus : {corpus}\\nword_to_id : {word_to_id}\\nid_to_word : {id_to_word} ')"
      ]
    },
    {
      "cell_type": "code",
      "source": [
        "def create_co_matrix(corpus, vocab_size, window_size=1) :\n",
        "  corpus_size = len(corpus)\n",
        "  co_matrix = np.zeros((vocab_size, vocab_size), dtype=np.int16)\n",
        "\n",
        "  for idx, word_id in enumerate(corpus) :\n",
        "    for i in range(1, window_size+1):\n",
        "      left_idx = idx - i\n",
        "      right_idx = idx + i\n",
        "      if left_idx >= 0 :\n",
        "        left_word_id = corpus[left_idx]\n",
        "        co_matrix[word_id, left_word_id] += 1\n",
        "      if right_idx < corpus_size :\n",
        "        right_word_id = corpus[right_idx]\n",
        "        co_matrix[word_id, right_word_id] += 1\n",
        "  return co_matrix\n",
        "print(word_to_id.keys())\n",
        "print(create_co_matrix(corpus, len(word_to_id), window_size=1), '\\n----------------')\n",
        "print(create_co_matrix(corpus, len(word_to_id), window_size=2), '\\n----------------')\n",
        "print(create_co_matrix(corpus, len(word_to_id), window_size=3))"
      ],
      "metadata": {
        "colab": {
          "base_uri": "https://localhost:8080/"
        },
        "id": "W73UZfvcU3z5",
        "outputId": "a07f4555-76c9-42db-d3aa-68bb16e802d0"
      },
      "execution_count": 7,
      "outputs": [
        {
          "output_type": "stream",
          "name": "stdout",
          "text": [
            "dict_keys(['you', 'say', 'goodbye', 'and', 'i', 'hello', '.'])\n",
            "[[0 1 0 0 0 0 0]\n",
            " [1 0 1 0 1 1 0]\n",
            " [0 1 0 1 0 0 0]\n",
            " [0 0 1 0 1 0 0]\n",
            " [0 1 0 1 0 0 0]\n",
            " [0 1 0 0 0 0 1]\n",
            " [0 0 0 0 0 1 0]] \n",
            "----------------\n",
            "[[0 1 1 0 0 0 0]\n",
            " [1 0 1 2 1 1 1]\n",
            " [1 1 0 1 1 0 0]\n",
            " [0 2 1 0 1 0 0]\n",
            " [0 1 1 1 0 1 0]\n",
            " [0 1 0 0 1 0 1]\n",
            " [0 1 0 0 0 1 0]] \n",
            "----------------\n",
            "[[0 1 1 1 0 0 0]\n",
            " [1 0 2 2 2 1 1]\n",
            " [1 2 0 1 1 0 0]\n",
            " [1 2 1 0 1 1 0]\n",
            " [0 2 1 1 0 1 1]\n",
            " [0 1 0 1 1 0 1]\n",
            " [0 1 0 0 1 1 0]]\n"
          ]
        }
      ]
    },
    {
      "cell_type": "code",
      "source": [
        "def cos_similarity(x, y, eps=1e-08) :\n",
        "  nx = x / np.sqrt(np.sum(x**2) + eps)  # x 정규화, eps는 0으로 나눔 방지\n",
        "  ny = y / np.sqrt(np.sum(y**2) + eps)  # y 정규화\n",
        "  return np.dot(nx, ny)\n",
        "C = create_co_matrix(corpus, len(word_to_id), window_size=1)\n",
        "c0 = C[word_to_id['you']]\n",
        "c1 = C[word_to_id['i']]\n",
        "print(cos_similarity(c0, c1))"
      ],
      "metadata": {
        "colab": {
          "base_uri": "https://localhost:8080/"
        },
        "id": "PbCZwYVFZNfZ",
        "outputId": "7aec1e9b-c936-43d7-e51e-0b7a46187a62"
      },
      "execution_count": 8,
      "outputs": [
        {
          "output_type": "stream",
          "name": "stdout",
          "text": [
            "0.7071067758832467\n"
          ]
        }
      ]
    },
    {
      "cell_type": "code",
      "source": [
        "def most_similar(query, word_to_id, id_to_word, word_matrix, top=5):\n",
        "    '''유사 단어 검색\n",
        "    :param query: 쿼리(텍스트)\n",
        "    :param word_to_id: 단어에서 단어 ID로 변환하는 딕셔너리\n",
        "    :param id_to_word: 단어 ID에서 단어로 변환하는 딕셔너리\n",
        "    :param word_matrix: 단어 벡터를 정리한 행렬. 각 행에 해당 단어 벡터가 저장되어 있다고 가정한다.\n",
        "    :param top: 상위 몇 개까지 출력할 지 지정\n",
        "    '''\n",
        "    if query not in word_to_id:\n",
        "        print('%s(을)를 찾을 수 없습니다.' % query)\n",
        "        return\n",
        "\n",
        "    print('\\n[query] ' + query)\n",
        "    query_id = word_to_id[query]\n",
        "    query_vec = word_matrix[query_id]\n",
        "\n",
        "    # 코사인 유사도 계산\n",
        "    vocab_size = len(id_to_word)\n",
        "\n",
        "    similarity = np.zeros(vocab_size)\n",
        "    for i in range(vocab_size):\n",
        "        similarity[i] = cos_similarity(word_matrix[i], query_vec)\n",
        "\n",
        "    # 코사인 유사도를 기준으로 내림차순으로 출력\n",
        "    count = 0\n",
        "    for i in (-1 * similarity).argsort():\n",
        "        if id_to_word[i] == query:\n",
        "            continue\n",
        "        print(' %s: %s' % (id_to_word[i], similarity[i]))\n",
        "\n",
        "        count += 1\n",
        "        if count >= top:\n",
        "            return\n",
        "most_similar('you', word_to_id, id_to_word, C, top=5)"
      ],
      "metadata": {
        "colab": {
          "base_uri": "https://localhost:8080/"
        },
        "id": "_vqdvuS8hABk",
        "outputId": "42dbb89b-2dd6-4675-b9fe-17b77350d3a9"
      },
      "execution_count": 10,
      "outputs": [
        {
          "output_type": "stream",
          "name": "stdout",
          "text": [
            "\n",
            "[query] you\n",
            " goodbye: 0.7071067758832467\n",
            " i: 0.7071067758832467\n",
            " hello: 0.7071067758832467\n",
            " say: 0.0\n",
            " and: 0.0\n"
          ]
        }
      ]
    },
    {
      "cell_type": "code",
      "source": [
        ""
      ],
      "metadata": {
        "id": "XzgWliWIiBmh"
      },
      "execution_count": null,
      "outputs": []
    }
  ]
}